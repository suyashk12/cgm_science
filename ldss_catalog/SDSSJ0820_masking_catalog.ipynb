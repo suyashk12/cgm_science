{
 "cells": [
  {
   "cell_type": "code",
   "execution_count": 1,
   "id": "bdbd6ca3",
   "metadata": {},
   "outputs": [],
   "source": [
    "import numpy as np\n",
    "import matplotlib.pyplot as plt\n",
    "from astropy.io import fits\n",
    "from astropy import constants, units\n",
    "from astropy.coordinates import Angle\n",
    "from scipy.optimize import curve_fit\n",
    "import pandas as pd\n",
    "import os\n",
    "from scipy.signal import medfilt\n",
    "from astropy.wcs import WCS\n",
    "import scipy.integrate as integrate\n",
    "import re"
   ]
  },
  {
   "cell_type": "code",
   "execution_count": 2,
   "id": "b729653d",
   "metadata": {},
   "outputs": [],
   "source": [
    "rootdir = '/Users/thepoetoftwilight/Documents/CUBS/Data/SDSSJ0820/HST_images/'"
   ]
  },
  {
   "cell_type": "markdown",
   "id": "d0baad31",
   "metadata": {},
   "source": [
    "Load in the quasar and the alignment star"
   ]
  },
  {
   "cell_type": "code",
   "execution_count": 3,
   "id": "54fbc259",
   "metadata": {},
   "outputs": [],
   "source": [
    "with open(rootdir+'alignment_stars.reg', 'r') as file:\n",
    "    qso_star_lines = [line.rstrip() for line in file]"
   ]
  },
  {
   "cell_type": "code",
   "execution_count": 4,
   "id": "0f60f54d",
   "metadata": {},
   "outputs": [],
   "source": [
    "star_lines = []\n",
    "\n",
    "for l in qso_star_lines:\n",
    "    if 'circle' in l:\n",
    "        if 'cyan' in l:\n",
    "            qso_line = l\n",
    "        else:\n",
    "            star_lines.append(l)"
   ]
  },
  {
   "cell_type": "code",
   "execution_count": 5,
   "id": "6c692b9d",
   "metadata": {},
   "outputs": [],
   "source": [
    "qso_ra = np.float_(qso_line.split(',')[0][7:])\n",
    "qso_dec = np.float_(qso_line.split(',')[1])"
   ]
  },
  {
   "cell_type": "code",
   "execution_count": 6,
   "id": "47dd0fb8",
   "metadata": {},
   "outputs": [],
   "source": [
    "star_ra_list = []\n",
    "star_dec_list = []\n",
    "\n",
    "for i in range(len(star_lines)):\n",
    "    star_ra_list.append(star_lines[i].split(',')[0][7:])\n",
    "    star_dec_list.append(star_lines[i].split(',')[1])"
   ]
  },
  {
   "cell_type": "markdown",
   "id": "126372e7",
   "metadata": {},
   "source": [
    "Load in the photometry catalog"
   ]
  },
  {
   "cell_type": "code",
   "execution_count": 7,
   "id": "aa455faf",
   "metadata": {},
   "outputs": [],
   "source": [
    "df = pd.read_csv(rootdir+'f814w_photometry.dat')"
   ]
  },
  {
   "cell_type": "code",
   "execution_count": 8,
   "id": "d53e6f77",
   "metadata": {},
   "outputs": [
    {
     "data": {
      "text/html": [
       "<div>\n",
       "<style scoped>\n",
       "    .dataframe tbody tr th:only-of-type {\n",
       "        vertical-align: middle;\n",
       "    }\n",
       "\n",
       "    .dataframe tbody tr th {\n",
       "        vertical-align: top;\n",
       "    }\n",
       "\n",
       "    .dataframe thead th {\n",
       "        text-align: right;\n",
       "    }\n",
       "</style>\n",
       "<table border=\"1\" class=\"dataframe\">\n",
       "  <thead>\n",
       "    <tr style=\"text-align: right;\">\n",
       "      <th></th>\n",
       "      <th>ID</th>\n",
       "      <th>RA</th>\n",
       "      <th>Dec</th>\n",
       "      <th>f814w_mag</th>\n",
       "    </tr>\n",
       "  </thead>\n",
       "  <tbody>\n",
       "    <tr>\n",
       "      <th>0</th>\n",
       "      <td>1</td>\n",
       "      <td>125.201927</td>\n",
       "      <td>3.961462</td>\n",
       "      <td>19.31</td>\n",
       "    </tr>\n",
       "    <tr>\n",
       "      <th>1</th>\n",
       "      <td>2</td>\n",
       "      <td>125.195620</td>\n",
       "      <td>3.945078</td>\n",
       "      <td>17.09</td>\n",
       "    </tr>\n",
       "    <tr>\n",
       "      <th>2</th>\n",
       "      <td>3</td>\n",
       "      <td>125.192319</td>\n",
       "      <td>3.939630</td>\n",
       "      <td>17.35</td>\n",
       "    </tr>\n",
       "    <tr>\n",
       "      <th>3</th>\n",
       "      <td>4</td>\n",
       "      <td>125.190413</td>\n",
       "      <td>3.934016</td>\n",
       "      <td>22.88</td>\n",
       "    </tr>\n",
       "    <tr>\n",
       "      <th>4</th>\n",
       "      <td>5</td>\n",
       "      <td>125.190404</td>\n",
       "      <td>3.933479</td>\n",
       "      <td>17.64</td>\n",
       "    </tr>\n",
       "    <tr>\n",
       "      <th>...</th>\n",
       "      <td>...</td>\n",
       "      <td>...</td>\n",
       "      <td>...</td>\n",
       "      <td>...</td>\n",
       "    </tr>\n",
       "    <tr>\n",
       "      <th>11592</th>\n",
       "      <td>53</td>\n",
       "      <td>125.150662</td>\n",
       "      <td>3.975402</td>\n",
       "      <td>27.08</td>\n",
       "    </tr>\n",
       "    <tr>\n",
       "      <th>11593</th>\n",
       "      <td>54</td>\n",
       "      <td>125.163473</td>\n",
       "      <td>3.993751</td>\n",
       "      <td>28.42</td>\n",
       "    </tr>\n",
       "    <tr>\n",
       "      <th>11594</th>\n",
       "      <td>55</td>\n",
       "      <td>125.169464</td>\n",
       "      <td>4.002043</td>\n",
       "      <td>27.41</td>\n",
       "    </tr>\n",
       "    <tr>\n",
       "      <th>11595</th>\n",
       "      <td>56</td>\n",
       "      <td>125.171514</td>\n",
       "      <td>4.004531</td>\n",
       "      <td>27.12</td>\n",
       "    </tr>\n",
       "    <tr>\n",
       "      <th>11596</th>\n",
       "      <td>57</td>\n",
       "      <td>125.176768</td>\n",
       "      <td>4.001988</td>\n",
       "      <td>24.16</td>\n",
       "    </tr>\n",
       "  </tbody>\n",
       "</table>\n",
       "<p>11597 rows × 4 columns</p>\n",
       "</div>"
      ],
      "text/plain": [
       "       ID          RA       Dec  f814w_mag\n",
       "0       1  125.201927  3.961462      19.31\n",
       "1       2  125.195620  3.945078      17.09\n",
       "2       3  125.192319  3.939630      17.35\n",
       "3       4  125.190413  3.934016      22.88\n",
       "4       5  125.190404  3.933479      17.64\n",
       "...    ..         ...       ...        ...\n",
       "11592  53  125.150662  3.975402      27.08\n",
       "11593  54  125.163473  3.993751      28.42\n",
       "11594  55  125.169464  4.002043      27.41\n",
       "11595  56  125.171514  4.004531      27.12\n",
       "11596  57  125.176768  4.001988      24.16\n",
       "\n",
       "[11597 rows x 4 columns]"
      ]
     },
     "execution_count": 8,
     "metadata": {},
     "output_type": "execute_result"
    }
   ],
   "source": [
    "df"
   ]
  },
  {
   "cell_type": "markdown",
   "id": "9fb4a06d",
   "metadata": {},
   "source": [
    "Identify the alignment stars in the catalog"
   ]
  },
  {
   "cell_type": "code",
   "execution_count": 9,
   "id": "4be18129",
   "metadata": {},
   "outputs": [],
   "source": [
    "def calc_phi(alpha_1, delta_1, alpha_2, delta_2):\n",
    "    \n",
    "    cos_phi = np.dot([np.cos(delta_1)*np.cos(alpha_1), np.cos(delta_1)*np.sin(alpha_1), np.sin(delta_1)],\n",
    "                      [np.cos(delta_2)*np.cos(alpha_2), np.cos(delta_2)*np.sin(alpha_2), np.sin(delta_2)])\n",
    "    \n",
    "    phi = np.arccos(cos_phi)\n",
    "    \n",
    "    return phi"
   ]
  },
  {
   "cell_type": "code",
   "execution_count": 10,
   "id": "209de60b",
   "metadata": {},
   "outputs": [],
   "source": [
    "df['alignment_star'] = -1*np.ones(len(df))"
   ]
  },
  {
   "cell_type": "code",
   "execution_count": 11,
   "id": "8e22e2e0",
   "metadata": {},
   "outputs": [],
   "source": [
    "for i in range(len(star_ra_list)):\n",
    "    \n",
    "    star_ra = Angle(star_ra_list[i], units.deg).rad\n",
    "    star_dec = Angle(star_dec_list[i], units.deg).rad\n",
    "    \n",
    "    phi_arr = np.zeros(len(df))\n",
    "    \n",
    "    for j in range(len(df)):\n",
    "        \n",
    "        ra = Angle(df.loc[j, 'RA'], units.deg).rad\n",
    "        dec = Angle(df.loc[j, 'Dec'], units.deg).rad\n",
    "        \n",
    "        phi = (calc_phi(star_ra, star_dec, ra, dec)*units.rad).to(units.arcsecond).value\n",
    "        \n",
    "        phi_arr[j] = phi\n",
    "        \n",
    "    df.loc[np.argmin(phi_arr), 'alignment_star'] = 1.0"
   ]
  },
  {
   "cell_type": "markdown",
   "id": "c3cbdd6d",
   "metadata": {},
   "source": [
    "Compute distances of all objects from the quasar"
   ]
  },
  {
   "cell_type": "code",
   "execution_count": 12,
   "id": "ec3616bb",
   "metadata": {},
   "outputs": [],
   "source": [
    "df['theta'] = -1*np.ones(len(df))"
   ]
  },
  {
   "cell_type": "code",
   "execution_count": 13,
   "id": "a088a456",
   "metadata": {},
   "outputs": [],
   "source": [
    "theta_arr = np.zeros(len(df))\n",
    "\n",
    "for i in range(len(df)):\n",
    "\n",
    "    ra = Angle(df.loc[i, 'RA'], units.deg).rad\n",
    "    dec = Angle(df.loc[i, 'Dec'], units.deg).rad    \n",
    "    \n",
    "    theta_arr[i] = (calc_phi(ra, dec, qso_ra*np.pi/180, qso_dec*np.pi/180)*units.rad).to(units.arcsecond).value\n",
    "    \n",
    "df['theta'] = theta_arr"
   ]
  },
  {
   "cell_type": "code",
   "execution_count": 14,
   "id": "edcb95c4",
   "metadata": {},
   "outputs": [
    {
     "data": {
      "text/html": [
       "<div>\n",
       "<style scoped>\n",
       "    .dataframe tbody tr th:only-of-type {\n",
       "        vertical-align: middle;\n",
       "    }\n",
       "\n",
       "    .dataframe tbody tr th {\n",
       "        vertical-align: top;\n",
       "    }\n",
       "\n",
       "    .dataframe thead th {\n",
       "        text-align: right;\n",
       "    }\n",
       "</style>\n",
       "<table border=\"1\" class=\"dataframe\">\n",
       "  <thead>\n",
       "    <tr style=\"text-align: right;\">\n",
       "      <th></th>\n",
       "      <th>ID</th>\n",
       "      <th>RA</th>\n",
       "      <th>Dec</th>\n",
       "      <th>f814w_mag</th>\n",
       "      <th>alignment_star</th>\n",
       "      <th>theta</th>\n",
       "    </tr>\n",
       "  </thead>\n",
       "  <tbody>\n",
       "    <tr>\n",
       "      <th>0</th>\n",
       "      <td>1</td>\n",
       "      <td>125.201927</td>\n",
       "      <td>3.961462</td>\n",
       "      <td>19.31</td>\n",
       "      <td>-1.0</td>\n",
       "      <td>27.037703</td>\n",
       "    </tr>\n",
       "    <tr>\n",
       "      <th>1</th>\n",
       "      <td>2</td>\n",
       "      <td>125.195620</td>\n",
       "      <td>3.945078</td>\n",
       "      <td>17.09</td>\n",
       "      <td>1.0</td>\n",
       "      <td>58.388870</td>\n",
       "    </tr>\n",
       "    <tr>\n",
       "      <th>2</th>\n",
       "      <td>3</td>\n",
       "      <td>125.192319</td>\n",
       "      <td>3.939630</td>\n",
       "      <td>17.35</td>\n",
       "      <td>1.0</td>\n",
       "      <td>78.198202</td>\n",
       "    </tr>\n",
       "    <tr>\n",
       "      <th>3</th>\n",
       "      <td>4</td>\n",
       "      <td>125.190413</td>\n",
       "      <td>3.934016</td>\n",
       "      <td>22.88</td>\n",
       "      <td>-1.0</td>\n",
       "      <td>99.090061</td>\n",
       "    </tr>\n",
       "    <tr>\n",
       "      <th>4</th>\n",
       "      <td>5</td>\n",
       "      <td>125.190404</td>\n",
       "      <td>3.933479</td>\n",
       "      <td>17.64</td>\n",
       "      <td>1.0</td>\n",
       "      <td>101.006188</td>\n",
       "    </tr>\n",
       "    <tr>\n",
       "      <th>...</th>\n",
       "      <td>...</td>\n",
       "      <td>...</td>\n",
       "      <td>...</td>\n",
       "      <td>...</td>\n",
       "      <td>...</td>\n",
       "      <td>...</td>\n",
       "    </tr>\n",
       "    <tr>\n",
       "      <th>11592</th>\n",
       "      <td>53</td>\n",
       "      <td>125.150662</td>\n",
       "      <td>3.975402</td>\n",
       "      <td>27.08</td>\n",
       "      <td>-1.0</td>\n",
       "      <td>165.138352</td>\n",
       "    </tr>\n",
       "    <tr>\n",
       "      <th>11593</th>\n",
       "      <td>54</td>\n",
       "      <td>125.163473</td>\n",
       "      <td>3.993751</td>\n",
       "      <td>28.42</td>\n",
       "      <td>-1.0</td>\n",
       "      <td>161.326104</td>\n",
       "    </tr>\n",
       "    <tr>\n",
       "      <th>11594</th>\n",
       "      <td>55</td>\n",
       "      <td>125.169464</td>\n",
       "      <td>4.002043</td>\n",
       "      <td>27.41</td>\n",
       "      <td>-1.0</td>\n",
       "      <td>172.003734</td>\n",
       "    </tr>\n",
       "    <tr>\n",
       "      <th>11595</th>\n",
       "      <td>56</td>\n",
       "      <td>125.171514</td>\n",
       "      <td>4.004531</td>\n",
       "      <td>27.12</td>\n",
       "      <td>-1.0</td>\n",
       "      <td>176.155719</td>\n",
       "    </tr>\n",
       "    <tr>\n",
       "      <th>11596</th>\n",
       "      <td>57</td>\n",
       "      <td>125.176768</td>\n",
       "      <td>4.001988</td>\n",
       "      <td>24.16</td>\n",
       "      <td>-1.0</td>\n",
       "      <td>159.738918</td>\n",
       "    </tr>\n",
       "  </tbody>\n",
       "</table>\n",
       "<p>11597 rows × 6 columns</p>\n",
       "</div>"
      ],
      "text/plain": [
       "       ID          RA       Dec  f814w_mag  alignment_star       theta\n",
       "0       1  125.201927  3.961462      19.31            -1.0   27.037703\n",
       "1       2  125.195620  3.945078      17.09             1.0   58.388870\n",
       "2       3  125.192319  3.939630      17.35             1.0   78.198202\n",
       "3       4  125.190413  3.934016      22.88            -1.0   99.090061\n",
       "4       5  125.190404  3.933479      17.64             1.0  101.006188\n",
       "...    ..         ...       ...        ...             ...         ...\n",
       "11592  53  125.150662  3.975402      27.08            -1.0  165.138352\n",
       "11593  54  125.163473  3.993751      28.42            -1.0  161.326104\n",
       "11594  55  125.169464  4.002043      27.41            -1.0  172.003734\n",
       "11595  56  125.171514  4.004531      27.12            -1.0  176.155719\n",
       "11596  57  125.176768  4.001988      24.16            -1.0  159.738918\n",
       "\n",
       "[11597 rows x 6 columns]"
      ]
     },
     "execution_count": 14,
     "metadata": {},
     "output_type": "execute_result"
    }
   ],
   "source": [
    "df"
   ]
  },
  {
   "cell_type": "markdown",
   "id": "3e60842a",
   "metadata": {},
   "source": [
    "Sort now by $\\theta$ and magnitudes"
   ]
  },
  {
   "cell_type": "code",
   "execution_count": 15,
   "id": "d9208105",
   "metadata": {},
   "outputs": [
    {
     "data": {
      "text/plain": [
       "Text(0, 0.5, 'Counts')"
      ]
     },
     "execution_count": 15,
     "metadata": {},
     "output_type": "execute_result"
    },
    {
     "data": {
      "image/png": "[encoded data removed]",
      "text/plain": [
       "<Figure size 1500x700 with 1 Axes>"
      ]
     },
     "metadata": {},
     "output_type": "display_data"
    }
   ],
   "source": [
    "fig, ax = plt.subplots(1, figsize=(15,7))\n",
    "ax.hist(df['theta'], bins=40)\n",
    "\n",
    "ax.set_xlabel(r'$\\theta$ (arcseconds)')\n",
    "ax.set_ylabel('Counts')"
   ]
  },
  {
   "cell_type": "code",
   "execution_count": 16,
   "id": "c17cdcfe",
   "metadata": {},
   "outputs": [],
   "source": [
    "theta_partitions = [0,50,100,150,200]"
   ]
  },
  {
   "cell_type": "code",
   "execution_count": 17,
   "id": "6032da69",
   "metadata": {},
   "outputs": [],
   "source": [
    "df_sorted = pd.DataFrame(columns=df.columns)"
   ]
  },
  {
   "cell_type": "code",
   "execution_count": 18,
   "id": "3528148e",
   "metadata": {},
   "outputs": [
    {
     "name": "stderr",
     "output_type": "stream",
     "text": [
      "/var/folders/tj/vc_wjrpj36sf3zws4s7s770c0000gn/T/ipykernel_4221/136537916.py:8: FutureWarning: The frame.append method is deprecated and will be removed from pandas in a future version. Use pandas.concat instead.\n",
      "  df_sorted = df_sorted.append(df_slice)\n",
      "/var/folders/tj/vc_wjrpj36sf3zws4s7s770c0000gn/T/ipykernel_4221/136537916.py:8: FutureWarning: The frame.append method is deprecated and will be removed from pandas in a future version. Use pandas.concat instead.\n",
      "  df_sorted = df_sorted.append(df_slice)\n",
      "/var/folders/tj/vc_wjrpj36sf3zws4s7s770c0000gn/T/ipykernel_4221/136537916.py:8: FutureWarning: The frame.append method is deprecated and will be removed from pandas in a future version. Use pandas.concat instead.\n",
      "  df_sorted = df_sorted.append(df_slice)\n",
      "/var/folders/tj/vc_wjrpj36sf3zws4s7s770c0000gn/T/ipykernel_4221/136537916.py:8: FutureWarning: The frame.append method is deprecated and will be removed from pandas in a future version. Use pandas.concat instead.\n",
      "  df_sorted = df_sorted.append(df_slice)\n"
     ]
    }
   ],
   "source": [
    "for i in range(len(theta_partitions)-1):\n",
    "    \n",
    "    theta_min = theta_partitions[i]\n",
    "    theta_max = theta_partitions[i+1]\n",
    "    \n",
    "    df_slice = df.loc[(df['theta']>=theta_min)&(df['theta']<=theta_max)].sort_values('f814w_mag')\n",
    "        \n",
    "    df_sorted = df_sorted.append(df_slice)"
   ]
  },
  {
   "cell_type": "markdown",
   "id": "d0cb5e46",
   "metadata": {},
   "source": [
    "Now, retain only the galaxies between a magnitude of 14 and 21"
   ]
  },
  {
   "cell_type": "code",
   "execution_count": 19,
   "id": "c7772a6d",
   "metadata": {},
   "outputs": [],
   "source": [
    "df_gals = df_sorted.loc[((df_sorted['f814w_mag']>=14)&(df_sorted['f814w_mag']<=21))&(df_sorted['alignment_star']==-1.0)]"
   ]
  },
  {
   "cell_type": "code",
   "execution_count": 20,
   "id": "024a7760",
   "metadata": {},
   "outputs": [
    {
     "name": "stderr",
     "output_type": "stream",
     "text": [
      "/var/folders/tj/vc_wjrpj36sf3zws4s7s770c0000gn/T/ipykernel_4221/3936126659.py:1: FutureWarning: The frame.append method is deprecated and will be removed from pandas in a future version. Use pandas.concat instead.\n",
      "  df_gals = df_gals.append(df.loc[[709, 863, 1284, 1497, 1720,\n"
     ]
    }
   ],
   "source": [
    "df_gals = df_gals.append(df.loc[[709, 863, 1284, 1497, 1720,\n",
    "                                 782, 561, 549, 420, 2400, \n",
    "                                 1707, 2697, 2601, 2682, 2633, 2852]])"
   ]
  },
  {
   "cell_type": "code",
   "execution_count": 21,
   "id": "2b379e98",
   "metadata": {},
   "outputs": [
    {
     "data": {
      "text/html": [
       "<div>\n",
       "<style scoped>\n",
       "    .dataframe tbody tr th:only-of-type {\n",
       "        vertical-align: middle;\n",
       "    }\n",
       "\n",
       "    .dataframe tbody tr th {\n",
       "        vertical-align: top;\n",
       "    }\n",
       "\n",
       "    .dataframe thead th {\n",
       "        text-align: right;\n",
       "    }\n",
       "</style>\n",
       "<table border=\"1\" class=\"dataframe\">\n",
       "  <thead>\n",
       "    <tr style=\"text-align: right;\">\n",
       "      <th></th>\n",
       "      <th>ID</th>\n",
       "      <th>RA</th>\n",
       "      <th>Dec</th>\n",
       "      <th>f814w_mag</th>\n",
       "      <th>alignment_star</th>\n",
       "      <th>theta</th>\n",
       "    </tr>\n",
       "  </thead>\n",
       "  <tbody>\n",
       "    <tr>\n",
       "      <th>750</th>\n",
       "      <td>751</td>\n",
       "      <td>125.186744</td>\n",
       "      <td>3.965137</td>\n",
       "      <td>16.33</td>\n",
       "      <td>-1.0</td>\n",
       "      <td>30.855137</td>\n",
       "    </tr>\n",
       "    <tr>\n",
       "      <th>6952</th>\n",
       "      <td>1138</td>\n",
       "      <td>125.199560</td>\n",
       "      <td>3.952235</td>\n",
       "      <td>18.85</td>\n",
       "      <td>-1.0</td>\n",
       "      <td>37.373544</td>\n",
       "    </tr>\n",
       "    <tr>\n",
       "      <th>1137</th>\n",
       "      <td>1138</td>\n",
       "      <td>125.192638</td>\n",
       "      <td>3.961605</td>\n",
       "      <td>18.85</td>\n",
       "      <td>-1.0</td>\n",
       "      <td>6.459124</td>\n",
       "    </tr>\n",
       "    <tr>\n",
       "      <th>6700</th>\n",
       "      <td>886</td>\n",
       "      <td>125.197656</td>\n",
       "      <td>3.949458</td>\n",
       "      <td>19.00</td>\n",
       "      <td>-1.0</td>\n",
       "      <td>44.035363</td>\n",
       "    </tr>\n",
       "    <tr>\n",
       "      <th>885</th>\n",
       "      <td>886</td>\n",
       "      <td>125.183683</td>\n",
       "      <td>3.954236</td>\n",
       "      <td>19.00</td>\n",
       "      <td>-1.0</td>\n",
       "      <td>46.041090</td>\n",
       "    </tr>\n",
       "    <tr>\n",
       "      <th>...</th>\n",
       "      <td>...</td>\n",
       "      <td>...</td>\n",
       "      <td>...</td>\n",
       "      <td>...</td>\n",
       "      <td>...</td>\n",
       "      <td>...</td>\n",
       "    </tr>\n",
       "    <tr>\n",
       "      <th>2697</th>\n",
       "      <td>2698</td>\n",
       "      <td>125.188896</td>\n",
       "      <td>3.978039</td>\n",
       "      <td>24.78</td>\n",
       "      <td>-1.0</td>\n",
       "      <td>63.585861</td>\n",
       "    </tr>\n",
       "    <tr>\n",
       "      <th>2601</th>\n",
       "      <td>2602</td>\n",
       "      <td>125.188403</td>\n",
       "      <td>3.978254</td>\n",
       "      <td>23.04</td>\n",
       "      <td>-1.0</td>\n",
       "      <td>64.889214</td>\n",
       "    </tr>\n",
       "    <tr>\n",
       "      <th>2682</th>\n",
       "      <td>2683</td>\n",
       "      <td>125.188073</td>\n",
       "      <td>3.978047</td>\n",
       "      <td>23.34</td>\n",
       "      <td>-1.0</td>\n",
       "      <td>64.594214</td>\n",
       "    </tr>\n",
       "    <tr>\n",
       "      <th>2633</th>\n",
       "      <td>2634</td>\n",
       "      <td>125.187651</td>\n",
       "      <td>3.978275</td>\n",
       "      <td>21.30</td>\n",
       "      <td>-1.0</td>\n",
       "      <td>65.905193</td>\n",
       "    </tr>\n",
       "    <tr>\n",
       "      <th>2852</th>\n",
       "      <td>2853</td>\n",
       "      <td>125.187595</td>\n",
       "      <td>3.978866</td>\n",
       "      <td>23.95</td>\n",
       "      <td>-1.0</td>\n",
       "      <td>67.959795</td>\n",
       "    </tr>\n",
       "  </tbody>\n",
       "</table>\n",
       "<p>181 rows × 6 columns</p>\n",
       "</div>"
      ],
      "text/plain": [
       "        ID          RA       Dec  f814w_mag  alignment_star      theta\n",
       "750    751  125.186744  3.965137      16.33            -1.0  30.855137\n",
       "6952  1138  125.199560  3.952235      18.85            -1.0  37.373544\n",
       "1137  1138  125.192638  3.961605      18.85            -1.0   6.459124\n",
       "6700   886  125.197656  3.949458      19.00            -1.0  44.035363\n",
       "885    886  125.183683  3.954236      19.00            -1.0  46.041090\n",
       "...    ...         ...       ...        ...             ...        ...\n",
       "2697  2698  125.188896  3.978039      24.78            -1.0  63.585861\n",
       "2601  2602  125.188403  3.978254      23.04            -1.0  64.889214\n",
       "2682  2683  125.188073  3.978047      23.34            -1.0  64.594214\n",
       "2633  2634  125.187651  3.978275      21.30            -1.0  65.905193\n",
       "2852  2853  125.187595  3.978866      23.95            -1.0  67.959795\n",
       "\n",
       "[181 rows x 6 columns]"
      ]
     },
     "execution_count": 21,
     "metadata": {},
     "output_type": "execute_result"
    }
   ],
   "source": [
    "df_gals"
   ]
  },
  {
   "cell_type": "code",
   "execution_count": 22,
   "id": "9b5ef78e",
   "metadata": {},
   "outputs": [],
   "source": [
    "ra_sorted = []\n",
    "dec_sorted = []\n",
    "theta_sorted = []\n",
    "mag_sorted = []"
   ]
  },
  {
   "cell_type": "code",
   "execution_count": 23,
   "id": "76db94fd",
   "metadata": {},
   "outputs": [],
   "source": [
    "for i in range(len(theta_partitions)-1):\n",
    "    \n",
    "    theta_min = theta_partitions[i]\n",
    "    theta_max = theta_partitions[i+1]\n",
    "    \n",
    "    df_slice = df_gals.loc[(df_gals['theta']>=theta_min)&(df_gals['theta']<=theta_max)].sort_values('f814w_mag')\n",
    "                \n",
    "    theta_sorted.append(list(df_slice['theta']))\n",
    "    mag_sorted.append(list(df_slice['f814w_mag']))\n",
    "    ra_sorted.append(list(df_slice['RA']))\n",
    "    dec_sorted.append(list(df_slice['Dec']))"
   ]
  },
  {
   "cell_type": "markdown",
   "id": "b29d1833",
   "metadata": {},
   "source": [
    "Plot the distribution of galaxy magnitudes in each bin away from the quasar"
   ]
  },
  {
   "cell_type": "code",
   "execution_count": 24,
   "id": "b2e2f794",
   "metadata": {},
   "outputs": [],
   "source": [
    "colors = ['salmon', 'olive', 'sandybrown', 'lightblue', 'violet']"
   ]
  },
  {
   "cell_type": "code",
   "execution_count": 25,
   "id": "462fac4e",
   "metadata": {},
   "outputs": [],
   "source": [
    "N_gals = 0"
   ]
  },
  {
   "cell_type": "code",
   "execution_count": 26,
   "id": "98f975bb",
   "metadata": {},
   "outputs": [
    {
     "name": "stdout",
     "output_type": "stream",
     "text": [
      "36\n",
      "91\n",
      "26\n",
      "28\n"
     ]
    },
    {
     "data": {
      "text/plain": [
       "Text(0, 0.5, 'Magnitude')"
      ]
     },
     "execution_count": 26,
     "metadata": {},
     "output_type": "execute_result"
    },
    {
     "data": {
      "image/png": "[encoded data removed]",
      "text/plain": [
       "<Figure size 1500x700 with 1 Axes>"
      ]
     },
     "metadata": {},
     "output_type": "display_data"
    }
   ],
   "source": [
    "fig, ax = plt.subplots(1, figsize=(15,7))\n",
    "\n",
    "for i in range(len(theta_sorted)):\n",
    "    print(len(theta_sorted[i]))\n",
    "    N_gals += len(theta_sorted[i])\n",
    "    ax.scatter(theta_sorted[i], mag_sorted[i], color=colors[i], alpha=.5)\n",
    "    \n",
    "for j in range(1,len(theta_partitions)-1):\n",
    "    ax.axvline(theta_partitions[j], color='black', linestyle=':')\n",
    "\n",
    "\n",
    "ax.set_xlabel(r'$\\theta_{QSO}$ (arcseconds)')\n",
    "ax.set_ylabel('Magnitude')"
   ]
  },
  {
   "cell_type": "markdown",
   "id": "e648bcc0",
   "metadata": {},
   "source": [
    "Isolate the alignment stars"
   ]
  },
  {
   "cell_type": "code",
   "execution_count": 27,
   "id": "6625b6d6",
   "metadata": {},
   "outputs": [],
   "source": [
    "df_alignment_stars = df_sorted.loc[((df_sorted['alignment_star']==1.0)&(df_sorted['f814w_mag']>17)&(df_sorted['f814w_mag']<20))]"
   ]
  },
  {
   "cell_type": "code",
   "execution_count": 28,
   "id": "14f17e75",
   "metadata": {},
   "outputs": [
    {
     "data": {
      "text/html": [
       "<div>\n",
       "<style scoped>\n",
       "    .dataframe tbody tr th:only-of-type {\n",
       "        vertical-align: middle;\n",
       "    }\n",
       "\n",
       "    .dataframe tbody tr th {\n",
       "        vertical-align: top;\n",
       "    }\n",
       "\n",
       "    .dataframe thead th {\n",
       "        text-align: right;\n",
       "    }\n",
       "</style>\n",
       "<table border=\"1\" class=\"dataframe\">\n",
       "  <thead>\n",
       "    <tr style=\"text-align: right;\">\n",
       "      <th></th>\n",
       "      <th>ID</th>\n",
       "      <th>RA</th>\n",
       "      <th>Dec</th>\n",
       "      <th>f814w_mag</th>\n",
       "      <th>alignment_star</th>\n",
       "      <th>theta</th>\n",
       "    </tr>\n",
       "  </thead>\n",
       "  <tbody>\n",
       "    <tr>\n",
       "      <th>12</th>\n",
       "      <td>13</td>\n",
       "      <td>125.201815</td>\n",
       "      <td>3.950796</td>\n",
       "      <td>17.27</td>\n",
       "      <td>1.0</td>\n",
       "      <td>46.105691</td>\n",
       "    </tr>\n",
       "    <tr>\n",
       "      <th>1</th>\n",
       "      <td>2</td>\n",
       "      <td>125.195620</td>\n",
       "      <td>3.945078</td>\n",
       "      <td>17.09</td>\n",
       "      <td>1.0</td>\n",
       "      <td>58.388870</td>\n",
       "    </tr>\n",
       "    <tr>\n",
       "      <th>9</th>\n",
       "      <td>10</td>\n",
       "      <td>125.191519</td>\n",
       "      <td>3.934731</td>\n",
       "      <td>17.33</td>\n",
       "      <td>1.0</td>\n",
       "      <td>96.033231</td>\n",
       "    </tr>\n",
       "    <tr>\n",
       "      <th>2</th>\n",
       "      <td>3</td>\n",
       "      <td>125.192319</td>\n",
       "      <td>3.939630</td>\n",
       "      <td>17.35</td>\n",
       "      <td>1.0</td>\n",
       "      <td>78.198202</td>\n",
       "    </tr>\n",
       "    <tr>\n",
       "      <th>3652</th>\n",
       "      <td>3653</td>\n",
       "      <td>125.177906</td>\n",
       "      <td>3.984820</td>\n",
       "      <td>17.03</td>\n",
       "      <td>1.0</td>\n",
       "      <td>103.481319</td>\n",
       "    </tr>\n",
       "    <tr>\n",
       "      <th>5510</th>\n",
       "      <td>5511</td>\n",
       "      <td>125.153045</td>\n",
       "      <td>3.964267</td>\n",
       "      <td>17.59</td>\n",
       "      <td>1.0</td>\n",
       "      <td>148.922961</td>\n",
       "    </tr>\n",
       "    <tr>\n",
       "      <th>4</th>\n",
       "      <td>5</td>\n",
       "      <td>125.190404</td>\n",
       "      <td>3.933479</td>\n",
       "      <td>17.64</td>\n",
       "      <td>1.0</td>\n",
       "      <td>101.006188</td>\n",
       "    </tr>\n",
       "    <tr>\n",
       "      <th>4930</th>\n",
       "      <td>4931</td>\n",
       "      <td>125.154427</td>\n",
       "      <td>3.967076</td>\n",
       "      <td>17.70</td>\n",
       "      <td>1.0</td>\n",
       "      <td>145.086638</td>\n",
       "    </tr>\n",
       "    <tr>\n",
       "      <th>2230</th>\n",
       "      <td>2231</td>\n",
       "      <td>125.170360</td>\n",
       "      <td>3.946842</td>\n",
       "      <td>18.21</td>\n",
       "      <td>1.0</td>\n",
       "      <td>100.729117</td>\n",
       "    </tr>\n",
       "    <tr>\n",
       "      <th>4538</th>\n",
       "      <td>4539</td>\n",
       "      <td>125.160858</td>\n",
       "      <td>3.966690</td>\n",
       "      <td>18.28</td>\n",
       "      <td>1.0</td>\n",
       "      <td>122.049731</td>\n",
       "    </tr>\n",
       "    <tr>\n",
       "      <th>3632</th>\n",
       "      <td>3633</td>\n",
       "      <td>125.162460</td>\n",
       "      <td>3.951196</td>\n",
       "      <td>18.50</td>\n",
       "      <td>1.0</td>\n",
       "      <td>120.291691</td>\n",
       "    </tr>\n",
       "    <tr>\n",
       "      <th>4179</th>\n",
       "      <td>4180</td>\n",
       "      <td>125.163616</td>\n",
       "      <td>3.961238</td>\n",
       "      <td>18.62</td>\n",
       "      <td>1.0</td>\n",
       "      <td>110.562900</td>\n",
       "    </tr>\n",
       "  </tbody>\n",
       "</table>\n",
       "</div>"
      ],
      "text/plain": [
       "        ID          RA       Dec  f814w_mag  alignment_star       theta\n",
       "12      13  125.201815  3.950796      17.27             1.0   46.105691\n",
       "1        2  125.195620  3.945078      17.09             1.0   58.388870\n",
       "9       10  125.191519  3.934731      17.33             1.0   96.033231\n",
       "2        3  125.192319  3.939630      17.35             1.0   78.198202\n",
       "3652  3653  125.177906  3.984820      17.03             1.0  103.481319\n",
       "5510  5511  125.153045  3.964267      17.59             1.0  148.922961\n",
       "4        5  125.190404  3.933479      17.64             1.0  101.006188\n",
       "4930  4931  125.154427  3.967076      17.70             1.0  145.086638\n",
       "2230  2231  125.170360  3.946842      18.21             1.0  100.729117\n",
       "4538  4539  125.160858  3.966690      18.28             1.0  122.049731\n",
       "3632  3633  125.162460  3.951196      18.50             1.0  120.291691\n",
       "4179  4180  125.163616  3.961238      18.62             1.0  110.562900"
      ]
     },
     "execution_count": 28,
     "metadata": {},
     "output_type": "execute_result"
    }
   ],
   "source": [
    "df_alignment_stars"
   ]
  },
  {
   "cell_type": "markdown",
   "id": "dd7853a4",
   "metadata": {},
   "source": [
    "Next, the galaxies. First assign priority scores to the galaxies. The brightest galaxy in the closest bin to the quasar will have a priority of -1, while the dimmest will have a priority of +1."
   ]
  },
  {
   "cell_type": "code",
   "execution_count": 29,
   "id": "ef8e026f",
   "metadata": {},
   "outputs": [],
   "source": [
    "priorities_sorted = []"
   ]
  },
  {
   "cell_type": "code",
   "execution_count": 30,
   "id": "e3887ebb",
   "metadata": {
    "scrolled": true
   },
   "outputs": [],
   "source": [
    "count = 0\n",
    "bin_size = len(theta_sorted[0])\n",
    "\n",
    "for i in range(len(theta_sorted)):\n",
    "    priorities_sorted.append([])\n",
    "    for j in range(len(theta_sorted[i])):\n",
    "        \n",
    "        priorities_sorted[i].append(-1 + 2*(count/(bin_size-1)))\n",
    "        \n",
    "        # This puts the brightest closest galaxy at -1 and the dimmest farthest at 1\n",
    "        #priorities_sorted[i].append(-1 + 2*(count/(N_gals-1)))\n",
    "        count += 1"
   ]
  },
  {
   "cell_type": "markdown",
   "id": "730d2328",
   "metadata": {},
   "source": [
    "Write a regions file to visalize this properly"
   ]
  },
  {
   "cell_type": "code",
   "execution_count": 31,
   "id": "ed3fe863",
   "metadata": {},
   "outputs": [],
   "source": [
    "colors_ds9 = ['pink', 'green', 'yellow', 'cyan', 'white']"
   ]
  },
  {
   "cell_type": "code",
   "execution_count": 32,
   "id": "9a0165e2",
   "metadata": {},
   "outputs": [],
   "source": [
    "with open(rootdir+'ldss_galaxies.reg', 'w') as f:\n",
    "    \n",
    "    # Make the annular regions\n",
    "    #for i in range(1, len(theta_partitions)-1):\n",
    "    #    f.write('\\ncircle(08:20:46.2, +03:57:42.1, {}\") #color = gray'.format(theta_partitions[i]))\n",
    "        \n",
    "    f.write('#RA Dec Mag')\n",
    "    # Mark the alignment stars\n",
    "    for i in range(len(df_alignment_stars)):\n",
    "\n",
    "        idx = df_alignment_stars.index[i]\n",
    "\n",
    "        ra = Angle(df_alignment_stars.loc[idx,'RA'], units.deg).hms\n",
    "        dec = Angle(df_alignment_stars.loc[idx,'Dec'], units.deg).dms\n",
    "        mag = df_alignment_stars.loc[idx,'f814w_mag']\n",
    "\n",
    "        ra_label = '%02d'%int(ra[0])+':'+'%02d'%int(ra[1])+':'+'%.2f'%np.round(ra[2],2)\n",
    "        dec_label = '+'+'%02d'%int(dec[0])+':'+'%02d'%int(dec[1])+':'+'%04.1f'%np.round(dec[2],1)\n",
    "\n",
    "        f.write('\\ncircle('+ra_label+','+dec_label+', 1.0\") #color=' + 'red' + ' text={'+'%.4f'%np.round(mag, 2)+'}')\n",
    "\n",
    "    # Mark the galaxies\n",
    "    for i in range(len(ra_sorted)):\n",
    "\n",
    "        ra_list = ra_sorted[i]\n",
    "        dec_list = dec_sorted[i]\n",
    "        mag_list = mag_sorted[i]\n",
    "        theta_list = theta_sorted[i]\n",
    "        priorities_list = priorities_sorted[i]\n",
    "\n",
    "        for j in range(len(ra_list)):\n",
    "\n",
    "            ra = Angle(ra_list[j], units.deg).hms\n",
    "            dec = Angle(dec_list[j], units.deg).dms\n",
    "            mag = mag_list[j]\n",
    "            theta = theta_list[j]\n",
    "            p = priorities_list[j]\n",
    "\n",
    "            ra_label = '%02d'%int(ra[0])+':'+'%02d'%int(ra[1])+':'+'%.2f'%np.round(ra[2],2)\n",
    "            dec_label = '+'+'%02d'%int(dec[0])+':'+'%02d'%int(dec[1])+':'+'%04.1f'%np.round(dec[2],1)\n",
    "\n",
    "            f.write('\\ncircle('+ra_label+','+dec_label+', 1.0\") #color='+colors_ds9[i]+' text={'+'%.2f'%np.round(mag, 2)+','+'%.2f'%np.round(theta, 2)+','+'%.2f'%np.round(p, 2)+'}')    \n",
    "    \n",
    "            \n",
    "            "
   ]
  },
  {
   "cell_type": "code",
   "execution_count": null,
   "id": "c0a2afba",
   "metadata": {},
   "outputs": [],
   "source": []
  }
 ],
 "metadata": {
  "kernelspec": {
   "display_name": "Python 3 (ipykernel)",
   "language": "python",
   "name": "python3"
  },
  "language_info": {
   "codemirror_mode": {
    "name": "ipython",
    "version": 3
   },
   "file_extension": ".py",
   "mimetype": "text/x-python",
   "name": "python",
   "nbconvert_exporter": "python",
   "pygments_lexer": "ipython3",
   "version": "3.9.13"
  }
 },
 "nbformat": 4,
 "nbformat_minor": 5
}
