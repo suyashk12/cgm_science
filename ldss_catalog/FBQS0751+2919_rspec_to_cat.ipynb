{
 "cells": [
  {
   "cell_type": "code",
   "execution_count": 1,
   "id": "45c0c4a0",
   "metadata": {},
   "outputs": [],
   "source": [
    "import numpy as np\n",
    "import matplotlib.pyplot as plt\n",
    "from astropy.io import fits\n",
    "from astropy import constants, units\n",
    "from astropy.coordinates import Angle\n",
    "from scipy.optimize import curve_fit\n",
    "import pandas as pd\n",
    "import os\n",
    "from scipy.signal import medfilt\n",
    "from astropy.wcs import WCS\n",
    "import scipy.integrate as integrate\n",
    "import re"
   ]
  },
  {
   "cell_type": "code",
   "execution_count": 2,
   "id": "acd7c286",
   "metadata": {},
   "outputs": [],
   "source": [
    "rootdir = '/Users/thepoetoftwilight/Documents/CUBS/Data/FBQS0751+2919/HST_images/'"
   ]
  },
  {
   "cell_type": "code",
   "execution_count": 3,
   "id": "1643bfa1",
   "metadata": {},
   "outputs": [],
   "source": [
    "with open(rootdir + 'ldss_galaxies_edited.reg', 'r') as file:\n",
    "    lines = [line.rstrip() for line in file]"
   ]
  },
  {
   "cell_type": "code",
   "execution_count": 4,
   "id": "53aadc41",
   "metadata": {},
   "outputs": [],
   "source": [
    "star_lines = [l for l in lines if 'red' in l]"
   ]
  },
  {
   "cell_type": "code",
   "execution_count": 5,
   "id": "774cc627",
   "metadata": {},
   "outputs": [],
   "source": [
    "star_ras = [star_lines[i].split()[0][7:-1].split(',')[0] for i in range(len(star_lines))] \n",
    "star_decs = [star_lines[i].split()[0][7:-1].split(',')[1] for i in range(len(star_lines))]\n",
    "star_mags = [star_lines[i].split()[-1][6:-1] for i in range(len(star_lines))]"
   ]
  },
  {
   "cell_type": "code",
   "execution_count": 6,
   "id": "d02cead5",
   "metadata": {},
   "outputs": [],
   "source": [
    "gal_lines = [l for l in lines if 'red' not in l and 'circle' in l]"
   ]
  },
  {
   "cell_type": "code",
   "execution_count": 7,
   "id": "27dacfa8",
   "metadata": {},
   "outputs": [],
   "source": [
    "gal_ras = [gal_lines[i].split()[0][7:-1].split(',')[0] for i in range(len(gal_lines))] \n",
    "gal_decs = [gal_lines[i].split()[0][7:-1].split(',')[1] for i in range(len(gal_lines))]\n",
    "gal_mags = [gal_lines[i].split()[-1][6:-1].split(',')[0] for i in range(len(gal_lines))]\n",
    "gal_thetas = [gal_lines[i].split()[-1][6:-1].split(',')[1] for i in range(len(gal_lines))]\n",
    "gal_ps = [gal_lines[i].split()[-1][6:-1].split(',')[2] for i in range(len(gal_lines))]"
   ]
  },
  {
   "cell_type": "code",
   "execution_count": 8,
   "id": "0bdf2792",
   "metadata": {},
   "outputs": [],
   "source": [
    "with open(rootdir+'FBQS0751.cat', 'w') as f:\n",
    "    \n",
    "    # First write out the alignment stars\n",
    "    \n",
    "    f.write('#Reference ID RA Dec HST_I_mag')\n",
    "    \n",
    "    for i in range(len(star_lines)):\n",
    "\n",
    "        ra = star_ras[i]\n",
    "        dec = star_decs[i]\n",
    "        mag = star_mags[i]\n",
    "\n",
    "        f.write('\\n*star' + str(i) + ' ' + ra + ' ' + dec + ' # ' + mag)\n",
    "        \n",
    "    # Then write out the galaxies\n",
    "    \n",
    "    f.write('\\n#Object ID RA Dec Priority HST_I_mag theta')\n",
    "\n",
    "    for i in range(len(gal_lines)):\n",
    "        \n",
    "        ra = gal_ras[i]\n",
    "        dec = gal_decs[i]\n",
    "        mag = gal_mags[i]   \n",
    "        theta = gal_thetas[i]\n",
    "        p = gal_ps[i]\n",
    "\n",
    "        f.write('\\n@gal' + str(i) + ' ' + ra + ' ' + dec + ' ' + p + ' # ' + mag + ' ' + theta)            "
   ]
  },
  {
   "cell_type": "code",
   "execution_count": null,
   "id": "313f79b9",
   "metadata": {},
   "outputs": [],
   "source": []
  }
 ],
 "metadata": {
  "kernelspec": {
   "display_name": "Python 3 (ipykernel)",
   "language": "python",
   "name": "python3"
  },
  "language_info": {
   "codemirror_mode": {
    "name": "ipython",
    "version": 3
   },
   "file_extension": ".py",
   "mimetype": "text/x-python",
   "name": "python",
   "nbconvert_exporter": "python",
   "pygments_lexer": "ipython3",
   "version": "3.9.13"
  }
 },
 "nbformat": 4,
 "nbformat_minor": 5
}
