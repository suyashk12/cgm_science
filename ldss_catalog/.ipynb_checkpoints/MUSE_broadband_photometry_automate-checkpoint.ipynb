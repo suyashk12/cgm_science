{
 "cells": [
  {
   "cell_type": "code",
   "execution_count": 1,
   "metadata": {},
   "outputs": [],
   "source": [
    "import numpy as np\n",
    "import matplotlib.pyplot as plt\n",
    "from astropy.io import fits\n",
    "from astropy import constants, units\n",
    "from astropy.coordinates import Angle\n",
    "from scipy.optimize import curve_fit\n",
    "import pandas as pd\n",
    "import os"
   ]
  },
  {
   "cell_type": "code",
   "execution_count": 2,
   "metadata": {},
   "outputs": [],
   "source": [
    "rootdir = '/Users/thepoetoftwilight/Documents/CUBS/Data/PG1522+101/MUSE/'"
   ]
  },
  {
   "cell_type": "markdown",
   "metadata": {},
   "source": [
    "Load in the segmentation map for galaxy IDs, coordinates, and redshifts"
   ]
  },
  {
   "cell_type": "code",
   "execution_count": 3,
   "metadata": {},
   "outputs": [],
   "source": [
    "cat_file = np.loadtxt(rootdir + 'test_new_updated.cat')"
   ]
  },
  {
   "cell_type": "code",
   "execution_count": 4,
   "metadata": {},
   "outputs": [],
   "source": [
    "# Load in the MUSE file\n",
    "muse_fits = fits.open(rootdir + 'COMBINED_CUBE_MED_FINAL_vac.fits')\n",
    "data_hdu = muse_fits[1]\n",
    "spec_cube = data_hdu.data.copy()"
   ]
  },
  {
   "cell_type": "code",
   "execution_count": 5,
   "metadata": {},
   "outputs": [],
   "source": [
    "# Load in the segmentation file\n",
    "seg_fits = fits.open(rootdir+'test_seg.fits')\n",
    "seg_map = seg_fits[0].data"
   ]
  },
  {
   "cell_type": "markdown",
   "metadata": {},
   "source": [
    "Load in the necessary fields for all the galaxies within this catalog"
   ]
  },
  {
   "cell_type": "code",
   "execution_count": 6,
   "metadata": {},
   "outputs": [],
   "source": [
    "# Galaxy IDs (can help extract the spectra)\n",
    "gal_ids_arr = cat_file[:,0]\n",
    "\n",
    "# Galaxy redshifts\n",
    "gal_z_arr = cat_file[:,12]"
   ]
  },
  {
   "cell_type": "code",
   "execution_count": 7,
   "metadata": {},
   "outputs": [],
   "source": [
    "# Galaxy coordinates, first load in degrees\n",
    "gal_ra_arr_deg = cat_file[:,1]\n",
    "gal_dec_arr_deg = cat_file[:,2]\n",
    "\n",
    "gal_ra_arr_hms = [Angle(ra, units.degree).hms for ra in gal_ra_arr_deg]\n",
    "gal_dec_arr_dms = [Angle(dec, units.degree).dms for dec in gal_dec_arr_deg]\n",
    "\n",
    "gal_ra_arr_hms_str = np.array([str(int(ra[0])) + 'h' + str(int(ra[1])) + 'm' + str(np.round(ra[2],2)) + 's' \n",
    "                 for ra in gal_ra_arr_hms])\n",
    "\n",
    "gal_dec_arr_dms_str = np.array([str(int(dec[0])) + 'd' + str(int(dec[1])) + 'm' + str(np.round(dec[2],2)) + 's' \n",
    "                 for dec in gal_dec_arr_dms])"
   ]
  },
  {
   "cell_type": "code",
   "execution_count": 8,
   "metadata": {},
   "outputs": [],
   "source": [
    "# Galaxy coordinates in physical units\n",
    "gal_x_arr = cat_file[:,3]\n",
    "gal_y_arr = cat_file[:,4]"
   ]
  },
  {
   "cell_type": "code",
   "execution_count": 9,
   "metadata": {},
   "outputs": [],
   "source": [
    "# Define a function to load in the spectrum of a given galaxy\n",
    "def load_spec(rootdir, gal_id):\n",
    "    \n",
    "    # Construct a wavelength array\n",
    "    wav_0 = data_hdu.header['CRVAL3']\n",
    "    del_wav = data_hdu.header['CD3_3']\n",
    "    wav_arr = np.arange(wav_0, wav_0 + (spec_cube.shape[0]-1)*del_wav, del_wav)\n",
    "    \n",
    "    # Isolate coordinates from segmentation map\n",
    "    seg_map_gal_y, seg_map_gal_x = np.where(seg_map==gal_id)\n",
    "\n",
    "    # Get bolometric fluxes for each pixel in the galaxy\n",
    "    flux_gal = np.zeros(len(seg_map_gal_x))\n",
    "    \n",
    "    # Also isolate the spectra for each pixel\n",
    "    spec_stack = np.zeros((len(seg_map_gal_x), len(wav_arr)))\n",
    "    \n",
    "    for j in range(len(seg_map_gal_x)):\n",
    "        \n",
    "        # Get the x and y coordinates\n",
    "        x = seg_map_gal_x[j]\n",
    "        y = seg_map_gal_y[j]\n",
    "\n",
    "        # Get the bolometric flux for this coordinate\n",
    "        flux_gal[j] = np.nansum(spec_cube[:,y,x])\n",
    "        \n",
    "        # Also isolate the spectrum for the pixel\n",
    "        spec_stack[j,:] = spec_cube[:,y,x]\n",
    "        \n",
    "    # These are some bolometric flux cuts to include/ exclude pixels when stacking the spectra\n",
    "    min_flux_gal = np.nanpercentile(flux_gal, 75)\n",
    "    max_flux_gal = np.nanpercentile(flux_gal, 100)\n",
    "    \n",
    "    idx_bright = (flux_gal>=min_flux_gal) & (flux_gal<=max_flux_gal)\n",
    "    \n",
    "    # Undo normalization before saving the spectrum\n",
    "    f_lam = np.nansum(spec_stack[idx_bright], axis=0)*1e-20\n",
    "    \n",
    "    return wav_arr, f_lam"
   ]
  },
  {
   "cell_type": "markdown",
   "metadata": {},
   "source": [
    "From CUBS I, we have the following bandpasses -\n",
    "\n",
    "<blockquote>4800–5800 Å (pseudo g-band), 6000–7000 Å (pseudo r-band), and 7500–8500 Å (pseudo i-band)</blockquote>\n",
    "\n",
    "But in CUBS VI, we modify the bandpass to be -\n",
    "\n",
    "<blockquote>4800-5800 Å (pseudo g-band), 6000-7500 Å (pseudo r-band), and 7500-9000 Å (pseudo i-band)</blockquote>\n",
    "\n",
    "Let's try performing this calculation for all galaxies"
   ]
  },
  {
   "cell_type": "code",
   "execution_count": 10,
   "metadata": {},
   "outputs": [],
   "source": [
    "# Define this for automation later\n",
    "bandpasses_lam = {'pseudo_g': [4800,5800], 'pseudo_r': [6000,7500], 'pseudo_i': [7500,9000]}"
   ]
  },
  {
   "cell_type": "code",
   "execution_count": 11,
   "metadata": {},
   "outputs": [],
   "source": [
    "# Define a function that, given a spectrum, can compute the AB magnitude in a given bandpass\n",
    "\n",
    "def calc_AB_mag(wav, f_lam, bandpass):\n",
    "    \n",
    "    # First, slice up the spectrum to isolate points within the bandpass\n",
    "    bandpass_mask = ((wav>bandpass[0])&(wav<bandpass[1]))\n",
    "    \n",
    "    wav_mask = wav[bandpass_mask]\n",
    "    f_lam_mask = f_lam[bandpass_mask]\n",
    "    \n",
    "    # Then convert f_lam to f_nu\n",
    "    \n",
    "    # Conversion first converts ergs/cm^2/s/Å to W/m^2/m\n",
    "    # Then converts wavelength in Å to wavelength in m\n",
    "    # Then applies the speed of light in m/s\n",
    "    # Then converts f_nu from W/m^2/Hz to Jy=\n",
    "    f_nu_mask = wav_mask**2*f_lam_mask*(3.34e+4)\n",
    "    \n",
    "    # Also get the relevant frequencies (in Hz) in the bandpass\n",
    "    c = 3e+8 # in m/s\n",
    "    nu_mask = c/(wav_mask*1e-10)\n",
    " \n",
    "        \n",
    "    # Compute the magnitude\n",
    "    AB_mag = -2.5*np.log10(np.trapz(y=f_nu_mask/nu_mask, x=nu_mask)/np.trapz(y=3631/nu_mask, x=nu_mask)) \n",
    "            \n",
    "    return AB_mag"
   ]
  },
  {
   "cell_type": "code",
   "execution_count": 12,
   "metadata": {},
   "outputs": [],
   "source": [
    "# Initalize magnitude arrays\n",
    "\n",
    "gal_pseudo_g_arr = np.zeros(len(gal_ids_arr))\n",
    "gal_pseudo_r_arr = np.zeros(len(gal_ids_arr))\n",
    "gal_pseudo_i_arr = np.zeros(len(gal_ids_arr))"
   ]
  },
  {
   "cell_type": "code",
   "execution_count": 13,
   "metadata": {},
   "outputs": [],
   "source": [
    "for i in range(len(gal_ids_arr)):\n",
    "    \n",
    "    # Load in the spectrum of the galaxy\n",
    "    wav, f_lam = load_spec(rootdir, int(gal_ids_arr[i]))\n",
    "    \n",
    "    gal_pseudo_g_arr[i] = calc_AB_mag(wav, f_lam, bandpasses_lam['pseudo_g'])\n",
    "    gal_pseudo_r_arr[i] = calc_AB_mag(wav, f_lam, bandpasses_lam['pseudo_r'])\n",
    "    gal_pseudo_i_arr[i] = calc_AB_mag(wav, f_lam, bandpasses_lam['pseudo_i'])"
   ]
  },
  {
   "cell_type": "markdown",
   "metadata": {},
   "source": [
    "Save everything in a neat catalog"
   ]
  },
  {
   "cell_type": "code",
   "execution_count": 14,
   "metadata": {},
   "outputs": [],
   "source": [
    "with open(rootdir+'pseudo_gri_photometry.dat', 'w') as f:\n",
    "    \n",
    "    f.write('ID,RA,Dec,x,y,pseudo_g_mag,pseudo_r_mag,pseudo_i_mag,z')\n",
    "    \n",
    "    for i in range(len(gal_ids_arr)):\n",
    "        \n",
    "        f.write('\\n'+str(int(gal_ids_arr[i])) + ',' + \n",
    "          str(gal_ra_arr_deg[i]) + ',' + \n",
    "          str(gal_dec_arr_deg[i]) + ',' +\n",
    "          str(gal_x_arr[i]) + ',' +\n",
    "          str(gal_y_arr[i]) + ',' +\n",
    "          str('%.2f'%np.round(gal_pseudo_g_arr[i],2)) + ',' + \n",
    "          str('%.2f'%np.round(gal_pseudo_r_arr[i],2)) + ',' + \n",
    "          str('%.2f'%np.round(gal_pseudo_i_arr[i],2)) + ',' +\n",
    "          str(gal_z_arr[i]))"
   ]
  },
  {
   "cell_type": "code",
   "execution_count": null,
   "metadata": {},
   "outputs": [],
   "source": []
  }
 ],
 "metadata": {
  "kernelspec": {
   "display_name": "Python 3 (ipykernel)",
   "language": "python",
   "name": "python3"
  },
  "language_info": {
   "codemirror_mode": {
    "name": "ipython",
    "version": 3
   },
   "file_extension": ".py",
   "mimetype": "text/x-python",
   "name": "python",
   "nbconvert_exporter": "python",
   "pygments_lexer": "ipython3",
   "version": "3.9.13"
  }
 },
 "nbformat": 4,
 "nbformat_minor": 4
}
