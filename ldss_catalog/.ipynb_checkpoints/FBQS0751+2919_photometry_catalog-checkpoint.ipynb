{
 "cells": [
  {
   "cell_type": "code",
   "execution_count": 1,
   "id": "99d876e2",
   "metadata": {},
   "outputs": [],
   "source": [
    "import numpy as np\n",
    "import matplotlib.pyplot as plt\n",
    "from astropy.io import fits\n",
    "from astropy import constants, units\n",
    "from astropy.coordinates import Angle\n",
    "from scipy.optimize import curve_fit\n",
    "import pandas as pd\n",
    "import os\n",
    "from scipy.signal import medfilt\n",
    "from astropy.wcs import WCS\n",
    "import scipy.integrate as integrate"
   ]
  },
  {
   "cell_type": "code",
   "execution_count": 2,
   "id": "44559b7a",
   "metadata": {},
   "outputs": [],
   "source": [
    "rootdir = '/Users/thepoetoftwilight/Documents/CUBS/Data/FBQS0751+2919/HST_images/'"
   ]
  },
  {
   "cell_type": "markdown",
   "id": "8b128db4",
   "metadata": {},
   "source": [
    "Define utility functions to compute photometry for an HST image based on its FITS file and the segmentation map/ catalog"
   ]
  },
  {
   "cell_type": "code",
   "execution_count": 3,
   "id": "5699f2e7",
   "metadata": {},
   "outputs": [],
   "source": [
    "def hst_photometry_compute(img_fits, seg_fits, cat_file):\n",
    "    \n",
    "    # Get the segmentation map\n",
    "    seg_map = seg_fits[1].data\n",
    "    \n",
    "    # Get coordinates for each identified galaxy in the segmentation map\n",
    "    gal_ids_arr = np.int_(cat_file[:, 0])\n",
    "\n",
    "    gal_ids_coords = {}\n",
    "    \n",
    "    N_gals = len(gal_ids_arr)\n",
    "    \n",
    "    for i in range(len(gal_ids_arr)):\n",
    "        \n",
    "        # Isolate the galaxy ID\n",
    "        gal_id = gal_ids_arr[i]\n",
    "\n",
    "        # Get x, y coordinates of the galaxy\n",
    "        # Once again, remember the transposition\n",
    "        seg_map_gal_y, seg_map_gal_x = np.where(seg_map==gal_id)\n",
    "\n",
    "        gal_ids_coords[gal_id] = []\n",
    "\n",
    "        for j in range(len(seg_map_gal_x)):\n",
    "\n",
    "            # Append the galactic coordinates\n",
    "            gal_ids_coords[gal_id].append([seg_map_gal_y[j], seg_map_gal_x[j]])\n",
    "\n",
    "        gal_ids_coords[gal_id] = np.array(gal_ids_coords[gal_id])\n",
    "        \n",
    "    # Add up fluxes for all galaxies and compute apparent magnitude\n",
    "    \n",
    "    flux_map = img_fits[1].data*(3.34e+4*img_fits[1].header['PHOTPLAM']**2*img_fits[1].header['PHOTFLAM'])\n",
    "    \n",
    "    gal_ids_flux = np.zeros(len(gal_ids_arr))\n",
    "    \n",
    "    for i in range(len(gal_ids_arr)):\n",
    "        \n",
    "        # Get coordinates for the current galaxy\n",
    "        gal_coords = gal_ids_coords[gal_ids_arr[i]]\n",
    "\n",
    "        for j in range(gal_coords.shape[0]):\n",
    "\n",
    "            # Add up fluxes for each coordinate\n",
    "            coords = gal_coords[j]\n",
    "            gal_ids_flux[i] += flux_map[coords[0], coords[1]]\n",
    "            \n",
    "    gal_ids_mag = -2.5*np.log10(gal_ids_flux/3631)\n",
    "    \n",
    "    return gal_ids_mag"
   ]
  },
  {
   "cell_type": "markdown",
   "id": "cc1c49f1",
   "metadata": {},
   "source": [
    "Load in the image, segmentation map, and catalog file for F160W"
   ]
  },
  {
   "cell_type": "code",
   "execution_count": 4,
   "id": "e649223d",
   "metadata": {},
   "outputs": [],
   "source": [
    "img_fits_814w = fits.open(rootdir+'FBQS0751_f814w_drc.fits')\n",
    "seg_fits_814w = fits.open(rootdir+'f814w_seg.fits')\n",
    "cat_file_814w = np.loadtxt(rootdir + 'f814w.cat')"
   ]
  },
  {
   "cell_type": "code",
   "execution_count": null,
   "id": "213e20f6",
   "metadata": {
    "scrolled": true
   },
   "outputs": [],
   "source": [
    "gal_ids_mag_814w = hst_photometry_compute(img_fits_814w, seg_fits_814w, cat_file_814w)"
   ]
  },
  {
   "cell_type": "code",
   "execution_count": null,
   "id": "3b689762",
   "metadata": {},
   "outputs": [],
   "source": [
    "def write_catalog(cat_file, gal_ids_mag, fname, mag_col_name):\n",
    "    \n",
    "    # Galaxy IDs (can help extract the spectra)\n",
    "    gal_ids_arr = cat_file[:,0]\n",
    "    \n",
    "    # Galaxy coordinates, first load in degrees\n",
    "    gal_ra_arr_deg = cat_file[:,1]\n",
    "    gal_dec_arr_deg = cat_file[:,2]\n",
    "    \n",
    "    gal_x_arr = cat_file[:,3]\n",
    "    gal_y_arr = cat_file[:,4]\n",
    "\n",
    "    gal_ra_arr_hms = [Angle(ra, units.degree).hms for ra in gal_ra_arr_deg]\n",
    "    gal_dec_arr_dms = [Angle(dec, units.degree).dms for dec in gal_dec_arr_deg]\n",
    "\n",
    "    gal_ra_arr_hms_str = np.array([str(int(ra[0])) + 'h' + str(int(ra[1])) + 'm' + str(np.round(ra[2],2)) + 's' \n",
    "                     for ra in gal_ra_arr_hms])\n",
    "\n",
    "    gal_dec_arr_dms_str = np.array([str(int(dec[0])) + 'd' + str(int(dec[1])) + 'm' + str(np.round(dec[2],2)) + 's' \n",
    "                     for dec in gal_dec_arr_dms])\n",
    "    \n",
    "    # Save the file name\n",
    "    \n",
    "    with open(fname, 'w') as f:\n",
    "        \n",
    "        f.write('ID,RA,Dec,x,y,'+mag_col_name)      \n",
    "\n",
    "        # Write out the catalog\n",
    "        for i in range(len(gal_ids_arr)):\n",
    "\n",
    "            f.write('\\n'+str(int(gal_ids_arr[i])) + ',' + \n",
    "                  str(gal_ra_arr_deg[i]) + ',' + \n",
    "                  str(gal_dec_arr_deg[i]) + ',' + \n",
    "                  str(gal_x_arr[i]) + ',' + \n",
    "                  str(gal_y_arr[i]) + ',' + \n",
    "                  str('%.2f'%np.round(gal_ids_mag[i],2)))"
   ]
  },
  {
   "cell_type": "code",
   "execution_count": null,
   "id": "3ac5d672",
   "metadata": {},
   "outputs": [],
   "source": [
    "write_catalog(cat_file_814w, gal_ids_mag_814w, rootdir+'f814w_photometry.dat', 'f814w_mag')"
   ]
  },
  {
   "cell_type": "code",
   "execution_count": null,
   "id": "367db21d",
   "metadata": {},
   "outputs": [],
   "source": []
  }
 ],
 "metadata": {
  "kernelspec": {
   "display_name": "Python 3 (ipykernel)",
   "language": "python",
   "name": "python3"
  },
  "language_info": {
   "codemirror_mode": {
    "name": "ipython",
    "version": 3
   },
   "file_extension": ".py",
   "mimetype": "text/x-python",
   "name": "python",
   "nbconvert_exporter": "python",
   "pygments_lexer": "ipython3",
   "version": "3.9.13"
  }
 },
 "nbformat": 4,
 "nbformat_minor": 5
}
