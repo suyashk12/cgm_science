{
 "cells": [
  {
   "cell_type": "code",
   "execution_count": 1,
   "id": "14ff1075",
   "metadata": {},
   "outputs": [],
   "source": [
    "import numpy as np\n",
    "import matplotlib.pyplot as plt\n",
    "from astropy.io import fits\n",
    "from astropy import constants, units\n",
    "from astropy.coordinates import Angle\n",
    "from astropy.coordinates import SkyCoord\n",
    "from astropy.wcs import WCS\n",
    "from gwcs.wcstools import wcs_from_points\n",
    "import astropy.coordinates as coord"
   ]
  },
  {
   "cell_type": "code",
   "execution_count": 2,
   "id": "fa672a7e",
   "metadata": {},
   "outputs": [],
   "source": [
    "rootdir = '/Users/thepoetoftwilight/Documents/CUBS/Data/PG1522+101/'"
   ]
  },
  {
   "cell_type": "markdown",
   "id": "334e6d07",
   "metadata": {},
   "source": [
    "We'll use a set of four reference stars, cross-identified across MUSE and HST images. Here are the physical coordinates of the stars in MUSE -"
   ]
  },
  {
   "cell_type": "code",
   "execution_count": 3,
   "id": "0ab0fbad",
   "metadata": {},
   "outputs": [],
   "source": [
    "# The coordinate system here begins at (1,1)\n",
    "star_coords_MUSE = np.array([[35,122], \n",
    "                             [26,108], \n",
    "                             [142,287], \n",
    "                             [190,200]])\n",
    "\n",
    "# The coordinate system here also probably begins at (1,1)\n",
    "star_coords_F160W = np.array([[357.904, 402.589], \n",
    "                              [351.305,376.484], \n",
    "                              [440.782, 697.099], \n",
    "                              [552.83, 588.29]])\n",
    "\n",
    "# The coordinate system here also probably begins at (1,1)\n",
    "star_coords_F140W = np.array([[347.241, 399.667], \n",
    "                              [340.296,372.468], \n",
    "                              [430, 694], \n",
    "                              [542, 585]])\n",
    "\n",
    "# F814W coordinates\n",
    "star_coords_F814W = np.array([[2631.11, 3502.2], \n",
    "                              [2650.29, 3572.33], \n",
    "                              [2427.33, 2744.44], \n",
    "                              [2138.02, 3020.69]])"
   ]
  },
  {
   "cell_type": "markdown",
   "id": "b67ee0e1",
   "metadata": {},
   "source": [
    "Next order of business, we need to read off the star RA and Dec in MUSE coordinates, so let's do that"
   ]
  },
  {
   "cell_type": "code",
   "execution_count": 6,
   "id": "fff12749",
   "metadata": {},
   "outputs": [],
   "source": [
    "# First load the MUSE image\n",
    "img_MUSE = fits.open(rootdir+'MUSE/COMBINED_CUBE_MED_FINAL_vac.fits')\n",
    "\n",
    "# Then construct a WCS object corresponding to it\n",
    "wcs_MUSE = WCS(header=img_MUSE[2].header)"
   ]
  },
  {
   "cell_type": "code",
   "execution_count": 7,
   "id": "0fc78278",
   "metadata": {},
   "outputs": [],
   "source": [
    "def pixel_to_wcs(xy, wcs):\n",
    "    \n",
    "    x, y = xy[0], xy[1]\n",
    "    \n",
    "    ra, dec = wcs.all_pix2world(x, y, 6500, 1, ra_dec_order=True)\n",
    "            \n",
    "    return [np.float_(ra), np.float_(dec)]"
   ]
  },
  {
   "cell_type": "code",
   "execution_count": 8,
   "id": "7fac0642",
   "metadata": {},
   "outputs": [],
   "source": [
    "def deg_to_hms_dms(ra_dec):\n",
    "    \n",
    "    ra = Angle(ra_dec[0], units.deg).hms\n",
    "    dec = Angle(ra_dec[1], units.deg).dms\n",
    "    \n",
    "    return [ra, dec]"
   ]
  },
  {
   "cell_type": "code",
   "execution_count": 9,
   "id": "06c0d27f",
   "metadata": {},
   "outputs": [],
   "source": [
    "star_coords_MUSE_wcs_deg = np.array([pixel_to_wcs(a,wcs_MUSE) for a in star_coords_MUSE])"
   ]
  },
  {
   "cell_type": "code",
   "execution_count": 10,
   "id": "e0b481dc",
   "metadata": {},
   "outputs": [],
   "source": [
    "star_coords_MUSE_wcs_hms_dms = [deg_to_hms_dms(a) for a in star_coords_MUSE_wcs_deg]"
   ]
  },
  {
   "cell_type": "code",
   "execution_count": 11,
   "id": "ae18aac5",
   "metadata": {},
   "outputs": [
    {
     "data": {
      "text/plain": [
       "[[hms_tuple(h=15.0, m=24.0, s=26.316976773045866),\n",
       "  dms_tuple(d=9.0, m=58.0, s=21.3283286530978)],\n",
       " [hms_tuple(h=15.0, m=24.0, s=26.438812878583065),\n",
       "  dms_tuple(d=9.0, m=58.0, s=18.528284281347567)],\n",
       " [hms_tuple(h=15.0, m=24.0, s=24.868436151687092),\n",
       "  dms_tuple(d=9.0, m=58.0, s=54.32864481447524)],\n",
       " [hms_tuple(h=15.0, m=24.0, s=24.218602547077097),\n",
       "  dms_tuple(d=9.0, m=58.0, s=36.92866002403477)]]"
      ]
     },
     "execution_count": 11,
     "metadata": {},
     "output_type": "execute_result"
    }
   ],
   "source": [
    "# Sanity check - this works, comparing to the coordinates read off from the HST image in DS9\n",
    "star_coords_MUSE_wcs_hms_dms"
   ]
  },
  {
   "cell_type": "markdown",
   "id": "0c333505",
   "metadata": {},
   "source": [
    "First rewrite the MUSE catalog as is"
   ]
  },
  {
   "cell_type": "code",
   "execution_count": 12,
   "id": "6368dca7",
   "metadata": {},
   "outputs": [],
   "source": [
    "# Read in the MUSE catalog\n",
    "muse_photo_cat = np.loadtxt(rootdir+'MUSE/pseudo_gri_photometry.dat', skiprows=1, delimiter=',', dtype=float)"
   ]
  },
  {
   "cell_type": "code",
   "execution_count": 13,
   "id": "384cdc2c",
   "metadata": {},
   "outputs": [
    {
     "data": {
      "text/plain": [
       "(80, 9)"
      ]
     },
     "execution_count": 13,
     "metadata": {},
     "output_type": "execute_result"
    }
   ],
   "source": [
    "muse_photo_cat.shape"
   ]
  },
  {
   "cell_type": "code",
   "execution_count": 15,
   "id": "c4886c78",
   "metadata": {},
   "outputs": [],
   "source": [
    "# Rewrite the MUSE catalog\n",
    "\n",
    "with open(rootdir+'MUSE/pseudo_gri_photometry_final.dat', 'w') as f:\n",
    "\n",
    "    f.write('ID,RA,Dec,pseudo_g_mag,pseudo_r_mag,pseudo_i_mag,z')\n",
    "    \n",
    "    for i in range(muse_photo_cat.shape[0]):\n",
    "            f.write('\\n'+str(int(muse_photo_cat[i,0])) + ',' + \n",
    "                  str(muse_photo_cat[i,1]) + ',' + \n",
    "                  str(muse_photo_cat[i,2]) + ',' +\n",
    "                  str(muse_photo_cat[i,5]) + ',' +\n",
    "                  str(muse_photo_cat[i,6]) + ',' +\n",
    "                  str(muse_photo_cat[i,7]) + ',' +\n",
    "                  str(muse_photo_cat[i,8]))"
   ]
  },
  {
   "cell_type": "markdown",
   "id": "cc6739af",
   "metadata": {},
   "source": [
    "Now, rewrite the F160W catalog. We'll create a framework to map from MUSE WCS coordinates to other systems"
   ]
  },
  {
   "cell_type": "code",
   "execution_count": 16,
   "id": "0a770ad5",
   "metadata": {},
   "outputs": [],
   "source": [
    "def create_gwcs_obj(refs_xy, refs_wcs):\n",
    "    \n",
    "    # Restructure refs_xy\n",
    "    refs_x = np.array(refs_xy[:,0])\n",
    "    refs_y = np.array(refs_xy[:,1])\n",
    "    \n",
    "    refs_xy_zip = (refs_x, refs_y)\n",
    "    \n",
    "    # Restructure refs_wcs\n",
    "    refs_ra = np.array(refs_wcs[:,0])\n",
    "    refs_dec = np.array(refs_wcs[:,1])\n",
    "    \n",
    "    # Create a skycoord object with the reference RA and Decs\n",
    "    radec = SkyCoord(refs_ra, refs_dec, unit=(units.deg, units.deg))\n",
    "        \n",
    "    # Create a GWCS object\n",
    "    gwcs_obj = wcs_from_points(refs_xy_zip, radec, proj_point='center', poly_degree=1)\n",
    "    \n",
    "    return gwcs_obj"
   ]
  },
  {
   "cell_type": "markdown",
   "id": "263b4883",
   "metadata": {},
   "source": [
    "Let's compute the angular separation between the original and new coordinates. Below, we present the formalism -\n",
    "\n",
    "Point 1: ($\\alpha_1, \\delta_1$), Point 2: ($\\alpha_2, \\delta_2$)\n",
    "\n",
    "Angular separation $\\phi$ between unit vectors -\n",
    "\n",
    "$$\\cos(\\phi) = \\hat{r_1} \\cdot \\hat{r_2}$$\n",
    "\n",
    "$$\\Rightarrow \\cos(\\phi) = \\cos(\\delta_1) \\cos(\\delta_2) \\cos(\\alpha_1) \\cos(\\alpha_2) + \\cos(\\delta_1) \\cos(\\delta_2) \\sin(\\alpha_1) \\sin(\\alpha_2) + \\sin(\\delta_1) \\sin(\\delta_2)$$\n",
    "\n",
    "$$\\boxed{\\phi = \\arccos[ \\cos(\\delta_1) \\cos(\\delta_2) \\cos(\\alpha_1) \\cos(\\alpha_2) + \\cos(\\delta_1) \\cos(\\delta_2) \\sin(\\alpha_1) \\sin(\\alpha_2) + \\sin(\\delta_1) \\sin(\\delta_2)]}$$"
   ]
  },
  {
   "cell_type": "code",
   "execution_count": 17,
   "id": "ac1d094d",
   "metadata": {},
   "outputs": [],
   "source": [
    "def calc_phi(alpha_1, delta_1, alpha_2, delta_2):\n",
    "    \n",
    "    cos_phi = np.dot([np.cos(delta_1)*np.cos(alpha_1), np.cos(delta_1)*np.sin(alpha_1), np.sin(delta_1)],\n",
    "                      [np.cos(delta_2)*np.cos(alpha_2), np.cos(delta_2)*np.sin(alpha_2), np.sin(delta_2)])\n",
    "    \n",
    "    phi = np.arccos(cos_phi)\n",
    "    \n",
    "    return phi"
   ]
  },
  {
   "cell_type": "markdown",
   "id": "07a23d0c",
   "metadata": {},
   "source": [
    "Now rewrite the F814W catalog"
   ]
  },
  {
   "cell_type": "code",
   "execution_count": 18,
   "id": "7a855b9b",
   "metadata": {},
   "outputs": [],
   "source": [
    "# Read in the F814W catalog\n",
    "f814w_photo_cat = np.loadtxt(rootdir+'HST_images/f814w_photometry.dat', skiprows=1, delimiter=',', dtype=float)"
   ]
  },
  {
   "cell_type": "code",
   "execution_count": 19,
   "id": "8f2b0057",
   "metadata": {},
   "outputs": [],
   "source": [
    "# Create a GWCS object mapping F814W to F160W\n",
    "gwcs_f814w_MUSE = create_gwcs_obj(star_coords_F814W, star_coords_MUSE_wcs_deg)"
   ]
  },
  {
   "cell_type": "code",
   "execution_count": 20,
   "id": "69d96e07",
   "metadata": {},
   "outputs": [],
   "source": [
    "# Compute the new positions of F814w catalog objects, along with their angular shift\n",
    "\n",
    "f814w_ra_new = np.zeros(f814w_photo_cat.shape[0])\n",
    "f814w_dec_new = np.zeros(f814w_photo_cat.shape[0])\n",
    "f814w_pos_shift = np.zeros(f814w_photo_cat.shape[0])\n",
    "\n",
    "for i in range(f814w_photo_cat.shape[0]):\n",
    "    \n",
    "    x, y = f814w_photo_cat[i,3], f814w_photo_cat[i,4]\n",
    "    ra_new, dec_new = gwcs_f814w_MUSE(x, y)\n",
    "    \n",
    "    ra_old, dec_old = f814w_photo_cat[i,1], f814w_photo_cat[i,2]\n",
    "    \n",
    "    # Convert RA/ Dec into radians before compute angular separations\n",
    "    ra_new_rad, dec_new_rad = ra_new*np.pi/180, dec_new*np.pi/180\n",
    "    ra_old_rad, dec_old_rad = ra_old*np.pi/180, dec_old*np.pi/180\n",
    "        \n",
    "    pos_shift = (calc_phi(ra_old_rad, dec_old_rad, ra_new_rad, dec_new_rad)*units.radian).to(units.arcsecond).value\n",
    "    \n",
    "    f814w_ra_new[i], f814w_dec_new[i], f814w_pos_shift[i] = ra_new, dec_new, pos_shift"
   ]
  },
  {
   "cell_type": "code",
   "execution_count": 21,
   "id": "5083b18e",
   "metadata": {},
   "outputs": [
    {
     "data": {
      "text/plain": [
       "Text(0, 0.5, 'Count')"
      ]
     },
     "execution_count": 21,
     "metadata": {},
     "output_type": "execute_result"
    },
    {
     "data": {
      "image/png": "[encoded data removed]",
      "text/plain": [
       "<Figure size 1500x700 with 1 Axes>"
      ]
     },
     "metadata": {},
     "output_type": "display_data"
    }
   ],
   "source": [
    "fig, ax = plt.subplots(1, figsize=(15,7))\n",
    "\n",
    "ax.hist(f814w_pos_shift, bins=100)\n",
    "\n",
    "ax.set_title('Angular shift for F814W catalog objects')\n",
    "ax.set_xlabel('Angular shift (arcseconds)')\n",
    "ax.set_ylabel('Count')"
   ]
  },
  {
   "cell_type": "code",
   "execution_count": 22,
   "id": "e1189f11",
   "metadata": {},
   "outputs": [],
   "source": [
    "# Rewrite the F814w catalog\n",
    "\n",
    "with open(rootdir+'HST_images/f814w_photometry_final.dat', 'w') as f:\n",
    "\n",
    "    f.write('ID,RA,Dec,f814w_mag')\n",
    "    \n",
    "    for i in range(f814w_photo_cat.shape[0]):\n",
    "            f.write('\\n'+str(int(f814w_photo_cat[i,0])) + ',' + \n",
    "                  str(f814w_ra_new[i]) + ',' + \n",
    "                  str(f814w_dec_new[i]) + ',' +\n",
    "                  str(f814w_photo_cat[i,5]))"
   ]
  },
  {
   "cell_type": "markdown",
   "id": "d2e43de2",
   "metadata": {},
   "source": [
    "Now rewrite the F140W catalog"
   ]
  },
  {
   "cell_type": "code",
   "execution_count": 23,
   "id": "52e721f5",
   "metadata": {},
   "outputs": [],
   "source": [
    "# Read in the F140W catalog\n",
    "f140w_photo_cat = np.loadtxt(rootdir+'HST_images/f140w_photometry.dat', skiprows=1, delimiter=',', dtype=float)"
   ]
  },
  {
   "cell_type": "code",
   "execution_count": 24,
   "id": "0b132bbe",
   "metadata": {},
   "outputs": [],
   "source": [
    "# Create a GWCS object mapping F140W to F160W\n",
    "gwcs_f140w_MUSE = create_gwcs_obj(star_coords_F140W, star_coords_MUSE_wcs_deg)"
   ]
  },
  {
   "cell_type": "code",
   "execution_count": 25,
   "id": "7b6e9347",
   "metadata": {},
   "outputs": [],
   "source": [
    "# Compute the new positions of F140W catalog objects, along with their angular shift\n",
    "\n",
    "f140w_ra_new = np.zeros(f140w_photo_cat.shape[0])\n",
    "f140w_dec_new = np.zeros(f140w_photo_cat.shape[0])\n",
    "f140w_pos_shift = np.zeros(f140w_photo_cat.shape[0])\n",
    "\n",
    "for i in range(f140w_photo_cat.shape[0]):\n",
    "    \n",
    "    x, y = f140w_photo_cat[i,3], f140w_photo_cat[i,4]\n",
    "    ra_new, dec_new = gwcs_f140w_MUSE(x, y)\n",
    "    \n",
    "    ra_old, dec_old = f140w_photo_cat[i,1], f140w_photo_cat[i,2]\n",
    "    \n",
    "    # Convert RA/ Dec into radians before compute angular separations\n",
    "    ra_new_rad, dec_new_rad = ra_new*np.pi/180, dec_new*np.pi/180\n",
    "    ra_old_rad, dec_old_rad = ra_old*np.pi/180, dec_old*np.pi/180\n",
    "        \n",
    "    pos_shift = (calc_phi(ra_old_rad, dec_old_rad, ra_new_rad, dec_new_rad)*units.radian).to(units.arcsecond).value\n",
    "    \n",
    "    f140w_ra_new[i], f140w_dec_new[i], f140w_pos_shift[i] = ra_new, dec_new, pos_shift"
   ]
  },
  {
   "cell_type": "code",
   "execution_count": 26,
   "id": "d6eb86bf",
   "metadata": {},
   "outputs": [
    {
     "data": {
      "text/plain": [
       "Text(0, 0.5, 'Count')"
      ]
     },
     "execution_count": 26,
     "metadata": {},
     "output_type": "execute_result"
    },
    {
     "data": {
      "image/png": "[encoded data removed]",
      "text/plain": [
       "<Figure size 1500x700 with 1 Axes>"
      ]
     },
     "metadata": {},
     "output_type": "display_data"
    }
   ],
   "source": [
    "fig, ax = plt.subplots(1, figsize=(15,7))\n",
    "\n",
    "ax.hist(f140w_pos_shift, bins=100)\n",
    "\n",
    "ax.set_title('Angular shift for F140W catalog objects')\n",
    "ax.set_xlabel('Angular shift (arcseconds)')\n",
    "ax.set_ylabel('Count')"
   ]
  },
  {
   "cell_type": "code",
   "execution_count": 27,
   "id": "12375eed",
   "metadata": {},
   "outputs": [],
   "source": [
    "# Rewrite the F140W catalog\n",
    "\n",
    "with open(rootdir+'HST_images/f140w_photometry_final.dat', 'w') as f:\n",
    "\n",
    "    f.write('ID,RA,Dec,f140w_mag')\n",
    "    \n",
    "    for i in range(f140w_photo_cat.shape[0]):\n",
    "            f.write('\\n'+str(int(f140w_photo_cat[i,0])) + ',' + \n",
    "                  str(f140w_ra_new[i]) + ',' + \n",
    "                  str(f140w_dec_new[i]) + ',' +\n",
    "                  str(f140w_photo_cat[i,5]))"
   ]
  },
  {
   "cell_type": "markdown",
   "id": "d339d002",
   "metadata": {},
   "source": [
    "Finally, rewrite the F160W catalog"
   ]
  },
  {
   "cell_type": "code",
   "execution_count": 28,
   "id": "a07a92a8",
   "metadata": {},
   "outputs": [],
   "source": [
    "# Read in the F160W catalog\n",
    "f160w_photo_cat = np.loadtxt(rootdir+'HST_images/f160w_photometry.dat', skiprows=1, delimiter=',', dtype=float)"
   ]
  },
  {
   "cell_type": "code",
   "execution_count": 29,
   "id": "c64adf69",
   "metadata": {},
   "outputs": [],
   "source": [
    "# Create a GWCS object mapping F160W to F160W\n",
    "gwcs_f160w_MUSE = create_gwcs_obj(star_coords_F160W, star_coords_MUSE_wcs_deg)"
   ]
  },
  {
   "cell_type": "code",
   "execution_count": 30,
   "id": "3a906c67",
   "metadata": {},
   "outputs": [],
   "source": [
    "# Compute the new positions of F160W catalog objects, along with their angular shift\n",
    "\n",
    "f160w_ra_new = np.zeros(f160w_photo_cat.shape[0])\n",
    "f160w_dec_new = np.zeros(f160w_photo_cat.shape[0])\n",
    "f160w_pos_shift = np.zeros(f160w_photo_cat.shape[0])\n",
    "\n",
    "for i in range(f160w_photo_cat.shape[0]):\n",
    "    \n",
    "    x, y = f160w_photo_cat[i,3], f160w_photo_cat[i,4]\n",
    "    ra_new, dec_new = gwcs_f160w_MUSE(x, y)\n",
    "    \n",
    "    ra_old, dec_old = f160w_photo_cat[i,1], f160w_photo_cat[i,2]\n",
    "    \n",
    "    # Convert RA/ Dec into radians before compute angular separations\n",
    "    ra_new_rad, dec_new_rad = ra_new*np.pi/180, dec_new*np.pi/180\n",
    "    ra_old_rad, dec_old_rad = ra_old*np.pi/180, dec_old*np.pi/180\n",
    "        \n",
    "    pos_shift = (calc_phi(ra_old_rad, dec_old_rad, ra_new_rad, dec_new_rad)*units.radian).to(units.arcsecond).value\n",
    "    \n",
    "    f160w_ra_new[i], f160w_dec_new[i], f160w_pos_shift[i] = ra_new, dec_new, pos_shift"
   ]
  },
  {
   "cell_type": "code",
   "execution_count": 31,
   "id": "dc4b0843",
   "metadata": {},
   "outputs": [
    {
     "data": {
      "text/plain": [
       "Text(0, 0.5, 'Count')"
      ]
     },
     "execution_count": 31,
     "metadata": {},
     "output_type": "execute_result"
    },
    {
     "data": {
      "image/png": "[encoded data removed]",
      "text/plain": [
       "<Figure size 1500x700 with 1 Axes>"
      ]
     },
     "metadata": {},
     "output_type": "display_data"
    }
   ],
   "source": [
    "fig, ax = plt.subplots(1, figsize=(15,7))\n",
    "\n",
    "ax.hist(f160w_pos_shift, bins=100)\n",
    "\n",
    "ax.set_title('Angular shift for F160W catalog objects')\n",
    "ax.set_xlabel('Angular shift (arcseconds)')\n",
    "ax.set_ylabel('Count')"
   ]
  },
  {
   "cell_type": "code",
   "execution_count": 32,
   "id": "3fde7219",
   "metadata": {},
   "outputs": [],
   "source": [
    "# Rewrite the F160W catalog\n",
    "\n",
    "with open(rootdir+'HST_images/f160w_photometry_final.dat', 'w') as f:\n",
    "\n",
    "    f.write('ID,RA,Dec,f160w_mag')\n",
    "    \n",
    "    for i in range(f160w_photo_cat.shape[0]):\n",
    "            f.write('\\n'+str(int(f160w_photo_cat[i,0])) + ',' + \n",
    "                  str(f160w_ra_new[i]) + ',' + \n",
    "                  str(f160w_dec_new[i]) + ',' +\n",
    "                  str(f160w_photo_cat[i,5]))"
   ]
  },
  {
   "cell_type": "markdown",
   "id": "00d8956d",
   "metadata": {},
   "source": [
    "# DRAFT"
   ]
  },
  {
   "cell_type": "markdown",
   "id": "d10cb36b",
   "metadata": {},
   "source": [
    "Next order of business, we need to read off the star RA and Dec in F160W coordinates, so let's do that"
   ]
  },
  {
   "cell_type": "code",
   "execution_count": 256,
   "id": "85ccb389",
   "metadata": {},
   "outputs": [
    {
     "name": "stderr",
     "output_type": "stream",
     "text": [
      "WARNING: FITSFixedWarning: RADECSYS= 'FK5 ' \n",
      "the RADECSYS keyword is deprecated, use RADESYSa. [astropy.wcs.wcs]\n",
      "WARNING: FITSFixedWarning: 'datfix' made the change 'Set MJD-OBS to 57925.000000 from DATE-OBS'. [astropy.wcs.wcs]\n"
     ]
    }
   ],
   "source": [
    "# First load the F160W image\n",
    "img_f160w = fits.open(rootdir+'HST_images/f160w_comb.fits')\n",
    "\n",
    "# Then construct a WCS object corresponding to it\n",
    "wcs_f160w = WCS(header=img_f160w[0].header)"
   ]
  },
  {
   "cell_type": "code",
   "execution_count": 258,
   "id": "96e98043",
   "metadata": {},
   "outputs": [],
   "source": [
    "def pixel_to_wcs(xy, wcs):\n",
    "    \n",
    "    x, y = xy[0], xy[1]\n",
    "    \n",
    "    ra, dec = wcs.all_pix2world(x, y, 1, ra_dec_order=True)\n",
    "            \n",
    "    return [np.float_(ra), np.float_(dec)]"
   ]
  },
  {
   "cell_type": "code",
   "execution_count": 259,
   "id": "d740e27a",
   "metadata": {},
   "outputs": [],
   "source": [
    "def deg_to_hms_dms(ra_dec):\n",
    "    \n",
    "    ra = Angle(ra_dec[0], units.deg).hms\n",
    "    dec = Angle(ra_dec[1], units.deg).dms\n",
    "    \n",
    "    return [ra, dec]"
   ]
  },
  {
   "cell_type": "code",
   "execution_count": 260,
   "id": "6193f367",
   "metadata": {},
   "outputs": [],
   "source": [
    "star_coords_F160W_wcs_deg = np.array([pixel_to_wcs(a,wcs_f160w) for a in star_coords_F160W])"
   ]
  },
  {
   "cell_type": "code",
   "execution_count": 261,
   "id": "c65d22d8",
   "metadata": {},
   "outputs": [],
   "source": [
    "star_coords_F160W_wcs_hms_dms = [deg_to_hms_dms(a) for a in star_coords_F160W_wcs_deg]"
   ]
  },
  {
   "cell_type": "code",
   "execution_count": 262,
   "id": "60c2302b",
   "metadata": {},
   "outputs": [
    {
     "data": {
      "text/plain": [
       "[[hms_tuple(h=15.0, m=24.0, s=26.32957439941194),\n",
       "  dms_tuple(d=9.0, m=58.0, s=21.117045758334)],\n",
       " [hms_tuple(h=15.0, m=24.0, s=26.45065570821842),\n",
       "  dms_tuple(d=9.0, m=58.0, s=18.177828232852704)],\n",
       " [hms_tuple(h=15.0, m=24.0, s=24.893858872831345),\n",
       "  dms_tuple(d=9.0, m=58.0, s=53.95893823375289)],\n",
       " [hms_tuple(h=15.0, m=24.0, s=24.245290135549027),\n",
       "  dms_tuple(d=9.0, m=58.0, s=36.45303171384498)]]"
      ]
     },
     "execution_count": 262,
     "metadata": {},
     "output_type": "execute_result"
    }
   ],
   "source": [
    "# Sanity check - this works, comparing to the coordinates read off from the HST image in DS9\n",
    "star_coords_F160W_wcs_hms_dms"
   ]
  },
  {
   "cell_type": "markdown",
   "id": "b063be17",
   "metadata": {},
   "source": [
    "We are now ready to register the solutions for both F140W and MUSE to the F160W WCS. Load in all the catalogs."
   ]
  },
  {
   "cell_type": "code",
   "execution_count": 263,
   "id": "687c9b0a",
   "metadata": {},
   "outputs": [],
   "source": [
    "# Read in the F160W catalog\n",
    "f160w_photo_cat = np.loadtxt(rootdir+'HST_images/f160w_photometry.dat', skiprows=1, delimiter=',', dtype=float)"
   ]
  },
  {
   "cell_type": "code",
   "execution_count": 264,
   "id": "abd87f2d",
   "metadata": {},
   "outputs": [],
   "source": [
    "# Rewrite the F160W catalog\n",
    "\n",
    "with open(rootdir+'HST_images/f160w_photometry_final.dat', 'w') as f:\n",
    "\n",
    "    f.write('ID,RA,Dec,f160w_mag')\n",
    "    \n",
    "    for i in range(f160w_photo_cat.shape[0]):\n",
    "            f.write('\\n'+str(int(f160w_photo_cat[i,0])) + ',' + \n",
    "                  str(f160w_photo_cat[i,1]) + ',' + \n",
    "                  str(f160w_photo_cat[i,2]) + ',' +\n",
    "                  str(f160w_photo_cat[i,5]))"
   ]
  },
  {
   "cell_type": "markdown",
   "id": "19c0ae2d",
   "metadata": {},
   "source": [
    "We'll create a framework to map from F160W WCS coordinates to other systems"
   ]
  },
  {
   "cell_type": "code",
   "execution_count": 265,
   "id": "3f452050",
   "metadata": {},
   "outputs": [],
   "source": [
    "def create_gwcs_obj(refs_xy, refs_wcs):\n",
    "    \n",
    "    # Restructure refs_xy\n",
    "    refs_x = np.array(refs_xy[:,0])\n",
    "    refs_y = np.array(refs_xy[:,1])\n",
    "    \n",
    "    refs_xy_zip = (refs_x, refs_y)\n",
    "    \n",
    "    # Restructure refs_wcs\n",
    "    refs_ra = np.array(refs_wcs[:,0])\n",
    "    refs_dec = np.array(refs_wcs[:,1])\n",
    "    \n",
    "    # Create a skycoord object with the reference RA and Decs\n",
    "    radec = SkyCoord(refs_ra, refs_dec, unit=(units.deg, units.deg))\n",
    "        \n",
    "    # Create a GWCS object\n",
    "    gwcs_obj = wcs_from_points(refs_xy_zip, radec, proj_point='center', poly_degree=1)\n",
    "    \n",
    "    return gwcs_obj"
   ]
  },
  {
   "cell_type": "markdown",
   "id": "ce410d95",
   "metadata": {},
   "source": [
    "Now rewrite the F140W catalog"
   ]
  },
  {
   "cell_type": "code",
   "execution_count": 266,
   "id": "848ef835",
   "metadata": {},
   "outputs": [],
   "source": [
    "# Read in the F140W catalog\n",
    "f140w_photo_cat = np.loadtxt(rootdir+'HST_images/f140w_photometry.dat', skiprows=1, delimiter=',', dtype=float)"
   ]
  },
  {
   "cell_type": "code",
   "execution_count": 267,
   "id": "70316a7e",
   "metadata": {},
   "outputs": [],
   "source": [
    "# Create a GWCS object mapping F140W to F160W\n",
    "gwcs_f140w_f160w = create_gwcs_obj(star_coords_F140W, star_coords_F160W_wcs_deg)"
   ]
  },
  {
   "cell_type": "markdown",
   "id": "2a8df61b",
   "metadata": {},
   "source": [
    "Let's compute the angular separation between the original and new coordinates. Below, we present the formalism -\n",
    "\n",
    "Point 1: ($\\alpha_1, \\delta_1$), Point 2: ($\\alpha_2, \\delta_2$)\n",
    "\n",
    "Angular separation $\\phi$ between unit vectors -\n",
    "\n",
    "$$\\cos(\\phi) = \\hat{r_1} \\cdot \\hat{r_2}$$\n",
    "\n",
    "$$\\Rightarrow \\cos(\\phi) = \\cos(\\delta_1) \\cos(\\delta_2) \\cos(\\alpha_1) \\cos(\\alpha_2) + \\cos(\\delta_1) \\cos(\\delta_2) \\sin(\\alpha_1) \\sin(\\alpha_2) + \\sin(\\delta_1) \\sin(\\delta_2)$$\n",
    "\n",
    "$$\\boxed{\\phi = \\arccos[ \\cos(\\delta_1) \\cos(\\delta_2) \\cos(\\alpha_1) \\cos(\\alpha_2) + \\cos(\\delta_1) \\cos(\\delta_2) \\sin(\\alpha_1) \\sin(\\alpha_2) + \\sin(\\delta_1) \\sin(\\delta_2)]}$$"
   ]
  },
  {
   "cell_type": "code",
   "execution_count": 268,
   "id": "aa4cdf7a",
   "metadata": {},
   "outputs": [],
   "source": [
    "def calc_phi(alpha_1, delta_1, alpha_2, delta_2):\n",
    "    \n",
    "    cos_phi = np.dot([np.cos(delta_1)*np.cos(alpha_1), np.cos(delta_1)*np.sin(alpha_1), np.sin(delta_1)],\n",
    "                      [np.cos(delta_2)*np.cos(alpha_2), np.cos(delta_2)*np.sin(alpha_2), np.sin(delta_2)])\n",
    "    \n",
    "    phi = np.arccos(cos_phi)\n",
    "    \n",
    "    return phi"
   ]
  },
  {
   "cell_type": "code",
   "execution_count": 269,
   "id": "1dc400e8",
   "metadata": {},
   "outputs": [],
   "source": [
    "# Compute the new positions of F140W catalog objects, along with their angular shift\n",
    "\n",
    "f140w_ra_new = np.zeros(f140w_photo_cat.shape[0])\n",
    "f140w_dec_new = np.zeros(f140w_photo_cat.shape[0])\n",
    "f140w_pos_shift = np.zeros(f140w_photo_cat.shape[0])\n",
    "\n",
    "for i in range(f140w_photo_cat.shape[0]):\n",
    "    \n",
    "    x, y = f140w_photo_cat[i,3], f140w_photo_cat[i,4]\n",
    "    ra_new, dec_new = gwcs_f140w_f160w(x, y)\n",
    "    \n",
    "    ra_old, dec_old = f140w_photo_cat[i,1], f140w_photo_cat[i,2]\n",
    "    \n",
    "    # Convert RA/ Dec into radians before compute angular separations\n",
    "    ra_new_rad, dec_new_rad = ra_new*np.pi/180, dec_new*np.pi/180\n",
    "    ra_old_rad, dec_old_rad = ra_old*np.pi/180, dec_old*np.pi/180\n",
    "        \n",
    "    pos_shift = (calc_phi(ra_old_rad, dec_old_rad, ra_new_rad, dec_new_rad)*units.radian).to(units.arcsecond).value\n",
    "    \n",
    "    f140w_ra_new[i], f140w_dec_new[i], f140w_pos_shift[i] = ra_new, dec_new, pos_shift"
   ]
  },
  {
   "cell_type": "code",
   "execution_count": 270,
   "id": "182afb8d",
   "metadata": {},
   "outputs": [
    {
     "data": {
      "text/plain": [
       "Text(0, 0.5, 'Count')"
      ]
     },
     "execution_count": 270,
     "metadata": {},
     "output_type": "execute_result"
    },
    {
     "data": {
      "image/png": "[encoded data removed]",
      "text/plain": [
       "<Figure size 1500x700 with 1 Axes>"
      ]
     },
     "metadata": {},
     "output_type": "display_data"
    }
   ],
   "source": [
    "fig, ax = plt.subplots(1, figsize=(15,7))\n",
    "\n",
    "ax.hist(f140w_pos_shift, bins=100)\n",
    "\n",
    "ax.set_title('Angular shift for F140W catalog objects')\n",
    "ax.set_xlabel('Angular shift (arcseconds)')\n",
    "ax.set_ylabel('Count')"
   ]
  },
  {
   "cell_type": "code",
   "execution_count": 271,
   "id": "9a1067f6",
   "metadata": {},
   "outputs": [],
   "source": [
    "# Rewrite the F140W catalog\n",
    "\n",
    "with open(rootdir+'HST_images/f140w_photometry_final.dat', 'w') as f:\n",
    "\n",
    "    f.write('ID,RA,Dec,f140w_mag')\n",
    "    \n",
    "    for i in range(f140w_photo_cat.shape[0]):\n",
    "            f.write('\\n'+str(int(f140w_photo_cat[i,0])) + ',' + \n",
    "                  str(f140w_ra_new[i]) + ',' + \n",
    "                  str(f140w_dec_new[i]) + ',' +\n",
    "                  str(f140w_photo_cat[i,5]))"
   ]
  },
  {
   "cell_type": "markdown",
   "id": "35fc0990",
   "metadata": {},
   "source": [
    "Now rewrite the F814W catalog"
   ]
  },
  {
   "cell_type": "code",
   "execution_count": 272,
   "id": "baca99ee",
   "metadata": {},
   "outputs": [],
   "source": [
    "# Read in the F814W catalog\n",
    "f814w_photo_cat = np.loadtxt(rootdir+'HST_images/f814w_photometry.dat', skiprows=1, delimiter=',', dtype=float)"
   ]
  },
  {
   "cell_type": "code",
   "execution_count": 273,
   "id": "a5004fdf",
   "metadata": {},
   "outputs": [],
   "source": [
    "# Create a GWCS object mapping F814W to F160W\n",
    "gwcs_f814w_f160w = create_gwcs_obj(star_coords_F814W, star_coords_F160W_wcs_deg)"
   ]
  },
  {
   "cell_type": "code",
   "execution_count": 274,
   "id": "1d13e953",
   "metadata": {},
   "outputs": [],
   "source": [
    "# Compute the new positions of F814w catalog objects, along with their angular shift\n",
    "\n",
    "f814w_ra_new = np.zeros(f814w_photo_cat.shape[0])\n",
    "f814w_dec_new = np.zeros(f814w_photo_cat.shape[0])\n",
    "f814w_pos_shift = np.zeros(f814w_photo_cat.shape[0])\n",
    "\n",
    "for i in range(f814w_photo_cat.shape[0]):\n",
    "    \n",
    "    x, y = f814w_photo_cat[i,3], f814w_photo_cat[i,4]\n",
    "    ra_new, dec_new = gwcs_f814w_f160w(x, y)\n",
    "    \n",
    "    ra_old, dec_old = f814w_photo_cat[i,1], f814w_photo_cat[i,2]\n",
    "    \n",
    "    # Convert RA/ Dec into radians before compute angular separations\n",
    "    ra_new_rad, dec_new_rad = ra_new*np.pi/180, dec_new*np.pi/180\n",
    "    ra_old_rad, dec_old_rad = ra_old*np.pi/180, dec_old*np.pi/180\n",
    "        \n",
    "    pos_shift = (calc_phi(ra_old_rad, dec_old_rad, ra_new_rad, dec_new_rad)*units.radian).to(units.arcsecond).value\n",
    "    \n",
    "    f814w_ra_new[i], f814w_dec_new[i], f814w_pos_shift[i] = ra_new, dec_new, pos_shift"
   ]
  },
  {
   "cell_type": "code",
   "execution_count": 275,
   "id": "6d09d7fc",
   "metadata": {},
   "outputs": [
    {
     "data": {
      "text/plain": [
       "Text(0, 0.5, 'Count')"
      ]
     },
     "execution_count": 275,
     "metadata": {},
     "output_type": "execute_result"
    },
    {
     "data": {
      "image/png": "[encoded data removed]",
      "text/plain": [
       "<Figure size 1500x700 with 1 Axes>"
      ]
     },
     "metadata": {},
     "output_type": "display_data"
    }
   ],
   "source": [
    "fig, ax = plt.subplots(1, figsize=(15,7))\n",
    "\n",
    "ax.hist(f814w_pos_shift, bins=100)\n",
    "\n",
    "ax.set_title('Angular shift for F140W catalog objects')\n",
    "ax.set_xlabel('Angular shift (arcseconds)')\n",
    "ax.set_ylabel('Count')"
   ]
  },
  {
   "cell_type": "code",
   "execution_count": 276,
   "id": "d304b5a9",
   "metadata": {},
   "outputs": [],
   "source": [
    "# Rewrite the F814w catalog\n",
    "\n",
    "with open(rootdir+'HST_images/f814w_photometry_final.dat', 'w') as f:\n",
    "\n",
    "    f.write('ID,RA,Dec,f814w_mag')\n",
    "    \n",
    "    for i in range(f814w_photo_cat.shape[0]):\n",
    "            f.write('\\n'+str(int(f814w_photo_cat[i,0])) + ',' + \n",
    "                  str(f814w_ra_new[i]) + ',' + \n",
    "                  str(f814w_dec_new[i]) + ',' +\n",
    "                  str(f814w_photo_cat[i,5]))"
   ]
  },
  {
   "cell_type": "markdown",
   "id": "0f3b92b4",
   "metadata": {},
   "source": [
    "Now rewrite the MUSE catalog"
   ]
  },
  {
   "cell_type": "code",
   "execution_count": 277,
   "id": "139861e8",
   "metadata": {},
   "outputs": [],
   "source": [
    "# Read in the MUSE catalog\n",
    "muse_photo_cat = np.loadtxt(rootdir+'MUSE/pseudo_gri_photometry.dat', skiprows=1, delimiter=',', dtype=float)"
   ]
  },
  {
   "cell_type": "code",
   "execution_count": 278,
   "id": "f2da481b",
   "metadata": {},
   "outputs": [],
   "source": [
    "# Create a GWCS object mapping F140W to F160W\n",
    "gwcs_muse_f160w = create_gwcs_obj(star_coords_MUSE, star_coords_F160W_wcs_deg)"
   ]
  },
  {
   "cell_type": "code",
   "execution_count": 279,
   "id": "e9880746",
   "metadata": {
    "scrolled": true
   },
   "outputs": [],
   "source": [
    "# Compute the new positions of MUSE catalog objects, along with their angular shift\n",
    "muse_ra_new = np.zeros(muse_photo_cat.shape[0])\n",
    "muse_dec_new = np.zeros(muse_photo_cat.shape[0])\n",
    "muse_pos_shift = np.zeros(muse_photo_cat.shape[0])\n",
    "\n",
    "for i in range(muse_photo_cat.shape[0]):\n",
    "    x, y = muse_photo_cat[i,3], muse_photo_cat[i,4]\n",
    "    ra_new, dec_new = gwcs_muse_f160w(x, y)\n",
    "    \n",
    "    ra_old, dec_old = muse_photo_cat[i,1], muse_photo_cat[i,2]\n",
    "    \n",
    "    # Convert RA/ Dec into radians before compute angular separations\n",
    "    ra_new_rad, dec_new_rad = ra_new*np.pi/180, dec_new*np.pi/180\n",
    "    ra_old_rad, dec_old_rad = ra_old*np.pi/180, dec_old*np.pi/180\n",
    "        \n",
    "    pos_shift = (calc_phi(ra_old_rad, dec_old_rad, ra_new_rad, dec_new_rad)*units.radian).to(units.arcsecond).value\n",
    "    \n",
    "    muse_ra_new[i], muse_dec_new[i], muse_pos_shift[i] = ra_new, dec_new, pos_shift"
   ]
  },
  {
   "cell_type": "code",
   "execution_count": 280,
   "id": "38a76370",
   "metadata": {},
   "outputs": [
    {
     "data": {
      "text/plain": [
       "Text(0, 0.5, 'Count')"
      ]
     },
     "execution_count": 280,
     "metadata": {},
     "output_type": "execute_result"
    },
    {
     "data": {
      "image/png": "[encoded data removed]",
      "text/plain": [
       "<Figure size 1500x700 with 1 Axes>"
      ]
     },
     "metadata": {},
     "output_type": "display_data"
    }
   ],
   "source": [
    "fig, ax = plt.subplots(1, figsize=(15,7))\n",
    "\n",
    "ax.hist(muse_pos_shift, bins=20)\n",
    "\n",
    "ax.set_title('Angular shift for MUSE catalog objects')\n",
    "ax.set_xlabel('Angular shift (arcseconds)')\n",
    "ax.set_ylabel('Count')"
   ]
  },
  {
   "cell_type": "code",
   "execution_count": 281,
   "id": "78a7b03c",
   "metadata": {},
   "outputs": [],
   "source": [
    "# Rewrite the MUSE catalog\n",
    "\n",
    "with open(rootdir+'MUSE/pseudo_gri_photometry_final.dat', 'w') as f:\n",
    "\n",
    "    f.write('ID,RA,Dec,pseudo_g_mag,pseudo_r_mag,pseudo_i_mag,z')\n",
    "    \n",
    "    for i in range(muse_photo_cat.shape[0]):\n",
    "            f.write('\\n'+str(int(muse_photo_cat[i,0])) + ',' + \n",
    "                  str(muse_ra_new[i]) + ',' + \n",
    "                  str(muse_dec_new[i]) + ',' +\n",
    "                  str(muse_photo_cat[i,5]) + ',' +\n",
    "                  str(muse_photo_cat[i,6]) + ',' +\n",
    "                  str(muse_photo_cat[i,7]) + ',' +\n",
    "                  str(muse_photo_cat[i,8]))"
   ]
  },
  {
   "cell_type": "code",
   "execution_count": null,
   "id": "d8faa039",
   "metadata": {},
   "outputs": [],
   "source": []
  },
  {
   "cell_type": "code",
   "execution_count": null,
   "id": "de701c16",
   "metadata": {},
   "outputs": [],
   "source": []
  }
 ],
 "metadata": {
  "kernelspec": {
   "display_name": "Python 3 (ipykernel)",
   "language": "python",
   "name": "python3"
  },
  "language_info": {
   "codemirror_mode": {
    "name": "ipython",
    "version": 3
   },
   "file_extension": ".py",
   "mimetype": "text/x-python",
   "name": "python",
   "nbconvert_exporter": "python",
   "pygments_lexer": "ipython3",
   "version": "3.9.13"
  }
 },
 "nbformat": 4,
 "nbformat_minor": 5
}
