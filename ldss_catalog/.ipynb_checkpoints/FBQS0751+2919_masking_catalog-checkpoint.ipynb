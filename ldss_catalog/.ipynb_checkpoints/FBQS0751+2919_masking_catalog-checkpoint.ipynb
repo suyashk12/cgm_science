{
 "cells": [
  {
   "cell_type": "code",
   "execution_count": 1,
   "id": "1648308f",
   "metadata": {},
   "outputs": [],
   "source": [
    "import numpy as np\n",
    "import matplotlib.pyplot as plt\n",
    "from astropy.io import fits\n",
    "from astropy import constants, units\n",
    "from astropy.coordinates import Angle\n",
    "from scipy.optimize import curve_fit\n",
    "import pandas as pd\n",
    "import os\n",
    "from scipy.signal import medfilt\n",
    "from astropy.wcs import WCS\n",
    "import scipy.integrate as integrate\n",
    "import re"
   ]
  },
  {
   "cell_type": "code",
   "execution_count": 2,
   "id": "385376cb",
   "metadata": {},
   "outputs": [],
   "source": [
    "rootdir = '/Users/thepoetoftwilight/Documents/CUBS/Data/FBQS0751+2919/HST_images/'"
   ]
  },
  {
   "cell_type": "markdown",
   "id": "bee6c34c",
   "metadata": {},
   "source": [
    "Load in the quasar and the alignment star"
   ]
  },
  {
   "cell_type": "code",
   "execution_count": 3,
   "id": "771404f2",
   "metadata": {},
   "outputs": [],
   "source": [
    "with open(rootdir+'alignment_stars.reg', 'r') as file:\n",
    "    qso_star_lines = [line.rstrip() for line in file]"
   ]
  },
  {
   "cell_type": "code",
   "execution_count": 4,
   "id": "1edbddca",
   "metadata": {},
   "outputs": [],
   "source": [
    "star_lines = []\n",
    "\n",
    "for l in qso_star_lines:\n",
    "    if 'circle' in l:\n",
    "        if 'cyan' in l:\n",
    "            qso_line = l\n",
    "        else:\n",
    "            star_lines.append(l)"
   ]
  },
  {
   "cell_type": "code",
   "execution_count": 5,
   "id": "b3543d29",
   "metadata": {},
   "outputs": [],
   "source": [
    "qso_ra = np.float_(qso_line.split(',')[0][7:])\n",
    "qso_dec = np.float_(qso_line.split(',')[1])"
   ]
  },
  {
   "cell_type": "code",
   "execution_count": 6,
   "id": "d5ed3173",
   "metadata": {},
   "outputs": [],
   "source": [
    "star_ra_list = []\n",
    "star_dec_list = []\n",
    "\n",
    "for i in range(len(star_lines)):\n",
    "    star_ra_list.append(star_lines[i].split(',')[0][7:])\n",
    "    star_dec_list.append(star_lines[i].split(',')[1])"
   ]
  },
  {
   "cell_type": "markdown",
   "id": "af174f0d",
   "metadata": {},
   "source": [
    "Load in the photometry catalog"
   ]
  },
  {
   "cell_type": "code",
   "execution_count": 7,
   "id": "bc35a44e",
   "metadata": {},
   "outputs": [],
   "source": [
    "df = pd.read_csv(rootdir+'f814w_photometry.dat')"
   ]
  },
  {
   "cell_type": "code",
   "execution_count": 8,
   "id": "c07b043f",
   "metadata": {},
   "outputs": [
    {
     "data": {
      "text/html": [
       "<div>\n",
       "<style scoped>\n",
       "    .dataframe tbody tr th:only-of-type {\n",
       "        vertical-align: middle;\n",
       "    }\n",
       "\n",
       "    .dataframe tbody tr th {\n",
       "        vertical-align: top;\n",
       "    }\n",
       "\n",
       "    .dataframe thead th {\n",
       "        text-align: right;\n",
       "    }\n",
       "</style>\n",
       "<table border=\"1\" class=\"dataframe\">\n",
       "  <thead>\n",
       "    <tr style=\"text-align: right;\">\n",
       "      <th></th>\n",
       "      <th>ID</th>\n",
       "      <th>RA</th>\n",
       "      <th>Dec</th>\n",
       "      <th>f814w_mag</th>\n",
       "    </tr>\n",
       "  </thead>\n",
       "  <tbody>\n",
       "    <tr>\n",
       "      <th>0</th>\n",
       "      <td>1</td>\n",
       "      <td>117.837191</td>\n",
       "      <td>29.323495</td>\n",
       "      <td>22.93</td>\n",
       "    </tr>\n",
       "    <tr>\n",
       "      <th>1</th>\n",
       "      <td>2</td>\n",
       "      <td>117.838687</td>\n",
       "      <td>29.323272</td>\n",
       "      <td>22.33</td>\n",
       "    </tr>\n",
       "    <tr>\n",
       "      <th>2</th>\n",
       "      <td>3</td>\n",
       "      <td>117.835662</td>\n",
       "      <td>29.312494</td>\n",
       "      <td>18.43</td>\n",
       "    </tr>\n",
       "    <tr>\n",
       "      <th>3</th>\n",
       "      <td>4</td>\n",
       "      <td>117.842144</td>\n",
       "      <td>29.343727</td>\n",
       "      <td>21.29</td>\n",
       "    </tr>\n",
       "    <tr>\n",
       "      <th>4</th>\n",
       "      <td>5</td>\n",
       "      <td>117.842846</td>\n",
       "      <td>29.343055</td>\n",
       "      <td>24.94</td>\n",
       "    </tr>\n",
       "    <tr>\n",
       "      <th>...</th>\n",
       "      <td>...</td>\n",
       "      <td>...</td>\n",
       "      <td>...</td>\n",
       "      <td>...</td>\n",
       "    </tr>\n",
       "    <tr>\n",
       "      <th>15569</th>\n",
       "      <td>99</td>\n",
       "      <td>117.781541</td>\n",
       "      <td>29.357355</td>\n",
       "      <td>24.26</td>\n",
       "    </tr>\n",
       "    <tr>\n",
       "      <th>15570</th>\n",
       "      <td>100</td>\n",
       "      <td>117.780039</td>\n",
       "      <td>29.352868</td>\n",
       "      <td>25.09</td>\n",
       "    </tr>\n",
       "    <tr>\n",
       "      <th>15571</th>\n",
       "      <td>101</td>\n",
       "      <td>117.780277</td>\n",
       "      <td>29.353948</td>\n",
       "      <td>25.26</td>\n",
       "    </tr>\n",
       "    <tr>\n",
       "      <th>15572</th>\n",
       "      <td>102</td>\n",
       "      <td>117.778879</td>\n",
       "      <td>29.302126</td>\n",
       "      <td>22.09</td>\n",
       "    </tr>\n",
       "    <tr>\n",
       "      <th>15573</th>\n",
       "      <td>103</td>\n",
       "      <td>117.775952</td>\n",
       "      <td>29.340761</td>\n",
       "      <td>23.04</td>\n",
       "    </tr>\n",
       "  </tbody>\n",
       "</table>\n",
       "<p>15574 rows × 4 columns</p>\n",
       "</div>"
      ],
      "text/plain": [
       "        ID          RA        Dec  f814w_mag\n",
       "0        1  117.837191  29.323495      22.93\n",
       "1        2  117.838687  29.323272      22.33\n",
       "2        3  117.835662  29.312494      18.43\n",
       "3        4  117.842144  29.343727      21.29\n",
       "4        5  117.842846  29.343055      24.94\n",
       "...    ...         ...        ...        ...\n",
       "15569   99  117.781541  29.357355      24.26\n",
       "15570  100  117.780039  29.352868      25.09\n",
       "15571  101  117.780277  29.353948      25.26\n",
       "15572  102  117.778879  29.302126      22.09\n",
       "15573  103  117.775952  29.340761      23.04\n",
       "\n",
       "[15574 rows x 4 columns]"
      ]
     },
     "execution_count": 8,
     "metadata": {},
     "output_type": "execute_result"
    }
   ],
   "source": [
    "df"
   ]
  },
  {
   "cell_type": "markdown",
   "id": "38852616",
   "metadata": {},
   "source": [
    "Identify the alignment stars in the catalog"
   ]
  },
  {
   "cell_type": "code",
   "execution_count": 9,
   "id": "32270759",
   "metadata": {},
   "outputs": [],
   "source": [
    "def calc_phi(alpha_1, delta_1, alpha_2, delta_2):\n",
    "    \n",
    "    cos_phi = np.dot([np.cos(delta_1)*np.cos(alpha_1), np.cos(delta_1)*np.sin(alpha_1), np.sin(delta_1)],\n",
    "                      [np.cos(delta_2)*np.cos(alpha_2), np.cos(delta_2)*np.sin(alpha_2), np.sin(delta_2)])\n",
    "    \n",
    "    phi = np.arccos(cos_phi)\n",
    "    \n",
    "    return phi"
   ]
  },
  {
   "cell_type": "code",
   "execution_count": 10,
   "id": "2b0b88e6",
   "metadata": {},
   "outputs": [],
   "source": [
    "df['alignment_star'] = -1*np.ones(len(df))"
   ]
  },
  {
   "cell_type": "code",
   "execution_count": 11,
   "id": "8eb56433",
   "metadata": {},
   "outputs": [
    {
     "ename": "KeyboardInterrupt",
     "evalue": "",
     "output_type": "error",
     "traceback": [
      "\u001b[0;31m---------------------------------------------------------------------------\u001b[0m",
      "\u001b[0;31mKeyboardInterrupt\u001b[0m                         Traceback (most recent call last)",
      "\u001b[0;32m/var/folders/tj/vc_wjrpj36sf3zws4s7s770c0000gn/T/ipykernel_2742/639572065.py\u001b[0m in \u001b[0;36m<module>\u001b[0;34m\u001b[0m\n\u001b[1;32m      9\u001b[0m \u001b[0;34m\u001b[0m\u001b[0m\n\u001b[1;32m     10\u001b[0m         \u001b[0mra\u001b[0m \u001b[0;34m=\u001b[0m \u001b[0mAngle\u001b[0m\u001b[0;34m(\u001b[0m\u001b[0mdf\u001b[0m\u001b[0;34m.\u001b[0m\u001b[0mloc\u001b[0m\u001b[0;34m[\u001b[0m\u001b[0mj\u001b[0m\u001b[0;34m,\u001b[0m \u001b[0;34m'RA'\u001b[0m\u001b[0;34m]\u001b[0m\u001b[0;34m,\u001b[0m \u001b[0munits\u001b[0m\u001b[0;34m.\u001b[0m\u001b[0mdeg\u001b[0m\u001b[0;34m)\u001b[0m\u001b[0;34m.\u001b[0m\u001b[0mrad\u001b[0m\u001b[0;34m\u001b[0m\u001b[0;34m\u001b[0m\u001b[0m\n\u001b[0;32m---> 11\u001b[0;31m         \u001b[0mdec\u001b[0m \u001b[0;34m=\u001b[0m \u001b[0mAngle\u001b[0m\u001b[0;34m(\u001b[0m\u001b[0mdf\u001b[0m\u001b[0;34m.\u001b[0m\u001b[0mloc\u001b[0m\u001b[0;34m[\u001b[0m\u001b[0mj\u001b[0m\u001b[0;34m,\u001b[0m \u001b[0;34m'Dec'\u001b[0m\u001b[0;34m]\u001b[0m\u001b[0;34m,\u001b[0m \u001b[0munits\u001b[0m\u001b[0;34m.\u001b[0m\u001b[0mdeg\u001b[0m\u001b[0;34m)\u001b[0m\u001b[0;34m.\u001b[0m\u001b[0mrad\u001b[0m\u001b[0;34m\u001b[0m\u001b[0;34m\u001b[0m\u001b[0m\n\u001b[0m\u001b[1;32m     12\u001b[0m \u001b[0;34m\u001b[0m\u001b[0m\n\u001b[1;32m     13\u001b[0m         \u001b[0mphi\u001b[0m \u001b[0;34m=\u001b[0m \u001b[0;34m(\u001b[0m\u001b[0mcalc_phi\u001b[0m\u001b[0;34m(\u001b[0m\u001b[0mstar_ra\u001b[0m\u001b[0;34m,\u001b[0m \u001b[0mstar_dec\u001b[0m\u001b[0;34m,\u001b[0m \u001b[0mra\u001b[0m\u001b[0;34m,\u001b[0m \u001b[0mdec\u001b[0m\u001b[0;34m)\u001b[0m\u001b[0;34m*\u001b[0m\u001b[0munits\u001b[0m\u001b[0;34m.\u001b[0m\u001b[0mrad\u001b[0m\u001b[0;34m)\u001b[0m\u001b[0;34m.\u001b[0m\u001b[0mto\u001b[0m\u001b[0;34m(\u001b[0m\u001b[0munits\u001b[0m\u001b[0;34m.\u001b[0m\u001b[0marcsecond\u001b[0m\u001b[0;34m)\u001b[0m\u001b[0;34m.\u001b[0m\u001b[0mvalue\u001b[0m\u001b[0;34m\u001b[0m\u001b[0;34m\u001b[0m\u001b[0m\n",
      "\u001b[0;32m/opt/anaconda3/lib/python3.9/site-packages/astropy/coordinates/angles.py\u001b[0m in \u001b[0;36m__new__\u001b[0;34m(cls, angle, unit, dtype, copy, **kwargs)\u001b[0m\n\u001b[1;32m    140\u001b[0m                 \u001b[0mangle\u001b[0m \u001b[0;34m=\u001b[0m \u001b[0;34m[\u001b[0m\u001b[0mAngle\u001b[0m\u001b[0;34m(\u001b[0m\u001b[0mx\u001b[0m\u001b[0;34m,\u001b[0m \u001b[0munit\u001b[0m\u001b[0;34m,\u001b[0m \u001b[0mcopy\u001b[0m\u001b[0;34m=\u001b[0m\u001b[0;32mFalse\u001b[0m\u001b[0;34m)\u001b[0m \u001b[0;32mfor\u001b[0m \u001b[0mx\u001b[0m \u001b[0;32min\u001b[0m \u001b[0mangle\u001b[0m\u001b[0;34m]\u001b[0m\u001b[0;34m\u001b[0m\u001b[0;34m\u001b[0m\u001b[0m\n\u001b[1;32m    141\u001b[0m \u001b[0;34m\u001b[0m\u001b[0m\n\u001b[0;32m--> 142\u001b[0;31m         return super().__new__(cls, angle, unit, dtype=dtype, copy=copy,\n\u001b[0m\u001b[1;32m    143\u001b[0m                                **kwargs)\n\u001b[1;32m    144\u001b[0m \u001b[0;34m\u001b[0m\u001b[0m\n",
      "\u001b[0;32m/opt/anaconda3/lib/python3.9/site-packages/astropy/units/quantity.py\u001b[0m in \u001b[0;36m__new__\u001b[0;34m(cls, value, unit, dtype, copy, order, subok, ndmin)\u001b[0m\n\u001b[1;32m    521\u001b[0m \u001b[0;34m\u001b[0m\u001b[0m\n\u001b[1;32m    522\u001b[0m         \u001b[0mvalue\u001b[0m \u001b[0;34m=\u001b[0m \u001b[0mvalue\u001b[0m\u001b[0;34m.\u001b[0m\u001b[0mview\u001b[0m\u001b[0;34m(\u001b[0m\u001b[0mcls\u001b[0m\u001b[0;34m)\u001b[0m\u001b[0;34m\u001b[0m\u001b[0;34m\u001b[0m\u001b[0m\n\u001b[0;32m--> 523\u001b[0;31m         \u001b[0mvalue\u001b[0m\u001b[0;34m.\u001b[0m\u001b[0m_set_unit\u001b[0m\u001b[0;34m(\u001b[0m\u001b[0mvalue_unit\u001b[0m\u001b[0;34m)\u001b[0m\u001b[0;34m\u001b[0m\u001b[0;34m\u001b[0m\u001b[0m\n\u001b[0m\u001b[1;32m    524\u001b[0m         \u001b[0;32mif\u001b[0m \u001b[0munit\u001b[0m \u001b[0;32mis\u001b[0m \u001b[0mvalue_unit\u001b[0m\u001b[0;34m:\u001b[0m\u001b[0;34m\u001b[0m\u001b[0;34m\u001b[0m\u001b[0m\n\u001b[1;32m    525\u001b[0m             \u001b[0;32mreturn\u001b[0m \u001b[0mvalue\u001b[0m\u001b[0;34m\u001b[0m\u001b[0;34m\u001b[0m\u001b[0m\n",
      "\u001b[0;32m/opt/anaconda3/lib/python3.9/site-packages/astropy/coordinates/angles.py\u001b[0m in \u001b[0;36m_set_unit\u001b[0;34m(self, unit)\u001b[0m\n\u001b[1;32m    162\u001b[0m \u001b[0;34m\u001b[0m\u001b[0m\n\u001b[1;32m    163\u001b[0m     \u001b[0;32mdef\u001b[0m \u001b[0m_set_unit\u001b[0m\u001b[0;34m(\u001b[0m\u001b[0mself\u001b[0m\u001b[0;34m,\u001b[0m \u001b[0munit\u001b[0m\u001b[0;34m)\u001b[0m\u001b[0;34m:\u001b[0m\u001b[0;34m\u001b[0m\u001b[0;34m\u001b[0m\u001b[0m\n\u001b[0;32m--> 164\u001b[0;31m         \u001b[0msuper\u001b[0m\u001b[0;34m(\u001b[0m\u001b[0;34m)\u001b[0m\u001b[0;34m.\u001b[0m\u001b[0m_set_unit\u001b[0m\u001b[0;34m(\u001b[0m\u001b[0mself\u001b[0m\u001b[0;34m.\u001b[0m\u001b[0m_convert_unit_to_angle_unit\u001b[0m\u001b[0;34m(\u001b[0m\u001b[0munit\u001b[0m\u001b[0;34m)\u001b[0m\u001b[0;34m)\u001b[0m\u001b[0;34m\u001b[0m\u001b[0;34m\u001b[0m\u001b[0m\n\u001b[0m\u001b[1;32m    165\u001b[0m \u001b[0;34m\u001b[0m\u001b[0m\n\u001b[1;32m    166\u001b[0m     \u001b[0;34m@\u001b[0m\u001b[0mproperty\u001b[0m\u001b[0;34m\u001b[0m\u001b[0;34m\u001b[0m\u001b[0m\n",
      "\u001b[0;32m/opt/anaconda3/lib/python3.9/site-packages/astropy/units/quantity.py\u001b[0m in \u001b[0;36m_set_unit\u001b[0;34m(self, unit)\u001b[0m\n\u001b[1;32m   1935\u001b[0m \u001b[0;34m\u001b[0m\u001b[0m\n\u001b[1;32m   1936\u001b[0m     \u001b[0;32mdef\u001b[0m \u001b[0m_set_unit\u001b[0m\u001b[0;34m(\u001b[0m\u001b[0mself\u001b[0m\u001b[0;34m,\u001b[0m \u001b[0munit\u001b[0m\u001b[0;34m)\u001b[0m\u001b[0;34m:\u001b[0m\u001b[0;34m\u001b[0m\u001b[0;34m\u001b[0m\u001b[0m\n\u001b[0;32m-> 1937\u001b[0;31m         \u001b[0;32mif\u001b[0m \u001b[0munit\u001b[0m \u001b[0;32mis\u001b[0m \u001b[0;32mNone\u001b[0m \u001b[0;32mor\u001b[0m \u001b[0;32mnot\u001b[0m \u001b[0munit\u001b[0m\u001b[0;34m.\u001b[0m\u001b[0mis_equivalent\u001b[0m\u001b[0;34m(\u001b[0m\u001b[0mself\u001b[0m\u001b[0;34m.\u001b[0m\u001b[0m_equivalent_unit\u001b[0m\u001b[0;34m)\u001b[0m\u001b[0;34m:\u001b[0m\u001b[0;34m\u001b[0m\u001b[0;34m\u001b[0m\u001b[0m\n\u001b[0m\u001b[1;32m   1938\u001b[0m             raise UnitTypeError(\n\u001b[1;32m   1939\u001b[0m                 \u001b[0;34m\"{} instances require units equivalent to '{}'\"\u001b[0m\u001b[0;34m\u001b[0m\u001b[0;34m\u001b[0m\u001b[0m\n",
      "\u001b[0;32m/opt/anaconda3/lib/python3.9/site-packages/astropy/units/core.py\u001b[0m in \u001b[0;36mis_equivalent\u001b[0;34m(self, other, equivalencies)\u001b[0m\n\u001b[1;32m    943\u001b[0m         \u001b[0mother\u001b[0m \u001b[0;34m=\u001b[0m \u001b[0mUnit\u001b[0m\u001b[0;34m(\u001b[0m\u001b[0mother\u001b[0m\u001b[0;34m,\u001b[0m \u001b[0mparse_strict\u001b[0m\u001b[0;34m=\u001b[0m\u001b[0;34m'silent'\u001b[0m\u001b[0;34m)\u001b[0m\u001b[0;34m\u001b[0m\u001b[0;34m\u001b[0m\u001b[0m\n\u001b[1;32m    944\u001b[0m \u001b[0;34m\u001b[0m\u001b[0m\n\u001b[0;32m--> 945\u001b[0;31m         \u001b[0;32mreturn\u001b[0m \u001b[0mself\u001b[0m\u001b[0;34m.\u001b[0m\u001b[0m_is_equivalent\u001b[0m\u001b[0;34m(\u001b[0m\u001b[0mother\u001b[0m\u001b[0;34m,\u001b[0m \u001b[0mequivalencies\u001b[0m\u001b[0;34m)\u001b[0m\u001b[0;34m\u001b[0m\u001b[0;34m\u001b[0m\u001b[0m\n\u001b[0m\u001b[1;32m    946\u001b[0m \u001b[0;34m\u001b[0m\u001b[0m\n\u001b[1;32m    947\u001b[0m     \u001b[0;32mdef\u001b[0m \u001b[0m_is_equivalent\u001b[0m\u001b[0;34m(\u001b[0m\u001b[0mself\u001b[0m\u001b[0;34m,\u001b[0m \u001b[0mother\u001b[0m\u001b[0;34m,\u001b[0m \u001b[0mequivalencies\u001b[0m\u001b[0;34m=\u001b[0m\u001b[0;34m[\u001b[0m\u001b[0;34m]\u001b[0m\u001b[0;34m)\u001b[0m\u001b[0;34m:\u001b[0m\u001b[0;34m\u001b[0m\u001b[0;34m\u001b[0m\u001b[0m\n",
      "\u001b[0;32m/opt/anaconda3/lib/python3.9/site-packages/astropy/units/core.py\u001b[0m in \u001b[0;36m_is_equivalent\u001b[0;34m(self, other, equivalencies)\u001b[0m\n\u001b[1;32m    955\u001b[0m \u001b[0;34m\u001b[0m\u001b[0m\n\u001b[1;32m    956\u001b[0m         if (self._get_physical_type_id() ==\n\u001b[0;32m--> 957\u001b[0;31m                 other._get_physical_type_id()):\n\u001b[0m\u001b[1;32m    958\u001b[0m             \u001b[0;32mreturn\u001b[0m \u001b[0;32mTrue\u001b[0m\u001b[0;34m\u001b[0m\u001b[0;34m\u001b[0m\u001b[0m\n\u001b[1;32m    959\u001b[0m         \u001b[0;32melif\u001b[0m \u001b[0mlen\u001b[0m\u001b[0;34m(\u001b[0m\u001b[0mequivalencies\u001b[0m\u001b[0;34m)\u001b[0m\u001b[0;34m:\u001b[0m\u001b[0;34m\u001b[0m\u001b[0;34m\u001b[0m\u001b[0m\n",
      "\u001b[0;32m/opt/anaconda3/lib/python3.9/site-packages/astropy/units/core.py\u001b[0m in \u001b[0;36m_get_physical_type_id\u001b[0;34m(self)\u001b[0m\n\u001b[1;32m    671\u001b[0m         \"\"\"\n\u001b[1;32m    672\u001b[0m         \u001b[0munit\u001b[0m \u001b[0;34m=\u001b[0m \u001b[0mself\u001b[0m\u001b[0;34m.\u001b[0m\u001b[0mdecompose\u001b[0m\u001b[0;34m(\u001b[0m\u001b[0;34m)\u001b[0m\u001b[0;34m\u001b[0m\u001b[0;34m\u001b[0m\u001b[0m\n\u001b[0;32m--> 673\u001b[0;31m         \u001b[0mr\u001b[0m \u001b[0;34m=\u001b[0m \u001b[0mzip\u001b[0m\u001b[0;34m(\u001b[0m\u001b[0;34m[\u001b[0m\u001b[0mx\u001b[0m\u001b[0;34m.\u001b[0m\u001b[0mname\u001b[0m \u001b[0;32mfor\u001b[0m \u001b[0mx\u001b[0m \u001b[0;32min\u001b[0m \u001b[0munit\u001b[0m\u001b[0;34m.\u001b[0m\u001b[0mbases\u001b[0m\u001b[0;34m]\u001b[0m\u001b[0;34m,\u001b[0m \u001b[0munit\u001b[0m\u001b[0;34m.\u001b[0m\u001b[0mpowers\u001b[0m\u001b[0;34m)\u001b[0m\u001b[0;34m\u001b[0m\u001b[0;34m\u001b[0m\u001b[0m\n\u001b[0m\u001b[1;32m    674\u001b[0m         \u001b[0;31m# bases and powers are already sorted in a unique way\u001b[0m\u001b[0;34m\u001b[0m\u001b[0;34m\u001b[0m\u001b[0m\n\u001b[1;32m    675\u001b[0m         \u001b[0;31m# r.sort()\u001b[0m\u001b[0;34m\u001b[0m\u001b[0;34m\u001b[0m\u001b[0m\n",
      "\u001b[0;31mKeyboardInterrupt\u001b[0m: "
     ]
    }
   ],
   "source": [
    "for i in range(len(star_ra_list)):\n",
    "    \n",
    "    star_ra = Angle(star_ra_list[i], units.deg).rad\n",
    "    star_dec = Angle(star_dec_list[i], units.deg).rad\n",
    "    \n",
    "    phi_arr = np.zeros(len(df))\n",
    "    \n",
    "    for j in range(len(df)):\n",
    "        \n",
    "        ra = Angle(df.loc[j, 'RA'], units.deg).rad\n",
    "        dec = Angle(df.loc[j, 'Dec'], units.deg).rad\n",
    "        \n",
    "        phi = (calc_phi(star_ra, star_dec, ra, dec)*units.rad).to(units.arcsecond).value\n",
    "        \n",
    "        phi_arr[j] = phi\n",
    "        \n",
    "    df.loc[np.argmin(phi_arr), 'alignment_star'] = 1.0"
   ]
  },
  {
   "cell_type": "markdown",
   "id": "c49ba762",
   "metadata": {},
   "source": [
    "Compute distances of all objects from the quasar"
   ]
  },
  {
   "cell_type": "code",
   "execution_count": null,
   "id": "df8ac418",
   "metadata": {},
   "outputs": [],
   "source": [
    "df['theta'] = -1*np.ones(len(df))"
   ]
  },
  {
   "cell_type": "code",
   "execution_count": null,
   "id": "194cae96",
   "metadata": {},
   "outputs": [],
   "source": [
    "theta_arr = np.zeros(len(df))\n",
    "\n",
    "for i in range(len(df)):\n",
    "\n",
    "    ra = Angle(df.loc[i, 'RA'], units.deg).rad\n",
    "    dec = Angle(df.loc[i, 'Dec'], units.deg).rad    \n",
    "    \n",
    "    theta_arr[i] = (calc_phi(ra, dec, qso_ra*np.pi/180, qso_dec*np.pi/180)*units.rad).to(units.arcsecond).value\n",
    "    \n",
    "df['theta'] = theta_arr"
   ]
  },
  {
   "cell_type": "code",
   "execution_count": null,
   "id": "15394835",
   "metadata": {},
   "outputs": [],
   "source": [
    "df"
   ]
  },
  {
   "cell_type": "markdown",
   "id": "5b4d9ab9",
   "metadata": {},
   "source": [
    "Sort now by $\\theta$ and magnitudes"
   ]
  },
  {
   "cell_type": "code",
   "execution_count": null,
   "id": "8006a283",
   "metadata": {},
   "outputs": [],
   "source": [
    "fig, ax = plt.subplots(1, figsize=(15,7))\n",
    "ax.hist(df['theta'], bins=40)\n",
    "\n",
    "ax.set_xlabel(r'$\\theta$ (arcseconds)')\n",
    "ax.set_ylabel('Counts')"
   ]
  },
  {
   "cell_type": "code",
   "execution_count": null,
   "id": "af09a693",
   "metadata": {},
   "outputs": [],
   "source": [
    "theta_partitions = [0,40,80,120,165]"
   ]
  },
  {
   "cell_type": "code",
   "execution_count": null,
   "id": "0a2e4415",
   "metadata": {},
   "outputs": [],
   "source": [
    "df_sorted = pd.DataFrame(columns=df.columns)"
   ]
  },
  {
   "cell_type": "code",
   "execution_count": null,
   "id": "38ec2232",
   "metadata": {},
   "outputs": [],
   "source": [
    "for i in range(len(theta_partitions)-1):\n",
    "    \n",
    "    theta_min = theta_partitions[i]\n",
    "    theta_max = theta_partitions[i+1]\n",
    "    \n",
    "    df_slice = df.loc[(df['theta']>=theta_min)&(df['theta']<=theta_max)].sort_values('f814w_mag')\n",
    "        \n",
    "    df_sorted = df_sorted.append(df_slice)"
   ]
  },
  {
   "cell_type": "code",
   "execution_count": null,
   "id": "9d312f66",
   "metadata": {},
   "outputs": [],
   "source": [
    "df_sorted"
   ]
  },
  {
   "cell_type": "markdown",
   "id": "7a22ac66",
   "metadata": {},
   "source": [
    "Now, retain only the galaxies between a magnitude of 14 and 21"
   ]
  },
  {
   "cell_type": "code",
   "execution_count": null,
   "id": "858438fe",
   "metadata": {},
   "outputs": [],
   "source": [
    "df_gals = df_sorted.loc[((df_sorted['f814w_mag']>=14)&(df_sorted['f814w_mag']<=21))&(df_sorted['alignment_star']==-1.0)]"
   ]
  },
  {
   "cell_type": "code",
   "execution_count": null,
   "id": "fbfed875",
   "metadata": {},
   "outputs": [],
   "source": [
    "ra_sorted = []\n",
    "dec_sorted = []\n",
    "theta_sorted = []\n",
    "mag_sorted = []"
   ]
  },
  {
   "cell_type": "code",
   "execution_count": null,
   "id": "6222fcc6",
   "metadata": {},
   "outputs": [],
   "source": [
    "for i in range(len(theta_partitions)-1):\n",
    "    \n",
    "    theta_min = theta_partitions[i]\n",
    "    theta_max = theta_partitions[i+1]\n",
    "    \n",
    "    df_slice = df_gals.loc[(df_gals['theta']>=theta_min)&(df_gals['theta']<=theta_max)].sort_values('f814w_mag')\n",
    "            \n",
    "    theta_sorted.append(list(df_slice['theta']))\n",
    "    mag_sorted.append(list(df_slice['f814w_mag']))\n",
    "    ra_sorted.append(list(df_slice['RA']))\n",
    "    dec_sorted.append(list(df_slice['Dec']))"
   ]
  },
  {
   "cell_type": "markdown",
   "id": "b29d1833",
   "metadata": {},
   "source": [
    "Plot the distribution of galaxy magnitudes in each bin away from the quasar"
   ]
  },
  {
   "cell_type": "code",
   "execution_count": null,
   "id": "b2e2f794",
   "metadata": {},
   "outputs": [],
   "source": [
    "colors = ['salmon', 'olive', 'sandybrown', 'lightblue', 'violet']"
   ]
  },
  {
   "cell_type": "code",
   "execution_count": null,
   "id": "462fac4e",
   "metadata": {},
   "outputs": [],
   "source": [
    "N_gals = 0"
   ]
  },
  {
   "cell_type": "code",
   "execution_count": null,
   "id": "98f975bb",
   "metadata": {},
   "outputs": [],
   "source": [
    "fig, ax = plt.subplots(1, figsize=(15,7))\n",
    "\n",
    "for i in range(len(theta_sorted)):\n",
    "    print(len(theta_sorted[i]))\n",
    "    N_gals += len(theta_sorted[i])\n",
    "    ax.scatter(theta_sorted[i], mag_sorted[i], color=colors[i], alpha=.5)\n",
    "    \n",
    "for j in range(1,len(theta_partitions)-1):\n",
    "    ax.axvline(theta_partitions[j], color='black', linestyle=':')\n",
    "\n",
    "\n",
    "ax.set_xlabel(r'$\\theta_{QSO}$ (arcseconds)')\n",
    "ax.set_ylabel('Magnitude')"
   ]
  },
  {
   "cell_type": "markdown",
   "id": "bd3b5840",
   "metadata": {},
   "source": [
    "Isolate the alignment stars"
   ]
  },
  {
   "cell_type": "code",
   "execution_count": null,
   "id": "d972346d",
   "metadata": {},
   "outputs": [],
   "source": [
    "df_alignment_stars = df_sorted.loc[((df_sorted['alignment_star']==1.0)&(df_sorted['theta']>80)&(df_sorted['f814w_mag']>17)&(df_sorted['f814w_mag']<20))]"
   ]
  },
  {
   "cell_type": "code",
   "execution_count": null,
   "id": "2aaa89db",
   "metadata": {},
   "outputs": [],
   "source": [
    "df_alignment_stars"
   ]
  },
  {
   "cell_type": "markdown",
   "id": "730d2328",
   "metadata": {},
   "source": [
    "Write a regions file to visalize this properly"
   ]
  },
  {
   "cell_type": "code",
   "execution_count": null,
   "id": "ed3fe863",
   "metadata": {},
   "outputs": [],
   "source": [
    "colors_ds9 = ['pink', 'green', 'yellow', 'cyan', 'white']"
   ]
  },
  {
   "cell_type": "code",
   "execution_count": null,
   "id": "9a0165e2",
   "metadata": {},
   "outputs": [],
   "source": [
    "with open(rootdir+'ldss_galaxies.reg', 'w') as f:\n",
    "    \n",
    "    # Make the annular regions\n",
    "    for i in range(1, len(theta_partitions)-1):\n",
    "        f.write('\\ncircle(07:51:12.3,+29:19:38.4, {}\") #color = gray'.format(theta_partitions[i]))\n",
    "        \n",
    "    # Mark the alignment stars\n",
    "    for i in range(len(df_alignment_stars)):\n",
    "\n",
    "        idx = df_alignment_stars.index[i]\n",
    "\n",
    "        ra = Angle(df_alignment_stars.loc[idx,'RA'], units.deg).hms\n",
    "        dec = Angle(df_alignment_stars.loc[idx,'Dec'], units.deg).dms\n",
    "        mag = df_alignment_stars.loc[idx,'f814w_mag']\n",
    "\n",
    "        ra_label = '%02d'%int(ra[0])+':'+'%02d'%int(ra[1])+':'+'%.2f'%np.round(ra[2],2)\n",
    "        dec_label = '+'+'%02d'%int(dec[0])+':'+'%02d'%int(dec[1])+':'+'%04.1f'%np.round(dec[2],1)\n",
    "\n",
    "        f.write('\\ncircle('+ra_label+','+dec_label+', 1.0\") #color = ' + 'red' + ' text = {'+'%.4f'%np.round(mag, 2)+'}')\n",
    "\n",
    "    # Mark the galaxies\n",
    "    for i in range(len(ra_sorted)):\n",
    "\n",
    "        ra_list = ra_sorted[i]\n",
    "        dec_list = dec_sorted[i]\n",
    "        mag_list = mag_sorted[i]\n",
    "        theta_list = theta_sorted[i]\n",
    "\n",
    "        for j in range(len(ra_list)):\n",
    "\n",
    "            ra = Angle(ra_list[j], units.deg).hms\n",
    "            dec = Angle(dec_list[j], units.deg).dms\n",
    "            mag = mag_list[j]\n",
    "            theta = theta_list[j]\n",
    "\n",
    "            ra_label = '%02d'%int(ra[0])+':'+'%02d'%int(ra[1])+':'+'%.2f'%np.round(ra[2],2)\n",
    "            dec_label = '+'+'%02d'%int(dec[0])+':'+'%02d'%int(dec[1])+':'+'%04.1f'%np.round(dec[2],1)\n",
    "\n",
    "            f.write('\\ncircle('+ra_label+','+dec_label+', 1.0\") #color = ' + colors_ds9[i] + ' text = {'+'%.2f'%np.round(mag, 2)+','+ '%.2f'%np.round(theta, 2)+ '}')    "
   ]
  },
  {
   "cell_type": "markdown",
   "id": "dd7853a4",
   "metadata": {},
   "source": [
    "Next, the galaxies. First assign priority scores to the galaxies. The brightest galaxy in the closest bin to the quasar will have a priority of -1, while the dimmest will have a priority of +1."
   ]
  },
  {
   "cell_type": "code",
   "execution_count": null,
   "id": "ef8e026f",
   "metadata": {},
   "outputs": [],
   "source": [
    "priorities_sorted = []"
   ]
  },
  {
   "cell_type": "code",
   "execution_count": null,
   "id": "e3887ebb",
   "metadata": {
    "scrolled": true
   },
   "outputs": [],
   "source": [
    "count = 0\n",
    "bin_size = len(theta_sorted[0])\n",
    "\n",
    "for i in range(len(theta_sorted)):\n",
    "    priorities_sorted.append([])\n",
    "    for j in range(len(theta_sorted[i])):\n",
    "        \n",
    "        priorities_sorted[i].append(-1 + 2*(count/(bin_size-1)))\n",
    "        \n",
    "        # This puts the brightest closest galaxy at -1 and the dimmest farthest at 1\n",
    "        #priorities_sorted[i].append(-1 + 2*(count/(N_gals-1)))\n",
    "        count += 1"
   ]
  },
  {
   "cell_type": "markdown",
   "id": "22f1e527",
   "metadata": {},
   "source": [
    "Finally print out the galaxy catalog"
   ]
  },
  {
   "cell_type": "code",
   "execution_count": null,
   "id": "c74d7754",
   "metadata": {},
   "outputs": [],
   "source": [
    "with open(rootdir+'FBQS0751.cat', 'w') as f:\n",
    "    \n",
    "    # First write out the alignment stars\n",
    "    \n",
    "    f.write('#Reference ID RA Dec HST_I_mag theta')\n",
    "    \n",
    "    for i in range(len(df_alignment_stars)):\n",
    "\n",
    "        idx = df_alignment_stars.index[i]\n",
    "\n",
    "        ra = Angle(df_alignment_stars.loc[idx,'RA'], units.deg).hms\n",
    "        dec = Angle(df_alignment_stars.loc[idx,'Dec'], units.deg).dms\n",
    "        mag = df_alignment_stars.loc[idx,'f814w_mag']\n",
    "        theta = df_alignment_stars.loc[idx, 'theta']\n",
    "\n",
    "        ra_label = '%02d'%int(ra[0])+':'+'%02d'%int(ra[1])+':'+'%.2f'%np.round(ra[2],2)\n",
    "        dec_label = '+'+'%02d'%int(dec[0])+':'+'%02d'%int(dec[1])+':'+'%04.2f'%np.round(dec[2],1)\n",
    "\n",
    "        f.write('\\n*star' + str(i) + ' ' + ra_label + ' ' + dec_label + ' # ' + \n",
    "              '%.2f'%np.round(mag, 2) + '; theta = ' + '%.2f'%np.round(theta, 2))\n",
    "        \n",
    "    # Then write out the galaxies\n",
    "    \n",
    "    f.write('\\n#Object ID RA Dec Priority HST_I_mag theta')\n",
    "    \n",
    "    for i in range(len(theta_partitions)-1):\n",
    "\n",
    "        theta_min = theta_partitions[i]\n",
    "        theta_max = theta_partitions[i+1]\n",
    "\n",
    "        df_slice = df_gals.loc[(df_gals['theta']>=theta_min)&(df_gals['theta']<=theta_max)].sort_values('f814w_mag')\n",
    "\n",
    "        idx_list = df_slice.index\n",
    "\n",
    "        for j in range(len(priorities_sorted[i])):\n",
    "\n",
    "            idx = idx_list[j]\n",
    "            ra = Angle(ra_sorted[i][j], units.deg).hms\n",
    "            dec = Angle(dec_sorted[i][j], units.deg).dms\n",
    "            mag = mag_sorted[i][j]   \n",
    "            theta = theta_sorted[i][j]\n",
    "            p = priorities_sorted[i][j]\n",
    "            \n",
    "            ra_label = '%02d'%int(ra[0])+':'+'%02d'%int(ra[1])+':'+'%.2f'%np.round(ra[2],2)\n",
    "            dec_label = '+'+'%02d'%int(dec[0])+':'+'%02d'%int(dec[1])+':'+'%04.2f'%np.round(dec[2],1)\n",
    "\n",
    "            f.write('\\n@' + str(idx) + ' ' + ra_label + ' ' + dec_label + ' ' + '%.2f'%np.round(p, 2) + ' # ' + \n",
    "                  '%.2f'%np.round(mag, 2) + ' ' + '%.2f'%np.round(theta, 2))            "
   ]
  },
  {
   "cell_type": "code",
   "execution_count": null,
   "id": "bf17ba82",
   "metadata": {},
   "outputs": [],
   "source": []
  }
 ],
 "metadata": {
  "kernelspec": {
   "display_name": "Python 3 (ipykernel)",
   "language": "python",
   "name": "python3"
  },
  "language_info": {
   "codemirror_mode": {
    "name": "ipython",
    "version": 3
   },
   "file_extension": ".py",
   "mimetype": "text/x-python",
   "name": "python",
   "nbconvert_exporter": "python",
   "pygments_lexer": "ipython3",
   "version": "3.9.13"
  }
 },
 "nbformat": 4,
 "nbformat_minor": 5
}
