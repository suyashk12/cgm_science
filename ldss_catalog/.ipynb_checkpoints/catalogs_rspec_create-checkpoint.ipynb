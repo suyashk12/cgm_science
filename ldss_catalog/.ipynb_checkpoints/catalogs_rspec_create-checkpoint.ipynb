{
 "cells": [
  {
   "cell_type": "code",
   "execution_count": 1,
   "id": "14ff1075",
   "metadata": {},
   "outputs": [],
   "source": [
    "import numpy as np\n",
    "import matplotlib.pyplot as plt\n",
    "from astropy.io import fits\n",
    "from astropy import constants, units\n",
    "from astropy.coordinates import Angle\n",
    "from scipy.optimize import curve_fit\n",
    "import pandas as pd\n",
    "import os"
   ]
  },
  {
   "cell_type": "code",
   "execution_count": 2,
   "id": "fa672a7e",
   "metadata": {},
   "outputs": [],
   "source": [
    "rootdir = '/Users/thepoetoftwilight/Documents/CUBS/Data/PG1522+101/'"
   ]
  },
  {
   "cell_type": "markdown",
   "id": "d69ab2b3",
   "metadata": {},
   "source": [
    "Load in the catalogs, first the subset containing all MUSE objects"
   ]
  },
  {
   "cell_type": "code",
   "execution_count": 3,
   "id": "7975519f",
   "metadata": {},
   "outputs": [],
   "source": [
    "ldss_photo_cat = np.loadtxt(rootdir+'ldss_photometry_final_subset.dat', skiprows=1, delimiter=',', dtype=float)"
   ]
  },
  {
   "cell_type": "code",
   "execution_count": 4,
   "id": "8eafe73b",
   "metadata": {},
   "outputs": [],
   "source": [
    "z_arr = ldss_photo_cat[:,7]"
   ]
  },
  {
   "cell_type": "code",
   "execution_count": 5,
   "id": "7317e754",
   "metadata": {},
   "outputs": [],
   "source": [
    "ra_arr_deg = ldss_photo_cat[:,0]\n",
    "dec_arr_deg = ldss_photo_cat[:,1]"
   ]
  },
  {
   "cell_type": "code",
   "execution_count": 6,
   "id": "4ce6bf3c",
   "metadata": {
    "scrolled": true
   },
   "outputs": [],
   "source": [
    "ra_arr_hms = [Angle(a, units.degree).hms for a in ra_arr_deg]\n",
    "dec_arr_dms = [Angle(a, units.degree).dms for a in dec_arr_deg]"
   ]
  },
  {
   "cell_type": "code",
   "execution_count": 7,
   "id": "cf7b55c6",
   "metadata": {},
   "outputs": [],
   "source": [
    "ra_arr_labels = ['%02d'%int(x[0])+':'+'%02d'%int(x[1])+':'+'%.2f'%np.round(x[2],2) for x in ra_arr_hms]\n",
    "dec_arr_labels = ['+'+'%02d'%int(y[0])+':'+'%02d'%int(y[1])+':'+'%04.1f'%np.round(y[2],1) for y in dec_arr_dms]"
   ]
  },
  {
   "cell_type": "code",
   "execution_count": 8,
   "id": "d9e6ae9b",
   "metadata": {},
   "outputs": [],
   "source": [
    "with open(rootdir+'ldss_MUSE_rspec.reg', 'w') as f:\n",
    "    \n",
    "    # Header information\n",
    "    \n",
    "    #f.write('# Region file format: DS9 version 4.1'+'\\n')\n",
    "    #f.write('global color=green dashlist=8 3 width=1 font=\"helvetica 10 normal roman\" select=1 highlite=1 dash=0 ')\n",
    "    #f.write('fixed=0 edit=1 move=1 delete=1 include=1 source=1'+'\\n')\n",
    "    #f.write('fk5')\n",
    "    \n",
    "    # Write out the objects\n",
    "    for i in range(len(z_arr)):\n",
    "\n",
    "        f.write('\\ncircle(' + ra_arr_labels[i] + ',' + dec_arr_labels[i] + ',1.000\") # color=cyan') \n",
    "        \n",
    "        if(z_arr[i]!=-1): \n",
    "            f.write(' width=2 font=\"helvetica 10 bold roman\" ' + 'text={' + '%.4f'%np.round(z_arr[i], 4) + '}')\n",
    "        \n",
    "    f.write('\\nbox(15:24:24.5825,+9:58:30.325,61.392\",63.802\",0) # color=yellow')"
   ]
  },
  {
   "cell_type": "code",
   "execution_count": null,
   "id": "d887a7f5",
   "metadata": {},
   "outputs": [],
   "source": []
  }
 ],
 "metadata": {
  "kernelspec": {
   "display_name": "Python 3 (ipykernel)",
   "language": "python",
   "name": "python3"
  },
  "language_info": {
   "codemirror_mode": {
    "name": "ipython",
    "version": 3
   },
   "file_extension": ".py",
   "mimetype": "text/x-python",
   "name": "python",
   "nbconvert_exporter": "python",
   "pygments_lexer": "ipython3",
   "version": "3.9.13"
  }
 },
 "nbformat": 4,
 "nbformat_minor": 5
}
