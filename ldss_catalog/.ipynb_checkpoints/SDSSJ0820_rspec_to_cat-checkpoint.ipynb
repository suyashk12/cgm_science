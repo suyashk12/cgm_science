{
 "cells": [
  {
   "cell_type": "code",
   "execution_count": 7,
   "id": "b1c3dffe",
   "metadata": {},
   "outputs": [],
   "source": [
    "import numpy as np\n",
    "import matplotlib.pyplot as plt\n",
    "from astropy.io import fits\n",
    "from astropy import constants, units\n",
    "from astropy.coordinates import Angle\n",
    "from scipy.optimize import curve_fit\n",
    "import pandas as pd\n",
    "import os\n",
    "from scipy.signal import medfilt\n",
    "from astropy.wcs import WCS\n",
    "import scipy.integrate as integrate\n",
    "import re"
   ]
  },
  {
   "cell_type": "code",
   "execution_count": 8,
   "id": "ab68c276",
   "metadata": {},
   "outputs": [],
   "source": [
    "rootdir = '/Users/thepoetoftwilight/Documents/CUBS/Data/SDSSJ0820/HST_images/'"
   ]
  },
  {
   "cell_type": "code",
   "execution_count": 9,
   "id": "1aa460bc",
   "metadata": {},
   "outputs": [],
   "source": [
    "with open(rootdir + 'ldss_galaxies_edited.reg', 'r') as file:\n",
    "    lines = [line.rstrip() for line in file]"
   ]
  },
  {
   "cell_type": "code",
   "execution_count": 11,
   "id": "a5da5f68",
   "metadata": {},
   "outputs": [],
   "source": [
    "star_lines = [l for l in lines if 'red' in l]"
   ]
  },
  {
   "cell_type": "code",
   "execution_count": 53,
   "id": "df31633d",
   "metadata": {},
   "outputs": [
    {
     "data": {
      "text/plain": [
       "['circle(8:20:42.7000,+3:59:05.400,1.000\") # color=red text={17.0300}',\n",
       " 'circle(8:20:37.0600,+3:58:01.500,1.000\") # color=red text={17.7000}',\n",
       " 'circle(8:20:38.9900,+3:57:04.300,1.000\") # color=red text={18.5000}',\n",
       " 'circle(8:20:39.2700,+3:57:40.500,1.000\") # color=red text={18.6200}',\n",
       " 'circle(8:20:45.7000,+3:56:00.500,1.000\") # color=red text={17.6400}']"
      ]
     },
     "execution_count": 53,
     "metadata": {},
     "output_type": "execute_result"
    }
   ],
   "source": [
    "star_lines"
   ]
  },
  {
   "cell_type": "code",
   "execution_count": 54,
   "id": "f2573d21",
   "metadata": {},
   "outputs": [],
   "source": [
    "star_ras = [star_lines[i].split()[0][7:-1].split(',')[0] for i in range(len(star_lines))] \n",
    "star_decs = [star_lines[i].split()[0][7:-1].split(',')[1] for i in range(len(star_lines))]\n",
    "star_mags = [star_lines[i].split()[-1][6:-1] for i in range(len(star_lines))]"
   ]
  },
  {
   "cell_type": "code",
   "execution_count": 56,
   "id": "cc955766",
   "metadata": {},
   "outputs": [],
   "source": [
    "gal_lines = [l for l in lines if 'red' not in l and 'circle' in l]"
   ]
  },
  {
   "cell_type": "code",
   "execution_count": 57,
   "id": "5ff9807c",
   "metadata": {},
   "outputs": [],
   "source": [
    "gal_ras = [gal_lines[i].split()[0][7:-1].split(',')[0] for i in range(len(gal_lines))] \n",
    "gal_decs = [gal_lines[i].split()[0][7:-1].split(',')[1] for i in range(len(gal_lines))]\n",
    "gal_mags = [gal_lines[i].split()[-1][6:-1].split(',')[0] for i in range(len(gal_lines))]\n",
    "gal_thetas = [gal_lines[i].split()[-1][6:-1].split(',')[1] for i in range(len(gal_lines))]\n",
    "gal_ps = [gal_lines[i].split()[-1][6:-1].split(',')[2] for i in range(len(gal_lines))]"
   ]
  },
  {
   "cell_type": "code",
   "execution_count": null,
   "id": "cbda5177",
   "metadata": {},
   "outputs": [],
   "source": [
    "with open(rootdir+'SDSSJ0820.cat', 'w') as f:\n",
    "    \n",
    "    # First write out the alignment stars\n",
    "    \n",
    "    f.write('#Reference ID RA Dec HST_I_mag')\n",
    "    \n",
    "    for i in range(len(star_lines)):\n",
    "\n",
    "        ra = star_ras[i]\n",
    "        dec = star_decs[i]\n",
    "        mag = star_mags[i]\n",
    "\n",
    "        ra_label = '%02d'%int(ra[0])+':'+'%02d'%int(ra[1])+':'+'%.2f'%np.round(ra[2],2)\n",
    "        dec_label = '+'+'%02d'%int(dec[0])+':'+'%02d'%int(dec[1])+':'+'%04.2f'%np.round(dec[2],1)\n",
    "\n",
    "        f.write('\\n*star' + str(i) + ' ' + ra + ' ' + dec + ' # ' + mag)\n",
    "        \n",
    "    # Then write out the galaxies\n",
    "    \n",
    "    f.write('\\n#Object ID RA Dec Priority HST_I_mag theta')\n",
    "    \n",
    "    for i in range(len(theta_partitions)-1):\n",
    "\n",
    "        theta_min = theta_partitions[i]\n",
    "        theta_max = theta_partitions[i+1]\n",
    "\n",
    "        df_slice = df_gals.loc[(df_gals['theta']>=theta_min)&(df_gals['theta']<=theta_max)].sort_values('f814w_mag')\n",
    "\n",
    "        idx_list = df_slice.index\n",
    "\n",
    "        for j in range(len(priorities_sorted[i])):\n",
    "\n",
    "            idx = idx_list[j]\n",
    "            ra = Angle(ra_sorted[i][j], units.deg).hms\n",
    "            dec = Angle(dec_sorted[i][j], units.deg).dms\n",
    "            mag = mag_sorted[i][j]   \n",
    "            theta = theta_sorted[i][j]\n",
    "            p = priorities_sorted[i][j]\n",
    "            \n",
    "            ra_label = '%02d'%int(ra[0])+':'+'%02d'%int(ra[1])+':'+'%.2f'%np.round(ra[2],2)\n",
    "            dec_label = '+'+'%02d'%int(dec[0])+':'+'%02d'%int(dec[1])+':'+'%04.2f'%np.round(dec[2],1)\n",
    "\n",
    "            f.write('\\n@' + str(idx) + ' ' + ra_label + ' ' + dec_label + ' ' + '%.2f'%np.round(p, 2) + ' # ' + \n",
    "                  '%.2f'%np.round(mag, 2) + ' ' + '%.2f'%np.round(theta, 2))            "
   ]
  }
 ],
 "metadata": {
  "kernelspec": {
   "display_name": "Python 3 (ipykernel)",
   "language": "python",
   "name": "python3"
  },
  "language_info": {
   "codemirror_mode": {
    "name": "ipython",
    "version": 3
   },
   "file_extension": ".py",
   "mimetype": "text/x-python",
   "name": "python",
   "nbconvert_exporter": "python",
   "pygments_lexer": "ipython3",
   "version": "3.9.13"
  }
 },
 "nbformat": 4,
 "nbformat_minor": 5
}
