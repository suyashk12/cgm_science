{
 "cells": [
  {
   "cell_type": "code",
   "execution_count": 1,
   "id": "b7fe1037",
   "metadata": {},
   "outputs": [],
   "source": [
    "import numpy as np\n",
    "import matplotlib.pyplot as plt\n",
    "from astropy.io import fits\n",
    "from astropy import constants, units\n",
    "from astropy.coordinates import Angle\n",
    "from scipy.optimize import curve_fit\n",
    "import pandas as pd\n",
    "import os\n",
    "from scipy.signal import medfilt\n",
    "from astropy.wcs import WCS\n",
    "import scipy.integrate as integrate\n",
    "from astropy.coordinates import SkyCoord\n",
    "from gwcs.wcstools import wcs_from_points\n",
    "import astropy.coordinates as coord"
   ]
  },
  {
   "cell_type": "code",
   "execution_count": 2,
   "id": "ad6f5cc8",
   "metadata": {},
   "outputs": [],
   "source": [
    "with open('/Users/thepoetoftwilight/Documents/CUBS/maskgen/PG1522m2.obw', 'r') as file:\n",
    "    lines = [line.rstrip() for line in file]"
   ]
  },
  {
   "cell_type": "code",
   "execution_count": 3,
   "id": "0b7d7afc",
   "metadata": {},
   "outputs": [],
   "source": [
    "obj_lines = []\n",
    "\n",
    "for l in lines:\n",
    "    if('Use=1' in l or 'Use=2' in l):\n",
    "        obj_lines.append(l)"
   ]
  },
  {
   "cell_type": "code",
   "execution_count": 4,
   "id": "738c4a29",
   "metadata": {},
   "outputs": [],
   "source": [
    "star_lines = []\n",
    "\n",
    "for l in obj_lines:\n",
    "    if(l[0]=='*'):\n",
    "        star_lines.append(l)"
   ]
  },
  {
   "cell_type": "code",
   "execution_count": 5,
   "id": "81b81852",
   "metadata": {},
   "outputs": [],
   "source": [
    "gal_lines = []\n",
    "\n",
    "for l in obj_lines:\n",
    "    if(l[0]!='*'):\n",
    "        gal_lines.append(l)"
   ]
  },
  {
   "cell_type": "code",
   "execution_count": 6,
   "id": "000b0eed",
   "metadata": {},
   "outputs": [],
   "source": [
    "star_ra_list = [l.split()[1] for l in star_lines]\n",
    "star_dec_list = [l.split()[2] for l in star_lines]\n",
    "star_mags_list = [l.split()[-1] for l in star_lines]"
   ]
  },
  {
   "cell_type": "code",
   "execution_count": 7,
   "id": "e8db6fa9",
   "metadata": {},
   "outputs": [],
   "source": [
    "gal_ra_list = []\n",
    "gal_dec_list = []\n",
    "gal_mags_list = []\n",
    "gal_theta_list = []\n",
    "\n",
    "for l in gal_lines:\n",
    "    gal_ra_list.append(l.split()[1])\n",
    "    gal_dec_list.append(l.split()[2])\n",
    "    gal_mags_list.append(l.split()[-2])\n",
    "    gal_theta_list.append(l.split()[-1])"
   ]
  },
  {
   "cell_type": "code",
   "execution_count": 8,
   "id": "0e0da07d",
   "metadata": {},
   "outputs": [],
   "source": [
    "with open('/Users/thepoetoftwilight/Documents/CUBS/Data/PG1522+101/ldss_final_objects.reg', 'w') as f:\n",
    "    \n",
    "    for i in range(len(star_ra_list)):\n",
    "        f.write('circle(' + star_ra_list[i] + ',' + star_dec_list[i] + ',1.0\") #color = white text={' + star_mags_list[i] + '}\\n')\n",
    "    \n",
    "    for i in range(len(gal_ra_list)):\n",
    "        f.write('circle(' + gal_ra_list[i] + ',' + gal_dec_list[i] + ',1.0\") #color = magenta text={' + gal_mags_list[i] + ',' + gal_theta_list[i] + '}\\n')"
   ]
  },
  {
   "cell_type": "code",
   "execution_count": 9,
   "id": "fe26dedb",
   "metadata": {},
   "outputs": [
    {
     "data": {
      "text/plain": [
       "25"
      ]
     },
     "execution_count": 9,
     "metadata": {},
     "output_type": "execute_result"
    }
   ],
   "source": [
    "len(gal_ra_list)"
   ]
  },
  {
   "cell_type": "code",
   "execution_count": null,
   "id": "d89f238a",
   "metadata": {},
   "outputs": [],
   "source": []
  }
 ],
 "metadata": {
  "kernelspec": {
   "display_name": "Python 3 (ipykernel)",
   "language": "python",
   "name": "python3"
  },
  "language_info": {
   "codemirror_mode": {
    "name": "ipython",
    "version": 3
   },
   "file_extension": ".py",
   "mimetype": "text/x-python",
   "name": "python",
   "nbconvert_exporter": "python",
   "pygments_lexer": "ipython3",
   "version": "3.9.13"
  }
 },
 "nbformat": 4,
 "nbformat_minor": 5
}
