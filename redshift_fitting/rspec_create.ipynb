{
 "cells": [
  {
   "cell_type": "code",
   "execution_count": 1,
   "metadata": {},
   "outputs": [],
   "source": [
    "import numpy as np\n",
    "import matplotlib.pyplot as plt\n",
    "from astropy.io import fits\n",
    "from astropy import constants, units\n",
    "from astropy.coordinates import Angle\n",
    "from scipy.optimize import curve_fit\n",
    "import pandas as pd\n",
    "import os"
   ]
  },
  {
   "cell_type": "code",
   "execution_count": 2,
   "metadata": {},
   "outputs": [],
   "source": [
    "rootdir = '/Users/thepoetoftwilight/Documents/CUBS/Data/PG1522+101/MUSE/'"
   ]
  },
  {
   "cell_type": "markdown",
   "metadata": {},
   "source": [
    "Load in coordinates and redshifts for my catalog"
   ]
  },
  {
   "cell_type": "code",
   "execution_count": 3,
   "metadata": {},
   "outputs": [],
   "source": [
    "cat_file = np.loadtxt(rootdir + 'test_new_updated.cat')"
   ]
  },
  {
   "cell_type": "code",
   "execution_count": 4,
   "metadata": {},
   "outputs": [],
   "source": [
    "gal_ids_arr = np.int_(cat_file[:,0])"
   ]
  },
  {
   "cell_type": "code",
   "execution_count": 5,
   "metadata": {},
   "outputs": [],
   "source": [
    "x_world = cat_file[:,1]\n",
    "y_world = cat_file[:,2]"
   ]
  },
  {
   "cell_type": "code",
   "execution_count": 6,
   "metadata": {},
   "outputs": [],
   "source": [
    "x_world_deg = [x*units.deg for x in x_world]\n",
    "y_world_deg = [y*units.deg for y in y_world]"
   ]
  },
  {
   "cell_type": "code",
   "execution_count": 7,
   "metadata": {},
   "outputs": [],
   "source": [
    "x_world_rad = [x.to(units.rad) for x in x_world_deg]\n",
    "y_world_rad = [y.to(units.rad) for y in y_world_deg]"
   ]
  },
  {
   "cell_type": "code",
   "execution_count": 8,
   "metadata": {},
   "outputs": [],
   "source": [
    "ra_new_hms = [Angle(x).hms for x in x_world_deg]\n",
    "dec_new_dms = [Angle(y).dms for y in y_world_deg]"
   ]
  },
  {
   "cell_type": "code",
   "execution_count": 9,
   "metadata": {},
   "outputs": [],
   "source": [
    "ra_new_hms_str = ['%02d'%int(x[0])+':'+'%02d'%int(x[1])+':'+'%.2f'%np.round(x[2],2) for x in ra_new_hms]\n",
    "dec_new_dms_str = ['+'+'%02d'%int(y[0])+':'+'%02d'%int(y[1])+':'+'%04.1f'%np.round(y[2],1) for y in dec_new_dms]"
   ]
  },
  {
   "cell_type": "code",
   "execution_count": 10,
   "metadata": {},
   "outputs": [],
   "source": [
    "z_ids_arr = cat_file[:,12]"
   ]
  },
  {
   "cell_type": "code",
   "execution_count": 11,
   "metadata": {},
   "outputs": [
    {
     "name": "stdout",
     "output_type": "stream",
     "text": [
      "circle(15:24:25.75,+09:58:02.8, 1.0\") #color = cyan text = {0.5356}\n",
      "circle(15:24:25.21,+09:58:01.9, 1.0\") #color = cyan text = {0.4581}\n",
      "circle(15:24:23.05,+09:58:00.3, 1.0\") #color = cyan text = {0.9576}\n",
      "circle(15:24:24.95,+09:58:00.1, 1.0\") #color = cyan text = {0.8217}\n",
      "circle(15:24:23.61,+09:58:59.8, 1.0\") #color = cyan text = {0.4784}\n",
      "circle(15:24:23.36,+09:58:59.1, 1.0\") #color = cyan text = {0.1393}\n",
      "circle(15:24:22.99,+09:58:53.9, 1.0\") #color = cyan text = {1.1935}\n",
      "circle(15:24:23.92,+09:58:52.3, 1.0\") #color = cyan text = {1.0959}\n",
      "circle(15:24:23.52,+09:58:46.7, 1.0\") #color = cyan text = {0.6469}\n",
      "circle(15:24:26.25,+09:58:46.1, 1.0\") #color = cyan text = {1.3379}\n",
      "circle(15:24:25.48,+09:58:41.2, 1.0\") #color = cyan text = {0.7010}\n",
      "circle(15:24:24.80,+09:58:37.7, 1.0\") #color = cyan text = {0.1204}\n",
      "circle(15:24:24.69,+09:58:33.9, 1.0\") #color = cyan text = {0.1203}\n",
      "circle(15:24:25.66,+09:58:35.1, 1.0\") #color = cyan text = {0.6531}\n",
      "circle(15:24:23.54,+09:58:34.4, 1.0\") #color = cyan text = {1.2256}\n",
      "circle(15:24:23.44,+09:58:33.4, 1.0\") #color = cyan text = {0.5723}\n",
      "circle(15:24:26.12,+09:58:33.6, 1.0\") #color = cyan text = {0.7293}\n",
      "circle(15:24:23.81,+09:58:29.0, 1.0\") #color = cyan text = {1.3641}\n",
      "circle(15:24:23.58,+09:58:28.5, 1.0\") #color = cyan text = {0.3759}\n",
      "circle(15:24:26.15,+09:58:18.2, 1.0\") #color = cyan text = {0.5191}\n",
      "circle(15:24:23.96,+09:58:22.9, 1.0\") #color = cyan text = {1.3348}\n",
      "circle(15:24:23.76,+09:58:18.1, 1.0\") #color = cyan text = {0.3286}\n",
      "circle(15:24:24.42,+09:58:18.9, 1.0\") #color = cyan text = {0.3198}\n",
      "circle(15:24:23.05,+09:58:16.8, 1.0\") #color = cyan text = {0.2791}\n",
      "circle(15:24:22.89,+09:58:16.1, 1.0\") #color = cyan text = {0.5205}\n",
      "circle(15:24:26.11,+09:58:15.7, 1.0\") #color = cyan text = {1.3303}\n",
      "circle(15:24:23.52,+09:58:14.2, 1.0\") #color = cyan text = {1.2787}\n",
      "circle(15:24:24.85,+09:58:12.9, 1.0\") #color = cyan text = {0.6174}\n",
      "circle(15:24:23.43,+09:58:12.2, 1.0\") #color = cyan text = {1.3392}\n",
      "circle(15:24:22.62,+09:58:12.5, 1.0\") #color = cyan text = {1.3390}\n",
      "circle(15:24:25.25,+09:58:10.7, 1.0\") #color = cyan text = {0.3752}\n",
      "circle(15:24:23.55,+09:58:09.8, 1.0\") #color = cyan text = {0.2915}\n",
      "circle(15:24:23.24,+09:58:08.9, 1.0\") #color = cyan text = {1.3379}\n",
      "circle(15:24:25.14,+09:58:07.6, 1.0\") #color = cyan text = {0.6178}\n",
      "circle(15:24:25.58,+09:58:06.5, 1.0\") #color = cyan text = {0.6183}\n",
      "circle(15:24:22.65,+09:58:04.2, 1.0\") #color = cyan text = {0.4395}\n",
      "circle(15:24:23.40,+09:58:04.0, 1.0\") #color = cyan text = {1.3393}\n",
      "circle(15:24:23.01,+09:58:03.7, 1.0\") #color = cyan text = {0.6780}\n",
      "circle(15:24:24.35,+09:58:56.3, 1.0\") #color = cyan text = {0.0966}\n"
     ]
    }
   ],
   "source": [
    "for i in range(len(ra_new_hms_str)):\n",
    "    if(z_ids_arr[i]!=-1 and z_ids_arr[i]!=0):\n",
    "        print('circle('+ra_new_hms_str[i]+','+dec_new_dms_str[i]+', 1.0\") #color = cyan text = {'+'%.4f'%np.round(z_ids_arr[i], 4)+'}')"
   ]
  },
  {
   "cell_type": "markdown",
   "metadata": {},
   "source": [
    "Put in custom redshifts"
   ]
  },
  {
   "cell_type": "code",
   "execution_count": 12,
   "metadata": {},
   "outputs": [],
   "source": [
    "custom_coords_x = [154, 168, 276, 152, 111, 242, 212, 227]\n",
    "custom_coords_y = [197, 174, 310, 242, 66, 69, 270, 105]\n",
    "custom_redshifts = [1.3365, 1.3306, 0.5257, 0.1264, 0.6478, 0.1335, 1.1932, 0.8609]"
   ]
  },
  {
   "cell_type": "markdown",
   "metadata": {},
   "source": [
    "Load in the MUSE FITS file"
   ]
  },
  {
   "cell_type": "code",
   "execution_count": 13,
   "metadata": {},
   "outputs": [],
   "source": [
    "muse_fits = fits.open(rootdir + 'COMBINED_CUBE_MED_FINAL_vac_sub_15_pix.fits')"
   ]
  },
  {
   "cell_type": "markdown",
   "metadata": {},
   "source": [
    "Extract the RA array"
   ]
  },
  {
   "cell_type": "code",
   "execution_count": 14,
   "metadata": {},
   "outputs": [
    {
     "name": "stdout",
     "output_type": "stream",
     "text": [
      "Filename: /Users/thepoetoftwilight/Documents/CUBS/Data/PG1522+101/MUSE/COMBINED_CUBE_MED_FINAL_vac_sub_15_pix.fits\n",
      "No.    Name      Ver    Type      Cards   Dimensions   Format\n",
      "  0  PRIMARY       1 PrimaryHDU    1211   ()      \n",
      "  1  DATA          1 ImageHDU        42   (337, 319, 3682)   float32   \n",
      "  2  STAT          1 ImageHDU        43   (337, 319, 3682)   float32   \n"
     ]
    }
   ],
   "source": [
    "muse_fits.info()"
   ]
  },
  {
   "cell_type": "code",
   "execution_count": 15,
   "metadata": {},
   "outputs": [],
   "source": [
    "data_hdu = muse_fits[1]"
   ]
  },
  {
   "cell_type": "code",
   "execution_count": 16,
   "metadata": {},
   "outputs": [
    {
     "data": {
      "text/plain": [
       "XTENSION= 'IMAGE   '           / IMAGE extension                                \n",
       "BITPIX  =                  -32 / number of bits per data pixel                  \n",
       "NAXIS   =                    3 / number of data axes                            \n",
       "NAXIS1  =                  337 / Axis lenght                                    \n",
       "NAXIS2  =                  319 / Axis lenght                                    \n",
       "NAXIS3  =                 3682 / Axis lenght                                    \n",
       "PCOUNT  =                    0 / required keyword; must = 0                     \n",
       "GCOUNT  =                    1 / required keyword; must = 1                     \n",
       "EXTNAME = 'DATA    '           / This extension contains data values            \n",
       "HDUCLASS= 'ESO     '           / class name (ESO format)                        \n",
       "HDUDOC  = 'DICD    '           / document with class description                \n",
       "HDUVERS = 'DICD version 6'     / version number (according to spec v2.5.1)      \n",
       "HDUCLAS1= 'IMAGE   '           / Image data format                              \n",
       "HDUCLAS2= 'DATA    '           / this extension contains the data itself        \n",
       "ERRDATA = 'STAT    '           / pointer to the variance extension              \n",
       "OBJECT  = 'PG1522+101 (DATA)'                                                   \n",
       "BUNIT   = '10**(-20)*erg/s/cm**2/Angstrom'                                      \n",
       "CRPIX1  =     175.198642127826 / Pixel coordinate of reference point            \n",
       "CRPIX2  =     155.213244803637 / Pixel coordinate of reference point            \n",
       "CD1_1   = -5.55555555555556E-05 / Coordinate transformation matrix element      \n",
       "CD1_2   =                   0. / Coordinate transformation matrix element       \n",
       "CD2_1   =                   0. / Coordinate transformation matrix element       \n",
       "CD2_2   = 5.55555555555556E-05 / Coordinate transformation matrix element       \n",
       "CUNIT1  = 'deg     '           / Units of coordinate increment and value        \n",
       "CUNIT2  = 'deg     '           / Units of coordinate increment and value        \n",
       "CTYPE1  = 'RA---TAN'           / Right ascension, gnomonic projection           \n",
       "CTYPE2  = 'DEC--TAN'           / Declination, gnomonic projection               \n",
       "CSYER1  =     1.2298399761E-05 / [deg] Systematic error in coordinate           \n",
       "CSYER2  =    9.26900810156E-06 / [deg] Systematic error in coordinate           \n",
       "CRVAL1  =     231.101745767648                                                  \n",
       "CRVAL2  =     9.97443647575755                                                  \n",
       "CTYPE3  = 'AWAV    '                                                            \n",
       "CUNIT3  = 'Angstrom'                                                            \n",
       "CD3_3   =                 1.25                                                  \n",
       "CRPIX3  =                   1.                                                  \n",
       "CRVAL3  =    4751.284541786687                                                  \n",
       "CD1_3   =                   0.                                                  \n",
       "CD2_3   =                   0.                                                  \n",
       "CD3_1   =                   0.                                                  \n",
       "CD3_2   =                   0.                                                  \n",
       "CHECKSUM= 'KapgKTogKYogKYog'   / HDU checksum updated 2022-10-20T18:05:14       \n",
       "DATASUM = '2104492837'         / data unit checksum updated 2022-10-20T18:05:14 "
      ]
     },
     "execution_count": 16,
     "metadata": {},
     "output_type": "execute_result"
    }
   ],
   "source": [
    "data_hdu.header"
   ]
  },
  {
   "cell_type": "markdown",
   "metadata": {},
   "source": [
    "Extract the MUSE cube as a 3-D array"
   ]
  },
  {
   "cell_type": "code",
   "execution_count": 17,
   "metadata": {},
   "outputs": [],
   "source": [
    "spec_cube = data_hdu.data.copy()"
   ]
  },
  {
   "cell_type": "code",
   "execution_count": 18,
   "metadata": {
    "scrolled": true
   },
   "outputs": [
    {
     "data": {
      "text/plain": [
       "(3682, 319, 337)"
      ]
     },
     "execution_count": 18,
     "metadata": {},
     "output_type": "execute_result"
    }
   ],
   "source": [
    "spec_cube.shape"
   ]
  },
  {
   "cell_type": "markdown",
   "metadata": {},
   "source": [
    "Extract the RA array"
   ]
  },
  {
   "cell_type": "code",
   "execution_count": 19,
   "metadata": {},
   "outputs": [],
   "source": [
    "RA_ref_pix = data_hdu.header['CRPIX1']-1\n",
    "RA_ref_val = data_hdu.header['CRVAL1']\n",
    "del_RA = data_hdu.header['CD1_1']"
   ]
  },
  {
   "cell_type": "code",
   "execution_count": 20,
   "metadata": {},
   "outputs": [],
   "source": [
    "RA_0_val = RA_ref_val - del_RA*RA_ref_pix"
   ]
  },
  {
   "cell_type": "code",
   "execution_count": 21,
   "metadata": {},
   "outputs": [],
   "source": [
    "RA_arr = np.arange(RA_0_val, RA_0_val + spec_cube.shape[2]*del_RA, del_RA)"
   ]
  },
  {
   "cell_type": "code",
   "execution_count": 22,
   "metadata": {},
   "outputs": [],
   "source": [
    "RA_arr_deg = [Angle(ra, units.degree) for ra in RA_arr]"
   ]
  },
  {
   "cell_type": "code",
   "execution_count": 23,
   "metadata": {},
   "outputs": [],
   "source": [
    "RA_arr_hms = [ra.hms for ra in RA_arr_deg]"
   ]
  },
  {
   "cell_type": "code",
   "execution_count": 24,
   "metadata": {},
   "outputs": [],
   "source": [
    "RA_arr_labels = ['%02d'%int(x[0])+':'+'%02d'%int(x[1])+':'+'%.2f'%np.round(x[2],2) for x in RA_arr_hms]"
   ]
  },
  {
   "cell_type": "markdown",
   "metadata": {},
   "source": [
    "Extract Dec array"
   ]
  },
  {
   "cell_type": "code",
   "execution_count": 25,
   "metadata": {},
   "outputs": [],
   "source": [
    "Dec_ref_pix = data_hdu.header['CRPIX2']-1\n",
    "Dec_ref_val = data_hdu.header['CRVAL2']\n",
    "del_Dec = data_hdu.header['CD2_2']"
   ]
  },
  {
   "cell_type": "code",
   "execution_count": 26,
   "metadata": {},
   "outputs": [],
   "source": [
    "Dec_0_val = Dec_ref_val - del_Dec*Dec_ref_pix"
   ]
  },
  {
   "cell_type": "code",
   "execution_count": 27,
   "metadata": {},
   "outputs": [],
   "source": [
    "Dec_arr = np.arange(Dec_0_val, Dec_0_val + spec_cube.shape[1]*del_Dec, del_Dec)"
   ]
  },
  {
   "cell_type": "code",
   "execution_count": 28,
   "metadata": {},
   "outputs": [],
   "source": [
    "Dec_arr_deg = [Angle(dec, units.degree) for dec in Dec_arr]"
   ]
  },
  {
   "cell_type": "code",
   "execution_count": 29,
   "metadata": {},
   "outputs": [],
   "source": [
    "Dec_arr_dms = [dec.dms for dec in Dec_arr_deg]"
   ]
  },
  {
   "cell_type": "code",
   "execution_count": 30,
   "metadata": {},
   "outputs": [],
   "source": [
    "Dec_arr_labels = ['+'+'%02d'%int(y[0])+':'+'%02d'%int(y[1])+':'+'%04.1f'%np.round(y[2],1) for y in Dec_arr_dms]"
   ]
  },
  {
   "cell_type": "markdown",
   "metadata": {},
   "source": [
    "Put in RA/ Dec labels for custom objects"
   ]
  },
  {
   "cell_type": "code",
   "execution_count": 31,
   "metadata": {},
   "outputs": [],
   "source": [
    "custom_coords_ra = []\n",
    "custom_coords_dec = []"
   ]
  },
  {
   "cell_type": "code",
   "execution_count": 32,
   "metadata": {},
   "outputs": [],
   "source": [
    "for i in range(len(custom_coords_x)):\n",
    "    custom_coords_ra.append(RA_arr_labels[custom_coords_x[i]-1])\n",
    "    custom_coords_dec.append(Dec_arr_labels[custom_coords_y[i]-1])"
   ]
  },
  {
   "cell_type": "markdown",
   "metadata": {},
   "source": [
    "Print out rspec lines"
   ]
  },
  {
   "cell_type": "code",
   "execution_count": 33,
   "metadata": {},
   "outputs": [
    {
     "name": "stdout",
     "output_type": "stream",
     "text": [
      "circle(15:24:24.70,+09:58:36.3, 1.0\") #color = red text = {1.3365}\n",
      "circle(15:24:24.51,+09:58:31.7, 1.0\") #color = red text = {1.3306}\n",
      "circle(15:24:23.07,+09:58:58.9, 1.0\") #color = red text = {0.5257}\n",
      "circle(15:24:24.73,+09:58:45.3, 1.0\") #color = red text = {0.1264}\n",
      "circle(15:24:25.27,+09:58:10.1, 1.0\") #color = red text = {0.6478}\n",
      "circle(15:24:23.53,+09:58:10.7, 1.0\") #color = red text = {0.1335}\n",
      "circle(15:24:23.93,+09:58:50.9, 1.0\") #color = red text = {1.1932}\n",
      "circle(15:24:23.73,+09:58:17.9, 1.0\") #color = red text = {0.8609}\n"
     ]
    }
   ],
   "source": [
    "for i in range(len(custom_coords_ra)):\n",
    "        print('circle('+custom_coords_ra[i]+','+custom_coords_dec[i]+', 1.0\") #color = red text = {'+'%.4f'%np.round(custom_redshifts[i], 4)+'}')"
   ]
  },
  {
   "cell_type": "code",
   "execution_count": null,
   "metadata": {},
   "outputs": [],
   "source": []
  }
 ],
 "metadata": {
  "kernelspec": {
   "display_name": "Python 3 (ipykernel)",
   "language": "python",
   "name": "python3"
  },
  "language_info": {
   "codemirror_mode": {
    "name": "ipython",
    "version": 3
   },
   "file_extension": ".py",
   "mimetype": "text/x-python",
   "name": "python",
   "nbconvert_exporter": "python",
   "pygments_lexer": "ipython3",
   "version": "3.9.13"
  }
 },
 "nbformat": 4,
 "nbformat_minor": 4
}
