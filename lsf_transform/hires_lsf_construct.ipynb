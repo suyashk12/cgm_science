{
 "cells": [
  {
   "cell_type": "code",
   "execution_count": 1,
   "id": "23fd8928",
   "metadata": {},
   "outputs": [],
   "source": [
    "from astropy.io import fits\n",
    "from astropy import units, constants\n",
    "import numpy as np\n",
    "import pandas as pd\n",
    "import matplotlib.pyplot as plt\n",
    "import os\n",
    "import pickle"
   ]
  },
  {
   "cell_type": "code",
   "execution_count": 2,
   "id": "5921e1fd",
   "metadata": {},
   "outputs": [],
   "source": [
    "rootdir = '/Users/thepoetoftwilight/Documents/Astro/Data/PG1522+101/'"
   ]
  },
  {
   "cell_type": "markdown",
   "id": "95fe8c7f",
   "metadata": {},
   "source": [
    "Load in STIS LSF"
   ]
  },
  {
   "cell_type": "code",
   "execution_count": 3,
   "id": "46bc944d",
   "metadata": {},
   "outputs": [],
   "source": [
    "lsf_fits_stis = fits.open(rootdir + 'STIS/PG1522_STIS_NUV_wavcal2022_lsf.fits')"
   ]
  },
  {
   "cell_type": "code",
   "execution_count": 4,
   "id": "34a4e337",
   "metadata": {},
   "outputs": [
    {
     "data": {
      "text/plain": [
       "SIMPLE  =                    T / conforms to FITS standard                      \n",
       "BITPIX  =                    8 / array data type                                \n",
       "NAXIS   =                    0 / number of array dimensions                     \n",
       "EXTEND  =                    T                                                  "
      ]
     },
     "execution_count": 4,
     "metadata": {},
     "output_type": "execute_result"
    }
   ],
   "source": [
    "lsf_fits_stis[0].header"
   ]
  },
  {
   "cell_type": "code",
   "execution_count": 5,
   "id": "9e58aa3f",
   "metadata": {},
   "outputs": [],
   "source": [
    "lsf_fits_stis[0].data"
   ]
  },
  {
   "cell_type": "code",
   "execution_count": 6,
   "id": "9e356b2f",
   "metadata": {},
   "outputs": [
    {
     "data": {
      "text/plain": [
       "XTENSION= 'BINTABLE'           / binary table extension                         \n",
       "BITPIX  =                    8 / array data type                                \n",
       "NAXIS   =                    2 / number of array dimensions                     \n",
       "NAXIS1  =                  200 / length of dimension 1                          \n",
       "NAXIS2  =                    1 / length of dimension 2                          \n",
       "PCOUNT  =                    0 / number of group parameters                     \n",
       "GCOUNT  =                    1 / number of groups                               \n",
       "TFIELDS =                    3 / number of table fields                         \n",
       "TTYPE1  = 'wave    '                                                            \n",
       "TFORM1  = 'K       '                                                            \n",
       "TTYPE2  = 'dv      '                                                            \n",
       "TFORM2  = 'D       '                                                            \n",
       "TTYPE3  = 'lsf     '                                                            \n",
       "TFORM3  = '23D     '                                                            \n",
       "TDIM3   = '(23)    '                                                            "
      ]
     },
     "execution_count": 6,
     "metadata": {},
     "output_type": "execute_result"
    }
   ],
   "source": [
    "lsf_fits_stis[1].header"
   ]
  },
  {
   "cell_type": "code",
   "execution_count": 7,
   "id": "5f3eae39",
   "metadata": {},
   "outputs": [
    {
     "data": {
      "text/plain": [
       "FITS_rec([(2400, 4.9, [3.31816036e-44, 1.03829623e-36, 6.27906947e-30, 7.33870454e-24, 1.65765299e-18, 7.23632303e-14, 6.10509425e-10, 9.95444163e-07, 3.13683402e-04, 1.91036468e-02, 2.24849084e-01, 5.11465179e-01, 2.24849084e-01, 1.91036468e-02, 3.13683402e-04, 9.95444163e-07, 6.10509425e-10, 7.23632303e-14, 1.65765299e-18, 7.33870454e-24, 6.27906947e-30, 1.03829623e-36, 3.31816036e-44])],\n",
       "         dtype=(numpy.record, [('wave', '>i8'), ('dv', '>f8'), ('lsf', '>f8', (23,))]))"
      ]
     },
     "execution_count": 7,
     "metadata": {},
     "output_type": "execute_result"
    }
   ],
   "source": [
    "lsf_fits_stis[1].data"
   ]
  },
  {
   "cell_type": "markdown",
   "id": "52784e4d",
   "metadata": {},
   "source": [
    "Isolate the data - some reference wavelength, velocity scale, LSF array"
   ]
  },
  {
   "cell_type": "code",
   "execution_count": 8,
   "id": "5e1b4a8f",
   "metadata": {},
   "outputs": [],
   "source": [
    "lsf_stis_data = lsf_fits_stis[1].data"
   ]
  },
  {
   "cell_type": "code",
   "execution_count": 9,
   "id": "409bf3a4",
   "metadata": {},
   "outputs": [],
   "source": [
    "wav0_stis = lsf_stis_data[0][0]\n",
    "dv_stis = lsf_stis_data[0][1]\n",
    "lsf_arr_stis = lsf_stis_data[0][2]"
   ]
  },
  {
   "cell_type": "code",
   "execution_count": 10,
   "id": "1c97c228",
   "metadata": {},
   "outputs": [
    {
     "data": {
      "text/plain": [
       "(4.9, 23)"
      ]
     },
     "execution_count": 10,
     "metadata": {},
     "output_type": "execute_result"
    }
   ],
   "source": [
    "dv_stis, len(lsf_arr_stis)"
   ]
  },
  {
   "cell_type": "code",
   "execution_count": 11,
   "id": "4c821ef1",
   "metadata": {},
   "outputs": [],
   "source": [
    "idx = np.argmax(lsf_arr_stis)"
   ]
  },
  {
   "cell_type": "code",
   "execution_count": 12,
   "id": "f83594ff",
   "metadata": {},
   "outputs": [],
   "source": [
    "n_pix = len(lsf_arr_stis)"
   ]
  },
  {
   "cell_type": "code",
   "execution_count": 13,
   "id": "84622f21",
   "metadata": {},
   "outputs": [
    {
     "data": {
      "text/plain": [
       "[<matplotlib.lines.Line2D at 0x7fb67028c5b0>]"
      ]
     },
     "execution_count": 13,
     "metadata": {},
     "output_type": "execute_result"
    },
    {
     "data": {
      "image/png": "[encoded data removed]",
      "text/plain": [
       "<Figure size 640x480 with 1 Axes>"
      ]
     },
     "metadata": {},
     "output_type": "display_data"
    }
   ],
   "source": [
    "plt.plot(lsf_arr_stis)"
   ]
  },
  {
   "cell_type": "code",
   "execution_count": 14,
   "id": "abb2cf22",
   "metadata": {},
   "outputs": [
    {
     "data": {
      "text/plain": [
       "(11, 23)"
      ]
     },
     "execution_count": 14,
     "metadata": {},
     "output_type": "execute_result"
    }
   ],
   "source": [
    "np.argmax(lsf_arr_stis), len(lsf_arr_stis)"
   ]
  },
  {
   "cell_type": "code",
   "execution_count": 15,
   "id": "0c78d178",
   "metadata": {},
   "outputs": [
    {
     "data": {
      "text/plain": [
       "(1.0, 112.7)"
      ]
     },
     "execution_count": 15,
     "metadata": {},
     "output_type": "execute_result"
    }
   ],
   "source": [
    "np.sum(lsf_arr_stis), dv_stis*len(lsf_arr_stis)"
   ]
  },
  {
   "cell_type": "markdown",
   "id": "962a60f6",
   "metadata": {},
   "source": [
    "# HIRES"
   ]
  },
  {
   "cell_type": "markdown",
   "id": "09508f55",
   "metadata": {},
   "source": [
    "Prepare for STIS LSF"
   ]
  },
  {
   "cell_type": "code",
   "execution_count": 16,
   "id": "44297631",
   "metadata": {},
   "outputs": [],
   "source": [
    "wav0_hires = 4440\n",
    "dv_hires = 1.30"
   ]
  },
  {
   "cell_type": "code",
   "execution_count": 17,
   "id": "bbb58fb0",
   "metadata": {},
   "outputs": [],
   "source": [
    "n_pix = dv_stis*len(lsf_arr_stis)//dv_hires\n",
    "\n",
    "if n_pix%2==0:\n",
    "    n_pix += 1\n",
    "    \n",
    "n_pix = int(n_pix)"
   ]
  },
  {
   "cell_type": "markdown",
   "id": "e5a05f37",
   "metadata": {},
   "source": [
    "http://personal.psu.edu/jtw13/rvworkshop/presentation/1-b-Howard-HIRES.pdf, LSF FWHM also taken from Sankar et al. 2020"
   ]
  },
  {
   "cell_type": "code",
   "execution_count": 18,
   "id": "0b067966",
   "metadata": {},
   "outputs": [],
   "source": [
    "fwhm_hires = 6.6\n",
    "sigma_hires = fwhm_hires/(2*np.sqrt(2*np.log(2)))"
   ]
  },
  {
   "cell_type": "code",
   "execution_count": 19,
   "id": "b04e68e6",
   "metadata": {},
   "outputs": [],
   "source": [
    "x = np.arange(-(n_pix-1)//2,(n_pix-1)//2+1)*dv_hires"
   ]
  },
  {
   "cell_type": "code",
   "execution_count": 20,
   "id": "204d8fac",
   "metadata": {},
   "outputs": [],
   "source": [
    "lsf_arr_hires = np.exp(-0.5*(x/sigma_hires)**2)\n",
    "lsf_arr_hires /= np.sum(lsf_arr_hires)"
   ]
  },
  {
   "cell_type": "code",
   "execution_count": 23,
   "id": "b8e506ea",
   "metadata": {},
   "outputs": [
    {
     "data": {
      "text/plain": [
       "<matplotlib.patches.Polygon at 0x7fb6703f8820>"
      ]
     },
     "execution_count": 23,
     "metadata": {},
     "output_type": "execute_result"
    },
    {
     "data": {
      "image/png": "[encoded data removed]",
      "text/plain": [
       "<Figure size 640x480 with 1 Axes>"
      ]
     },
     "metadata": {},
     "output_type": "display_data"
    }
   ],
   "source": [
    "plt.plot(x,lsf_arr_hires)\n",
    "plt.axvspan(-3.3,3.3, alpha=.1)"
   ]
  },
  {
   "cell_type": "code",
   "execution_count": 22,
   "id": "0137407f",
   "metadata": {},
   "outputs": [
    {
     "data": {
      "text/plain": [
       "(43, 87)"
      ]
     },
     "execution_count": 22,
     "metadata": {},
     "output_type": "execute_result"
    }
   ],
   "source": [
    "np.argmax(lsf_arr_hires),len(lsf_arr_hires)"
   ]
  },
  {
   "cell_type": "code",
   "execution_count": 23,
   "id": "a58f8c3b",
   "metadata": {},
   "outputs": [],
   "source": [
    "c1 = fits.Column(name='wave    ', format='K', array=[wav0_hires])\n",
    "c2 = fits.Column(name='dv      ', format='D', array=[dv_hires])\n",
    "c3 = fits.Column(name='lsf     ', format='87D')"
   ]
  },
  {
   "cell_type": "code",
   "execution_count": 24,
   "id": "af7719a9",
   "metadata": {},
   "outputs": [],
   "source": [
    "table_hdu = fits.BinTableHDU.from_columns([c1,c2,c3], nrows=1)"
   ]
  },
  {
   "cell_type": "code",
   "execution_count": 25,
   "id": "52f72da5",
   "metadata": {},
   "outputs": [],
   "source": [
    "table_hdu.data[0][2] = lsf_arr_hires"
   ]
  },
  {
   "cell_type": "code",
   "execution_count": 26,
   "id": "95fc2f6c",
   "metadata": {},
   "outputs": [
    {
     "data": {
      "text/plain": [
       "FITS_rec([(4440, 1.3, [7.74099847e-88, 7.23908925e-84, 5.45931616e-80, 3.32016699e-76, 1.62835456e-72, 6.44028945e-69, 2.05413587e-65, 5.28348295e-62, 1.09591992e-58, 1.83317826e-55, 2.47285095e-52, 2.69003882e-49, 2.35986154e-46, 1.66948246e-43, 9.52455223e-41, 4.38202287e-38, 1.62581856e-35, 4.86448514e-33, 1.17373228e-30, 2.28385531e-28, 3.58373169e-26, 4.53492130e-24, 4.62776596e-22, 3.80838097e-20, 2.52741612e-18, 1.35263457e-16, 5.83783182e-15, 2.03184251e-13, 5.70290150e-12, 1.29083004e-10, 2.35618629e-09, 3.46830715e-08, 4.11711354e-07, 3.94126377e-06, 3.04260466e-05, 1.89418728e-04, 9.50971871e-04, 3.85016900e-03, 1.25706947e-02, 3.30983340e-02, 7.02781553e-02, 1.20337764e-01, 1.66169338e-01, 1.85040676e-01, 1.66169338e-01, 1.20337764e-01, 7.02781553e-02, 3.30983340e-02, 1.25706947e-02, 3.85016900e-03, 9.50971871e-04, 1.89418728e-04, 3.04260466e-05, 3.94126377e-06, 4.11711354e-07, 3.46830715e-08, 2.35618629e-09, 1.29083004e-10, 5.70290150e-12, 2.03184251e-13, 5.83783182e-15, 1.35263457e-16, 2.52741612e-18, 3.80838097e-20, 4.62776596e-22, 4.53492130e-24, 3.58373169e-26, 2.28385531e-28, 1.17373228e-30, 4.86448514e-33, 1.62581856e-35, 4.38202287e-38, 9.52455223e-41, 1.66948246e-43, 2.35986154e-46, 2.69003882e-49, 2.47285095e-52, 1.83317826e-55, 1.09591992e-58, 5.28348295e-62, 2.05413587e-65, 6.44028945e-69, 1.62835456e-72, 3.32016699e-76, 5.45931616e-80, 7.23908925e-84, 7.74099847e-88])],\n",
       "         dtype=(numpy.record, [('wave    ', '<i8'), ('dv      ', '<f8'), ('lsf     ', '<f8', (87,))]))"
      ]
     },
     "execution_count": 26,
     "metadata": {},
     "output_type": "execute_result"
    }
   ],
   "source": [
    "table_hdu.data"
   ]
  },
  {
   "cell_type": "code",
   "execution_count": 27,
   "id": "b2fcfefa",
   "metadata": {},
   "outputs": [],
   "source": [
    "hdu = fits.HDUList([lsf_fits_stis[0], table_hdu])"
   ]
  },
  {
   "cell_type": "code",
   "execution_count": 28,
   "id": "23d985ea",
   "metadata": {},
   "outputs": [],
   "source": [
    "hdu.writeto(rootdir +'HIRES/PG1522_HIRES_wavcal2023_lsf.fits', overwrite=True)"
   ]
  },
  {
   "cell_type": "code",
   "execution_count": null,
   "id": "e53ccdd0",
   "metadata": {},
   "outputs": [],
   "source": []
  }
 ],
 "metadata": {
  "kernelspec": {
   "display_name": "Python 3 (ipykernel)",
   "language": "python",
   "name": "python3"
  },
  "language_info": {
   "codemirror_mode": {
    "name": "ipython",
    "version": 3
   },
   "file_extension": ".py",
   "mimetype": "text/x-python",
   "name": "python",
   "nbconvert_exporter": "python",
   "pygments_lexer": "ipython3",
   "version": "3.9.13"
  }
 },
 "nbformat": 4,
 "nbformat_minor": 5
}
