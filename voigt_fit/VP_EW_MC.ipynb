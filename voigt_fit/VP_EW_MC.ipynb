{
 "cells": [
  {
   "cell_type": "code",
   "execution_count": 1,
   "id": "27e19600-bf00-4120-99c4-6aa28dad235b",
   "metadata": {},
   "outputs": [],
   "source": [
    "from astropy.io import fits\n",
    "from astropy import units, constants\n",
    "import numpy as np\n",
    "import pandas as pd\n",
    "import matplotlib.pyplot as plt\n",
    "import corner\n",
    "from voigt_fit_lib import *\n",
    "import os\n",
    "import pickle"
   ]
  },
  {
   "cell_type": "markdown",
   "id": "e8c02eee-26c3-469b-9165-4df0b2642729",
   "metadata": {},
   "source": [
    "Load in the files"
   ]
  },
  {
   "cell_type": "code",
   "execution_count": 2,
   "id": "57ce8a30-e42a-4fd1-9e16-63356318b7f9",
   "metadata": {},
   "outputs": [],
   "source": [
    "rootdir = '/Users/thepoetoftwilight/Documents/CUBS/Data/PG1522+101/'"
   ]
  },
  {
   "cell_type": "markdown",
   "id": "1bcb7d42-e8ee-40fb-88c2-280954c57182",
   "metadata": {},
   "source": [
    "Then, the HIRES files"
   ]
  },
  {
   "cell_type": "code",
   "execution_count": 7,
   "id": "a0e37891-8bcd-4e27-bb6e-2de7c856daf4",
   "metadata": {},
   "outputs": [],
   "source": [
    "spec_fits_hires = fits.open(rootdir + 'HIRES/PG1522+101_HIRES.fits')\n",
    "lsf_fits_hires = fits.open(rootdir + 'HIRES/PG1522_HIRES_wavcal2023_lsf.fits')"
   ]
  },
  {
   "cell_type": "markdown",
   "id": "e52bc108",
   "metadata": {},
   "source": [
    "Transition info"
   ]
  },
  {
   "cell_type": "code",
   "execution_count": 8,
   "id": "63f2b856",
   "metadata": {},
   "outputs": [],
   "source": [
    "wav0_rest = 1548.2049\n",
    "f = 0.1899\n",
    "gamma = 0.040903573458000005\n",
    "A = 12.011"
   ]
  },
  {
   "cell_type": "code",
   "execution_count": 9,
   "id": "fff57ae0",
   "metadata": {},
   "outputs": [],
   "source": [
    "wav = pd.DataFrame(spec_fits_hires[1].data).to_numpy()[:,0]"
   ]
  },
  {
   "cell_type": "markdown",
   "id": "4819936c",
   "metadata": {},
   "source": [
    "Functions"
   ]
  },
  {
   "cell_type": "code",
   "execution_count": 10,
   "id": "9f471312",
   "metadata": {},
   "outputs": [],
   "source": [
    "def grab_ion_transition_lsf(z_abs):\n",
    "\n",
    "    # Convert it to an array\n",
    "    lsf_data = np.array(lsf_fits_hires[1].data)\n",
    "\n",
    "    # For each wavelength, isolate LSFs\n",
    "    lsf_wavs = []\n",
    "\n",
    "    for i in range(len(lsf_data)):\n",
    "        lsf_wavs.append(lsf_data[i][0])\n",
    "\n",
    "    lsf_wavs = np.array(lsf_wavs)\n",
    "\n",
    "    # Isolate the closest LSF\n",
    "    lsf_idx = np.argmin(np.abs(wav0_rest*(1+z_abs)-lsf_wavs))\n",
    "    lsf = lsf_data[lsf_idx][2]\n",
    "\n",
    "    # Also generate the velocity scale corresponding to the LSF\n",
    "    delta_v = lsf_data[lsf_idx][1]\n",
    "    lsf_central_idx = np.argmax(lsf)\n",
    "    lsf_pix_rel = np.arange(0, len(lsf))-lsf_central_idx\n",
    "    lsf_pix_v = delta_v*lsf_pix_rel\n",
    "\n",
    "    # Finally store the LSF velocities and the profile itself\n",
    "    return lsf, lsf_pix_v"
   ]
  },
  {
   "cell_type": "code",
   "execution_count": 11,
   "id": "5479381a",
   "metadata": {},
   "outputs": [],
   "source": [
    "def vp(z_abs, params, lsf_convolve=True):\n",
    "    \n",
    "    # Grab LSF\n",
    "    lsf, lsf_pix_v = grab_ion_transition_lsf(z_abs)\n",
    "    \n",
    "    # Get velocities\n",
    "    wav0_obs = wav0_rest*(1+z_abs)\n",
    "    v = c*(wav-wav0_obs)/wav0_obs\n",
    "    idx = (v>=-300)&(v<=300)\n",
    "    v = v[idx]\n",
    "    \n",
    "    model = comp_model_spec_gen(v, params, \n",
    "                                wav0_rest, f, gamma, A,\n",
    "                                True,\n",
    "                                lsf, lsf_pix_v)[1]\n",
    "    \n",
    "    return v, model"
   ]
  },
  {
   "cell_type": "markdown",
   "id": "9b3fa56e",
   "metadata": {},
   "source": [
    "# z = 1.04431"
   ]
  },
  {
   "cell_type": "code",
   "execution_count": 12,
   "id": "79fa7a4e-7a80-44b3-82d0-b615c9a64ca4",
   "metadata": {},
   "outputs": [],
   "source": [
    "z_sys = 1.04430803"
   ]
  },
  {
   "cell_type": "code",
   "execution_count": 13,
   "id": "08f4eba7",
   "metadata": {},
   "outputs": [],
   "source": [
    "v, m = vp(z_sys, [[13.64,6.7,0.],[13.37,6.3,40.],[13.45, 10., 79.5], [13.53, 8.3, 100.5]])"
   ]
  },
  {
   "cell_type": "code",
   "execution_count": 24,
   "id": "a4f29d98",
   "metadata": {},
   "outputs": [
    {
     "data": {
      "text/plain": [
       "<matplotlib.lines.Line2D at 0x7fcd410107f0>"
      ]
     },
     "execution_count": 24,
     "metadata": {},
     "output_type": "execute_result"
    },
    {
     "data": {
      "image/png": "[encoded data removed]",
      "text/plain": [
       "<Figure size 500x350 with 1 Axes>"
      ]
     },
     "metadata": {},
     "output_type": "display_data"
    }
   ],
   "source": [
    "fig, ax = plt.subplots(1, figsize=(5,3.5))\n",
    "ax.plot(v,m)\n",
    "\n",
    "ax.set_xlabel(r'Relative velocity ($\\mathrm{km \\ s}^{-1}$)')\n",
    "ax.set_ylabel(r'Continuum normalized flux')\n",
    "ax.set_ylim(-0.1,1.1)\n",
    "ax.axhline(0, linestyle='--', color='red')\n",
    "ax.axhline(1, linestyle='--', color='green')\n",
    "ax.axvline(1, linestyle=':', color='brown')"
   ]
  },
  {
   "cell_type": "markdown",
   "id": "25aa4c05-72c4-492f-9501-5660d217dfeb",
   "metadata": {},
   "source": [
    "Compute equivalent width"
   ]
  },
  {
   "cell_type": "code",
   "execution_count": 29,
   "id": "0f8d0ed1-3298-43c3-86c2-6f49de9f42e3",
   "metadata": {},
   "outputs": [],
   "source": [
    "def get_EW(v, flux, v_min=-200, v_max=200):\n",
    "\n",
    "    idx = (v>v_min)&(v<v_max)\n",
    "\n",
    "    v_abs = v[idx]\n",
    "    flux_abs = flux[idx][:-1]\n",
    "\n",
    "    delta_lambda = np.mean(((v_abs[1:]-v_abs[:-1])*wav0_rest/3e+5)*1e+3) # in mA\n",
    "\n",
    "    EW = np.sum((1-flux_abs)*delta_lambda)\n",
    "\n",
    "    return EW"
   ]
  },
  {
   "cell_type": "code",
   "execution_count": 41,
   "id": "249a33ec-b154-42a9-aa77-800161477d21",
   "metadata": {},
   "outputs": [
    {
     "data": {
      "text/plain": [
       "288.77038922986605"
      ]
     },
     "execution_count": 41,
     "metadata": {},
     "output_type": "execute_result"
    }
   ],
   "source": [
    "get_EW(v, m)"
   ]
  },
  {
   "cell_type": "markdown",
   "id": "3d93dce9-4abc-4e3f-801e-42b52ddade3a",
   "metadata": {},
   "source": [
    "Do a monte carlo computation"
   ]
  },
  {
   "cell_type": "code",
   "execution_count": 39,
   "id": "2143f298-cb55-44a3-99f8-ef357e04a5a6",
   "metadata": {},
   "outputs": [],
   "source": [
    "N_trials = 100\n",
    "params_grid = np.zeros((N_trials, 4*3))"
   ]
  },
  {
   "cell_type": "markdown",
   "id": "e0376068-a3c3-4b66-8dbe-66e77b2dd12a",
   "metadata": {},
   "source": [
    "Generate parameter realizations "
   ]
  },
  {
   "cell_type": "code",
   "execution_count": 42,
   "id": "fa5cc87b-48a8-49fb-9bd3-9718a92203c3",
   "metadata": {},
   "outputs": [],
   "source": [
    "logN_c1 = np.random.normal(13.64, 0.02, N_trials)\n",
    "b_c1 = np.random.normal(6.7, 0.2, N_trials)\n",
    "v_c1 = np.random.normal(0.0, 0.2, N_trials)\n",
    "\n",
    "logN_c2 = np.random.normal(13.37, 0.02, N_trials)\n",
    "b_c2 = np.random.normal(6.3, 0.3, N_trials)\n",
    "v_c2 = np.random.normal(40.0, 0.2, N_trials)\n",
    "\n",
    "logN_c3 = np.random.normal(13.45, 0.04, N_trials)\n",
    "b_c3 = np.random.normal(10, 1, N_trials)\n",
    "v_c3 = np.random.normal(79.5, 0.4, N_trials)\n",
    "\n",
    "logN_c4 = np.random.normal(13.53, 0.03, N_trials)\n",
    "b_c4 = np.random.normal(8.3, 0.5, N_trials)\n",
    "v_c4 = np.random.normal(100.5, 0.4, N_trials)"
   ]
  },
  {
   "cell_type": "markdown",
   "id": "9e619b01-4e26-4939-b372-71e2aa2e0f8b",
   "metadata": {},
   "source": [
    "Store in the grid"
   ]
  },
  {
   "cell_type": "code",
   "execution_count": 43,
   "id": "2a9f7238-2710-4f83-bbad-ef50fa959872",
   "metadata": {},
   "outputs": [],
   "source": [
    "params_grid[:,0] = logN_c1\n",
    "params_grid[:,1] = b_c1\n",
    "params_grid[:,2] = v_c1\n",
    "\n",
    "params_grid[:,3] = logN_c2\n",
    "params_grid[:,4] = b_c2\n",
    "params_grid[:,5] = v_c2\n",
    "\n",
    "params_grid[:,6] = logN_c3\n",
    "params_grid[:,7] = b_c3\n",
    "params_grid[:,8] = v_c3\n",
    "\n",
    "params_grid[:,9] = logN_c4\n",
    "params_grid[:,10] = b_c4\n",
    "params_grid[:,11] = v_c4"
   ]
  },
  {
   "cell_type": "markdown",
   "id": "4ee37b8c-ce19-4b78-8074-0186181fc642",
   "metadata": {},
   "source": [
    "Check a realization to ensure numbers are stored correctly"
   ]
  },
  {
   "cell_type": "code",
   "execution_count": 47,
   "id": "7b5ab036-60c0-43be-85bc-b44114deff8f",
   "metadata": {},
   "outputs": [
    {
     "data": {
      "text/plain": [
       "array([[ 13.63129323,   6.49176908,   0.30258442],\n",
       "       [ 13.33428116,   6.37979797,  40.31842443],\n",
       "       [ 13.39097206,  10.17806123,  79.81186301],\n",
       "       [ 13.50300308,   8.114548  , 100.11107949]])"
      ]
     },
     "execution_count": 47,
     "metadata": {},
     "output_type": "execute_result"
    }
   ],
   "source": [
    "params_grid[0,:].reshape(4,3)"
   ]
  },
  {
   "cell_type": "code",
   "execution_count": 56,
   "id": "45d4c88d-9c52-4cf1-8f80-09d22cba829b",
   "metadata": {},
   "outputs": [],
   "source": [
    "model_grid = []\n",
    "\n",
    "for i in range(N_trials):\n",
    "    model_grid.append(vp(z_sys, params_grid[i,:].reshape(4,3))[1])\n",
    "    \n",
    "model_grid = np.array(model_grid)"
   ]
  },
  {
   "cell_type": "code",
   "execution_count": 63,
   "id": "b35223f9-9102-4fc5-8bd4-06e9dcdd4a24",
   "metadata": {},
   "outputs": [],
   "source": [
    "model_hi = np.percentile(model_grid, 100*cdf_1sig, axis=0)\n",
    "model_lo = np.percentile(model_grid, 100*(1-cdf_1sig), axis=0)"
   ]
  },
  {
   "cell_type": "code",
   "execution_count": 67,
   "id": "35b87511-7f43-4496-a950-dafffa95a0d3",
   "metadata": {},
   "outputs": [
    {
     "data": {
      "text/plain": [
       "<matplotlib.lines.Line2D at 0x7fcd6484f2e0>"
      ]
     },
     "execution_count": 67,
     "metadata": {},
     "output_type": "execute_result"
    },
    {
     "data": {
      "image/png": "[encoded data removed]",
      "text/plain": [
       "<Figure size 500x350 with 1 Axes>"
      ]
     },
     "metadata": {},
     "output_type": "display_data"
    }
   ],
   "source": [
    "fig, ax = plt.subplots(1, figsize=(5,3.5))\n",
    "ax.plot(v,m)\n",
    "ax.fill_between(v, model_lo, model_hi, color='red', alpha=.5)\n",
    "\n",
    "ax.set_xlabel(r'Relative velocity ($\\mathrm{km \\ s}^{-1}$)')\n",
    "ax.set_ylabel(r'Continuum normalized flux')\n",
    "ax.set_ylim(-0.1,1.1)\n",
    "ax.axhline(0, linestyle='--', color='red')\n",
    "ax.axhline(1, linestyle='--', color='green')\n",
    "ax.axvline(1, linestyle=':', color='brown')"
   ]
  },
  {
   "cell_type": "code",
   "execution_count": 71,
   "id": "03e2be9d-74b3-4ab9-9709-7bcc45d951ec",
   "metadata": {},
   "outputs": [
    {
     "data": {
      "text/plain": [
       "(462,)"
      ]
     },
     "execution_count": 71,
     "metadata": {},
     "output_type": "execute_result"
    }
   ],
   "source": [
    "model_grid[0,:].shape"
   ]
  },
  {
   "cell_type": "markdown",
   "id": "701f5958-709e-47ce-8dde-df50b1e4adba",
   "metadata": {},
   "source": [
    "Get EW distribution"
   ]
  },
  {
   "cell_type": "code",
   "execution_count": 72,
   "id": "b280e587-55fa-40cf-8d3f-23fe20561691",
   "metadata": {},
   "outputs": [],
   "source": [
    "EW_dist = np.zeros(N_trials)\n",
    "\n",
    "for i in range(N_trials):\n",
    "    EW_dist[i] = get_EW(v, model_grid[i,:])"
   ]
  },
  {
   "cell_type": "code",
   "execution_count": 78,
   "id": "10c86282-932b-44e1-a4b3-8ba6436c653f",
   "metadata": {},
   "outputs": [
    {
     "data": {
      "text/plain": [
       "(287.9660552813285, 6.255054350776618, 6.165113436203569)"
      ]
     },
     "execution_count": 78,
     "metadata": {},
     "output_type": "execute_result"
    }
   ],
   "source": [
    "np.median(EW_dist), np.median(EW_dist)-np.percentile(EW_dist, 100*(1-cdf_1sig)), np.percentile(EW_dist, 100*cdf_1sig)-np.median(EW_dist)"
   ]
  },
  {
   "cell_type": "code",
   "execution_count": null,
   "id": "75a1879f-e682-4656-ab6e-da3128692051",
   "metadata": {},
   "outputs": [],
   "source": []
  }
 ],
 "metadata": {
  "kernelspec": {
   "display_name": "Python 3 (ipykernel)",
   "language": "python",
   "name": "python3"
  },
  "language_info": {
   "codemirror_mode": {
    "name": "ipython",
    "version": 3
   },
   "file_extension": ".py",
   "mimetype": "text/x-python",
   "name": "python",
   "nbconvert_exporter": "python",
   "pygments_lexer": "ipython3",
   "version": "3.9.13"
  }
 },
 "nbformat": 4,
 "nbformat_minor": 5
}
