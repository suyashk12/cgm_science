{
 "cells": [
  {
   "cell_type": "code",
   "execution_count": 1,
   "id": "58300832",
   "metadata": {},
   "outputs": [],
   "source": [
    "import matplotlib.pyplot as plt\n",
    "import matplotlib.lines as mlines\n",
    "import numpy as np"
   ]
  },
  {
   "cell_type": "code",
   "execution_count": 2,
   "id": "3dd74409",
   "metadata": {},
   "outputs": [],
   "source": [
    "plt.style.use('/Users/thepoetoftwilight/Documents/CUBS/Code/science.mplstyle')"
   ]
  },
  {
   "cell_type": "markdown",
   "id": "42b9ccc9",
   "metadata": {},
   "source": [
    "Get fitting results - first absorber redshifts"
   ]
  },
  {
   "cell_type": "code",
   "execution_count": 3,
   "id": "81310bcc",
   "metadata": {},
   "outputs": [],
   "source": [
    "z_list = [0.67, 0.72, 1.09, 1.16, 1.27, 1.04]"
   ]
  },
  {
   "cell_type": "code",
   "execution_count": 4,
   "id": "0e0d6330",
   "metadata": {},
   "outputs": [],
   "source": [
    "z_color_dict = {0.67: 'salmon', \n",
    "                0.72: 'olivedrab', \n",
    "                1.09: 'mediumslateblue', \n",
    "                1.16: 'slategray', \n",
    "                1.27: 'tan',\n",
    "                1.04: 'brown'}"
   ]
  },
  {
   "cell_type": "markdown",
   "id": "e1f4ddd7",
   "metadata": {},
   "source": [
    "Get equivalent width results for each component"
   ]
  },
  {
   "cell_type": "code",
   "execution_count": 5,
   "id": "30fc7d05",
   "metadata": {},
   "outputs": [],
   "source": [
    "z_0_67 = {'CIII 977': ['242, -8, 8', 1],\n",
    "'CIV 1548': ['159, -18, 18', 1],\n",
    "'OIII 702': ['95, -6, 6', 1],\n",
    "'OIV 787': ['197, -5, 5', 1]}"
   ]
  },
  {
   "cell_type": "code",
   "execution_count": 6,
   "id": "d4d3541d",
   "metadata": {},
   "outputs": [],
   "source": [
    "z_0_72 = {'CIII 977' : ['73, -6, 6', 1],\n",
    "'OIV 787' :['104, -4, 4', 1]}"
   ]
  },
  {
   "cell_type": "code",
   "execution_count": 7,
   "id": "e64d2e98",
   "metadata": {},
   "outputs": [],
   "source": [
    "z_1_09 = {'HI 1215': ['364, -15, 15',2], # Saturated, but one component only has upper limit\n",
    "'CIII 977': ['246, -33, 33',1], # Only one component is simultaneously fitted, but also looks saturated\n",
    "'CIV 1548': ['199, -3, 3',1],\n",
    "'NIV 765': ['22, -8, 8',1], # Only one component is simultaneously fitted, not a high significance detection?\n",
    "'OIII 702': ['77, -3, 3',1],\n",
    "'OIV 787': ['134, -6, 6',2]}"
   ]
  },
  {
   "cell_type": "code",
   "execution_count": 8,
   "id": "7c30f741",
   "metadata": {},
   "outputs": [],
   "source": [
    "z_1_16 = {'HI 1215': ['551, -17, 17', 2],\n",
    "'CIII 977': ['143, -26, 26', 1], # Only one component is simultaneously fitted, but also looks saturated\n",
    "'CIV 1548': ['120, -4, 4', 2],\n",
    "'OIII 702': ['54, -6, 6', 1], # Only one component is simultaneously fitted, but also looks saturated\n",
    "'OIV 787': ['108, -8, 8', 2]}"
   ]
  },
  {
   "cell_type": "code",
   "execution_count": 9,
   "id": "eb35553f",
   "metadata": {},
   "outputs": [],
   "source": [
    "z_1_27 = {'HI 1215' : ['516, -14, 14', 3],\n",
    "'CIII 977' : ['46, -14, 14', 1], # Only one component is simultaneously fitted, but also looks saturated\n",
    "'CIV 1548' : ['176, -3, 3', 2],\n",
    "'NIV 765': ['20, -8, 8',1],\n",
    "'OIII 702' : ['28, -6, 6', 1]} # Only one component is simultaneously fitted"
   ]
  },
  {
   "cell_type": "code",
   "execution_count": 10,
   "id": "ea109f40",
   "metadata": {},
   "outputs": [],
   "source": [
    "z_1_04 = {'HI 1215': ['696, -16, 16', 4], # Two components have upper limits\n",
    "'CIII 977': ['201, -32, 32', 3],\n",
    "'CIV 1548': ['342, -7, 7', 4],\n",
    "'NIV 765': ['94, -7, 7', 4],\n",
    "'OIII 702': ['99, -3, 3', 4],\n",
    "'OIV 787': ['208, -10, 10', 4]}"
   ]
  },
  {
   "cell_type": "markdown",
   "id": "3fc85f2b",
   "metadata": {},
   "source": [
    "Compile all dictionaries into one"
   ]
  },
  {
   "cell_type": "code",
   "execution_count": 11,
   "id": "40d0c993",
   "metadata": {},
   "outputs": [],
   "source": [
    "EW_dict = {0.67: z_0_67, 0.72: z_0_72, 1.09: z_1_09, 1.16: z_1_16, 1.27: z_1_27, 1.04: z_1_04}"
   ]
  },
  {
   "cell_type": "markdown",
   "id": "eae73834",
   "metadata": {},
   "source": [
    "Write some functions to process data strings"
   ]
  },
  {
   "cell_type": "code",
   "execution_count": 12,
   "id": "f669248e",
   "metadata": {},
   "outputs": [],
   "source": [
    "def process_data_str(s, non_det_err):\n",
    "    \n",
    "    # Check if the point should be plotted or not\n",
    "    bool_plot = False\n",
    "    # Coordinate value\n",
    "    coord_value = np.nan\n",
    "    # Lower error\n",
    "    err_lo = 0\n",
    "    # Upper error\n",
    "    err_hi = 0\n",
    "    # Boolean for upper limit\n",
    "    uplim = False\n",
    "    # Boolean for lower limit\n",
    "    lolim = False\n",
    "    \n",
    "    # If we don't have an empty string \n",
    "    if len(s)!=0:\n",
    "        \n",
    "        # Then it needs to be plotted\n",
    "        bool_plot = True\n",
    "        \n",
    "        # Now, check for a non-detection first\n",
    "        \n",
    "        # Upper limit\n",
    "        if s[0] == '<':\n",
    "            # Set coordinate value\n",
    "            coord_value = float(s[1:])\n",
    "            # Only lower error\n",
    "            uplim = True\n",
    "            err_lo = non_det_err\n",
    "            \n",
    "        # Lower limit\n",
    "        elif s[0] == '>':\n",
    "            # Set coordinate value\n",
    "            coord_value = float(s[1:])\n",
    "            # Only upper error\n",
    "            lolim = True\n",
    "            err_hi = non_det_err\n",
    "            \n",
    "        # Detection\n",
    "        else:\n",
    "            s_arr = np.array(s.split(','), dtype=float)\n",
    "            \n",
    "            # Errors not provided\n",
    "            if len(s_arr) == 1:\n",
    "                coord_value = s_arr[0]\n",
    "                err_lo = 0\n",
    "                err_hi = 0\n",
    "                \n",
    "            # Errors provided\n",
    "            else:\n",
    "                coord_value = s_arr[0]\n",
    "                err_lo = -s_arr[1] # Negative sign to flip the already present negative sign\n",
    "                err_hi = s_arr[2]\n",
    "        \n",
    "    return bool_plot, coord_value, err_lo, err_hi, uplim, lolim"
   ]
  },
  {
   "cell_type": "code",
   "execution_count": 13,
   "id": "34a74e1e",
   "metadata": {},
   "outputs": [],
   "source": [
    "def plot_data_strings(ax, s_x, s_y, c, m, mfc='', non_det_err=5):\n",
    "    \n",
    "    # First process each data string\n",
    "    bool_plot_x, coord_value_x, err_lo_x, err_hi_x, uplim_x, lolim_x = process_data_str(s_x, non_det_err)\n",
    "    bool_plot_y, coord_value_y, err_lo_y, err_hi_y, uplim_y, lolim_y = process_data_str(s_y, non_det_err)\n",
    "\n",
    "    \n",
    "    if mfc == '':\n",
    "        mfc = c\n",
    "    \n",
    "    ax.errorbar(x=coord_value_x, y=coord_value_y,\n",
    "                xerr=[[err_lo_x], [err_hi_x]],\n",
    "                yerr=[[err_lo_y], [err_hi_y]], \n",
    "                color=c, linestyle='none',\n",
    "                marker=m, markersize=8, capsize=4, elinewidth=0.7, \n",
    "                xuplims = uplim_x, xlolims= lolim_x,\n",
    "                uplims = uplim_y, lolims= lolim_y, markerfacecolor=mfc) "
   ]
  },
  {
   "cell_type": "markdown",
   "id": "ef230df1",
   "metadata": {},
   "source": [
    "Now make plots"
   ]
  },
  {
   "cell_type": "code",
   "execution_count": 14,
   "id": "5e3a09a5",
   "metadata": {},
   "outputs": [],
   "source": [
    "def n_W_plot(ax, ion_transition, z_list, EW_dict, z_color_dict):\n",
    "    \n",
    "    for i in range(len(z_list)):\n",
    "        \n",
    "        z = z_list[i]\n",
    "        EW_z_dict = EW_dict[z]\n",
    "        \n",
    "        if ion_transition in list(EW_z_dict.keys()):\n",
    "            ion_transition_val = EW_z_dict[ion_transition]\n",
    "            \n",
    "            n_str = str(ion_transition_val[1])\n",
    "            W_str = ion_transition_val[0]\n",
    "\n",
    "            c = 'black'\n",
    "            m = 'o'\n",
    "\n",
    "            #if z == 0.67 and ion_transition == 'CIV 1548':\n",
    "            #    mfc = 'none'\n",
    "            #else:\n",
    "            #    mfc = 'black'\n",
    "            \n",
    "            mfc = 'black'\n",
    "            plot_data_strings(ax, n_str, W_str, c, m, mfc)"
   ]
  },
  {
   "cell_type": "code",
   "execution_count": 15,
   "id": "dc6fa69b",
   "metadata": {},
   "outputs": [],
   "source": [
    "plot_ion_transitions = ['HI 1215', \n",
    "                        'CIII 977','CIV 1548', 'NIV 765',\n",
    "                        'OIII 702',  'OIV 787']"
   ]
  },
  {
   "cell_type": "code",
   "execution_count": 16,
   "id": "396bc23a",
   "metadata": {},
   "outputs": [],
   "source": [
    "ion_label_y = [390, 100, 150, 20, 30, 110]"
   ]
  },
  {
   "cell_type": "code",
   "execution_count": 20,
   "id": "3a6d39e7",
   "metadata": {
    "scrolled": false
   },
   "outputs": [
    {
     "data": {
      "image/png": "[encoded data removed]",
      "text/plain": [
       "<Figure size 1200x800 with 7 Axes>"
      ]
     },
     "metadata": {},
     "output_type": "display_data"
    }
   ],
   "source": [
    "fig, axes = plt.subplots(2, 3, figsize=(3*4, 2*4))\n",
    "\n",
    "for i in range(len(plot_ion_transitions)):\n",
    "    \n",
    "    ax = axes[i//3, i%3]\n",
    "    s = plot_ion_transitions[i]\n",
    "    \n",
    "    n_W_plot(ax, s, z_list, EW_dict, z_color_dict)\n",
    "    ax.text(x=3, y=ion_label_y[i], s=s, fontsize=16)\n",
    "    ax.set_xlim(0, 5)\n",
    "    \n",
    "#plt.subplots_adjust(wspace=0, hspace=0)\n",
    "\n",
    "ax_label = fig.add_subplot(111, frameon=False)\n",
    "# hide tick and tick label of the big axes\n",
    "ax_label.set_xticks([])\n",
    "ax_label.set_yticks([])\n",
    "\n",
    "ax_label.set_xlabel(r'$n_{\\mathrm{comp}}$', labelpad=20)\n",
    "ax_label.set_ylabel(r'$W_r$ (mÅ)', labelpad=30) # Use argument `labelpad` to move label downwards.\n",
    "\n",
    "plt.tight_layout()\n",
    "plt.subplots_adjust(wspace=0.15, hspace=0.15)\n",
    "\n",
    "\n",
    "        \n",
    "plt.savefig('/Users/thepoetoftwilight/Documents/CUBS/Data/PG1522+101/W_vs_n_comp.pdf', dpi=300)"
   ]
  },
  {
   "cell_type": "code",
   "execution_count": null,
   "id": "4e52468f",
   "metadata": {},
   "outputs": [],
   "source": []
  }
 ],
 "metadata": {
  "kernelspec": {
   "display_name": "Python 3 (ipykernel)",
   "language": "python",
   "name": "python3"
  },
  "language_info": {
   "codemirror_mode": {
    "name": "ipython",
    "version": 3
   },
   "file_extension": ".py",
   "mimetype": "text/x-python",
   "name": "python",
   "nbconvert_exporter": "python",
   "pygments_lexer": "ipython3",
   "version": "3.9.13"
  }
 },
 "nbformat": 4,
 "nbformat_minor": 5
}
