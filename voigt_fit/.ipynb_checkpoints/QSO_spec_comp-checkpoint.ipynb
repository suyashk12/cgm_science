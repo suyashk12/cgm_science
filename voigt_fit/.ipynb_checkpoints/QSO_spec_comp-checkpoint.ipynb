{
 "cells": [
  {
   "cell_type": "code",
   "execution_count": 1,
   "id": "9628c4c1-7048-4e60-92d9-4fcdcd8dd99c",
   "metadata": {},
   "outputs": [],
   "source": [
    "import numpy as np\n",
    "import matplotlib.pyplot as plt\n",
    "from astropy.io import fits\n",
    "import pandas as pd\n",
    "from scipy import interpolate\n",
    "from scipy.stats import linregress\n",
    "from voigt_fit_lib import *"
   ]
  },
  {
   "cell_type": "code",
   "execution_count": 2,
   "id": "d29273f6",
   "metadata": {},
   "outputs": [],
   "source": [
    "plt.style.use('/Users/thepoetoftwilight/Documents/Astro/Code/PG1522+101/science.mplstyle')"
   ]
  },
  {
   "cell_type": "code",
   "execution_count": 3,
   "id": "a55edfe2",
   "metadata": {},
   "outputs": [],
   "source": [
    "rootdir = '/Users/thepoetoftwilight/Documents/Astro/Data/PG1522+101/'"
   ]
  },
  {
   "cell_type": "markdown",
   "id": "3af53bb1",
   "metadata": {},
   "source": [
    "Load in HIRES spectra"
   ]
  },
  {
   "cell_type": "code",
   "execution_count": 4,
   "id": "bd37025c",
   "metadata": {},
   "outputs": [],
   "source": [
    "spec = fits.open(rootdir+'HIRES/PG1522+101_HIRES.fits')\n",
    "\n",
    "wav = spec[1].data['wave']\n",
    "flux = spec[1].data['flux']\n",
    "err = spec[1].data['error']"
   ]
  },
  {
   "cell_type": "code",
   "execution_count": 8,
   "id": "064f837b",
   "metadata": {},
   "outputs": [],
   "source": [
    "delta_wav = np.mean(wav[1:]-wav[:-1])\n",
    "wav_0 = .5*(wav[0] + wav[-1])\n",
    "\n",
    "delta_wav_res = (6.7/3e5)*wav_0\n",
    "N_res = int(delta_wav_res//delta_wav)"
   ]
  },
  {
   "cell_type": "code",
   "execution_count": 9,
   "id": "0e740311",
   "metadata": {},
   "outputs": [
    {
     "data": {
      "text/plain": [
       "5"
      ]
     },
     "execution_count": 9,
     "metadata": {},
     "output_type": "execute_result"
    }
   ],
   "source": [
    "N_res"
   ]
  },
  {
   "cell_type": "code",
   "execution_count": 10,
   "id": "2c265a4a",
   "metadata": {},
   "outputs": [
    {
     "name": "stderr",
     "output_type": "stream",
     "text": [
      "/var/folders/tj/vc_wjrpj36sf3zws4s7s770c0000gn/T/ipykernel_14786/2892216717.py:5: RuntimeWarning: divide by zero encountered in divide\n",
      "  sig_smooth = err_smooth/flux_smooth\n"
     ]
    }
   ],
   "source": [
    "wav_smooth = np.convolve(wav, np.ones(N_res), mode='valid')/N_res\n",
    "\n",
    "z_smooth = wav_smooth/1548-1\n",
    "flux_smooth = np.convolve(flux, np.ones(N_res), mode='valid')/N_res\n",
    "err_smooth = np.convolve(err, np.ones(N_res), mode='valid')/N_res\n",
    "sig_smooth = err_smooth/flux_smooth"
   ]
  },
  {
   "cell_type": "code",
   "execution_count": 15,
   "id": "7c7ef5a8",
   "metadata": {},
   "outputs": [
    {
     "data": {
      "text/plain": [
       "array([0.93509577, 0.93510416, 0.93511255, ..., 2.79759681, 2.79761328,\n",
       "       2.79762974])"
      ]
     },
     "execution_count": 15,
     "metadata": {},
     "output_type": "execute_result"
    }
   ],
   "source": [
    "z_smooth"
   ]
  },
  {
   "cell_type": "code",
   "execution_count": 13,
   "id": "1fd24fa9",
   "metadata": {},
   "outputs": [],
   "source": [
    "lim_EW_smooth = 3*sig_smooth*np.sqrt(N_res)*delta_wav_res/(1+z_smooth)"
   ]
  },
  {
   "cell_type": "code",
   "execution_count": 16,
   "id": "30a80a75",
   "metadata": {},
   "outputs": [],
   "source": [
    "def eval_comp(Wr, z1=1.0, z2=1.3):\n",
    "    \n",
    "    idx = (z_smooth>z1)&(z_smooth<z2)\n",
    "        \n",
    "    g = np.float_(Wr>lim_EW_smooth[idx])\n",
    "    g0 = np.ones(len(lim_EW_smooth[idx]))\n",
    "    \n",
    "    z = z_smooth[idx]\n",
    "    \n",
    "    dX_dz = (1+z)**2/np.sqrt(0.3*(1+z)**3 + 0.7)\n",
    "    \n",
    "    DX = np.trapz(g*dX_dz, z)\n",
    "    DX0 = np.trapz(g0*dX_dz, z)\n",
    "    \n",
    "    return DX/DX0"
   ]
  },
  {
   "cell_type": "code",
   "execution_count": 21,
   "id": "4e1f4eb2",
   "metadata": {},
   "outputs": [],
   "source": [
    "W_range = np.arange(0.001, 0.1, 0.003)\n",
    "C_W = [eval_comp(W) for W in W_range]"
   ]
  },
  {
   "cell_type": "code",
   "execution_count": 34,
   "id": "f6eb60e7",
   "metadata": {},
   "outputs": [
    {
     "data": {
      "text/plain": [
       "0.4859185451495959"
      ]
     },
     "execution_count": 34,
     "metadata": {},
     "output_type": "execute_result"
    }
   ],
   "source": [
    "eval_comp(.02)"
   ]
  },
  {
   "cell_type": "code",
   "execution_count": 35,
   "id": "1d22f6aa",
   "metadata": {},
   "outputs": [
    {
     "data": {
      "text/plain": [
       "<matplotlib.lines.Line2D at 0x7fde9b7564f0>"
      ]
     },
     "execution_count": 35,
     "metadata": {},
     "output_type": "execute_result"
    },
    {
     "data": {
      "image/png": "[encoded data removed]",
      "text/plain": [
       "<Figure size 400x400 with 1 Axes>"
      ]
     },
     "metadata": {},
     "output_type": "display_data"
    }
   ],
   "source": [
    "fig, ax = plt.subplots(1, figsize=(4,4))\n",
    "\n",
    "ax.plot(W_range, C_W)\n",
    "\n",
    "ax.set_xlabel(r'$W_\\mathrm{r, 1548}$')\n",
    "ax.set_xlabel(r'Completeness')\n",
    "\n",
    "ax.set_title(r'$1.0 < z < 1.3$')\n",
    "\n",
    "ax.axvline(0.02, linestyle='--')"
   ]
  },
  {
   "cell_type": "markdown",
   "id": "3b5ed087",
   "metadata": {},
   "source": [
    "Load in STIS spectra"
   ]
  },
  {
   "cell_type": "code",
   "execution_count": 10,
   "id": "58d64e2f",
   "metadata": {},
   "outputs": [],
   "source": [
    "spec = fits.open(rootdir+'STIS/PG1522+101_E230M_new.fits')\n",
    "\n",
    "wav = spec[1].data['wave']\n",
    "flux = spec[1].data['flux']\n",
    "err = spec[1].data['error']"
   ]
  },
  {
   "cell_type": "code",
   "execution_count": 16,
   "id": "311a2f7f",
   "metadata": {},
   "outputs": [],
   "source": [
    "delta_wav = np.mean(wav[1:]-wav[:-1])\n",
    "wav_0 = .5*(wav[0] + wav[-1])\n",
    "\n",
    "delta_wav_res = (10/3e5)*wav_0\n",
    "N_pix = delta_wav_res//delta_wav"
   ]
  },
  {
   "cell_type": "code",
   "execution_count": 18,
   "id": "06a1b784",
   "metadata": {},
   "outputs": [
    {
     "data": {
      "text/plain": [
       "0.07944942646708802"
      ]
     },
     "execution_count": 18,
     "metadata": {},
     "output_type": "execute_result"
    }
   ],
   "source": [
    "delta_wav_res"
   ]
  },
  {
   "cell_type": "code",
   "execution_count": null,
   "id": "68de79fb",
   "metadata": {},
   "outputs": [],
   "source": []
  }
 ],
 "metadata": {
  "kernelspec": {
   "display_name": "Python 3 (ipykernel)",
   "language": "python",
   "name": "python3"
  },
  "language_info": {
   "codemirror_mode": {
    "name": "ipython",
    "version": 3
   },
   "file_extension": ".py",
   "mimetype": "text/x-python",
   "name": "python",
   "nbconvert_exporter": "python",
   "pygments_lexer": "ipython3",
   "version": "3.9.13"
  }
 },
 "nbformat": 4,
 "nbformat_minor": 5
}
