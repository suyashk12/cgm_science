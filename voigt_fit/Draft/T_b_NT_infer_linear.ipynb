{
 "cells": [
  {
   "cell_type": "code",
   "execution_count": 1,
   "id": "2d28bcb1",
   "metadata": {},
   "outputs": [],
   "source": [
    "import numpy as np\n",
    "import matplotlib.pyplot as plt\n",
    "import emcee\n",
    "import corner\n",
    "import pandas as pd\n",
    "from scipy import interpolate"
   ]
  },
  {
   "cell_type": "code",
   "execution_count": 2,
   "id": "a6c011df",
   "metadata": {},
   "outputs": [],
   "source": [
    "plt.style.use('/Users/thepoetoftwilight/Documents/CUBS/Code/science.mplstyle')"
   ]
  },
  {
   "cell_type": "markdown",
   "id": "61cabad3",
   "metadata": {},
   "source": [
    "# Constants"
   ]
  },
  {
   "cell_type": "code",
   "execution_count": 3,
   "id": "279d6932",
   "metadata": {},
   "outputs": [],
   "source": [
    "# List of atmoic numbers\n",
    "A_dict = {'H' : 1.00797 ,\n",
    "'He' : 4.00260 ,\n",
    "'Li' : 6.941 ,\n",
    "'Be' : 9.01218 ,\n",
    "'B' : 10.81 ,\n",
    "'C' : 12.011 ,\n",
    "'N' : 14.0067 ,\n",
    "'O' : 15.994 ,\n",
    "'F' : 18.9994 ,\n",
    "'Ne' : 20.179 ,\n",
    "'Na' : 22.98977 ,\n",
    "'Mg' : 24.305 ,\n",
    "'Al' : 26.98154 ,\n",
    "'Si' : 28.0855 ,\n",
    "'P' : 30.97376 ,\n",
    "'S' : 32.06 ,\n",
    "'Cl' : 35.453 ,\n",
    "'A' : 39.948 ,\n",
    "'K' : 39.0983 ,\n",
    "'Ca' : 40.08 ,\n",
    "'Sc' : 44.9559 ,\n",
    "'Ti' : 47.90 ,\n",
    "'V' : 50.9415 ,\n",
    "'Te' : 51.996 ,\n",
    "'Mn' : 54.9380 ,\n",
    "'Fe' : 55.847 ,\n",
    "'Co' : 58.70 ,\n",
    "'Ni' : 58.9332 ,\n",
    "'Cu' : 63.546 ,\n",
    "'Zn' : 65.38,\n",
    "}"
   ]
  },
  {
   "cell_type": "code",
   "execution_count": 4,
   "id": "fa4e39d5",
   "metadata": {},
   "outputs": [],
   "source": [
    "# Significance levels\n",
    "# Sigma values taken from Gehrels 1986\n",
    "cdf_1sig = 0.8413\n",
    "cdf_2sig = 0.9772\n",
    "cdf_3sig = 0.9987"
   ]
  },
  {
   "cell_type": "code",
   "execution_count": 5,
   "id": "2fced3c1",
   "metadata": {},
   "outputs": [],
   "source": [
    "# Boltzmann constant, adjusted to use km instead of m\n",
    "k_B = 1.380649e-29\n",
    "# Mass of hydrogen atom\n",
    "amu = 1.66054e-27"
   ]
  },
  {
   "cell_type": "markdown",
   "id": "8c6c1f89",
   "metadata": {},
   "source": [
    "# Functions"
   ]
  },
  {
   "cell_type": "code",
   "execution_count": 6,
   "id": "bfb7f788",
   "metadata": {},
   "outputs": [],
   "source": [
    "def gen_b(T, b_NT, A):\n",
    "    \n",
    "    return np.sqrt((2*k_B*T/(A*amu)) + b_NT**2)"
   ]
  },
  {
   "cell_type": "code",
   "execution_count": 7,
   "id": "1f45c7f9",
   "metadata": {},
   "outputs": [],
   "source": [
    "def log_prior(params):\n",
    "\n",
    "    # Grid parameters being varied\n",
    "    T, b_NT = params\n",
    "    \n",
    "    # Avoid edges?\n",
    "    if 1e+4<T<1e+6 and 0<b_NT<50:\n",
    "        return 0.0\n",
    "    return -np.inf"
   ]
  },
  {
   "cell_type": "code",
   "execution_count": 8,
   "id": "ffd5161f",
   "metadata": {},
   "outputs": [],
   "source": [
    "def log_likelihood(params, b_list):\n",
    "    \n",
    "    T, b_NT = params\n",
    "    \n",
    "    ll = 0\n",
    "    \n",
    "    for i in range(len(b_list)):\n",
    "        \n",
    "        ybar = gen_b(T, b_NT, A_dict[b_list[i][1]])\n",
    "        y = b_list[i][2]\n",
    "        dy = b_list[i][3]\n",
    "        \n",
    "        ll += -.5*(y-ybar)**2/dy**2\n",
    "            \n",
    "    return ll"
   ]
  },
  {
   "cell_type": "code",
   "execution_count": 9,
   "id": "74f9edd4",
   "metadata": {},
   "outputs": [],
   "source": [
    "def log_probability(params, b_list):\n",
    "        \n",
    "    lp = log_prior(params)\n",
    "    \n",
    "    if not np.isfinite(lp):\n",
    "        return -np.inf\n",
    "    return lp + log_likelihood(params, b_list)"
   ]
  },
  {
   "cell_type": "code",
   "execution_count": 10,
   "id": "29f2bb05",
   "metadata": {},
   "outputs": [
    {
     "data": {
      "text/plain": [
       "12.844232700646511"
      ]
     },
     "execution_count": 10,
     "metadata": {},
     "output_type": "execute_result"
    }
   ],
   "source": [
    "gen_b(1e+4, 0, A_dict['H'])"
   ]
  },
  {
   "cell_type": "code",
   "execution_count": 11,
   "id": "d46170a7",
   "metadata": {},
   "outputs": [
    {
     "data": {
      "text/plain": [
       "3.7208519053703197"
      ]
     },
     "execution_count": 11,
     "metadata": {},
     "output_type": "execute_result"
    }
   ],
   "source": [
    "gen_b(1e+4, 0, A_dict['C'])"
   ]
  },
  {
   "cell_type": "code",
   "execution_count": 12,
   "id": "aaf9f752",
   "metadata": {},
   "outputs": [
    {
     "data": {
      "text/plain": [
       "3.445593622658098"
      ]
     },
     "execution_count": 12,
     "metadata": {},
     "output_type": "execute_result"
    }
   ],
   "source": [
    "gen_b(1e+4, 0, A_dict['N'])"
   ]
  },
  {
   "cell_type": "code",
   "execution_count": 13,
   "id": "1fdf8f9f",
   "metadata": {},
   "outputs": [
    {
     "data": {
      "text/plain": [
       "3.2244334848939453"
      ]
     },
     "execution_count": 13,
     "metadata": {},
     "output_type": "execute_result"
    }
   ],
   "source": [
    "gen_b(1e+4, 0, A_dict['O'])"
   ]
  },
  {
   "cell_type": "code",
   "execution_count": 14,
   "id": "f5ff126c",
   "metadata": {},
   "outputs": [
    {
     "data": {
      "text/plain": [
       "2.433273287255247"
      ]
     },
     "execution_count": 14,
     "metadata": {},
     "output_type": "execute_result"
    }
   ],
   "source": [
    "gen_b(1e+4, 0, A_dict['Si'])"
   ]
  },
  {
   "cell_type": "markdown",
   "id": "f2878386",
   "metadata": {},
   "source": [
    "# z=0.67"
   ]
  },
  {
   "cell_type": "code",
   "execution_count": 15,
   "id": "de0b20c9",
   "metadata": {},
   "outputs": [],
   "source": [
    "b_list = [[['HI', 'H', 36, 2],\n",
    "          ['CIII', 'C', 31, 2],\n",
    "          ['CIV', 'C', 32, 5],\n",
    "          ['OIII', 'O', 33, 2],\n",
    "          ['OIV', 'O', 30, 2],\n",
    "          ['OVI', 'O', 31, 3]\n",
    "          ]]"
   ]
  },
  {
   "cell_type": "code",
   "execution_count": 17,
   "id": "c3a12a22",
   "metadata": {},
   "outputs": [],
   "source": [
    "pos = np.array([10**4.2, 32]) + 1e-4 * np.random.randn(200, 2)\n",
    "nwalkers, ndim = pos.shape"
   ]
  },
  {
   "cell_type": "code",
   "execution_count": 18,
   "id": "d6963e76",
   "metadata": {},
   "outputs": [],
   "source": [
    "sampler = emcee.EnsembleSampler(\n",
    "    nwalkers, ndim, log_probability, args=(b_list)\n",
    ")"
   ]
  },
  {
   "cell_type": "code",
   "execution_count": 19,
   "id": "b37856f2",
   "metadata": {},
   "outputs": [
    {
     "name": "stderr",
     "output_type": "stream",
     "text": [
      "100%|██████████████████████████████████████| 5000/5000 [00:16<00:00, 298.18it/s]\n"
     ]
    },
    {
     "data": {
      "text/plain": [
       "State([[2.19453296e+04 3.10295594e+01]\n",
       " [1.83485427e+04 3.11634935e+01]\n",
       " [1.95174586e+04 2.96175582e+01]\n",
       " [3.56869127e+04 3.02721308e+01]\n",
       " [2.12131330e+04 3.18398998e+01]\n",
       " [2.41870653e+04 3.13178842e+01]\n",
       " [2.48394643e+04 3.13909392e+01]\n",
       " [2.24265083e+04 3.21325831e+01]\n",
       " [2.85041341e+04 3.11126829e+01]\n",
       " [1.92018183e+04 2.93009291e+01]\n",
       " [3.61885384e+04 2.94454193e+01]\n",
       " [1.70280252e+04 3.14849370e+01]\n",
       " [2.72214902e+04 3.06226578e+01]\n",
       " [3.09719367e+04 2.97686444e+01]\n",
       " [1.01218344e+04 3.08359647e+01]\n",
       " [1.55548712e+04 3.15075205e+01]\n",
       " [1.15355608e+04 3.03542948e+01]\n",
       " [2.81735899e+04 2.88856401e+01]\n",
       " [2.08929351e+04 3.09274181e+01]\n",
       " [1.65933987e+04 3.21415708e+01]\n",
       " [1.77080784e+04 3.04825465e+01]\n",
       " [1.96624695e+04 3.09349936e+01]\n",
       " [2.94606308e+04 3.12634043e+01]\n",
       " [1.12530129e+04 3.25747828e+01]\n",
       " [1.27930219e+04 3.12327649e+01]\n",
       " [1.56891178e+04 3.09259775e+01]\n",
       " [3.21551698e+04 3.21858145e+01]\n",
       " [1.90529746e+04 3.16901717e+01]\n",
       " [1.19031849e+04 3.01508131e+01]\n",
       " [3.38437097e+04 3.16868222e+01]\n",
       " [1.07170355e+04 3.11225758e+01]\n",
       " [1.03690276e+04 3.21185858e+01]\n",
       " [2.35046353e+04 2.96635669e+01]\n",
       " [2.06887664e+04 3.21394902e+01]\n",
       " [1.78555810e+04 3.07743920e+01]\n",
       " [1.25145139e+04 3.27428588e+01]\n",
       " [3.03790517e+04 3.01225495e+01]\n",
       " [4.63236162e+04 2.77337436e+01]\n",
       " [2.38878945e+04 3.11387702e+01]\n",
       " [3.66235383e+04 3.11443901e+01]\n",
       " [1.30502200e+04 3.35359122e+01]\n",
       " [1.33962781e+04 3.24793480e+01]\n",
       " [2.24492128e+04 3.04380638e+01]\n",
       " [2.71622153e+04 3.03732951e+01]\n",
       " [2.00570222e+04 3.06261108e+01]\n",
       " [1.14173892e+04 3.03678156e+01]\n",
       " [2.42560631e+04 3.02941631e+01]\n",
       " [3.10225730e+04 2.96121316e+01]\n",
       " [1.39068434e+04 3.17830595e+01]\n",
       " [4.41215221e+04 3.00602911e+01]\n",
       " [3.12794606e+04 3.15315601e+01]\n",
       " [2.33996403e+04 3.06549797e+01]\n",
       " [1.50825670e+04 3.22726123e+01]\n",
       " [3.06932640e+04 3.02011819e+01]\n",
       " [1.69853907e+04 2.99809222e+01]\n",
       " [2.89128868e+04 3.00774170e+01]\n",
       " [1.50433802e+04 3.06290147e+01]\n",
       " [3.42334710e+04 3.10617488e+01]\n",
       " [2.41392442e+04 3.06673928e+01]\n",
       " [4.93094256e+04 2.94513323e+01]\n",
       " [1.22834206e+04 3.03262655e+01]\n",
       " [1.15604743e+04 3.04506222e+01]\n",
       " [3.89673142e+04 2.98287810e+01]\n",
       " [1.72813878e+04 3.02572469e+01]\n",
       " [2.62999759e+04 2.89766960e+01]\n",
       " [2.37393955e+04 3.00869923e+01]\n",
       " [2.62894930e+04 2.99399540e+01]\n",
       " [2.29356142e+04 2.98046657e+01]\n",
       " [2.40329333e+04 3.02526605e+01]\n",
       " [3.13643043e+04 2.91010913e+01]\n",
       " [2.60822482e+04 3.04312997e+01]\n",
       " [4.10868326e+04 3.02626022e+01]\n",
       " [1.63102438e+04 3.00674379e+01]\n",
       " [1.79646628e+04 3.03575494e+01]\n",
       " [2.01913439e+04 3.01600569e+01]\n",
       " [1.61627233e+04 3.00283551e+01]\n",
       " [2.93490118e+04 3.06041948e+01]\n",
       " [2.81380582e+04 3.08590155e+01]\n",
       " [2.60883082e+04 3.03148485e+01]\n",
       " [1.41580874e+04 3.19017856e+01]\n",
       " [2.74942385e+04 2.97374532e+01]\n",
       " [1.81140198e+04 3.10514507e+01]\n",
       " [1.37999223e+04 3.16719978e+01]\n",
       " [1.23494873e+04 3.24244115e+01]\n",
       " [1.87659094e+04 2.99338042e+01]\n",
       " [2.68151364e+04 3.05156567e+01]\n",
       " [4.01884984e+04 3.06740417e+01]\n",
       " [3.26038984e+04 2.84430041e+01]\n",
       " [3.82845462e+04 3.05267716e+01]\n",
       " [2.32366048e+04 3.04213592e+01]\n",
       " [1.79578393e+04 2.99503366e+01]\n",
       " [1.92609675e+04 3.13656137e+01]\n",
       " [3.25572974e+04 2.89017530e+01]\n",
       " [3.98131894e+04 3.04087392e+01]\n",
       " [4.26509894e+04 2.93715061e+01]\n",
       " [3.44435156e+04 2.99308149e+01]\n",
       " [2.99004808e+04 2.97058574e+01]\n",
       " [2.97531228e+04 2.98428402e+01]\n",
       " [2.88268484e+04 3.01450161e+01]\n",
       " [4.28704822e+04 3.05459502e+01]\n",
       " [1.90329324e+04 3.05939100e+01]\n",
       " [3.01555005e+04 3.20569329e+01]\n",
       " [2.29215879e+04 3.20293236e+01]\n",
       " [1.95197909e+04 2.89274944e+01]\n",
       " [1.62038188e+04 3.04574859e+01]\n",
       " [3.97414451e+04 3.07458582e+01]\n",
       " [2.46340458e+04 3.09301139e+01]\n",
       " [1.47858701e+04 3.17033106e+01]\n",
       " [1.88822404e+04 3.14010371e+01]\n",
       " [2.10873988e+04 2.99527011e+01]\n",
       " [1.05830317e+04 3.13946247e+01]\n",
       " [1.59541322e+04 3.21984765e+01]\n",
       " [2.51270879e+04 3.13198393e+01]\n",
       " [2.43604288e+04 3.12362274e+01]\n",
       " [3.16685183e+04 2.89570090e+01]\n",
       " [2.80307775e+04 3.07881103e+01]\n",
       " [2.95490568e+04 3.14566466e+01]\n",
       " [3.49922588e+04 2.96493956e+01]\n",
       " [1.86071756e+04 3.01104684e+01]\n",
       " [2.43118839e+04 3.15045949e+01]\n",
       " [2.15263340e+04 3.01499734e+01]\n",
       " [4.32416416e+04 2.99925282e+01]\n",
       " [1.82823685e+04 3.19132040e+01]\n",
       " [3.73708433e+04 2.89489511e+01]\n",
       " [1.54995747e+04 3.14013120e+01]\n",
       " [2.18407854e+04 2.96349594e+01]\n",
       " [1.04709792e+04 3.10393835e+01]\n",
       " [2.36341090e+04 3.07722397e+01]\n",
       " [2.34215127e+04 3.05370766e+01]\n",
       " [3.05662182e+04 2.97953129e+01]\n",
       " [2.12533672e+04 3.15763791e+01]\n",
       " [1.26495478e+04 3.19537231e+01]\n",
       " [2.41028034e+04 3.08766512e+01]\n",
       " [2.07773612e+04 3.07280940e+01]\n",
       " [2.85318438e+04 3.14779418e+01]\n",
       " [1.40995223e+04 3.17344694e+01]\n",
       " [2.59117970e+04 3.26824645e+01]\n",
       " [3.14962876e+04 3.10343170e+01]\n",
       " [2.32569571e+04 3.10156363e+01]\n",
       " [6.13866633e+04 2.93219360e+01]\n",
       " [1.43720978e+04 3.02165100e+01]\n",
       " [2.52473619e+04 3.12558072e+01]\n",
       " [1.13419881e+04 3.07433493e+01]\n",
       " [3.30356398e+04 2.95566502e+01]\n",
       " [2.91261577e+04 3.03664847e+01]\n",
       " [3.17652294e+04 3.10156361e+01]\n",
       " [2.86842945e+04 3.09182174e+01]\n",
       " [1.21136114e+04 3.26297714e+01]\n",
       " [2.70549509e+04 2.98448463e+01]\n",
       " [1.91873867e+04 3.18041227e+01]\n",
       " [3.72480995e+04 2.88123471e+01]\n",
       " [1.56869785e+04 2.97147624e+01]\n",
       " [2.39812186e+04 2.93695867e+01]\n",
       " [1.46084958e+04 3.18695818e+01]\n",
       " [1.62499550e+04 3.21550888e+01]\n",
       " [3.00119684e+04 2.91067275e+01]\n",
       " [4.14620629e+04 2.83442686e+01]\n",
       " [3.89284097e+04 2.92798506e+01]\n",
       " [1.50125697e+04 3.19757281e+01]\n",
       " [1.99262029e+04 2.94802477e+01]\n",
       " [2.91823917e+04 2.97733085e+01]\n",
       " [1.83379220e+04 2.88893390e+01]\n",
       " [1.39248562e+04 3.19027800e+01]\n",
       " [3.39644492e+04 2.80717565e+01]\n",
       " [4.20014176e+04 3.09479985e+01]\n",
       " [2.18700414e+04 2.89516000e+01]\n",
       " [3.87854377e+04 2.79820280e+01]\n",
       " [1.72163216e+04 2.94305935e+01]\n",
       " [2.55560252e+04 2.93232903e+01]\n",
       " [2.79351135e+04 3.06379563e+01]\n",
       " [4.04074945e+04 2.98308184e+01]\n",
       " [1.95764912e+04 2.92701514e+01]\n",
       " [2.51782964e+04 2.94505761e+01]\n",
       " [4.21569434e+04 2.78150913e+01]\n",
       " [1.86184583e+04 2.85679837e+01]\n",
       " [2.19761669e+04 2.95188999e+01]\n",
       " [1.89817474e+04 3.15314484e+01]\n",
       " [1.95136506e+04 3.01265557e+01]\n",
       " [1.51761120e+04 2.98948571e+01]\n",
       " [3.05837438e+04 2.90714674e+01]\n",
       " [2.89924301e+04 3.03345359e+01]\n",
       " [3.78055843e+04 3.14635627e+01]\n",
       " [2.04522987e+04 3.15429322e+01]\n",
       " [1.00592498e+04 3.15827300e+01]\n",
       " [2.86178280e+04 3.07882342e+01]\n",
       " [1.82660592e+04 3.08616239e+01]\n",
       " [1.16480593e+04 2.99845000e+01]\n",
       " [1.74140328e+04 3.29754878e+01]\n",
       " [3.55370568e+04 2.91998087e+01]\n",
       " [2.09657702e+04 2.89924706e+01]\n",
       " [3.59056524e+04 3.03238684e+01]\n",
       " [1.44441707e+04 3.04250071e+01]\n",
       " [1.16522841e+04 3.09456189e+01]\n",
       " [1.16019599e+04 3.11900835e+01]\n",
       " [2.47588042e+04 3.08666612e+01]\n",
       " [3.06092129e+04 2.97698741e+01]\n",
       " [3.05206050e+04 3.01234728e+01]\n",
       " [2.93398299e+04 3.07405619e+01]\n",
       " [1.81189870e+04 3.11589180e+01]\n",
       " [4.02978123e+04 3.00172176e+01]], log_prob=[-0.63170152 -0.63095623 -1.63449249 -1.65486677 -1.077687   -0.85735311\n",
       " -0.95811781 -1.52818557 -1.11606683 -2.19515835 -1.8786451  -0.71853683\n",
       " -0.81747031 -1.26392561 -1.46450909 -0.75586178 -1.73855011 -2.20330644\n",
       " -0.60644183 -1.16713801 -0.85883583 -0.61070606 -1.34821581 -1.61015017\n",
       " -0.91392241 -0.77103442 -3.13629477 -0.84566221 -1.95106792 -2.59320724\n",
       " -1.18284993 -1.25399997 -1.28201137 -1.38234679 -0.69828808 -1.82171586\n",
       " -1.0789075  -5.01623391 -0.74404638 -2.41065504 -3.32443871 -1.48785788\n",
       " -0.7029177  -0.82587544 -0.66996917 -1.74227784 -0.76551715 -1.36905394\n",
       " -0.90970356 -3.11144673 -1.90489466 -0.65202831 -1.27299058 -1.08808459\n",
       " -1.4156166  -0.99937304 -0.98288141 -1.88157895 -0.66944371 -4.12740696\n",
       " -1.64562779 -1.61650818 -2.10804626 -1.0776294  -2.12612868 -0.88442259\n",
       " -0.98580873 -1.15124222 -0.78396038 -1.88480587 -0.76660911 -2.57436657\n",
       " -1.38795278 -0.93260697 -0.94901001 -1.45512833 -0.98122717 -0.94504714\n",
       " -0.79545846 -0.96556618 -1.15432826 -0.63297667 -0.8702073  -1.42945381\n",
       " -1.28684288 -0.79127691 -2.66813598 -2.90795227 -2.18421722 -0.7079293\n",
       " -1.34646856 -0.67606124 -2.17510542 -2.40259609 -2.78813704 -1.4969356\n",
       " -1.24862638 -1.15442334 -0.97112948 -3.14859869 -0.71946381 -2.50310161\n",
       " -1.4382306  -2.90318123 -1.00133904 -2.63768645 -0.71488724 -0.84697196\n",
       " -0.68560267 -1.09114037 -1.10316673 -1.2106631  -0.9309943  -0.82110795\n",
       " -2.07869763 -0.91106574 -1.55114377 -1.64892594 -1.10576665 -1.00376143\n",
       " -0.89393601 -2.89922004 -0.99905253 -2.39757329 -0.73512952 -1.40997362\n",
       " -1.26232362 -0.65208878 -0.67364476 -1.22491602 -0.85312014 -1.04343346\n",
       " -0.67857025 -0.62707805 -1.43491048 -0.88171775 -2.98250837 -1.43371091\n",
       " -0.67178291 -7.54218433 -1.45996307 -0.89860717 -1.35356329 -1.5325084\n",
       " -0.94820556 -1.45728158 -1.02310818 -1.6683677  -1.0640705  -0.93782564\n",
       " -2.53873545 -1.98165721 -1.63779336 -0.93686957 -1.17243507 -1.85544914\n",
       " -3.52041794 -2.28874196 -1.00329459 -1.80166552 -1.17267313 -3.18419206\n",
       " -0.97183134 -3.63667118 -3.36483526 -2.53638522 -3.92414014 -2.24007337\n",
       " -1.62913855 -0.86967541 -2.3402246  -2.20299265 -1.47479631 -4.45639365\n",
       " -3.93211486 -1.55710014 -0.7462597  -1.02136529 -1.77730525 -1.90774362\n",
       " -0.94142686 -3.0940665  -0.79473638 -1.13721149 -0.96338445 -0.65506463\n",
       " -2.26190172 -2.47273721 -2.00191717 -2.56324339 -1.69924891 -1.22244955\n",
       " -1.15996084 -1.04658316 -0.70744892 -1.2421786  -1.0892876  -1.01616984\n",
       " -0.63431206 -2.34153659], blobs=None, random_state=('MT19937', array([1009236669, 3750068420, 4077923383, 3117375437, 3104433211,\n",
       "         76649278, 2397365581, 1428368072,  797379995,   17532177,\n",
       "       2671317535, 3481254426,  562456082, 3149666836, 2590761528,\n",
       "        142699577, 1707654242, 1170692003, 2631513487, 2840902879,\n",
       "       1339536848, 3223424089, 4241697985, 3603305461, 3238820499,\n",
       "       3227957986, 2773546276, 1328993990, 1595065503, 3415453517,\n",
       "       4258962809, 1523915284,  926739253,  861718435, 1012049499,\n",
       "        980090117, 1269354792, 2083343113, 3832633931,  229035176,\n",
       "       2366758871,  936034545, 1462974365, 3703241597,  374240646,\n",
       "       1431736491, 3636289891,  661761973, 2662132949, 3091691089,\n",
       "       1518572551, 2073693628, 4132958439, 3731044015, 1378324243,\n",
       "       2191200191, 2213422749, 1512169034,   60493063,  807386949,\n",
       "        700130889, 1113132885, 1564640777, 1799502151, 2615110880,\n",
       "       3446525155, 3614068894, 4042558011, 3350621836,  949416270,\n",
       "        701340709, 1224564367, 2717953814, 3417347057, 1936347779,\n",
       "       3760100813,  303755241, 1710706409, 1440379018, 1158459158,\n",
       "        136908764,  657119533, 1102885906, 2079425253, 2341466850,\n",
       "       3572151268, 2738210641, 4157523117,  272128192, 3937014966,\n",
       "       2021391933, 2578663503, 3897012237, 3573131505, 4200147915,\n",
       "       3920131961,  902769490,  676859291, 1648889516, 1591776944,\n",
       "       3233286662, 2132571350, 2266943873, 4201477660, 1661181908,\n",
       "       2370935128, 2451222360, 1563041116, 3720728408, 1645005228,\n",
       "       1856420884, 2960463140,  701192337, 3889554800, 2453051581,\n",
       "       4092227853, 3268340951, 2845142623, 2506612049, 1388324646,\n",
       "       2080448524, 4209504782, 3800334174, 2835694883,  326321482,\n",
       "        519910162, 2216986758, 2497479080, 1569615055,  429055591,\n",
       "       4146532867,  324713053,  367280584,  732573960, 1677553647,\n",
       "       4213483800,  683137157, 4186057119,  156675537, 2133700821,\n",
       "       1033343123, 3340560149, 4016713057, 3171371105, 3956295838,\n",
       "       3540498336, 2982207000,  614236322, 3195464907, 2659062621,\n",
       "       2958855219, 4252919971,  540589098, 1800940617, 1820000787,\n",
       "       2582607168, 4030406094, 1553476124,  656160753, 2968821634,\n",
       "        686618285, 1028281204, 4192263785,  214576271,  907973574,\n",
       "       2763093841, 1587761501, 2593731529, 1463433990, 3183558624,\n",
       "       2469029963, 1297435785,  849781982,  394738182, 2303170013,\n",
       "       1441597298,  729304302, 3023869949, 2725379610, 3687688434,\n",
       "       2536434275, 2977262495, 1992992817, 2285034159, 3361180127,\n",
       "       2097918912, 1262355691, 3975900720, 2236904180, 1112466711,\n",
       "       1860076680,  342903978, 2810111789, 2461517305, 2901092739,\n",
       "        410573529, 3257698540, 4112560365, 2391492424, 1472054191,\n",
       "       1834121570, 1223782613, 2983204420, 4033661902, 3853402530,\n",
       "        414916123, 3763670367, 2259074450,   98488763, 1858250695,\n",
       "       2790075590, 3289745705, 1304348023, 3435654991, 1859264434,\n",
       "       2912563277,  140733974, 1961208759, 1753907240, 4263177147,\n",
       "       4240495538, 2586333658, 1285164053, 4229612915, 3572391239,\n",
       "       2425847535, 1980508622, 1783620791, 4108693525, 1910311859,\n",
       "       3390213979, 2246124183, 2686609579, 3025489118,  849352016,\n",
       "        741738541, 3250487982, 4128048997, 2823028215, 3226818337,\n",
       "       1549256023, 4187555051, 2910286246, 3789008560, 1078759053,\n",
       "       2488715843,  650785526, 4152746053, 2923254326, 4093430534,\n",
       "       2385533883, 1932220256, 4093209463,  968658694, 1462558383,\n",
       "       1684013047,  378323367, 2697711952, 3382610034, 3711805739,\n",
       "       3179451333, 2550619140, 2822086464,  471786891,   31620169,\n",
       "        287401171, 3840321213, 2904850565, 1814744213, 2993036611,\n",
       "       4116226707,  723498947, 2055026030, 3758462064, 2533266567,\n",
       "       2961916614, 1817436204, 3194976823, 3857221894, 2589811822,\n",
       "       2876768476, 1697136158, 1964535903, 4235298743,  312448432,\n",
       "        348952831, 1452386977, 2120380786, 3150256999, 1593139137,\n",
       "        594552551, 3507290614, 3453883154, 2746811392, 4075683322,\n",
       "        207203052,   43241488, 2695341780, 3296170095, 2680771943,\n",
       "       1324654260,  212056035, 3626211309, 4139107708, 2333234793,\n",
       "       2988680668, 2149932629, 2686986873, 3185186456, 3463936382,\n",
       "       2364562576, 1354532418, 2919619158, 2699612011, 1778996701,\n",
       "       3831924826, 3528867908, 3036711747, 1030668200, 2884647305,\n",
       "       3393352496, 1438366192, 3692217466, 3350020266, 3514667687,\n",
       "       1003717799, 2345363534,  342861446,  491861064, 3925221801,\n",
       "       1716499214, 1419821306, 3889928730,  339049378, 1637600678,\n",
       "       1701880008, 3114052306, 2800801055,  363468448, 3300243504,\n",
       "       2483249313, 3285949921, 4273703958,  365835644,  810200733,\n",
       "       4026483558, 2287559642, 3936541375, 2760430519, 1446544007,\n",
       "        564161267,  492753706,  834221331, 2994563038,  235127609,\n",
       "       3859867569, 2355775342, 1515387002,   94762266, 3734703465,\n",
       "        869612175, 1497199464, 3838570690, 3595387803, 2779146429,\n",
       "       4210331386, 3737487246, 2608583095, 3232033752,  341988268,\n",
       "       2960481843,  604838397,  376068346,   41056968, 1505104820,\n",
       "       3896955836, 1621933841, 1943109556, 2395982159, 3154816443,\n",
       "        599224793,  457030205,  470731205, 2340036034, 3326373024,\n",
       "       1169280227, 2669408249, 3807244854,  555830383, 3334826261,\n",
       "       3026915586, 3857112533, 1256462310,  276436752, 3423707442,\n",
       "       1522098403, 3370590349, 3922774687, 3624469217, 3952342995,\n",
       "       2424861486, 3328438425, 2673810329, 2382520093, 4179450035,\n",
       "       3815260644, 2069418625, 2834692282, 2868578576,  447297141,\n",
       "        275088597, 2654952783, 2072459695, 2151015270,  161848290,\n",
       "        779829229, 4232511147,  504400480, 3052153090, 4202363770,\n",
       "       2169023035, 1674511521, 2207068961, 2951578813, 2468560612,\n",
       "       3573044178, 3219465933, 3530968597, 1548996354, 1357025544,\n",
       "       4167510929, 1871563756, 1259368502, 2046343949, 1255518551,\n",
       "       3240830861, 3436843884, 1249661684, 4170721199, 3979796947,\n",
       "       1057587569, 2672134735,  212746204, 1439164531,  980926069,\n",
       "       2431801028,  395626686, 3971654745, 1570656597, 4267773681,\n",
       "       3240259719, 2938490254, 1719098926, 1380146558, 3335404225,\n",
       "       2923260039,  749623555,   92155441, 4241664232, 3781056449,\n",
       "       1337131248,  505953564, 3716716592, 2480117206, 2938390742,\n",
       "         11878497, 1595787864, 2679850098, 2066668269, 2716536553,\n",
       "        915390431, 1155874932, 1703063181, 3254463157, 3317589716,\n",
       "       1606689741, 2387264344, 2104288608,  309194125,  767584815,\n",
       "        163294204,  431115271, 3837767303,  492716850, 4285275541,\n",
       "       3269242008, 1169685488,  513511370, 2608600544, 2456768583,\n",
       "       3990705130, 1506559771, 2689174344, 4230077661,  211450511,\n",
       "       2454378832, 4172732798, 2171546998, 1176277152,  436990347,\n",
       "       1020957169, 3861836087,   95555937, 4204833616, 2170708473,\n",
       "       1957631468, 2787547253, 2795295689, 2117206129, 3643850911,\n",
       "       1356898341, 1427237137, 2918863111, 3777002466,  392882192,\n",
       "       2848469846, 2027158599, 1222478755, 4182254963,  775464141,\n",
       "       1349009773,  171004962, 3111166778,   12593021, 1882078771,\n",
       "       2368716436, 3708586338, 3634834657,  374978452, 2073285692,\n",
       "        409325713, 2224485849, 1345459019,  895032960, 2013056377,\n",
       "        213365626, 3919423331, 3712184155, 4187860993, 1487096123,\n",
       "       2385075759,  865119755, 2511601874,  892432608, 1647037006,\n",
       "        447140879,  553869408, 1272361221, 1310504611, 1734623179,\n",
       "        913741608,   63046482, 3626131811, 1357644315, 4264991154,\n",
       "       3236140247, 2926115192, 4079730729, 3794279665, 2111677546,\n",
       "       1994547326, 2576101321,   17301917, 4111036969, 3463046042,\n",
       "        837451870,  343703468, 3206306983, 1504013617,  563746028,\n",
       "       2060149277, 2434125149, 2934527371,  627467748, 4272399295,\n",
       "       1605816844, 3256734871, 2175224509, 1706917080, 1910385438,\n",
       "       4072946435, 3275101577, 3856934916,  779379213, 2173204719,\n",
       "       3017198883,  829378335,  423820922, 3856352061, 2151028656,\n",
       "       3503065803, 2681149256, 3622451269, 2414877043, 1173538159,\n",
       "       1305757941, 1919363572, 4063303966,  584411945, 3854118628,\n",
       "        946925658, 3294778883, 1142347689, 1698398417,  987899328,\n",
       "       1567237614, 1483863026, 3650133970, 2102040604, 4225961090,\n",
       "       2677211638, 3492460523, 3690455480,   89810058, 4138023296,\n",
       "       1201345639, 1572414385,  715385362,  608896699,  167528459,\n",
       "        636372372, 3881407855, 4099693736, 1341934860], dtype=uint32), 135, 0, 0.0))"
      ]
     },
     "execution_count": 19,
     "metadata": {},
     "output_type": "execute_result"
    }
   ],
   "source": [
    "sampler.run_mcmc(pos, 5000, progress=True)"
   ]
  },
  {
   "cell_type": "code",
   "execution_count": 20,
   "id": "81107b61",
   "metadata": {},
   "outputs": [],
   "source": [
    "flat_samples = pd.DataFrame(sampler.get_chain(discard=500, flat=True), \n",
    "                                columns=['T', 'b_NT'])"
   ]
  },
  {
   "cell_type": "code",
   "execution_count": 21,
   "id": "cbbb94ac",
   "metadata": {},
   "outputs": [
    {
     "name": "stderr",
     "output_type": "stream",
     "text": [
      "WARNING:root:Pandas support in corner is deprecated; use ArviZ directly\n"
     ]
    },
    {
     "data": {
      "image/png": "[encoded data removed]",
      "text/plain": [
       "<Figure size 550x550 with 4 Axes>"
      ]
     },
     "metadata": {},
     "output_type": "display_data"
    }
   ],
   "source": [
    "fig = corner.corner(\n",
    "    flat_samples, quantiles = [0.16, 0.5, 0.84], show_titles=True, \n",
    "    labels=[r'$T$', r'$b_{\\mathrm{NT}}$'], \n",
    "    plot_density=True, levels=[0.68, 0.95], contour_kwargs={'colors':'red'}\n",
    ");"
   ]
  },
  {
   "cell_type": "code",
   "execution_count": 22,
   "id": "fe8d0ca6",
   "metadata": {},
   "outputs": [],
   "source": [
    "pdf, edges = np.histogram(flat_samples['T'], bins=100)\n",
    "centers = .5*(edges[1:]+edges[:-1])\n",
    "cdf = np.cumsum(pdf)/np.sum(pdf)\n",
    "ppf = interpolate.interp1d(x=cdf, y=centers)"
   ]
  },
  {
   "cell_type": "code",
   "execution_count": 23,
   "id": "035049dd",
   "metadata": {},
   "outputs": [
    {
     "data": {
      "text/plain": [
       "Text(0, 0.5, 'CDF')"
      ]
     },
     "execution_count": 23,
     "metadata": {},
     "output_type": "execute_result"
    },
    {
     "data": {
      "image/png": "[encoded data removed]",
      "text/plain": [
       "<Figure size 500x400 with 1 Axes>"
      ]
     },
     "metadata": {},
     "output_type": "display_data"
    }
   ],
   "source": [
    "fig, ax = plt.subplots(1, figsize=(5,4))\n",
    "ax.step(centers, cdf, where='mid')\n",
    "ax.set_xlabel(r'$T$')\n",
    "ax.set_ylabel('CDF')"
   ]
  },
  {
   "cell_type": "code",
   "execution_count": 24,
   "id": "19c51faa",
   "metadata": {},
   "outputs": [
    {
     "data": {
      "text/plain": [
       "4.732789972321521"
      ]
     },
     "execution_count": 24,
     "metadata": {},
     "output_type": "execute_result"
    }
   ],
   "source": [
    "np.log10(ppf(cdf_3sig))"
   ]
  },
  {
   "cell_type": "code",
   "execution_count": null,
   "id": "40a85de5",
   "metadata": {},
   "outputs": [],
   "source": []
  }
 ],
 "metadata": {
  "kernelspec": {
   "display_name": "Python 3 (ipykernel)",
   "language": "python",
   "name": "python3"
  },
  "language_info": {
   "codemirror_mode": {
    "name": "ipython",
    "version": 3
   },
   "file_extension": ".py",
   "mimetype": "text/x-python",
   "name": "python",
   "nbconvert_exporter": "python",
   "pygments_lexer": "ipython3",
   "version": "3.9.13"
  }
 },
 "nbformat": 4,
 "nbformat_minor": 5
}
