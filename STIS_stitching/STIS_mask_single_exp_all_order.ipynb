{
 "cells": [
  {
   "cell_type": "code",
   "execution_count": 1,
   "metadata": {},
   "outputs": [],
   "source": [
    "from astropy.io import fits\n",
    "import numpy as np\n",
    "import pandas as pd\n",
    "import matplotlib.pyplot as plt"
   ]
  },
  {
   "cell_type": "code",
   "execution_count": 2,
   "metadata": {},
   "outputs": [],
   "source": [
    "rootdir = 'LBQS1435-0134/STIS/'"
   ]
  },
  {
   "cell_type": "code",
   "execution_count": 3,
   "metadata": {},
   "outputs": [],
   "source": [
    "fname = rootdir + 'oco703010_x1d.fits'\n",
    "spec_data = fits.open(fname)"
   ]
  },
  {
   "cell_type": "code",
   "execution_count": 4,
   "metadata": {},
   "outputs": [
    {
     "name": "stdout",
     "output_type": "stream",
     "text": [
      "Filename: LBQS1435-0134/STIS/oco703010_x1d.fits\n",
      "No.    Name      Ver    Type      Cards   Dimensions   Format\n",
      "  0  PRIMARY       1 PrimaryHDU     300   ()      \n",
      "  1  SCI           1 BinTableHDU    157   29R x 19C   [1I, 1I, 1024D, 1024E, 1024E, 1024E, 1024E, 1024E, 1024E, 1024I, 1E, 1E, 1I, 1E, 1E, 1E, 1E, 1024E, 1E]   \n"
     ]
    }
   ],
   "source": [
    "spec_data.info()"
   ]
  },
  {
   "cell_type": "code",
   "execution_count": 5,
   "metadata": {
    "scrolled": true
   },
   "outputs": [
    {
     "data": {
      "text/plain": [
       "XTENSION= 'BINTABLE'           / binary table extension                         \n",
       "BITPIX  =                    8 / 8-bit bytes                                    \n",
       "NAXIS   =                    2 / 2-dimensional binary table                     \n",
       "NAXIS1  =                38946 / width of table in bytes                        \n",
       "NAXIS2  =                   29 / number of rows in table                        \n",
       "PCOUNT  =                    0 / size of special data area                      \n",
       "GCOUNT  =                    1 / one data group (required keyword)              \n",
       "TFIELDS =                   19 / number of fields in each row                   \n",
       "TTYPE1  = 'SPORDER '           / label for field   1                            \n",
       "TFORM1  = '1I      '           / data format of field: 2-byte INTEGER           \n",
       "TTYPE2  = 'NELEM   '           / label for field   2                            \n",
       "TFORM2  = '1I      '           / data format of field: 2-byte INTEGER           \n",
       "TTYPE3  = 'WAVELENGTH'         / label for field   3                            \n",
       "TFORM3  = '1024D   '           / data format of field: 8-byte DOUBLE            \n",
       "TUNIT3  = 'Angstroms'          / physical unit of field                         \n",
       "TTYPE4  = 'GROSS   '           / label for field   4                            \n",
       "TFORM4  = '1024E   '           / data format of field: 4-byte REAL              \n",
       "TUNIT4  = 'Counts/s'           / physical unit of field                         \n",
       "TTYPE5  = 'BACKGROUND'         / label for field   5                            \n",
       "TFORM5  = '1024E   '           / data format of field: 4-byte REAL              \n",
       "TUNIT5  = 'Counts/s'           / physical unit of field                         \n",
       "TTYPE6  = 'NET     '           / label for field   6                            \n",
       "TFORM6  = '1024E   '           / data format of field: 4-byte REAL              \n",
       "TUNIT6  = 'Counts/s'           / physical unit of field                         \n",
       "TTYPE7  = 'FLUX    '           / label for field   7                            \n",
       "TFORM7  = '1024E   '           / data format of field: 4-byte REAL              \n",
       "TUNIT7  = 'erg/s/cm**2/Angstrom' / physical unit of field                       \n",
       "TTYPE8  = 'ERROR   '           / label for field   8                            \n",
       "TFORM8  = '1024E   '           / data format of field: 4-byte REAL              \n",
       "TUNIT8  = 'erg/s/cm**2/Angstrom' / physical unit of field                       \n",
       "TTYPE9  = 'NET_ERROR'          / label for field   9                            \n",
       "TFORM9  = '1024E   '           / data format of field: 4-byte REAL              \n",
       "TUNIT9  = 'Counts/s'           / physical unit of field                         \n",
       "TTYPE10 = 'DQ      '           / label for field  10                            \n",
       "TFORM10 = '1024I   '           / data format of field: 2-byte INTEGER           \n",
       "TTYPE11 = 'A2CENTER'           / label for field  11                            \n",
       "TFORM11 = '1E      '           / data format of field: 4-byte REAL              \n",
       "TUNIT11 = 'pixel   '           / physical unit of field                         \n",
       "TTYPE12 = 'EXTRSIZE'           / label for field  12                            \n",
       "TFORM12 = '1E      '           / data format of field: 4-byte REAL              \n",
       "TUNIT12 = 'pixel   '           / physical unit of field                         \n",
       "TTYPE13 = 'MAXSRCH '           / label for field  13                            \n",
       "TFORM13 = '1I      '           / data format of field: 2-byte INTEGER           \n",
       "TUNIT13 = 'pixel   '           / physical unit of field                         \n",
       "TTYPE14 = 'BK1SIZE '           / label for field  14                            \n",
       "TFORM14 = '1E      '           / data format of field: 4-byte REAL              \n",
       "TUNIT14 = 'pixel   '           / physical unit of field                         \n",
       "TTYPE15 = 'BK2SIZE '           / label for field  15                            \n",
       "TFORM15 = '1E      '           / data format of field: 4-byte REAL              \n",
       "TUNIT15 = 'pixel   '           / physical unit of field                         \n",
       "TTYPE16 = 'BK1OFFST'           / label for field  16                            \n",
       "TFORM16 = '1E      '           / data format of field: 4-byte REAL              \n",
       "TUNIT16 = 'pixel   '           / physical unit of field                         \n",
       "TTYPE17 = 'BK2OFFST'           / label for field  17                            \n",
       "TFORM17 = '1E      '           / data format of field: 4-byte REAL              \n",
       "TUNIT17 = 'pixel   '           / physical unit of field                         \n",
       "TTYPE18 = 'EXTRLOCY'           / label for field  18                            \n",
       "TFORM18 = '1024E   '           / data format of field: 4-byte REAL              \n",
       "TUNIT18 = 'pixel   '           / physical unit of field                         \n",
       "TTYPE19 = 'OFFSET  '           / label for field  19                            \n",
       "TFORM19 = '1E      '           / data format of field: 4-byte REAL              \n",
       "TUNIT19 = 'pixel   '           / physical unit of field                         \n",
       "TDISP1  = 'I11     '           / display format for column                      \n",
       "TNULL1  =               -32767 / undefined value for column                     \n",
       "TDISP2  = 'I11     '           / display format for column                      \n",
       "TNULL2  =               -32767 / undefined value for column                     \n",
       "TDISP3  = 'G25.16  '           / display format for column                      \n",
       "TDISP4  = 'G15.7   '           / display format for column                      \n",
       "TDISP5  = 'G15.7   '           / display format for column                      \n",
       "TDISP6  = 'G15.7   '           / display format for column                      \n",
       "TDISP7  = 'G15.7   '           / display format for column                      \n",
       "TDISP8  = 'G15.7   '           / display format for column                      \n",
       "TDISP9  = 'G15.7   '           / display format for column                      \n",
       "TDISP10 = 'I11     '           / display format for column                      \n",
       "TNULL10 =               -32767 / undefined value for column                     \n",
       "TDISP11 = 'G15.7   '           / display format for column                      \n",
       "TDISP12 = 'G15.7   '           / display format for column                      \n",
       "TDISP13 = 'I11     '           / display format for column                      \n",
       "TNULL13 =               -32767 / undefined value for column                     \n",
       "TDISP14 = 'G15.7   '           / display format for column                      \n",
       "TDISP15 = 'G15.7   '           / display format for column                      \n",
       "TDISP16 = 'G15.7   '           / display format for column                      \n",
       "TDISP17 = 'G15.7   '           / display format for column                      \n",
       "TDISP18 = 'G15.7   '           / display format for column                      \n",
       "TDISP19 = 'G15.7   '           / display format for column                      \n",
       "INHERIT =                    T / inherit the primary header                     \n",
       "EXTNAME = 'SCI     '           / extension name                                 \n",
       "EXTVER  =                    1 / extension version number                       \n",
       "ROOTNAME= 'oco703010'          / rootname of the observation set                \n",
       "EXPNAME = 'oco703jvq'          / exposure identifier                            \n",
       "ASN_MTYP= 'SCIENCE '           / Role of the Member in the Association          \n",
       "WCSAXES =                    2 / number of World Coordinate System axes         \n",
       "LTV1    =                   0. / offset in X to subsection start                \n",
       "LTV2    =                   0. / offset in Y to subsection start                \n",
       "LTM1_1  =                   1. / reciprocal of sampling rate in X               \n",
       "LTM2_2  =                   1. / reciprocal of sampling rate in Y               \n",
       "RA_APER =       219.4511833333 / RA of aperture reference position              \n",
       "DEC_APER=      -1.786327777778 / Declination of aperture reference position     \n",
       "PA_APER =       92.95596256104 / Position Angle of reference aperture center (de\n",
       "DISPAXIS=                    1 / dispersion axis; 1 = axis 1, 2 = axis 2, none  \n",
       "SHIFTA1 =      -8.229612607829 / Spectrum shift in AXIS1 calculated from WAVECAL\n",
       "SHIFTA2 =      -9.905176850965 / Spectrum shift in AXIS2 calculated from WAVECAL\n",
       "ORIENTAT=              92.9001 / position angle of image y axis (deg. e of n)   \n",
       "SUNANGLE=           144.314178 / angle between sun and V1 axis                  \n",
       "MOONANGL=            28.479063 / angle between moon and V1 axis                 \n",
       "SUN_ALT =             -7.25452 / altitude of the sun above Earth's limb         \n",
       "FGSLOCK = 'FINE    '           / commanded FGS lock (FINE,COARSE,GYROS,UNKNOWN) \n",
       "GYROMODE= 'T       '           / number of gyros scheduled, T=3+OBAD            \n",
       "REFFRAME= 'ICRS    '           / guide star catalog version                     \n",
       "DATE-OBS= '2015-06-02'         / UT date of start of observation (yyyy-mm-dd)   \n",
       "TIME-OBS= '04:24:24'           / UT time of start of observation (hh:mm:ss)     \n",
       "EXPSTART=       57175.18361172 / exposure start time (Modified Julian Date)     \n",
       "EXPEND  =        57175.2091557 / exposure end time (Modified Julian Date)       \n",
       "EXPTIME =                2207. / exposure duration (seconds)--calculated        \n",
       "EXPFLAG = 'NORMAL  '           / Exposure interruption indicator                \n",
       "QUALCOM1= '        '                                                            \n",
       "QUALCOM2= '        '                                                            \n",
       "QUALCOM3= '        '                                                            \n",
       "QUALITY = '        '                                                            \n",
       "V_HELIO =     15.5888537539895 / heliocentric radial velocity (km/s)            \n",
       "PATTSTEP=                    0 / position number of this point in the pattern   \n",
       "NCOMBINE=                    1 / number of image sets combined during CR rejecti\n",
       "FILLCNT =                    0 / number of segments containing fill             \n",
       "ERRCNT  =                    0 / number of segments containing errors           \n",
       "PODPSFF =                    F / podps fill present (T/F)                       \n",
       "STDCFFF =                    F / science telemetry fill data present (T=1/F=0)  \n",
       "STDCFFP = '0x5569  '           / science telemetry fill pattern (hex)           \n",
       "OSWABSP =              1236385 / Slit Wheel Absolute position                   \n",
       "OMSCYL1P=                  336 / Mode select cylinder 1 position                \n",
       "OMSCYL3P=                 5488 / Mode select cylinder 3 position                \n",
       "OMSCYL4P=                   10 / Mode select cylinder 4 position                \n",
       "GLOBRATE=        1435.15178976 / global count rate                              \n",
       "GLOBLIM = 'NOT-EXCEEDED'       / was global linearity level exceeded?           \n",
       "OM1CAT  =              35.0307 / (dgC) M1 charge amplifier temp                 \n",
       "OM2CAT  =              35.5191 / (dgC) M2 charge amplifier temp                 \n",
       "DOPPON  =                    T / on-board doppler correction enabled            \n",
       "DOPPZERO=       57175.12457056 / Doppler shift zero phase time (MJD)            \n",
       "DOPPMAG =                    3 / Doppler shift magnitude (hi-res pixels)        \n",
       "DOPPER  =                5728. / Doppler shift period (seconds)                 \n",
       "ORBITPER=                5728. / Orbital Period used on board for Doppler corr. \n",
       "NGOODPIX=              1014817 / number of good pixels                          \n",
       "SDQFLAGS=                31743 / serious data quality flags                     \n",
       "GOODMIN =           -4.3752203 / minimum value of good pixels                   \n",
       "GOODMAX =             25.74147 / maximum value of good pixels                   \n",
       "GOODMEAN=           0.26268351 / mean value of good pixels                      \n",
       "SNRMIN  =           -74.158531 / minimum signal to noise of good pixels         \n",
       "SNRMAX  =            4.7825651 / maximum signal to noise of good pixels         \n",
       "SNRMEAN =           -3.5596588 / mean value of signal to noise of good pixels   \n",
       "SOFTERRS=                    0 / number of soft error pixels (DQF=1)            \n",
       "MEANDARK=            2.6905739 / average of the dark values subtracted          \n",
       "SPORDER =                    1 / Spectral order                                 \n",
       "DIFF2PT =                   1. / Diffuse to point source conversion factor      \n",
       "CONT2EML=                   0. / Intensity conversion: continuum -> emission    \n",
       "SCALE_A1=                   0. / Size of one pixel (arcsec) along dispersion axi\n",
       "OMEGAPIX=                   0. / Solid angle (arcsec**2) subtended by one pixel \n",
       "CRSCROFF=    0.405992707387378 / offset from 1-D extraction cross-corr.         \n",
       "BLZSHIFT=     3.73837678062597 / average blaze shift (pixels)                   "
      ]
     },
     "execution_count": 5,
     "metadata": {},
     "output_type": "execute_result"
    }
   ],
   "source": [
    "spec_data[1].header"
   ]
  },
  {
   "cell_type": "code",
   "execution_count": 6,
   "metadata": {},
   "outputs": [],
   "source": [
    "n_orders = spec_data[1].data.shape[0]\n",
    "n_pixels = spec_data[1].data[0][2].shape[0]"
   ]
  },
  {
   "cell_type": "code",
   "execution_count": 7,
   "metadata": {},
   "outputs": [],
   "source": [
    "spec_orders = np.zeros((n_orders, n_pixels, 3))"
   ]
  },
  {
   "cell_type": "code",
   "execution_count": 8,
   "metadata": {},
   "outputs": [],
   "source": [
    "for i in range(n_orders):\n",
    "    spec_orders[i,:,0] = spec_data[1].data[n_orders-i-1][2]\n",
    "    spec_orders[i,:,1] = spec_data[1].data[n_orders-i-1][6]\n",
    "    spec_orders[i,:,2] = spec_data[1].data[n_orders-i-1][7]"
   ]
  },
  {
   "cell_type": "code",
   "execution_count": 9,
   "metadata": {},
   "outputs": [],
   "source": [
    "stitch_indices = np.zeros(n_orders-1, dtype=int)"
   ]
  },
  {
   "cell_type": "code",
   "execution_count": 10,
   "metadata": {},
   "outputs": [],
   "source": [
    "for i in range(n_orders-1):\n",
    "\n",
    "    wav_order_1 = spec_orders[i,:,0]\n",
    "    wav_order_2 = spec_orders[i+1,:,0]\n",
    "\n",
    "    del_wav_arr = wav_order_1-wav_order_2[0]\n",
    "\n",
    "    idx = list(del_wav_arr).index(max(del_wav_arr[del_wav_arr<0]))\n",
    "\n",
    "    stitch_indices[i] = idx\n",
    "\n",
    "    n_rem_order_1 = len(wav_order_1[idx:])\n",
    "\n",
    "    wav_order_2[0:n_rem_order_1] = wav_order_1[idx:].copy()\n",
    "\n",
    "    spec_orders[i+1,:,0] = wav_order_2.copy()"
   ]
  },
  {
   "cell_type": "code",
   "execution_count": 11,
   "metadata": {},
   "outputs": [],
   "source": [
    "wav_dict = {}"
   ]
  },
  {
   "cell_type": "code",
   "execution_count": 12,
   "metadata": {},
   "outputs": [],
   "source": [
    "for i in range(n_orders-1):\n",
    "    for j in range(stitch_indices[i]):\n",
    "        wav_dict[spec_orders[i][j][0]] = []\n",
    "        \n",
    "\n",
    "for w in spec_orders[-1,:,0]:\n",
    "    wav_dict[w] = []"
   ]
  },
  {
   "cell_type": "code",
   "execution_count": 13,
   "metadata": {},
   "outputs": [],
   "source": [
    "wav_stitch = np.array(list(wav_dict.keys()))\n",
    "flux_stitch = np.zeros(len(wav_stitch))\n",
    "err_stitch = np.zeros(len(wav_stitch))"
   ]
  },
  {
   "cell_type": "code",
   "execution_count": 14,
   "metadata": {},
   "outputs": [
    {
     "data": {
      "text/plain": [
       "array([1984.53576852, 1984.56847971, 1984.60119076, ..., 2781.82091985,\n",
       "       2781.86559307, 2781.91026606])"
      ]
     },
     "execution_count": 14,
     "metadata": {},
     "output_type": "execute_result"
    }
   ],
   "source": [
    "wav_stitch"
   ]
  },
  {
   "cell_type": "code",
   "execution_count": 15,
   "metadata": {},
   "outputs": [],
   "source": [
    "for i in range(n_orders):\n",
    "    for j in range(n_pixels):\n",
    "        wav_dict[spec_orders[i][j][0]].append([spec_orders[i][j][1],spec_orders[i][j][2]])"
   ]
  },
  {
   "cell_type": "code",
   "execution_count": 16,
   "metadata": {},
   "outputs": [],
   "source": [
    "trim = False"
   ]
  },
  {
   "cell_type": "code",
   "execution_count": 17,
   "metadata": {},
   "outputs": [],
   "source": [
    "for i in range(len(wav_dict)):\n",
    "    \n",
    "    wav = wav_stitch[i]\n",
    "    \n",
    "    flux_arr = wav_dict[wav]\n",
    "    \n",
    "    if(len(flux_arr) == 2):\n",
    "        \n",
    "        \n",
    "        flux_stitch[i] = 0\n",
    "        err_stitch[i] = 0\n",
    "        \n",
    "        if(trim == True):\n",
    "        \n",
    "            if(flux_arr[0][1] < flux_arr[1][1]):\n",
    "            \n",
    "                flux_stitch[i] = flux_arr[0][0]\n",
    "                err_stitch[i] = flux_arr[0][1]\n",
    "            \n",
    "            else:\n",
    "            \n",
    "                flux_stitch[i] = flux_arr[1][0]\n",
    "                err_stitch[i] = flux_arr[1][1]\n",
    "                \n",
    "        else:\n",
    "            \n",
    "            F1 = flux_arr[0][0]\n",
    "            F2 = flux_arr[1][0]\n",
    "            \n",
    "            s1 = flux_arr[0][1]\n",
    "            s2 = flux_arr[1][1]\n",
    "            \n",
    "            w1 = s2**2*(2*F2-F1)/(s1**2*F2 + 4*s2**2*F2 - 3*s2**2*F1)\n",
    "            w2 = 1-w1\n",
    "\n",
    "            flux_stitch[i] = w1*F1 + w2*F2\n",
    "            err_stitch[i] = np.sqrt(w1**2*F1**2 + w2**2*F2**2)\n",
    "\n",
    "    else:\n",
    "        flux_stitch[i] = flux_arr[0][0]\n",
    "        err_stitch[i] = flux_arr[0][1]  "
   ]
  },
  {
   "cell_type": "code",
   "execution_count": 18,
   "metadata": {},
   "outputs": [
    {
     "data": {
      "text/plain": [
       "[<matplotlib.lines.Line2D at 0x7fd92a311880>]"
      ]
     },
     "execution_count": 18,
     "metadata": {},
     "output_type": "execute_result"
    },
    {
     "data": {
      "image/png": "[encoded data removed]",
      "text/plain": [
       "<Figure size 432x288 with 1 Axes>"
      ]
     },
     "metadata": {
      "needs_background": "light"
     },
     "output_type": "display_data"
    }
   ],
   "source": [
    "plt.plot(wav_stitch, flux_stitch)"
   ]
  },
  {
   "cell_type": "code",
   "execution_count": 19,
   "metadata": {},
   "outputs": [
    {
     "data": {
      "text/plain": [
       "[<matplotlib.lines.Line2D at 0x7fd92a595be0>]"
      ]
     },
     "execution_count": 19,
     "metadata": {},
     "output_type": "execute_result"
    },
    {
     "data": {
      "image/png": "[encoded data removed]",
      "text/plain": [
       "<Figure size 432x288 with 1 Axes>"
      ]
     },
     "metadata": {
      "needs_background": "light"
     },
     "output_type": "display_data"
    }
   ],
   "source": [
    "plt.plot(wav_stitch, err_stitch)"
   ]
  },
  {
   "cell_type": "code",
   "execution_count": null,
   "metadata": {},
   "outputs": [],
   "source": []
  }
 ],
 "metadata": {
  "kernelspec": {
   "display_name": "Python 3",
   "language": "python",
   "name": "python3"
  },
  "language_info": {
   "codemirror_mode": {
    "name": "ipython",
    "version": 3
   },
   "file_extension": ".py",
   "mimetype": "text/x-python",
   "name": "python",
   "nbconvert_exporter": "python",
   "pygments_lexer": "ipython3",
   "version": "3.8.5"
  }
 },
 "nbformat": 4,
 "nbformat_minor": 4
}
