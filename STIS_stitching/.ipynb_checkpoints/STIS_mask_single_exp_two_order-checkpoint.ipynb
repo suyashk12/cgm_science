{
 "cells": [
  {
   "cell_type": "code",
   "execution_count": 1,
   "metadata": {},
   "outputs": [],
   "source": [
    "from astropy.io import fits\n",
    "import numpy as np\n",
    "import pandas as pd\n",
    "import matplotlib.pyplot as plt"
   ]
  },
  {
   "cell_type": "code",
   "execution_count": 2,
   "metadata": {},
   "outputs": [],
   "source": [
    "rootdir = 'LBQS1435-0134/STIS/'"
   ]
  },
  {
   "cell_type": "code",
   "execution_count": 3,
   "metadata": {},
   "outputs": [],
   "source": [
    "fname = rootdir + 'oco703010_x1d.fits'\n",
    "spec_data = fits.open(fname)"
   ]
  },
  {
   "cell_type": "code",
   "execution_count": 4,
   "metadata": {},
   "outputs": [
    {
     "name": "stdout",
     "output_type": "stream",
     "text": [
      "Filename: LBQS1435-0134/STIS/oco703010_x1d.fits\n",
      "No.    Name      Ver    Type      Cards   Dimensions   Format\n",
      "  0  PRIMARY       1 PrimaryHDU     300   ()      \n",
      "  1  SCI           1 BinTableHDU    157   29R x 19C   [1I, 1I, 1024D, 1024E, 1024E, 1024E, 1024E, 1024E, 1024E, 1024I, 1E, 1E, 1I, 1E, 1E, 1E, 1E, 1024E, 1E]   \n"
     ]
    }
   ],
   "source": [
    "spec_data.info()"
   ]
  },
  {
   "cell_type": "code",
   "execution_count": 5,
   "metadata": {
    "scrolled": true
   },
   "outputs": [
    {
     "data": {
      "text/plain": [
       "XTENSION= 'BINTABLE'           / binary table extension                         \n",
       "BITPIX  =                    8 / 8-bit bytes                                    \n",
       "NAXIS   =                    2 / 2-dimensional binary table                     \n",
       "NAXIS1  =                38946 / width of table in bytes                        \n",
       "NAXIS2  =                   29 / number of rows in table                        \n",
       "PCOUNT  =                    0 / size of special data area                      \n",
       "GCOUNT  =                    1 / one data group (required keyword)              \n",
       "TFIELDS =                   19 / number of fields in each row                   \n",
       "TTYPE1  = 'SPORDER '           / label for field   1                            \n",
       "TFORM1  = '1I      '           / data format of field: 2-byte INTEGER           \n",
       "TTYPE2  = 'NELEM   '           / label for field   2                            \n",
       "TFORM2  = '1I      '           / data format of field: 2-byte INTEGER           \n",
       "TTYPE3  = 'WAVELENGTH'         / label for field   3                            \n",
       "TFORM3  = '1024D   '           / data format of field: 8-byte DOUBLE            \n",
       "TUNIT3  = 'Angstroms'          / physical unit of field                         \n",
       "TTYPE4  = 'GROSS   '           / label for field   4                            \n",
       "TFORM4  = '1024E   '           / data format of field: 4-byte REAL              \n",
       "TUNIT4  = 'Counts/s'           / physical unit of field                         \n",
       "TTYPE5  = 'BACKGROUND'         / label for field   5                            \n",
       "TFORM5  = '1024E   '           / data format of field: 4-byte REAL              \n",
       "TUNIT5  = 'Counts/s'           / physical unit of field                         \n",
       "TTYPE6  = 'NET     '           / label for field   6                            \n",
       "TFORM6  = '1024E   '           / data format of field: 4-byte REAL              \n",
       "TUNIT6  = 'Counts/s'           / physical unit of field                         \n",
       "TTYPE7  = 'FLUX    '           / label for field   7                            \n",
       "TFORM7  = '1024E   '           / data format of field: 4-byte REAL              \n",
       "TUNIT7  = 'erg/s/cm**2/Angstrom' / physical unit of field                       \n",
       "TTYPE8  = 'ERROR   '           / label for field   8                            \n",
       "TFORM8  = '1024E   '           / data format of field: 4-byte REAL              \n",
       "TUNIT8  = 'erg/s/cm**2/Angstrom' / physical unit of field                       \n",
       "TTYPE9  = 'NET_ERROR'          / label for field   9                            \n",
       "TFORM9  = '1024E   '           / data format of field: 4-byte REAL              \n",
       "TUNIT9  = 'Counts/s'           / physical unit of field                         \n",
       "TTYPE10 = 'DQ      '           / label for field  10                            \n",
       "TFORM10 = '1024I   '           / data format of field: 2-byte INTEGER           \n",
       "TTYPE11 = 'A2CENTER'           / label for field  11                            \n",
       "TFORM11 = '1E      '           / data format of field: 4-byte REAL              \n",
       "TUNIT11 = 'pixel   '           / physical unit of field                         \n",
       "TTYPE12 = 'EXTRSIZE'           / label for field  12                            \n",
       "TFORM12 = '1E      '           / data format of field: 4-byte REAL              \n",
       "TUNIT12 = 'pixel   '           / physical unit of field                         \n",
       "TTYPE13 = 'MAXSRCH '           / label for field  13                            \n",
       "TFORM13 = '1I      '           / data format of field: 2-byte INTEGER           \n",
       "TUNIT13 = 'pixel   '           / physical unit of field                         \n",
       "TTYPE14 = 'BK1SIZE '           / label for field  14                            \n",
       "TFORM14 = '1E      '           / data format of field: 4-byte REAL              \n",
       "TUNIT14 = 'pixel   '           / physical unit of field                         \n",
       "TTYPE15 = 'BK2SIZE '           / label for field  15                            \n",
       "TFORM15 = '1E      '           / data format of field: 4-byte REAL              \n",
       "TUNIT15 = 'pixel   '           / physical unit of field                         \n",
       "TTYPE16 = 'BK1OFFST'           / label for field  16                            \n",
       "TFORM16 = '1E      '           / data format of field: 4-byte REAL              \n",
       "TUNIT16 = 'pixel   '           / physical unit of field                         \n",
       "TTYPE17 = 'BK2OFFST'           / label for field  17                            \n",
       "TFORM17 = '1E      '           / data format of field: 4-byte REAL              \n",
       "TUNIT17 = 'pixel   '           / physical unit of field                         \n",
       "TTYPE18 = 'EXTRLOCY'           / label for field  18                            \n",
       "TFORM18 = '1024E   '           / data format of field: 4-byte REAL              \n",
       "TUNIT18 = 'pixel   '           / physical unit of field                         \n",
       "TTYPE19 = 'OFFSET  '           / label for field  19                            \n",
       "TFORM19 = '1E      '           / data format of field: 4-byte REAL              \n",
       "TUNIT19 = 'pixel   '           / physical unit of field                         \n",
       "TDISP1  = 'I11     '           / display format for column                      \n",
       "TNULL1  =               -32767 / undefined value for column                     \n",
       "TDISP2  = 'I11     '           / display format for column                      \n",
       "TNULL2  =               -32767 / undefined value for column                     \n",
       "TDISP3  = 'G25.16  '           / display format for column                      \n",
       "TDISP4  = 'G15.7   '           / display format for column                      \n",
       "TDISP5  = 'G15.7   '           / display format for column                      \n",
       "TDISP6  = 'G15.7   '           / display format for column                      \n",
       "TDISP7  = 'G15.7   '           / display format for column                      \n",
       "TDISP8  = 'G15.7   '           / display format for column                      \n",
       "TDISP9  = 'G15.7   '           / display format for column                      \n",
       "TDISP10 = 'I11     '           / display format for column                      \n",
       "TNULL10 =               -32767 / undefined value for column                     \n",
       "TDISP11 = 'G15.7   '           / display format for column                      \n",
       "TDISP12 = 'G15.7   '           / display format for column                      \n",
       "TDISP13 = 'I11     '           / display format for column                      \n",
       "TNULL13 =               -32767 / undefined value for column                     \n",
       "TDISP14 = 'G15.7   '           / display format for column                      \n",
       "TDISP15 = 'G15.7   '           / display format for column                      \n",
       "TDISP16 = 'G15.7   '           / display format for column                      \n",
       "TDISP17 = 'G15.7   '           / display format for column                      \n",
       "TDISP18 = 'G15.7   '           / display format for column                      \n",
       "TDISP19 = 'G15.7   '           / display format for column                      \n",
       "INHERIT =                    T / inherit the primary header                     \n",
       "EXTNAME = 'SCI     '           / extension name                                 \n",
       "EXTVER  =                    1 / extension version number                       \n",
       "ROOTNAME= 'oco703010'          / rootname of the observation set                \n",
       "EXPNAME = 'oco703jvq'          / exposure identifier                            \n",
       "ASN_MTYP= 'SCIENCE '           / Role of the Member in the Association          \n",
       "WCSAXES =                    2 / number of World Coordinate System axes         \n",
       "LTV1    =                   0. / offset in X to subsection start                \n",
       "LTV2    =                   0. / offset in Y to subsection start                \n",
       "LTM1_1  =                   1. / reciprocal of sampling rate in X               \n",
       "LTM2_2  =                   1. / reciprocal of sampling rate in Y               \n",
       "RA_APER =       219.4511833333 / RA of aperture reference position              \n",
       "DEC_APER=      -1.786327777778 / Declination of aperture reference position     \n",
       "PA_APER =       92.95596256104 / Position Angle of reference aperture center (de\n",
       "DISPAXIS=                    1 / dispersion axis; 1 = axis 1, 2 = axis 2, none  \n",
       "SHIFTA1 =      -8.229612607829 / Spectrum shift in AXIS1 calculated from WAVECAL\n",
       "SHIFTA2 =      -9.905176850965 / Spectrum shift in AXIS2 calculated from WAVECAL\n",
       "ORIENTAT=              92.9001 / position angle of image y axis (deg. e of n)   \n",
       "SUNANGLE=           144.314178 / angle between sun and V1 axis                  \n",
       "MOONANGL=            28.479063 / angle between moon and V1 axis                 \n",
       "SUN_ALT =             -7.25452 / altitude of the sun above Earth's limb         \n",
       "FGSLOCK = 'FINE    '           / commanded FGS lock (FINE,COARSE,GYROS,UNKNOWN) \n",
       "GYROMODE= 'T       '           / number of gyros scheduled, T=3+OBAD            \n",
       "REFFRAME= 'ICRS    '           / guide star catalog version                     \n",
       "DATE-OBS= '2015-06-02'         / UT date of start of observation (yyyy-mm-dd)   \n",
       "TIME-OBS= '04:24:24'           / UT time of start of observation (hh:mm:ss)     \n",
       "EXPSTART=       57175.18361172 / exposure start time (Modified Julian Date)     \n",
       "EXPEND  =        57175.2091557 / exposure end time (Modified Julian Date)       \n",
       "EXPTIME =                2207. / exposure duration (seconds)--calculated        \n",
       "EXPFLAG = 'NORMAL  '           / Exposure interruption indicator                \n",
       "QUALCOM1= '        '                                                            \n",
       "QUALCOM2= '        '                                                            \n",
       "QUALCOM3= '        '                                                            \n",
       "QUALITY = '        '                                                            \n",
       "V_HELIO =     15.5888537539895 / heliocentric radial velocity (km/s)            \n",
       "PATTSTEP=                    0 / position number of this point in the pattern   \n",
       "NCOMBINE=                    1 / number of image sets combined during CR rejecti\n",
       "FILLCNT =                    0 / number of segments containing fill             \n",
       "ERRCNT  =                    0 / number of segments containing errors           \n",
       "PODPSFF =                    F / podps fill present (T/F)                       \n",
       "STDCFFF =                    F / science telemetry fill data present (T=1/F=0)  \n",
       "STDCFFP = '0x5569  '           / science telemetry fill pattern (hex)           \n",
       "OSWABSP =              1236385 / Slit Wheel Absolute position                   \n",
       "OMSCYL1P=                  336 / Mode select cylinder 1 position                \n",
       "OMSCYL3P=                 5488 / Mode select cylinder 3 position                \n",
       "OMSCYL4P=                   10 / Mode select cylinder 4 position                \n",
       "GLOBRATE=        1435.15178976 / global count rate                              \n",
       "GLOBLIM = 'NOT-EXCEEDED'       / was global linearity level exceeded?           \n",
       "OM1CAT  =              35.0307 / (dgC) M1 charge amplifier temp                 \n",
       "OM2CAT  =              35.5191 / (dgC) M2 charge amplifier temp                 \n",
       "DOPPON  =                    T / on-board doppler correction enabled            \n",
       "DOPPZERO=       57175.12457056 / Doppler shift zero phase time (MJD)            \n",
       "DOPPMAG =                    3 / Doppler shift magnitude (hi-res pixels)        \n",
       "DOPPER  =                5728. / Doppler shift period (seconds)                 \n",
       "ORBITPER=                5728. / Orbital Period used on board for Doppler corr. \n",
       "NGOODPIX=              1014817 / number of good pixels                          \n",
       "SDQFLAGS=                31743 / serious data quality flags                     \n",
       "GOODMIN =           -4.3752203 / minimum value of good pixels                   \n",
       "GOODMAX =             25.74147 / maximum value of good pixels                   \n",
       "GOODMEAN=           0.26268351 / mean value of good pixels                      \n",
       "SNRMIN  =           -74.158531 / minimum signal to noise of good pixels         \n",
       "SNRMAX  =            4.7825651 / maximum signal to noise of good pixels         \n",
       "SNRMEAN =           -3.5596588 / mean value of signal to noise of good pixels   \n",
       "SOFTERRS=                    0 / number of soft error pixels (DQF=1)            \n",
       "MEANDARK=            2.6905739 / average of the dark values subtracted          \n",
       "SPORDER =                    1 / Spectral order                                 \n",
       "DIFF2PT =                   1. / Diffuse to point source conversion factor      \n",
       "CONT2EML=                   0. / Intensity conversion: continuum -> emission    \n",
       "SCALE_A1=                   0. / Size of one pixel (arcsec) along dispersion axi\n",
       "OMEGAPIX=                   0. / Solid angle (arcsec**2) subtended by one pixel \n",
       "CRSCROFF=    0.405992707387378 / offset from 1-D extraction cross-corr.         \n",
       "BLZSHIFT=     3.73837678062597 / average blaze shift (pixels)                   "
      ]
     },
     "execution_count": 5,
     "metadata": {},
     "output_type": "execute_result"
    }
   ],
   "source": [
    "spec_data[1].header"
   ]
  },
  {
   "cell_type": "code",
   "execution_count": 6,
   "metadata": {},
   "outputs": [
    {
     "name": "stderr",
     "output_type": "stream",
     "text": [
      "<ipython-input-6-d0981600cd0e>:1: VisibleDeprecationWarning: Creating an ndarray from ragged nested sequences (which is a list-or-tuple of lists-or-tuples-or ndarrays with different lengths or shapes) is deprecated. If you meant to do this, you must specify 'dtype=object' when creating the ndarray\n",
      "  spec_order_1 = np.array(spec_data[1].data[-1])\n",
      "<ipython-input-6-d0981600cd0e>:2: VisibleDeprecationWarning: Creating an ndarray from ragged nested sequences (which is a list-or-tuple of lists-or-tuples-or ndarrays with different lengths or shapes) is deprecated. If you meant to do this, you must specify 'dtype=object' when creating the ndarray\n",
      "  spec_order_2 = np.array(spec_data[1].data[-2])\n"
     ]
    }
   ],
   "source": [
    "spec_order_1 = np.array(spec_data[1].data[-1])\n",
    "spec_order_2 = np.array(spec_data[1].data[-2])"
   ]
  },
  {
   "cell_type": "code",
   "execution_count": 7,
   "metadata": {},
   "outputs": [],
   "source": [
    "spec_order_wav_1 = spec_order_1[2]\n",
    "spec_order_flux_1 = spec_order_1[6]\n",
    "spec_order_err_1 = spec_order_1[7]\n",
    "\n",
    "spec_order_wav_2 = spec_order_2[2]\n",
    "spec_order_flux_2 = spec_order_2[6]\n",
    "spec_order_err_2 = spec_order_2[7]"
   ]
  },
  {
   "cell_type": "code",
   "execution_count": 8,
   "metadata": {},
   "outputs": [],
   "source": [
    "del_wav_arr = spec_order_wav_1-spec_order_wav_2[0]"
   ]
  },
  {
   "cell_type": "code",
   "execution_count": 9,
   "metadata": {},
   "outputs": [],
   "source": [
    "idx = list(del_wav_arr).index(max(del_wav_arr[del_wav_arr<0]))"
   ]
  },
  {
   "cell_type": "code",
   "execution_count": 10,
   "metadata": {},
   "outputs": [],
   "source": [
    "spec_order_wav_2_shifted = spec_order_wav_2 + del_wav_arr[idx]"
   ]
  },
  {
   "cell_type": "code",
   "execution_count": 11,
   "metadata": {},
   "outputs": [],
   "source": [
    "spec_order_wav_2_shifted[0:len(spec_order_wav_1[idx:])] = spec_order_wav_1[idx:].copy()"
   ]
  },
  {
   "cell_type": "code",
   "execution_count": 12,
   "metadata": {},
   "outputs": [
    {
     "data": {
      "text/plain": [
       "(2004.1680681543126, 2024.0277343162888, 2004.1680681543126)"
      ]
     },
     "execution_count": 12,
     "metadata": {},
     "output_type": "execute_result"
    }
   ],
   "source": [
    "spec_order_wav_1[idx], spec_order_wav_2[idx], spec_order_wav_2_shifted[0]"
   ]
  },
  {
   "cell_type": "code",
   "execution_count": 13,
   "metadata": {},
   "outputs": [
    {
     "data": {
      "text/plain": [
       "(array([103., 103., 103., 102., 102., 102., 102., 102., 102., 102.]),\n",
       " array([0.03255808, 0.03257339, 0.0325887 , 0.03260401, 0.03261932,\n",
       "        0.03263464, 0.03264995, 0.03266526, 0.03268057, 0.03269588,\n",
       "        0.0327112 ]),\n",
       " <BarContainer object of 10 artists>)"
      ]
     },
     "execution_count": 13,
     "metadata": {},
     "output_type": "execute_result"
    },
    {
     "data": {
      "image/png": "[encoded data removed]",
      "text/plain": [
       "<Figure size 432x288 with 1 Axes>"
      ]
     },
     "metadata": {
      "needs_background": "light"
     },
     "output_type": "display_data"
    }
   ],
   "source": [
    "plt.hist(spec_order_wav_1[1:]-spec_order_wav_1[:-1])"
   ]
  },
  {
   "cell_type": "code",
   "execution_count": 14,
   "metadata": {},
   "outputs": [
    {
     "data": {
      "text/plain": [
       "array([2004.20005706, 2004.23309397, 2004.26613073, ..., 2037.85145676,\n",
       "       2037.88433857, 2037.91722023])"
      ]
     },
     "execution_count": 14,
     "metadata": {},
     "output_type": "execute_result"
    }
   ],
   "source": [
    "spec_order_wav_2"
   ]
  },
  {
   "cell_type": "code",
   "execution_count": 15,
   "metadata": {},
   "outputs": [
    {
     "data": {
      "text/plain": [
       "[<matplotlib.lines.Line2D at 0x7fd6f962ceb0>]"
      ]
     },
     "execution_count": 15,
     "metadata": {},
     "output_type": "execute_result"
    },
    {
     "data": {
      "image/png": "[encoded data removed]",
      "text/plain": [
       "<Figure size 432x288 with 1 Axes>"
      ]
     },
     "metadata": {
      "needs_background": "light"
     },
     "output_type": "display_data"
    }
   ],
   "source": [
    "plt.plot(spec_order_wav_1, spec_order_flux_1)\n",
    "plt.plot(spec_order_wav_2_shifted, spec_order_flux_2)"
   ]
  },
  {
   "cell_type": "code",
   "execution_count": 16,
   "metadata": {},
   "outputs": [
    {
     "data": {
      "text/plain": [
       "[<matplotlib.lines.Line2D at 0x7fd6f96bcbb0>]"
      ]
     },
     "execution_count": 16,
     "metadata": {},
     "output_type": "execute_result"
    },
    {
     "data": {
      "image/png": "[encoded data removed]",
      "text/plain": [
       "<Figure size 432x288 with 1 Axes>"
      ]
     },
     "metadata": {
      "needs_background": "light"
     },
     "output_type": "display_data"
    }
   ],
   "source": [
    "plt.plot(spec_order_wav_1, spec_order_err_1)\n",
    "plt.plot(spec_order_wav_2_shifted, spec_order_err_2)"
   ]
  },
  {
   "cell_type": "code",
   "execution_count": 17,
   "metadata": {},
   "outputs": [
    {
     "data": {
      "text/plain": [
       "[<matplotlib.lines.Line2D at 0x7fd6f97a85b0>]"
      ]
     },
     "execution_count": 17,
     "metadata": {},
     "output_type": "execute_result"
    },
    {
     "data": {
      "image/png": "[encoded data removed]",
      "text/plain": [
       "<Figure size 432x288 with 1 Axes>"
      ]
     },
     "metadata": {
      "needs_background": "light"
     },
     "output_type": "display_data"
    }
   ],
   "source": [
    "plt.plot(spec_order_wav_1, np.abs(spec_order_flux_1/spec_order_err_1))\n",
    "plt.plot(spec_order_wav_2_shifted, np.abs(spec_order_flux_2/spec_order_err_2))"
   ]
  },
  {
   "cell_type": "code",
   "execution_count": 18,
   "metadata": {},
   "outputs": [],
   "source": [
    "wav_dict = {}\n",
    "\n",
    "for i in range(idx):\n",
    "    wav_dict[spec_order_wav_1[i]] = []\n",
    "    \n",
    "for i in range(len(spec_order_wav_2_shifted)):\n",
    "    wav_dict[spec_order_wav_2_shifted[i]] = []"
   ]
  },
  {
   "cell_type": "code",
   "execution_count": 19,
   "metadata": {},
   "outputs": [],
   "source": [
    "for i in range(len(spec_order_wav_1)):\n",
    "    wav_dict[spec_order_wav_1[i]].append([np.abs(spec_order_flux_1[i]), \n",
    "                                          np.abs(spec_order_err_1[i])])\n",
    "    \n",
    "for i in range(len(spec_order_wav_2_shifted)):\n",
    "    wav_dict[spec_order_wav_2_shifted[i]].append([np.abs(spec_order_flux_2[i]), \n",
    "                                                  np.abs(spec_order_err_2[i])])"
   ]
  },
  {
   "cell_type": "code",
   "execution_count": 20,
   "metadata": {},
   "outputs": [],
   "source": [
    "wav_stitch = np.concatenate((spec_order_wav_1[:idx], spec_order_wav_2_shifted))"
   ]
  },
  {
   "cell_type": "code",
   "execution_count": 21,
   "metadata": {},
   "outputs": [],
   "source": [
    "flux_stitch = np.zeros(len(wav_stitch))\n",
    "err_stitch = np.zeros(len(wav_stitch))\n",
    "wt_stitch = np.zeros(len(wav_stitch))\n",
    "wt_stitch_alt = np.zeros(len(wav_stitch))\n",
    "flux_ratio_stitch = np.zeros(len(wav_stitch))\n",
    "err_ratio_stitch = np.zeros(len(wav_stitch))"
   ]
  },
  {
   "cell_type": "code",
   "execution_count": 22,
   "metadata": {},
   "outputs": [],
   "source": [
    "trim = False"
   ]
  },
  {
   "cell_type": "code",
   "execution_count": 23,
   "metadata": {},
   "outputs": [
    {
     "name": "stdout",
     "output_type": "stream",
     "text": [
      "0.5068765259939508\n",
      "0.9213137730815478\n",
      "0.9502898725879807\n",
      "0.8000463204363476\n",
      "0.7638523298213706\n",
      "0.9115975468685656\n",
      "0.9524794429545659\n",
      "0.08488947484793048\n",
      "0.9584679895191381\n",
      "0.8537683425255009\n",
      "0.969983397057912\n",
      "0.8523920671079755\n",
      "0.8444120275922954\n",
      "0.9976288264955263\n",
      "0.91245084881713\n",
      "0.6111161678755406\n",
      "0.91687922935732\n",
      "0.785958859950216\n",
      "0.9298241260895154\n",
      "0.21357272582870457\n",
      "0.9016450138520917\n",
      "0.5321971475487557\n",
      "0.9010628970559681\n",
      "0.7869431904207254\n",
      "0.9937981667209734\n",
      "0.8066502152296179\n",
      "0.8241886039016807\n",
      "0.7172464511302122\n",
      "0.9146813265411198\n",
      "0.8557647621147733\n",
      "0.8654459132658248\n",
      "0.7358796659204453\n",
      "0.8967112473011886\n",
      "0.7393157161361684\n",
      "0.6862162880001665\n",
      "0.34930845667078725\n",
      "0.5853760047375187\n",
      "0.6930836345954645\n",
      "0.0041972260440609815\n",
      "0.6328266973788358\n",
      "0.6655268069996938\n",
      "0.7950658073466484\n",
      "0.6975358762203603\n",
      "0.8752916680959131\n",
      "0.7891758887752321\n",
      "0.9388540140822784\n",
      "0.6185925447701023\n",
      "0.7716531498098869\n",
      "0.3866703855848168\n",
      "0.8251260462259183\n",
      "0.0016247951926850047\n",
      "0.8719571908406919\n",
      "0.855093059385137\n",
      "0.3774562084538208\n",
      "0.49237477862708473\n",
      "0.4873376715795561\n",
      "0.6379398657610552\n",
      "0.062334334004957796\n",
      "0.7684166376964348\n",
      "0.8469533119935209\n",
      "0.3810200003254381\n",
      "0.8876286256384761\n",
      "0.7995988810912198\n",
      "0.9631601828035181\n",
      "0.7801374018767131\n",
      "0.8642440337085829\n",
      "0.9870614365358601\n",
      "0.8300472545380807\n",
      "0.8675508153399495\n",
      "0.7731972440539697\n",
      "0.951099024711452\n",
      "0.8294251908988931\n",
      "0.654671720016796\n",
      "0.27047686305887714\n",
      "0.775007408144717\n",
      "0.54044626113317\n",
      "0.8983127021123756\n",
      "0.8025556844713395\n",
      "0.6225221500522802\n",
      "0.8463523192847775\n",
      "0.864276481834268\n",
      "0.6045920808604675\n",
      "0.5478757608134358\n",
      "0.9365849263531848\n",
      "0.8720351172093829\n",
      "0.547457729742386\n",
      "0.9695280664223849\n",
      "0.8675162842762583\n",
      "0.8942678495377406\n",
      "0.7864348347486605\n",
      "0.37905114374859866\n",
      "0.98065777444301\n",
      "0.7812241041894974\n",
      "0.390418595959741\n",
      "0.49309162098451637\n",
      "0.30425870978223096\n",
      "0.8736991586191848\n",
      "0.8313512876495538\n",
      "0.4227731226003237\n",
      "0.8547007883993925\n",
      "0.617576602970612\n",
      "0.0424359510180905\n",
      "0.10561780673018825\n",
      "0.7509930704570755\n",
      "0.4242472581562353\n",
      "0.8903152826210587\n",
      "0.1754315933332968\n",
      "0.28332205045468595\n",
      "0.2190718943061418\n",
      "0.38595443317249367\n",
      "0.345252202059808\n",
      "0.8162304182660687\n",
      "0.9902386423749688\n",
      "0.6745357259964466\n",
      "0.5127972640941412\n",
      "0.175352092896685\n",
      "0.5566338750994877\n",
      "0.3339114077659162\n",
      "0.693523623163812\n",
      "0.4049637969697879\n",
      "0.6400994708820632\n",
      "0.14891319030999037\n",
      "0.5768177832554031\n",
      "0.07169088126915119\n",
      "0.17840119224144851\n",
      "0.38931495567000146\n",
      "0.9097793154198465\n",
      "0.8834294619826782\n",
      "0.31443951182266744\n",
      "0.26574767664550497\n",
      "0.8373606269968403\n",
      "0.245077140258037\n",
      "0.24806629617594889\n",
      "0.30641302504659274\n",
      "0.36192970103627803\n",
      "0.7752201120824215\n",
      "0.4189253492855255\n",
      "0.2785503852347903\n",
      "0.3255445430578235\n",
      "0.7396439756627218\n",
      "0.6140965636434558\n",
      "0.43679796484245276\n",
      "0.40505330351532864\n",
      "0.47190342928536083\n",
      "0.4040330710353659\n",
      "0.22391777915356728\n",
      "0.13917363109146172\n",
      "0.9192679702018014\n",
      "0.9656127400023846\n",
      "0.49233859351677645\n",
      "0.3369911897792216\n",
      "0.49697819263112164\n",
      "0.3070171934091461\n",
      "0.2701275412067979\n",
      "0.3123678416547943\n",
      "0.6370201242766083\n",
      "0.21976829920366617\n",
      "0.6776404855699408\n",
      "0.563462472030861\n",
      "0.4757027474939058\n",
      "0.8547307106269122\n",
      "0.18772130470235085\n",
      "0.5115387462708745\n",
      "0.15730123647586286\n",
      "0.11680136701588327\n",
      "0.3065892694399019\n",
      "0.6187628168136824\n",
      "0.2001244487362194\n",
      "0.27816116437716604\n",
      "0.5900757254406147\n",
      "0.5352883425113764\n",
      "0.3331770808181613\n",
      "0.03244563316630026\n",
      "0.5941095569309518\n",
      "0.49238118604855385\n",
      "0.03627713043925867\n",
      "0.3166079902954268\n",
      "0.22334158572692037\n",
      "0.9144722105097237\n",
      "0.6162962799949111\n",
      "0.3472782323527594\n",
      "0.12319373498788595\n",
      "0.9715801063462461\n",
      "0.2339741333413974\n",
      "0.8062928599876891\n",
      "0.546847698608776\n",
      "0.2647145262193288\n",
      "0.47638324354169326\n",
      "0.5810937195300528\n",
      "0.20590977005194724\n",
      "0.23765710404800539\n",
      "0.4168632570590504\n",
      "0.691776110485833\n",
      "0.42597035673293987\n",
      "0.2941522567449378\n",
      "0.16547955103802353\n",
      "0.8211930959447659\n",
      "0.5732322519627016\n",
      "0.4822908637092567\n",
      "0.2522135604629064\n",
      "0.389368442058508\n",
      "0.7480503769260882\n",
      "0.22596656995976577\n",
      "0.43959546350865913\n",
      "0.6636263776508075\n",
      "0.41339059745114515\n",
      "0.203374230531952\n",
      "0.4108933261608492\n",
      "0.6087800782706494\n",
      "0.37985926240882184\n",
      "0.04393614400584497\n",
      "0.18512696949232643\n",
      "0.270825712915731\n",
      "0.6008968342747044\n",
      "0.22342139349228293\n",
      "0.04463721862312572\n",
      "0.017941258412487053\n",
      "0.3029350408264581\n",
      "0.02057541805561393\n",
      "0.30656637160675443\n",
      "0.29617580721026326\n",
      "0.31874681563167273\n",
      "0.028020833120243446\n",
      "0.30757910826139545\n",
      "0.16182157982652534\n",
      "0.3290339929426261\n",
      "0.35642028726536384\n",
      "0.14278616326126128\n",
      "0.16458811229707937\n",
      "0.1794697078142434\n",
      "0.9080547578726145\n",
      "0.35815353740698197\n",
      "0.03957620323245987\n",
      "0.15206922334056597\n",
      "0.10355862464899444\n",
      "0.42249580418473404\n",
      "0.6966046402894001\n",
      "0.7423939847306725\n",
      "0.36412875774606546\n",
      "0.16211338243832601\n",
      "0.963817327480338\n",
      "0.1887744249026678\n",
      "0.02135489520942\n",
      "0.3619810274023621\n",
      "0.2673068632211486\n",
      "0.4709957637166645\n",
      "0.07142496630783601\n",
      "0.8020189635547623\n",
      "0.03633468078022899\n",
      "0.19536287918031908\n",
      "0.29022648349838737\n",
      "0.13273738247334776\n",
      "0.010003062717110756\n",
      "0.04981700851347055\n",
      "0.1478519412061118\n",
      "0.22655399135278845\n",
      "0.12335011489624126\n",
      "0.24662057471143453\n",
      "0.07953455228857258\n",
      "0.08613559605139223\n",
      "0.5731284055163112\n",
      "0.25975772065976804\n",
      "0.45948378477477747\n",
      "0.3696834375823956\n",
      "0.003575701847275779\n",
      "0.48265960234608407\n",
      "0.21890726864203622\n",
      "0.8924271468255435\n",
      "0.3896473550714883\n",
      "0.1322787331946574\n",
      "0.13284529043050386\n",
      "0.24786045967078457\n",
      "0.2215167102608292\n",
      "0.07433426165303486\n",
      "0.11650955797320103\n",
      "0.20232806739065948\n",
      "0.2690368139311474\n",
      "0.48471669673983764\n",
      "0.04217045051925195\n",
      "0.060264762990453774\n",
      "0.23319919193336966\n",
      "0.4260107794153391\n",
      "0.658056238598091\n",
      "0.0040079558139517885\n",
      "0.6551502897676267\n",
      "0.380275918058092\n",
      "0.31976502453292327\n",
      "0.3577702148740123\n",
      "0.6360794997022976\n",
      "0.10438899138809436\n",
      "0.3398565720282918\n",
      "0.2406225804716414\n",
      "0.003640733399914007\n",
      "0.20665794319219175\n",
      "0.23547045113510998\n",
      "0.15890472789502239\n",
      "0.012254817681567337\n",
      "0.18799389867486935\n",
      "0.03109055646047348\n",
      "0.8903183140922596\n",
      "0.5468138147582507\n",
      "0.07844997167799857\n",
      "0.041148424800264684\n",
      "0.053046054595793805\n",
      "0.030322318077411644\n",
      "0.23500817139579377\n",
      "0.319768402708851\n",
      "0.1009143765899143\n",
      "0.04321428233396\n",
      "0.05030373414269567\n",
      "0.48778554738043617\n",
      "0.361435872588391\n",
      "0.5969840220235726\n",
      "0.6662109050322862\n",
      "0.0243507359444265\n",
      "0.6361660309618281\n",
      "0.11778236158266052\n",
      "0.3249070332008902\n",
      "0.514795133536093\n",
      "0.13876890624418137\n",
      "0.006266169050298567\n",
      "0.10180240689212586\n",
      "0.35539574824214887\n",
      "0.25654541095833544\n",
      "0.16388153066473787\n",
      "0.12401370682189138\n",
      "0.22094370663620788\n",
      "0.09992169942547069\n",
      "0.13398342328169632\n",
      "0.15950711314927535\n",
      "0.1903964261711472\n",
      "0.25631047996028666\n",
      "0.1967773613737212\n",
      "0.05078037952287336\n",
      "0.15762812984964253\n",
      "0.6443436338225595\n",
      "0.17746421675285343\n",
      "0.07871773802833194\n",
      "0.04331373851084586\n",
      "0.02872860408001861\n",
      "0.5398681052664924\n",
      "0.420906929292884\n",
      "0.12875659901466482\n",
      "0.21733435986954858\n",
      "0.34062973999447177\n",
      "0.18186796594886345\n",
      "0.1915864781104308\n",
      "0.22518704139708845\n",
      "0.16781684574957373\n",
      "0.8800655224085575\n",
      "0.020035299556155513\n",
      "0.18963752127546163\n",
      "0.48165349063600915\n",
      "0.4506613035990376\n",
      "0.11581048681348738\n",
      "0.04230170718661804\n",
      "0.019808163697677194\n",
      "0.11887545503750774\n",
      "0.13795042175514283\n",
      "0.5014039455647327\n",
      "0.18533888731249232\n",
      "0.08169624259050857\n",
      "0.20010198869399487\n",
      "0.8480206480829302\n",
      "0.07909171736098697\n",
      "0.01748429674208533\n",
      "0.06471228701811263\n",
      "0.13091898931907717\n",
      "0.24205549025375037\n",
      "0.3079303644333858\n",
      "0.19142570623149643\n",
      "0.5838602024752136\n",
      "0.11905121616637783\n",
      "0.28870188351893955\n",
      "0.027255566143714844\n",
      "0.023384620380689464\n",
      "0.238116726080457\n",
      "0.09481781259467822\n",
      "0.0021092922880962314\n",
      "0.000326661278131955\n",
      "0.15444598599875733\n",
      "0.34924404589952207\n",
      "0.24491355659652142\n",
      "0.2128204796878028\n",
      "0.0566159128531651\n",
      "0.055840682454257676\n",
      "0.13284623129109827\n",
      "0.852967152964338\n",
      "0.3457740268601847\n",
      "0.040893471576405244\n",
      "0.017904900879826473\n",
      "0.13717080630602307\n",
      "0.03050914385285277\n",
      "0.20054558711321482\n",
      "0.011533475865647205\n",
      "0.05274389781820495\n",
      "0.04434131661516506\n",
      "0.29004370743143143\n",
      "0.1587445325926311\n",
      "0.2140317325549519\n",
      "0.11191549419588379\n",
      "0.15734920606195635\n",
      "0.02118050124423731\n",
      "0.21792100097245365\n",
      "0.03203231103790234\n",
      "0.027682969965017054\n",
      "0.26149868287190847\n",
      "0.023000471690087513\n",
      "0.12211812132503515\n",
      "0.32395536626951804\n",
      "0.08540205835328084\n",
      "0.24919319387671565\n",
      "0.11015900867119906\n",
      "0.10622015987365971\n",
      "0.07038043974810458\n",
      "0.060199578939412315\n",
      "0.05503910809784621\n",
      "0.21171822282834904\n",
      "0.05945345011069282\n",
      "0.6423433503626612\n",
      "0.2038161458771125\n",
      "0.12649225999785918\n",
      "0.9813641808567806\n"
     ]
    }
   ],
   "source": [
    "for i in range(len(wav_dict)):\n",
    "    \n",
    "    wav = wav_stitch[i]\n",
    "    \n",
    "    flux_arr = wav_dict[wav]\n",
    "    \n",
    "    if(len(flux_arr) == 2):\n",
    "        \n",
    "        \n",
    "        flux_stitch[i] = 0\n",
    "        err_stitch[i] = 0\n",
    "        \n",
    "        if(trim == True):\n",
    "        \n",
    "            if(flux_arr[0][1] < flux_arr[1][1]):\n",
    "            \n",
    "                flux_stitch[i] = flux_arr[0][0]\n",
    "                err_stitch[i] = flux_arr[0][1]\n",
    "            \n",
    "            else:\n",
    "            \n",
    "                flux_stitch[i] = flux_arr[1][0]\n",
    "                err_stitch[i] = flux_arr[1][1]\n",
    "                \n",
    "        else:\n",
    "            \n",
    "            F1 = flux_arr[0][0]\n",
    "            F2 = flux_arr[1][0]\n",
    "            \n",
    "            s1 = flux_arr[0][1]\n",
    "            s2 = flux_arr[1][1]\n",
    "            \n",
    "            w1 = s2**2*F1/(s1**2*F2 + s2**2*F1)\n",
    "            print(w1)\n",
    "            w1_alt = s2**2/(s1**2+s2**2)\n",
    "            w2 = 1-w1\n",
    "\n",
    "            flux_stitch[i] = w1*F1 + w2*F2\n",
    "            err_stitch[i] = np.sqrt(w1**2*s1**2 + w2**2*s2**2)\n",
    "            flux_ratio_stitch[i] = F2/F1\n",
    "            err_ratio_stitch[i] = s2/s1\n",
    "            wt_stitch[i] = w1\n",
    "            wt_stitch_alt[i] = w1_alt\n",
    "    else:\n",
    "        flux_stitch[i] = flux_arr[0][0]\n",
    "        err_stitch[i] = flux_arr[0][1]  "
   ]
  },
  {
   "cell_type": "code",
   "execution_count": 24,
   "metadata": {},
   "outputs": [
    {
     "data": {
      "text/plain": [
       "<matplotlib.collections.PathCollection at 0x7fd6f99770d0>"
      ]
     },
     "execution_count": 24,
     "metadata": {},
     "output_type": "execute_result"
    },
    {
     "data": {
      "image/png": "[encoded data removed]",
      "text/plain": [
       "<Figure size 432x288 with 1 Axes>"
      ]
     },
     "metadata": {
      "needs_background": "light"
     },
     "output_type": "display_data"
    }
   ],
   "source": [
    "plt.scatter(spec_order_wav_1, spec_order_err_1)\n",
    "plt.scatter(spec_order_wav_2_shifted, spec_order_err_2)"
   ]
  },
  {
   "cell_type": "code",
   "execution_count": 25,
   "metadata": {},
   "outputs": [
    {
     "data": {
      "text/plain": [
       "[<matplotlib.lines.Line2D at 0x7fd6f9a2ea90>]"
      ]
     },
     "execution_count": 25,
     "metadata": {},
     "output_type": "execute_result"
    },
    {
     "data": {
      "image/png": "[encoded data removed]",
      "text/plain": [
       "<Figure size 432x288 with 1 Axes>"
      ]
     },
     "metadata": {
      "needs_background": "light"
     },
     "output_type": "display_data"
    }
   ],
   "source": [
    "plt.plot(spec_order_wav_1, np.abs(spec_order_flux_1/spec_order_err_1))\n",
    "plt.plot(spec_order_wav_2_shifted, np.abs(spec_order_flux_2/spec_order_err_2))"
   ]
  },
  {
   "cell_type": "code",
   "execution_count": 26,
   "metadata": {},
   "outputs": [
    {
     "data": {
      "text/plain": [
       "[<matplotlib.lines.Line2D at 0x7fd6f9b41c10>]"
      ]
     },
     "execution_count": 26,
     "metadata": {},
     "output_type": "execute_result"
    },
    {
     "data": {
      "image/png": "[encoded data removed]",
      "text/plain": [
       "<Figure size 432x288 with 1 Axes>"
      ]
     },
     "metadata": {
      "needs_background": "light"
     },
     "output_type": "display_data"
    }
   ],
   "source": [
    "plt.plot(wav_stitch, wt_stitch)\n",
    "plt.plot(wav_stitch, wt_stitch_alt)"
   ]
  },
  {
   "cell_type": "code",
   "execution_count": 33,
   "metadata": {},
   "outputs": [
    {
     "name": "stderr",
     "output_type": "stream",
     "text": [
      "<ipython-input-33-725e94f25586>:2: RuntimeWarning: divide by zero encountered in true_divide\n",
      "  plt.plot(wav_stitch, 1/err_ratio_stitch**2)\n"
     ]
    },
    {
     "data": {
      "text/plain": [
       "[<matplotlib.lines.Line2D at 0x7fd6fa42c280>]"
      ]
     },
     "execution_count": 33,
     "metadata": {},
     "output_type": "execute_result"
    },
    {
     "data": {
      "image/png": "[encoded data removed]",
      "text/plain": [
       "<Figure size 432x288 with 1 Axes>"
      ]
     },
     "metadata": {
      "needs_background": "light"
     },
     "output_type": "display_data"
    }
   ],
   "source": [
    "plt.plot(wav_stitch, flux_ratio_stitch)\n",
    "plt.plot(wav_stitch, 1/err_ratio_stitch**2)"
   ]
  },
  {
   "cell_type": "code",
   "execution_count": 28,
   "metadata": {},
   "outputs": [
    {
     "data": {
      "text/plain": [
       "[<matplotlib.lines.Line2D at 0x7fd6f9e066a0>]"
      ]
     },
     "execution_count": 28,
     "metadata": {},
     "output_type": "execute_result"
    },
    {
     "data": {
      "image/png": "[encoded data removed]",
      "text/plain": [
       "<Figure size 432x288 with 1 Axes>"
      ]
     },
     "metadata": {
      "needs_background": "light"
     },
     "output_type": "display_data"
    }
   ],
   "source": [
    "plt.plot(wav_stitch, flux_stitch/err_stitch)"
   ]
  },
  {
   "cell_type": "code",
   "execution_count": 29,
   "metadata": {},
   "outputs": [
    {
     "data": {
      "text/plain": [
       "[<matplotlib.lines.Line2D at 0x7fd6f9efa310>]"
      ]
     },
     "execution_count": 29,
     "metadata": {},
     "output_type": "execute_result"
    },
    {
     "data": {
      "image/png": "[encoded data removed]",
      "text/plain": [
       "<Figure size 432x288 with 1 Axes>"
      ]
     },
     "metadata": {
      "needs_background": "light"
     },
     "output_type": "display_data"
    }
   ],
   "source": [
    "plt.plot(wav_stitch, flux_stitch)"
   ]
  },
  {
   "cell_type": "code",
   "execution_count": 30,
   "metadata": {},
   "outputs": [
    {
     "data": {
      "text/plain": [
       "[<matplotlib.lines.Line2D at 0x7fd6f99ae6a0>]"
      ]
     },
     "execution_count": 30,
     "metadata": {},
     "output_type": "execute_result"
    },
    {
     "data": {
      "image/png": "[encoded data removed]",
      "text/plain": [
       "<Figure size 432x288 with 1 Axes>"
      ]
     },
     "metadata": {
      "needs_background": "light"
     },
     "output_type": "display_data"
    }
   ],
   "source": [
    "plt.plot(wav_stitch, err_stitch)"
   ]
  },
  {
   "cell_type": "code",
   "execution_count": null,
   "metadata": {},
   "outputs": [],
   "source": []
  }
 ],
 "metadata": {
  "kernelspec": {
   "display_name": "Python 3 (ipykernel)",
   "language": "python",
   "name": "python3"
  },
  "language_info": {
   "codemirror_mode": {
    "name": "ipython",
    "version": 3
   },
   "file_extension": ".py",
   "mimetype": "text/x-python",
   "name": "python",
   "nbconvert_exporter": "python",
   "pygments_lexer": "ipython3",
   "version": "3.9.13"
  }
 },
 "nbformat": 4,
 "nbformat_minor": 4
}
