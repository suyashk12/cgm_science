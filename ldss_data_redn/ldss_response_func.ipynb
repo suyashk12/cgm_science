{
 "cells": [
  {
   "cell_type": "code",
   "execution_count": 1,
   "id": "e9a9f47b",
   "metadata": {},
   "outputs": [],
   "source": [
    "import numpy as np\n",
    "import matplotlib.pyplot as plt\n",
    "import pandas as pd\n",
    "from astropy.io import fits"
   ]
  },
  {
   "cell_type": "code",
   "execution_count": 2,
   "id": "89de80ae",
   "metadata": {},
   "outputs": [],
   "source": [
    "plt.style.use('/Users/thepoetoftwilight/Documents/CUBS/Code/science.mplstyle')"
   ]
  },
  {
   "cell_type": "code",
   "execution_count": 3,
   "id": "9e0b561e",
   "metadata": {},
   "outputs": [],
   "source": [
    "loaddir = '/Users/thepoetoftwilight/Documents/CUBS/1D_Extractions_updated/'"
   ]
  },
  {
   "cell_type": "code",
   "execution_count": 4,
   "id": "cfd1deda",
   "metadata": {},
   "outputs": [],
   "source": [
    "ldss_resp_fits = fits.open(loaddir+'ldss3_center_reponse_crap.fits')"
   ]
  },
  {
   "cell_type": "code",
   "execution_count": 5,
   "id": "83516228",
   "metadata": {},
   "outputs": [
    {
     "name": "stdout",
     "output_type": "stream",
     "text": [
      "Filename: /Users/thepoetoftwilight/Documents/CUBS/1D_Extractions_updated/ldss3_center_reponse_crap.fits\n",
      "No.    Name      Ver    Type      Cards   Dimensions   Format\n",
      "  0  PRIMARY       1 PrimaryHDU     157   (3783, 2)   float64   \n"
     ]
    }
   ],
   "source": [
    "ldss_resp_fits.info()"
   ]
  },
  {
   "cell_type": "code",
   "execution_count": 6,
   "id": "1a680a4d",
   "metadata": {
    "scrolled": false
   },
   "outputs": [
    {
     "data": {
      "text/plain": [
       "SIMPLE  =                    T / conforms to FITS standard                      \n",
       "BITPIX  =                  -64 / array data type                                \n",
       "NAXIS   =                    2 / number of array dimensions                     \n",
       "NAXIS1  =                 3783                                                  \n",
       "NAXIS2  =                    2                                                  \n",
       "DATE    = '2018-07-13T00:35:51' / Date FITS file was generated                  \n",
       "IRAF-TLM= '2018-07-13T00:34:55' / Time of last modification                     \n",
       "OBJECT  = 'MACS1314'           / Name of the object observed                    \n",
       "BUNIT   = 'DU/PIXEL'                                                            \n",
       "ORIGIN  = 'macs13141/ccd0102c_cluster_36c1fo.fits'                              \n",
       "OBSERVER= 'N.Morrell'                  / observer name                          \n",
       "TELESCOP= 'Clay_Mag_2'                 / telescope                              \n",
       "SITENAME= 'LCO'                                                                 \n",
       "SITEALT =                 2405         / meters                                 \n",
       "SITELAT =            -29.01423                                                  \n",
       "SITELONG=            -70.69242                                                  \n",
       "TIMEZONE=                    4                                                  \n",
       "DATE-OBS= '2018-07-13'                 / UT date (start)                        \n",
       "TIME-OBS= '00:17:04.8'                 / UT time (start)                        \n",
       "UT-DATE = '2018-07-13'                 / UT date (start)                        \n",
       "UT-TIME = '00:17:04'                   / UT time (start) 1024 seconds           \n",
       "UT-END  = '00:32:05'                   / UT time (end) 1925 seconds             \n",
       "LC-TIME = '20:17:04'                   / local time (start) 73024 seconds       \n",
       "NIGHT   = '12Jul2018'                  / local night                            \n",
       "JD      =        2458312.51185         / Julian date (start)                    \n",
       "INSTRUME= 'LDSS3-C'                    / instrument name                        \n",
       "SCALE   =                0.188         / arcsec/pixel                           \n",
       "EGAIN   =                 0.15         / electrons/DU                           \n",
       "ENOISE  =                 4.57         / electrons/read                         \n",
       "NOPAMPS =                    2         / # of op-amps                           \n",
       "OPAMP   =                    1         / this op-amp                            \n",
       "CHOFFX  =              -96.256         / x-offset [arcsec]                      \n",
       "CHOFFY  =                0.000         / y-offset [arcsec]                      \n",
       "DISPAXIS=                    1                                                  \n",
       "DEWARORI= 'Normal'                     / dewar orientation                      \n",
       "RA      = ' 13:14:22.0'                / right ascension                        \n",
       "RA-D    =          198.5917083         / degrees                                \n",
       "DEC     = '-25:15:50.4'                / declination                            \n",
       "DEC-D   =          -25.2640000         / degrees                                \n",
       "EQUINOX =           2000.00000         / of above coordinates                   \n",
       "ASECS   =                  0.0         / arcseconds                             \n",
       "DSECS   =                  0.0         / arcseconds                             \n",
       "EPOCH   =           2018.52880         / epoch (start)                          \n",
       "AIRMASS =                1.088         / airmass (start)                        \n",
       "TEL-ELEV=                63.74         / telescope elevation                    \n",
       "ST      =              53859.8         / sidereal time: 14:57:39 (start)        \n",
       "HA      = '+01:43:17.8'                / hour angle (E<0)                       \n",
       "ROTANGLE=               117.55         / rotator offset angle                   \n",
       "ROTATORE=                12.94         / rotator encoder angle                  \n",
       "FILENAME= 'ccd0089c1'                                                           \n",
       "EXPTYPE = 'Object  '           / exposure type                                  \n",
       "EXPTIME =                5400.                                                  \n",
       "NLOOPS  =                    1         / # of loops per sequence                \n",
       "LOOP    =                    1         / # within this sequence                 \n",
       "BINNING = '1x1'                        / binning                                \n",
       "SPEED   = 'Slow'                       / readout speed                          \n",
       "GAIN    = 'Low'                        / readout gain                           \n",
       "NOVERSCN=                  128         / overscan pixels                        \n",
       "NBIASLNS=                  128         / bias lines                             \n",
       "BIASSEC = '[1025:1152,1:4096]'         / NOAO: bias section                     \n",
       "DATASEC = '[1:1024,1:4096]'            / NOAO: data section                     \n",
       "APERTURE= 'macs1314'                   / slit-mask                              \n",
       "FILTER  = 'Open'                       / filter                                 \n",
       "GRISM   = 'VPH-All'                    / grism                                  \n",
       "FOCUS   =                 5865         / LDSS3-focus                            \n",
       "COMMENT =                              / comment                                \n",
       "NSHUFFLE=                    0         / physical pixels                        \n",
       "NOD-RA  =                  0.0         / telscope nod [arcsec]                  \n",
       "NOD-DEC =                  0.0                                                  \n",
       "DWELTIME=                  0.0         / dwell time                             \n",
       "NCYCLES =                    0         / nod/shuffle cycles                     \n",
       "SUBRASTR= 'none'                       / full frame                             \n",
       "TEMPCCD =               -255.4         / CCD temperature [C]                    \n",
       "CCDSETP =               -100.2         / LakeShore setpoint [C]                 \n",
       "TEMPSTGE=               -100.1         / dewar stage [C]                        \n",
       "TEMPNECK=               -162.8         / dewar neck [C]                         \n",
       "HEATER  =                   26         / LakeShore heater [%]                   \n",
       "TEMPSL1 =                  0.0         / master control board [C]               \n",
       "TEMPSL3 =                 33.0         / clock board [C]                        \n",
       "TEMPSL5 =                 36.0         / video board [C]                        \n",
       "TEMPLDSS=                 17.7         / LDSS3 temperature [C]                  \n",
       "SOFTWARE= 'Version 2.6 (Mar  9 2018, 16:47:26)'                                 \n",
       "FITSVERS= '2.5'                        / FITS header version                    \n",
       "COMMENT                                                                         \n",
       "COMMENT                                                                         \n",
       "COMMENT                                                                         \n",
       "COMMENT                                                                         \n",
       "COMMENT                                                                         \n",
       "COMMENT                                                                         \n",
       "COMMENT                                                                         \n",
       "COMMENT                                                                         \n",
       "COMMENT                                                                         \n",
       "COMMENT                                                                         \n",
       "COMMENT                                                                         \n",
       "COMMENT                                                                         \n",
       "COMMENT                                                                         \n",
       "COMMENT                                                                         \n",
       "COMMENT                                                                         \n",
       "COMMENT                                                                         \n",
       "COMMENT                                                                         \n",
       "COMMENT                                                                         \n",
       "COMMENT                                                                         \n",
       "COMMENT                                                                         \n",
       "COMMENT                                                                         \n",
       "COMMENT                                                                         \n",
       "COMMENT                                                                         \n",
       "COMMENT                                                                         \n",
       "NSLITS  =                    1                                                  \n",
       "CSECT1A =                    1                                                  \n",
       "CSECT1B =                   61                                                  \n",
       "OBJPOS  =               31.428                                                  \n",
       "Y0XFMN  = '[1, 0, 2, 0, 2]'                                                     \n",
       "Y0XFMR  =  0.00842273477376887                                                  \n",
       "Y0XFM0  = '[-0.012820512820511498, -0.12081777560191251]'                       \n",
       "Y0XFM1  = '[-0.03416342202714141]'                                              \n",
       "XDCOR   =                    1                                                  \n",
       "YDCOR   =                    1                                                  \n",
       "Y-DIST  = 'ccd0089c_cluster_36c1-y-dist.fits'                                   \n",
       "X-RECT  = 'ccd0091c_cluster_36c1f-x-rect.fits'                                  \n",
       "X0XFMN  = '[1, 0, 5, 2, 2]'                                                     \n",
       "X0XFMR  =    0.125933766599032                                                  \n",
       "X0XFM0  = '[-5.266594661905877e-06, 9.728557320210076e-05]'                     \n",
       "X0XFM1  = '[9.980800866016463e-06, 1.8878641156473019e-06]'                     \n",
       "X0XFM2  = '[-4.990128503441395e-05, -6.505711311513215e-06]'                    \n",
       "X0XFM3  = '[-9.542579846568473e-07, 5.323723510777948e-06]'                     \n",
       "X0XFM4  = '[4.525775358431634e-06]'                                             \n",
       "W0XFMN  = '[1, 0, 4, 6, 0]'                                                     \n",
       "W0XFMR  =    0.129187025535011                                                  \n",
       "W0XFM0  = '[7130.777971729249, 3341.7867328971615]'                             \n",
       "W0XFM1  = '[51.943780590137195, -29.30723609036005]'                            \n",
       "W0XFM2  = '[5.202184819357825, -1.848559870151604]'                             \n",
       "W0XFM3  = '[0.5215935503402989]'                                                \n",
       "SKYIM   = 'ccd0089c_cluster_36c1fm.fits'                                        \n",
       "OBJOLD  =     44.3611835686319                                                  \n",
       "OBJLO   =     42.9284543247612                                                  \n",
       "OBJHI   =     47.9284543247612                                                  \n",
       "WAT0_001= 'system=world'                                                        \n",
       "WAT1_001= 'wtype=linear label=Wavelength units=Angstroms'                       \n",
       "WAT2_001= 'wtype=linear'                                                        \n",
       "CTYPE1  = 'linear  '                                                            \n",
       "CTYPE2  = 'linear  '                                                            \n",
       "DC-FLAG =                    0                                                  \n",
       "CRVAL1  =                3880.                                                  \n",
       "CDELT1  =                   2.                                                  \n",
       "CD1_1   =                   2.                                                  \n",
       "CRPIX1  =                   1.                                                  \n",
       "NCOMBINE=                    6                                                  \n",
       "ELAPTIME=                5400.                                                  \n",
       "EXTRPOS =    29.55540664411534 / 1D extracted position of spectrum, in pixels   \n",
       "APER    =                   10 / aperture size, diameter in pixels              \n",
       "ARRAY1  = 'SPECTRUM'           / units of counts                                \n",
       "ARRAY2  = 'NOISE   '           / units of counts                                \n",
       "ARRAY3  = 'SKY     '           / units of counts                                \n",
       "ARRAY4  = 'RAW FLATS'          / units of counts                                \n",
       "ARRAY5  = 'FLUXED SPECTRUM'    / units of counts                                \n",
       "ARRAY6  = 'FLUXED NOISE'       / units of counts                                \n",
       "FLTEXP  =               5400.0 / flat exposure time                             "
      ]
     },
     "execution_count": 6,
     "metadata": {},
     "output_type": "execute_result"
    }
   ],
   "source": [
    "ldss_resp_fits[0].header"
   ]
  },
  {
   "cell_type": "code",
   "execution_count": 7,
   "id": "d55c0c72",
   "metadata": {},
   "outputs": [],
   "source": [
    "y = ldss_resp_fits[0].data[0,:]\n",
    "x = ldss_resp_fits[0].data[1,:]"
   ]
  },
  {
   "cell_type": "code",
   "execution_count": 8,
   "id": "9683a59c",
   "metadata": {},
   "outputs": [
    {
     "data": {
      "text/plain": [
       "Text(0, 0.5, 'LDSS Sensitivity Function')"
      ]
     },
     "execution_count": 8,
     "metadata": {},
     "output_type": "execute_result"
    },
    {
     "data": {
      "image/png": "[encoded data removed]",
      "text/plain": [
       "<Figure size 500x400 with 1 Axes>"
      ]
     },
     "metadata": {},
     "output_type": "display_data"
    }
   ],
   "source": [
    "fig, ax = plt.subplots(1, figsize=(5,4))\n",
    "ax.plot(x, y)\n",
    "ax.set_yscale('log')\n",
    "ax.set_xlabel('Wavelength (Å)')\n",
    "ax.set_ylabel('LDSS Sensitivity Function')"
   ]
  },
  {
   "cell_type": "code",
   "execution_count": null,
   "id": "afac733a",
   "metadata": {},
   "outputs": [],
   "source": []
  }
 ],
 "metadata": {
  "kernelspec": {
   "display_name": "Python 3 (ipykernel)",
   "language": "python",
   "name": "python3"
  },
  "language_info": {
   "codemirror_mode": {
    "name": "ipython",
    "version": 3
   },
   "file_extension": ".py",
   "mimetype": "text/x-python",
   "name": "python",
   "nbconvert_exporter": "python",
   "pygments_lexer": "ipython3",
   "version": "3.9.13"
  }
 },
 "nbformat": 4,
 "nbformat_minor": 5
}
