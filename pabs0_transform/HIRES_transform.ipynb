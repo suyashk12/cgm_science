{
 "cells": [
  {
   "cell_type": "code",
   "execution_count": 1,
   "metadata": {},
   "outputs": [],
   "source": [
    "from astropy.io import fits\n",
    "import numpy as np\n",
    "import pandas as pd\n",
    "import matplotlib.pyplot as plt"
   ]
  },
  {
   "cell_type": "markdown",
   "metadata": {},
   "source": [
    "## LBQS1435-0134"
   ]
  },
  {
   "cell_type": "markdown",
   "metadata": {},
   "source": [
    "### Spectral reduction"
   ]
  },
  {
   "cell_type": "markdown",
   "metadata": {},
   "source": [
    "Load in HIRES data for LBQS1435-0134"
   ]
  },
  {
   "cell_type": "code",
   "execution_count": 2,
   "metadata": {},
   "outputs": [],
   "source": [
    "rootdir = '/Users/thepoetoftwilight/Documents/CUBS/Data/LBQS1435-0134/HIRES/'"
   ]
  },
  {
   "cell_type": "markdown",
   "metadata": {},
   "source": [
    "Load in the flux and error files"
   ]
  },
  {
   "cell_type": "code",
   "execution_count": 3,
   "metadata": {},
   "outputs": [],
   "source": [
    "flux_fits = fits.open(rootdir + 'LBQS1435-0134a_f.fits')\n",
    "err_fits = fits.open(rootdir + 'LBQS1435-0134a_e.fits')"
   ]
  },
  {
   "cell_type": "code",
   "execution_count": 4,
   "metadata": {},
   "outputs": [
    {
     "name": "stdout",
     "output_type": "stream",
     "text": [
      "Filename: /Users/thepoetoftwilight/Documents/CUBS/Data/LBQS1435-0134/HIRES/LBQS1435-0134a_f.fits\n",
      "No.    Name      Ver    Type      Cards   Dimensions   Format\n",
      "  0  PRIMARY       1 PrimaryHDU     402   (152635,)   float32   \n"
     ]
    }
   ],
   "source": [
    "flux_fits.info()"
   ]
  },
  {
   "cell_type": "code",
   "execution_count": 5,
   "metadata": {},
   "outputs": [
    {
     "name": "stdout",
     "output_type": "stream",
     "text": [
      "Filename: /Users/thepoetoftwilight/Documents/CUBS/Data/LBQS1435-0134/HIRES/LBQS1435-0134a_e.fits\n",
      "No.    Name      Ver    Type      Cards   Dimensions   Format\n",
      "  0  PRIMARY       1 PrimaryHDU     402   (152635,)   float32   \n"
     ]
    }
   ],
   "source": [
    "err_fits.info()"
   ]
  },
  {
   "cell_type": "markdown",
   "metadata": {},
   "source": [
    "Unpack information from either FITS files"
   ]
  },
  {
   "cell_type": "code",
   "execution_count": 6,
   "metadata": {
    "scrolled": false
   },
   "outputs": [
    {
     "data": {
      "text/plain": [
       "SIMPLE  =                    T / Written by IDL:  Fri Oct 18 02:28:54 2013      \n",
       "BITPIX  =                  -32 / Number of bits per data pixel                  \n",
       "NAXIS   =                    1 / Number of data axes                            \n",
       "NAXIS1  =               152635 /                                                \n",
       "DATE    = '2013-10-18'         / Creation UTC (CCCC-MM-DD) date of FITS header  \n",
       "COMMENT FITS (Flexible Image Transport System) format is defined in 'Astronomy  \n",
       "COMMENT and Astrophysics', volume 376, page 359; bibcode 2001A&A...376..359H    \n",
       "                                                                                \n",
       "                                                                                \n",
       "EXTEND  =                    T / FITS dataset may contain extensions            \n",
       "COMMENT   FITS (Flexible Image Transport System) format is defined in 'Astronomy\n",
       "COMMENT   and Astrophysics', volume 376, page 359; bibcode: 2001A&A...376..359H \n",
       "BSCALE  =                    1 / default scaling factor                         \n",
       "COMMENT BEGIN observation-specific keywords written by write_image              \n",
       "COMMENT BEGIN keywords that came from KTL via watch_ccd                         \n",
       "AUTOSHUT=                    T                                                  \n",
       "ERASECNT=                    1                                                  \n",
       "FLUSHMOD= 'fast    '                                                            \n",
       "ANTIBLM = 'off     '                                                            \n",
       "ABFREQ  =                   20                                                  \n",
       "NSUBINT =                    0                                                  \n",
       "ROWSHFT =                    0                                                  \n",
       "INSTRUME= 'HIRES: High Resolution Echelle Spectrometer'                         \n",
       "DETECTOR= 'HIRES Science Mosaic: #1(B):17-7-1 #2(G):17-7-6 #3(R):2-2-1'         \n",
       "UTC     = '14:44:44.33'                                                         \n",
       "DATE-OBS= '2012-04-12'                                                          \n",
       "TEMPDET =        -130.11216736                                                  \n",
       "TEMPDET1=        -130.09999084                                                  \n",
       "TEMPDET2=        -130.12001038                                                  \n",
       "TEMPDET3=        -130.11648560                                                  \n",
       "PWRBLOK1=           6.55000019                                                  \n",
       "PWRBLOK2=           3.42499995                                                  \n",
       "PWRBLOK3=           4.40000010                                                  \n",
       "TEMPSET =        -130.04882812                                                  \n",
       "UTBTEMP =          -8.50000000                                                  \n",
       "UTBTMPS =          -9.00000000                                                  \n",
       "UTB30VEN= 'enabled '                                                            \n",
       "UTB15VEN= 'enabled '                                                            \n",
       "UTBP30V =          34.50014114                                                  \n",
       "UTBM15V =         -15.89285755                                                  \n",
       "UTBP15V =          15.98214340                                                  \n",
       "UTBP5V  =           4.97449875                                                  \n",
       "DWRN2LV =          47.08737946                                                  \n",
       "RESN2LV =          84.78527832                                                  \n",
       "ERAMODE = 'B, G, R '                                                            \n",
       "VIDINBEG=                   63                                                  \n",
       "XDRAW   =                  804                                                  \n",
       "XDANGL  =           0.97899997                                                  \n",
       "XDPIX   =         238.79107666                                                  \n",
       "DEC     = '-01:47:04.7'                                                         \n",
       "EQUINOX = '2000.0  '                                                            \n",
       "FRAME   = 'FK5     '                                                            \n",
       "HA      = '+03:09:12.82'                                                        \n",
       "RA      = '14:37:47.89'                                                         \n",
       "ST      = '17:47:40.98'                                                         \n",
       "AZ      = '-109.49 '                                                            \n",
       "EL      = '38.83   '                                                            \n",
       "AIRMASS = '1.59    '                                                            \n",
       "PARANG  = '62.57   '                                                            \n",
       "DCSSTAT = 'running '                                                            \n",
       "DOMESTAT= 'tracking'                                                            \n",
       "MJD     = '56029.614416'                                                        \n",
       "ROTMODE = 'vertical angle'                                                      \n",
       "ROTDEST = '90.00   '                                                            \n",
       "ROTPOSN = '90.00   '                                                            \n",
       "TARGNAME= 'LBQS1435-0134'                                                       \n",
       "TELESCOP= 'Keck I  '                                                            \n",
       "TELFOCUS= '0.001   '                                                            \n",
       "DRA     = '0.000000'                                                            \n",
       "DDEC    = '0.0000000'                                                           \n",
       "DTRACK  = 'disabled'                                                            \n",
       "UTC-END = '14:59:45.49'                                                         \n",
       "DATE-END= '2012-04-12'                                                          \n",
       "ERASLINE=                    F                                                  \n",
       "FRAMENO =                 1075                                                  \n",
       "KEEPPREP= 'true    '                                                            \n",
       "CCDGAIN = 'low     '                                                            \n",
       "CCDSPEED= 'fast    '                                                            \n",
       "CCDPSIZE= '[1:2048,1:4096]'                                                     \n",
       "DETLSIZE= '[1:6144,1:4096]'                                                     \n",
       "NVIDINP =                    3                                                  \n",
       "AMPLIST = '3,1,0,0 '                                                            \n",
       "AMPMODE = 'SINGLE:B'                                                            \n",
       "MOSMODE = 'B, G, R '                                                            \n",
       "VIDINEND=                   63                                                  \n",
       "PANEFITS= 'normal  '                                                            \n",
       "PANELIST= 'PANE    '                                                            \n",
       "PANERROR= 'NO_ERROR'                                                            \n",
       "PANE    = '0,0,6144,4096'                                                       \n",
       "PANE1   = '0,0,6144,4096'                                                       \n",
       "PANE2   = '0,0,6144,4096'                                                       \n",
       "PANE3   = '0,0,6144,4096'                                                       \n",
       "PANE4   = '0,0,6144,4096'                                                       \n",
       "PANE5   = '0,0,6144,4096'                                                       \n",
       "PANE6   = '0,0,6144,4096'                                                       \n",
       "PANE7   = '0,0,6144,4096'                                                       \n",
       "PANE8   = '0,0,6144,4096'                                                       \n",
       "PANE9   = '0,0,6144,4096'                                                       \n",
       "PANE10  = '0,0,6144,4096'                                                       \n",
       "PANE11  = '0,0,6144,4096'                                                       \n",
       "PANE12  = '0,0,6144,4096'                                                       \n",
       "PANE13  = '0,0,6144,4096'                                                       \n",
       "PANE14  = '0,0,6144,4096'                                                       \n",
       "PANE15  = '0,0,6144,4096'                                                       \n",
       "PANE16  = '0,0,6144,4096'                                                       \n",
       "OUTDIR  = '/s/sdata125/hires7/2012apr12'                                        \n",
       "OUTFILE = 'hires   '                                                            \n",
       "OVRFLUSH=                    0                                                  \n",
       "PREFLUSH=                   40                                                  \n",
       "TTIME   =                  900                                                  \n",
       "ELAPTIME=                  900                                                  \n",
       "EXPTIME =         900.14880371                                                  \n",
       "DARKTIME=         900.68957520                                                  \n",
       "PEXPTIME=                    0                                                  \n",
       "PEXPELAP=                    0                                                  \n",
       "SHOPNCNT=                    1                                                  \n",
       "SHCLOCNT=                    1                                                  \n",
       "SHBLOPTM=           0.00800000                                                  \n",
       "SHLATCLO=           0.01920000                                                  \n",
       "VIDOFF1 =                 2241                                                  \n",
       "VIDOFF2 =                 2278                                                  \n",
       "VIDOFF3 =                 2332                                                  \n",
       "VIDOFF4 =                 2283                                                  \n",
       "VIDOFF5 =                 2331                                                  \n",
       "VIDOFF6 =                 2352                                                  \n",
       "OBSERVER= 'Prochaska, Werk, Neeleman'                                           \n",
       "OBJECT  = 'LBQS1435-0147'                                                       \n",
       "OBSTYPE = 'Object  '                                                            \n",
       "SYNOPSIS= 'B, G, R 900 s, Object pane PANE'                                     \n",
       "SYNOPFMT= '$MOSMODE$ $TTIME$ s, $OBSTYPE$ pane $PANELIST$'                      \n",
       "POSTLINE=                    0                                                  \n",
       "POSTPIX =                   80                                                  \n",
       "PRELINE =                    0                                                  \n",
       "PRECOL  =                   12                                                  \n",
       "PREROW  =                    4                                                  \n",
       "DATE_BEG= '2012-04-12T14:44:45'                                                 \n",
       "DATE_END= '2012-04-12T14:59:45'                                                 \n",
       "ACPOWER =                    F                                                  \n",
       "AIRPRESS=           0.00622559                                                  \n",
       "BCCVCLOS=                    F                                                  \n",
       "BCCVOPEN=                    T                                                  \n",
       "CAFCAL  =                    T                                                  \n",
       "CAFNAME = 'nominal '                                                            \n",
       "CAFRAW  =                    8                                                  \n",
       "CAFOCUS =           0.01411184                                                  \n",
       "CACVCLOS=                    F                                                  \n",
       "CACVOPEN=                    T                                                  \n",
       "CATCUR1 =           0.03662109                                                  \n",
       "CATCUR2 =           0.03662109                                                  \n",
       "CATON   =                    F                                                  \n",
       "COFCAL  =                    T                                                  \n",
       "COFNAME = 'DB00mm  '                                                            \n",
       "COFRAW  =                 4924                                                  \n",
       "COFOCUS =         245.21911621                                                  \n",
       "COLLBLUE=                    T                                                  \n",
       "COLLBRAK=                    F                                                  \n",
       "COLLRED =                    F                                                  \n",
       "COOLFLOW=                    T                                                  \n",
       "C1CVCLOS=                    F                                                  \n",
       "C1CVOPEN=                    T                                                  \n",
       "C2CVCLOS=                    F                                                  \n",
       "C2CVOPEN=                    T                                                  \n",
       "DARKCLOS=                    F                                                  \n",
       "DARKOPEN=                    T                                                  \n",
       "DECKCAL =                    T                                                  \n",
       "DECKNAME= 'C1      '                                                            \n",
       "DECKRAW =               135303                                                  \n",
       "DECKLOC =          57.27838516                                                  \n",
       "DOOR    =                    F                                                  \n",
       "ECHCAL  =                    T                                                  \n",
       "ECHNAME = 'undefined'                                                           \n",
       "ECHRAW  =                 1027                                                  \n",
       "ECHANGL =          -0.00008457                                                  \n",
       "ECHPIX  =          38.75939560                                                  \n",
       "ECOVCLOS=                    F                                                  \n",
       "ECOVOPEN=                    T                                                  \n",
       "FIL1CAL =                    T                                                  \n",
       "FIL1NAME= 'clear   '                                                            \n",
       "FIL1RAW =                    3                                                  \n",
       "FIL1POS =                    1                                                  \n",
       "FIL2CAL =                    T                                                  \n",
       "FIL2NAME= 'clear   '                                                            \n",
       "FIL2RAW =                    0                                                  \n",
       "FIL2POS =                    1                                                  \n",
       "HATCLOS =                    F                                                  \n",
       "HATOPEN =                    T                                                  \n",
       "IODIN   =                    F                                                  \n",
       "IODOUT  =                    T                                                  \n",
       "IROTIN  =                    T                                                  \n",
       "IROTOUT =                    F                                                  \n",
       "IROTCVOP=                    T                                                  \n",
       "IROT2ANG=         206.63209534                                                  \n",
       "LAMPCAT1=                    F                                                  \n",
       "LAMPCAT2=                    F                                                  \n",
       "LAMPQTZ2=                    F                                                  \n",
       "LAMPLSR =                    F                                                  \n",
       "LAMPDEUT=                    F                                                  \n",
       "LAMPNAME= 'none    '                                                            \n",
       "LFILCAL =                    T                                                  \n",
       "LFILNAME= 'ug5     '                                                            \n",
       "LFILPOS =                    2                                                  \n",
       "LFILRAW =                -9996                                                  \n",
       "LMIRROUT=                    T                                                  \n",
       "LMIRRIN =                    F                                                  \n",
       "LSELCAL =                    T                                                  \n",
       "LSELNAME= 'none    '                                                            \n",
       "LSELRAW =                    2                                                  \n",
       "RCCVCLOS=                    T                                                  \n",
       "RCCVOPEN=                    F                                                  \n",
       "RELHUM  =           0.02441406                                                  \n",
       "SLITCAL =                    T                                                  \n",
       "SLITNAME= 'opened  '                                                            \n",
       "SLITRAW =                30001                                                  \n",
       "SLITWID =          10.21401882                                                  \n",
       "TEMPCOOL=          -4.47327185                                                  \n",
       "TEMPIN  =           4.85933018                                                  \n",
       "TEMPIOD1=           2.75878906                                                  \n",
       "TEMPIOD2=           2.88085938                                                  \n",
       "TEMPLAMP=          -1.65186548                                                  \n",
       "TEMPOUT =           0.54557592                                                  \n",
       "TEMPTV  =           7.48921776                                                  \n",
       "TVACAL  =                    T                                                  \n",
       "TVANAME = 'open    '                                                            \n",
       "TVARAW  =               -19908                                                  \n",
       "TVFCAL  =                    T                                                  \n",
       "TVFNAME = '3mm     '                                                            \n",
       "TVFRAW  =                79690                                                  \n",
       "TVFOCUS =          14.92533302                                                  \n",
       "TVF1CAL =                    T                                                  \n",
       "TVF1NAME= 'clear   '                                                            \n",
       "TVF1RAW =                    8                                                  \n",
       "TVF1POS =                    1                                                  \n",
       "TVF2CAL =                    T                                                  \n",
       "TVF2NAME= 'nd_50   '                                                            \n",
       "TVF2RAW =               -29995                                                  \n",
       "TVF2POS =                    3                                                  \n",
       "TVON    =                    T                                                  \n",
       "XDCAL   =                    T                                                  \n",
       "XDNAME  = 'undefined'                                                           \n",
       "XDISPERS= 'UV      '                                                            \n",
       "XDSIGMAI=         400.00000000                                                  \n",
       "XDDELTAD=           4.76000023                                                  \n",
       "XCOVCLOS=                    F                                                  \n",
       "XCOVOPEN=                    T                                                  \n",
       "CAFCON  =                    F                                                  \n",
       "CAMCON  =                    F                                                  \n",
       "COFCON  =                    F                                                  \n",
       "COLLCON =                    F                                                  \n",
       "DECKCON =                    F                                                  \n",
       "ECHCON  =                    F                                                  \n",
       "FIL1CON =                    F                                                  \n",
       "FIL2CON =                    F                                                  \n",
       "HATCON  =                    F                                                  \n",
       "IODCON  =                    F                                                  \n",
       "IROTCON =                    F                                                  \n",
       "LFILCON =                    F                                                  \n",
       "LSELCON =                    F                                                  \n",
       "SLITCON =                    F                                                  \n",
       "TVACON  =                    F                                                  \n",
       "TVFCON  =                    F                                                  \n",
       "TVF1CON =                    F                                                  \n",
       "TVF2CON =                    F                                                  \n",
       "XDCON   =                    F                                                  \n",
       "EXM0MOD = 'Off     '                                                            \n",
       "EXM0STA = 'Safe/Off'                                                            \n",
       "EXM0DSUM=                   -1                                                  \n",
       "EXM0LSUM=                   -1                                                  \n",
       "EXM0SSUM=                   -1                                                  \n",
       "EXM0TARG=               250000                                                  \n",
       "EXM0FWMP=                   -1                                                  \n",
       "EXM0MIDP=                   -1                                                  \n",
       "EXM0DOVF=                    0                                                  \n",
       "EXM0LOVF=                    0                                                  \n",
       "EXM0TOVF=                    0                                                  \n",
       "PMT0MPOW= 'off     '                                                            \n",
       "PMT0TPOW= 'off     '                                                            \n",
       "PMT0OVL = 'false   '                                                            \n",
       "PROP0STA= 'Parked  '                                                            \n",
       "COMMENT END   keywords that came from KTL via watch_ccd                         \n",
       "COMMENT BEGIN keywords that came from CCD crate imparm structure                \n",
       "IMTYPE  = 'MOSAIC  '                                                            \n",
       "PRECOL  =                   12                                                  \n",
       "PREROW  =                    4                                                  \n",
       "PRELINE =                    0                                                  \n",
       "POSTLINE=                    0                                                  \n",
       "ERASLINE=                    0                                                  \n",
       "KEEPPREP=                    1                                                  \n",
       "PREFLUSH=                   40                                                  \n",
       "OVRFLUSH=                    0                                                  \n",
       "DETCNFID=                 1002                                                  \n",
       "VIDINACT=                   42                                                  \n",
       "BINNING = '2,1     '                                                            \n",
       "CCDSUM  = '2 1     '                                                            \n",
       "AMPPSIZE= '[1:2048,1:4096]'                                                     \n",
       "DETLSIZE= '[1:6144,1:4096]'                                                     \n",
       "COMMENT END   keywords that came from CCD crate imparm structure                \n",
       "COMMENT ...Generic comments for this instrument follow...                       \n",
       "COMMENT This is the real HIRES CCD mosaic subsystem                             \n",
       "COMMENT ...Comments specific to this run follow...                              \n",
       "COMMENT Set this comment to identify your present observing run.                \n",
       "COMMENT END   observation-specific keywords written by write_image              \n",
       "CHECKSUM= 'jUPemRNcjRNcjRNc'   / HDU checksum updated 2012-04-12T15:00:26       \n",
       "DATASUM = '         0'         / data unit checksum updated 2012-04-12T15:00:26 \n",
       "COMMENT                                                                         \n",
       "COMMENT KOA DQA generated keywords follow...                                    \n",
       "COMMENT                                                                         \n",
       "UT      = '14:44:44.33'        / Duplicate of UTC (added by KOA)                \n",
       "UT-END  = '14:59:45.49'        / Duplicate of UTC-END (added by KOA)            \n",
       "KOAID   = 'HI.20120412.53084.fits' / KOA data file name                         \n",
       "IMAGETYP= 'object  '           / KOA data file image type                       \n",
       "DATLEVEL=                    0 / Data reduction level                           \n",
       "DQA_DATE= '2012-04-12T20:41:46' / Date of DQA run                               \n",
       "DQA_VERS= '3-2-0   '           / DQA version number                             \n",
       "CCDGN01 =           1.95000000 / CCD gain extension 1                           \n",
       "CCDRN01 =           2.90000000 / CCD read noise extension 1                     \n",
       "CCDGN02 =           2.09000000 / CCD gain extension 2                           \n",
       "CCDRN02 =           3.00000000 / CCD read noise extension 2                     \n",
       "CCDGN03 =           2.09000000 / CCD gain extension 3                           \n",
       "CCDRN03 =           3.10000000 / CCD read noise extension 3                     \n",
       "CCDGN04 = 'null    '           / CCD gain extension 4                           \n",
       "CCDRN04 = 'null    '           / CCD read noise extension 4                     \n",
       "CCDGN05 = 'null    '           / CCD gain extension 5                           \n",
       "CCDRN05 = 'null    '           / CCD read noise extension 5                     \n",
       "CCDGN06 = 'null    '           / CCD gain extension 6                           \n",
       "CCDRN06 = 'null    '           / CCD read noise extension 6                     \n",
       "DISPSCAL=                0.179 / CCD pixel scale, dispersion (arcsec/pixel)     \n",
       "GUIDFWHM=                1.229 / FWHM of NIRSPEC guide star                     \n",
       "GUIDTIME= '14:44:45.00'        / UT of logged GUIDFWHM value                    \n",
       "IM01MD01=                999.0 / Imaging pixels 01/01 median (DN)               \n",
       "IM01MN01=               1002.6 / Imaging pixels 01/01 mean (DN)                 \n",
       "IM01SD01=                  7.6 / Imaging pixels 01/01 std-dev (DN)              \n",
       "PT01MD01=                996.0 / Post scan pixels 01/01 median (DN)             \n",
       "PT01MN01=                995.5 / Post scan pixels 01/01 mean (DN)               \n",
       "PT01SD01=                  1.4 / Post scan pixels 01/01 std-dev (DN)            \n",
       "IM01MD02=                993.0 / Imaging pixels 01/02 median (DN)               \n",
       "IM01MN02=                993.5 / Imaging pixels 01/02 mean (DN)                 \n",
       "IM01SD02=                  2.4 / Imaging pixels 01/02 std-dev (DN)              \n",
       "PT01MD02=                991.0 / Post scan pixels 01/02 median (DN)             \n",
       "PT01MN02=                991.5 / Post scan pixels 01/02 mean (DN)               \n",
       "PT01SD02=                  1.3 / Post scan pixels 01/02 std-dev (DN)            \n",
       "IM01MD03=                927.0 / Imaging pixels 01/03 median (DN)               \n",
       "IM01MN03=                927.0 / Imaging pixels 01/03 mean (DN)                 \n",
       "IM01SD03=                  1.4 / Imaging pixels 01/03 std-dev (DN)              \n",
       "PT01MD03=                927.0 / Post scan pixels 01/03 median (DN)             \n",
       "PT01MN03=                926.7 / Post scan pixels 01/03 mean (DN)               \n",
       "PT01SD03=                  1.5 / Post scan pixels 01/03 std-dev (DN)            \n",
       "IM01MD04= 'null    '           / Imaging pixels 01/04 median (DN)               \n",
       "IM01MN04= 'null    '           / Imaging pixels 01/04 mean (DN)                 \n",
       "IM01SD04= 'null    '           / Imaging pixels 01/04 std-dev (DN)              \n",
       "PT01MD04= 'null    '           / Post scan pixels 01/04 median (DN)             \n",
       "PT01MN04= 'null    '           / Post scan pixels 01/04 mean (DN)               \n",
       "PT01SD04= 'null    '           / Post scan pixels 01/04 std-dev (DN)            \n",
       "IM01MD05= 'null    '           / Imaging pixels 01/05 median (DN)               \n",
       "IM01MN05= 'null    '           / Imaging pixels 01/05 mean (DN)                 \n",
       "IM01SD05= 'null    '           / Imaging pixels 01/05 std-dev (DN)              \n",
       "PT01MD05= 'null    '           / Post scan pixels 01/05 median (DN)             \n",
       "PT01MN05= 'null    '           / Post scan pixels 01/05 mean (DN)               \n",
       "PT01SD05= 'null    '           / Post scan pixels 01/05 std-dev (DN)            \n",
       "IM01MD06= 'null    '           / Imaging pixels 01/06 median (DN)               \n",
       "IM01MN06= 'null    '           / Imaging pixels 01/06 mean (DN)                 \n",
       "IM01SD06= 'null    '           / Imaging pixels 01/06 std-dev (DN)              \n",
       "PT01MD06= 'null    '           / Post scan pixels 01/06 median (DN)             \n",
       "PT01MN06= 'null    '           / Post scan pixels 01/06 mean (DN)               \n",
       "PT01SD06= 'null    '           / Post scan pixels 01/06 std-dev (DN)            \n",
       "INSTSTAT=                    1 / KOA instrument status                          \n",
       "NPIXSAT =                    0 / Number of pixels above saturation              \n",
       "OA      = 'J.Aycock'           / Observing assistant                            \n",
       "PROGID  = 'U059Hb  '           / WMKO ID for observing program                  \n",
       "PROGINST= 'UCSC    '           / Program institution                            \n",
       "PROGPI  = 'Prochaska'          / Program principal investigator                 \n",
       "PROGTL1 = 'Probing Gaseous Halos: How galaxies get and remove their gas ' / Prog\n",
       "PROGTL2 = '        '           / Program title 2                                \n",
       "PROGTL3 = '        '           / Program title 3                                \n",
       "SEMESTER= '2012A   '           / WMKO observing schedule semester               \n",
       "SIG2NOIS=                7.000 / Signal-to-noise estimate near image spectral ce\n",
       "SKYPA   =                64.66 / HIRES slit sky position angle (deg)            \n",
       "SLITLEN =                7.000 / Slit length projected on sky (arcsec)          \n",
       "SLITWIDT=                0.861 / Slit width projected on sky (arcsec)           \n",
       "SPATSCAL=                0.239 / CCD pixel scale, spatial (arcsec/pixel)        \n",
       "SPECRES =                47700 / Nominal spectral resolution                    \n",
       "SUBEXP  = 'False   '           / This image is not part of a sub-exposure sequen\n",
       "WAVEBLUE=                 2970 / Approximate blue end wavelength (A)            \n",
       "WAVECNTR=                 4400 / Approximate centralwavelength (A)              \n",
       "WAVERED =                 5940 / Approximate red end wavelength (A)             \n",
       "WXDOMHUM=                -4.63 / Inside dome humidity (%)                       \n",
       "WXDOMTMP=                -0.73 / Inside dome temperature (deg C)                \n",
       "WXDWPT  =               -41.20 / Dew point temperature (deg C)                  \n",
       "WXOUTHUM=                 2.90 / Outside humidity (%)                           \n",
       "WXOUTTMP=                -1.30 / Outside temperature (deg C)                    \n",
       "WXPRESS =               622.00 / Pressure (mb)                                  \n",
       "WXTIME  = '14:44:49.00'        / UT of logged weather keyword values            \n",
       "WXWNDIR = 'null    '           / Wind direction (N through E)                   \n",
       "WXWNDSP = 'null    '           / Wind speed (mph)                               \n",
       "ROQUAL  = 'Good    '           /                                                \n",
       "TRIM    =                    T /                                                \n",
       "ODSEC   = '[7:1030,1:4096]'    /                                                \n",
       "HELIO   =        7.49883484721 /                                                \n",
       "CDELT1  =    1.88324151360E-06 /                                                \n",
       "CRPIX1  =                    1 /                                                \n",
       "CTYPE1  = 'LINEAR  '           /                                                \n",
       "DC-FLAG =                    1 /                                                \n",
       "CRVAL1  =        3.48201391617 /                                                "
      ]
     },
     "execution_count": 6,
     "metadata": {},
     "output_type": "execute_result"
    }
   ],
   "source": [
    "flux_fits[0].header"
   ]
  },
  {
   "cell_type": "markdown",
   "metadata": {},
   "source": [
    "Store the flux and error arrays"
   ]
  },
  {
   "cell_type": "code",
   "execution_count": 7,
   "metadata": {},
   "outputs": [],
   "source": [
    "flux = flux_fits[0].data"
   ]
  },
  {
   "cell_type": "code",
   "execution_count": 8,
   "metadata": {},
   "outputs": [
    {
     "data": {
      "text/plain": [
       "array([ 0.22722284,  0.9442825 , -2.163951  , ...,  1.0379715 ,\n",
       "        0.9653086 ,  1.0615456 ], dtype=float32)"
      ]
     },
     "execution_count": 8,
     "metadata": {},
     "output_type": "execute_result"
    }
   ],
   "source": [
    "flux"
   ]
  },
  {
   "cell_type": "code",
   "execution_count": 9,
   "metadata": {},
   "outputs": [],
   "source": [
    "err = err_fits[0].data"
   ]
  },
  {
   "cell_type": "code",
   "execution_count": 10,
   "metadata": {},
   "outputs": [
    {
     "data": {
      "text/plain": [
       "array([1.3684373 , 1.48844   , 1.404771  , ..., 0.09588742, 0.09511489,\n",
       "       0.08250349], dtype=float32)"
      ]
     },
     "execution_count": 10,
     "metadata": {},
     "output_type": "execute_result"
    }
   ],
   "source": [
    "err"
   ]
  },
  {
   "cell_type": "code",
   "execution_count": 11,
   "metadata": {},
   "outputs": [],
   "source": [
    "wav = 10**(np.arange(flux_fits[0].header['CRVAL1'], \n",
    "                     flux_fits[0].header['CRVAL1']+len(flux)*flux_fits[0].header['CDELT1'], \n",
    "                     flux_fits[0].header['CDELT1']))"
   ]
  },
  {
   "cell_type": "code",
   "execution_count": 12,
   "metadata": {},
   "outputs": [
    {
     "data": {
      "text/plain": [
       "(152635, 152635)"
      ]
     },
     "execution_count": 12,
     "metadata": {},
     "output_type": "execute_result"
    }
   ],
   "source": [
    "len(wav), len(flux)"
   ]
  },
  {
   "cell_type": "markdown",
   "metadata": {},
   "source": [
    "Plot the flux and error arrays"
   ]
  },
  {
   "cell_type": "code",
   "execution_count": 13,
   "metadata": {},
   "outputs": [
    {
     "data": {
      "text/plain": [
       "Text(0, 0.5, 'Flux (continuum normalized)')"
      ]
     },
     "execution_count": 13,
     "metadata": {},
     "output_type": "execute_result"
    },
    {
     "data": {
      "image/png": "[encoded data removed]",
      "text/plain": [
       "<Figure size 1500x700 with 1 Axes>"
      ]
     },
     "metadata": {},
     "output_type": "display_data"
    }
   ],
   "source": [
    "fig, ax = plt.subplots(1, figsize=(15,7))\n",
    "\n",
    "ax.plot(wav, flux, label='Flux')\n",
    "ax.plot(wav, err, label='Error')\n",
    "\n",
    "ax.set_xlabel('Wavelength (Å)')\n",
    "ax.set_ylabel('Flux (continuum normalized)')"
   ]
  },
  {
   "cell_type": "markdown",
   "metadata": {},
   "source": [
    "Store into a pabs0 friendly file format"
   ]
  },
  {
   "cell_type": "code",
   "execution_count": 14,
   "metadata": {},
   "outputs": [],
   "source": [
    "c1 = fits.Column(name='wave    ', array=wav, format='D')\n",
    "c2 = fits.Column(name='flux    ', array=flux, format='D')\n",
    "c3 = fits.Column(name='error   ', array=err, format='D')\n",
    "c4 = fits.Column(name='error_u ', array=err, format='D')\n",
    "c5 = fits.Column(name='error_d ', array=err, format='D')\n",
    "c6 = fits.Column(name='counts_total', array=np.zeros(len(wav)), format='D')\n",
    "c7 = fits.Column(name='counts_net', array=np.zeros(len(wav)), format='D')\n",
    "c8 = fits.Column(name='npix    ', array=np.zeros(len(wav)), format='D')\n",
    "c9 = fits.Column(name='exptime ', array=np.zeros(len(wav)), format='D')\n",
    "c10 = fits.Column(name='mask    ', array=np.ones(len(wav)), format='K')\n",
    "c11 = fits.Column(name='continuum', array=np.ones(len(wav)), format='D')"
   ]
  },
  {
   "cell_type": "code",
   "execution_count": 15,
   "metadata": {},
   "outputs": [],
   "source": [
    "table_hdu = fits.BinTableHDU.from_columns([c1, c2, c3, \n",
    "                                           c4, c5, c6, \n",
    "                                           c7, c8, c9, \n",
    "                                           c10, c11])"
   ]
  },
  {
   "cell_type": "markdown",
   "metadata": {},
   "source": [
    "Load in a FUV file for sample header"
   ]
  },
  {
   "cell_type": "code",
   "execution_count": 16,
   "metadata": {},
   "outputs": [],
   "source": [
    "rootdir_fuv = '/Users/thepoetoftwilight/Documents/CUBS/Data/PG1522+101/FUV/'"
   ]
  },
  {
   "cell_type": "code",
   "execution_count": 17,
   "metadata": {},
   "outputs": [],
   "source": [
    "fuv_fits = fits.open(rootdir_fuv + 'PG1522+101_FUV_wavecal_new.fits')"
   ]
  },
  {
   "cell_type": "code",
   "execution_count": 18,
   "metadata": {},
   "outputs": [
    {
     "name": "stdout",
     "output_type": "stream",
     "text": [
      "Filename: /Users/thepoetoftwilight/Documents/CUBS/Data/PG1522+101/FUV/PG1522+101_FUV_wavecal_new.fits\n",
      "No.    Name      Ver    Type      Cards   Dimensions   Format\n",
      "  0  PRIMARY       1 PrimaryHDU       4   ()      \n",
      "  1                1 BinTableHDU     30   58088R x 11C   [D, D, D, D, D, D, D, D, D, K, D]   \n"
     ]
    }
   ],
   "source": [
    "fuv_fits.info()"
   ]
  },
  {
   "cell_type": "code",
   "execution_count": 19,
   "metadata": {},
   "outputs": [
    {
     "data": {
      "text/plain": [
       "SIMPLE  =                    T / conforms to FITS standard                      \n",
       "BITPIX  =                    8 / array data type                                \n",
       "NAXIS   =                    0 / number of array dimensions                     \n",
       "EXTEND  =                    T                                                  "
      ]
     },
     "execution_count": 19,
     "metadata": {},
     "output_type": "execute_result"
    }
   ],
   "source": [
    "fuv_fits[0].header"
   ]
  },
  {
   "cell_type": "code",
   "execution_count": 20,
   "metadata": {},
   "outputs": [],
   "source": [
    "fuv_fits[0].data"
   ]
  },
  {
   "cell_type": "code",
   "execution_count": 21,
   "metadata": {},
   "outputs": [],
   "source": [
    "hdu = fits.HDUList([fuv_fits[0], table_hdu])"
   ]
  },
  {
   "cell_type": "code",
   "execution_count": 22,
   "metadata": {},
   "outputs": [
    {
     "name": "stdout",
     "output_type": "stream",
     "text": [
      "Filename: (No file associated with this HDUList)\n",
      "No.    Name      Ver    Type      Cards   Dimensions   Format\n",
      "  0  PRIMARY       1 PrimaryHDU       4   ()      \n",
      "  1                1 BinTableHDU     30   152635R x 11C   ['D', 'D', 'D', 'D', 'D', 'D', 'D', 'D', 'D', 'K', 'D']   \n"
     ]
    }
   ],
   "source": [
    "hdu.info()"
   ]
  },
  {
   "cell_type": "code",
   "execution_count": 23,
   "metadata": {},
   "outputs": [],
   "source": [
    "#hdu.writeto(rootdir +'LBQS1435-0134_HIRES_pabs0.fits')"
   ]
  },
  {
   "cell_type": "markdown",
   "metadata": {},
   "source": [
    "## PG1522+101"
   ]
  },
  {
   "cell_type": "markdown",
   "metadata": {},
   "source": [
    "### Spectral reduction"
   ]
  },
  {
   "cell_type": "markdown",
   "metadata": {},
   "source": [
    "Also load in HIRES data for PG1522+101"
   ]
  },
  {
   "cell_type": "code",
   "execution_count": 24,
   "metadata": {},
   "outputs": [],
   "source": [
    "rootdir = '/Users/thepoetoftwilight/Documents/CUBS/Data/PG1522+101/HIRES/'"
   ]
  },
  {
   "cell_type": "code",
   "execution_count": 25,
   "metadata": {},
   "outputs": [],
   "source": [
    "flux_fits = fits.open(rootdir + 'PG1522+101a_f.fits')\n",
    "err_fits = fits.open(rootdir + 'PG1522+101a_e.fits')"
   ]
  },
  {
   "cell_type": "code",
   "execution_count": 26,
   "metadata": {},
   "outputs": [
    {
     "name": "stdout",
     "output_type": "stream",
     "text": [
      "Filename: /Users/thepoetoftwilight/Documents/CUBS/Data/PG1522+101/HIRES/PG1522+101a_f.fits\n",
      "No.    Name      Ver    Type      Cards   Dimensions   Format\n",
      "  0  PRIMARY       1 PrimaryHDU      10   (155487,)   float32   \n"
     ]
    }
   ],
   "source": [
    "flux_fits.info()"
   ]
  },
  {
   "cell_type": "code",
   "execution_count": 42,
   "metadata": {},
   "outputs": [
    {
     "data": {
      "text/plain": [
       "SIMPLE  =                    T /Dummy Created by MWRFITS v1.4a                  \n",
       "BITPIX  =                  -32 /Dummy primary header created by MWRFITS         \n",
       "NAXIS   =                    1 /No data is associated with this header          \n",
       "EXTEND  =                    T /Extensions may (will!) be present               \n",
       "CDELT1  =    1.88324151360E-06 /                                                \n",
       "CRPIX1  =                    1 /                                                \n",
       "CTYPE1  = 'LINEAR  '           /                                                \n",
       "DC-FLAG =                    1 /                                                \n",
       "NAXIS1  =               155487 /                                                \n",
       "CRVAL1  =        3.47646965316 /                                                "
      ]
     },
     "execution_count": 42,
     "metadata": {},
     "output_type": "execute_result"
    }
   ],
   "source": [
    "flux_fits[0].header"
   ]
  },
  {
   "cell_type": "code",
   "execution_count": 27,
   "metadata": {},
   "outputs": [
    {
     "name": "stdout",
     "output_type": "stream",
     "text": [
      "Filename: /Users/thepoetoftwilight/Documents/CUBS/Data/PG1522+101/HIRES/PG1522+101a_e.fits\n",
      "No.    Name      Ver    Type      Cards   Dimensions   Format\n",
      "  0  PRIMARY       1 PrimaryHDU      10   (155487,)   float32   \n"
     ]
    }
   ],
   "source": [
    "err_fits.info()"
   ]
  },
  {
   "cell_type": "markdown",
   "metadata": {},
   "source": [
    "Unpack information from either FITS files"
   ]
  },
  {
   "cell_type": "code",
   "execution_count": 28,
   "metadata": {
    "scrolled": true
   },
   "outputs": [
    {
     "data": {
      "text/plain": [
       "SIMPLE  =                    T /Dummy Created by MWRFITS v1.4a                  \n",
       "BITPIX  =                  -32 /Dummy primary header created by MWRFITS         \n",
       "NAXIS   =                    1 /No data is associated with this header          \n",
       "EXTEND  =                    T /Extensions may (will!) be present               \n",
       "CDELT1  =    1.88324151360E-06 /                                                \n",
       "CRPIX1  =                    1 /                                                \n",
       "CTYPE1  = 'LINEAR  '           /                                                \n",
       "DC-FLAG =                    1 /                                                \n",
       "NAXIS1  =               155487 /                                                \n",
       "CRVAL1  =        3.47646965316 /                                                "
      ]
     },
     "execution_count": 28,
     "metadata": {},
     "output_type": "execute_result"
    }
   ],
   "source": [
    "flux_fits[0].header"
   ]
  },
  {
   "cell_type": "markdown",
   "metadata": {},
   "source": [
    "Store the flux and error arrays"
   ]
  },
  {
   "cell_type": "code",
   "execution_count": 29,
   "metadata": {},
   "outputs": [],
   "source": [
    "flux = flux_fits[0].data"
   ]
  },
  {
   "cell_type": "code",
   "execution_count": 30,
   "metadata": {},
   "outputs": [
    {
     "data": {
      "text/plain": [
       "array([-6.6318496e+16, -6.6437844e+16, -6.6557807e+16, ...,\n",
       "        5.4842204e-01,  5.7727015e-01,  5.8310854e-01], dtype=float32)"
      ]
     },
     "execution_count": 30,
     "metadata": {},
     "output_type": "execute_result"
    }
   ],
   "source": [
    "flux"
   ]
  },
  {
   "cell_type": "code",
   "execution_count": 31,
   "metadata": {},
   "outputs": [],
   "source": [
    "err = err_fits[0].data"
   ]
  },
  {
   "cell_type": "code",
   "execution_count": 32,
   "metadata": {},
   "outputs": [
    {
     "data": {
      "text/plain": [
       "array([1.2831679e+09, 1.2854758e+09, 1.2877926e+09, ..., 6.0929447e-02,\n",
       "       6.2858358e-02, 6.2000807e-02], dtype=float32)"
      ]
     },
     "execution_count": 32,
     "metadata": {},
     "output_type": "execute_result"
    }
   ],
   "source": [
    "err"
   ]
  },
  {
   "cell_type": "code",
   "execution_count": 33,
   "metadata": {},
   "outputs": [],
   "source": [
    "wav = 10**(np.arange(flux_fits[0].header['CRVAL1'], \n",
    "                     flux_fits[0].header['CRVAL1']+len(flux)*flux_fits[0].header['CDELT1'], \n",
    "                     flux_fits[0].header['CDELT1']))"
   ]
  },
  {
   "cell_type": "code",
   "execution_count": 34,
   "metadata": {},
   "outputs": [
    {
     "data": {
      "text/plain": [
       "(155487, 155487)"
      ]
     },
     "execution_count": 34,
     "metadata": {},
     "output_type": "execute_result"
    }
   ],
   "source": [
    "len(wav), len(flux)"
   ]
  },
  {
   "cell_type": "markdown",
   "metadata": {},
   "source": [
    "Plot the flux and error arrays"
   ]
  },
  {
   "cell_type": "code",
   "execution_count": 37,
   "metadata": {},
   "outputs": [
    {
     "data": {
      "text/plain": [
       "Text(0, 0.5, 'Flux (continuum normalized)')"
      ]
     },
     "execution_count": 37,
     "metadata": {},
     "output_type": "execute_result"
    },
    {
     "data": {
      "image/png": "[encoded data removed]",
      "text/plain": [
       "<Figure size 1500x700 with 1 Axes>"
      ]
     },
     "metadata": {},
     "output_type": "display_data"
    }
   ],
   "source": [
    "fig, ax = plt.subplots(1, figsize=(15,7))\n",
    "\n",
    "ax.plot(wav[100:], flux[100:], label='Flux')\n",
    "ax.plot(wav[100:], err[100:], label='Error')\n",
    "\n",
    "ax.set_xlabel('Wavelength (Å)')\n",
    "ax.set_ylabel('Flux (continuum normalized)')"
   ]
  },
  {
   "cell_type": "markdown",
   "metadata": {},
   "source": [
    "Store into a pabs0 friendly file format"
   ]
  },
  {
   "cell_type": "code",
   "execution_count": 38,
   "metadata": {},
   "outputs": [],
   "source": [
    "c1 = fits.Column(name='wave    ', array=wav, format='D')\n",
    "c2 = fits.Column(name='flux    ', array=flux, format='D')\n",
    "c3 = fits.Column(name='error   ', array=err, format='D')\n",
    "c4 = fits.Column(name='error_u ', array=err, format='D')\n",
    "c5 = fits.Column(name='error_d ', array=err, format='D')\n",
    "c6 = fits.Column(name='counts_total', array=np.zeros(len(wav)), format='D')\n",
    "c7 = fits.Column(name='counts_net', array=np.zeros(len(wav)), format='D')\n",
    "c8 = fits.Column(name='npix    ', array=np.zeros(len(wav)), format='D')\n",
    "c9 = fits.Column(name='exptime ', array=np.zeros(len(wav)), format='D')\n",
    "c10 = fits.Column(name='mask    ', array=np.ones(len(wav)), format='K')\n",
    "c11 = fits.Column(name='continuum', array=np.ones(len(wav)), format='D')"
   ]
  },
  {
   "cell_type": "code",
   "execution_count": 39,
   "metadata": {},
   "outputs": [],
   "source": [
    "table_hdu = fits.BinTableHDU.from_columns([c1, c2, c3, \n",
    "                                           c4, c5, c6, \n",
    "                                           c7, c8, c9, \n",
    "                                           c10, c11])"
   ]
  },
  {
   "cell_type": "code",
   "execution_count": 40,
   "metadata": {},
   "outputs": [],
   "source": [
    "hdu = fits.HDUList([fuv_fits[0], table_hdu])"
   ]
  },
  {
   "cell_type": "code",
   "execution_count": 41,
   "metadata": {},
   "outputs": [],
   "source": [
    "hdu.writeto(rootdir +'PG1522+101_HIRES_pabs0.fits')"
   ]
  },
  {
   "cell_type": "markdown",
   "metadata": {},
   "source": [
    "### Identifications file"
   ]
  },
  {
   "cell_type": "markdown",
   "metadata": {},
   "source": [
    "Helper function"
   ]
  },
  {
   "cell_type": "code",
   "execution_count": 43,
   "metadata": {},
   "outputs": [],
   "source": [
    "def group_redshifts(n_lines, redshifts, redshift_thresh = 0.0003):\n",
    "    \n",
    "    systems = np.zeros(n_lines)\n",
    "    \n",
    "    # Keep record of the number of systems recorded so far\n",
    "    n_systems = 1\n",
    "\n",
    "    for i in range(n_lines):\n",
    "\n",
    "        # If the current entry has not been placed into a system yet\n",
    "        if(systems[i] == 0):\n",
    "\n",
    "            # Initiate a new system here\n",
    "            systems[i] = n_systems\n",
    "\n",
    "            # Look at the entries ahead\n",
    "            for j in range(i+1, n_lines):\n",
    "\n",
    "                # If the redshift of the entry is within the threshold of the defining entry of the new system\n",
    "                if (np.abs(redshifts[i]-redshifts[j])<=redshift_thresh):\n",
    "\n",
    "                    # Place the currently considered entry into the currently considered system\n",
    "                    systems[j] = n_systems\n",
    "\n",
    "\n",
    "            # Next, look at a new system\n",
    "            n_systems += 1\n",
    "    \n",
    "    ###print(systems)\n",
    "    \n",
    "    # Then, compute the median redshift for each system\n",
    "    redshift_bin_medians = np.array([np.median(redshifts[systems==i]) for i in range(1,n_systems)])\n",
    "    \n",
    "    ###print(redshift_bin_medians)\n",
    "    \n",
    "    # Then, compute the rankings of each bin, courtesy below\n",
    "    # https://stackoverflow.com/questions/5284646/rank-items-in-an-array-using-python-numpy-without-sorting-array-twice\n",
    "    redshift_bin_rankings = redshift_bin_medians.argsort().argsort()+1\n",
    "    \n",
    "    # Then, map the unordered system numbers to the ordered ones\n",
    "    systems_ordered = np.array([redshift_bin_rankings[int(s-1)] for s in systems])\n",
    "    \n",
    "    ###print(systems_ordered)\n",
    "    \n",
    "    redshift_bin_medians_ordered = np.array([np.median(redshifts[systems_ordered==i]) for i in range(1,n_systems)])\n",
    "    \n",
    "    ###print(redshift_bin_medians_ordered)\n",
    "    \n",
    "    return systems_ordered"
   ]
  },
  {
   "cell_type": "markdown",
   "metadata": {},
   "source": [
    "Now begin grouping"
   ]
  },
  {
   "cell_type": "code",
   "execution_count": 44,
   "metadata": {},
   "outputs": [],
   "source": [
    "ids_fits_old = fits.open(rootdir + 'PG1522+101_HIRES_features.fits')"
   ]
  },
  {
   "cell_type": "code",
   "execution_count": 45,
   "metadata": {},
   "outputs": [
    {
     "name": "stdout",
     "output_type": "stream",
     "text": [
      "Filename: /Users/thepoetoftwilight/Documents/CUBS/Data/PG1522+101/HIRES/PG1522+101_HIRES_features.fits\n",
      "No.    Name      Ver    Type      Cards   Dimensions   Format\n",
      "  0  PRIMARY       1 PrimaryHDU       4   ()      \n",
      "  1                1 BinTableHDU     71   19R x 27C   [J, 4A, E, E, E, E, E, E, E, E, E, E, E, D, E, E, E, E, E, E, E, E, E, E, E, A, J]   \n"
     ]
    }
   ],
   "source": [
    "ids_fits_old.info()"
   ]
  },
  {
   "cell_type": "code",
   "execution_count": 46,
   "metadata": {},
   "outputs": [],
   "source": [
    "ids_data_old_table = pd.DataFrame(ids_fits_old[1].data).to_numpy()"
   ]
  },
  {
   "cell_type": "code",
   "execution_count": 47,
   "metadata": {},
   "outputs": [],
   "source": [
    "redshifts_old = ids_data_old_table[:,5]"
   ]
  },
  {
   "cell_type": "code",
   "execution_count": 48,
   "metadata": {},
   "outputs": [],
   "source": [
    "n_lines_old = ids_data_old_table.shape[0]"
   ]
  },
  {
   "cell_type": "code",
   "execution_count": 49,
   "metadata": {},
   "outputs": [],
   "source": [
    "systems_old = group_redshifts(n_lines_old, redshifts_old)"
   ]
  },
  {
   "cell_type": "markdown",
   "metadata": {},
   "source": [
    "Construct the new identification file columns"
   ]
  },
  {
   "cell_type": "code",
   "execution_count": 50,
   "metadata": {},
   "outputs": [],
   "source": [
    "c1 = fits.Column(name='ion     ', array=ids_data_old_table[:,1], format='10A')\n",
    "c2 = fits.Column(name='draw    ', array=np.ones(n_lines_old, dtype=bool), format='L')\n",
    "c3 = fits.Column(name='system_id', array=systems_old, format='K')\n",
    "c4 = fits.Column(name='wave_r  ', array=np.array(ids_data_old_table[:,2],dtype=float), format='D')\n",
    "c5 = fits.Column(name='z       ', array=np.array(ids_data_old_table[:,5],dtype=float), format='D')\n",
    "c6 = fits.Column(name='zErr    ', array=np.zeros(n_lines_old), format='D')\n",
    "c7 = fits.Column(name='wave_o  ' , array=np.array(ids_data_old_table[:,4],dtype=float), format='D')\n",
    "c8 = fits.Column(name='Wr      ', array=np.zeros(n_lines_old), format='D')\n",
    "c9 = fits.Column(name='WrErr   ', array=np.zeros(n_lines_old), format='D')\n",
    "c10 = fits.Column(name='v_min   ', array=np.zeros(n_lines_old), format='D')\n",
    "c11 = fits.Column(name='v_max   ', array=np.zeros(n_lines_old), format='D')\n",
    "c12 = fits.Column(name='logAODN ', array=np.zeros(n_lines_old), format='D')\n",
    "c13 = fits.Column(name='logAODNerr', array=np.zeros(n_lines_old), format='D')\n",
    "c14 = fits.Column(name='wave_b0 ', array=np.zeros(n_lines_old), format='D')\n",
    "c15 = fits.Column(name='wave_b1 ', array=np.zeros(n_lines_old), format='D')\n",
    "c16 = fits.Column(name='dv90    ', array=np.zeros(n_lines_old), format='D')\n",
    "c17 = fits.Column(name='logN    ', array=np.zeros(n_lines_old), format='D')\n",
    "c18 = fits.Column(name='logNerr ', array=np.zeros(n_lines_old), format='D')\n",
    "c19 = fits.Column(name='b       ', array=np.zeros(n_lines_old), format='D')\n",
    "c20 = fits.Column(name='bErr    ', array=np.zeros(n_lines_old), format='D')\n",
    "c21 = fits.Column(name='uncertain', array=np.array(ids_data_old_table[:,26],dtype=bool), format='K')\n",
    "c22 = fits.Column(name='f       ', array=np.array(ids_data_old_table[:,3],dtype=float), format='D')\n",
    "c23 = fits.Column(name='selected', array=np.ones(n_lines_old), format='K')\n",
    "c24 = fits.Column(name='blended ', array=np.zeros(n_lines_old), format='K')"
   ]
  },
  {
   "cell_type": "code",
   "execution_count": 51,
   "metadata": {},
   "outputs": [],
   "source": [
    "table_hdu_new = fits.BinTableHDU.from_columns([c1, c2, c3, c4, c5, c6, \n",
    "                                               c7, c8, c9, c10, c11, c12,\n",
    "                                               c13, c14, c15, c16, c17, c18,\n",
    "                                               c19, c20, c21, c22, c23, c24])"
   ]
  },
  {
   "cell_type": "code",
   "execution_count": 53,
   "metadata": {},
   "outputs": [],
   "source": [
    "hdu_new = fits.HDUList([ids_fits[0], table_hdu_new])"
   ]
  },
  {
   "cell_type": "code",
   "execution_count": 54,
   "metadata": {},
   "outputs": [],
   "source": [
    "hdu_new.writeto(rootdir + 'PG1522+101_HIRES_pabs0_identifications.fits')"
   ]
  },
  {
   "cell_type": "code",
   "execution_count": null,
   "metadata": {},
   "outputs": [],
   "source": []
  }
 ],
 "metadata": {
  "kernelspec": {
   "display_name": "Python 3 (ipykernel)",
   "language": "python",
   "name": "python3"
  },
  "language_info": {
   "codemirror_mode": {
    "name": "ipython",
    "version": 3
   },
   "file_extension": ".py",
   "mimetype": "text/x-python",
   "name": "python",
   "nbconvert_exporter": "python",
   "pygments_lexer": "ipython3",
   "version": "3.9.13"
  }
 },
 "nbformat": 4,
 "nbformat_minor": 4
}
