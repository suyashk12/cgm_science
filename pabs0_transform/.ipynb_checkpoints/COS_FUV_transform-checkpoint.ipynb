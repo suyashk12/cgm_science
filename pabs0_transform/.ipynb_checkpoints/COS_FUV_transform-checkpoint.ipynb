{
 "cells": [
  {
   "cell_type": "code",
   "execution_count": 1,
   "metadata": {},
   "outputs": [],
   "source": [
    "from astropy.io import fits\n",
    "import numpy as np\n",
    "import pandas as pd"
   ]
  },
  {
   "cell_type": "markdown",
   "metadata": {},
   "source": [
    "Zhijie's stitch"
   ]
  },
  {
   "cell_type": "code",
   "execution_count": 2,
   "metadata": {},
   "outputs": [],
   "source": [
    "rootdir = '/Users/thepoetoftwilight/Documents/CUBS/Data/PG1522+101/FUV/'"
   ]
  },
  {
   "cell_type": "code",
   "execution_count": 3,
   "metadata": {},
   "outputs": [],
   "source": [
    "fits_ZQ = fits.open(rootdir + 'PG1522_COS_FUV_wavcal2022.ZQ.fits')"
   ]
  },
  {
   "cell_type": "code",
   "execution_count": 4,
   "metadata": {},
   "outputs": [
    {
     "name": "stdout",
     "output_type": "stream",
     "text": [
      "Filename: /Users/thepoetoftwilight/Documents/CUBS/Data/PG1522+101/FUV/PG1522_COS_FUV_wavcal2022.ZQ.fits\n",
      "No.    Name      Ver    Type      Cards   Dimensions   Format\n",
      "  0  PRIMARY       1 PrimaryHDU       4   ()      \n",
      "  1                1 BinTableHDU     14   58088R x 3C   [D, D, D]   \n"
     ]
    }
   ],
   "source": [
    "fits_ZQ.info()"
   ]
  },
  {
   "cell_type": "code",
   "execution_count": 5,
   "metadata": {},
   "outputs": [
    {
     "data": {
      "text/plain": [
       "XTENSION= 'BINTABLE'           / binary table extension                         \n",
       "BITPIX  =                    8 / array data type                                \n",
       "NAXIS   =                    2 / number of array dimensions                     \n",
       "NAXIS1  =                   24 / length of dimension 1                          \n",
       "NAXIS2  =                58088 / length of dimension 2                          \n",
       "PCOUNT  =                    0 / number of group parameters                     \n",
       "GCOUNT  =                    1 / number of groups                               \n",
       "TFIELDS =                    3 / number of table fields                         \n",
       "TTYPE1  = 'WAVE    '                                                            \n",
       "TFORM1  = 'D       '                                                            \n",
       "TTYPE2  = 'FLUX    '                                                            \n",
       "TFORM2  = 'D       '                                                            \n",
       "TTYPE3  = 'ERROR   '                                                            \n",
       "TFORM3  = 'D       '                                                            "
      ]
     },
     "execution_count": 5,
     "metadata": {},
     "output_type": "execute_result"
    }
   ],
   "source": [
    "fits_ZQ[1].header"
   ]
  },
  {
   "cell_type": "code",
   "execution_count": 6,
   "metadata": {},
   "outputs": [],
   "source": [
    "spec_data_zq = pd.DataFrame(fits_ZQ[1].data).to_numpy()"
   ]
  },
  {
   "cell_type": "code",
   "execution_count": 7,
   "metadata": {},
   "outputs": [
    {
     "data": {
      "text/plain": [
       "(58088, 3)"
      ]
     },
     "execution_count": 7,
     "metadata": {},
     "output_type": "execute_result"
    }
   ],
   "source": [
    "spec_data_zq.shape"
   ]
  },
  {
   "cell_type": "markdown",
   "metadata": {},
   "source": [
    "Suyash's stitch with Hsiao-Wen's identifications"
   ]
  },
  {
   "cell_type": "code",
   "execution_count": 8,
   "metadata": {},
   "outputs": [],
   "source": [
    "fits_sk = fits.open(rootdir + 'PG1522+101_FUV_wavecal_new.fits')"
   ]
  },
  {
   "cell_type": "code",
   "execution_count": 9,
   "metadata": {},
   "outputs": [
    {
     "name": "stdout",
     "output_type": "stream",
     "text": [
      "Filename: /Users/thepoetoftwilight/Documents/CUBS/Data/PG1522+101/FUV/PG1522+101_FUV_wavecal_new.fits\n",
      "No.    Name      Ver    Type      Cards   Dimensions   Format\n",
      "  0  PRIMARY       1 PrimaryHDU       4   ()      \n",
      "  1                1 BinTableHDU     30   57866R x 11C   [D, D, D, D, D, D, D, D, D, K, D]   \n"
     ]
    }
   ],
   "source": [
    "fits_sk.info()"
   ]
  },
  {
   "cell_type": "code",
   "execution_count": 10,
   "metadata": {},
   "outputs": [
    {
     "data": {
      "text/plain": [
       "XTENSION= 'BINTABLE'           / binary table extension                         \n",
       "BITPIX  =                    8 / array data type                                \n",
       "NAXIS   =                    2 / number of array dimensions                     \n",
       "NAXIS1  =                   88 / length of dimension 1                          \n",
       "NAXIS2  =                57866 / length of dimension 2                          \n",
       "PCOUNT  =                    0 / number of group parameters                     \n",
       "GCOUNT  =                    1 / number of groups                               \n",
       "TFIELDS =                   11 / number of table fields                         \n",
       "TTYPE1  = 'wave    '                                                            \n",
       "TFORM1  = 'D       '                                                            \n",
       "TTYPE2  = 'flux    '                                                            \n",
       "TFORM2  = 'D       '                                                            \n",
       "TTYPE3  = 'error   '                                                            \n",
       "TFORM3  = 'D       '                                                            \n",
       "TTYPE4  = 'error_u '                                                            \n",
       "TFORM4  = 'D       '                                                            \n",
       "TTYPE5  = 'error_d '                                                            \n",
       "TFORM5  = 'D       '                                                            \n",
       "TTYPE6  = 'counts_total'                                                        \n",
       "TFORM6  = 'D       '                                                            \n",
       "TTYPE7  = 'counts_net'                                                          \n",
       "TFORM7  = 'D       '                                                            \n",
       "TTYPE8  = 'npix    '                                                            \n",
       "TFORM8  = 'D       '                                                            \n",
       "TTYPE9  = 'exptime '                                                            \n",
       "TFORM9  = 'D       '                                                            \n",
       "TTYPE10 = 'mask    '                                                            \n",
       "TFORM10 = 'K       '                                                            \n",
       "TTYPE11 = 'continuum'                                                           \n",
       "TFORM11 = 'D       '                                                            "
      ]
     },
     "execution_count": 10,
     "metadata": {},
     "output_type": "execute_result"
    }
   ],
   "source": [
    "fits_sk[1].header"
   ]
  },
  {
   "cell_type": "code",
   "execution_count": 11,
   "metadata": {},
   "outputs": [],
   "source": [
    "spec_data_sk = pd.DataFrame(fits_sk[1].data).to_numpy()"
   ]
  },
  {
   "cell_type": "code",
   "execution_count": 12,
   "metadata": {},
   "outputs": [
    {
     "data": {
      "text/plain": [
       "(57866, 11)"
      ]
     },
     "execution_count": 12,
     "metadata": {},
     "output_type": "execute_result"
    }
   ],
   "source": [
    "spec_data_sk.shape"
   ]
  },
  {
   "cell_type": "markdown",
   "metadata": {},
   "source": [
    "Interpolate Zhijie's fluxes and errors to Suyash's wavelength grid"
   ]
  },
  {
   "cell_type": "code",
   "execution_count": 13,
   "metadata": {},
   "outputs": [],
   "source": [
    "#spec_data_sk[:,1] = np.interp(spec_data_sk[:,0], spec_data_zq[:,0], spec_data_zq[:,1])\n",
    "#spec_data_sk[:,2] = np.sqrt(np.interp(spec_data_sk[:,0], spec_data_zq[:,0], spec_data_zq[:,2]**2))"
   ]
  },
  {
   "cell_type": "markdown",
   "metadata": {},
   "source": [
    "Write out Suyash's stitch with Zhijie's wavelength, flux, and errors"
   ]
  },
  {
   "cell_type": "code",
   "execution_count": 14,
   "metadata": {},
   "outputs": [],
   "source": [
    "c1 = fits.Column(name='wave    ', array=spec_data_zq[:,0], format='D')\n",
    "c2 = fits.Column(name='flux    ', array=spec_data_zq[:,1], format='D')\n",
    "c3 = fits.Column(name='error   ', array=spec_data_zq[:,2], format='D')\n",
    "c4 = fits.Column(name='error_u ', array=spec_data_sk[:,3], format='D')\n",
    "c5 = fits.Column(name='error_d ', array=spec_data_sk[:,4], format='D')\n",
    "c6 = fits.Column(name='counts_total', array=spec_data_sk[:,5], format='D')\n",
    "c7 = fits.Column(name='counts_net', array=spec_data_sk[:,6], format='D')\n",
    "c8 = fits.Column(name='npix    ', array=spec_data_sk[:,7], format='D')\n",
    "c9 = fits.Column(name='exptime ', array=spec_data_sk[:,8], format='D')\n",
    "c10 = fits.Column(name='mask    ', array=spec_data_sk[:,9], format='K')\n",
    "c11 = fits.Column(name='continuum', array=spec_data_sk[:,10], format='D')"
   ]
  },
  {
   "cell_type": "code",
   "execution_count": 15,
   "metadata": {},
   "outputs": [],
   "source": [
    "table_hdu = fits.BinTableHDU.from_columns([c1, c2, c3, \n",
    "                                           c4, c5, c6, \n",
    "                                           c7, c8, c9, \n",
    "                                           c10, c11])"
   ]
  },
  {
   "cell_type": "code",
   "execution_count": 16,
   "metadata": {},
   "outputs": [],
   "source": [
    "hdu = fits.HDUList([fits_sk[0], table_hdu])"
   ]
  },
  {
   "cell_type": "code",
   "execution_count": 17,
   "metadata": {},
   "outputs": [],
   "source": [
    "hdu.writeto(rootdir +'PG1522+101_FUV_wavecal_new_1.fits')"
   ]
  },
  {
   "cell_type": "code",
   "execution_count": null,
   "metadata": {},
   "outputs": [],
   "source": []
  }
 ],
 "metadata": {
  "kernelspec": {
   "display_name": "Python 3",
   "language": "python",
   "name": "python3"
  },
  "language_info": {
   "codemirror_mode": {
    "name": "ipython",
    "version": 3
   },
   "file_extension": ".py",
   "mimetype": "text/x-python",
   "name": "python",
   "nbconvert_exporter": "python",
   "pygments_lexer": "ipython3",
   "version": "3.8.5"
  }
 },
 "nbformat": 4,
 "nbformat_minor": 4
}
