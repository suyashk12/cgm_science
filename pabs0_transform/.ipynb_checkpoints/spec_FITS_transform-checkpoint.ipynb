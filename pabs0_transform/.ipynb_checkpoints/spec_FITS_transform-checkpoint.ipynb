{
 "cells": [
  {
   "cell_type": "code",
   "execution_count": 1,
   "metadata": {},
   "outputs": [],
   "source": [
    "from astropy.io import fits\n",
    "import numpy as np\n",
    "import pandas as pd"
   ]
  },
  {
   "cell_type": "markdown",
   "metadata": {},
   "source": [
    "J2245 FITS file"
   ]
  },
  {
   "cell_type": "code",
   "execution_count": 2,
   "metadata": {},
   "outputs": [],
   "source": [
    "rootdir = '/Users/thepoetoftwilight/Documents/CUBS/Data/J2245-4931/'"
   ]
  },
  {
   "cell_type": "code",
   "execution_count": 3,
   "metadata": {},
   "outputs": [],
   "source": [
    "fname = rootdir + 'J2245-4931_final_abscal.fits'\n",
    "spec_data = fits.open(fname)"
   ]
  },
  {
   "cell_type": "code",
   "execution_count": 4,
   "metadata": {},
   "outputs": [
    {
     "name": "stdout",
     "output_type": "stream",
     "text": [
      "Filename: /Users/thepoetoftwilight/Documents/CUBS/Data/J2245-4931/J2245-4931_final_abscal.fits\n",
      "No.    Name      Ver    Type      Cards   Dimensions   Format\n",
      "  0  PRIMARY       1 PrimaryHDU       4   ()      \n",
      "  1                1 BinTableHDU     30   65152R x 11C   [D, D, D, D, D, D, D, D, D, K, D]   \n"
     ]
    }
   ],
   "source": [
    "spec_data.info()"
   ]
  },
  {
   "cell_type": "code",
   "execution_count": 5,
   "metadata": {},
   "outputs": [
    {
     "data": {
      "text/plain": [
       "XTENSION= 'BINTABLE'           / binary table extension                         \n",
       "BITPIX  =                    8 / array data type                                \n",
       "NAXIS   =                    2 / number of array dimensions                     \n",
       "NAXIS1  =                   88 / length of dimension 1                          \n",
       "NAXIS2  =                65152 / length of dimension 2                          \n",
       "PCOUNT  =                    0 / number of group parameters                     \n",
       "GCOUNT  =                    1 / number of groups                               \n",
       "TFIELDS =                   11 / number of table fields                         \n",
       "TTYPE1  = 'wave    '                                                            \n",
       "TFORM1  = 'D       '                                                            \n",
       "TTYPE2  = 'flux    '                                                            \n",
       "TFORM2  = 'D       '                                                            \n",
       "TTYPE3  = 'error   '                                                            \n",
       "TFORM3  = 'D       '                                                            \n",
       "TTYPE4  = 'error_u '                                                            \n",
       "TFORM4  = 'D       '                                                            \n",
       "TTYPE5  = 'error_d '                                                            \n",
       "TFORM5  = 'D       '                                                            \n",
       "TTYPE6  = 'counts_total'                                                        \n",
       "TFORM6  = 'D       '                                                            \n",
       "TTYPE7  = 'counts_net'                                                          \n",
       "TFORM7  = 'D       '                                                            \n",
       "TTYPE8  = 'npix    '                                                            \n",
       "TFORM8  = 'D       '                                                            \n",
       "TTYPE9  = 'exptime '                                                            \n",
       "TFORM9  = 'D       '                                                            \n",
       "TTYPE10 = 'mask    '                                                            \n",
       "TFORM10 = 'K       '                                                            \n",
       "TTYPE11 = 'continuum'                                                           \n",
       "TFORM11 = 'D       '                                                            "
      ]
     },
     "execution_count": 5,
     "metadata": {},
     "output_type": "execute_result"
    }
   ],
   "source": [
    "spec_data[1].header"
   ]
  },
  {
   "cell_type": "code",
   "execution_count": 6,
   "metadata": {
    "scrolled": true
   },
   "outputs": [
    {
     "data": {
      "text/plain": [
       "FITS_rec([(1065.87365723, -274.2052002 , 5527.85253906, 10092.69120031,   0.        , 0., -0.04960429, 1., 1156.064, 1, 290.0269979 ),\n",
       "          (1065.88366699, -274.20541382, 5527.85693359, 10092.69880593,   0.        , 0., -0.04960429, 1., 1156.064, 1, 290.08255906),\n",
       "          (1065.89367676, -274.20562744, 5527.86083984, 10092.70641155,   0.        , 0., -0.04960429, 1., 1156.064, 1, 290.13796766),\n",
       "          ...,\n",
       "          (1798.4005127 ,  355.62106323,  243.05323792,   451.54973995, 221.35742172, 2.,  2.06919324, 1., 2485.152, 1, 239.03003795),\n",
       "          (1798.4128418 ,  542.85443115,  297.7003479 ,   499.96809926, 279.75835713, 3.,  3.15838203, 1., 2485.152, 1, 239.04384778),\n",
       "          (1798.42504883,  170.49459839,  121.54924011,   225.81689472, 110.69931211, 2.,  1.98368809, 2., 4970.304, 1, 239.0579774 )],\n",
       "         dtype=(numpy.record, [('wave', '>f8'), ('flux', '>f8'), ('error', '>f8'), ('error_u', '>f8'), ('error_d', '>f8'), ('counts_total', '>f8'), ('counts_net', '>f8'), ('npix', '>f8'), ('exptime', '>f8'), ('mask', '>i8'), ('continuum', '>f8')]))"
      ]
     },
     "execution_count": 6,
     "metadata": {},
     "output_type": "execute_result"
    }
   ],
   "source": [
    "spec_data[1].data"
   ]
  },
  {
   "cell_type": "markdown",
   "metadata": {},
   "source": [
    "LBQS1435-0134 Far-UV FITS file"
   ]
  },
  {
   "cell_type": "code",
   "execution_count": 7,
   "metadata": {},
   "outputs": [],
   "source": [
    "rootdir_1 = '/Users/thepoetoftwilight/Documents/CUBS/Data/LBQS1435-0134/FUV/'"
   ]
  },
  {
   "cell_type": "code",
   "execution_count": 8,
   "metadata": {},
   "outputs": [],
   "source": [
    "fname_1 = rootdir_1 + 'Old/LBQS1435-0134_FUV_wavecal.fits'\n",
    "spec_data_1 = fits.open(fname_1)"
   ]
  },
  {
   "cell_type": "code",
   "execution_count": 9,
   "metadata": {},
   "outputs": [
    {
     "name": "stdout",
     "output_type": "stream",
     "text": [
      "Filename: /Users/thepoetoftwilight/Documents/CUBS/Data/LBQS1435-0134/FUV/Old/LBQS1435-0134_FUV_wavecal.fits\n",
      "No.    Name      Ver    Type      Cards   Dimensions   Format\n",
      "  0  PRIMARY       1 PrimaryHDU       4   ()      \n",
      "  1                1 BinTableHDU     37   57816R x 10C   [E, E, E, J, E, E, E, E, E, D]   \n"
     ]
    }
   ],
   "source": [
    "spec_data_1.info()"
   ]
  },
  {
   "cell_type": "code",
   "execution_count": 10,
   "metadata": {},
   "outputs": [
    {
     "data": {
      "text/plain": [
       "XTENSION= 'BINTABLE'           /Binary table written by MWRFITS v1.12a          \n",
       "BITPIX  =                    8 /Required value                                  \n",
       "NAXIS   =                    2 /Required value                                  \n",
       "NAXIS1  =                   44 /Number of bytes per row                         \n",
       "NAXIS2  =                57816 /Number of rows                                  \n",
       "PCOUNT  =                    0 /Normally 0 (no varying arrays)                  \n",
       "GCOUNT  =                    1 /Required value                                  \n",
       "TFIELDS =                   10 /Number of columns in table                      \n",
       "COMMENT                                                                         \n",
       "COMMENT  *** End of mandatory fields ***                                        \n",
       "COMMENT                                                                         \n",
       "COMMENT                                                                         \n",
       "COMMENT  *** Column names ***                                                   \n",
       "COMMENT                                                                         \n",
       "TTYPE1  = 'WAVE    '           /                                                \n",
       "TTYPE2  = 'FLUX    '           /                                                \n",
       "TTYPE3  = 'ERROR   '           /                                                \n",
       "TTYPE4  = 'MASK    '           /                                                \n",
       "TTYPE5  = 'FLUX_NONORM'        /                                                \n",
       "TTYPE6  = 'ERROR_NONORM'       /                                                \n",
       "TTYPE7  = 'CONTINUUM'          /                                                \n",
       "TTYPE8  = 'MODEL   '           /                                                \n",
       "TTYPE9  = 'FEATURE '           /                                                \n",
       "TTYPE10 = 'FEATURE_REDSHIFT'   /                                                \n",
       "COMMENT                                                                         \n",
       "COMMENT  *** Column formats ***                                                 \n",
       "COMMENT                                                                         \n",
       "TFORM1  = 'E       '           /                                                \n",
       "TFORM2  = 'E       '           /                                                \n",
       "TFORM3  = 'E       '           /                                                \n",
       "TFORM4  = 'J       '           /                                                \n",
       "TFORM5  = 'E       '           /                                                \n",
       "TFORM6  = 'E       '           /                                                \n",
       "TFORM7  = 'E       '           /                                                \n",
       "TFORM8  = 'E       '           /                                                \n",
       "TFORM9  = 'E       '           /                                                \n",
       "TFORM10 = 'D       '           /                                                "
      ]
     },
     "execution_count": 10,
     "metadata": {},
     "output_type": "execute_result"
    }
   ],
   "source": [
    "spec_data_1[1].header"
   ]
  },
  {
   "cell_type": "code",
   "execution_count": 11,
   "metadata": {},
   "outputs": [],
   "source": [
    "spec_data_np_1 = pd.DataFrame(spec_data_1[1].data).to_numpy()"
   ]
  },
  {
   "cell_type": "code",
   "execution_count": 12,
   "metadata": {},
   "outputs": [],
   "source": [
    "c1_1 = fits.Column(name='wave    ', array=spec_data_np_1[:,0], format='D')\n",
    "c2_1 = fits.Column(name='flux    ', array=spec_data_np_1[:,1], format='D')\n",
    "c3_1 = fits.Column(name='error   ', array=spec_data_np_1[:,2], format='D')\n",
    "c4_1 = fits.Column(name='error_u ', array=spec_data_np_1[:,2], format='D')\n",
    "c5_1 = fits.Column(name='error_d ', array=spec_data_np_1[:,2], format='D')\n",
    "c6_1 = fits.Column(name='counts_total', array=np.zeros(spec_data_np_1.shape[0]), format='D')\n",
    "c7_1 = fits.Column(name='counts_net', array=np.zeros(spec_data_np_1.shape[0]), format='D')\n",
    "c8_1 = fits.Column(name='npix    ', array=np.zeros(spec_data_np_1.shape[0]), format='D')\n",
    "c9_1 = fits.Column(name='exptime ', array=np.zeros(spec_data_np_1.shape[0]), format='D')\n",
    "c10_1 = fits.Column(name='mask    ', array=spec_data_np_1[:,3], format='K')\n",
    "c11_1 = fits.Column(name='continuum', array=spec_data_np_1[:,6], format='D')"
   ]
  },
  {
   "cell_type": "code",
   "execution_count": 13,
   "metadata": {},
   "outputs": [],
   "source": [
    "table_hdu_1 = fits.BinTableHDU.from_columns([c1_1, c2_1, c3_1, \n",
    "                                             c4_1, c5_1, c6_1, \n",
    "                                             c7_1, c8_1, c9_1, \n",
    "                                             c10_1, c11_1])"
   ]
  },
  {
   "cell_type": "code",
   "execution_count": 14,
   "metadata": {},
   "outputs": [],
   "source": [
    "hdu_1 = fits.HDUList([spec_data_1[0], table_hdu_1])"
   ]
  },
  {
   "cell_type": "code",
   "execution_count": 15,
   "metadata": {},
   "outputs": [],
   "source": [
    "#hdu_1.writeto(rootdir_1 + 'LBQS1435-0134_FUV_wavecal_pabs0.fits')"
   ]
  },
  {
   "cell_type": "markdown",
   "metadata": {},
   "source": [
    "LBQS1435-0134 Near-UV FITS file"
   ]
  },
  {
   "cell_type": "code",
   "execution_count": 16,
   "metadata": {},
   "outputs": [],
   "source": [
    "rootdir_2 = '/Users/thepoetoftwilight/Documents/CUBS/Data/LBQS1435-0134/G185M/'"
   ]
  },
  {
   "cell_type": "code",
   "execution_count": 17,
   "metadata": {},
   "outputs": [],
   "source": [
    "fname_2 = rootdir_2 + 'Old/LBQS1435-0134_G185M.fits'\n",
    "spec_data_2 = fits.open(fname_2)"
   ]
  },
  {
   "cell_type": "code",
   "execution_count": 18,
   "metadata": {},
   "outputs": [
    {
     "name": "stdout",
     "output_type": "stream",
     "text": [
      "Filename: /Users/thepoetoftwilight/Documents/CUBS/Data/LBQS1435-0134/G185M/Old/LBQS1435-0134_G185M.fits\n",
      "No.    Name      Ver    Type      Cards   Dimensions   Format\n",
      "  0  PRIMARY       1 PrimaryHDU       4   ()      \n",
      "  1                1 BinTableHDU     37   2885R x 10C   [E, E, E, J, E, E, E, E, E, D]   \n"
     ]
    }
   ],
   "source": [
    "spec_data_2.info()"
   ]
  },
  {
   "cell_type": "code",
   "execution_count": 19,
   "metadata": {},
   "outputs": [
    {
     "data": {
      "text/plain": [
       "XTENSION= 'BINTABLE'           /Binary table written by MWRFITS v1.12a          \n",
       "BITPIX  =                    8 /Required value                                  \n",
       "NAXIS   =                    2 /Required value                                  \n",
       "NAXIS1  =                   44 /Number of bytes per row                         \n",
       "NAXIS2  =                 2885 /Number of rows                                  \n",
       "PCOUNT  =                    0 /Normally 0 (no varying arrays)                  \n",
       "GCOUNT  =                    1 /Required value                                  \n",
       "TFIELDS =                   10 /Number of columns in table                      \n",
       "COMMENT                                                                         \n",
       "COMMENT  *** End of mandatory fields ***                                        \n",
       "COMMENT                                                                         \n",
       "COMMENT                                                                         \n",
       "COMMENT  *** Column names ***                                                   \n",
       "COMMENT                                                                         \n",
       "TTYPE1  = 'WAVE    '           /                                                \n",
       "TTYPE2  = 'FLUX    '           /                                                \n",
       "TTYPE3  = 'ERROR   '           /                                                \n",
       "TTYPE4  = 'MASK    '           /                                                \n",
       "TTYPE5  = 'FLUX_NONORM'        /                                                \n",
       "TTYPE6  = 'ERROR_NONORM'       /                                                \n",
       "TTYPE7  = 'CONTINUUM'          /                                                \n",
       "TTYPE8  = 'MODEL   '           /                                                \n",
       "TTYPE9  = 'FEATURE '           /                                                \n",
       "TTYPE10 = 'FEATURE_REDSHIFT'   /                                                \n",
       "COMMENT                                                                         \n",
       "COMMENT  *** Column formats ***                                                 \n",
       "COMMENT                                                                         \n",
       "TFORM1  = 'E       '           /                                                \n",
       "TFORM2  = 'E       '           /                                                \n",
       "TFORM3  = 'E       '           /                                                \n",
       "TFORM4  = 'J       '           /                                                \n",
       "TFORM5  = 'E       '           /                                                \n",
       "TFORM6  = 'E       '           /                                                \n",
       "TFORM7  = 'E       '           /                                                \n",
       "TFORM8  = 'E       '           /                                                \n",
       "TFORM9  = 'E       '           /                                                \n",
       "TFORM10 = 'D       '           /                                                "
      ]
     },
     "execution_count": 19,
     "metadata": {},
     "output_type": "execute_result"
    }
   ],
   "source": [
    "spec_data_2[1].header"
   ]
  },
  {
   "cell_type": "code",
   "execution_count": 20,
   "metadata": {},
   "outputs": [],
   "source": [
    "spec_data_np_2 = pd.DataFrame(spec_data_2[1].data).to_numpy()"
   ]
  },
  {
   "cell_type": "code",
   "execution_count": 21,
   "metadata": {},
   "outputs": [],
   "source": [
    "c1_2 = fits.Column(name='wave    ', array=spec_data_np_2[:,0], format='D')\n",
    "c2_2 = fits.Column(name='flux    ', array=spec_data_np_2[:,1], format='D')\n",
    "c3_2 = fits.Column(name='error   ', array=spec_data_np_2[:,2], format='D')\n",
    "c4_2 = fits.Column(name='error_u ', array=spec_data_np_2[:,2], format='D')\n",
    "c5_2 = fits.Column(name='error_d ', array=spec_data_np_2[:,2], format='D')\n",
    "c6_2 = fits.Column(name='counts_total', array=np.zeros(spec_data_np_2.shape[0]), format='D')\n",
    "c7_2 = fits.Column(name='counts_net', array=np.zeros(spec_data_np_2.shape[0]), format='D')\n",
    "c8_2 = fits.Column(name='npix    ', array=np.zeros(spec_data_np_2.shape[0]), format='D')\n",
    "c9_2 = fits.Column(name='exptime ', array=np.zeros(spec_data_np_2.shape[0]), format='D')\n",
    "c10_2 = fits.Column(name='mask    ', array=spec_data_np_2[:,3], format='K')\n",
    "c11_2 = fits.Column(name='continuum', array=spec_data_np_2[:,6], format='D')"
   ]
  },
  {
   "cell_type": "code",
   "execution_count": 22,
   "metadata": {},
   "outputs": [],
   "source": [
    "table_hdu_2 = fits.BinTableHDU.from_columns([c1_2, c2_2, c3_2, \n",
    "                                             c4_2, c5_2, c6_2, \n",
    "                                             c7_2, c8_2, c9_2, \n",
    "                                             c10_2, c11_2])"
   ]
  },
  {
   "cell_type": "code",
   "execution_count": 23,
   "metadata": {},
   "outputs": [],
   "source": [
    "hdu_2 = fits.HDUList([spec_data_2[0], table_hdu_2])"
   ]
  },
  {
   "cell_type": "code",
   "execution_count": 24,
   "metadata": {},
   "outputs": [],
   "source": [
    "#hdu_2.writeto(rootdir_2 + 'LBQS1435-0134_G185M_pabs0.fits')"
   ]
  },
  {
   "cell_type": "markdown",
   "metadata": {},
   "source": [
    "PG1522+101 Far-UV FITS file"
   ]
  },
  {
   "cell_type": "code",
   "execution_count": 2,
   "metadata": {},
   "outputs": [],
   "source": [
    "rootdir_1 = '/Users/thepoetoftwilight/Documents/CUBS/Data/PG1522+101/FUV/'"
   ]
  },
  {
   "cell_type": "code",
   "execution_count": 3,
   "metadata": {},
   "outputs": [],
   "source": [
    "fname_1 = rootdir_1 + 'Old/PG1522+101_FUV_wavecal.fits'\n",
    "spec_data_1 = fits.open(fname_1)"
   ]
  },
  {
   "cell_type": "code",
   "execution_count": 4,
   "metadata": {},
   "outputs": [
    {
     "name": "stdout",
     "output_type": "stream",
     "text": [
      "Filename: /Users/thepoetoftwilight/Documents/CUBS/Data/PG1522+101/FUV/Old/PG1522+101_FUV_wavecal.fits\n",
      "No.    Name      Ver    Type      Cards   Dimensions   Format\n",
      "  0  PRIMARY       1 PrimaryHDU       4   ()      \n",
      "  1                1 BinTableHDU     37   57866R x 10C   [E, E, E, J, E, E, E, E, E, D]   \n"
     ]
    }
   ],
   "source": [
    "spec_data_1.info()"
   ]
  },
  {
   "cell_type": "code",
   "execution_count": 5,
   "metadata": {},
   "outputs": [
    {
     "data": {
      "text/plain": [
       "XTENSION= 'BINTABLE'           /Binary table written by MWRFITS v1.12a          \n",
       "BITPIX  =                    8 /Required value                                  \n",
       "NAXIS   =                    2 /Required value                                  \n",
       "NAXIS1  =                   44 /Number of bytes per row                         \n",
       "NAXIS2  =                57866 /Number of rows                                  \n",
       "PCOUNT  =                    0 /Normally 0 (no varying arrays)                  \n",
       "GCOUNT  =                    1 /Required value                                  \n",
       "TFIELDS =                   10 /Number of columns in table                      \n",
       "COMMENT                                                                         \n",
       "COMMENT  *** End of mandatory fields ***                                        \n",
       "COMMENT                                                                         \n",
       "COMMENT                                                                         \n",
       "COMMENT  *** Column names ***                                                   \n",
       "COMMENT                                                                         \n",
       "TTYPE1  = 'WAVE    '           /                                                \n",
       "TTYPE2  = 'FLUX    '           /                                                \n",
       "TTYPE3  = 'ERROR   '           /                                                \n",
       "TTYPE4  = 'MASK    '           /                                                \n",
       "TTYPE5  = 'FLUX_NONORM'        /                                                \n",
       "TTYPE6  = 'ERROR_NONORM'       /                                                \n",
       "TTYPE7  = 'CONTINUUM'          /                                                \n",
       "TTYPE8  = 'MODEL   '           /                                                \n",
       "TTYPE9  = 'FEATURE '           /                                                \n",
       "TTYPE10 = 'FEATURE_REDSHIFT'   /                                                \n",
       "COMMENT                                                                         \n",
       "COMMENT  *** Column formats ***                                                 \n",
       "COMMENT                                                                         \n",
       "TFORM1  = 'E       '           /                                                \n",
       "TFORM2  = 'E       '           /                                                \n",
       "TFORM3  = 'E       '           /                                                \n",
       "TFORM4  = 'J       '           /                                                \n",
       "TFORM5  = 'E       '           /                                                \n",
       "TFORM6  = 'E       '           /                                                \n",
       "TFORM7  = 'E       '           /                                                \n",
       "TFORM8  = 'E       '           /                                                \n",
       "TFORM9  = 'E       '           /                                                \n",
       "TFORM10 = 'D       '           /                                                "
      ]
     },
     "execution_count": 5,
     "metadata": {},
     "output_type": "execute_result"
    }
   ],
   "source": [
    "spec_data_1[1].header"
   ]
  },
  {
   "cell_type": "code",
   "execution_count": 6,
   "metadata": {},
   "outputs": [],
   "source": [
    "spec_data_np_1 = pd.DataFrame(spec_data_1[1].data).to_numpy()"
   ]
  },
  {
   "cell_type": "code",
   "execution_count": 7,
   "metadata": {},
   "outputs": [],
   "source": [
    "c1_1 = fits.Column(name='wave    ', array=spec_data_np_1[:,0], format='D')\n",
    "c2_1 = fits.Column(name='flux    ', array=spec_data_np_1[:,1], format='D')\n",
    "c3_1 = fits.Column(name='error   ', array=spec_data_np_1[:,2], format='D')\n",
    "c4_1 = fits.Column(name='error_u ', array=spec_data_np_1[:,2], format='D')\n",
    "c5_1 = fits.Column(name='error_d ', array=spec_data_np_1[:,2], format='D')\n",
    "c6_1 = fits.Column(name='counts_total', array=np.zeros(spec_data_np_1.shape[0]), format='D')\n",
    "c7_1 = fits.Column(name='counts_net', array=np.zeros(spec_data_np_1.shape[0]), format='D')\n",
    "c8_1 = fits.Column(name='npix    ', array=np.zeros(spec_data_np_1.shape[0]), format='D')\n",
    "c9_1 = fits.Column(name='exptime ', array=np.zeros(spec_data_np_1.shape[0]), format='D')\n",
    "c10_1 = fits.Column(name='mask    ', array=spec_data_np_1[:,3], format='K')\n",
    "c11_1 = fits.Column(name='continuum', array=spec_data_np_1[:,6], format='D')"
   ]
  },
  {
   "cell_type": "code",
   "execution_count": 8,
   "metadata": {},
   "outputs": [],
   "source": [
    "table_hdu_1 = fits.BinTableHDU.from_columns([c1_1, c2_1, c3_1, \n",
    "                                             c4_1, c5_1, c6_1, \n",
    "                                             c7_1, c8_1, c9_1, \n",
    "                                             c10_1, c11_1])"
   ]
  },
  {
   "cell_type": "code",
   "execution_count": 9,
   "metadata": {},
   "outputs": [],
   "source": [
    "hdu_1 = fits.HDUList([spec_data_1[0], table_hdu_1])"
   ]
  },
  {
   "cell_type": "code",
   "execution_count": 13,
   "metadata": {},
   "outputs": [
    {
     "name": "stdout",
     "output_type": "stream",
     "text": [
      "Filename: (No file associated with this HDUList)\n",
      "No.    Name      Ver    Type      Cards   Dimensions   Format\n",
      "  0  PRIMARY       1 PrimaryHDU       4   ()      \n",
      "  1                1 BinTableHDU     30   57866R x 11C   ['D', 'D', 'D', 'D', 'D', 'D', 'D', 'D', 'D', 'K', 'D']   \n"
     ]
    }
   ],
   "source": [
    "hdu_1.info()"
   ]
  },
  {
   "cell_type": "code",
   "execution_count": 10,
   "metadata": {},
   "outputs": [],
   "source": [
    "hdu_1.writeto(rootdir_1 + 'PG1522+101_FUV_wavecal_pabs0.fits')"
   ]
  },
  {
   "cell_type": "code",
   "execution_count": null,
   "metadata": {},
   "outputs": [],
   "source": []
  }
 ],
 "metadata": {
  "kernelspec": {
   "display_name": "Python 3",
   "language": "python",
   "name": "python3"
  },
  "language_info": {
   "codemirror_mode": {
    "name": "ipython",
    "version": 3
   },
   "file_extension": ".py",
   "mimetype": "text/x-python",
   "name": "python",
   "nbconvert_exporter": "python",
   "pygments_lexer": "ipython3",
   "version": "3.8.5"
  }
 },
 "nbformat": 4,
 "nbformat_minor": 4
}
