{
 "cells": [
  {
   "cell_type": "code",
   "execution_count": 1,
   "metadata": {},
   "outputs": [],
   "source": [
    "from astropy.io import fits\n",
    "import numpy as np\n",
    "import pandas as pd"
   ]
  },
  {
   "cell_type": "markdown",
   "metadata": {},
   "source": [
    "CUBS QSO"
   ]
  },
  {
   "cell_type": "code",
   "execution_count": 2,
   "metadata": {},
   "outputs": [],
   "source": [
    "rootdir = '/Users/thepoetoftwilight/Documents/CUBS/Data/J2245-4931/'"
   ]
  },
  {
   "cell_type": "code",
   "execution_count": 3,
   "metadata": {},
   "outputs": [],
   "source": [
    "fname = rootdir + 'J2245-4931_final_abscal_nodes.fits'\n",
    "cont_data = fits.open(fname)"
   ]
  },
  {
   "cell_type": "code",
   "execution_count": 4,
   "metadata": {},
   "outputs": [
    {
     "name": "stdout",
     "output_type": "stream",
     "text": [
      "Filename: /Users/thepoetoftwilight/Documents/CUBS/Data/J2245-4931/J2245-4931_final_abscal_nodes.fits\n",
      "No.    Name      Ver    Type      Cards   Dimensions   Format\n",
      "  0  PRIMARY       1 PrimaryHDU       4   ()      \n",
      "  1                1 BinTableHDU     12   297R x 2C   [D, D]   \n"
     ]
    }
   ],
   "source": [
    "cont_data.info()"
   ]
  },
  {
   "cell_type": "code",
   "execution_count": 5,
   "metadata": {},
   "outputs": [
    {
     "data": {
      "text/plain": [
       "XTENSION= 'BINTABLE'           / binary table extension                         \n",
       "BITPIX  =                    8 / array data type                                \n",
       "NAXIS   =                    2 / number of array dimensions                     \n",
       "NAXIS1  =                   16 / length of dimension 1                          \n",
       "NAXIS2  =                  297 / length of dimension 2                          \n",
       "PCOUNT  =                    0 / number of group parameters                     \n",
       "GCOUNT  =                    1 / number of groups                               \n",
       "TFIELDS =                    2 / number of table fields                         \n",
       "TTYPE1  = 'wave    '                                                            \n",
       "TFORM1  = 'D       '                                                            \n",
       "TTYPE2  = 'continuum'                                                           \n",
       "TFORM2  = 'D       '                                                            "
      ]
     },
     "execution_count": 5,
     "metadata": {},
     "output_type": "execute_result"
    }
   ],
   "source": [
    "cont_data[1].header"
   ]
  },
  {
   "cell_type": "markdown",
   "metadata": {},
   "source": [
    "LBQS1435-0134 FUV"
   ]
  },
  {
   "cell_type": "code",
   "execution_count": 6,
   "metadata": {},
   "outputs": [],
   "source": [
    "rootdir_old = '/Users/thepoetoftwilight/Documents/CUBS/Data/LBQS1435-0134/FUV/'"
   ]
  },
  {
   "cell_type": "code",
   "execution_count": 7,
   "metadata": {},
   "outputs": [],
   "source": [
    "fname_old = rootdir_old + 'Old/' + 'LBQS1435-0134_FUV_wavecal_nodes.org.fits'\n",
    "cont_data_old = fits.open(fname_old)"
   ]
  },
  {
   "cell_type": "code",
   "execution_count": 8,
   "metadata": {},
   "outputs": [
    {
     "name": "stdout",
     "output_type": "stream",
     "text": [
      "Filename: /Users/thepoetoftwilight/Documents/CUBS/Data/LBQS1435-0134/FUV/Old/LBQS1435-0134_FUV_wavecal_nodes.org.fits\n",
      "No.    Name      Ver    Type      Cards   Dimensions   Format\n",
      "  0  PRIMARY       1 PrimaryHDU       4   ()      \n",
      "  1                1 BinTableHDU     31   287R x 7C   [D, D, D, J, D, J, D]   \n"
     ]
    }
   ],
   "source": [
    "cont_data_old.info()"
   ]
  },
  {
   "cell_type": "code",
   "execution_count": 9,
   "metadata": {},
   "outputs": [
    {
     "data": {
      "text/plain": [
       "XTENSION= 'BINTABLE'           /Binary table written by MWRFITS v1.12a          \n",
       "BITPIX  =                    8 /Required value                                  \n",
       "NAXIS   =                    2 /Required value                                  \n",
       "NAXIS1  =                   48 /Number of bytes per row                         \n",
       "NAXIS2  =                  287 /Number of rows                                  \n",
       "PCOUNT  =                    0 /Normally 0 (no varying arrays)                  \n",
       "GCOUNT  =                    1 /Required value                                  \n",
       "TFIELDS =                    7 /Number of columns in table                      \n",
       "COMMENT                                                                         \n",
       "COMMENT  *** End of mandatory fields ***                                        \n",
       "COMMENT                                                                         \n",
       "COMMENT                                                                         \n",
       "COMMENT  *** Column names ***                                                   \n",
       "COMMENT                                                                         \n",
       "TTYPE1  = 'WAVE    '           /                                                \n",
       "TTYPE2  = 'WAVE0   '           /                                                \n",
       "TTYPE3  = 'WAVE1   '           /                                                \n",
       "TTYPE4  = 'ISMANUAL'           /                                                \n",
       "TTYPE5  = 'FLUX    '           /                                                \n",
       "TTYPE6  = 'INUSE   '           /                                                \n",
       "TTYPE7  = 'TENSION '           /                                                \n",
       "COMMENT                                                                         \n",
       "COMMENT  *** Column formats ***                                                 \n",
       "COMMENT                                                                         \n",
       "TFORM1  = 'D       '           /                                                \n",
       "TFORM2  = 'D       '           /                                                \n",
       "TFORM3  = 'D       '           /                                                \n",
       "TFORM4  = 'J       '           /                                                \n",
       "TFORM5  = 'D       '           /                                                \n",
       "TFORM6  = 'J       '           /                                                \n",
       "TFORM7  = 'D       '           /                                                "
      ]
     },
     "execution_count": 9,
     "metadata": {},
     "output_type": "execute_result"
    }
   ],
   "source": [
    "cont_data_old[1].header"
   ]
  },
  {
   "cell_type": "code",
   "execution_count": 10,
   "metadata": {},
   "outputs": [],
   "source": [
    "cont_data_old_table = pd.DataFrame(cont_data_old[1].data).to_numpy()"
   ]
  },
  {
   "cell_type": "code",
   "execution_count": 11,
   "metadata": {},
   "outputs": [],
   "source": [
    "c1 = fits.Column(name='wave    ', array=cont_data_old_table[:,0], format='D')\n",
    "c2 = fits.Column(name='continuum', array=cont_data_old_table[:,4], format='D')"
   ]
  },
  {
   "cell_type": "code",
   "execution_count": 12,
   "metadata": {},
   "outputs": [],
   "source": [
    "table_hdu_new = fits.BinTableHDU.from_columns([c1, c2])"
   ]
  },
  {
   "cell_type": "code",
   "execution_count": 13,
   "metadata": {},
   "outputs": [],
   "source": [
    "hdu_new = fits.HDUList([cont_data[0], table_hdu_new])"
   ]
  },
  {
   "cell_type": "code",
   "execution_count": 15,
   "metadata": {},
   "outputs": [],
   "source": [
    "#hdu_new.writeto(rootdir_old + 'LBQS1435-0134_FUV_wavecal_pabs0_nodes.fits')"
   ]
  },
  {
   "cell_type": "markdown",
   "metadata": {},
   "source": [
    "PG1522+101 FUV"
   ]
  },
  {
   "cell_type": "code",
   "execution_count": 18,
   "metadata": {},
   "outputs": [],
   "source": [
    "rootdir_old = '/Users/thepoetoftwilight/Documents/CUBS/Data/PG1522+101/FUV/'"
   ]
  },
  {
   "cell_type": "code",
   "execution_count": 19,
   "metadata": {},
   "outputs": [],
   "source": [
    "fname_old = rootdir_old + 'Old/' + 'PG1522+101_FUV_wavecal_nodes.fits'\n",
    "cont_data_old = fits.open(fname_old)"
   ]
  },
  {
   "cell_type": "code",
   "execution_count": 20,
   "metadata": {},
   "outputs": [
    {
     "name": "stdout",
     "output_type": "stream",
     "text": [
      "Filename: /Users/thepoetoftwilight/Documents/CUBS/Data/PG1522+101/FUV/Old/PG1522+101_FUV_wavecal_nodes.fits\n",
      "No.    Name      Ver    Type      Cards   Dimensions   Format\n",
      "  0  PRIMARY       1 PrimaryHDU       4   ()      \n",
      "  1                1 BinTableHDU     31   274R x 7C   [D, D, D, J, D, J, D]   \n"
     ]
    }
   ],
   "source": [
    "cont_data_old.info()"
   ]
  },
  {
   "cell_type": "code",
   "execution_count": 21,
   "metadata": {},
   "outputs": [
    {
     "data": {
      "text/plain": [
       "XTENSION= 'BINTABLE'           /Binary table written by MWRFITS v1.12a          \n",
       "BITPIX  =                    8 /Required value                                  \n",
       "NAXIS   =                    2 /Required value                                  \n",
       "NAXIS1  =                   48 /Number of bytes per row                         \n",
       "NAXIS2  =                  274 /Number of rows                                  \n",
       "PCOUNT  =                    0 /Normally 0 (no varying arrays)                  \n",
       "GCOUNT  =                    1 /Required value                                  \n",
       "TFIELDS =                    7 /Number of columns in table                      \n",
       "COMMENT                                                                         \n",
       "COMMENT  *** End of mandatory fields ***                                        \n",
       "COMMENT                                                                         \n",
       "COMMENT                                                                         \n",
       "COMMENT  *** Column names ***                                                   \n",
       "COMMENT                                                                         \n",
       "TTYPE1  = 'WAVE    '           /                                                \n",
       "TTYPE2  = 'WAVE0   '           /                                                \n",
       "TTYPE3  = 'WAVE1   '           /                                                \n",
       "TTYPE4  = 'ISMANUAL'           /                                                \n",
       "TTYPE5  = 'FLUX    '           /                                                \n",
       "TTYPE6  = 'INUSE   '           /                                                \n",
       "TTYPE7  = 'TENSION '           /                                                \n",
       "COMMENT                                                                         \n",
       "COMMENT  *** Column formats ***                                                 \n",
       "COMMENT                                                                         \n",
       "TFORM1  = 'D       '           /                                                \n",
       "TFORM2  = 'D       '           /                                                \n",
       "TFORM3  = 'D       '           /                                                \n",
       "TFORM4  = 'J       '           /                                                \n",
       "TFORM5  = 'D       '           /                                                \n",
       "TFORM6  = 'J       '           /                                                \n",
       "TFORM7  = 'D       '           /                                                "
      ]
     },
     "execution_count": 21,
     "metadata": {},
     "output_type": "execute_result"
    }
   ],
   "source": [
    "cont_data_old[1].header"
   ]
  },
  {
   "cell_type": "code",
   "execution_count": 22,
   "metadata": {},
   "outputs": [],
   "source": [
    "cont_data_old_table = pd.DataFrame(cont_data_old[1].data).to_numpy()"
   ]
  },
  {
   "cell_type": "code",
   "execution_count": 23,
   "metadata": {},
   "outputs": [],
   "source": [
    "c1 = fits.Column(name='wave    ', array=cont_data_old_table[:,0], format='D')\n",
    "c2 = fits.Column(name='continuum', array=cont_data_old_table[:,4], format='D')"
   ]
  },
  {
   "cell_type": "code",
   "execution_count": 24,
   "metadata": {},
   "outputs": [],
   "source": [
    "table_hdu_new = fits.BinTableHDU.from_columns([c1, c2])"
   ]
  },
  {
   "cell_type": "code",
   "execution_count": 13,
   "metadata": {},
   "outputs": [],
   "source": [
    "hdu_new = fits.HDUList([cont_data[0], table_hdu_new])"
   ]
  },
  {
   "cell_type": "code",
   "execution_count": 26,
   "metadata": {},
   "outputs": [],
   "source": [
    "hdu_new.writeto(rootdir_old + 'PG1522+101_FUV_wavecal_pabs0_nodes.fits')"
   ]
  },
  {
   "cell_type": "code",
   "execution_count": null,
   "metadata": {},
   "outputs": [],
   "source": []
  }
 ],
 "metadata": {
  "kernelspec": {
   "display_name": "Python 3 (ipykernel)",
   "language": "python",
   "name": "python3"
  },
  "language_info": {
   "codemirror_mode": {
    "name": "ipython",
    "version": 3
   },
   "file_extension": ".py",
   "mimetype": "text/x-python",
   "name": "python",
   "nbconvert_exporter": "python",
   "pygments_lexer": "ipython3",
   "version": "3.9.13"
  }
 },
 "nbformat": 4,
 "nbformat_minor": 4
}
