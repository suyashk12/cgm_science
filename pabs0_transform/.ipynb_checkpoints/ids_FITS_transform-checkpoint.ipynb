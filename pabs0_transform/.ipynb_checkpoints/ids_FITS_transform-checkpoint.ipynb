{
 "cells": [
  {
   "cell_type": "code",
   "execution_count": 42,
   "metadata": {},
   "outputs": [],
   "source": [
    "from astropy.io import fits\n",
    "import numpy as np\n",
    "import pandas as pd\n",
    "import matplotlib.pyplot as plt"
   ]
  },
  {
   "cell_type": "markdown",
   "metadata": {},
   "source": [
    "Test the technique on a CUBS QSO line"
   ]
  },
  {
   "cell_type": "code",
   "execution_count": 43,
   "metadata": {},
   "outputs": [],
   "source": [
    "rootdir = '/Users/thepoetoftwilight/Documents/CUBS/Data/J2245-4931/'"
   ]
  },
  {
   "cell_type": "code",
   "execution_count": 44,
   "metadata": {},
   "outputs": [],
   "source": [
    "fname = rootdir + 'J2245-4931_final_abscal_identifications.fits'\n",
    "ids_data = fits.open(fname)"
   ]
  },
  {
   "cell_type": "code",
   "execution_count": 45,
   "metadata": {},
   "outputs": [
    {
     "name": "stdout",
     "output_type": "stream",
     "text": [
      "Filename: /Users/thepoetoftwilight/Documents/CUBS/Data/J2245-4931/J2245-4931_final_abscal_identifications.fits\n",
      "No.    Name      Ver    Type      Cards   Dimensions   Format\n",
      "  0  PRIMARY       1 PrimaryHDU       4   ()      \n",
      "  1                1 BinTableHDU     56   164R x 24C   [10A, L, K, D, D, D, D, D, D, D, D, D, D, D, D, D, D, D, D, D, K, D, K, K]   \n"
     ]
    }
   ],
   "source": [
    "ids_data.info()"
   ]
  },
  {
   "cell_type": "code",
   "execution_count": 46,
   "metadata": {
    "scrolled": false
   },
   "outputs": [
    {
     "data": {
      "text/plain": [
       "XTENSION= 'BINTABLE'           / binary table extension                         \n",
       "BITPIX  =                    8 / array data type                                \n",
       "NAXIS   =                    2 / number of array dimensions                     \n",
       "NAXIS1  =                  187 / length of dimension 1                          \n",
       "NAXIS2  =                  164 / length of dimension 2                          \n",
       "PCOUNT  =                    0 / number of group parameters                     \n",
       "GCOUNT  =                    1 / number of groups                               \n",
       "TFIELDS =                   24 / number of table fields                         \n",
       "TTYPE1  = 'ion     '                                                            \n",
       "TFORM1  = '10A     '                                                            \n",
       "TTYPE2  = 'draw    '                                                            \n",
       "TFORM2  = 'L       '                                                            \n",
       "TTYPE3  = 'system_id'                                                           \n",
       "TFORM3  = 'K       '                                                            \n",
       "TTYPE4  = 'wave_r  '                                                            \n",
       "TFORM4  = 'D       '                                                            \n",
       "TTYPE5  = 'z       '                                                            \n",
       "TFORM5  = 'D       '                                                            \n",
       "TTYPE6  = 'zErr    '                                                            \n",
       "TFORM6  = 'D       '                                                            \n",
       "TTYPE7  = 'wave_o  '                                                            \n",
       "TFORM7  = 'D       '                                                            \n",
       "TTYPE8  = 'Wr      '                                                            \n",
       "TFORM8  = 'D       '                                                            \n",
       "TTYPE9  = 'WrErr   '                                                            \n",
       "TFORM9  = 'D       '                                                            \n",
       "TTYPE10 = 'v_min   '                                                            \n",
       "TFORM10 = 'D       '                                                            \n",
       "TTYPE11 = 'v_max   '                                                            \n",
       "TFORM11 = 'D       '                                                            \n",
       "TTYPE12 = 'logAODN '                                                            \n",
       "TFORM12 = 'D       '                                                            \n",
       "TTYPE13 = 'logAODNerr'                                                          \n",
       "TFORM13 = 'D       '                                                            \n",
       "TTYPE14 = 'wave_b0 '                                                            \n",
       "TFORM14 = 'D       '                                                            \n",
       "TTYPE15 = 'wave_b1 '                                                            \n",
       "TFORM15 = 'D       '                                                            \n",
       "TTYPE16 = 'dv90    '                                                            \n",
       "TFORM16 = 'D       '                                                            \n",
       "TTYPE17 = 'logN    '                                                            \n",
       "TFORM17 = 'D       '                                                            \n",
       "TTYPE18 = 'logNerr '                                                            \n",
       "TFORM18 = 'D       '                                                            \n",
       "TTYPE19 = 'b       '                                                            \n",
       "TFORM19 = 'D       '                                                            \n",
       "TTYPE20 = 'bErr    '                                                            \n",
       "TFORM20 = 'D       '                                                            \n",
       "TTYPE21 = 'uncertain'                                                           \n",
       "TFORM21 = 'K       '                                                            \n",
       "TTYPE22 = 'f       '                                                            \n",
       "TFORM22 = 'D       '                                                            \n",
       "TTYPE23 = 'selected'                                                            \n",
       "TFORM23 = 'K       '                                                            \n",
       "TTYPE24 = 'blended '                                                            \n",
       "TFORM24 = 'K       '                                                            "
      ]
     },
     "execution_count": 46,
     "metadata": {},
     "output_type": "execute_result"
    }
   ],
   "source": [
    "ids_data[1].header"
   ]
  },
  {
   "cell_type": "code",
   "execution_count": 47,
   "metadata": {},
   "outputs": [
    {
     "data": {
      "text/plain": [
       "dtype((numpy.record, [('ion', 'S10'), ('draw', 'i1'), ('system_id', '>i8'), ('wave_r', '>f8'), ('z', '>f8'), ('zErr', '>f8'), ('wave_o', '>f8'), ('Wr', '>f8'), ('WrErr', '>f8'), ('v_min', '>f8'), ('v_max', '>f8'), ('logAODN', '>f8'), ('logAODNerr', '>f8'), ('wave_b0', '>f8'), ('wave_b1', '>f8'), ('dv90', '>f8'), ('logN', '>f8'), ('logNerr', '>f8'), ('b', '>f8'), ('bErr', '>f8'), ('uncertain', '>i8'), ('f', '>f8'), ('selected', '>i8'), ('blended', '>i8')]))"
      ]
     },
     "execution_count": 47,
     "metadata": {},
     "output_type": "execute_result"
    }
   ],
   "source": [
    "ids_data[1].data.dtype"
   ]
  },
  {
   "cell_type": "code",
   "execution_count": 48,
   "metadata": {},
   "outputs": [],
   "source": [
    "ids_data_table = pd.DataFrame(ids_data[1].data).to_numpy()"
   ]
  },
  {
   "cell_type": "code",
   "execution_count": 49,
   "metadata": {},
   "outputs": [
    {
     "data": {
      "text/plain": [
       "array(['HI', True, 22, 1025.7223, 0.23725799515123525, 0.0,\n",
       "       1269.0831164799138, 0.0, 0.0, 0.0, 0.0, 0.0, 0.0, 0.0, 0.0, 0.0,\n",
       "       0.0, 0.0, 0.0, 0.0, 0, 0.07912, 1, 0], dtype=object)"
      ]
     },
     "execution_count": 49,
     "metadata": {},
     "output_type": "execute_result"
    }
   ],
   "source": [
    "ids_data_table[0]"
   ]
  },
  {
   "cell_type": "code",
   "execution_count": 50,
   "metadata": {},
   "outputs": [],
   "source": [
    "redshifts = ids_data_table[:,4]"
   ]
  },
  {
   "cell_type": "code",
   "execution_count": 51,
   "metadata": {},
   "outputs": [
    {
     "data": {
      "text/plain": [
       "(array([39.,  0.,  1.,  1.,  2.,  5.,  0., 14.,  4.,  0.,  7., 26., 35.,\n",
       "         0.,  0.,  0.,  0.,  0., 15., 15.]),\n",
       " array([3e-05, 0.04997396787937032, 0.09991793575874064,\n",
       "        0.14986190363811094, 0.19980587151748128, 0.2497498393968516,\n",
       "        0.29969380727622186, 0.3496377751555922, 0.3995817430349625,\n",
       "        0.44952571091433285, 0.4994696787937032, 0.5494136466730735,\n",
       "        0.5993576145524437, 0.6493015824318141, 0.6992455503111844,\n",
       "        0.7491895181905548, 0.7991334860699251, 0.8490774539492953,\n",
       "        0.8990214218286657, 0.948965389708036, 0.9989093575874064],\n",
       "       dtype=object),\n",
       " <BarContainer object of 20 artists>)"
      ]
     },
     "execution_count": 51,
     "metadata": {},
     "output_type": "execute_result"
    },
    {
     "data": {
      "image/png": "[encoded data removed]",
      "text/plain": [
       "<Figure size 432x288 with 1 Axes>"
      ]
     },
     "metadata": {
      "needs_background": "light"
     },
     "output_type": "display_data"
    }
   ],
   "source": [
    "plt.hist(redshifts, bins=20)"
   ]
  },
  {
   "cell_type": "code",
   "execution_count": 52,
   "metadata": {},
   "outputs": [],
   "source": [
    "n_lines = ids_data_table.shape[0]"
   ]
  },
  {
   "cell_type": "code",
   "execution_count": 53,
   "metadata": {},
   "outputs": [],
   "source": [
    "def group_redshifts(n_lines, redshifts, redshift_thresh = 0.0003):\n",
    "    \n",
    "    systems = np.zeros(n_lines)\n",
    "    \n",
    "    # Keep record of the number of systems recorded so far\n",
    "    n_systems = 1\n",
    "\n",
    "    for i in range(n_lines):\n",
    "\n",
    "        # If the current entry has not been placed into a system yet\n",
    "        if(systems[i] == 0):\n",
    "\n",
    "            # Initiate a new system here\n",
    "            systems[i] = n_systems\n",
    "\n",
    "            # Look at the entries ahead\n",
    "            for j in range(i+1, n_lines):\n",
    "\n",
    "                # If the redshift of the entry is within the threshold of the defining entry of the new system\n",
    "                if (np.abs(redshifts[i]-redshifts[j])<=redshift_thresh):\n",
    "\n",
    "                    # Place the currently considered entry into the currently considered system\n",
    "                    systems[j] = n_systems\n",
    "\n",
    "\n",
    "            # Next, look at a new system\n",
    "            n_systems += 1\n",
    "    \n",
    "    ###print(systems)\n",
    "    \n",
    "    # Then, compute the median redshift for each system\n",
    "    redshift_bin_medians = np.array([np.median(redshifts[systems==i]) for i in range(1,n_systems)])\n",
    "    \n",
    "    ###print(redshift_bin_medians)\n",
    "    \n",
    "    # Then, compute the rankings of each bin, courtesy below\n",
    "    # https://stackoverflow.com/questions/5284646/rank-items-in-an-array-using-python-numpy-without-sorting-array-twice\n",
    "    redshift_bin_rankings = redshift_bin_medians.argsort().argsort()+1\n",
    "    \n",
    "    # Then, map the unordered system numbers to the ordered ones\n",
    "    systems_ordered = np.array([redshift_bin_rankings[int(s-1)] for s in systems])\n",
    "    \n",
    "    ###print(systems_ordered)\n",
    "    \n",
    "    redshift_bin_medians_ordered = np.array([np.median(redshifts[systems_ordered==i]) for i in range(1,n_systems)])\n",
    "    \n",
    "    ###print(redshift_bin_medians_ordered)\n",
    "    \n",
    "    return systems_ordered"
   ]
  },
  {
   "cell_type": "code",
   "execution_count": 54,
   "metadata": {},
   "outputs": [],
   "source": [
    "systems = group_redshifts(n_lines, redshifts)"
   ]
  },
  {
   "cell_type": "markdown",
   "metadata": {},
   "source": [
    "Old identifications file"
   ]
  },
  {
   "cell_type": "code",
   "execution_count": 56,
   "metadata": {},
   "outputs": [],
   "source": [
    "rootdir_old = '/Users/thepoetoftwilight/Documents/CUBS/Data/LBQS1435-0134/FUV/'"
   ]
  },
  {
   "cell_type": "code",
   "execution_count": 58,
   "metadata": {},
   "outputs": [],
   "source": [
    "fname_old = rootdir_old + 'Old/LBQS1435-0134_FUV_wavecal_identifications.org.fits'\n",
    "ids_data_old = fits.open(fname_old)"
   ]
  },
  {
   "cell_type": "code",
   "execution_count": 59,
   "metadata": {},
   "outputs": [
    {
     "name": "stdout",
     "output_type": "stream",
     "text": [
      "Filename: /Users/thepoetoftwilight/Documents/CUBS/Data/LBQS1435-0134/FUV/Old/LBQS1435-0134_FUV_wavecal_identifications.org.fits\n",
      "No.    Name      Ver    Type      Cards   Dimensions   Format\n",
      "  0  PRIMARY       1 PrimaryHDU       4   ()      \n",
      "  1                1 BinTableHDU     71   261R x 27C   [J, 6A, E, E, E, E, E, E, E, E, E, E, E, D, E, E, E, E, E, E, E, E, E, E, E, 54A, J]   \n"
     ]
    }
   ],
   "source": [
    "ids_data_old.info()"
   ]
  },
  {
   "cell_type": "code",
   "execution_count": 60,
   "metadata": {},
   "outputs": [
    {
     "data": {
      "text/plain": [
       "XTENSION= 'BINTABLE'           /Binary table written by MWRFITS v1.12a          \n",
       "BITPIX  =                    8 /Required value                                  \n",
       "NAXIS   =                    2 /Required value                                  \n",
       "NAXIS1  =                  164 /Number of bytes per row                         \n",
       "NAXIS2  =                  261 /Number of rows                                  \n",
       "PCOUNT  =                    0 /Normally 0 (no varying arrays)                  \n",
       "GCOUNT  =                    1 /Required value                                  \n",
       "TFIELDS =                   27 /Number of columns in table                      \n",
       "COMMENT                                                                         \n",
       "COMMENT  *** End of mandatory fields ***                                        \n",
       "COMMENT                                                                         \n",
       "COMMENT                                                                         \n",
       "COMMENT  *** Column names ***                                                   \n",
       "COMMENT                                                                         \n",
       "TTYPE1  = 'INUSE   '           /                                                \n",
       "TTYPE2  = 'NAME    '           /                                                \n",
       "TTYPE3  = 'WAVE_REST'          /                                                \n",
       "TTYPE4  = 'F       '           /                                                \n",
       "TTYPE5  = 'WAVE_OBSERVED'      /                                                \n",
       "TTYPE6  = 'REDSHIFT'           /                                                \n",
       "TTYPE7  = 'BOUND_WAVE1'        /                                                \n",
       "TTYPE8  = 'BOUND_WAVE2'        /                                                \n",
       "TTYPE9  = 'W       '           /                                                \n",
       "TTYPE10 = 'WERR    '           /                                                \n",
       "TTYPE11 = 'LOGN_AODM'          /                                                \n",
       "TTYPE12 = 'LOGNERR_AODM'       /                                                \n",
       "TTYPE13 = 'SATURATED'          /                                                \n",
       "TTYPE14 = 'HEIGHT_GAUSSIAN'    /                                                \n",
       "TTYPE15 = 'CENTROID_GAUSSIAN'  /                                                \n",
       "TTYPE16 = 'SIGMA_GAUSSIAN'     /                                                \n",
       "TTYPE17 = 'FWHM_GAUSSIAN'      /                                                \n",
       "TTYPE18 = 'CONTINUUM1_WAVE1'   /                                                \n",
       "TTYPE19 = 'CONTINUUM1_WAVE2'   /                                                \n",
       "TTYPE20 = 'CONTINUUM2_WAVE1'   /                                                \n",
       "TTYPE21 = 'CONTINUUM2_WAVE2'   /                                                \n",
       "TTYPE22 = 'CONTINUUMFIT_A'     /                                                \n",
       "TTYPE23 = 'CONTINUUMFIT_AERR'  /                                                \n",
       "TTYPE24 = 'CONTINUUMFIT_B'     /                                                \n",
       "TTYPE25 = 'CONTINUUMFIT_BERR'  /                                                \n",
       "TTYPE26 = 'COMMENT '           /                                                \n",
       "TTYPE27 = 'ISUNCERTAIN'        /                                                \n",
       "COMMENT                                                                         \n",
       "COMMENT  *** Column formats ***                                                 \n",
       "COMMENT                                                                         \n",
       "TFORM1  = 'J       '           /                                                \n",
       "TFORM2  = '6A      '           /                                                \n",
       "TFORM3  = 'E       '           /                                                \n",
       "TFORM4  = 'E       '           /                                                \n",
       "TFORM5  = 'E       '           /                                                \n",
       "TFORM6  = 'E       '           /                                                \n",
       "TFORM7  = 'E       '           /                                                \n",
       "TFORM8  = 'E       '           /                                                \n",
       "TFORM9  = 'E       '           /                                                \n",
       "TFORM10 = 'E       '           /                                                \n",
       "TFORM11 = 'E       '           /                                                \n",
       "TFORM12 = 'E       '           /                                                \n",
       "TFORM13 = 'E       '           /                                                \n",
       "TFORM14 = 'D       '           /                                                \n",
       "TFORM15 = 'E       '           /                                                \n",
       "TFORM16 = 'E       '           /                                                \n",
       "TFORM17 = 'E       '           /                                                \n",
       "TFORM18 = 'E       '           /                                                \n",
       "TFORM19 = 'E       '           /                                                \n",
       "TFORM20 = 'E       '           /                                                \n",
       "TFORM21 = 'E       '           /                                                \n",
       "TFORM22 = 'E       '           /                                                \n",
       "TFORM23 = 'E       '           /                                                \n",
       "TFORM24 = 'E       '           /                                                \n",
       "TFORM25 = 'E       '           /                                                \n",
       "TFORM26 = '54A     '           /                                                \n",
       "TFORM27 = 'J       '           /                                                "
      ]
     },
     "execution_count": 60,
     "metadata": {},
     "output_type": "execute_result"
    }
   ],
   "source": [
    "ids_data_old[1].header"
   ]
  },
  {
   "cell_type": "code",
   "execution_count": 61,
   "metadata": {},
   "outputs": [
    {
     "data": {
      "text/plain": [
       "dtype((numpy.record, [('INUSE', '>i4'), ('NAME', 'S6'), ('WAVE_REST', '>f4'), ('F', '>f4'), ('WAVE_OBSERVED', '>f4'), ('REDSHIFT', '>f4'), ('BOUND_WAVE1', '>f4'), ('BOUND_WAVE2', '>f4'), ('W', '>f4'), ('WERR', '>f4'), ('LOGN_AODM', '>f4'), ('LOGNERR_AODM', '>f4'), ('SATURATED', '>f4'), ('HEIGHT_GAUSSIAN', '>f8'), ('CENTROID_GAUSSIAN', '>f4'), ('SIGMA_GAUSSIAN', '>f4'), ('FWHM_GAUSSIAN', '>f4'), ('CONTINUUM1_WAVE1', '>f4'), ('CONTINUUM1_WAVE2', '>f4'), ('CONTINUUM2_WAVE1', '>f4'), ('CONTINUUM2_WAVE2', '>f4'), ('CONTINUUMFIT_A', '>f4'), ('CONTINUUMFIT_AERR', '>f4'), ('CONTINUUMFIT_B', '>f4'), ('CONTINUUMFIT_BERR', '>f4'), ('COMMENT', 'S54'), ('ISUNCERTAIN', '>i4')]))"
      ]
     },
     "execution_count": 61,
     "metadata": {},
     "output_type": "execute_result"
    }
   ],
   "source": [
    "ids_data_old[1].data.dtype"
   ]
  },
  {
   "cell_type": "code",
   "execution_count": 62,
   "metadata": {},
   "outputs": [],
   "source": [
    "ids_data_old_table = pd.DataFrame(ids_data_old[1].data).to_numpy()"
   ]
  },
  {
   "cell_type": "code",
   "execution_count": 64,
   "metadata": {},
   "outputs": [],
   "source": [
    "redshifts_old = ids_data_old_table[:,5]"
   ]
  },
  {
   "cell_type": "code",
   "execution_count": 65,
   "metadata": {},
   "outputs": [
    {
     "data": {
      "text/plain": [
       "(array([47.,  6., 11., 10., 23., 22., 43., 20.,  2.,  0., 36., 24.,  0.,\n",
       "         0.,  0.,  7.,  0.,  0.,  0., 10.]),\n",
       " array([-0.0002592802047729492, 0.05932090878486633, 0.11890109777450561,\n",
       "        0.17848128676414488, 0.23806147575378417, 0.29764166474342346,\n",
       "        0.3572218537330627, 0.416802042722702, 0.4763822317123413,\n",
       "        0.5359624207019805, 0.5955426096916199, 0.6551227986812591,\n",
       "        0.7147029876708983, 0.7742831766605377, 0.8338633656501769,\n",
       "        0.8934435546398163, 0.9530237436294555, 1.0126039326190948,\n",
       "        1.072184121608734, 1.1317643105983735, 1.1913444995880127],\n",
       "       dtype=object),\n",
       " <BarContainer object of 20 artists>)"
      ]
     },
     "execution_count": 65,
     "metadata": {},
     "output_type": "execute_result"
    },
    {
     "data": {
      "image/png": "[encoded data removed]",
      "text/plain": [
       "<Figure size 432x288 with 1 Axes>"
      ]
     },
     "metadata": {
      "needs_background": "light"
     },
     "output_type": "display_data"
    }
   ],
   "source": [
    "plt.hist(redshifts_old, bins=20)"
   ]
  },
  {
   "cell_type": "code",
   "execution_count": 66,
   "metadata": {},
   "outputs": [],
   "source": [
    "n_lines_old = ids_data_old_table.shape[0]"
   ]
  },
  {
   "cell_type": "code",
   "execution_count": 67,
   "metadata": {},
   "outputs": [],
   "source": [
    "systems_old = group_redshifts(n_lines_old, redshifts_old)"
   ]
  },
  {
   "cell_type": "code",
   "execution_count": 69,
   "metadata": {},
   "outputs": [
    {
     "data": {
      "text/plain": [
       "XTENSION= 'BINTABLE'           / binary table extension                         \n",
       "BITPIX  =                    8 / array data type                                \n",
       "NAXIS   =                    2 / number of array dimensions                     \n",
       "NAXIS1  =                  187 / length of dimension 1                          \n",
       "NAXIS2  =                  164 / length of dimension 2                          \n",
       "PCOUNT  =                    0 / number of group parameters                     \n",
       "GCOUNT  =                    1 / number of groups                               \n",
       "TFIELDS =                   24 / number of table fields                         \n",
       "TTYPE1  = 'ion     '                                                            \n",
       "TFORM1  = '10A     '                                                            \n",
       "TTYPE2  = 'draw    '                                                            \n",
       "TFORM2  = 'L       '                                                            \n",
       "TTYPE3  = 'system_id'                                                           \n",
       "TFORM3  = 'K       '                                                            \n",
       "TTYPE4  = 'wave_r  '                                                            \n",
       "TFORM4  = 'D       '                                                            \n",
       "TTYPE5  = 'z       '                                                            \n",
       "TFORM5  = 'D       '                                                            \n",
       "TTYPE6  = 'zErr    '                                                            \n",
       "TFORM6  = 'D       '                                                            \n",
       "TTYPE7  = 'wave_o  '                                                            \n",
       "TFORM7  = 'D       '                                                            \n",
       "TTYPE8  = 'Wr      '                                                            \n",
       "TFORM8  = 'D       '                                                            \n",
       "TTYPE9  = 'WrErr   '                                                            \n",
       "TFORM9  = 'D       '                                                            \n",
       "TTYPE10 = 'v_min   '                                                            \n",
       "TFORM10 = 'D       '                                                            \n",
       "TTYPE11 = 'v_max   '                                                            \n",
       "TFORM11 = 'D       '                                                            \n",
       "TTYPE12 = 'logAODN '                                                            \n",
       "TFORM12 = 'D       '                                                            \n",
       "TTYPE13 = 'logAODNerr'                                                          \n",
       "TFORM13 = 'D       '                                                            \n",
       "TTYPE14 = 'wave_b0 '                                                            \n",
       "TFORM14 = 'D       '                                                            \n",
       "TTYPE15 = 'wave_b1 '                                                            \n",
       "TFORM15 = 'D       '                                                            \n",
       "TTYPE16 = 'dv90    '                                                            \n",
       "TFORM16 = 'D       '                                                            \n",
       "TTYPE17 = 'logN    '                                                            \n",
       "TFORM17 = 'D       '                                                            \n",
       "TTYPE18 = 'logNerr '                                                            \n",
       "TFORM18 = 'D       '                                                            \n",
       "TTYPE19 = 'b       '                                                            \n",
       "TFORM19 = 'D       '                                                            \n",
       "TTYPE20 = 'bErr    '                                                            \n",
       "TFORM20 = 'D       '                                                            \n",
       "TTYPE21 = 'uncertain'                                                           \n",
       "TFORM21 = 'K       '                                                            \n",
       "TTYPE22 = 'f       '                                                            \n",
       "TFORM22 = 'D       '                                                            \n",
       "TTYPE23 = 'selected'                                                            \n",
       "TFORM23 = 'K       '                                                            \n",
       "TTYPE24 = 'blended '                                                            \n",
       "TFORM24 = 'K       '                                                            "
      ]
     },
     "execution_count": 69,
     "metadata": {},
     "output_type": "execute_result"
    }
   ],
   "source": [
    "ids_data[1].header"
   ]
  },
  {
   "cell_type": "code",
   "execution_count": 72,
   "metadata": {},
   "outputs": [
    {
     "data": {
      "text/plain": [
       "XTENSION= 'BINTABLE'           /Binary table written by MWRFITS v1.12a          \n",
       "BITPIX  =                    8 /Required value                                  \n",
       "NAXIS   =                    2 /Required value                                  \n",
       "NAXIS1  =                  164 /Number of bytes per row                         \n",
       "NAXIS2  =                  261 /Number of rows                                  \n",
       "PCOUNT  =                    0 /Normally 0 (no varying arrays)                  \n",
       "GCOUNT  =                    1 /Required value                                  \n",
       "TFIELDS =                   27 /Number of columns in table                      \n",
       "COMMENT                                                                         \n",
       "COMMENT  *** End of mandatory fields ***                                        \n",
       "COMMENT                                                                         \n",
       "COMMENT                                                                         \n",
       "COMMENT  *** Column names ***                                                   \n",
       "COMMENT                                                                         \n",
       "TTYPE1  = 'INUSE   '           /                                                \n",
       "TTYPE2  = 'NAME    '           /                                                \n",
       "TTYPE3  = 'WAVE_REST'          /                                                \n",
       "TTYPE4  = 'F       '           /                                                \n",
       "TTYPE5  = 'WAVE_OBSERVED'      /                                                \n",
       "TTYPE6  = 'REDSHIFT'           /                                                \n",
       "TTYPE7  = 'BOUND_WAVE1'        /                                                \n",
       "TTYPE8  = 'BOUND_WAVE2'        /                                                \n",
       "TTYPE9  = 'W       '           /                                                \n",
       "TTYPE10 = 'WERR    '           /                                                \n",
       "TTYPE11 = 'LOGN_AODM'          /                                                \n",
       "TTYPE12 = 'LOGNERR_AODM'       /                                                \n",
       "TTYPE13 = 'SATURATED'          /                                                \n",
       "TTYPE14 = 'HEIGHT_GAUSSIAN'    /                                                \n",
       "TTYPE15 = 'CENTROID_GAUSSIAN'  /                                                \n",
       "TTYPE16 = 'SIGMA_GAUSSIAN'     /                                                \n",
       "TTYPE17 = 'FWHM_GAUSSIAN'      /                                                \n",
       "TTYPE18 = 'CONTINUUM1_WAVE1'   /                                                \n",
       "TTYPE19 = 'CONTINUUM1_WAVE2'   /                                                \n",
       "TTYPE20 = 'CONTINUUM2_WAVE1'   /                                                \n",
       "TTYPE21 = 'CONTINUUM2_WAVE2'   /                                                \n",
       "TTYPE22 = 'CONTINUUMFIT_A'     /                                                \n",
       "TTYPE23 = 'CONTINUUMFIT_AERR'  /                                                \n",
       "TTYPE24 = 'CONTINUUMFIT_B'     /                                                \n",
       "TTYPE25 = 'CONTINUUMFIT_BERR'  /                                                \n",
       "TTYPE26 = 'COMMENT '           /                                                \n",
       "TTYPE27 = 'ISUNCERTAIN'        /                                                \n",
       "COMMENT                                                                         \n",
       "COMMENT  *** Column formats ***                                                 \n",
       "COMMENT                                                                         \n",
       "TFORM1  = 'J       '           /                                                \n",
       "TFORM2  = '6A      '           /                                                \n",
       "TFORM3  = 'E       '           /                                                \n",
       "TFORM4  = 'E       '           /                                                \n",
       "TFORM5  = 'E       '           /                                                \n",
       "TFORM6  = 'E       '           /                                                \n",
       "TFORM7  = 'E       '           /                                                \n",
       "TFORM8  = 'E       '           /                                                \n",
       "TFORM9  = 'E       '           /                                                \n",
       "TFORM10 = 'E       '           /                                                \n",
       "TFORM11 = 'E       '           /                                                \n",
       "TFORM12 = 'E       '           /                                                \n",
       "TFORM13 = 'E       '           /                                                \n",
       "TFORM14 = 'D       '           /                                                \n",
       "TFORM15 = 'E       '           /                                                \n",
       "TFORM16 = 'E       '           /                                                \n",
       "TFORM17 = 'E       '           /                                                \n",
       "TFORM18 = 'E       '           /                                                \n",
       "TFORM19 = 'E       '           /                                                \n",
       "TFORM20 = 'E       '           /                                                \n",
       "TFORM21 = 'E       '           /                                                \n",
       "TFORM22 = 'E       '           /                                                \n",
       "TFORM23 = 'E       '           /                                                \n",
       "TFORM24 = 'E       '           /                                                \n",
       "TFORM25 = 'E       '           /                                                \n",
       "TFORM26 = '54A     '           /                                                \n",
       "TFORM27 = 'J       '           /                                                "
      ]
     },
     "execution_count": 72,
     "metadata": {},
     "output_type": "execute_result"
    }
   ],
   "source": [
    "ids_data_old[1].header"
   ]
  },
  {
   "cell_type": "code",
   "execution_count": 73,
   "metadata": {},
   "outputs": [],
   "source": [
    "c1 = fits.Column(name='ion     ', array=ids_data_old_table[:,1], format='10A')\n",
    "c2 = fits.Column(name='draw    ', array=np.ones(n_lines_old, dtype=bool), format='L')\n",
    "c3 = fits.Column(name='system_id', array=systems_old, format='K')\n",
    "c4 = fits.Column(name='wave_r  ', array=np.array(ids_data_old_table[:,2],dtype=float), format='D')\n",
    "c5 = fits.Column(name='z       ', array=np.array(ids_data_old_table[:,5],dtype=float), format='D')\n",
    "c6 = fits.Column(name='zErr    ', array=np.zeros(n_lines_old), format='D')\n",
    "c7 = fits.Column(name='wave_o  ' , array=np.array(ids_data_old_table[:,4],dtype=float), format='D')\n",
    "c8 = fits.Column(name='Wr      ', array=np.zeros(n_lines_old), format='D')\n",
    "c9 = fits.Column(name='WrErr   ', array=np.zeros(n_lines_old), format='D')\n",
    "c10 = fits.Column(name='v_min   ', array=np.zeros(n_lines_old), format='D')\n",
    "c11 = fits.Column(name='v_max   ', array=np.zeros(n_lines_old), format='D')\n",
    "c12 = fits.Column(name='logAODN ', array=np.zeros(n_lines_old), format='D')\n",
    "c13 = fits.Column(name='logAODNerr', array=np.zeros(n_lines_old), format='D')\n",
    "c14 = fits.Column(name='wave_b0 ', array=np.zeros(n_lines_old), format='D')\n",
    "c15 = fits.Column(name='wave_b1 ', array=np.zeros(n_lines_old), format='D')\n",
    "c16 = fits.Column(name='dv90    ', array=np.zeros(n_lines_old), format='D')\n",
    "c17 = fits.Column(name='logN    ', array=np.zeros(n_lines_old), format='D')\n",
    "c18 = fits.Column(name='logNerr ', array=np.zeros(n_lines_old), format='D')\n",
    "c19 = fits.Column(name='b       ', array=np.zeros(n_lines_old), format='D')\n",
    "c20 = fits.Column(name='bErr    ', array=np.zeros(n_lines_old), format='D')\n",
    "c21 = fits.Column(name='uncertain', array=np.array(ids_data_old_table[:,26],dtype=bool), format='K')\n",
    "c22 = fits.Column(name='f       ', array=np.array(ids_data_old_table[:,3],dtype=float), format='D')\n",
    "c23 = fits.Column(name='selected', array=np.ones(n_lines_old), format='K')\n",
    "c24 = fits.Column(name='blended ', array=np.zeros(n_lines_old), format='K')"
   ]
  },
  {
   "cell_type": "code",
   "execution_count": 74,
   "metadata": {},
   "outputs": [],
   "source": [
    "table_hdu_new = fits.BinTableHDU.from_columns([c1, c2, c3, c4, c5, c6, \n",
    "                                               c7, c8, c9, c10, c11, c12,\n",
    "                                               c13, c14, c15, c16, c17, c18,\n",
    "                                               c19, c20, c21, c22, c23, c24])"
   ]
  },
  {
   "cell_type": "code",
   "execution_count": 75,
   "metadata": {},
   "outputs": [],
   "source": [
    "hdu_new = fits.HDUList([ids_data[0], table_hdu_new])"
   ]
  },
  {
   "cell_type": "code",
   "execution_count": 76,
   "metadata": {},
   "outputs": [],
   "source": [
    "#hdu_new.writeto(rootdir_old + 'LBQS1435-0134_FUV_wavecal_pabs0_identifications.fits')"
   ]
  },
  {
   "cell_type": "markdown",
   "metadata": {},
   "source": [
    "STIS identifications file"
   ]
  },
  {
   "cell_type": "code",
   "execution_count": 77,
   "metadata": {},
   "outputs": [],
   "source": [
    "QSO_name = 'PG1522+101'"
   ]
  },
  {
   "cell_type": "code",
   "execution_count": 78,
   "metadata": {},
   "outputs": [],
   "source": [
    "rootdir_old = '/Users/thepoetoftwilight/Documents/CUBS/Data/' + QSO_name + '/STIS/'"
   ]
  },
  {
   "cell_type": "code",
   "execution_count": 79,
   "metadata": {},
   "outputs": [],
   "source": [
    "fname_old = rootdir_old + 'Old/' + QSO_name + '_E230M_features.fits'\n",
    "ids_data_old = fits.open(fname_old)"
   ]
  },
  {
   "cell_type": "code",
   "execution_count": 80,
   "metadata": {},
   "outputs": [
    {
     "name": "stdout",
     "output_type": "stream",
     "text": [
      "Filename: /Users/thepoetoftwilight/Documents/CUBS/Data/PG1522+101/STIS/Old/PG1522+101_E230M_features.fits\n",
      "No.    Name      Ver    Type      Cards   Dimensions   Format\n",
      "  0  PRIMARY       1 PrimaryHDU       4   ()      \n",
      "  1                1 BinTableHDU     71   73R x 27C   [J, 5A, E, E, E, E, E, E, E, E, E, E, E, D, E, E, E, E, E, E, E, E, E, E, E, 6A, J]   \n"
     ]
    }
   ],
   "source": [
    "ids_data_old.info()"
   ]
  },
  {
   "cell_type": "code",
   "execution_count": 81,
   "metadata": {},
   "outputs": [
    {
     "data": {
      "text/plain": [
       "XTENSION= 'BINTABLE'           /Binary table written by MWRFITS v1.12a          \n",
       "BITPIX  =                    8 /Required value                                  \n",
       "NAXIS   =                    2 /Required value                                  \n",
       "NAXIS1  =                  115 /Number of bytes per row                         \n",
       "NAXIS2  =                   73 /Number of rows                                  \n",
       "PCOUNT  =                    0 /Normally 0 (no varying arrays)                  \n",
       "GCOUNT  =                    1 /Required value                                  \n",
       "TFIELDS =                   27 /Number of columns in table                      \n",
       "COMMENT                                                                         \n",
       "COMMENT  *** End of mandatory fields ***                                        \n",
       "COMMENT                                                                         \n",
       "COMMENT                                                                         \n",
       "COMMENT  *** Column names ***                                                   \n",
       "COMMENT                                                                         \n",
       "TTYPE1  = 'INUSE   '           /                                                \n",
       "TTYPE2  = 'NAME    '           /                                                \n",
       "TTYPE3  = 'WAVE_REST'          /                                                \n",
       "TTYPE4  = 'F       '           /                                                \n",
       "TTYPE5  = 'WAVE_OBSERVED'      /                                                \n",
       "TTYPE6  = 'REDSHIFT'           /                                                \n",
       "TTYPE7  = 'BOUND_WAVE1'        /                                                \n",
       "TTYPE8  = 'BOUND_WAVE2'        /                                                \n",
       "TTYPE9  = 'W       '           /                                                \n",
       "TTYPE10 = 'WERR    '           /                                                \n",
       "TTYPE11 = 'LOGN_AODM'          /                                                \n",
       "TTYPE12 = 'LOGNERR_AODM'       /                                                \n",
       "TTYPE13 = 'SATURATED'          /                                                \n",
       "TTYPE14 = 'HEIGHT_GAUSSIAN'    /                                                \n",
       "TTYPE15 = 'CENTROID_GAUSSIAN'  /                                                \n",
       "TTYPE16 = 'SIGMA_GAUSSIAN'     /                                                \n",
       "TTYPE17 = 'FWHM_GAUSSIAN'      /                                                \n",
       "TTYPE18 = 'CONTINUUM1_WAVE1'   /                                                \n",
       "TTYPE19 = 'CONTINUUM1_WAVE2'   /                                                \n",
       "TTYPE20 = 'CONTINUUM2_WAVE1'   /                                                \n",
       "TTYPE21 = 'CONTINUUM2_WAVE2'   /                                                \n",
       "TTYPE22 = 'CONTINUUMFIT_A'     /                                                \n",
       "TTYPE23 = 'CONTINUUMFIT_AERR'  /                                                \n",
       "TTYPE24 = 'CONTINUUMFIT_B'     /                                                \n",
       "TTYPE25 = 'CONTINUUMFIT_BERR'  /                                                \n",
       "TTYPE26 = 'COMMENT '           /                                                \n",
       "TTYPE27 = 'ISUNCERTAIN'        /                                                \n",
       "COMMENT                                                                         \n",
       "COMMENT  *** Column formats ***                                                 \n",
       "COMMENT                                                                         \n",
       "TFORM1  = 'J       '           /                                                \n",
       "TFORM2  = '5A      '           /                                                \n",
       "TFORM3  = 'E       '           /                                                \n",
       "TFORM4  = 'E       '           /                                                \n",
       "TFORM5  = 'E       '           /                                                \n",
       "TFORM6  = 'E       '           /                                                \n",
       "TFORM7  = 'E       '           /                                                \n",
       "TFORM8  = 'E       '           /                                                \n",
       "TFORM9  = 'E       '           /                                                \n",
       "TFORM10 = 'E       '           /                                                \n",
       "TFORM11 = 'E       '           /                                                \n",
       "TFORM12 = 'E       '           /                                                \n",
       "TFORM13 = 'E       '           /                                                \n",
       "TFORM14 = 'D       '           /                                                \n",
       "TFORM15 = 'E       '           /                                                \n",
       "TFORM16 = 'E       '           /                                                \n",
       "TFORM17 = 'E       '           /                                                \n",
       "TFORM18 = 'E       '           /                                                \n",
       "TFORM19 = 'E       '           /                                                \n",
       "TFORM20 = 'E       '           /                                                \n",
       "TFORM21 = 'E       '           /                                                \n",
       "TFORM22 = 'E       '           /                                                \n",
       "TFORM23 = 'E       '           /                                                \n",
       "TFORM24 = 'E       '           /                                                \n",
       "TFORM25 = 'E       '           /                                                \n",
       "TFORM26 = '6A      '           /                                                \n",
       "TFORM27 = 'J       '           /                                                "
      ]
     },
     "execution_count": 81,
     "metadata": {},
     "output_type": "execute_result"
    }
   ],
   "source": [
    "ids_data_old[1].header"
   ]
  },
  {
   "cell_type": "code",
   "execution_count": 83,
   "metadata": {},
   "outputs": [],
   "source": [
    "ids_data_old_table = pd.DataFrame(ids_data_old[1].data).to_numpy()"
   ]
  },
  {
   "cell_type": "code",
   "execution_count": 86,
   "metadata": {},
   "outputs": [],
   "source": [
    "redshifts_old = ids_data_old_table[:,5]"
   ]
  },
  {
   "cell_type": "code",
   "execution_count": 87,
   "metadata": {},
   "outputs": [
    {
     "data": {
      "text/plain": [
       "(array([ 8.,  0.,  0.,  0.,  0.,  0.,  0.,  0.,  0.,  2.,  0.,  1.,  3.,\n",
       "         2.,  4.,  1.,  4.,  5., 13., 30.]),\n",
       " array([-9.125471115112305e-05, 0.06381156146526337, 0.12771437764167787,\n",
       "        0.19161719381809236, 0.25552000999450686, 0.3194228261709213,\n",
       "        0.38332564234733585, 0.44722845852375037, 0.5111312747001648,\n",
       "        0.5750340908765793, 0.6389369070529938, 0.7028397232294084,\n",
       "        0.7667425394058228, 0.8306453555822373, 0.8945481717586519,\n",
       "        0.9584509879350663, 1.0223538041114808, 1.0862566202878954,\n",
       "        1.1501594364643097, 1.2140622526407243, 1.2779650688171387],\n",
       "       dtype=object),\n",
       " <BarContainer object of 20 artists>)"
      ]
     },
     "execution_count": 87,
     "metadata": {},
     "output_type": "execute_result"
    },
    {
     "data": {
      "image/png": "[encoded data removed]",
      "text/plain": [
       "<Figure size 432x288 with 1 Axes>"
      ]
     },
     "metadata": {
      "needs_background": "light"
     },
     "output_type": "display_data"
    }
   ],
   "source": [
    "plt.hist(redshifts_old, bins=20)"
   ]
  },
  {
   "cell_type": "code",
   "execution_count": 88,
   "metadata": {},
   "outputs": [],
   "source": [
    "n_lines_old = ids_data_old_table.shape[0]"
   ]
  },
  {
   "cell_type": "code",
   "execution_count": 89,
   "metadata": {},
   "outputs": [],
   "source": [
    "systems_old = group_redshifts(n_lines_old, redshifts_old)"
   ]
  },
  {
   "cell_type": "code",
   "execution_count": 90,
   "metadata": {},
   "outputs": [
    {
     "data": {
      "text/plain": [
       "XTENSION= 'BINTABLE'           / binary table extension                         \n",
       "BITPIX  =                    8 / array data type                                \n",
       "NAXIS   =                    2 / number of array dimensions                     \n",
       "NAXIS1  =                  187 / length of dimension 1                          \n",
       "NAXIS2  =                  164 / length of dimension 2                          \n",
       "PCOUNT  =                    0 / number of group parameters                     \n",
       "GCOUNT  =                    1 / number of groups                               \n",
       "TFIELDS =                   24 / number of table fields                         \n",
       "TTYPE1  = 'ion     '                                                            \n",
       "TFORM1  = '10A     '                                                            \n",
       "TTYPE2  = 'draw    '                                                            \n",
       "TFORM2  = 'L       '                                                            \n",
       "TTYPE3  = 'system_id'                                                           \n",
       "TFORM3  = 'K       '                                                            \n",
       "TTYPE4  = 'wave_r  '                                                            \n",
       "TFORM4  = 'D       '                                                            \n",
       "TTYPE5  = 'z       '                                                            \n",
       "TFORM5  = 'D       '                                                            \n",
       "TTYPE6  = 'zErr    '                                                            \n",
       "TFORM6  = 'D       '                                                            \n",
       "TTYPE7  = 'wave_o  '                                                            \n",
       "TFORM7  = 'D       '                                                            \n",
       "TTYPE8  = 'Wr      '                                                            \n",
       "TFORM8  = 'D       '                                                            \n",
       "TTYPE9  = 'WrErr   '                                                            \n",
       "TFORM9  = 'D       '                                                            \n",
       "TTYPE10 = 'v_min   '                                                            \n",
       "TFORM10 = 'D       '                                                            \n",
       "TTYPE11 = 'v_max   '                                                            \n",
       "TFORM11 = 'D       '                                                            \n",
       "TTYPE12 = 'logAODN '                                                            \n",
       "TFORM12 = 'D       '                                                            \n",
       "TTYPE13 = 'logAODNerr'                                                          \n",
       "TFORM13 = 'D       '                                                            \n",
       "TTYPE14 = 'wave_b0 '                                                            \n",
       "TFORM14 = 'D       '                                                            \n",
       "TTYPE15 = 'wave_b1 '                                                            \n",
       "TFORM15 = 'D       '                                                            \n",
       "TTYPE16 = 'dv90    '                                                            \n",
       "TFORM16 = 'D       '                                                            \n",
       "TTYPE17 = 'logN    '                                                            \n",
       "TFORM17 = 'D       '                                                            \n",
       "TTYPE18 = 'logNerr '                                                            \n",
       "TFORM18 = 'D       '                                                            \n",
       "TTYPE19 = 'b       '                                                            \n",
       "TFORM19 = 'D       '                                                            \n",
       "TTYPE20 = 'bErr    '                                                            \n",
       "TFORM20 = 'D       '                                                            \n",
       "TTYPE21 = 'uncertain'                                                           \n",
       "TFORM21 = 'K       '                                                            \n",
       "TTYPE22 = 'f       '                                                            \n",
       "TFORM22 = 'D       '                                                            \n",
       "TTYPE23 = 'selected'                                                            \n",
       "TFORM23 = 'K       '                                                            \n",
       "TTYPE24 = 'blended '                                                            \n",
       "TFORM24 = 'K       '                                                            "
      ]
     },
     "execution_count": 90,
     "metadata": {},
     "output_type": "execute_result"
    }
   ],
   "source": [
    "ids_data[1].header"
   ]
  },
  {
   "cell_type": "code",
   "execution_count": 91,
   "metadata": {},
   "outputs": [
    {
     "data": {
      "text/plain": [
       "XTENSION= 'BINTABLE'           /Binary table written by MWRFITS v1.12a          \n",
       "BITPIX  =                    8 /Required value                                  \n",
       "NAXIS   =                    2 /Required value                                  \n",
       "NAXIS1  =                  115 /Number of bytes per row                         \n",
       "NAXIS2  =                   73 /Number of rows                                  \n",
       "PCOUNT  =                    0 /Normally 0 (no varying arrays)                  \n",
       "GCOUNT  =                    1 /Required value                                  \n",
       "TFIELDS =                   27 /Number of columns in table                      \n",
       "COMMENT                                                                         \n",
       "COMMENT  *** End of mandatory fields ***                                        \n",
       "COMMENT                                                                         \n",
       "COMMENT                                                                         \n",
       "COMMENT  *** Column names ***                                                   \n",
       "COMMENT                                                                         \n",
       "TTYPE1  = 'INUSE   '           /                                                \n",
       "TTYPE2  = 'NAME    '           /                                                \n",
       "TTYPE3  = 'WAVE_REST'          /                                                \n",
       "TTYPE4  = 'F       '           /                                                \n",
       "TTYPE5  = 'WAVE_OBSERVED'      /                                                \n",
       "TTYPE6  = 'REDSHIFT'           /                                                \n",
       "TTYPE7  = 'BOUND_WAVE1'        /                                                \n",
       "TTYPE8  = 'BOUND_WAVE2'        /                                                \n",
       "TTYPE9  = 'W       '           /                                                \n",
       "TTYPE10 = 'WERR    '           /                                                \n",
       "TTYPE11 = 'LOGN_AODM'          /                                                \n",
       "TTYPE12 = 'LOGNERR_AODM'       /                                                \n",
       "TTYPE13 = 'SATURATED'          /                                                \n",
       "TTYPE14 = 'HEIGHT_GAUSSIAN'    /                                                \n",
       "TTYPE15 = 'CENTROID_GAUSSIAN'  /                                                \n",
       "TTYPE16 = 'SIGMA_GAUSSIAN'     /                                                \n",
       "TTYPE17 = 'FWHM_GAUSSIAN'      /                                                \n",
       "TTYPE18 = 'CONTINUUM1_WAVE1'   /                                                \n",
       "TTYPE19 = 'CONTINUUM1_WAVE2'   /                                                \n",
       "TTYPE20 = 'CONTINUUM2_WAVE1'   /                                                \n",
       "TTYPE21 = 'CONTINUUM2_WAVE2'   /                                                \n",
       "TTYPE22 = 'CONTINUUMFIT_A'     /                                                \n",
       "TTYPE23 = 'CONTINUUMFIT_AERR'  /                                                \n",
       "TTYPE24 = 'CONTINUUMFIT_B'     /                                                \n",
       "TTYPE25 = 'CONTINUUMFIT_BERR'  /                                                \n",
       "TTYPE26 = 'COMMENT '           /                                                \n",
       "TTYPE27 = 'ISUNCERTAIN'        /                                                \n",
       "COMMENT                                                                         \n",
       "COMMENT  *** Column formats ***                                                 \n",
       "COMMENT                                                                         \n",
       "TFORM1  = 'J       '           /                                                \n",
       "TFORM2  = '5A      '           /                                                \n",
       "TFORM3  = 'E       '           /                                                \n",
       "TFORM4  = 'E       '           /                                                \n",
       "TFORM5  = 'E       '           /                                                \n",
       "TFORM6  = 'E       '           /                                                \n",
       "TFORM7  = 'E       '           /                                                \n",
       "TFORM8  = 'E       '           /                                                \n",
       "TFORM9  = 'E       '           /                                                \n",
       "TFORM10 = 'E       '           /                                                \n",
       "TFORM11 = 'E       '           /                                                \n",
       "TFORM12 = 'E       '           /                                                \n",
       "TFORM13 = 'E       '           /                                                \n",
       "TFORM14 = 'D       '           /                                                \n",
       "TFORM15 = 'E       '           /                                                \n",
       "TFORM16 = 'E       '           /                                                \n",
       "TFORM17 = 'E       '           /                                                \n",
       "TFORM18 = 'E       '           /                                                \n",
       "TFORM19 = 'E       '           /                                                \n",
       "TFORM20 = 'E       '           /                                                \n",
       "TFORM21 = 'E       '           /                                                \n",
       "TFORM22 = 'E       '           /                                                \n",
       "TFORM23 = 'E       '           /                                                \n",
       "TFORM24 = 'E       '           /                                                \n",
       "TFORM25 = 'E       '           /                                                \n",
       "TFORM26 = '6A      '           /                                                \n",
       "TFORM27 = 'J       '           /                                                "
      ]
     },
     "execution_count": 91,
     "metadata": {},
     "output_type": "execute_result"
    }
   ],
   "source": [
    "ids_data_old[1].header"
   ]
  },
  {
   "cell_type": "code",
   "execution_count": 92,
   "metadata": {},
   "outputs": [],
   "source": [
    "c1 = fits.Column(name='ion     ', array=ids_data_old_table[:,1], format='10A')\n",
    "c2 = fits.Column(name='draw    ', array=np.ones(n_lines_old, dtype=bool), format='L')\n",
    "c3 = fits.Column(name='system_id', array=systems_old, format='K')\n",
    "c4 = fits.Column(name='wave_r  ', array=np.array(ids_data_old_table[:,2],dtype=float), format='D')\n",
    "c5 = fits.Column(name='z       ', array=np.array(ids_data_old_table[:,5],dtype=float), format='D')\n",
    "c6 = fits.Column(name='zErr    ', array=np.zeros(n_lines_old), format='D')\n",
    "c7 = fits.Column(name='wave_o  ' , array=np.array(ids_data_old_table[:,4],dtype=float), format='D')\n",
    "c8 = fits.Column(name='Wr      ', array=np.zeros(n_lines_old), format='D')\n",
    "c9 = fits.Column(name='WrErr   ', array=np.zeros(n_lines_old), format='D')\n",
    "c10 = fits.Column(name='v_min   ', array=np.zeros(n_lines_old), format='D')\n",
    "c11 = fits.Column(name='v_max   ', array=np.zeros(n_lines_old), format='D')\n",
    "c12 = fits.Column(name='logAODN ', array=np.zeros(n_lines_old), format='D')\n",
    "c13 = fits.Column(name='logAODNerr', array=np.zeros(n_lines_old), format='D')\n",
    "c14 = fits.Column(name='wave_b0 ', array=np.zeros(n_lines_old), format='D')\n",
    "c15 = fits.Column(name='wave_b1 ', array=np.zeros(n_lines_old), format='D')\n",
    "c16 = fits.Column(name='dv90    ', array=np.zeros(n_lines_old), format='D')\n",
    "c17 = fits.Column(name='logN    ', array=np.zeros(n_lines_old), format='D')\n",
    "c18 = fits.Column(name='logNerr ', array=np.zeros(n_lines_old), format='D')\n",
    "c19 = fits.Column(name='b       ', array=np.zeros(n_lines_old), format='D')\n",
    "c20 = fits.Column(name='bErr    ', array=np.zeros(n_lines_old), format='D')\n",
    "c21 = fits.Column(name='uncertain', array=np.array(ids_data_old_table[:,26],dtype=bool), format='K')\n",
    "c22 = fits.Column(name='f       ', array=np.array(ids_data_old_table[:,3],dtype=float), format='D')\n",
    "c23 = fits.Column(name='selected', array=np.ones(n_lines_old), format='K')\n",
    "c24 = fits.Column(name='blended ', array=np.zeros(n_lines_old), format='K')"
   ]
  },
  {
   "cell_type": "code",
   "execution_count": 93,
   "metadata": {},
   "outputs": [],
   "source": [
    "table_hdu_new = fits.BinTableHDU.from_columns([c1, c2, c3, c4, c5, c6, \n",
    "                                               c7, c8, c9, c10, c11, c12,\n",
    "                                               c13, c14, c15, c16, c17, c18,\n",
    "                                               c19, c20, c21, c22, c23, c24])"
   ]
  },
  {
   "cell_type": "code",
   "execution_count": 94,
   "metadata": {},
   "outputs": [],
   "source": [
    "hdu_new = fits.HDUList([ids_data[0], table_hdu_new])"
   ]
  },
  {
   "cell_type": "code",
   "execution_count": 96,
   "metadata": {},
   "outputs": [],
   "source": [
    "#hdu_new.writeto(rootdir_old + QSO_name + '_E230M_new_pabs0_identifications.fits')"
   ]
  },
  {
   "cell_type": "markdown",
   "metadata": {},
   "source": [
    "PG1522+101 - Old identifications file"
   ]
  },
  {
   "cell_type": "code",
   "execution_count": 97,
   "metadata": {},
   "outputs": [],
   "source": [
    "rootdir_old = '/Users/thepoetoftwilight/Documents/CUBS/Data/PG1522+101/FUV/'"
   ]
  },
  {
   "cell_type": "code",
   "execution_count": 98,
   "metadata": {},
   "outputs": [],
   "source": [
    "fname_old = rootdir_old + 'Old/PG1522+101_FUV_wavecal_features.fits'\n",
    "ids_data_old = fits.open(fname_old)"
   ]
  },
  {
   "cell_type": "code",
   "execution_count": 99,
   "metadata": {},
   "outputs": [
    {
     "name": "stdout",
     "output_type": "stream",
     "text": [
      "Filename: /Users/thepoetoftwilight/Documents/CUBS/Data/PG1522+101/FUV/Old/PG1522+101_FUV_wavecal_features.fits\n",
      "No.    Name      Ver    Type      Cards   Dimensions   Format\n",
      "  0  PRIMARY       1 PrimaryHDU       4   ()      \n",
      "  1                1 BinTableHDU     71   330R x 27C   [J, 6A, E, E, E, E, E, E, E, E, E, E, E, D, E, E, E, E, E, E, E, E, E, E, E, 41A, J]   \n"
     ]
    }
   ],
   "source": [
    "ids_data_old.info()"
   ]
  },
  {
   "cell_type": "code",
   "execution_count": 100,
   "metadata": {},
   "outputs": [
    {
     "data": {
      "text/plain": [
       "XTENSION= 'BINTABLE'           /Binary table written by MWRFITS v1.12a          \n",
       "BITPIX  =                    8 /Required value                                  \n",
       "NAXIS   =                    2 /Required value                                  \n",
       "NAXIS1  =                  151 /Number of bytes per row                         \n",
       "NAXIS2  =                  330 /Number of rows                                  \n",
       "PCOUNT  =                    0 /Normally 0 (no varying arrays)                  \n",
       "GCOUNT  =                    1 /Required value                                  \n",
       "TFIELDS =                   27 /Number of columns in table                      \n",
       "COMMENT                                                                         \n",
       "COMMENT  *** End of mandatory fields ***                                        \n",
       "COMMENT                                                                         \n",
       "COMMENT                                                                         \n",
       "COMMENT  *** Column names ***                                                   \n",
       "COMMENT                                                                         \n",
       "TTYPE1  = 'INUSE   '           /                                                \n",
       "TTYPE2  = 'NAME    '           /                                                \n",
       "TTYPE3  = 'WAVE_REST'          /                                                \n",
       "TTYPE4  = 'F       '           /                                                \n",
       "TTYPE5  = 'WAVE_OBSERVED'      /                                                \n",
       "TTYPE6  = 'REDSHIFT'           /                                                \n",
       "TTYPE7  = 'BOUND_WAVE1'        /                                                \n",
       "TTYPE8  = 'BOUND_WAVE2'        /                                                \n",
       "TTYPE9  = 'W       '           /                                                \n",
       "TTYPE10 = 'WERR    '           /                                                \n",
       "TTYPE11 = 'LOGN_AODM'          /                                                \n",
       "TTYPE12 = 'LOGNERR_AODM'       /                                                \n",
       "TTYPE13 = 'SATURATED'          /                                                \n",
       "TTYPE14 = 'HEIGHT_GAUSSIAN'    /                                                \n",
       "TTYPE15 = 'CENTROID_GAUSSIAN'  /                                                \n",
       "TTYPE16 = 'SIGMA_GAUSSIAN'     /                                                \n",
       "TTYPE17 = 'FWHM_GAUSSIAN'      /                                                \n",
       "TTYPE18 = 'CONTINUUM1_WAVE1'   /                                                \n",
       "TTYPE19 = 'CONTINUUM1_WAVE2'   /                                                \n",
       "TTYPE20 = 'CONTINUUM2_WAVE1'   /                                                \n",
       "TTYPE21 = 'CONTINUUM2_WAVE2'   /                                                \n",
       "TTYPE22 = 'CONTINUUMFIT_A'     /                                                \n",
       "TTYPE23 = 'CONTINUUMFIT_AERR'  /                                                \n",
       "TTYPE24 = 'CONTINUUMFIT_B'     /                                                \n",
       "TTYPE25 = 'CONTINUUMFIT_BERR'  /                                                \n",
       "TTYPE26 = 'COMMENT '           /                                                \n",
       "TTYPE27 = 'ISUNCERTAIN'        /                                                \n",
       "COMMENT                                                                         \n",
       "COMMENT  *** Column formats ***                                                 \n",
       "COMMENT                                                                         \n",
       "TFORM1  = 'J       '           /                                                \n",
       "TFORM2  = '6A      '           /                                                \n",
       "TFORM3  = 'E       '           /                                                \n",
       "TFORM4  = 'E       '           /                                                \n",
       "TFORM5  = 'E       '           /                                                \n",
       "TFORM6  = 'E       '           /                                                \n",
       "TFORM7  = 'E       '           /                                                \n",
       "TFORM8  = 'E       '           /                                                \n",
       "TFORM9  = 'E       '           /                                                \n",
       "TFORM10 = 'E       '           /                                                \n",
       "TFORM11 = 'E       '           /                                                \n",
       "TFORM12 = 'E       '           /                                                \n",
       "TFORM13 = 'E       '           /                                                \n",
       "TFORM14 = 'D       '           /                                                \n",
       "TFORM15 = 'E       '           /                                                \n",
       "TFORM16 = 'E       '           /                                                \n",
       "TFORM17 = 'E       '           /                                                \n",
       "TFORM18 = 'E       '           /                                                \n",
       "TFORM19 = 'E       '           /                                                \n",
       "TFORM20 = 'E       '           /                                                \n",
       "TFORM21 = 'E       '           /                                                \n",
       "TFORM22 = 'E       '           /                                                \n",
       "TFORM23 = 'E       '           /                                                \n",
       "TFORM24 = 'E       '           /                                                \n",
       "TFORM25 = 'E       '           /                                                \n",
       "TFORM26 = '41A     '           /                                                \n",
       "TFORM27 = 'J       '           /                                                "
      ]
     },
     "execution_count": 100,
     "metadata": {},
     "output_type": "execute_result"
    }
   ],
   "source": [
    "ids_data_old[1].header"
   ]
  },
  {
   "cell_type": "code",
   "execution_count": 101,
   "metadata": {},
   "outputs": [
    {
     "data": {
      "text/plain": [
       "dtype((numpy.record, [('INUSE', '>i4'), ('NAME', 'S6'), ('WAVE_REST', '>f4'), ('F', '>f4'), ('WAVE_OBSERVED', '>f4'), ('REDSHIFT', '>f4'), ('BOUND_WAVE1', '>f4'), ('BOUND_WAVE2', '>f4'), ('W', '>f4'), ('WERR', '>f4'), ('LOGN_AODM', '>f4'), ('LOGNERR_AODM', '>f4'), ('SATURATED', '>f4'), ('HEIGHT_GAUSSIAN', '>f8'), ('CENTROID_GAUSSIAN', '>f4'), ('SIGMA_GAUSSIAN', '>f4'), ('FWHM_GAUSSIAN', '>f4'), ('CONTINUUM1_WAVE1', '>f4'), ('CONTINUUM1_WAVE2', '>f4'), ('CONTINUUM2_WAVE1', '>f4'), ('CONTINUUM2_WAVE2', '>f4'), ('CONTINUUMFIT_A', '>f4'), ('CONTINUUMFIT_AERR', '>f4'), ('CONTINUUMFIT_B', '>f4'), ('CONTINUUMFIT_BERR', '>f4'), ('COMMENT', 'S41'), ('ISUNCERTAIN', '>i4')]))"
      ]
     },
     "execution_count": 101,
     "metadata": {},
     "output_type": "execute_result"
    }
   ],
   "source": [
    "ids_data_old[1].data.dtype"
   ]
  },
  {
   "cell_type": "code",
   "execution_count": 102,
   "metadata": {},
   "outputs": [],
   "source": [
    "ids_data_old_table = pd.DataFrame(ids_data_old[1].data).to_numpy()"
   ]
  },
  {
   "cell_type": "code",
   "execution_count": 103,
   "metadata": {},
   "outputs": [],
   "source": [
    "redshifts_old = ids_data_old_table[:,5]"
   ]
  },
  {
   "cell_type": "code",
   "execution_count": 104,
   "metadata": {},
   "outputs": [
    {
     "data": {
      "text/plain": [
       "(array([39., 18., 11., 26.,  5., 26., 13., 11., 50.,  6., 21., 24., 13.,\n",
       "         0.,  3.,  2.,  8., 13., 13., 28.]),\n",
       " array([-0.000247955322265625, 0.06365772485733032, 0.12756340503692626,\n",
       "        0.1914690852165222, 0.25537476539611814, 0.3192804455757141,\n",
       "        0.38318612575531, 0.44709180593490594, 0.5109974861145019,\n",
       "        0.5749031662940979, 0.6388088464736938, 0.7027145266532897,\n",
       "        0.7666202068328857, 0.8305258870124816, 0.8944315671920775,\n",
       "        0.9583372473716735, 1.0222429275512694, 1.0861486077308653,\n",
       "        1.1500542879104614, 1.2139599680900572, 1.2778656482696533],\n",
       "       dtype=object),\n",
       " <BarContainer object of 20 artists>)"
      ]
     },
     "execution_count": 104,
     "metadata": {},
     "output_type": "execute_result"
    },
    {
     "data": {
      "image/png": "[encoded data removed]",
      "text/plain": [
       "<Figure size 432x288 with 1 Axes>"
      ]
     },
     "metadata": {
      "needs_background": "light"
     },
     "output_type": "display_data"
    }
   ],
   "source": [
    "plt.hist(redshifts_old, bins=20)"
   ]
  },
  {
   "cell_type": "code",
   "execution_count": 105,
   "metadata": {},
   "outputs": [],
   "source": [
    "n_lines_old = ids_data_old_table.shape[0]"
   ]
  },
  {
   "cell_type": "code",
   "execution_count": 106,
   "metadata": {},
   "outputs": [],
   "source": [
    "systems_old = group_redshifts(n_lines_old, redshifts_old)"
   ]
  },
  {
   "cell_type": "code",
   "execution_count": 107,
   "metadata": {},
   "outputs": [
    {
     "data": {
      "text/plain": [
       "XTENSION= 'BINTABLE'           / binary table extension                         \n",
       "BITPIX  =                    8 / array data type                                \n",
       "NAXIS   =                    2 / number of array dimensions                     \n",
       "NAXIS1  =                  187 / length of dimension 1                          \n",
       "NAXIS2  =                  164 / length of dimension 2                          \n",
       "PCOUNT  =                    0 / number of group parameters                     \n",
       "GCOUNT  =                    1 / number of groups                               \n",
       "TFIELDS =                   24 / number of table fields                         \n",
       "TTYPE1  = 'ion     '                                                            \n",
       "TFORM1  = '10A     '                                                            \n",
       "TTYPE2  = 'draw    '                                                            \n",
       "TFORM2  = 'L       '                                                            \n",
       "TTYPE3  = 'system_id'                                                           \n",
       "TFORM3  = 'K       '                                                            \n",
       "TTYPE4  = 'wave_r  '                                                            \n",
       "TFORM4  = 'D       '                                                            \n",
       "TTYPE5  = 'z       '                                                            \n",
       "TFORM5  = 'D       '                                                            \n",
       "TTYPE6  = 'zErr    '                                                            \n",
       "TFORM6  = 'D       '                                                            \n",
       "TTYPE7  = 'wave_o  '                                                            \n",
       "TFORM7  = 'D       '                                                            \n",
       "TTYPE8  = 'Wr      '                                                            \n",
       "TFORM8  = 'D       '                                                            \n",
       "TTYPE9  = 'WrErr   '                                                            \n",
       "TFORM9  = 'D       '                                                            \n",
       "TTYPE10 = 'v_min   '                                                            \n",
       "TFORM10 = 'D       '                                                            \n",
       "TTYPE11 = 'v_max   '                                                            \n",
       "TFORM11 = 'D       '                                                            \n",
       "TTYPE12 = 'logAODN '                                                            \n",
       "TFORM12 = 'D       '                                                            \n",
       "TTYPE13 = 'logAODNerr'                                                          \n",
       "TFORM13 = 'D       '                                                            \n",
       "TTYPE14 = 'wave_b0 '                                                            \n",
       "TFORM14 = 'D       '                                                            \n",
       "TTYPE15 = 'wave_b1 '                                                            \n",
       "TFORM15 = 'D       '                                                            \n",
       "TTYPE16 = 'dv90    '                                                            \n",
       "TFORM16 = 'D       '                                                            \n",
       "TTYPE17 = 'logN    '                                                            \n",
       "TFORM17 = 'D       '                                                            \n",
       "TTYPE18 = 'logNerr '                                                            \n",
       "TFORM18 = 'D       '                                                            \n",
       "TTYPE19 = 'b       '                                                            \n",
       "TFORM19 = 'D       '                                                            \n",
       "TTYPE20 = 'bErr    '                                                            \n",
       "TFORM20 = 'D       '                                                            \n",
       "TTYPE21 = 'uncertain'                                                           \n",
       "TFORM21 = 'K       '                                                            \n",
       "TTYPE22 = 'f       '                                                            \n",
       "TFORM22 = 'D       '                                                            \n",
       "TTYPE23 = 'selected'                                                            \n",
       "TFORM23 = 'K       '                                                            \n",
       "TTYPE24 = 'blended '                                                            \n",
       "TFORM24 = 'K       '                                                            "
      ]
     },
     "execution_count": 107,
     "metadata": {},
     "output_type": "execute_result"
    }
   ],
   "source": [
    "ids_data[1].header"
   ]
  },
  {
   "cell_type": "code",
   "execution_count": 108,
   "metadata": {},
   "outputs": [
    {
     "data": {
      "text/plain": [
       "XTENSION= 'BINTABLE'           /Binary table written by MWRFITS v1.12a          \n",
       "BITPIX  =                    8 /Required value                                  \n",
       "NAXIS   =                    2 /Required value                                  \n",
       "NAXIS1  =                  151 /Number of bytes per row                         \n",
       "NAXIS2  =                  330 /Number of rows                                  \n",
       "PCOUNT  =                    0 /Normally 0 (no varying arrays)                  \n",
       "GCOUNT  =                    1 /Required value                                  \n",
       "TFIELDS =                   27 /Number of columns in table                      \n",
       "COMMENT                                                                         \n",
       "COMMENT  *** End of mandatory fields ***                                        \n",
       "COMMENT                                                                         \n",
       "COMMENT                                                                         \n",
       "COMMENT  *** Column names ***                                                   \n",
       "COMMENT                                                                         \n",
       "TTYPE1  = 'INUSE   '           /                                                \n",
       "TTYPE2  = 'NAME    '           /                                                \n",
       "TTYPE3  = 'WAVE_REST'          /                                                \n",
       "TTYPE4  = 'F       '           /                                                \n",
       "TTYPE5  = 'WAVE_OBSERVED'      /                                                \n",
       "TTYPE6  = 'REDSHIFT'           /                                                \n",
       "TTYPE7  = 'BOUND_WAVE1'        /                                                \n",
       "TTYPE8  = 'BOUND_WAVE2'        /                                                \n",
       "TTYPE9  = 'W       '           /                                                \n",
       "TTYPE10 = 'WERR    '           /                                                \n",
       "TTYPE11 = 'LOGN_AODM'          /                                                \n",
       "TTYPE12 = 'LOGNERR_AODM'       /                                                \n",
       "TTYPE13 = 'SATURATED'          /                                                \n",
       "TTYPE14 = 'HEIGHT_GAUSSIAN'    /                                                \n",
       "TTYPE15 = 'CENTROID_GAUSSIAN'  /                                                \n",
       "TTYPE16 = 'SIGMA_GAUSSIAN'     /                                                \n",
       "TTYPE17 = 'FWHM_GAUSSIAN'      /                                                \n",
       "TTYPE18 = 'CONTINUUM1_WAVE1'   /                                                \n",
       "TTYPE19 = 'CONTINUUM1_WAVE2'   /                                                \n",
       "TTYPE20 = 'CONTINUUM2_WAVE1'   /                                                \n",
       "TTYPE21 = 'CONTINUUM2_WAVE2'   /                                                \n",
       "TTYPE22 = 'CONTINUUMFIT_A'     /                                                \n",
       "TTYPE23 = 'CONTINUUMFIT_AERR'  /                                                \n",
       "TTYPE24 = 'CONTINUUMFIT_B'     /                                                \n",
       "TTYPE25 = 'CONTINUUMFIT_BERR'  /                                                \n",
       "TTYPE26 = 'COMMENT '           /                                                \n",
       "TTYPE27 = 'ISUNCERTAIN'        /                                                \n",
       "COMMENT                                                                         \n",
       "COMMENT  *** Column formats ***                                                 \n",
       "COMMENT                                                                         \n",
       "TFORM1  = 'J       '           /                                                \n",
       "TFORM2  = '6A      '           /                                                \n",
       "TFORM3  = 'E       '           /                                                \n",
       "TFORM4  = 'E       '           /                                                \n",
       "TFORM5  = 'E       '           /                                                \n",
       "TFORM6  = 'E       '           /                                                \n",
       "TFORM7  = 'E       '           /                                                \n",
       "TFORM8  = 'E       '           /                                                \n",
       "TFORM9  = 'E       '           /                                                \n",
       "TFORM10 = 'E       '           /                                                \n",
       "TFORM11 = 'E       '           /                                                \n",
       "TFORM12 = 'E       '           /                                                \n",
       "TFORM13 = 'E       '           /                                                \n",
       "TFORM14 = 'D       '           /                                                \n",
       "TFORM15 = 'E       '           /                                                \n",
       "TFORM16 = 'E       '           /                                                \n",
       "TFORM17 = 'E       '           /                                                \n",
       "TFORM18 = 'E       '           /                                                \n",
       "TFORM19 = 'E       '           /                                                \n",
       "TFORM20 = 'E       '           /                                                \n",
       "TFORM21 = 'E       '           /                                                \n",
       "TFORM22 = 'E       '           /                                                \n",
       "TFORM23 = 'E       '           /                                                \n",
       "TFORM24 = 'E       '           /                                                \n",
       "TFORM25 = 'E       '           /                                                \n",
       "TFORM26 = '41A     '           /                                                \n",
       "TFORM27 = 'J       '           /                                                "
      ]
     },
     "execution_count": 108,
     "metadata": {},
     "output_type": "execute_result"
    }
   ],
   "source": [
    "ids_data_old[1].header"
   ]
  },
  {
   "cell_type": "code",
   "execution_count": 109,
   "metadata": {},
   "outputs": [],
   "source": [
    "c1 = fits.Column(name='ion     ', array=ids_data_old_table[:,1], format='10A')\n",
    "c2 = fits.Column(name='draw    ', array=np.ones(n_lines_old, dtype=bool), format='L')\n",
    "c3 = fits.Column(name='system_id', array=systems_old, format='K')\n",
    "c4 = fits.Column(name='wave_r  ', array=np.array(ids_data_old_table[:,2],dtype=float), format='D')\n",
    "c5 = fits.Column(name='z       ', array=np.array(ids_data_old_table[:,5],dtype=float), format='D')\n",
    "c6 = fits.Column(name='zErr    ', array=np.zeros(n_lines_old), format='D')\n",
    "c7 = fits.Column(name='wave_o  ' , array=np.array(ids_data_old_table[:,4],dtype=float), format='D')\n",
    "c8 = fits.Column(name='Wr      ', array=np.zeros(n_lines_old), format='D')\n",
    "c9 = fits.Column(name='WrErr   ', array=np.zeros(n_lines_old), format='D')\n",
    "c10 = fits.Column(name='v_min   ', array=np.zeros(n_lines_old), format='D')\n",
    "c11 = fits.Column(name='v_max   ', array=np.zeros(n_lines_old), format='D')\n",
    "c12 = fits.Column(name='logAODN ', array=np.zeros(n_lines_old), format='D')\n",
    "c13 = fits.Column(name='logAODNerr', array=np.zeros(n_lines_old), format='D')\n",
    "c14 = fits.Column(name='wave_b0 ', array=np.zeros(n_lines_old), format='D')\n",
    "c15 = fits.Column(name='wave_b1 ', array=np.zeros(n_lines_old), format='D')\n",
    "c16 = fits.Column(name='dv90    ', array=np.zeros(n_lines_old), format='D')\n",
    "c17 = fits.Column(name='logN    ', array=np.zeros(n_lines_old), format='D')\n",
    "c18 = fits.Column(name='logNerr ', array=np.zeros(n_lines_old), format='D')\n",
    "c19 = fits.Column(name='b       ', array=np.zeros(n_lines_old), format='D')\n",
    "c20 = fits.Column(name='bErr    ', array=np.zeros(n_lines_old), format='D')\n",
    "c21 = fits.Column(name='uncertain', array=np.array(ids_data_old_table[:,26],dtype=bool), format='K')\n",
    "c22 = fits.Column(name='f       ', array=np.array(ids_data_old_table[:,3],dtype=float), format='D')\n",
    "c23 = fits.Column(name='selected', array=np.ones(n_lines_old), format='K')\n",
    "c24 = fits.Column(name='blended ', array=np.zeros(n_lines_old), format='K')"
   ]
  },
  {
   "cell_type": "code",
   "execution_count": 110,
   "metadata": {},
   "outputs": [],
   "source": [
    "table_hdu_new = fits.BinTableHDU.from_columns([c1, c2, c3, c4, c5, c6, \n",
    "                                               c7, c8, c9, c10, c11, c12,\n",
    "                                               c13, c14, c15, c16, c17, c18,\n",
    "                                               c19, c20, c21, c22, c23, c24])"
   ]
  },
  {
   "cell_type": "code",
   "execution_count": 111,
   "metadata": {},
   "outputs": [],
   "source": [
    "hdu_new = fits.HDUList([ids_data[0], table_hdu_new])"
   ]
  },
  {
   "cell_type": "code",
   "execution_count": 112,
   "metadata": {},
   "outputs": [],
   "source": [
    "hdu_new.writeto(rootdir_old + 'PG1522+101_FUV_wavecal_pabs0_features.fits')"
   ]
  },
  {
   "cell_type": "code",
   "execution_count": null,
   "metadata": {},
   "outputs": [],
   "source": []
  }
 ],
 "metadata": {
  "kernelspec": {
   "display_name": "Python 3 (ipykernel)",
   "language": "python",
   "name": "python3"
  },
  "language_info": {
   "codemirror_mode": {
    "name": "ipython",
    "version": 3
   },
   "file_extension": ".py",
   "mimetype": "text/x-python",
   "name": "python",
   "nbconvert_exporter": "python",
   "pygments_lexer": "ipython3",
   "version": "3.9.13"
  }
 },
 "nbformat": 4,
 "nbformat_minor": 4
}
