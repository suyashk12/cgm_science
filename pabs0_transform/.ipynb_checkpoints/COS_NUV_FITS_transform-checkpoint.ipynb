{
 "cells": [
  {
   "cell_type": "code",
   "execution_count": 1,
   "metadata": {},
   "outputs": [],
   "source": [
    "from astropy.io import fits\n",
    "import numpy as np\n",
    "import pandas as pd"
   ]
  },
  {
   "cell_type": "markdown",
   "metadata": {},
   "source": [
    "Load in old files"
   ]
  },
  {
   "cell_type": "code",
   "execution_count": 15,
   "metadata": {},
   "outputs": [],
   "source": [
    "rootdir = '/Users/thepoetoftwilight/Documents/CUBS/Data/PG1522+101/'"
   ]
  },
  {
   "cell_type": "markdown",
   "metadata": {},
   "source": [
    "First, let's convert the spectral file"
   ]
  },
  {
   "cell_type": "code",
   "execution_count": 16,
   "metadata": {},
   "outputs": [],
   "source": [
    "spec = np.loadtxt(rootdir + 'G185M/COS_G185M.spec', skiprows=1)"
   ]
  },
  {
   "cell_type": "markdown",
   "metadata": {},
   "source": [
    "Create columns from the spectrum file"
   ]
  },
  {
   "cell_type": "code",
   "execution_count": 17,
   "metadata": {},
   "outputs": [],
   "source": [
    "c1 = fits.Column(name='wave    ', array=spec[:,0], format='D')\n",
    "c2 = fits.Column(name='flux    ', array=spec[:,1], format='D')\n",
    "c3 = fits.Column(name='error   ', array=spec[:,2], format='D')\n",
    "c4 = fits.Column(name='error_u ', array=spec[:,3], format='D')\n",
    "c5 = fits.Column(name='error_d ', array=spec[:,4], format='D')\n",
    "c6 = fits.Column(name='counts_total', array=spec[:,5], format='D')\n",
    "c7 = fits.Column(name='counts_net', array=spec[:,6], format='D')\n",
    "c8 = fits.Column(name='npix    ', array=spec[:,7], format='D')\n",
    "c9 = fits.Column(name='exptime ', array=spec[:,8], format='D')\n",
    "c10 = fits.Column(name='mask    ', array=spec[:,9], format='K')\n",
    "c11 = fits.Column(name='continuum', array=spec[:,10], format='D')"
   ]
  },
  {
   "cell_type": "code",
   "execution_count": 18,
   "metadata": {},
   "outputs": [],
   "source": [
    "table_hdu = fits.BinTableHDU.from_columns([c1, c2, c3, \n",
    "                                           c4, c5, c6, \n",
    "                                           c7, c8, c9, \n",
    "                                           c10, c11])"
   ]
  },
  {
   "cell_type": "code",
   "execution_count": 19,
   "metadata": {},
   "outputs": [],
   "source": [
    "fits_fuv = fits.open(rootdir + 'FUV/PG1522+101_FUV_wavecal_new.fits')"
   ]
  },
  {
   "cell_type": "code",
   "execution_count": 20,
   "metadata": {},
   "outputs": [],
   "source": [
    "hdu = fits.HDUList([fits_fuv[0], table_hdu])"
   ]
  },
  {
   "cell_type": "code",
   "execution_count": 21,
   "metadata": {},
   "outputs": [],
   "source": [
    "hdu.writeto(rootdir +'G185M/PG1522+101_NUV_wavecal_new.fits')"
   ]
  },
  {
   "cell_type": "markdown",
   "metadata": {},
   "source": [
    "Now work with the IDs file"
   ]
  },
  {
   "cell_type": "code",
   "execution_count": 27,
   "metadata": {},
   "outputs": [],
   "source": [
    "ids = np.loadtxt(rootdir + 'G185M/COS_G185M_identifications.spec', skiprows=31, dtype=str)"
   ]
  },
  {
   "cell_type": "code",
   "execution_count": 38,
   "metadata": {},
   "outputs": [],
   "source": [
    "def parse(str_arr):\n",
    "    \n",
    "    bool_arr = []\n",
    "    \n",
    "    for s in str_arr:\n",
    "        if s == 'True':\n",
    "            bool_arr.append(True)\n",
    "        else:\n",
    "            bool_arr.append(False)\n",
    "            \n",
    "    bool_arr = np.bool_(np.array(bool_arr))\n",
    "    \n",
    "    return bool_arr"
   ]
  },
  {
   "cell_type": "code",
   "execution_count": 40,
   "metadata": {},
   "outputs": [],
   "source": [
    "c1 = fits.Column(name='ion     ', array=ids[:,0], format='10A')\n",
    "c2 = fits.Column(name='draw    ', array=parse(ids[:,1]), format='L')\n",
    "c3 = fits.Column(name='system_id', array=np.int_(ids[:,2]), format='K')\n",
    "c4 = fits.Column(name='wave_r  ', array=np.float_(ids[:,3]), format='D')\n",
    "c5 = fits.Column(name='z       ', array=np.float_(ids[:,4]), format='D')\n",
    "c6 = fits.Column(name='zErr    ', array=np.float_(ids[:,5]), format='D')\n",
    "c7 = fits.Column(name='wave_o  ' , array=np.float_(ids[:,6]), format='D')\n",
    "c8 = fits.Column(name='Wr      ', array=np.float_(ids[:,7]), format='D')\n",
    "c9 = fits.Column(name='WrErr   ', array=np.float_(ids[:,8]), format='D')\n",
    "c10 = fits.Column(name='v_min   ', array=np.float_(ids[:,9]), format='D')\n",
    "c11 = fits.Column(name='v_max   ', array=np.float_(ids[:,10]), format='D')\n",
    "c12 = fits.Column(name='logAODN ', array=np.float_(ids[:,11]), format='D')\n",
    "c13 = fits.Column(name='logAODNerr', array=np.float_(ids[:,12]), format='D')\n",
    "c14 = fits.Column(name='wave_b0 ', array=np.float_(ids[:,13]), format='D')\n",
    "c15 = fits.Column(name='wave_b1 ', array=np.float_(ids[:,14]), format='D')\n",
    "c16 = fits.Column(name='dv90    ', array=np.float_(ids[:,15]), format='D')\n",
    "c17 = fits.Column(name='logN    ', array=np.float_(ids[:,16]), format='D')\n",
    "c18 = fits.Column(name='logNerr ', array=np.float_(ids[:,17]), format='D')\n",
    "c19 = fits.Column(name='b       ', array=np.float_(ids[:,18]), format='D')\n",
    "c20 = fits.Column(name='bErr    ', array=np.float_(ids[:,19]), format='D')\n",
    "c21 = fits.Column(name='uncertain', array=np.bool_(ids[:,20]), format='K')\n",
    "c22 = fits.Column(name='f       ', array=np.float_(ids[:,21]), format='D')\n",
    "c23 = fits.Column(name='selected', array=np.int_(ids[:,22]), format='K')\n",
    "c24 = fits.Column(name='blended ', array=np.int_(ids[:,23]), format='K')"
   ]
  },
  {
   "cell_type": "code",
   "execution_count": 43,
   "metadata": {},
   "outputs": [],
   "source": [
    "table_hdu = fits.BinTableHDU.from_columns([c1, c2, c3, c4, c5, c6, \n",
    "                                               c7, c8, c9, c10, c11, c12,\n",
    "                                               c13, c14, c15, c16, c17, c18,\n",
    "                                               c19, c20, c21, c22, c23, c24])"
   ]
  },
  {
   "cell_type": "code",
   "execution_count": 44,
   "metadata": {},
   "outputs": [],
   "source": [
    "ids_fuv = fits.open(rootdir + 'FUV/PG1522+101_FUV_wavecal_new_identifications.fits')"
   ]
  },
  {
   "cell_type": "code",
   "execution_count": 45,
   "metadata": {},
   "outputs": [],
   "source": [
    "hdu = fits.HDUList([ids_fuv[0], table_hdu])"
   ]
  },
  {
   "cell_type": "code",
   "execution_count": 46,
   "metadata": {},
   "outputs": [],
   "source": [
    "hdu.writeto(rootdir +'G185M/PG1522+101_NUV_wavecal_new_identifications.fits')"
   ]
  },
  {
   "cell_type": "markdown",
   "metadata": {},
   "source": [
    "Finally the continuum nodes file"
   ]
  },
  {
   "cell_type": "code",
   "execution_count": 47,
   "metadata": {},
   "outputs": [],
   "source": [
    "nodes = np.loadtxt(rootdir + 'G185M/COS_G185M_nodes.spec', skiprows=1)"
   ]
  },
  {
   "cell_type": "code",
   "execution_count": 48,
   "metadata": {},
   "outputs": [],
   "source": [
    "c1 = fits.Column(name='wave    ', array=nodes[:,0], format='D')\n",
    "c2 = fits.Column(name='continuum', array=nodes[:,1], format='D')"
   ]
  },
  {
   "cell_type": "code",
   "execution_count": 49,
   "metadata": {},
   "outputs": [],
   "source": [
    "table_hdu = fits.BinTableHDU.from_columns([c1, c2])"
   ]
  },
  {
   "cell_type": "code",
   "execution_count": 50,
   "metadata": {},
   "outputs": [],
   "source": [
    "nodes_fuv = fits.open(rootdir + 'FUV/PG1522+101_FUV_wavecal_new_nodes.fits')"
   ]
  },
  {
   "cell_type": "code",
   "execution_count": 51,
   "metadata": {},
   "outputs": [],
   "source": [
    "hdu = fits.HDUList([nodes_fuv[0], table_hdu])"
   ]
  },
  {
   "cell_type": "code",
   "execution_count": 52,
   "metadata": {},
   "outputs": [],
   "source": [
    "hdu.writeto(rootdir +'G185M/PG1522+101_NUV_wavecal_new_nodes.fits')"
   ]
  },
  {
   "cell_type": "code",
   "execution_count": null,
   "metadata": {},
   "outputs": [],
   "source": []
  }
 ],
 "metadata": {
  "kernelspec": {
   "display_name": "Python 3",
   "language": "python",
   "name": "python3"
  },
  "language_info": {
   "codemirror_mode": {
    "name": "ipython",
    "version": 3
   },
   "file_extension": ".py",
   "mimetype": "text/x-python",
   "name": "python",
   "nbconvert_exporter": "python",
   "pygments_lexer": "ipython3",
   "version": "3.8.5"
  }
 },
 "nbformat": 4,
 "nbformat_minor": 4
}
