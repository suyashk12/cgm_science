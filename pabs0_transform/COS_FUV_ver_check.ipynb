{
 "cells": [
  {
   "cell_type": "code",
   "execution_count": 1,
   "id": "c996a49d",
   "metadata": {},
   "outputs": [],
   "source": [
    "from astropy.io import fits\n",
    "import numpy as np\n",
    "import pandas as pd"
   ]
  },
  {
   "cell_type": "markdown",
   "id": "215ebb48",
   "metadata": {},
   "source": [
    "Zhijie's stitch"
   ]
  },
  {
   "cell_type": "code",
   "execution_count": 2,
   "id": "e3edd3a5",
   "metadata": {},
   "outputs": [],
   "source": [
    "rootdir = '/Users/thepoetoftwilight/Documents/CUBS/Data/PG1522+101/FUV/'"
   ]
  },
  {
   "cell_type": "code",
   "execution_count": 6,
   "id": "589a9f71",
   "metadata": {},
   "outputs": [],
   "source": [
    "fits_ZQ = fits.open(rootdir + 'Continuum/PG1522_COS_FUV_wavcal2022.ZQ.fits')"
   ]
  },
  {
   "cell_type": "code",
   "execution_count": 7,
   "id": "adce59d4",
   "metadata": {},
   "outputs": [
    {
     "name": "stdout",
     "output_type": "stream",
     "text": [
      "Filename: /Users/thepoetoftwilight/Documents/CUBS/Data/PG1522+101/FUV/Continuum/PG1522_COS_FUV_wavcal2022.ZQ.fits\n",
      "No.    Name      Ver    Type      Cards   Dimensions   Format\n",
      "  0  PRIMARY       1 PrimaryHDU       4   ()      \n",
      "  1                1 BinTableHDU     14   58088R x 3C   [D, D, D]   \n"
     ]
    }
   ],
   "source": [
    "fits_ZQ.info()"
   ]
  },
  {
   "cell_type": "code",
   "execution_count": 8,
   "id": "a11945af",
   "metadata": {},
   "outputs": [
    {
     "data": {
      "text/plain": [
       "XTENSION= 'BINTABLE'           / binary table extension                         \n",
       "BITPIX  =                    8 / array data type                                \n",
       "NAXIS   =                    2 / number of array dimensions                     \n",
       "NAXIS1  =                   24 / length of dimension 1                          \n",
       "NAXIS2  =                58088 / length of dimension 2                          \n",
       "PCOUNT  =                    0 / number of group parameters                     \n",
       "GCOUNT  =                    1 / number of groups                               \n",
       "TFIELDS =                    3 / number of table fields                         \n",
       "TTYPE1  = 'WAVE    '                                                            \n",
       "TFORM1  = 'D       '                                                            \n",
       "TTYPE2  = 'FLUX    '                                                            \n",
       "TFORM2  = 'D       '                                                            \n",
       "TTYPE3  = 'ERROR   '                                                            \n",
       "TFORM3  = 'D       '                                                            "
      ]
     },
     "execution_count": 8,
     "metadata": {},
     "output_type": "execute_result"
    }
   ],
   "source": [
    "fits_ZQ[1].header"
   ]
  },
  {
   "cell_type": "code",
   "execution_count": 9,
   "id": "d881adf2",
   "metadata": {},
   "outputs": [],
   "source": [
    "spec_data_zq = pd.DataFrame(fits_ZQ[1].data).to_numpy()"
   ]
  },
  {
   "cell_type": "code",
   "execution_count": 10,
   "id": "ea76767c",
   "metadata": {},
   "outputs": [
    {
     "data": {
      "text/plain": [
       "(58088, 3)"
      ]
     },
     "execution_count": 10,
     "metadata": {},
     "output_type": "execute_result"
    }
   ],
   "source": [
    "spec_data_zq.shape"
   ]
  },
  {
   "cell_type": "markdown",
   "id": "bcaf2919",
   "metadata": {},
   "source": [
    "Latest file"
   ]
  },
  {
   "cell_type": "code",
   "execution_count": 11,
   "id": "aa58b589",
   "metadata": {},
   "outputs": [],
   "source": [
    "fits_sk = fits.open(rootdir + 'PG1522+101_FUV_wavecal_new.fits')"
   ]
  },
  {
   "cell_type": "code",
   "execution_count": 12,
   "id": "869ed1a9",
   "metadata": {
    "scrolled": true
   },
   "outputs": [
    {
     "name": "stdout",
     "output_type": "stream",
     "text": [
      "Filename: /Users/thepoetoftwilight/Documents/CUBS/Data/PG1522+101/FUV/PG1522+101_FUV_wavecal_new.fits\n",
      "No.    Name      Ver    Type      Cards   Dimensions   Format\n",
      "  0  PRIMARY       1 PrimaryHDU       4   ()      \n",
      "  1                1 BinTableHDU     30   58088R x 11C   [D, D, D, D, D, D, D, D, D, K, D]   \n"
     ]
    }
   ],
   "source": [
    "fits_sk.info()"
   ]
  },
  {
   "cell_type": "code",
   "execution_count": 13,
   "id": "6cc2c670",
   "metadata": {
    "scrolled": true
   },
   "outputs": [
    {
     "data": {
      "text/plain": [
       "XTENSION= 'BINTABLE'           / binary table extension                         \n",
       "BITPIX  =                    8 / array data type                                \n",
       "NAXIS   =                    2 / number of array dimensions                     \n",
       "NAXIS1  =                   88 / length of dimension 1                          \n",
       "NAXIS2  =                58088 / length of dimension 2                          \n",
       "PCOUNT  =                    0 / number of group parameters                     \n",
       "GCOUNT  =                    1 / number of groups                               \n",
       "TFIELDS =                   11 / number of table fields                         \n",
       "TTYPE1  = 'wave    '                                                            \n",
       "TFORM1  = 'D       '                                                            \n",
       "TTYPE2  = 'flux    '                                                            \n",
       "TFORM2  = 'D       '                                                            \n",
       "TTYPE3  = 'error   '                                                            \n",
       "TFORM3  = 'D       '                                                            \n",
       "TTYPE4  = 'error_u '                                                            \n",
       "TFORM4  = 'D       '                                                            \n",
       "TTYPE5  = 'error_d '                                                            \n",
       "TFORM5  = 'D       '                                                            \n",
       "TTYPE6  = 'counts_total'                                                        \n",
       "TFORM6  = 'D       '                                                            \n",
       "TTYPE7  = 'counts_net'                                                          \n",
       "TFORM7  = 'D       '                                                            \n",
       "TTYPE8  = 'npix    '                                                            \n",
       "TFORM8  = 'D       '                                                            \n",
       "TTYPE9  = 'exptime '                                                            \n",
       "TFORM9  = 'D       '                                                            \n",
       "TTYPE10 = 'mask    '                                                            \n",
       "TFORM10 = 'K       '                                                            \n",
       "TTYPE11 = 'continuum'                                                           \n",
       "TFORM11 = 'D       '                                                            "
      ]
     },
     "execution_count": 13,
     "metadata": {},
     "output_type": "execute_result"
    }
   ],
   "source": [
    "fits_sk[1].header"
   ]
  },
  {
   "cell_type": "code",
   "execution_count": 14,
   "id": "26bafecf",
   "metadata": {},
   "outputs": [],
   "source": [
    "spec_data_sk = pd.DataFrame(fits_sk[1].data).to_numpy()"
   ]
  },
  {
   "cell_type": "code",
   "execution_count": 15,
   "id": "bf6a1a15",
   "metadata": {},
   "outputs": [
    {
     "data": {
      "text/plain": [
       "(58088, 11)"
      ]
     },
     "execution_count": 15,
     "metadata": {},
     "output_type": "execute_result"
    }
   ],
   "source": [
    "spec_data_sk.shape"
   ]
  },
  {
   "cell_type": "code",
   "execution_count": 17,
   "id": "070c3384",
   "metadata": {},
   "outputs": [
    {
     "data": {
      "text/plain": [
       "array([0., 0., 0., ..., 0., 0., 0.])"
      ]
     },
     "execution_count": 17,
     "metadata": {},
     "output_type": "execute_result"
    }
   ],
   "source": [
    "spec_data_sk[:,1]-spec_data_zq[:,1]"
   ]
  },
  {
   "cell_type": "code",
   "execution_count": null,
   "id": "7e940a79",
   "metadata": {},
   "outputs": [],
   "source": []
  }
 ],
 "metadata": {
  "kernelspec": {
   "display_name": "Python 3 (ipykernel)",
   "language": "python",
   "name": "python3"
  },
  "language_info": {
   "codemirror_mode": {
    "name": "ipython",
    "version": 3
   },
   "file_extension": ".py",
   "mimetype": "text/x-python",
   "name": "python",
   "nbconvert_exporter": "python",
   "pygments_lexer": "ipython3",
   "version": "3.9.13"
  }
 },
 "nbformat": 4,
 "nbformat_minor": 5
}
