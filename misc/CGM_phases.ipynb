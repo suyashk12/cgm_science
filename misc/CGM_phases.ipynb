{
 "cells": [
  {
   "cell_type": "code",
   "execution_count": 1,
   "id": "fcb22f40",
   "metadata": {},
   "outputs": [],
   "source": [
    "import numpy as np\n",
    "import matplotlib.pyplot as plt\n",
    "from astropy.io import fits\n",
    "import pandas as pd\n",
    "from scipy import interpolate\n",
    "from scipy.stats import linregress\n",
    "from voigt_fit_lib import *"
   ]
  },
  {
   "cell_type": "code",
   "execution_count": 2,
   "id": "47b1179f",
   "metadata": {},
   "outputs": [],
   "source": [
    "plt.style.use('/Users/thepoetoftwilight/Documents/Astro/Code/PG1522+101/science.mplstyle')"
   ]
  },
  {
   "cell_type": "markdown",
   "id": "3e585cc6",
   "metadata": {},
   "source": [
    "Bar chart"
   ]
  },
  {
   "cell_type": "code",
   "execution_count": 3,
   "id": "95109a00",
   "metadata": {},
   "outputs": [],
   "source": [
    "mh = 1e12\n",
    "mb = 0.17*mh"
   ]
  },
  {
   "cell_type": "code",
   "execution_count": 4,
   "id": "2c1afb6d",
   "metadata": {},
   "outputs": [
    {
     "data": {
      "text/plain": [
       "170000000000.0"
      ]
     },
     "execution_count": 4,
     "metadata": {},
     "output_type": "execute_result"
    }
   ],
   "source": [
    "mb"
   ]
  },
  {
   "cell_type": "code",
   "execution_count": 5,
   "id": "7d395ed6",
   "metadata": {},
   "outputs": [
    {
     "data": {
      "text/plain": [
       "1.7"
      ]
     },
     "execution_count": 5,
     "metadata": {},
     "output_type": "execute_result"
    }
   ],
   "source": [
    "mb/1e11"
   ]
  },
  {
   "cell_type": "code",
   "execution_count": 6,
   "id": "b7206ebd",
   "metadata": {},
   "outputs": [],
   "source": [
    "stars_lo = 2e10 # Behroozi 18\n",
    "stars_hi = 3e10 # Kravtsov 18"
   ]
  },
  {
   "cell_type": "code",
   "execution_count": 7,
   "id": "3216ee1e",
   "metadata": {},
   "outputs": [],
   "source": [
    "# Using range of M* in Parkash 18\n",
    "ism_lo = 7e9 \n",
    "ism_hi = 9e9"
   ]
  },
  {
   "cell_type": "code",
   "execution_count": 8,
   "id": "02c668bf",
   "metadata": {},
   "outputs": [],
   "source": [
    "cool_lo = 1e10 # Werk 14 preferred lower limit scaled down by 7, per Faerman and Werk 23\n",
    "cool_hi = 2e10 # Werk 14 upper limit scaled down by "
   ]
  },
  {
   "cell_type": "code",
   "execution_count": 9,
   "id": "624c0ff1",
   "metadata": {},
   "outputs": [],
   "source": [
    "warm_lo = 9e9 # Tumlinson 11 scaled to 250 kpc, oxygen mass scaled per Peeples 14\n",
    "warm_hi = 9e10 # Z=0.1"
   ]
  },
  {
   "cell_type": "code",
   "execution_count": 10,
   "id": "fb093752",
   "metadata": {},
   "outputs": [],
   "source": [
    "hot_lo = 3e10\n",
    "hot_hi = 1e11"
   ]
  },
  {
   "cell_type": "code",
   "execution_count": 11,
   "id": "65f76109",
   "metadata": {},
   "outputs": [
    {
     "data": {
      "text/plain": [
       "3.4"
      ]
     },
     "execution_count": 11,
     "metadata": {},
     "output_type": "execute_result"
    }
   ],
   "source": [
    "0.2*mb/1e10"
   ]
  },
  {
   "cell_type": "markdown",
   "id": "b2f497f9",
   "metadata": {},
   "source": [
    "Print fractions"
   ]
  },
  {
   "cell_type": "code",
   "execution_count": 12,
   "id": "73f8828d",
   "metadata": {},
   "outputs": [
    {
     "data": {
      "text/plain": [
       "(0.11764705882352941, 0.17647058823529413)"
      ]
     },
     "execution_count": 12,
     "metadata": {},
     "output_type": "execute_result"
    }
   ],
   "source": [
    "stars_lo/mb, stars_hi/mb"
   ]
  },
  {
   "cell_type": "code",
   "execution_count": 13,
   "id": "53a1a66f",
   "metadata": {},
   "outputs": [
    {
     "data": {
      "text/plain": [
       "(0.041176470588235294, 0.052941176470588235)"
      ]
     },
     "execution_count": 13,
     "metadata": {},
     "output_type": "execute_result"
    }
   ],
   "source": [
    "ism_lo/mb, ism_hi/mb"
   ]
  },
  {
   "cell_type": "code",
   "execution_count": 14,
   "id": "6c2bd435",
   "metadata": {},
   "outputs": [
    {
     "data": {
      "text/plain": [
       "(0.058823529411764705, 0.11764705882352941)"
      ]
     },
     "execution_count": 14,
     "metadata": {},
     "output_type": "execute_result"
    }
   ],
   "source": [
    "cool_lo/mb, cool_hi/mb"
   ]
  },
  {
   "cell_type": "code",
   "execution_count": 15,
   "id": "b4bb1481",
   "metadata": {},
   "outputs": [
    {
     "data": {
      "text/plain": [
       "(0.052941176470588235, 0.5294117647058824)"
      ]
     },
     "execution_count": 15,
     "metadata": {},
     "output_type": "execute_result"
    }
   ],
   "source": [
    "warm_lo/mb, warm_hi/mb"
   ]
  },
  {
   "cell_type": "code",
   "execution_count": 16,
   "id": "96fb0802",
   "metadata": {},
   "outputs": [
    {
     "data": {
      "text/plain": [
       "(0.17647058823529413, 0.5882352941176471)"
      ]
     },
     "execution_count": 16,
     "metadata": {},
     "output_type": "execute_result"
    }
   ],
   "source": [
    "hot_lo/mb, hot_hi/mb"
   ]
  },
  {
   "cell_type": "code",
   "execution_count": 17,
   "id": "8373839c",
   "metadata": {},
   "outputs": [
    {
     "data": {
      "text/plain": [
       "0.4470588235294118"
      ]
     },
     "execution_count": 17,
     "metadata": {},
     "output_type": "execute_result"
    }
   ],
   "source": [
    "(stars_lo+ism_lo+cool_lo+warm_lo+hot_lo)/mb"
   ]
  },
  {
   "cell_type": "code",
   "execution_count": 18,
   "id": "4963ffab",
   "metadata": {},
   "outputs": [
    {
     "data": {
      "text/plain": [
       "1.464705882352941"
      ]
     },
     "execution_count": 18,
     "metadata": {},
     "output_type": "execute_result"
    }
   ],
   "source": [
    "(stars_hi+ism_hi+cool_hi+warm_hi+hot_hi)/mb"
   ]
  },
  {
   "cell_type": "markdown",
   "id": "d818b0fe",
   "metadata": {},
   "source": [
    "Plot absolute masses"
   ]
  },
  {
   "cell_type": "code",
   "execution_count": 19,
   "id": "66138b46",
   "metadata": {},
   "outputs": [
    {
     "data": {
      "image/png": "[encoded data removed]",
      "text/plain": [
       "<Figure size 400x400 with 1 Axes>"
      ]
     },
     "metadata": {},
     "output_type": "display_data"
    }
   ],
   "source": [
    "fig, ax = plt.subplots(1, figsize=(4,4))\n",
    "\n",
    "a=.3\n",
    "\n",
    "ax.bar(0, stars_lo, color='teal')\n",
    "ax.bar(0, stars_hi, bottom=stars_lo, alpha=a, color='teal', hatch='/')\n",
    "\n",
    "ax.bar(1, ism_lo, color='steelblue')\n",
    "ax.bar(1, ism_hi, bottom=ism_lo, alpha=a, color='steelblue', hatch='/')\n",
    "\n",
    "ax.bar(2, cool_lo, color='forestgreen')\n",
    "ax.bar(2, cool_hi, bottom=cool_lo, alpha=a, color='forestgreen', hatch='/')\n",
    "\n",
    "ax.bar(3, warm_lo, color='orange')\n",
    "ax.bar(3, warm_hi, bottom=warm_lo, alpha=a, color='orange', hatch='/')\n",
    "\n",
    "ax.bar(4, hot_lo, color='orangered')\n",
    "ax.bar(4, hot_hi, bottom=hot_lo, alpha=a, color='orangered', hatch='/')\n",
    "\n",
    "ax.text(-0.1, 1.9e11, r'$M_\\mathrm{baryon} = 0.17 M_\\mathrm{halo}, M_\\mathrm{halo} = 10^{12} M_\\odot$', fontsize=12)\n",
    "ax.axhline(mb, linestyle=':', color='black', lw=2)\n",
    "\n",
    "ax.set_yscale('log')\n",
    "\n",
    "ax.set_ylabel(r'Mass ($M_\\odot$)')\n",
    "\n",
    "ax.set_ylim(5e9, 3e11)\n",
    "\n",
    "ax.set_xticks([0,1,2,3,4], ['Stars', 'ISM', 'Cool \\n CGM', 'Warm-Hot\\n CGM', 'Hot \\n CGM'], \n",
    "              fontsize=12, minor=False)\n",
    "ax.xaxis.set_ticks_position('none') \n",
    "\n",
    "#ax.set_title('Uncertain baryon budget of the CGM', fontsize=15)\n",
    "\n",
    "plt.savefig('/Users/thepoetoftwilight/Documents/Astro/Data/PG1522+101/Figures/Baryon_budget.pdf', dpi=300)\n",
    "plt.savefig('/Users/thepoetoftwilight/Documents/Astro/Data/PG1522+101/Figures/Baryon_budget.png', dpi=300)"
   ]
  },
  {
   "cell_type": "markdown",
   "id": "0ff926ec",
   "metadata": {},
   "source": [
    "Plot of fractions"
   ]
  },
  {
   "cell_type": "code",
   "execution_count": 23,
   "id": "4afa7863",
   "metadata": {},
   "outputs": [
    {
     "data": {
      "image/png": "[encoded data removed]",
      "text/plain": [
       "<Figure size 420x420 with 1 Axes>"
      ]
     },
     "metadata": {},
     "output_type": "display_data"
    }
   ],
   "source": [
    "fig, ax = plt.subplots(1, figsize=(4.2,4.2))\n",
    "\n",
    "ax.bar(0, stars_lo/mb, color='teal')\n",
    "ax.bar(0, stars_hi/mb, alpha=.1, color='teal')\n",
    "\n",
    "#ax.text(-0.4, 0.9, r'$M_\\mathrm{halo} = 10^{12.2} M_\\odot$', fontsize=14)\n",
    "\n",
    "ax.bar(1, ism_lo/mb, color='steelblue')\n",
    "ax.bar(1, ism_hi/mb, alpha=.1, color='steelblue')\n",
    "\n",
    "ax.bar(2, cool_lo/mb, color='green')\n",
    "ax.bar(2, cool_hi/mb, alpha=.1, color='green')\n",
    "\n",
    "ax.bar(3, warm_lo/mb, color='orange')\n",
    "ax.bar(3, warm_hi/mb, alpha=.1, color='orange')\n",
    "\n",
    "ax.bar(4, hot_lo/mb, color='red')\n",
    "ax.bar(4, hot_hi/mb, alpha=.1, color='red')\n",
    "\n",
    "ax.bar(5, (stars_lo+ism_lo+cool_lo+warm_lo+hot_lo)/mb, color='brown')\n",
    "ax.bar(5, (stars_hi+ism_hi+cool_hi+warm_hi+hot_hi)/mb, alpha=.1, color='brown')\n",
    "\n",
    "ax.set_ylabel('Fraction of baryon budget (0.16 $M_\\mathrm{halo}$)', fontsize=13)\n",
    "\n",
    "ax.set_xticks([0,1,2,3,4,5], ['Stars', 'ISM', 'Cool \\n CGM', 'Warm-Hot\\n CGM', 'Hot \\n CGM', 'Total'], \n",
    "              fontsize=12, minor=False)\n",
    "ax.xaxis.set_ticks_position('none') "
   ]
  },
  {
   "cell_type": "markdown",
   "id": "b1e71403",
   "metadata": {},
   "source": [
    "Make phase diagram"
   ]
  },
  {
   "cell_type": "code",
   "execution_count": 24,
   "id": "2d86b8e6",
   "metadata": {},
   "outputs": [],
   "source": [
    "from matplotlib.patches import Rectangle "
   ]
  },
  {
   "cell_type": "code",
   "execution_count": 25,
   "id": "c87eb551",
   "metadata": {},
   "outputs": [
    {
     "data": {
      "text/plain": [
       "Text(0, 0.5, '$\\\\log(T/\\\\mathrm{K})$')"
      ]
     },
     "execution_count": 25,
     "metadata": {},
     "output_type": "execute_result"
    },
    {
     "data": {
      "image/png": "[encoded data removed]",
      "text/plain": [
       "<Figure size 400x400 with 1 Axes>"
      ]
     },
     "metadata": {},
     "output_type": "display_data"
    }
   ],
   "source": [
    "fig, ax = plt.subplots(1, figsize=(4,4))\n",
    "\n",
    "ax.add_patch( Rectangle((-4, 3.5), \n",
    "                        3, 1, \n",
    "                        fc ='dodgerblue',\n",
    "                        alpha=.2,\n",
    "                        ec ='none', \n",
    "                        lw = 3) ) \n",
    "\n",
    "ax.text(-2.5,4, 'OII in UV', fontsize=13, horizontalalignment='center', verticalalignment='center')\n",
    "ax.text(-1,4, 'Cool', color='dodgerblue', rotation=270, verticalalignment='center')\n",
    "\n",
    "\n",
    "ax.add_patch( Rectangle((-5, 4.5), \n",
    "                        3, 1, \n",
    "                        alpha=.2,\n",
    "                        fc ='goldenrod',  \n",
    "                        ec ='none', \n",
    "                        lw = 3) ) \n",
    "\n",
    "ax.text(-3.5,5, 'OIII/OIV in UV', fontsize=13, horizontalalignment='center', verticalalignment='center')\n",
    "\n",
    "ax.add_patch( Rectangle((-6, 5.5), \n",
    "                        3.5, 0.5, \n",
    "                        alpha=.25,\n",
    "                        fc ='goldenrod',  \n",
    "                        ec ='none', \n",
    "                        lw = 3) ) \n",
    "\n",
    "ax.text(-4.25,5.75, 'OV/OVI in UV', fontsize=13, horizontalalignment='center', verticalalignment='center')\n",
    "\n",
    "ax.text(-2, 5.25, 'Warm-Hot', color='goldenrod', rotation=270, verticalalignment='center')\n",
    "\n",
    "ax.add_patch( Rectangle((-6, 6), \n",
    "                        3.5, 1, \n",
    "                        fc ='orangered',  \n",
    "                        ec ='none', \n",
    "                        alpha=.2,\n",
    "                        lw = 3) ) \n",
    "\n",
    "ax.text(-4.25,6.5, 'OVII/OVIII in X-ray', fontsize=13, horizontalalignment='center', verticalalignment='center')\n",
    "ax.text(-2.5,6.5, 'Hot', color='orangered', rotation=270, verticalalignment='center')\n",
    "\n",
    "ax.set_xlim(-6.5, 0)\n",
    "ax.set_ylim(3.25, 7.2)\n",
    "\n",
    "ax.set_xlabel(r'$\\log(n_\\mathrm{H}/\\mathrm{cm}^{-3})$')\n",
    "ax.set_ylabel(r'$\\log(T/\\mathrm{K})$')"
   ]
  },
  {
   "cell_type": "markdown",
   "id": "615e7ebc",
   "metadata": {},
   "source": [
    "$$\\log (n_\\mathrm{H}/\\mathrm{cm}^{-3})$$, $$\\log (T/\\mathrm{K})$$"
   ]
  },
  {
   "cell_type": "code",
   "execution_count": 26,
   "id": "c722d4a3",
   "metadata": {},
   "outputs": [
    {
     "data": {
      "text/plain": [
       "34.0"
      ]
     },
     "execution_count": 26,
     "metadata": {},
     "output_type": "execute_result"
    }
   ],
   "source": [
    "1.02E+15/(3e13)"
   ]
  },
  {
   "cell_type": "code",
   "execution_count": null,
   "id": "261920eb",
   "metadata": {},
   "outputs": [],
   "source": []
  }
 ],
 "metadata": {
  "kernelspec": {
   "display_name": "Python 3 (ipykernel)",
   "language": "python",
   "name": "python3"
  },
  "language_info": {
   "codemirror_mode": {
    "name": "ipython",
    "version": 3
   },
   "file_extension": ".py",
   "mimetype": "text/x-python",
   "name": "python",
   "nbconvert_exporter": "python",
   "pygments_lexer": "ipython3",
   "version": "3.9.13"
  }
 },
 "nbformat": 4,
 "nbformat_minor": 5
}
