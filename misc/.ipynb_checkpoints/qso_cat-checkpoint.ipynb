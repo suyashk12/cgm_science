{
 "cells": [
  {
   "cell_type": "code",
   "execution_count": 2,
   "id": "fcb22f40",
   "metadata": {},
   "outputs": [],
   "source": [
    "import numpy as np\n",
    "import matplotlib.pyplot as plt\n",
    "from astropy.io import fits\n",
    "from astropy.table import Table\n",
    "import pandas as pd\n",
    "from scipy import interpolate\n",
    "from scipy.stats import linregress\n",
    "from voigt_fit_lib import *"
   ]
  },
  {
   "cell_type": "code",
   "execution_count": 3,
   "id": "47b1179f",
   "metadata": {},
   "outputs": [],
   "source": [
    "plt.style.use('/Users/thepoetoftwilight/Documents/CUBS/Code/science.mplstyle')"
   ]
  },
  {
   "cell_type": "markdown",
   "id": "1b3cf445-f504-4faf-8ba8-490efd14952a",
   "metadata": {},
   "source": [
    "# Sample construction"
   ]
  },
  {
   "cell_type": "markdown",
   "id": "acf7161f",
   "metadata": {},
   "source": [
    "Read CSV"
   ]
  },
  {
   "cell_type": "code",
   "execution_count": 4,
   "id": "c8232652",
   "metadata": {},
   "outputs": [],
   "source": [
    "df = pd.read_csv('/Users/thepoetoftwilight/Documents/CUBS/Data/HST_UVQSOspec_v600_2024_01.csv')"
   ]
  },
  {
   "cell_type": "code",
   "execution_count": 5,
   "id": "a1f8ebcb",
   "metadata": {},
   "outputs": [],
   "source": [
    "df_FUV_NUV = df.loc[(df['COSwG130M']!=0)&(df['COSwG160M']!=0)&((df['COSwG185M']!=0)|(df['STISwE230M']!=0)|(df['COSwG225M']!=0))]"
   ]
  },
  {
   "cell_type": "code",
   "execution_count": 6,
   "id": "cbb7ae16",
   "metadata": {},
   "outputs": [],
   "source": [
    "df_FUV_NUV_coords = df_FUV_NUV[['RA', 'DEC']]"
   ]
  },
  {
   "cell_type": "code",
   "execution_count": 7,
   "id": "cfcecda0",
   "metadata": {},
   "outputs": [],
   "source": [
    "#df_FUV_NUV_coords.to_csv('/Users/thepoetoftwilight/Documents/CUBS/Data/HIRES_query.csv', index=False)"
   ]
  },
  {
   "cell_type": "code",
   "execution_count": 8,
   "id": "304d4ae4",
   "metadata": {},
   "outputs": [],
   "source": [
    "df_Keck = pd.read_csv('/Users/thepoetoftwilight/Documents/CUBS/Data/HIRES_query_result.csv')"
   ]
  },
  {
   "cell_type": "code",
   "execution_count": 9,
   "id": "b61b56e9",
   "metadata": {},
   "outputs": [
    {
     "name": "stderr",
     "output_type": "stream",
     "text": [
      "/var/folders/tj/vc_wjrpj36sf3zws4s7s770c0000gn/T/ipykernel_98539/2968417759.py:1: SettingWithCopyWarning: \n",
      "A value is trying to be set on a copy of a slice from a DataFrame.\n",
      "Try using .loc[row_indexer,col_indexer] = value instead\n",
      "\n",
      "See the caveats in the documentation: https://pandas.pydata.org/pandas-docs/stable/user_guide/indexing.html#returning-a-view-versus-a-copy\n",
      "  df_FUV_NUV['HIRES'] = np.array(df_Keck['HIRES-Sci'], dtype=float)\n"
     ]
    }
   ],
   "source": [
    "df_FUV_NUV['HIRES'] = np.array(df_Keck['HIRES-Sci'], dtype=float)"
   ]
  },
  {
   "cell_type": "code",
   "execution_count": 10,
   "id": "266ac6c5",
   "metadata": {},
   "outputs": [
    {
     "data": {
      "text/html": [
       "<div>\n",
       "<style scoped>\n",
       "    .dataframe tbody tr th:only-of-type {\n",
       "        vertical-align: middle;\n",
       "    }\n",
       "\n",
       "    .dataframe tbody tr th {\n",
       "        vertical-align: top;\n",
       "    }\n",
       "\n",
       "    .dataframe thead th {\n",
       "        text-align: right;\n",
       "    }\n",
       "</style>\n",
       "<table border=\"1\" class=\"dataframe\">\n",
       "  <thead>\n",
       "    <tr style=\"text-align: right;\">\n",
       "      <th></th>\n",
       "      <th>idx</th>\n",
       "      <th>RA</th>\n",
       "      <th>DEC</th>\n",
       "      <th>z</th>\n",
       "      <th>Name</th>\n",
       "      <th>COSwG130M</th>\n",
       "      <th>COSwG140L</th>\n",
       "      <th>COSwG160M</th>\n",
       "      <th>COSwG185M</th>\n",
       "      <th>COSwG225M</th>\n",
       "      <th>...</th>\n",
       "      <th>STISwG230L</th>\n",
       "      <th>STISwG230LB</th>\n",
       "      <th>STISwG230M</th>\n",
       "      <th>STISwG230MB</th>\n",
       "      <th>STISwG430L</th>\n",
       "      <th>STISwG430M</th>\n",
       "      <th>STISwG750L</th>\n",
       "      <th>STISwG750M</th>\n",
       "      <th>STISwPRISM</th>\n",
       "      <th>HIRES</th>\n",
       "    </tr>\n",
       "  </thead>\n",
       "  <tbody>\n",
       "    <tr>\n",
       "      <th>0</th>\n",
       "      <td>18</td>\n",
       "      <td>146.007797</td>\n",
       "      <td>-0.642272</td>\n",
       "      <td>0.00502</td>\n",
       "      <td>MCG+00-25-010</td>\n",
       "      <td>6086.560</td>\n",
       "      <td>0.000</td>\n",
       "      <td>34584.256</td>\n",
       "      <td>2168.064</td>\n",
       "      <td>0.0</td>\n",
       "      <td>...</td>\n",
       "      <td>1948.397125</td>\n",
       "      <td>0.0</td>\n",
       "      <td>0.0</td>\n",
       "      <td>0.0</td>\n",
       "      <td>0.0</td>\n",
       "      <td>0.0</td>\n",
       "      <td>0.0</td>\n",
       "      <td>0.0</td>\n",
       "      <td>0.0</td>\n",
       "      <td>0.0</td>\n",
       "    </tr>\n",
       "    <tr>\n",
       "      <th>1</th>\n",
       "      <td>23</td>\n",
       "      <td>186.272552</td>\n",
       "      <td>61.153136</td>\n",
       "      <td>0.00230</td>\n",
       "      <td>LEDA 2816013</td>\n",
       "      <td>1202.368</td>\n",
       "      <td>0.000</td>\n",
       "      <td>5698.720</td>\n",
       "      <td>404.064</td>\n",
       "      <td>0.0</td>\n",
       "      <td>...</td>\n",
       "      <td>0.000000</td>\n",
       "      <td>0.0</td>\n",
       "      <td>0.0</td>\n",
       "      <td>0.0</td>\n",
       "      <td>0.0</td>\n",
       "      <td>0.0</td>\n",
       "      <td>0.0</td>\n",
       "      <td>0.0</td>\n",
       "      <td>0.0</td>\n",
       "      <td>0.0</td>\n",
       "    </tr>\n",
       "    <tr>\n",
       "      <th>3</th>\n",
       "      <td>65</td>\n",
       "      <td>209.962158</td>\n",
       "      <td>57.439717</td>\n",
       "      <td>0.03386</td>\n",
       "      <td>Mrk 1486</td>\n",
       "      <td>2166.560</td>\n",
       "      <td>600.000</td>\n",
       "      <td>8647.680</td>\n",
       "      <td>1776.064</td>\n",
       "      <td>0.0</td>\n",
       "      <td>...</td>\n",
       "      <td>2182.399125</td>\n",
       "      <td>0.0</td>\n",
       "      <td>0.0</td>\n",
       "      <td>0.0</td>\n",
       "      <td>0.0</td>\n",
       "      <td>0.0</td>\n",
       "      <td>0.0</td>\n",
       "      <td>0.0</td>\n",
       "      <td>0.0</td>\n",
       "      <td>0.0</td>\n",
       "    </tr>\n",
       "    <tr>\n",
       "      <th>6</th>\n",
       "      <td>80</td>\n",
       "      <td>166.283829</td>\n",
       "      <td>44.746456</td>\n",
       "      <td>0.02130</td>\n",
       "      <td>[BKD2008] WR 276</td>\n",
       "      <td>2388.352</td>\n",
       "      <td>0.000</td>\n",
       "      <td>8461.664</td>\n",
       "      <td>1828.096</td>\n",
       "      <td>0.0</td>\n",
       "      <td>...</td>\n",
       "      <td>0.000000</td>\n",
       "      <td>0.0</td>\n",
       "      <td>0.0</td>\n",
       "      <td>0.0</td>\n",
       "      <td>0.0</td>\n",
       "      <td>0.0</td>\n",
       "      <td>0.0</td>\n",
       "      <td>0.0</td>\n",
       "      <td>0.0</td>\n",
       "      <td>0.0</td>\n",
       "    </tr>\n",
       "    <tr>\n",
       "      <th>7</th>\n",
       "      <td>85</td>\n",
       "      <td>154.102158</td>\n",
       "      <td>37.912769</td>\n",
       "      <td>0.00388</td>\n",
       "      <td>LEDA 29998</td>\n",
       "      <td>1138.016</td>\n",
       "      <td>2267.200</td>\n",
       "      <td>5216.672</td>\n",
       "      <td>356.064</td>\n",
       "      <td>0.0</td>\n",
       "      <td>...</td>\n",
       "      <td>0.000000</td>\n",
       "      <td>0.0</td>\n",
       "      <td>0.0</td>\n",
       "      <td>0.0</td>\n",
       "      <td>0.0</td>\n",
       "      <td>0.0</td>\n",
       "      <td>0.0</td>\n",
       "      <td>0.0</td>\n",
       "      <td>0.0</td>\n",
       "      <td>0.0</td>\n",
       "    </tr>\n",
       "    <tr>\n",
       "      <th>...</th>\n",
       "      <td>...</td>\n",
       "      <td>...</td>\n",
       "      <td>...</td>\n",
       "      <td>...</td>\n",
       "      <td>...</td>\n",
       "      <td>...</td>\n",
       "      <td>...</td>\n",
       "      <td>...</td>\n",
       "      <td>...</td>\n",
       "      <td>...</td>\n",
       "      <td>...</td>\n",
       "      <td>...</td>\n",
       "      <td>...</td>\n",
       "      <td>...</td>\n",
       "      <td>...</td>\n",
       "      <td>...</td>\n",
       "      <td>...</td>\n",
       "      <td>...</td>\n",
       "      <td>...</td>\n",
       "      <td>...</td>\n",
       "      <td>...</td>\n",
       "    </tr>\n",
       "    <tr>\n",
       "      <th>894</th>\n",
       "      <td>1901</td>\n",
       "      <td>60.454087</td>\n",
       "      <td>-5.682378</td>\n",
       "      <td>0.57023</td>\n",
       "      <td>QSO J0401-0540</td>\n",
       "      <td>5377.376</td>\n",
       "      <td>0.000</td>\n",
       "      <td>5912.352</td>\n",
       "      <td>7825.600</td>\n",
       "      <td>0.0</td>\n",
       "      <td>...</td>\n",
       "      <td>0.000000</td>\n",
       "      <td>0.0</td>\n",
       "      <td>0.0</td>\n",
       "      <td>0.0</td>\n",
       "      <td>0.0</td>\n",
       "      <td>0.0</td>\n",
       "      <td>0.0</td>\n",
       "      <td>0.0</td>\n",
       "      <td>0.0</td>\n",
       "      <td>3.0</td>\n",
       "    </tr>\n",
       "    <tr>\n",
       "      <th>895</th>\n",
       "      <td>1902</td>\n",
       "      <td>147.503089</td>\n",
       "      <td>48.524814</td>\n",
       "      <td>0.58800</td>\n",
       "      <td>QSO B0946+487</td>\n",
       "      <td>4933.760</td>\n",
       "      <td>0.000</td>\n",
       "      <td>2927.360</td>\n",
       "      <td>8598.592</td>\n",
       "      <td>0.0</td>\n",
       "      <td>...</td>\n",
       "      <td>0.000000</td>\n",
       "      <td>0.0</td>\n",
       "      <td>0.0</td>\n",
       "      <td>0.0</td>\n",
       "      <td>0.0</td>\n",
       "      <td>0.0</td>\n",
       "      <td>0.0</td>\n",
       "      <td>0.0</td>\n",
       "      <td>0.0</td>\n",
       "      <td>2.0</td>\n",
       "    </tr>\n",
       "    <tr>\n",
       "      <th>897</th>\n",
       "      <td>1904</td>\n",
       "      <td>205.715027</td>\n",
       "      <td>-0.895942</td>\n",
       "      <td>0.32500</td>\n",
       "      <td>LBQS 1340-0038</td>\n",
       "      <td>4606.752</td>\n",
       "      <td>0.000</td>\n",
       "      <td>2770.368</td>\n",
       "      <td>24297.120</td>\n",
       "      <td>0.0</td>\n",
       "      <td>...</td>\n",
       "      <td>0.000000</td>\n",
       "      <td>0.0</td>\n",
       "      <td>0.0</td>\n",
       "      <td>0.0</td>\n",
       "      <td>0.0</td>\n",
       "      <td>0.0</td>\n",
       "      <td>0.0</td>\n",
       "      <td>0.0</td>\n",
       "      <td>0.0</td>\n",
       "      <td>2.0</td>\n",
       "    </tr>\n",
       "    <tr>\n",
       "      <th>898</th>\n",
       "      <td>1905</td>\n",
       "      <td>214.792529</td>\n",
       "      <td>42.129697</td>\n",
       "      <td>0.87358</td>\n",
       "      <td>PB 2049</td>\n",
       "      <td>3676.352</td>\n",
       "      <td>2444.352</td>\n",
       "      <td>4354.432</td>\n",
       "      <td>8122.592</td>\n",
       "      <td>0.0</td>\n",
       "      <td>...</td>\n",
       "      <td>0.000000</td>\n",
       "      <td>0.0</td>\n",
       "      <td>0.0</td>\n",
       "      <td>0.0</td>\n",
       "      <td>0.0</td>\n",
       "      <td>0.0</td>\n",
       "      <td>0.0</td>\n",
       "      <td>0.0</td>\n",
       "      <td>0.0</td>\n",
       "      <td>2.0</td>\n",
       "    </tr>\n",
       "    <tr>\n",
       "      <th>1221</th>\n",
       "      <td>2504</td>\n",
       "      <td>20.464625</td>\n",
       "      <td>-28.349389</td>\n",
       "      <td>0.11600</td>\n",
       "      <td>Ton S 210</td>\n",
       "      <td>5046.176</td>\n",
       "      <td>0.000</td>\n",
       "      <td>5467.168</td>\n",
       "      <td>0.000</td>\n",
       "      <td>0.0</td>\n",
       "      <td>...</td>\n",
       "      <td>0.000000</td>\n",
       "      <td>0.0</td>\n",
       "      <td>0.0</td>\n",
       "      <td>0.0</td>\n",
       "      <td>0.0</td>\n",
       "      <td>0.0</td>\n",
       "      <td>0.0</td>\n",
       "      <td>0.0</td>\n",
       "      <td>0.0</td>\n",
       "      <td>0.0</td>\n",
       "    </tr>\n",
       "  </tbody>\n",
       "</table>\n",
       "<p>81 rows × 27 columns</p>\n",
       "</div>"
      ],
      "text/plain": [
       "       idx          RA        DEC        z              Name  COSwG130M  \\\n",
       "0       18  146.007797  -0.642272  0.00502     MCG+00-25-010   6086.560   \n",
       "1       23  186.272552  61.153136  0.00230      LEDA 2816013   1202.368   \n",
       "3       65  209.962158  57.439717  0.03386          Mrk 1486   2166.560   \n",
       "6       80  166.283829  44.746456  0.02130  [BKD2008] WR 276   2388.352   \n",
       "7       85  154.102158  37.912769  0.00388        LEDA 29998   1138.016   \n",
       "...    ...         ...        ...      ...               ...        ...   \n",
       "894   1901   60.454087  -5.682378  0.57023    QSO J0401-0540   5377.376   \n",
       "895   1902  147.503089  48.524814  0.58800     QSO B0946+487   4933.760   \n",
       "897   1904  205.715027  -0.895942  0.32500    LBQS 1340-0038   4606.752   \n",
       "898   1905  214.792529  42.129697  0.87358           PB 2049   3676.352   \n",
       "1221  2504   20.464625 -28.349389  0.11600         Ton S 210   5046.176   \n",
       "\n",
       "      COSwG140L  COSwG160M  COSwG185M  COSwG225M  ...   STISwG230L  \\\n",
       "0         0.000  34584.256   2168.064        0.0  ...  1948.397125   \n",
       "1         0.000   5698.720    404.064        0.0  ...     0.000000   \n",
       "3       600.000   8647.680   1776.064        0.0  ...  2182.399125   \n",
       "6         0.000   8461.664   1828.096        0.0  ...     0.000000   \n",
       "7      2267.200   5216.672    356.064        0.0  ...     0.000000   \n",
       "...         ...        ...        ...        ...  ...          ...   \n",
       "894       0.000   5912.352   7825.600        0.0  ...     0.000000   \n",
       "895       0.000   2927.360   8598.592        0.0  ...     0.000000   \n",
       "897       0.000   2770.368  24297.120        0.0  ...     0.000000   \n",
       "898    2444.352   4354.432   8122.592        0.0  ...     0.000000   \n",
       "1221      0.000   5467.168      0.000        0.0  ...     0.000000   \n",
       "\n",
       "      STISwG230LB  STISwG230M  STISwG230MB  STISwG430L  STISwG430M  \\\n",
       "0             0.0         0.0          0.0         0.0         0.0   \n",
       "1             0.0         0.0          0.0         0.0         0.0   \n",
       "3             0.0         0.0          0.0         0.0         0.0   \n",
       "6             0.0         0.0          0.0         0.0         0.0   \n",
       "7             0.0         0.0          0.0         0.0         0.0   \n",
       "...           ...         ...          ...         ...         ...   \n",
       "894           0.0         0.0          0.0         0.0         0.0   \n",
       "895           0.0         0.0          0.0         0.0         0.0   \n",
       "897           0.0         0.0          0.0         0.0         0.0   \n",
       "898           0.0         0.0          0.0         0.0         0.0   \n",
       "1221          0.0         0.0          0.0         0.0         0.0   \n",
       "\n",
       "      STISwG750L  STISwG750M  STISwPRISM  HIRES  \n",
       "0            0.0         0.0         0.0    0.0  \n",
       "1            0.0         0.0         0.0    0.0  \n",
       "3            0.0         0.0         0.0    0.0  \n",
       "6            0.0         0.0         0.0    0.0  \n",
       "7            0.0         0.0         0.0    0.0  \n",
       "...          ...         ...         ...    ...  \n",
       "894          0.0         0.0         0.0    3.0  \n",
       "895          0.0         0.0         0.0    2.0  \n",
       "897          0.0         0.0         0.0    2.0  \n",
       "898          0.0         0.0         0.0    2.0  \n",
       "1221         0.0         0.0         0.0    0.0  \n",
       "\n",
       "[81 rows x 27 columns]"
      ]
     },
     "execution_count": 10,
     "metadata": {},
     "output_type": "execute_result"
    }
   ],
   "source": [
    "df_FUV_NUV"
   ]
  },
  {
   "cell_type": "code",
   "execution_count": 11,
   "id": "4dd9cae7",
   "metadata": {},
   "outputs": [
    {
     "data": {
      "text/plain": [
       "(array([50.,  7., 10.,  5.,  3.,  2.,  3.,  0.,  0.,  1.]),\n",
       " array([2.2320000e-03, 2.4030880e-01, 4.7838560e-01, 7.1646240e-01,\n",
       "        9.5453920e-01, 1.1926160e+00, 1.4306928e+00, 1.6687696e+00,\n",
       "        1.9068464e+00, 2.1449232e+00, 2.3830000e+00]),\n",
       " <BarContainer object of 10 artists>)"
      ]
     },
     "execution_count": 11,
     "metadata": {},
     "output_type": "execute_result"
    },
    {
     "data": {
      "image/png": "[encoded data removed]",
      "text/plain": [
       "<Figure size 640x480 with 1 Axes>"
      ]
     },
     "metadata": {},
     "output_type": "display_data"
    }
   ],
   "source": [
    "plt.hist(df_FUV_NUV['z'])"
   ]
  },
  {
   "cell_type": "code",
   "execution_count": 12,
   "id": "872127e0",
   "metadata": {},
   "outputs": [
    {
     "data": {
      "text/plain": [
       "24"
      ]
     },
     "execution_count": 12,
     "metadata": {},
     "output_type": "execute_result"
    }
   ],
   "source": [
    "np.sum(df_FUV_NUV['z']>0.5)"
   ]
  },
  {
   "cell_type": "code",
   "execution_count": 13,
   "id": "6ccf5580",
   "metadata": {},
   "outputs": [],
   "source": [
    "df_FUV_NUV_quick = df_FUV_NUV[['z', 'Name', 'COSwG185M', 'STISwE230M', 'COSwG225M', 'HIRES']]"
   ]
  },
  {
   "cell_type": "code",
   "execution_count": 14,
   "id": "4943a9e7",
   "metadata": {},
   "outputs": [
    {
     "data": {
      "text/html": [
       "<div>\n",
       "<style scoped>\n",
       "    .dataframe tbody tr th:only-of-type {\n",
       "        vertical-align: middle;\n",
       "    }\n",
       "\n",
       "    .dataframe tbody tr th {\n",
       "        vertical-align: top;\n",
       "    }\n",
       "\n",
       "    .dataframe thead th {\n",
       "        text-align: right;\n",
       "    }\n",
       "</style>\n",
       "<table border=\"1\" class=\"dataframe\">\n",
       "  <thead>\n",
       "    <tr style=\"text-align: right;\">\n",
       "      <th></th>\n",
       "      <th>z</th>\n",
       "      <th>Name</th>\n",
       "      <th>COSwG185M</th>\n",
       "      <th>STISwE230M</th>\n",
       "      <th>COSwG225M</th>\n",
       "      <th>HIRES</th>\n",
       "    </tr>\n",
       "  </thead>\n",
       "  <tbody>\n",
       "    <tr>\n",
       "      <th>0</th>\n",
       "      <td>0.00502</td>\n",
       "      <td>MCG+00-25-010</td>\n",
       "      <td>2168.064</td>\n",
       "      <td>0.0</td>\n",
       "      <td>0.0</td>\n",
       "      <td>0.0</td>\n",
       "    </tr>\n",
       "    <tr>\n",
       "      <th>1</th>\n",
       "      <td>0.00230</td>\n",
       "      <td>LEDA 2816013</td>\n",
       "      <td>404.064</td>\n",
       "      <td>0.0</td>\n",
       "      <td>0.0</td>\n",
       "      <td>0.0</td>\n",
       "    </tr>\n",
       "    <tr>\n",
       "      <th>3</th>\n",
       "      <td>0.03386</td>\n",
       "      <td>Mrk 1486</td>\n",
       "      <td>1776.064</td>\n",
       "      <td>0.0</td>\n",
       "      <td>0.0</td>\n",
       "      <td>0.0</td>\n",
       "    </tr>\n",
       "    <tr>\n",
       "      <th>6</th>\n",
       "      <td>0.02130</td>\n",
       "      <td>[BKD2008] WR 276</td>\n",
       "      <td>1828.096</td>\n",
       "      <td>0.0</td>\n",
       "      <td>0.0</td>\n",
       "      <td>0.0</td>\n",
       "    </tr>\n",
       "    <tr>\n",
       "      <th>7</th>\n",
       "      <td>0.00388</td>\n",
       "      <td>LEDA 29998</td>\n",
       "      <td>356.064</td>\n",
       "      <td>0.0</td>\n",
       "      <td>0.0</td>\n",
       "      <td>0.0</td>\n",
       "    </tr>\n",
       "    <tr>\n",
       "      <th>...</th>\n",
       "      <td>...</td>\n",
       "      <td>...</td>\n",
       "      <td>...</td>\n",
       "      <td>...</td>\n",
       "      <td>...</td>\n",
       "      <td>...</td>\n",
       "    </tr>\n",
       "    <tr>\n",
       "      <th>894</th>\n",
       "      <td>0.57023</td>\n",
       "      <td>QSO J0401-0540</td>\n",
       "      <td>7825.600</td>\n",
       "      <td>0.0</td>\n",
       "      <td>0.0</td>\n",
       "      <td>3.0</td>\n",
       "    </tr>\n",
       "    <tr>\n",
       "      <th>895</th>\n",
       "      <td>0.58800</td>\n",
       "      <td>QSO B0946+487</td>\n",
       "      <td>8598.592</td>\n",
       "      <td>0.0</td>\n",
       "      <td>0.0</td>\n",
       "      <td>2.0</td>\n",
       "    </tr>\n",
       "    <tr>\n",
       "      <th>897</th>\n",
       "      <td>0.32500</td>\n",
       "      <td>LBQS 1340-0038</td>\n",
       "      <td>24297.120</td>\n",
       "      <td>0.0</td>\n",
       "      <td>0.0</td>\n",
       "      <td>2.0</td>\n",
       "    </tr>\n",
       "    <tr>\n",
       "      <th>898</th>\n",
       "      <td>0.87358</td>\n",
       "      <td>PB 2049</td>\n",
       "      <td>8122.592</td>\n",
       "      <td>0.0</td>\n",
       "      <td>0.0</td>\n",
       "      <td>2.0</td>\n",
       "    </tr>\n",
       "    <tr>\n",
       "      <th>1221</th>\n",
       "      <td>0.11600</td>\n",
       "      <td>Ton S 210</td>\n",
       "      <td>0.000</td>\n",
       "      <td>4890.0</td>\n",
       "      <td>0.0</td>\n",
       "      <td>0.0</td>\n",
       "    </tr>\n",
       "  </tbody>\n",
       "</table>\n",
       "<p>81 rows × 6 columns</p>\n",
       "</div>"
      ],
      "text/plain": [
       "            z              Name  COSwG185M  STISwE230M  COSwG225M  HIRES\n",
       "0     0.00502     MCG+00-25-010   2168.064         0.0        0.0    0.0\n",
       "1     0.00230      LEDA 2816013    404.064         0.0        0.0    0.0\n",
       "3     0.03386          Mrk 1486   1776.064         0.0        0.0    0.0\n",
       "6     0.02130  [BKD2008] WR 276   1828.096         0.0        0.0    0.0\n",
       "7     0.00388        LEDA 29998    356.064         0.0        0.0    0.0\n",
       "...       ...               ...        ...         ...        ...    ...\n",
       "894   0.57023    QSO J0401-0540   7825.600         0.0        0.0    3.0\n",
       "895   0.58800     QSO B0946+487   8598.592         0.0        0.0    2.0\n",
       "897   0.32500    LBQS 1340-0038  24297.120         0.0        0.0    2.0\n",
       "898   0.87358           PB 2049   8122.592         0.0        0.0    2.0\n",
       "1221  0.11600         Ton S 210      0.000      4890.0        0.0    0.0\n",
       "\n",
       "[81 rows x 6 columns]"
      ]
     },
     "execution_count": 14,
     "metadata": {},
     "output_type": "execute_result"
    }
   ],
   "source": [
    "df_FUV_NUV_quick"
   ]
  },
  {
   "cell_type": "markdown",
   "id": "4ea65755-587d-4556-8f35-edef626c8f35",
   "metadata": {},
   "source": [
    "# Summary statistics"
   ]
  },
  {
   "cell_type": "markdown",
   "id": "a0bb5f6e",
   "metadata": {},
   "source": [
    "Specific populations - how many with HIRES"
   ]
  },
  {
   "cell_type": "code",
   "execution_count": 15,
   "id": "80f0dc12",
   "metadata": {},
   "outputs": [
    {
     "data": {
      "text/html": [
       "<div>\n",
       "<style scoped>\n",
       "    .dataframe tbody tr th:only-of-type {\n",
       "        vertical-align: middle;\n",
       "    }\n",
       "\n",
       "    .dataframe tbody tr th {\n",
       "        vertical-align: top;\n",
       "    }\n",
       "\n",
       "    .dataframe thead th {\n",
       "        text-align: right;\n",
       "    }\n",
       "</style>\n",
       "<table border=\"1\" class=\"dataframe\">\n",
       "  <thead>\n",
       "    <tr style=\"text-align: right;\">\n",
       "      <th></th>\n",
       "      <th>z</th>\n",
       "      <th>Name</th>\n",
       "      <th>COSwG185M</th>\n",
       "      <th>STISwE230M</th>\n",
       "      <th>COSwG225M</th>\n",
       "      <th>HIRES</th>\n",
       "    </tr>\n",
       "  </thead>\n",
       "  <tbody>\n",
       "    <tr>\n",
       "      <th>11</th>\n",
       "      <td>0.360000</td>\n",
       "      <td>[JMC2019] 1ES1553+113 group</td>\n",
       "      <td>8695.648</td>\n",
       "      <td>0.0</td>\n",
       "      <td>0.000</td>\n",
       "      <td>1.0</td>\n",
       "    </tr>\n",
       "    <tr>\n",
       "      <th>140</th>\n",
       "      <td>0.914200</td>\n",
       "      <td>QSO B0748+295</td>\n",
       "      <td>7370.336</td>\n",
       "      <td>0.0</td>\n",
       "      <td>9243.584</td>\n",
       "      <td>6.0</td>\n",
       "    </tr>\n",
       "    <tr>\n",
       "      <th>154</th>\n",
       "      <td>0.615035</td>\n",
       "      <td>QSO J0226+0015</td>\n",
       "      <td>7830.592</td>\n",
       "      <td>0.0</td>\n",
       "      <td>0.000</td>\n",
       "      <td>1.0</td>\n",
       "    </tr>\n",
       "    <tr>\n",
       "      <th>230</th>\n",
       "      <td>1.439800</td>\n",
       "      <td>4C -04.06</td>\n",
       "      <td>23423.744</td>\n",
       "      <td>41934.0</td>\n",
       "      <td>29060.192</td>\n",
       "      <td>2.0</td>\n",
       "    </tr>\n",
       "    <tr>\n",
       "      <th>314</th>\n",
       "      <td>0.002530</td>\n",
       "      <td>Mrk 116A</td>\n",
       "      <td>8096.736</td>\n",
       "      <td>0.0</td>\n",
       "      <td>0.000</td>\n",
       "      <td>10.0</td>\n",
       "    </tr>\n",
       "    <tr>\n",
       "      <th>347</th>\n",
       "      <td>0.013500</td>\n",
       "      <td>SBSG 0335-052</td>\n",
       "      <td>5674.784</td>\n",
       "      <td>0.0</td>\n",
       "      <td>0.000</td>\n",
       "      <td>1.0</td>\n",
       "    </tr>\n",
       "    <tr>\n",
       "      <th>412</th>\n",
       "      <td>0.820550</td>\n",
       "      <td>QSO J1016+4706</td>\n",
       "      <td>27645.056</td>\n",
       "      <td>0.0</td>\n",
       "      <td>0.000</td>\n",
       "      <td>4.0</td>\n",
       "    </tr>\n",
       "    <tr>\n",
       "      <th>502</th>\n",
       "      <td>0.381000</td>\n",
       "      <td>QSO J1233+4758</td>\n",
       "      <td>2141.216</td>\n",
       "      <td>0.0</td>\n",
       "      <td>0.000</td>\n",
       "      <td>2.0</td>\n",
       "    </tr>\n",
       "    <tr>\n",
       "      <th>509</th>\n",
       "      <td>0.712310</td>\n",
       "      <td>QSO J1245+3356</td>\n",
       "      <td>2157.216</td>\n",
       "      <td>0.0</td>\n",
       "      <td>0.000</td>\n",
       "      <td>2.0</td>\n",
       "    </tr>\n",
       "    <tr>\n",
       "      <th>530</th>\n",
       "      <td>0.416930</td>\n",
       "      <td>2MASS J13304515+2813216</td>\n",
       "      <td>4609.408</td>\n",
       "      <td>0.0</td>\n",
       "      <td>0.000</td>\n",
       "      <td>2.0</td>\n",
       "    </tr>\n",
       "    <tr>\n",
       "      <th>581</th>\n",
       "      <td>0.696830</td>\n",
       "      <td>QSO J1445+3428</td>\n",
       "      <td>4643.392</td>\n",
       "      <td>0.0</td>\n",
       "      <td>0.000</td>\n",
       "      <td>2.0</td>\n",
       "    </tr>\n",
       "    <tr>\n",
       "      <th>592</th>\n",
       "      <td>0.694350</td>\n",
       "      <td>[VV2006] J151428.6+361958</td>\n",
       "      <td>4643.392</td>\n",
       "      <td>0.0</td>\n",
       "      <td>0.000</td>\n",
       "      <td>2.0</td>\n",
       "    </tr>\n",
       "    <tr>\n",
       "      <th>603</th>\n",
       "      <td>0.713610</td>\n",
       "      <td>QSO J1555+3628</td>\n",
       "      <td>2135.200</td>\n",
       "      <td>0.0</td>\n",
       "      <td>0.000</td>\n",
       "      <td>2.0</td>\n",
       "    </tr>\n",
       "    <tr>\n",
       "      <th>612</th>\n",
       "      <td>0.470490</td>\n",
       "      <td>QSO J1619+3342</td>\n",
       "      <td>2157.184</td>\n",
       "      <td>0.0</td>\n",
       "      <td>0.000</td>\n",
       "      <td>2.0</td>\n",
       "    </tr>\n",
       "    <tr>\n",
       "      <th>674</th>\n",
       "      <td>1.309140</td>\n",
       "      <td>LBQS 1435-0134</td>\n",
       "      <td>15193.376</td>\n",
       "      <td>20896.0</td>\n",
       "      <td>0.000</td>\n",
       "      <td>3.0</td>\n",
       "    </tr>\n",
       "    <tr>\n",
       "      <th>773</th>\n",
       "      <td>0.974410</td>\n",
       "      <td>LB 2126</td>\n",
       "      <td>15836.384</td>\n",
       "      <td>0.0</td>\n",
       "      <td>20251.904</td>\n",
       "      <td>2.0</td>\n",
       "    </tr>\n",
       "    <tr>\n",
       "      <th>779</th>\n",
       "      <td>0.945000</td>\n",
       "      <td>QSO J1409+2618</td>\n",
       "      <td>7370.336</td>\n",
       "      <td>0.0</td>\n",
       "      <td>9243.648</td>\n",
       "      <td>2.0</td>\n",
       "    </tr>\n",
       "    <tr>\n",
       "      <th>782</th>\n",
       "      <td>1.327630</td>\n",
       "      <td>QSO B1521+1009</td>\n",
       "      <td>15172.320</td>\n",
       "      <td>20880.0</td>\n",
       "      <td>0.000</td>\n",
       "      <td>2.0</td>\n",
       "    </tr>\n",
       "    <tr>\n",
       "      <th>784</th>\n",
       "      <td>1.475680</td>\n",
       "      <td>QSO B1630+3744</td>\n",
       "      <td>15758.304</td>\n",
       "      <td>34100.0</td>\n",
       "      <td>23149.696</td>\n",
       "      <td>3.0</td>\n",
       "    </tr>\n",
       "    <tr>\n",
       "      <th>797</th>\n",
       "      <td>0.176000</td>\n",
       "      <td>Ton 1388</td>\n",
       "      <td>0.000</td>\n",
       "      <td>5647.0</td>\n",
       "      <td>0.000</td>\n",
       "      <td>3.0</td>\n",
       "    </tr>\n",
       "    <tr>\n",
       "      <th>820</th>\n",
       "      <td>0.501000</td>\n",
       "      <td>QSO B2128-123</td>\n",
       "      <td>23382.720</td>\n",
       "      <td>0.0</td>\n",
       "      <td>2686.368</td>\n",
       "      <td>7.0</td>\n",
       "    </tr>\n",
       "    <tr>\n",
       "      <th>894</th>\n",
       "      <td>0.570230</td>\n",
       "      <td>QSO J0401-0540</td>\n",
       "      <td>7825.600</td>\n",
       "      <td>0.0</td>\n",
       "      <td>0.000</td>\n",
       "      <td>3.0</td>\n",
       "    </tr>\n",
       "    <tr>\n",
       "      <th>895</th>\n",
       "      <td>0.588000</td>\n",
       "      <td>QSO B0946+487</td>\n",
       "      <td>8598.592</td>\n",
       "      <td>0.0</td>\n",
       "      <td>0.000</td>\n",
       "      <td>2.0</td>\n",
       "    </tr>\n",
       "    <tr>\n",
       "      <th>897</th>\n",
       "      <td>0.325000</td>\n",
       "      <td>LBQS 1340-0038</td>\n",
       "      <td>24297.120</td>\n",
       "      <td>0.0</td>\n",
       "      <td>0.000</td>\n",
       "      <td>2.0</td>\n",
       "    </tr>\n",
       "    <tr>\n",
       "      <th>898</th>\n",
       "      <td>0.873580</td>\n",
       "      <td>PB 2049</td>\n",
       "      <td>8122.592</td>\n",
       "      <td>0.0</td>\n",
       "      <td>0.000</td>\n",
       "      <td>2.0</td>\n",
       "    </tr>\n",
       "  </tbody>\n",
       "</table>\n",
       "</div>"
      ],
      "text/plain": [
       "            z                         Name  COSwG185M  STISwE230M  COSwG225M  \\\n",
       "11   0.360000  [JMC2019] 1ES1553+113 group   8695.648         0.0      0.000   \n",
       "140  0.914200                QSO B0748+295   7370.336         0.0   9243.584   \n",
       "154  0.615035               QSO J0226+0015   7830.592         0.0      0.000   \n",
       "230  1.439800                    4C -04.06  23423.744     41934.0  29060.192   \n",
       "314  0.002530                     Mrk 116A   8096.736         0.0      0.000   \n",
       "347  0.013500                SBSG 0335-052   5674.784         0.0      0.000   \n",
       "412  0.820550               QSO J1016+4706  27645.056         0.0      0.000   \n",
       "502  0.381000               QSO J1233+4758   2141.216         0.0      0.000   \n",
       "509  0.712310               QSO J1245+3356   2157.216         0.0      0.000   \n",
       "530  0.416930      2MASS J13304515+2813216   4609.408         0.0      0.000   \n",
       "581  0.696830               QSO J1445+3428   4643.392         0.0      0.000   \n",
       "592  0.694350    [VV2006] J151428.6+361958   4643.392         0.0      0.000   \n",
       "603  0.713610               QSO J1555+3628   2135.200         0.0      0.000   \n",
       "612  0.470490               QSO J1619+3342   2157.184         0.0      0.000   \n",
       "674  1.309140               LBQS 1435-0134  15193.376     20896.0      0.000   \n",
       "773  0.974410                      LB 2126  15836.384         0.0  20251.904   \n",
       "779  0.945000               QSO J1409+2618   7370.336         0.0   9243.648   \n",
       "782  1.327630               QSO B1521+1009  15172.320     20880.0      0.000   \n",
       "784  1.475680               QSO B1630+3744  15758.304     34100.0  23149.696   \n",
       "797  0.176000                     Ton 1388      0.000      5647.0      0.000   \n",
       "820  0.501000                QSO B2128-123  23382.720         0.0   2686.368   \n",
       "894  0.570230               QSO J0401-0540   7825.600         0.0      0.000   \n",
       "895  0.588000                QSO B0946+487   8598.592         0.0      0.000   \n",
       "897  0.325000               LBQS 1340-0038  24297.120         0.0      0.000   \n",
       "898  0.873580                      PB 2049   8122.592         0.0      0.000   \n",
       "\n",
       "     HIRES  \n",
       "11     1.0  \n",
       "140    6.0  \n",
       "154    1.0  \n",
       "230    2.0  \n",
       "314   10.0  \n",
       "347    1.0  \n",
       "412    4.0  \n",
       "502    2.0  \n",
       "509    2.0  \n",
       "530    2.0  \n",
       "581    2.0  \n",
       "592    2.0  \n",
       "603    2.0  \n",
       "612    2.0  \n",
       "674    3.0  \n",
       "773    2.0  \n",
       "779    2.0  \n",
       "782    2.0  \n",
       "784    3.0  \n",
       "797    3.0  \n",
       "820    7.0  \n",
       "894    3.0  \n",
       "895    2.0  \n",
       "897    2.0  \n",
       "898    2.0  "
      ]
     },
     "execution_count": 15,
     "metadata": {},
     "output_type": "execute_result"
    }
   ],
   "source": [
    "df_FUV_NUV_quick.loc[df_FUV_NUV_quick['HIRES']!=0]"
   ]
  },
  {
   "cell_type": "code",
   "execution_count": 16,
   "id": "9471882c",
   "metadata": {},
   "outputs": [
    {
     "data": {
      "text/plain": [
       "25"
      ]
     },
     "execution_count": 16,
     "metadata": {},
     "output_type": "execute_result"
    }
   ],
   "source": [
    "len(df_FUV_NUV_quick.loc[df_FUV_NUV_quick['HIRES']!=0])"
   ]
  },
  {
   "cell_type": "markdown",
   "id": "2a4ab59f",
   "metadata": {},
   "source": [
    "How many with G185M and E230M?"
   ]
  },
  {
   "cell_type": "code",
   "execution_count": 17,
   "id": "5d0dfea5",
   "metadata": {},
   "outputs": [
    {
     "data": {
      "text/html": [
       "<div>\n",
       "<style scoped>\n",
       "    .dataframe tbody tr th:only-of-type {\n",
       "        vertical-align: middle;\n",
       "    }\n",
       "\n",
       "    .dataframe tbody tr th {\n",
       "        vertical-align: top;\n",
       "    }\n",
       "\n",
       "    .dataframe thead th {\n",
       "        text-align: right;\n",
       "    }\n",
       "</style>\n",
       "<table border=\"1\" class=\"dataframe\">\n",
       "  <thead>\n",
       "    <tr style=\"text-align: right;\">\n",
       "      <th></th>\n",
       "      <th>z</th>\n",
       "      <th>Name</th>\n",
       "      <th>COSwG185M</th>\n",
       "      <th>STISwE230M</th>\n",
       "      <th>COSwG225M</th>\n",
       "      <th>HIRES</th>\n",
       "    </tr>\n",
       "  </thead>\n",
       "  <tbody>\n",
       "    <tr>\n",
       "      <th>230</th>\n",
       "      <td>1.43980</td>\n",
       "      <td>4C -04.06</td>\n",
       "      <td>23423.744</td>\n",
       "      <td>41934.0</td>\n",
       "      <td>29060.192</td>\n",
       "      <td>2.0</td>\n",
       "    </tr>\n",
       "    <tr>\n",
       "      <th>674</th>\n",
       "      <td>1.30914</td>\n",
       "      <td>LBQS 1435-0134</td>\n",
       "      <td>15193.376</td>\n",
       "      <td>20896.0</td>\n",
       "      <td>0.000</td>\n",
       "      <td>3.0</td>\n",
       "    </tr>\n",
       "    <tr>\n",
       "      <th>775</th>\n",
       "      <td>1.16235</td>\n",
       "      <td>QSO J1208+4540</td>\n",
       "      <td>12319.136</td>\n",
       "      <td>17266.0</td>\n",
       "      <td>44303.712</td>\n",
       "      <td>0.0</td>\n",
       "    </tr>\n",
       "    <tr>\n",
       "      <th>782</th>\n",
       "      <td>1.32763</td>\n",
       "      <td>QSO B1521+1009</td>\n",
       "      <td>15172.320</td>\n",
       "      <td>20880.0</td>\n",
       "      <td>0.000</td>\n",
       "      <td>2.0</td>\n",
       "    </tr>\n",
       "    <tr>\n",
       "      <th>784</th>\n",
       "      <td>1.47568</td>\n",
       "      <td>QSO B1630+3744</td>\n",
       "      <td>15758.304</td>\n",
       "      <td>34100.0</td>\n",
       "      <td>23149.696</td>\n",
       "      <td>3.0</td>\n",
       "    </tr>\n",
       "  </tbody>\n",
       "</table>\n",
       "</div>"
      ],
      "text/plain": [
       "           z            Name  COSwG185M  STISwE230M  COSwG225M  HIRES\n",
       "230  1.43980       4C -04.06  23423.744     41934.0  29060.192    2.0\n",
       "674  1.30914  LBQS 1435-0134  15193.376     20896.0      0.000    3.0\n",
       "775  1.16235  QSO J1208+4540  12319.136     17266.0  44303.712    0.0\n",
       "782  1.32763  QSO B1521+1009  15172.320     20880.0      0.000    2.0\n",
       "784  1.47568  QSO B1630+3744  15758.304     34100.0  23149.696    3.0"
      ]
     },
     "execution_count": 17,
     "metadata": {},
     "output_type": "execute_result"
    }
   ],
   "source": [
    "df_FUV_NUV_quick.loc[(df_FUV_NUV_quick['COSwG185M']!=0)&(df_FUV_NUV_quick['STISwE230M']!=0)]"
   ]
  },
  {
   "cell_type": "markdown",
   "id": "b115d418-5103-4635-9fbc-b8c8a2d8a6c1",
   "metadata": {},
   "source": [
    "# Classify QSOs"
   ]
  },
  {
   "cell_type": "markdown",
   "id": "2c75b6d1-7a58-4116-ba5b-feae5af51760",
   "metadata": {},
   "source": [
    "Classify into cases"
   ]
  },
  {
   "cell_type": "code",
   "execution_count": 28,
   "id": "717aeffc",
   "metadata": {},
   "outputs": [],
   "source": [
    "def classify(x185, x230, x225):\n",
    "    \n",
    "    if x185!=0 and x230==0 and x225==0:\n",
    "        return 1\n",
    "    \n",
    "    elif x185==0 and x230!=0 and x225==0:\n",
    "        return 2\n",
    "    \n",
    "    elif x185==0 and x230==0 and x225!=0:\n",
    "        return 3\n",
    "    \n",
    "    elif x185!=0 and x230!=0 and x225==0:\n",
    "        return 4\n",
    "    \n",
    "    elif x185==0 and x230!=0 and x225!=0:\n",
    "        return 5\n",
    "    \n",
    "    elif x185!=0 and x230==0 and x225!=0:\n",
    "        return 6\n",
    "    \n",
    "    else:\n",
    "        return 7"
   ]
  },
  {
   "cell_type": "code",
   "execution_count": 29,
   "id": "a507b828-8ae9-459d-8c6c-0d03650c233e",
   "metadata": {},
   "outputs": [],
   "source": [
    "def label(x185,x230,x225):\n",
    "    \n",
    "    s = []\n",
    "    \n",
    "    if x185!=0:\n",
    "        s.append('G185')\n",
    "    if x230!=0:\n",
    "        s.append('E230')\n",
    "    if x225!=0:\n",
    "        s.append('G225')\n",
    "        \n",
    "    return s"
   ]
  },
  {
   "cell_type": "code",
   "execution_count": 37,
   "id": "25f323f0",
   "metadata": {},
   "outputs": [],
   "source": [
    "zQ_arr = np.array(df_FUV_NUV_quick['z'])\n",
    "G185_arr = np.array(df_FUV_NUV_quick['COSwG185M'])\n",
    "E230_arr = np.array(df_FUV_NUV_quick['STISwE230M'])\n",
    "G225_arr = np.array(df_FUV_NUV_quick['COSwG225M'])\n",
    "HIRES_arr = np.array(df_FUV_NUV_quick['HIRES'])\n",
    "case_arr = np.zeros(len(zQ_arr), dtype=int)\n",
    "label_arr = []"
   ]
  },
  {
   "cell_type": "code",
   "execution_count": 38,
   "id": "988e7625",
   "metadata": {},
   "outputs": [],
   "source": [
    "for i in range(len(zQ_arr)):\n",
    "    case_arr[i] = classify(G185_arr[i], E230_arr[i], G225_arr[i])\n",
    "    label_arr.append(label(G185_arr[i], E230_arr[i], G225_arr[i]))"
   ]
  },
  {
   "cell_type": "markdown",
   "id": "e8f6493b-9c31-4eb2-982b-59846ebc22e0",
   "metadata": {},
   "source": [
    "# Expected OVI"
   ]
  },
  {
   "cell_type": "code",
   "execution_count": 41,
   "id": "eda1f6cf-0d18-45e2-a8f2-7552ec17bb6e",
   "metadata": {},
   "outputs": [],
   "source": [
    "def compute_gaps(label):\n",
    "    \n",
    "    wav_dict = {'FUV':[1180, 1780],\n",
    "                'G185':[1805, 2095],\n",
    "                'E230':[1995, 2775],\n",
    "                'G225':[2225, 2525]}\n",
    "  \n",
    "    gaps = []\n",
    "    \n",
    "    curr_max = wav_dict['FUV'][1]\n",
    "    \n",
    "    for l in label:\n",
    "        next_min = wav_dict[l][0]\n",
    "        \n",
    "        if next_min > curr_max:\n",
    "            gaps.append([curr_max, next_min])\n",
    "            \n",
    "        curr_max = wav_dict[l][1]\n",
    "        \n",
    "    return gaps"
   ]
  },
  {
   "cell_type": "code",
   "execution_count": 42,
   "id": "72678cb7-9eb2-4460-96da-73cac81c7d3f",
   "metadata": {},
   "outputs": [],
   "source": [
    "gaps_arr = []\n",
    "\n",
    "for i in range(len(zQ_arr)):\n",
    "    gaps_arr.append(compute_gaps(label_arr[i]))"
   ]
  },
  {
   "cell_type": "code",
   "execution_count": null,
   "id": "ca6bf9ea-d79a-4279-8069-f44175cd3023",
   "metadata": {},
   "outputs": [],
   "source": [
    "def compute_dz(lam0_min, lam0_max, )"
   ]
  },
  {
   "cell_type": "markdown",
   "id": "e3ced320-5e3b-436c-9d27-d0c0d6ad31b7",
   "metadata": {},
   "source": [
    "## Blind search"
   ]
  },
  {
   "cell_type": "markdown",
   "id": "9b6a9b19-af70-47a8-b514-0180eeaf2d9f",
   "metadata": {},
   "source": [
    "# Expected CIV"
   ]
  },
  {
   "cell_type": "markdown",
   "id": "f3437a9a-f2d3-4062-a73f-6c7e234b4a6a",
   "metadata": {},
   "source": [
    "## Blind search"
   ]
  },
  {
   "cell_type": "markdown",
   "id": "9fe4e8f1",
   "metadata": {},
   "source": [
    "Compute blind search redshift pathlength. First specify accessible redshift ranges."
   ]
  },
  {
   "cell_type": "code",
   "execution_count": 20,
   "id": "71014221",
   "metadata": {},
   "outputs": [],
   "source": [
    "zmax_FUV = 0.15\n",
    "\n",
    "zmin_G185 = 0.17\n",
    "zmax_G185 = 0.35\n",
    "\n",
    "zmin_E230 = 0.29\n",
    "zmax_E230 = 0.79\n",
    "\n",
    "zmin_G225 = 0.44\n",
    "zmax_G225 = 0.63\n",
    "\n",
    "zmin_HIRES = 1.00\n",
    "zmax_HIRES = 2.77"
   ]
  },
  {
   "cell_type": "code",
   "execution_count": 21,
   "id": "4c4f6425",
   "metadata": {},
   "outputs": [],
   "source": [
    "def dz_blind(z, xHIRES, c):\n",
    "        \n",
    "    if c == 1:\n",
    "        if z<zmin_G185:\n",
    "            dz = min(z,zmax_FUV) # Only FUV\n",
    "        else:\n",
    "            dz = min(z,zmax_G185)-zmin_G185+zmax_FUV # Already searched FUV, start G185M\n",
    "        \n",
    "    elif c == 2:\n",
    "        if z<zmin_E230:\n",
    "            dz = min(z,zmax_FUV) # Only FUV\n",
    "        else:\n",
    "            dz = min(z,zmax_E230)-zmin_E230+zmax_FUV # Already searched FUV, start E230M\n",
    "     \n",
    "    elif c == 3:\n",
    "        if z<zmin_G225:\n",
    "            dz = min(z,zmax_FUV) # Only FUV\n",
    "        else:\n",
    "            dz = min(z,zmax_G225)-zmin_G225+zmax_FUV # Already searched FUV, start G225M   \n",
    "        \n",
    "    elif c==4:\n",
    "        if z<zmin_G185:\n",
    "            dz = min(z,zmax_FUV) # Only FUV\n",
    "        else:\n",
    "            dz = min(z,zmax_E230)-zmin_G185+zmax_FUV # Pretend G185M + E230M is a single grating\n",
    "        \n",
    "    elif c==5:\n",
    "        if z<zmin_E230:\n",
    "            dz = min(z,zmax_FUV)\n",
    "        else:\n",
    "            dz = min(z,zmax_E230)-zmin_E230+zmax_FUV # Ignore G225M\n",
    "        \n",
    "    elif c==6:\n",
    "        if z<zmin_G185:\n",
    "            dz = min(z,zmax_FUV)\n",
    "        elif zmin_G185<z<zmin_G225:\n",
    "            dz = min(z,zmax_G185)-zmin_G185+zmax_FUV # No consideration for G225M yet\n",
    "        else:\n",
    "            dz = min(z,zmax_G225)-zmin_G225+(zmax_G185-zmin_G185)+zmax_FUV # Already searched G185M\n",
    "        \n",
    "    elif c==7:\n",
    "        if z<zmin_G185:\n",
    "            dz = min(z,zmax_FUV) # Only FUV\n",
    "        else:\n",
    "            dz = min(z,zmax_E230)-zmin_G185+zmax_FUV # Pretend G185M + E230M is a single grating, ignore G225M\n",
    "            \n",
    "    # Finally check for HIRES\n",
    "    if xHIRES!=0 and z>zmin_HIRES:\n",
    "        dz += min(z,zmax_HIRES) - zmin_HIRES\n",
    "        \n",
    "    return dz"
   ]
  },
  {
   "cell_type": "code",
   "execution_count": 22,
   "id": "7fc7105a",
   "metadata": {},
   "outputs": [],
   "source": [
    "dz_blind_arr = np.zeros(len(zQ_arr))\n",
    "\n",
    "for i in range(len(zQ_arr)):\n",
    "    dz_blind_arr[i] = dz_blind(zQ_arr[i], HIRES_arr[i], case_arr[i])"
   ]
  },
  {
   "cell_type": "code",
   "execution_count": 23,
   "id": "2981b283",
   "metadata": {},
   "outputs": [],
   "source": [
    "dN_dz = 6.2"
   ]
  },
  {
   "cell_type": "code",
   "execution_count": 24,
   "id": "c3c6c7fb",
   "metadata": {},
   "outputs": [
    {
     "data": {
      "text/plain": [
       "array([0.00502   , 0.0023    , 0.03386   , 0.0213    , 0.00388   ,\n",
       "       0.03787   , 0.33      , 0.00268   , 0.01485   , 0.52      ,\n",
       "       0.33      , 0.0209    , 1.2098    , 0.34      , 0.002232  ,\n",
       "       0.04722   , 0.00253   , 0.0984    , 0.005     , 0.005405  ,\n",
       "       0.0135    , 0.09116   , 0.16068   , 0.10212   , 0.02005   ,\n",
       "       0.33      , 0.33      , 0.03329   , 0.1265    , 0.00446   ,\n",
       "       0.004721  , 0.01764   , 0.12695   , 0.04515   , 0.0025    ,\n",
       "       0.06683   , 0.33      , 0.33      , 0.0227    , 0.00288   ,\n",
       "       0.02246   , 0.33      , 0.12316   , 0.16167   , 0.1536    ,\n",
       "       0.33      , 0.0274    , 0.33      , 0.09426   , 0.07579   ,\n",
       "       0.33      , 0.14914   , 0.33      , 1.07914   , 0.003903  ,\n",
       "       0.03040355, 0.035     , 0.008     , 0.009755  , 0.01627   ,\n",
       "       0.18553   , 0.52      , 0.77      , 0.3113    , 0.52      ,\n",
       "       1.09763   , 1.24568   , 0.15      , 0.15      , 0.391     ,\n",
       "       0.1800237 , 0.33      , 0.40429   , 0.24428   , 0.52      ,\n",
       "       0.33      , 0.33      , 0.33      , 0.305     , 0.33      ,\n",
       "       0.116     ])"
      ]
     },
     "execution_count": 24,
     "metadata": {},
     "output_type": "execute_result"
    }
   ],
   "source": [
    "dz_blind_arr"
   ]
  },
  {
   "cell_type": "code",
   "execution_count": 25,
   "id": "b67f0a9d",
   "metadata": {},
   "outputs": [
    {
     "data": {
      "text/plain": [
       "109.08939215000002"
      ]
     },
     "execution_count": 25,
     "metadata": {},
     "output_type": "execute_result"
    }
   ],
   "source": [
    "dN_dz*np.sum(dz_blind_arr)"
   ]
  },
  {
   "cell_type": "markdown",
   "id": "a2f5087e-fa42-406a-bc1c-626618dc8f21",
   "metadata": {},
   "source": [
    "## Require CII"
   ]
  },
  {
   "cell_type": "markdown",
   "id": "7d790677",
   "metadata": {},
   "source": [
    "Require CII in search $z_\\mathrm{CIV}>0.14$ (just need to reduce FUV path length from blind search)"
   ]
  },
  {
   "cell_type": "code",
   "execution_count": 26,
   "id": "61ca40a2",
   "metadata": {},
   "outputs": [],
   "source": [
    "zmin_CII = 0.14"
   ]
  },
  {
   "cell_type": "code",
   "execution_count": 27,
   "id": "f79c1020",
   "metadata": {},
   "outputs": [],
   "source": [
    "def dz_CII(z, xHIRES, c):\n",
    "        \n",
    "    if z<zmin_CII:\n",
    "        dz = 0\n",
    "    else:\n",
    "        if c == 1:\n",
    "            if z<zmin_G185:\n",
    "                dz = min(z,zmax_FUV)-zmin_CII # Only FUV, but need to begin at zmin_CII\n",
    "            else:\n",
    "                dz = min(z,zmax_G185)-zmin_G185+zmax_FUV-zmin_CII # Already searched FUV, start G185M\n",
    "\n",
    "        elif c == 2:\n",
    "            if z<zmin_E230:\n",
    "                dz = min(z,zmax_FUV) # Only FUV\n",
    "            else:\n",
    "                dz = min(z,zmax_E230)-zmin_E230+zmax_FUV-zmin_CII # Already searched FUV, start E230M\n",
    "\n",
    "        elif c == 3:\n",
    "            if z<zmin_G225:\n",
    "                dz = min(z,zmax_FUV) # Only FUV\n",
    "            else:\n",
    "                dz = min(z,zmax_G225)-zmin_G225+zmax_FUV-zmin_CII # Already searched FUV, start G225M   \n",
    "\n",
    "        elif c==4:\n",
    "            if z<zmin_G185:\n",
    "                dz = min(z,zmax_FUV) # Only FUV\n",
    "            else:\n",
    "                dz = min(z,zmax_E230)-zmin_G185+zmax_FUV-zmin_CII # Pretend G185M + E230M is a single grating\n",
    "\n",
    "        elif c==5:\n",
    "            if z<zmin_E230:\n",
    "                dz = min(z,zmax_FUV)\n",
    "            else:\n",
    "                dz = min(z,zmax_E230)-zmin_E230+zmax_FUV-zmin_CII # Ignore G225M\n",
    "\n",
    "        elif c==6:\n",
    "            if z<zmin_G185:\n",
    "                dz = min(z,zmax_FUV)\n",
    "            elif zmin_G185<z<zmin_G225:\n",
    "                dz = min(z,zmax_G185)-zmin_G185+zmax_FUV-zmin_CII # No consideration for G225M yet\n",
    "            else:\n",
    "                dz = min(z,zmax_G225)-zmin_G225+(zmax_G185-zmin_G185)+zmax_FUV-zmin_CII # Already searched G185M\n",
    "\n",
    "        elif c==7:\n",
    "            if z<zmin_G185:\n",
    "                dz = min(z,zmax_FUV)-zmin_CII # Only FUV\n",
    "            else:\n",
    "                dz = min(z,zmax_E230)-zmin_G185+zmax_FUV-zmin_CII # Pretend G185M + E230M is a single grating, ignore G225M\n",
    "            \n",
    "    # Finally check for HIRES\n",
    "    if xHIRES!=0 and z>zmin_HIRES:\n",
    "        dz += min(z,zmax_HIRES) - zmin_HIRES\n",
    "        \n",
    "    return dz"
   ]
  },
  {
   "cell_type": "code",
   "execution_count": 28,
   "id": "1eb73cf3",
   "metadata": {},
   "outputs": [],
   "source": [
    "dz_CII_arr = np.zeros(len(zQ_arr))\n",
    "\n",
    "for i in range(len(zQ_arr)):\n",
    "    dz_CII_arr[i] = dz_CII(zQ_arr[i], HIRES_arr[i], case_arr[i])"
   ]
  },
  {
   "cell_type": "code",
   "execution_count": 29,
   "id": "fee2f718",
   "metadata": {},
   "outputs": [
    {
     "data": {
      "text/plain": [
       "array([0.       , 0.       , 0.       , 0.       , 0.       , 0.       ,\n",
       "       0.19     , 0.       , 0.       , 0.38     , 0.19     , 0.       ,\n",
       "       1.0698   , 0.2      , 0.       , 0.       , 0.       , 0.       ,\n",
       "       0.       , 0.       , 0.       , 0.       , 0.02068  , 0.       ,\n",
       "       0.       , 0.19     , 0.19     , 0.       , 0.       , 0.       ,\n",
       "       0.       , 0.       , 0.       , 0.       , 0.       , 0.       ,\n",
       "       0.19     , 0.19     , 0.       , 0.       , 0.       , 0.19     ,\n",
       "       0.       , 0.02167  , 0.0136   , 0.19     , 0.       , 0.19     ,\n",
       "       0.       , 0.       , 0.19     , 0.14914  , 0.19     , 0.93914  ,\n",
       "       0.       , 0.       , 0.       , 0.       , 0.       , 0.       ,\n",
       "       0.04553  , 0.38     , 0.63     , 0.1713   , 0.38     , 0.95763  ,\n",
       "       1.10568  , 0.15     , 0.15     , 0.251    , 0.0400237, 0.19     ,\n",
       "       0.26429  , 0.10428  , 0.38     , 0.19     , 0.19     , 0.19     ,\n",
       "       0.165    , 0.19     , 0.       ])"
      ]
     },
     "execution_count": 29,
     "metadata": {},
     "output_type": "execute_result"
    }
   ],
   "source": [
    "dz_CII_arr"
   ]
  },
  {
   "cell_type": "code",
   "execution_count": 30,
   "id": "b0748864",
   "metadata": {},
   "outputs": [
    {
     "data": {
      "text/plain": [
       "68.25433493999999"
      ]
     },
     "execution_count": 30,
     "metadata": {},
     "output_type": "execute_result"
    }
   ],
   "source": [
    "dN_dz*np.sum(dz_CII_arr)"
   ]
  },
  {
   "cell_type": "markdown",
   "id": "2cadf44f-8a79-43d8-a641-aaecf9072e68",
   "metadata": {},
   "source": [
    "## Require CIII"
   ]
  },
  {
   "cell_type": "markdown",
   "id": "5443cfa7",
   "metadata": {},
   "source": [
    "Require CIII in search $z_\\mathrm{CIV}>0.21$"
   ]
  },
  {
   "cell_type": "code",
   "execution_count": 31,
   "id": "66e33901",
   "metadata": {},
   "outputs": [],
   "source": [
    "zmin_CIII = 0.21"
   ]
  },
  {
   "cell_type": "code",
   "execution_count": 32,
   "id": "afe6c08e",
   "metadata": {},
   "outputs": [],
   "source": [
    "def dz_CIII(z, xHIRES, c):\n",
    "        \n",
    "    if c == 1:\n",
    "        if z<zmin_CIII:\n",
    "            dz = 0 # Cannot search in FUV\n",
    "        else:\n",
    "            dz = min(z,zmax_G185)-zmin_CIII # Only begin looking at zmin_CIII\n",
    "        \n",
    "    elif c == 2:\n",
    "        if z<zmin_E230:\n",
    "            dz = 0 # Nothing to find\n",
    "        else:\n",
    "            dz = min(z,zmax_E230)-zmin_E230 # Cannot search FUV, start E230M\n",
    "     \n",
    "    elif c == 3:\n",
    "        if z<zmin_G225:\n",
    "            dz = 0\n",
    "        else:\n",
    "            dz = min(z,zmax_G225)-zmin_G225\n",
    "        \n",
    "    elif c==4:\n",
    "        if z<zmin_CIII:\n",
    "            dz = 0 # Only FUV\n",
    "        else:\n",
    "            dz = min(z,zmax_E230)-zmin_CIII # Pretend G185M + E230M is a single grating\n",
    "        \n",
    "    elif c==5:\n",
    "        if z<zmin_E230:\n",
    "            dz = 0\n",
    "        else:\n",
    "            dz = min(z,zmax_E230)-zmin_E230 # Ignore G225M\n",
    "        \n",
    "    elif c==6:\n",
    "        if z<zmin_CIII:\n",
    "            dz = 0\n",
    "        elif zmin_CIII<z<zmin_G225:\n",
    "            dz = min(z,zmax_G185)-zmin_CIII # No consideration for G225M yet\n",
    "        else:\n",
    "            dz = min(z,zmax_G225)-zmin_G225+(zmax_G185-zmin_CIII) # Already searched G185M\n",
    "        \n",
    "    elif c==7:\n",
    "        if z<zmin_CIII:\n",
    "            dz = 0\n",
    "        else:\n",
    "            dz = min(z,zmax_E230)-zmin_CIII # Pretend G185M + E230M is a single grating, ignore G225M\n",
    "            \n",
    "    # Finally check for HIRES\n",
    "    if xHIRES!=0 and z>zmin_HIRES:\n",
    "        dz += min(z,zmax_HIRES) - zmin_HIRES\n",
    "        \n",
    "    return dz"
   ]
  },
  {
   "cell_type": "code",
   "execution_count": 33,
   "id": "8eb2665d",
   "metadata": {},
   "outputs": [],
   "source": [
    "dz_CIII_arr = np.zeros(len(zQ_arr))\n",
    "\n",
    "for i in range(len(zQ_arr)):\n",
    "    dz_CIII_arr[i] = dz_CIII(zQ_arr[i], HIRES_arr[i], case_arr[i])"
   ]
  },
  {
   "cell_type": "code",
   "execution_count": 34,
   "id": "07f648ca",
   "metadata": {
    "scrolled": true
   },
   "outputs": [
    {
     "data": {
      "text/plain": [
       "array([0.     , 0.     , 0.     , 0.     , 0.     , 0.     , 0.14   ,\n",
       "       0.     , 0.     , 0.33   , 0.14   , 0.     , 1.0198 , 0.19   ,\n",
       "       0.     , 0.     , 0.     , 0.     , 0.     , 0.     , 0.     ,\n",
       "       0.     , 0.     , 0.     , 0.     , 0.14   , 0.14   , 0.     ,\n",
       "       0.     , 0.     , 0.     , 0.     , 0.     , 0.     , 0.     ,\n",
       "       0.     , 0.14   , 0.14   , 0.     , 0.     , 0.     , 0.14   ,\n",
       "       0.     , 0.     , 0.     , 0.14   , 0.     , 0.14   , 0.     ,\n",
       "       0.     , 0.14   , 0.     , 0.14   , 0.88914, 0.     , 0.     ,\n",
       "       0.     , 0.     , 0.     , 0.     , 0.     , 0.33   , 0.58   ,\n",
       "       0.1213 , 0.33   , 0.90763, 1.05568, 0.     , 0.     , 0.201  ,\n",
       "       0.     , 0.14   , 0.21429, 0.05428, 0.33   , 0.14   , 0.14   ,\n",
       "       0.14   , 0.115  , 0.14   , 0.     ])"
      ]
     },
     "execution_count": 34,
     "metadata": {},
     "output_type": "execute_result"
    }
   ],
   "source": [
    "dz_CIII_arr"
   ]
  },
  {
   "cell_type": "code",
   "execution_count": 35,
   "id": "68661142",
   "metadata": {},
   "outputs": [
    {
     "data": {
      "text/plain": [
       "31"
      ]
     },
     "execution_count": 35,
     "metadata": {},
     "output_type": "execute_result"
    }
   ],
   "source": [
    "len(zQ_arr[dz_CIII_arr!=0])"
   ]
  },
  {
   "cell_type": "code",
   "execution_count": 36,
   "id": "da1ceceb",
   "metadata": {},
   "outputs": [
    {
     "data": {
      "text/plain": [
       "55.230344"
      ]
     },
     "execution_count": 36,
     "metadata": {},
     "output_type": "execute_result"
    }
   ],
   "source": [
    "dN_dz*np.sum(dz_CIII_arr)"
   ]
  },
  {
   "cell_type": "markdown",
   "id": "8d60fefe",
   "metadata": {},
   "source": [
    "## Require OIV\n",
    "\n",
    "Require OIV ($z_\\mathrm{CIV}>0.5$)"
   ]
  },
  {
   "cell_type": "code",
   "execution_count": 37,
   "id": "c496c7a8",
   "metadata": {},
   "outputs": [],
   "source": [
    "zmin_OIV = 0.5"
   ]
  },
  {
   "cell_type": "code",
   "execution_count": 38,
   "id": "69c9c531",
   "metadata": {},
   "outputs": [],
   "source": [
    "def dz_OIV(z, xHIRES, c):\n",
    "        \n",
    "    if c == 1:\n",
    "        dz = 0 # Cannot search in FUV or G185M\n",
    "        \n",
    "    elif c == 2:\n",
    "        if z<zmin_OIV:\n",
    "            dz = 0 # Nothing to find\n",
    "        else:\n",
    "            dz = min(z,zmax_E230)-zmin_OIV # Begin at zmin_OIV in E230M\n",
    "     \n",
    "    elif c == 3:\n",
    "        if z<zmin_OIV:\n",
    "            dz = 0\n",
    "        else:\n",
    "            dz = min(z,zmax_G225)-zmin_OIV # Begin at zmin_OIV in G225M\n",
    "        \n",
    "    elif c==4:\n",
    "        if z<zmin_OIV:\n",
    "            dz = 0\n",
    "        else:\n",
    "            dz = min(z,zmax_E230)-zmin_OIV # Ignore G185M\n",
    "        \n",
    "    elif c==5:\n",
    "        if z<zmin_OIV:\n",
    "            dz = 0\n",
    "        else:\n",
    "            return min(z,zmax_E230)-zmin_OIV # Ignore G225M\n",
    "        \n",
    "    elif c==6:\n",
    "        if z<zmin_OIV:\n",
    "            dz = 0\n",
    "        else:\n",
    "            dz = min(z,zmax_G225)-zmin_OIV # Ignore G185M\n",
    "        \n",
    "    elif c==7:\n",
    "        if z<zmin_OIV:\n",
    "            dz = 0\n",
    "        else:\n",
    "            dz = min(z,zmax_E230)-zmin_OIV # Ignore G185M, G225M\n",
    "            \n",
    "    # Finally check for HIRES\n",
    "    if xHIRES!=0 and z>zmin_HIRES:\n",
    "        dz += min(z,zmax_HIRES) - zmin_HIRES\n",
    "        \n",
    "    return dz"
   ]
  },
  {
   "cell_type": "code",
   "execution_count": 39,
   "id": "50c354a8",
   "metadata": {},
   "outputs": [],
   "source": [
    "dz_OIV_arr = np.zeros(len(zQ_arr))\n",
    "\n",
    "for i in range(len(zQ_arr)):\n",
    "    dz_OIV_arr[i] = dz_OIV(zQ_arr[i], HIRES_arr[i], case_arr[i])"
   ]
  },
  {
   "cell_type": "code",
   "execution_count": 40,
   "id": "a9c69c80",
   "metadata": {
    "scrolled": true
   },
   "outputs": [
    {
     "data": {
      "text/plain": [
       "array([0.     , 0.     , 0.     , 0.     , 0.     , 0.     , 0.     ,\n",
       "       0.     , 0.     , 0.13   , 0.     , 0.     , 0.7298 , 0.13   ,\n",
       "       0.     , 0.     , 0.     , 0.     , 0.     , 0.     , 0.     ,\n",
       "       0.     , 0.     , 0.     , 0.     , 0.     , 0.     , 0.     ,\n",
       "       0.     , 0.     , 0.     , 0.     , 0.     , 0.     , 0.     ,\n",
       "       0.     , 0.     , 0.     , 0.     , 0.     , 0.     , 0.     ,\n",
       "       0.     , 0.     , 0.     , 0.     , 0.     , 0.     , 0.     ,\n",
       "       0.     , 0.     , 0.     , 0.     , 0.59914, 0.     , 0.     ,\n",
       "       0.     , 0.     , 0.     , 0.     , 0.     , 0.13   , 0.29   ,\n",
       "       0.     , 0.13   , 0.61763, 0.76568, 0.     , 0.     , 0.001  ,\n",
       "       0.     , 0.     , 0.01429, 0.     , 0.13   , 0.     , 0.     ,\n",
       "       0.     , 0.     , 0.     , 0.     ])"
      ]
     },
     "execution_count": 40,
     "metadata": {},
     "output_type": "execute_result"
    }
   ],
   "source": [
    "dz_OIV_arr"
   ]
  },
  {
   "cell_type": "code",
   "execution_count": 41,
   "id": "24968b37",
   "metadata": {},
   "outputs": [
    {
     "data": {
      "text/plain": [
       "array([0.9142 , 1.4398 , 1.124  , 1.30914, 0.97441, 1.16235, 0.945  ,\n",
       "       1.32763, 1.47568, 0.501  , 0.51429, 2.383  ])"
      ]
     },
     "execution_count": 41,
     "metadata": {},
     "output_type": "execute_result"
    }
   ],
   "source": [
    "zQ_arr[dz_OIV_arr!=0]"
   ]
  },
  {
   "cell_type": "code",
   "execution_count": 42,
   "id": "69c6eaee",
   "metadata": {},
   "outputs": [
    {
     "data": {
      "text/plain": [
       "22.738748"
      ]
     },
     "execution_count": 42,
     "metadata": {},
     "output_type": "execute_result"
    }
   ],
   "source": [
    "dN_dz*np.sum(dz_OIV_arr)"
   ]
  },
  {
   "cell_type": "code",
   "execution_count": null,
   "id": "d405111b",
   "metadata": {},
   "outputs": [],
   "source": []
  }
 ],
 "metadata": {
  "kernelspec": {
   "display_name": "Python 3 (ipykernel)",
   "language": "python",
   "name": "python3"
  },
  "language_info": {
   "codemirror_mode": {
    "name": "ipython",
    "version": 3
   },
   "file_extension": ".py",
   "mimetype": "text/x-python",
   "name": "python",
   "nbconvert_exporter": "python",
   "pygments_lexer": "ipython3",
   "version": "3.9.13"
  }
 },
 "nbformat": 4,
 "nbformat_minor": 5
}
