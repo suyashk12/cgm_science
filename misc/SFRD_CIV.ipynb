{
 "cells": [
  {
   "cell_type": "code",
   "execution_count": 1,
   "id": "30c55922",
   "metadata": {},
   "outputs": [],
   "source": [
    "from astropy.io import fits\n",
    "import numpy as np\n",
    "import pandas as pd\n",
    "import matplotlib.pyplot as plt"
   ]
  },
  {
   "cell_type": "code",
   "execution_count": 2,
   "id": "39e42940",
   "metadata": {},
   "outputs": [],
   "source": [
    "plt.style.use('/Users/thepoetoftwilight/Documents/CUBS/Code/science.mplstyle')"
   ]
  },
  {
   "cell_type": "markdown",
   "id": "37bdec89",
   "metadata": {},
   "source": [
    "Read in $\\Omega_\\mathrm{CIV}$"
   ]
  },
  {
   "cell_type": "code",
   "execution_count": 3,
   "id": "15b05690",
   "metadata": {},
   "outputs": [],
   "source": [
    "rootdir = '/Users/thepoetoftwilight/Documents/CUBS/Data/'"
   ]
  },
  {
   "cell_type": "code",
   "execution_count": 4,
   "id": "855ae2bb",
   "metadata": {},
   "outputs": [],
   "source": [
    "data_CIV = np.loadtxt(rootdir + 'omega_c4.dat')"
   ]
  },
  {
   "cell_type": "code",
   "execution_count": 5,
   "id": "2d21db2f",
   "metadata": {},
   "outputs": [],
   "source": [
    "t_med = data_CIV[:,0]\n",
    "t_hi = data_CIV[:,1]\n",
    "t_lo = data_CIV[:,2]"
   ]
  },
  {
   "cell_type": "code",
   "execution_count": 6,
   "id": "2398cd14",
   "metadata": {},
   "outputs": [],
   "source": [
    "Om_med = data_CIV[:,6]\n",
    "Om_err_lo = data_CIV[:,7]\n",
    "Om_err_hi = data_CIV[:,8]"
   ]
  },
  {
   "cell_type": "code",
   "execution_count": 7,
   "id": "20264cd4",
   "metadata": {},
   "outputs": [
    {
     "data": {
      "text/plain": [
       "array([1.15, 0.47, 6.5 , 4.4 , 2.8 , 1.3 , 7.01, 7.23, 2.18, 2.1 , 2.17,\n",
       "       2.11, 2.15, 1.86, 1.92, 1.61, 1.44, 0.87])"
      ]
     },
     "execution_count": 7,
     "metadata": {},
     "output_type": "execute_result"
    }
   ],
   "source": [
    "Om_med"
   ]
  },
  {
   "cell_type": "code",
   "execution_count": 8,
   "id": "17bcc19f",
   "metadata": {},
   "outputs": [
    {
     "data": {
      "text/plain": [
       "array([0.19, 0.12, 0.1 , 1.7 , 0.9 , 0.4 , 2.3 , 2.14, 0.4 , 0.32, 0.28,\n",
       "       0.24, 0.23, 0.17, 0.17, 0.18, 0.22, 0.13])"
      ]
     },
     "execution_count": 8,
     "metadata": {},
     "output_type": "execute_result"
    }
   ],
   "source": [
    "Om_err_lo"
   ]
  },
  {
   "cell_type": "code",
   "execution_count": 9,
   "id": "f754980b",
   "metadata": {},
   "outputs": [
    {
     "data": {
      "text/plain": [
       "array([0.22, 0.15, 0.1 , 1.7 , 0.9 , 0.4 , 3.05, 2.65, 0.4 , 0.32, 0.28,\n",
       "       0.23, 0.23, 0.17, 0.17, 0.18, 0.22, 0.13])"
      ]
     },
     "execution_count": 9,
     "metadata": {},
     "output_type": "execute_result"
    }
   ],
   "source": [
    "Om_err_hi"
   ]
  },
  {
   "cell_type": "markdown",
   "id": "2bb4454a",
   "metadata": {},
   "source": [
    "Load cosmology calculator"
   ]
  },
  {
   "cell_type": "code",
   "execution_count": 10,
   "id": "efc06be6",
   "metadata": {},
   "outputs": [],
   "source": [
    "from astropy.cosmology import FlatLambdaCDM"
   ]
  },
  {
   "cell_type": "code",
   "execution_count": 11,
   "id": "2598c839",
   "metadata": {},
   "outputs": [],
   "source": [
    "cosmo = FlatLambdaCDM(H0=70, Om0=0.3)"
   ]
  },
  {
   "cell_type": "code",
   "execution_count": 12,
   "id": "fdda69c2",
   "metadata": {},
   "outputs": [],
   "source": [
    "from astropy.cosmology import z_at_value\n",
    "from astropy import units"
   ]
  },
  {
   "cell_type": "markdown",
   "id": "e925f6c7",
   "metadata": {},
   "source": [
    "Convert age of universe values to redshift"
   ]
  },
  {
   "cell_type": "code",
   "execution_count": 13,
   "id": "8ce0f815",
   "metadata": {},
   "outputs": [],
   "source": [
    "z_med = np.zeros(len(t_med))\n",
    "z_err_lo = np.zeros(len(t_med))\n",
    "z_err_hi = np.zeros(len(t_med))\n",
    "\n",
    "for i in range(len(z_med)):\n",
    "    \n",
    "    z_med[i] = z_at_value(cosmo.age, t_med[i]*units.Gyr)\n",
    "    \n",
    "    if t_hi[i]!=0:\n",
    "        z_lo = z_at_value(cosmo.age, t_hi[i]*units.Gyr) # Low redshift is large age\n",
    "        z_hi = z_at_value(cosmo.age, t_lo[i]*units.Gyr)\n",
    "        \n",
    "        z_err_lo[i] = z_med[i]-z_lo\n",
    "        z_err_hi[i] = z_hi-z_med[i]"
   ]
  },
  {
   "cell_type": "markdown",
   "id": "12f45ca1",
   "metadata": {},
   "source": [
    "Now convert redshifts to lookback time"
   ]
  },
  {
   "cell_type": "code",
   "execution_count": 14,
   "id": "7e68ac28",
   "metadata": {},
   "outputs": [],
   "source": [
    "tlb_med = cosmo.lookback_time(z_med).value\n",
    "tlb_lo = cosmo.lookback_time(z_med-z_err_lo).value # low redshift low lookback\n",
    "tlb_hi = cosmo.lookback_time(z_med+z_err_hi).value # low redshift low lookback"
   ]
  },
  {
   "cell_type": "code",
   "execution_count": 15,
   "id": "b9dbbe6d",
   "metadata": {},
   "outputs": [],
   "source": [
    "tlb_err_lo = tlb_med-tlb_lo\n",
    "tlb_err_hi = tlb_hi-tlb_med"
   ]
  },
  {
   "cell_type": "markdown",
   "id": "ce03e262",
   "metadata": {},
   "source": [
    "Load in SFRD"
   ]
  },
  {
   "cell_type": "code",
   "execution_count": 16,
   "id": "2c67ca37",
   "metadata": {},
   "outputs": [],
   "source": [
    "data_SFRD = np.loadtxt(rootdir + 'sfrdz.dat')"
   ]
  },
  {
   "cell_type": "code",
   "execution_count": 17,
   "id": "df9b1cad",
   "metadata": {},
   "outputs": [],
   "source": [
    "zSFRD = data_SFRD[:,1]\n",
    "SFRD = data_SFRD[:,2]"
   ]
  },
  {
   "cell_type": "code",
   "execution_count": 18,
   "id": "91a402a0",
   "metadata": {},
   "outputs": [],
   "source": [
    "tlb_SFRD = cosmo.lookback_time(zSFRD).value"
   ]
  },
  {
   "cell_type": "markdown",
   "id": "b5d00f09",
   "metadata": {},
   "source": [
    "Make plot"
   ]
  },
  {
   "cell_type": "code",
   "execution_count": 19,
   "id": "4fdd71e0",
   "metadata": {},
   "outputs": [],
   "source": [
    "z_med_slice = np.concatenate((z_med[:1],z_med[2:]))\n",
    "z_err_lo_slice = np.concatenate((z_err_lo[:1],z_err_lo[2:]))\n",
    "z_err_hi_slice = np.concatenate((z_err_hi[:1],z_err_hi[2:]))\n",
    "\n",
    "tlb_med_slice = np.concatenate((tlb_med[:1],tlb_med[2:]))\n",
    "tlb_err_lo_slice = np.concatenate((tlb_err_lo[:1],tlb_err_lo[2:]))\n",
    "tlb_err_hi_slice = np.concatenate((tlb_err_hi[:1],tlb_err_hi[2:]))\n",
    "\n",
    "Om_med_slice = np.concatenate((Om_med[:1],Om_med[2:]))\n",
    "Om_err_lo_slice = np.concatenate((Om_err_lo[:1],Om_err_lo[2:]))\n",
    "Om_err_hi_slice = np.concatenate((Om_err_hi[:1],Om_err_hi[2:]))"
   ]
  },
  {
   "cell_type": "code",
   "execution_count": 20,
   "id": "d53fd505",
   "metadata": {},
   "outputs": [],
   "source": [
    "z_ticks = np.array([0, 1, 2, 3, 6 ])\n",
    "tlb_ticks = cosmo.lookback_time(z_ticks).value"
   ]
  },
  {
   "cell_type": "code",
   "execution_count": 21,
   "id": "7d58ceb2",
   "metadata": {},
   "outputs": [],
   "source": [
    "def tlb2z(tlb_arr):\n",
    "    for tlb in tlb_arr:\n",
    "        if tlb>0:\n",
    "            return z_at_value(cosmo.lookback_time, tlb*units.Gyr)\n",
    "        else:\n",
    "            return 0\n",
    "\n",
    "def z2tlb(z_arr):\n",
    "    for z in z_arr:\n",
    "        if z>0: \n",
    "            return cosmo.lookback_time(z).value\n",
    "        else:\n",
    "            return 0"
   ]
  },
  {
   "cell_type": "code",
   "execution_count": 82,
   "id": "b0a2a9ed",
   "metadata": {},
   "outputs": [
    {
     "name": "stderr",
     "output_type": "stream",
     "text": [
      "/var/folders/tj/vc_wjrpj36sf3zws4s7s770c0000gn/T/ipykernel_8274/2219159456.py:42: UserWarning: AutoMinorLocator does not work with logarithmic scale\n",
      "  plt.savefig(rootdir+'SFRD_CIV.pdf', dpi=300)\n"
     ]
    },
    {
     "data": {
      "image/png": "[encoded data removed]",
      "text/plain": [
       "<Figure size 450x450 with 3 Axes>"
      ]
     },
     "metadata": {},
     "output_type": "display_data"
    }
   ],
   "source": [
    "fig, ax = plt.subplots(1, figsize=(4.5,4.5))\n",
    "\n",
    "# Plot SFRD\n",
    "ax.plot(tlb_SFRD, data_SFRD[:,2])\n",
    "ax.set_yscale('log')\n",
    "ax.set_xlim(0,13)\n",
    "ax.set_ylim(5e-3, 3e-1)\n",
    "#ax.tick_params(labeltop='off')\n",
    "\n",
    "ax.axvspan(4,10, color='red', alpha=.1)\n",
    "ax.text(0.35, 2.3e-1, 'Co-evolution of star formation and CIV', \n",
    "        bbox=dict(facecolor='azure'),\n",
    "        fontsize=14)\n",
    "\n",
    "\n",
    "ax.set_xlabel('Lookback time (Gyr)')\n",
    "ax.set_ylabel('SFRD ($M_\\odot \\mathrm{yr}^{-1} \\mathrm{Mpc}^{-3}$)')\n",
    "\n",
    "# Plot Omega_CIV\n",
    "ax2 = ax.twinx()\n",
    "ax2.errorbar(tlb_med_slice, Om_med_slice, \n",
    "             xerr=[tlb_err_lo_slice, tlb_err_hi_slice],\n",
    "             yerr=[Om_err_lo_slice, Om_err_hi_slice],\n",
    "             lw=0.5,\n",
    "             marker='*',linestyle='none', capsize=3)\n",
    "ax2.set_yscale('log')\n",
    "#ax2.tick_params(labeltop='off')\n",
    "\n",
    "ax2.set_ylim(0.5, 14)\n",
    "ax2.set_ylabel(r'$\\Omega_\\mathrm{CIV} \\ (10^{-8})$', rotation=270, labelpad=20)\n",
    "\n",
    "# Put redshift\n",
    "#ax2 = ax.secondary_xaxis(\"top\", functions=(tlb2z,z2tlb))\n",
    "\n",
    "ax_copy = ax.twiny() # https://stackoverflow.com/questions/10514315/how-to-add-a-second-x-axis-in-matplotlib\n",
    "ax_copy.set_xlim(ax.get_xlim())\n",
    "ax_copy.tick_params(labeltop='off')\n",
    "ax_copy.set_xticks(tlb_ticks)\n",
    "ax_copy.set_xticklabels(z_ticks)\n",
    "ax_copy.set_xlabel('Redshift', labelpad=10)\n",
    "\n",
    "plt.savefig(rootdir+'SFRD_CIV.pdf', dpi=300)"
   ]
  },
  {
   "cell_type": "code",
   "execution_count": null,
   "id": "e456e696",
   "metadata": {},
   "outputs": [],
   "source": []
  }
 ],
 "metadata": {
  "kernelspec": {
   "display_name": "Python 3 (ipykernel)",
   "language": "python",
   "name": "python3"
  },
  "language_info": {
   "codemirror_mode": {
    "name": "ipython",
    "version": 3
   },
   "file_extension": ".py",
   "mimetype": "text/x-python",
   "name": "python",
   "nbconvert_exporter": "python",
   "pygments_lexer": "ipython3",
   "version": "3.9.13"
  }
 },
 "nbformat": 4,
 "nbformat_minor": 5
}
