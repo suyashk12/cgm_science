{
 "cells": [
  {
   "cell_type": "markdown",
   "id": "144cc7f9",
   "metadata": {},
   "source": [
    "$$ \\lambda_{\\mathrm{obs}} = \\lambda_{\\mathrm{rest}} (1+z_{\\mathrm{abs}})$$\n"
   ]
  },
  {
   "cell_type": "markdown",
   "id": "347ceb86",
   "metadata": {},
   "source": [
    "$$\\mathcal{L}(N, b, v_{\\mathrm{c}}) \\propto \\exp \\left[ -\\frac{1}{2} \\sum_{i} \\left( \\frac{f_i-\\bar{f_i}}{\\sigma_{f,i}} \\right)^2 \\right]$$"
   ]
  },
  {
   "cell_type": "markdown",
   "id": "29d9e7f8",
   "metadata": {},
   "source": [
    "$$ \\mathcal{L}(N, b, v_{\\mathrm{c}}) \\propto \\prod_{j} \\mathcal{L}_j (N, b, v_{\\mathrm{c}})$$"
   ]
  },
  {
   "cell_type": "markdown",
   "id": "3290cccf",
   "metadata": {},
   "source": [
    "$$\\frac{\\mathrm{d}I_{\\nu}}{\\mathrm{d}s} = -\\alpha_\\nu I_\\nu + j_\\nu$$\n",
    "\n",
    "$$\\mathrm{d}\\tau_\\nu = \\alpha_\\nu \\mathrm{d}s$$\n",
    "\n",
    "$$\\frac{\\mathrm{d}I_{\\nu}}{\\mathrm{d}\\tau_\\nu} = -I_\\nu + \\frac{j_\\nu}{\\alpha_\\nu}$$\n",
    "\n",
    "$$j_\\nu = 0$$\n",
    "\n",
    "$$I_\\nu = I_0 e^{-\\tau_\\nu}$$\n",
    "\n",
    "$$\\tau_\\nu = N \\sigma_0 f \\Phi (\\Delta \\nu)$$\n",
    "\n",
    "$$N = \\int n \\mathrm{d}s$$"
   ]
  },
  {
   "cell_type": "markdown",
   "id": "392cc515",
   "metadata": {},
   "source": [
    "$$\\frac{I_\\nu}{I_0} = \\exp(-\\tau_\\nu)$$\n",
    "\n",
    "$$ \\frac{\\Delta \\lambda}{\\lambda} = \\frac{\\Delta v}{c}$$"
   ]
  },
  {
   "cell_type": "markdown",
   "id": "cf804b72",
   "metadata": {},
   "source": [
    "$$b = \\sqrt{\\frac{2 k_\\mathrm{B} T}{m} + b_{\\mathrm{NT}}^2}$$\n",
    "\n",
    "$$\\mathcal{L}(T, b_\\mathrm{NT}) \\propto \\exp \\left[-\\frac{1}{2} \\left( \\frac{b_j - \\bar{b_j}}{\\sigma_{b, j}} \\right)^2 \\right]$$"
   ]
  },
  {
   "cell_type": "markdown",
   "id": "b2273946",
   "metadata": {},
   "source": [
    "$$ \\lambda_{\\mathrm{obs}} = \\lambda_{\\mathrm{rest}} (1+z_{\\mathrm{gal}})$$\n",
    "\n",
    "$$ f_\\lambda \\sim \\alpha C_1(\\lambda, z) + \\beta C_2 (\\lambda, z) + \\gamma C_3 (\\lambda, z) +  \\delta C_4(\\lambda, z)$$"
   ]
  },
  {
   "cell_type": "markdown",
   "id": "091f590c",
   "metadata": {},
   "source": [
    "$$ \\Delta v_{\\mathrm{abs}, \\mathrm{gal}} = c \\frac{z_{\\mathrm{abs}}-z_{\\mathrm{gal}}}{1+z_{\\mathrm{gal}}}$$"
   ]
  },
  {
   "cell_type": "markdown",
   "id": "621e0ed9",
   "metadata": {},
   "source": [
    "$$\\tau_\\nu = \\sum_k \\tau_{\\nu, k}$$"
   ]
  },
  {
   "cell_type": "markdown",
   "id": "289bd617",
   "metadata": {},
   "source": [
    "$$U = \\frac{\\Phi}{c n_\\mathrm{H}}$$"
   ]
  },
  {
   "cell_type": "markdown",
   "id": "348b62c3",
   "metadata": {},
   "source": [
    "$$N_{X_\\mathrm{j}} = N_{\\mathrm{HI}} \\times \\frac{f_{X_j}}{f_{\\mathrm{HI}}} \\left(U \\right) \\times 10^{\\mathrm{[X/H]}}$$"
   ]
  },
  {
   "cell_type": "markdown",
   "id": "b43bc033",
   "metadata": {},
   "source": [
    "$$\\mathcal{L}(n_\\mathrm{H}, \\mathrm{[\\alpha/H]}) \\propto \\prod_{i=1}^n \\exp \\left( -\\frac{1}{2} \\left(\\frac{y_i - \\bar{y_i}}{\\sigma_i} \\right)^2 \\right) \\times \\prod_{i=1}^m \\int_{-\\infty}^{y_i} \\mathrm{d}y' \\exp \\left( -\\frac{1}{2} \\left(\\frac{y' - \\bar{y_i}}{\\sigma_i} \\right)^2 \\right) \\times \\prod_{i=1}^l \\int_{y_i}^{\\infty} \\mathrm{d}y' \\exp \\left( -\\frac{1}{2} \\left(\\frac{y' - \\bar{y_i}}{\\sigma_i} \\right)^2 \\right), \\ y = \\log N$$"
   ]
  },
  {
   "cell_type": "markdown",
   "id": "7a007e06",
   "metadata": {},
   "source": [
    "$$W_\\mathrm{rest} = \\int \\frac{I_\\nu - I_c}{I_c} \\mathrm{d}\\lambda_\\mathrm{rest} = \\int (1-\\exp(-\\tau_\\nu)) \\mathrm{d} \\lambda_\\mathrm{rest}$$"
   ]
  },
  {
   "cell_type": "markdown",
   "id": "e102d3ab",
   "metadata": {},
   "source": [
    "$$\\frac{W_\\mathrm{rest}}{\\lambda_0} = \\frac{\\lambda_0}{c} \\sigma_0 f N$$"
   ]
  },
  {
   "cell_type": "markdown",
   "id": "7441c129",
   "metadata": {},
   "source": [
    "$$\\sigma_W = \\Delta \\lambda_\\mathrm{rest} \\sqrt{\\sum_i \\sigma_{f,i}^2}$$"
   ]
  },
  {
   "cell_type": "code",
   "execution_count": null,
   "id": "c304d7b9",
   "metadata": {},
   "outputs": [],
   "source": []
  }
 ],
 "metadata": {
  "kernelspec": {
   "display_name": "Python 3 (ipykernel)",
   "language": "python",
   "name": "python3"
  },
  "language_info": {
   "codemirror_mode": {
    "name": "ipython",
    "version": 3
   },
   "file_extension": ".py",
   "mimetype": "text/x-python",
   "name": "python",
   "nbconvert_exporter": "python",
   "pygments_lexer": "ipython3",
   "version": "3.9.13"
  }
 },
 "nbformat": 4,
 "nbformat_minor": 5
}
