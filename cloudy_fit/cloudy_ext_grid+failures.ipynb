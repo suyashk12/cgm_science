{
 "cells": [
  {
   "cell_type": "code",
   "execution_count": 1,
   "id": "d5e6ba59",
   "metadata": {},
   "outputs": [],
   "source": [
    "import numpy as np\n",
    "from astropy.table import Table\n",
    "import matplotlib.pyplot as plt\n",
    "import pandas as pd\n",
    "from cloudy_fit_lib import *\n",
    "from scipy.interpolate import RegularGridInterpolator\n",
    "import pickle"
   ]
  },
  {
   "cell_type": "code",
   "execution_count": 2,
   "id": "04ca7126",
   "metadata": {},
   "outputs": [],
   "source": [
    "plt.style.use('/Users/thepoetoftwilight/Documents/CUBS/Code/science.mplstyle')"
   ]
  },
  {
   "cell_type": "code",
   "execution_count": 12,
   "id": "def6ee5a",
   "metadata": {},
   "outputs": [],
   "source": [
    "rootdir = '/Users/thepoetoftwilight/Documents/CUBS/Data/PG1522+101/cloudy_grids/ext_grid/'"
   ]
  },
  {
   "cell_type": "markdown",
   "id": "c4d3e21c",
   "metadata": {},
   "source": [
    "Obtain the UVB grid from FG20"
   ]
  },
  {
   "cell_type": "code",
   "execution_count": 13,
   "id": "4bbe345f",
   "metadata": {},
   "outputs": [],
   "source": [
    "fg20_z_grid, fg20_wav_grid, fg20_J_nu_grid = read_uvb('', 'fg20_galaxy.ascii')"
   ]
  },
  {
   "cell_type": "markdown",
   "id": "7e4ee0d9",
   "metadata": {},
   "source": [
    "Fetch the SED at $z=1$"
   ]
  },
  {
   "cell_type": "code",
   "execution_count": 14,
   "id": "67656ac2",
   "metadata": {},
   "outputs": [],
   "source": [
    "z_test = 1"
   ]
  },
  {
   "cell_type": "code",
   "execution_count": 15,
   "id": "fc401ceb",
   "metadata": {},
   "outputs": [],
   "source": [
    "fg20_J_nu_test = fetch_sed(z_test, fg20_z_grid, fg20_J_nu_grid)"
   ]
  },
  {
   "cell_type": "markdown",
   "id": "cbeb35d9",
   "metadata": {},
   "source": [
    "Specify grid points"
   ]
  },
  {
   "cell_type": "code",
   "execution_count": 16,
   "id": "5185d504",
   "metadata": {},
   "outputs": [],
   "source": [
    "# Discrete grid points\n",
    "grid_points = np.array([[16.  , -4.25,  1.  ],\n",
    "       [16.25, -5.  ,  1.  ],\n",
    "       [16.25, -4.75,  1.  ],\n",
    "       [16.25, -4.5 ,  1.  ],\n",
    "       [16.25, -4.25,  1.  ],\n",
    "       [16.5 , -5.  ,  0.75],\n",
    "       [16.5 , -5.  ,  1.  ],\n",
    "       [16.5 , -4.75,  0.75],\n",
    "       [16.5 , -4.75,  1.  ],\n",
    "       [16.5 , -4.5 ,  1.  ],\n",
    "       [16.5 , -4.25,  1.  ],\n",
    "       [16.75, -5.  ,  0.75],\n",
    "       [16.75, -5.  ,  1.  ],\n",
    "       [16.75, -4.75,  0.75],\n",
    "       [16.75, -4.75,  1.  ],\n",
    "       [16.75, -4.5 ,  0.75],\n",
    "       [16.75, -4.5 ,  1.  ],\n",
    "       [16.75, -4.25,  1.  ],\n",
    "       [17.  , -5.  ,  0.75],\n",
    "       [17.  , -5.  ,  1.  ],\n",
    "       [17.  , -4.75,  0.75],\n",
    "       [17.  , -4.75,  1.  ],\n",
    "       [17.  , -4.5 ,  0.75],\n",
    "       [17.  , -4.5 ,  1.  ],\n",
    "       [17.  , -4.25,  1.  ]])"
   ]
  },
  {
   "cell_type": "markdown",
   "id": "d5ed97cc",
   "metadata": {},
   "source": [
    "Process the grid to identify \"failures\""
   ]
  },
  {
   "cell_type": "code",
   "execution_count": 17,
   "id": "659b445d",
   "metadata": {},
   "outputs": [],
   "source": [
    "log_T_pie_thresh = 4"
   ]
  },
  {
   "cell_type": "code",
   "execution_count": 18,
   "id": "53323dea",
   "metadata": {},
   "outputs": [],
   "source": [
    "# Bifurcate failures based on stopping temperature\n",
    "low_temp_failures = []\n",
    "high_temp_failures = []"
   ]
  },
  {
   "cell_type": "code",
   "execution_count": 23,
   "id": "fc5e4512",
   "metadata": {},
   "outputs": [],
   "source": [
    "for i in range(len(grid_points)):\n",
    "    \n",
    "    logN_HI, log_hdens, log_metals = grid_points[i]\n",
    "    \n",
    "    # The filename corresponding to this grid point\n",
    "    \n",
    "    logN_HI_str = '{:.2f}'.format(logN_HI).replace('.','')\n",
    "    log_hdens_str = '{:.2f}'.format(log_hdens).replace('.','')\n",
    "    log_metals_str = '{:.2f}'.format(log_metals).replace('.','')\n",
    "    \n",
    "    filename = 'igm_lalpha_hm12_grid_{}_{}_{}'.format(logN_HI_str, log_hdens_str, log_metals_str)\n",
    "    \n",
    "    # Get average (log) HI temperatures for all grid points\n",
    "    log_temp = read_avr_file(rootdir, filename)[0]\n",
    "    \n",
    "    # Get column densities for all species\n",
    "    species_names, log_col_dens_grid = read_col_file(rootdir, filename)\n",
    "    log_col_dens = log_col_dens_grid[0]\n",
    "\n",
    "    # Check if this grid point is a failure\n",
    "    if np.round(log_col_dens[0],2) != logN_HI:\n",
    "        # Categorize based on temperature\n",
    "        if log_temp<log_T_pie_thresh:\n",
    "            low_temp_failures.append([logN_HI, log_hdens, log_metals, log_temp, log_col_dens[0]])\n",
    "        else:\n",
    "            high_temp_failures.append([logN_HI, log_hdens, log_metals, log_temp, log_col_dens[0]])"
   ]
  },
  {
   "cell_type": "code",
   "execution_count": 24,
   "id": "d91c8367",
   "metadata": {},
   "outputs": [
    {
     "data": {
      "text/plain": [
       "0"
      ]
     },
     "execution_count": 24,
     "metadata": {},
     "output_type": "execute_result"
    }
   ],
   "source": [
    "len(low_temp_failures)"
   ]
  },
  {
   "cell_type": "code",
   "execution_count": 25,
   "id": "c2220dac",
   "metadata": {},
   "outputs": [
    {
     "data": {
      "text/plain": [
       "0"
      ]
     },
     "execution_count": 25,
     "metadata": {},
     "output_type": "execute_result"
    }
   ],
   "source": [
    "len(high_temp_failures)"
   ]
  },
  {
   "cell_type": "code",
   "execution_count": null,
   "id": "4d890ab5",
   "metadata": {},
   "outputs": [],
   "source": []
  }
 ],
 "metadata": {
  "kernelspec": {
   "display_name": "Python 3 (ipykernel)",
   "language": "python",
   "name": "python3"
  },
  "language_info": {
   "codemirror_mode": {
    "name": "ipython",
    "version": 3
   },
   "file_extension": ".py",
   "mimetype": "text/x-python",
   "name": "python",
   "nbconvert_exporter": "python",
   "pygments_lexer": "ipython3",
   "version": "3.9.13"
  }
 },
 "nbformat": 4,
 "nbformat_minor": 5
}
