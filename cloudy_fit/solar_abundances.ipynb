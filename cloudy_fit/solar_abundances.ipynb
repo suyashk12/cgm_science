{
 "cells": [
  {
   "cell_type": "code",
   "execution_count": 1,
   "id": "d750301f",
   "metadata": {},
   "outputs": [],
   "source": [
    "import numpy as np\n",
    "import matplotlib.pyplot as plt"
   ]
  },
  {
   "cell_type": "markdown",
   "id": "fdaecfd4",
   "metadata": {},
   "source": [
    "Process the default solar abundances used by CLOUDY"
   ]
  },
  {
   "cell_type": "code",
   "execution_count": 2,
   "id": "873a52c5",
   "metadata": {},
   "outputs": [],
   "source": [
    "loaddir = '/Users/thepoetoftwilight/Documents/CUBS/c22.01/data/abundances/'"
   ]
  },
  {
   "cell_type": "code",
   "execution_count": 3,
   "id": "b5b2a94e",
   "metadata": {},
   "outputs": [],
   "source": [
    "with open(loaddir+\"default.abn\") as file_in:\n",
    "    lines = []\n",
    "    for line in file_in:\n",
    "        lines.append(line)"
   ]
  },
  {
   "cell_type": "code",
   "execution_count": 4,
   "id": "407a9ed3",
   "metadata": {},
   "outputs": [],
   "source": [
    "abundance_entries = [l for l in lines if l[0]!='#' and l[0]!='*' and l[0]!='\\n']\n",
    "abundance_entries_replace = [l.replace('\\n', '') for l in abundance_entries]"
   ]
  },
  {
   "cell_type": "code",
   "execution_count": 5,
   "id": "4c7aeb84",
   "metadata": {},
   "outputs": [],
   "source": [
    "abundance_entries_split = [l.split('\\t') for l in abundance_entries_replace]"
   ]
  },
  {
   "cell_type": "code",
   "execution_count": 6,
   "id": "e79687ae",
   "metadata": {},
   "outputs": [],
   "source": [
    "abundances_dict = {l[0].title():float(l[-1]) for l in abundance_entries_split}"
   ]
  },
  {
   "cell_type": "code",
   "execution_count": 7,
   "id": "b319b30c",
   "metadata": {},
   "outputs": [
    {
     "data": {
      "text/plain": [
       "{'Hydrogen': 1.0,\n",
       " 'Helium': 0.1,\n",
       " 'Lithium': 2.04e-09,\n",
       " 'Beryllium': 2.63e-11,\n",
       " 'Boron': 6.17e-10,\n",
       " 'Carbon': 0.000245,\n",
       " 'Nitrogen': 8.51e-05,\n",
       " 'Oxygen': 0.00049,\n",
       " 'Fluorine': 3.02e-08,\n",
       " 'Neon': 0.0001,\n",
       " 'Sodium': 2.14e-06,\n",
       " 'Magnesium': 3.47e-05,\n",
       " 'Aluminium': 2.95e-06,\n",
       " 'Silicon': 3.47e-05,\n",
       " 'Phosphorus': 3.2e-07,\n",
       " 'Sulphur': 1.84e-05,\n",
       " 'Chlorine': 1.91e-07,\n",
       " 'Argon': 2.51e-06,\n",
       " 'Potassium': 1.32e-07,\n",
       " 'Calcium': 2.29e-06,\n",
       " 'Scandium': 1.48e-09,\n",
       " 'Titanium': 1.05e-07,\n",
       " 'Vanadium': 1e-08,\n",
       " 'Chromium': 4.68e-07,\n",
       " 'Manganese': 2.88e-07,\n",
       " 'Iron': 2.82e-05,\n",
       " 'Cobalt': 8.32e-08,\n",
       " 'Nickel': 1.78e-06,\n",
       " 'Copper': 1.62e-08,\n",
       " 'Zinc': 3.98e-08}"
      ]
     },
     "execution_count": 7,
     "metadata": {},
     "output_type": "execute_result"
    }
   ],
   "source": [
    "abundances_dict"
   ]
  },
  {
   "cell_type": "code",
   "execution_count": 10,
   "id": "390f91fe",
   "metadata": {},
   "outputs": [],
   "source": [
    "element_names_dict = {'Hydrogen': 'H',\n",
    "                      'Helium': 'He',\n",
    "                      'Lithium': 'Li',\n",
    "                      'Beryllium': 'Be',\n",
    "                      'Boron': 'B',\n",
    "                      'Carbon': 'C',\n",
    "                      'Nitrogen': 'N',\n",
    "                      'Oxygen': 'O',\n",
    "                      'Fluorine': 'F',\n",
    "                      'Neon': 'Ne',\n",
    "                      'Sodium': 'Na',\n",
    "                      'Magnesium': 'Mg',\n",
    "                      'Aluminium': 'Al',\n",
    "                      'Silicon': 'Si',\n",
    "                      'Phosphorus': 'P',\n",
    "                      'Sulphur': 'S',\n",
    "                      'Chlorine': 'Cl',\n",
    "                      'Argon': 'Ar',\n",
    "                      'Potassium': 'K',\n",
    "                      'Calcium': 'Ca',\n",
    "                      'Scandium': 'Sc',\n",
    "                      'Titanium': 'Ti',\n",
    "                      'Vanadium': 'V',\n",
    "                      'Chromium': 'Cr',\n",
    "                      'Manganese': 'Mn',\n",
    "                      'Iron': 'Fe',\n",
    "                      'Cobalt': 'Co',\n",
    "                      'Nickel': 'Ni',\n",
    "                      'Copper': 'Cu',\n",
    "                      'Zinc': 'Zn'}\n"
   ]
  },
  {
   "cell_type": "code",
   "execution_count": 11,
   "id": "5a713665",
   "metadata": {},
   "outputs": [],
   "source": [
    "A_dict = {'H' : 1.00797 ,\n",
    "'He' : 4.00260 ,\n",
    "'Li' : 6.941 ,\n",
    "'Be' : 9.01218 ,\n",
    "'B' : 10.81 ,\n",
    "'C' : 12.011 ,\n",
    "'N' : 14.0067 ,\n",
    "'O' : 15.994 ,\n",
    "'F' : 18.9994 ,\n",
    "'Ne' : 20.179 ,\n",
    "'Na' : 22.98977 ,\n",
    "'Mg' : 24.305 ,\n",
    "'Al' : 26.98154 ,\n",
    "'Si' : 28.0855 ,\n",
    "'P' : 30.97376 ,\n",
    "'S' : 32.06 ,\n",
    "'Cl' : 35.453 ,\n",
    "'A' : 39.948 ,\n",
    "'K' : 39.0983 ,\n",
    "'Ca' : 40.08 ,\n",
    "'Sc' : 44.9559 ,\n",
    "'Ti' : 47.90 ,\n",
    "'V' : 50.9415 ,\n",
    "'Te' : 51.996 ,\n",
    "'Mn' : 54.9380 ,\n",
    "'Fe' : 55.847 ,\n",
    "'Co' : 58.70 ,\n",
    "'Ni' : 58.9332 ,\n",
    "'Cu' : 63.546 ,\n",
    "'Zn' : 65.38,\n",
    "}"
   ]
  },
  {
   "cell_type": "code",
   "execution_count": 9,
   "id": "7fa26c12",
   "metadata": {},
   "outputs": [
    {
     "data": {
      "text/plain": [
       "0.0010494575633002157"
      ]
     },
     "execution_count": 9,
     "metadata": {},
     "output_type": "execute_result"
    }
   ],
   "source": [
    "np.sum(list(abundances_dict.values()))-1.1"
   ]
  },
  {
   "cell_type": "code",
   "execution_count": 16,
   "id": "829aa442",
   "metadata": {},
   "outputs": [],
   "source": [
    "weighted_sum = 0\n",
    "\n",
    "for i in range(len(abundances_dict)):\n",
    "    \n",
    "    el = list(abundances_dict.keys())[i]\n",
    "    \n",
    "    if el != 'Hydrogen' and el != 'Helium' and el != 'Argon' and el != 'Chromium':\n",
    "        \n",
    "        rel_dens = abundances_dict[el]\n",
    "        mass = A_dict[element_names_dict[el]]\n",
    "        \n",
    "        weighted_sum += mass*rel_dens"
   ]
  },
  {
   "cell_type": "code",
   "execution_count": 18,
   "id": "31340119",
   "metadata": {},
   "outputs": [
    {
     "data": {
      "text/plain": [
       "0.018205129934266234"
      ]
     },
     "execution_count": 18,
     "metadata": {},
     "output_type": "execute_result"
    }
   ],
   "source": [
    "weighted_sum/(A_dict['H'])"
   ]
  },
  {
   "cell_type": "markdown",
   "id": "8e74208d",
   "metadata": {},
   "source": [
    "Define $\\alpha$ alements and other elements"
   ]
  },
  {
   "cell_type": "code",
   "execution_count": 8,
   "id": "644365bf",
   "metadata": {},
   "outputs": [],
   "source": [
    "alpha_elements = ['Oxygen', 'Neon', 'Magnesium', 'Silicon', 'Sulphur', 'Argon', 'Calcium', 'Titanium']\n",
    "non_alpha_elements = ['Helium', 'Carbon', 'Nitrogen', \"Iron\"]\n",
    "other_metals = [m for m in list(abundances_dict.keys()) if m != 'Hydrogen' and m not in alpha_elements and m not in non_alpha_elements]"
   ]
  },
  {
   "cell_type": "code",
   "execution_count": 9,
   "id": "62a246da",
   "metadata": {},
   "outputs": [
    {
     "data": {
      "text/plain": [
       "True"
      ]
     },
     "execution_count": 9,
     "metadata": {},
     "output_type": "execute_result"
    }
   ],
   "source": [
    "# Sanity check\n",
    "# 1 for hydrogen\n",
    "1+len(np.unique(alpha_elements))+len(np.unique(non_alpha_elements))+len(np.unique(other_metals)) == len(abundances_dict)"
   ]
  },
  {
   "cell_type": "markdown",
   "id": "5b0dd380",
   "metadata": {},
   "source": [
    "Construct relative abundances for later use with CLOUDY"
   ]
  },
  {
   "cell_type": "code",
   "execution_count": 10,
   "id": "88a9a9a4",
   "metadata": {},
   "outputs": [],
   "source": [
    "relative_dens_dict = {'alpha':0}\n",
    "\n",
    "for i in range(len(alpha_elements)):\n",
    "    relative_dens_dict['alpha'] += abundances_dict[alpha_elements[i]]"
   ]
  },
  {
   "cell_type": "code",
   "execution_count": 11,
   "id": "faac67ce",
   "metadata": {},
   "outputs": [],
   "source": [
    "for i in range(len(non_alpha_elements)):\n",
    "    relative_dens_dict[non_alpha_elements[i]] = abundances_dict[non_alpha_elements[i]]"
   ]
  },
  {
   "cell_type": "code",
   "execution_count": 12,
   "id": "906cadd3",
   "metadata": {},
   "outputs": [],
   "source": [
    "relative_dens_dict['others'] = 0\n",
    "\n",
    "for i in range(len(other_metals)):\n",
    "    relative_dens_dict['others'] += abundances_dict[other_metals[i]]"
   ]
  },
  {
   "cell_type": "code",
   "execution_count": 13,
   "id": "201db987",
   "metadata": {},
   "outputs": [
    {
     "data": {
      "text/plain": [
       "{'alpha': 0.000682705,\n",
       " 'Helium': 0.1,\n",
       " 'Carbon': 0.000245,\n",
       " 'Nitrogen': 8.51e-05,\n",
       " 'Iron': 2.82e-05,\n",
       " 'others': 8.4525633e-06}"
      ]
     },
     "execution_count": 13,
     "metadata": {},
     "output_type": "execute_result"
    }
   ],
   "source": [
    "relative_dens_dict"
   ]
  },
  {
   "cell_type": "code",
   "execution_count": null,
   "id": "8572ad7f",
   "metadata": {},
   "outputs": [],
   "source": []
  }
 ],
 "metadata": {
  "kernelspec": {
   "display_name": "Python 3 (ipykernel)",
   "language": "python",
   "name": "python3"
  },
  "language_info": {
   "codemirror_mode": {
    "name": "ipython",
    "version": 3
   },
   "file_extension": ".py",
   "mimetype": "text/x-python",
   "name": "python",
   "nbconvert_exporter": "python",
   "pygments_lexer": "ipython3",
   "version": "3.9.13"
  }
 },
 "nbformat": 4,
 "nbformat_minor": 5
}
