{
 "cells": [
  {
   "cell_type": "code",
   "execution_count": 1,
   "id": "d5e6ba59",
   "metadata": {},
   "outputs": [],
   "source": [
    "import numpy as np\n",
    "from astropy.table import Table\n",
    "import matplotlib.pyplot as plt\n",
    "import pandas as pd\n",
    "from cloudy_fit_lib import *\n",
    "from scipy.interpolate import RegularGridInterpolator\n",
    "import pickle"
   ]
  },
  {
   "cell_type": "code",
   "execution_count": 2,
   "id": "04ca7126",
   "metadata": {},
   "outputs": [],
   "source": [
    "plt.style.use('/Users/thepoetoftwilight/Documents/Astro/Code/PG1522+101/science.mplstyle')"
   ]
  },
  {
   "cell_type": "code",
   "execution_count": 3,
   "id": "def6ee5a",
   "metadata": {},
   "outputs": [],
   "source": [
    "rootdir = '/Users/thepoetoftwilight/Documents/Astro/Data/PG1522+101/cloudy_grids/'"
   ]
  },
  {
   "cell_type": "markdown",
   "id": "c4d3e21c",
   "metadata": {},
   "source": [
    "Obtain the UVB grid from FG20"
   ]
  },
  {
   "cell_type": "code",
   "execution_count": 4,
   "id": "4bbe345f",
   "metadata": {},
   "outputs": [],
   "source": [
    "fg20_z_grid, fg20_wav_grid, fg20_J_nu_grid = read_uvb('', 'fg20_galaxy.ascii')"
   ]
  },
  {
   "cell_type": "markdown",
   "id": "7e4ee0d9",
   "metadata": {},
   "source": [
    "Fetch the SED at $z=1$"
   ]
  },
  {
   "cell_type": "code",
   "execution_count": 5,
   "id": "67656ac2",
   "metadata": {},
   "outputs": [],
   "source": [
    "z_test = 1"
   ]
  },
  {
   "cell_type": "code",
   "execution_count": 6,
   "id": "fc401ceb",
   "metadata": {},
   "outputs": [],
   "source": [
    "fg20_J_nu_test = fetch_sed(z_test, fg20_z_grid, fg20_J_nu_grid)"
   ]
  },
  {
   "cell_type": "markdown",
   "id": "07c06c16",
   "metadata": {},
   "source": [
    "Specify grid points for densities and metallicities"
   ]
  },
  {
   "cell_type": "code",
   "execution_count": 8,
   "id": "ce0735b3",
   "metadata": {},
   "outputs": [],
   "source": [
    "log_hdens_min_main = -4.5\n",
    "log_hdens_max_main = -2.5\n",
    "log_hdens_step_main = 0.25\n",
    "\n",
    "log_hdens_arr_main = np.arange(log_hdens_min_main, log_hdens_max_main+log_hdens_step_main, log_hdens_step_main)"
   ]
  },
  {
   "cell_type": "code",
   "execution_count": 9,
   "id": "4541a0ff",
   "metadata": {},
   "outputs": [],
   "source": [
    "log_metals_min_main = -0.5\n",
    "log_metals_max_main = 1.0\n",
    "log_metals_step_main = 0.25\n",
    "\n",
    "log_metals_arr_main = np.arange(log_metals_min_main, log_metals_max_main+log_metals_step_main, log_metals_step_main)"
   ]
  },
  {
   "cell_type": "code",
   "execution_count": 13,
   "id": "3e792668",
   "metadata": {},
   "outputs": [
    {
     "data": {
      "text/plain": [
       "array([-0.5 , -0.25,  0.  ,  0.25,  0.5 ,  0.75,  1.  ])"
      ]
     },
     "execution_count": 13,
     "metadata": {},
     "output_type": "execute_result"
    }
   ],
   "source": [
    "log_metals_arr_main"
   ]
  },
  {
   "cell_type": "code",
   "execution_count": 15,
   "id": "97ef3470",
   "metadata": {},
   "outputs": [
    {
     "data": {
      "text/plain": [
       "63"
      ]
     },
     "execution_count": 15,
     "metadata": {},
     "output_type": "execute_result"
    }
   ],
   "source": [
    "# Total number of grid points\n",
    "len(log_hdens_arr_main)*len(log_metals_arr_main)"
   ]
  },
  {
   "cell_type": "markdown",
   "id": "f31d3efc",
   "metadata": {},
   "source": [
    "Check compile with $N_\\mathrm{HI}$"
   ]
  },
  {
   "cell_type": "code",
   "execution_count": 17,
   "id": "72ac03f8",
   "metadata": {},
   "outputs": [
    {
     "name": "stderr",
     "output_type": "stream",
     "text": [
      "/Users/thepoetoftwilight/Documents/Astro/Code/PG1522+101/cloudy_fit/cloudy_fit_lib.py:434: RuntimeWarning: divide by zero encountered in log10\n",
      "  log_col_dens = np.log10(np.array(col_lines_split[1::2], dtype=float))\n"
     ]
    }
   ],
   "source": [
    "# Get list of densities and metallicities for this stopping HI column density \n",
    "log_hdens_grid, log_metals_grid = read_grd_file(rootdir+'PIE_fixT/', 'igm_lalpha_hm12_grid_1300')\n",
    "\n",
    "# Get column densities for all species\n",
    "species_names, log_col_dens_grid = read_col_file(rootdir+'PIE_fixT/', 'igm_lalpha_hm12_grid_1300')\n",
    "\n",
    "for j in range(len(log_hdens_arr_main)):\n",
    "\n",
    "    log_hdens = log_hdens_arr_main[j]\n",
    "\n",
    "    for k in range(len(log_metals_arr_main)):\n",
    "\n",
    "        log_metals = log_metals_arr_main[k]\n",
    "\n",
    "        # Get grid index number for the current n_H and metallicity\n",
    "        idx = np.intersect1d(np.where(log_hdens_grid==log_hdens)[0], np.where(log_metals_grid==log_metals)[0])[0]\n",
    "\n",
    "        # Isolate column density for all species\n",
    "        log_col_dens = log_col_dens_grid[idx]\n",
    "\n",
    "        # Check if this grid point is a failure\n",
    "        if np.round(log_col_dens[0],2) != 12.9:\n",
    "            # Categorize based on temperature\n",
    "            print(log_hdens, log_metals, log_col_dens[0])"
   ]
  },
  {
   "cell_type": "markdown",
   "id": "d014e8a2",
   "metadata": {},
   "source": [
    "Compile 2D grid"
   ]
  },
  {
   "cell_type": "code",
   "execution_count": 18,
   "id": "0451ddfe",
   "metadata": {},
   "outputs": [],
   "source": [
    "species_logN_samples_final = {}"
   ]
  },
  {
   "cell_type": "code",
   "execution_count": 19,
   "id": "46d82b9d",
   "metadata": {},
   "outputs": [
    {
     "name": "stderr",
     "output_type": "stream",
     "text": [
      "/Users/thepoetoftwilight/Documents/Astro/Code/PG1522+101/cloudy_fit/cloudy_fit_lib.py:434: RuntimeWarning: divide by zero encountered in log10\n",
      "  log_col_dens = np.log10(np.array(col_lines_split[1::2], dtype=float))\n"
     ]
    }
   ],
   "source": [
    "# Get list of densities and metallicities for this stopping HI column density \n",
    "log_hdens_grid, log_metals_grid = read_grd_file(rootdir+'PIE_fixT/', 'igm_lalpha_hm12_grid_1300')\n",
    "\n",
    "# Get column densities for all species\n",
    "species_names, log_col_dens_grid = read_col_file(rootdir+'PIE_fixT/', 'igm_lalpha_hm12_grid_1300')\n",
    "\n",
    "for j in range(len(log_hdens_arr_main)):\n",
    "\n",
    "    log_hdens = log_hdens_arr_main[j]\n",
    "\n",
    "    for k in range(len(log_metals_arr_main)):\n",
    "\n",
    "        log_metals = log_metals_arr_main[k]\n",
    "\n",
    "        # Get grid index number for the current n_H and metallicity\n",
    "        idx = np.intersect1d(np.where(log_hdens_grid==log_hdens)[0], np.where(log_metals_grid==log_metals)[0])[0]\n",
    "        # Isolate column density for all species\n",
    "        log_col_dens = log_col_dens_grid[idx]\n",
    "\n",
    "        # For each species\n",
    "        for l in range(len(species_names)):\n",
    "\n",
    "            s = species_names[l]\n",
    "\n",
    "            if s not in species_logN_samples_final.keys():\n",
    "\n",
    "                species_logN_samples_final[s] = -99.*np.ones((len(log_hdens_arr_main),\n",
    "                                                        len(log_metals_arr_main)))\n",
    "\n",
    "            # Check for converged logN(HI)\n",
    "            if np.round(log_col_dens[0],2) == 12.9:\n",
    "                species_logN_samples_final[s][j,k] = log_col_dens[l]"
   ]
  },
  {
   "cell_type": "code",
   "execution_count": 22,
   "id": "1b75e7e0",
   "metadata": {},
   "outputs": [],
   "source": [
    "for s in list(species_logN_samples_final.keys()):\n",
    "    if np.any(species_logN_samples_final[s].flatten()==-99):\n",
    "        print('Error')"
   ]
  },
  {
   "cell_type": "markdown",
   "id": "d7689111",
   "metadata": {},
   "source": [
    "Save column density grid"
   ]
  },
  {
   "cell_type": "code",
   "execution_count": 23,
   "id": "13133757",
   "metadata": {},
   "outputs": [],
   "source": [
    "output = open(rootdir+'final_grid_fixT_z126.pkl', 'wb')\n",
    "pickle.dump(species_logN_samples_final, output)\n",
    "output.close()"
   ]
  },
  {
   "cell_type": "code",
   "execution_count": null,
   "id": "1fcf73d7",
   "metadata": {},
   "outputs": [],
   "source": []
  }
 ],
 "metadata": {
  "kernelspec": {
   "display_name": "Python 3 (ipykernel)",
   "language": "python",
   "name": "python3"
  },
  "language_info": {
   "codemirror_mode": {
    "name": "ipython",
    "version": 3
   },
   "file_extension": ".py",
   "mimetype": "text/x-python",
   "name": "python",
   "nbconvert_exporter": "python",
   "pygments_lexer": "ipython3",
   "version": "3.9.13"
  }
 },
 "nbformat": 4,
 "nbformat_minor": 5
}
