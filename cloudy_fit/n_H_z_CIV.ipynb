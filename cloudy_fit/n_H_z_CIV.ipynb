{
 "cells": [
  {
   "cell_type": "code",
   "execution_count": 25,
   "id": "2a7317c5",
   "metadata": {},
   "outputs": [],
   "source": [
    "import numpy as np\n",
    "from astropy.table import Table\n",
    "import matplotlib.pyplot as plt\n",
    "import pandas as pd\n",
    "from cloudy_fit_lib import *\n",
    "from scipy.interpolate import RegularGridInterpolator\n",
    "import pickle\n",
    "from astropy import constants, units"
   ]
  },
  {
   "cell_type": "code",
   "execution_count": 26,
   "id": "04ca7126",
   "metadata": {},
   "outputs": [],
   "source": [
    "plt.style.use('/Users/thepoetoftwilight/Documents/CUBS/Code/science.mplstyle')"
   ]
  },
  {
   "cell_type": "code",
   "execution_count": 3,
   "id": "def6ee5a",
   "metadata": {},
   "outputs": [],
   "source": [
    "rootdir = ''"
   ]
  },
  {
   "cell_type": "markdown",
   "id": "a1c0fa68",
   "metadata": {},
   "source": [
    "Obtain the UVB grids for HM12, KS19, and FG20"
   ]
  },
  {
   "cell_type": "code",
   "execution_count": 4,
   "id": "e82a835a",
   "metadata": {},
   "outputs": [],
   "source": [
    "# Isolate data form HM12, FG20\n",
    "hm12_z_grid, hm12_wav_grid, hm12_J_nu_grid = read_uvb(rootdir, 'hm12_galaxy.ascii')\n",
    "ks19_z_grid, ks19_wav_grid, ks19_J_nu_grid = read_uvb(rootdir, 'ks19_q18.ascii')\n",
    "fg20_z_grid, fg20_wav_grid, fg20_J_nu_grid = read_uvb(rootdir, 'fg20_galaxy.ascii')"
   ]
  },
  {
   "cell_type": "markdown",
   "id": "894b5bdc",
   "metadata": {},
   "source": [
    "Sameer et al. 2024 densities"
   ]
  },
  {
   "cell_type": "code",
   "execution_count": 5,
   "id": "6bed5ce4",
   "metadata": {},
   "outputs": [],
   "source": [
    "X1 = np.array([[0.3985, -3.04, 0.05, 0.07],\n",
    "[0.3985, -4.62, 0.06, 0.06],\n",
    "[0.357, -2.7, 0.3, 0.3],\n",
    "[0.357, -2.89, 0.02, 0.02],\n",
    "[0.2784, -3.48, 0.07, 0.07],\n",
    "[0.3815, -3.40, 0.04, 0.04],\n",
    "[0.3815, -3.4, 0.1, 0.1],\n",
    "[0.4828, -2.52, 0.02, 0.02],\n",
    "[0.4828, -0.91, 0.06, 0.06],\n",
    "[0.4828, -2.70, 0.06, 0.06],\n",
    "[0.4828, -2.45, 0.05, 0.05],\n",
    "[0.138, -4.91, 0.04, 0.06],\n",
    "[0.1383, -2.80, 0.01, 0.01],\n",
    "[0.1383, -3.21, 0.03, 0.03],\n",
    "[0.1546, -2.7, 0.4, 0.6],\n",
    "[0.1241, -4.22, 0.07, 0.07],\n",
    "[0.1241, -4.76, 0.03, 0.03],\n",
    "[0.1241, -3.65, 0.05, 0.05],\n",
    "#[0.1241, >-2.7],\n",
    "[0.5504, -3.48, 0.07, 0.07],\n",
    "[0.5504, -1.6, 0.2, 0.1],\n",
    "[0.5504, -2.5, 0.2, 0.2],\n",
    "[0.5504, -3.9, 0.3, 0.3],\n",
    "[0.5504, -2.84, 0.05, 0.05],\n",
    "[0.5504, -2.59, 0.02, 0.03],\n",
    "[0.5504, -1, 1, 1],\n",
    "[0.661, -0.6, 0.1, 0.1],\n",
    "[0.661, -2.1, 0.1, 0.1],\n",
    "[0.661, -3.3, 0.2, 0.1],\n",
    "[0.661, 0.0, 0.3, 0.3],\n",
    "[0.0708, -2.92, 0.03, 0.03],\n",
    "[0.0708, -3.52, 0.06, 0.06],\n",
    "[0.0708, -3.3, 0.1, 0.1],\n",
    "[0.4592, -2.57, 0.01, 0.01],\n",
    "#[0.4592, <0.3],\n",
    "[0.4592, -1.7, 0.2, 0.2],\n",
    "[0.4592, -2.95, 0.02, 0.02],\n",
    "[0.4592, -0.6, 0.7, 0.7],\n",
    "[0.0949, -3.8, 0.1, 0.1],\n",
    "[0.0921, -3.7, 0.1, 0.1],\n",
    "#[0.4302, -1, 1, 1],\n",
    "[0.4302, -0.5, 0.4, 0.4],\n",
    "[0.1537, -3.37, 0.02, 0.02],])"
   ]
  },
  {
   "cell_type": "code",
   "execution_count": 6,
   "id": "e879e70b",
   "metadata": {},
   "outputs": [],
   "source": [
    "X2 = np.array([[0.67546,-2.7, 0.3, 0.2],\n",
    "[0.67546,-3.80, 0.08, 0.06],\n",
    "[1.04431,-3.08, 0.06, 0.06],\n",
    "[1.04431,-3.38, 0.06, 0.06],\n",
    "[1.04431,-3.49, 0.08, 0.08],\n",
    "[1.04431,-3.1, 0.2, 0.1],\n",
    "[1.09457,-2.6, 0.2, 0.2],\n",
    "[1.09457,-3.67, 0.07, 0.09],\n",
    "[1.16591,-3.18, 0.03, 0.03],\n",
    "[1.16591,-3.9, 0.1, 0.1],\n",
    "[1.22541,-4.24, 0.04, 0.04],\n",
    "[1.25937,-3.3, 0.2, 0.1],\n",
    "[1.27767,-2.4, 0.6, 0.3],\n",
    "[1.27767,-4.29, 0.08, 0.08],\n",
    "[1.27767,-4.07, 0.06, 0.06]])"
   ]
  },
  {
   "cell_type": "markdown",
   "id": "891ea354",
   "metadata": {},
   "source": [
    "Plot"
   ]
  },
  {
   "cell_type": "code",
   "execution_count": 7,
   "id": "ee08638f",
   "metadata": {},
   "outputs": [],
   "source": [
    "x1 = X1[:,0]\n",
    "y1 = X1[:,1]\n",
    "dy1_lo = X1[:,2]\n",
    "dy1_hi = X1[:,3]\n",
    "\n",
    "x2 = X2[:,0]\n",
    "y2 = X2[:,1]\n",
    "dy2_lo = X2[:,2]\n",
    "dy2_hi = X2[:,3]"
   ]
  },
  {
   "cell_type": "code",
   "execution_count": 8,
   "id": "6f5b0ea3",
   "metadata": {},
   "outputs": [
    {
     "data": {
      "text/plain": [
       "Text(0, 0.5, '$\\\\log(n_\\\\mathrm{H}/\\\\mathrm{cm}^{-3})$')"
      ]
     },
     "execution_count": 8,
     "metadata": {},
     "output_type": "execute_result"
    },
    {
     "data": {
      "image/png": "[encoded data removed]",
      "text/plain": [
       "<Figure size 400x400 with 1 Axes>"
      ]
     },
     "metadata": {},
     "output_type": "display_data"
    }
   ],
   "source": [
    "fig, ax = plt.subplots(1, figsize=(4,4))\n",
    "\n",
    "ax.errorbar(x1, y1, yerr = [dy1_lo, dy1_hi], \n",
    "            linestyle='none', marker='o', markersize=3, capsize=2, \n",
    "            color='lightsteelblue', label='S24')\n",
    "\n",
    "ax.errorbar(x2, y2, yerr = [dy2_lo, dy2_hi], \n",
    "            linestyle='none', marker='o', markersize=3, capsize=2, \n",
    "            color='black', label='This Work')\n",
    "\n",
    "ax.legend(fontsize=10, loc='upper right')\n",
    "\n",
    "ax.set_xlabel(r'$z_\\mathrm{CIV}$')\n",
    "ax.set_ylabel(r'$\\log(n_\\mathrm{H}/\\mathrm{cm}^{-3})$')"
   ]
  },
  {
   "cell_type": "markdown",
   "id": "2448b870",
   "metadata": {},
   "source": [
    "Convert to ionization parameters, first Sameer et al."
   ]
  },
  {
   "cell_type": "code",
   "execution_count": 9,
   "id": "e388d569",
   "metadata": {},
   "outputs": [],
   "source": [
    "uvb_dict = {'PIE':'ks19', 'TDP-low':'hm12'}\n",
    "\n",
    "cloud_types = np.array(['PIE',\n",
    "        'TDP-low',\n",
    "        'TDP-low',\n",
    "        'PIE',\n",
    "        'PIE',\n",
    "        'PIE',\n",
    "        'PIE',\n",
    "        'PIE',\n",
    "        'PIE',\n",
    "        'PIE',\n",
    "        'PIE',\n",
    "        'TDP-low',\n",
    "        'PIE',\n",
    "        'PIE',\n",
    "        'PIE',\n",
    "        'TDP-low',\n",
    "        'TDP-low',\n",
    "        'TDP-low',\n",
    "        #'PIE',\n",
    "        'TDP-low',\n",
    "        'PIE',\n",
    "        'TDP-low',\n",
    "        'TDP-low',\n",
    "        'TDP-low',\n",
    "        'PIE',\n",
    "        'TDP-low',\n",
    "        'PIE',\n",
    "        'TDP-low',\n",
    "        'PIE',\n",
    "        'TDP-low',\n",
    "        'PIE',\n",
    "        'PIE',\n",
    "        'PIE',\n",
    "        'PIE',\n",
    "        #'TDP-high',\n",
    "        'PIE',\n",
    "        'TDP-low',\n",
    "        'TDP-low',\n",
    "        'PIE',\n",
    "        'PIE',\n",
    "        #'TDP-low',\n",
    "        'TDP-low',\n",
    "        'PIE'])"
   ]
  },
  {
   "cell_type": "code",
   "execution_count": 10,
   "id": "f08d591b",
   "metadata": {},
   "outputs": [],
   "source": [
    "D1 = np.zeros(np.shape(X1))\n",
    "D1[:,0] = X1[:,0] # Copy redshifts\n",
    "D1[:,2] = X1[:,3] # In log, errors stay the same in magnitude but get swapped\n",
    "D1[:,3] = X1[:,2] # Cool property!"
   ]
  },
  {
   "cell_type": "code",
   "execution_count": 11,
   "id": "d512a60c",
   "metadata": {},
   "outputs": [],
   "source": [
    "for i in range(D1.shape[0]):\n",
    "    \n",
    "    z = X1[i,0]\n",
    "    hdens = 10**X1[i,1]\n",
    "    \n",
    "    # Specify UVB\n",
    "    uvb = uvb_dict[cloud_types[i]]\n",
    "    \n",
    "    if uvb == 'ks19':\n",
    "        D1[i,1] = np.log10(calc_U(ks19_wav_grid, \n",
    "                           fetch_sed(z, ks19_z_grid, ks19_J_nu_grid), # Fetch SED\n",
    "                           hdens))\n",
    "        \n",
    "    else:\n",
    "        D1[i,1] = np.log10(calc_U(hm12_wav_grid, \n",
    "                           fetch_sed(z, hm12_z_grid, hm12_J_nu_grid), # Fetch SED\n",
    "                           hdens))        "
   ]
  },
  {
   "cell_type": "markdown",
   "id": "13330f37",
   "metadata": {},
   "source": [
    "Then my work"
   ]
  },
  {
   "cell_type": "code",
   "execution_count": 12,
   "id": "54b01a5d",
   "metadata": {},
   "outputs": [],
   "source": [
    "D2 = np.zeros(np.shape(X2))\n",
    "D2[:,0] = X2[:,0]\n",
    "D2[:,2] = X2[:,3] \n",
    "D2[:,3] = X2[:,2]"
   ]
  },
  {
   "cell_type": "code",
   "execution_count": 13,
   "id": "4499b6c5",
   "metadata": {},
   "outputs": [],
   "source": [
    "for i in range(D2.shape[0]):\n",
    "    \n",
    "    z = X2[i,0]\n",
    "    hdens = 10**X2[i,1]\n",
    "    \n",
    "    D2[i,1] = np.log10(calc_U(fg20_wav_grid, \n",
    "                       fetch_sed(z, fg20_z_grid, fg20_J_nu_grid), # Fetch SED\n",
    "                       hdens))"
   ]
  },
  {
   "cell_type": "markdown",
   "id": "af3d1f52",
   "metadata": {},
   "source": [
    "Now plot"
   ]
  },
  {
   "cell_type": "code",
   "execution_count": 14,
   "id": "94922345",
   "metadata": {},
   "outputs": [],
   "source": [
    "t1 = D1[:,0]\n",
    "q1 = D1[:,1]\n",
    "dq1_lo = D1[:,2]\n",
    "dq1_hi = D1[:,3]\n",
    "\n",
    "t2 = D2[:,0]\n",
    "q2 = D2[:,1]\n",
    "dq2_lo = D2[:,2]\n",
    "dq2_hi = D2[:,3]"
   ]
  },
  {
   "cell_type": "code",
   "execution_count": 28,
   "id": "54b2e93a",
   "metadata": {},
   "outputs": [
    {
     "data": {
      "image/png": "[encoded data removed]",
      "text/plain": [
       "<Figure size 440x300 with 1 Axes>"
      ]
     },
     "metadata": {},
     "output_type": "display_data"
    }
   ],
   "source": [
    "fig, ax = plt.subplots(1, 1, figsize=(4.4,3))\n",
    "\n",
    "# Densities\n",
    "\n",
    "ax.errorbar(x1[cloud_types=='PIE'], y1[cloud_types=='PIE'], \n",
    "                 yerr = [dy1_lo[cloud_types=='PIE'], dy1_hi[cloud_types=='PIE']], \n",
    "            linestyle='none', marker='o', markersize=3, capsize=2, \n",
    "            color='lightsteelblue', label='KS19 PIE (S24)')\n",
    "\n",
    "ax.errorbar(x1[cloud_types=='TDP-low'], y1[cloud_types=='TDP-low'], \n",
    "                 yerr = [dy1_lo[cloud_types=='TDP-low'], dy1_hi[cloud_types=='TDP-low']], \n",
    "            linestyle='none', marker='o', markersize=3, capsize=2, \n",
    "            color='plum', label='HM12 TDP (S24)')\n",
    "\n",
    "\n",
    "ax.errorbar(x2, y2, yerr = [dy2_lo, dy2_hi], \n",
    "            linestyle='none', marker='o', markersize=3, capsize=2, \n",
    "            color='black', label='FG20 PIE')\n",
    "\n",
    "ax.legend(fontsize=9, loc='upper right')\n",
    "\n",
    "ax.set_xlabel(r'$z_\\mathrm{CIV}$')\n",
    "ax.set_ylabel(r'$\\log(n_\\mathrm{H}/\\mathrm{cm}^{-3})$')\n",
    "\n",
    "plt.subplots_adjust(wspace=0.25, hspace=0.2)\n",
    "\n",
    "plt.savefig('/Users/thepoetoftwilight/Documents/CUBS/Data/n_H_z_CIV.png', dpi=300)"
   ]
  },
  {
   "cell_type": "code",
   "execution_count": 27,
   "id": "75331164",
   "metadata": {},
   "outputs": [
    {
     "data": {
      "image/png": "[encoded data removed]",
      "text/plain": [
       "<Figure size 880x300 with 3 Axes>"
      ]
     },
     "metadata": {},
     "output_type": "display_data"
    }
   ],
   "source": [
    "fig, axes = plt.subplots(1, 2, figsize=(4.4*2,3))\n",
    "\n",
    "# Densities\n",
    "\n",
    "axes[0].errorbar(x1[cloud_types=='PIE'], y1[cloud_types=='PIE'], \n",
    "                 yerr = [dy1_lo[cloud_types=='PIE'], dy1_hi[cloud_types=='PIE']], \n",
    "            linestyle='none', marker='o', markersize=3, capsize=2, \n",
    "            color='lightsteelblue', label='KS19 PIE (S24)')\n",
    "\n",
    "axes[0].errorbar(x1[cloud_types=='TDP-low'], y1[cloud_types=='TDP-low'], \n",
    "                 yerr = [dy1_lo[cloud_types=='TDP-low'], dy1_hi[cloud_types=='TDP-low']], \n",
    "            linestyle='none', marker='o', markersize=3, capsize=2, \n",
    "            color='plum', label='HM12 TDP (S24)')\n",
    "\n",
    "\n",
    "axes[0].errorbar(x2, y2, yerr = [dy2_lo, dy2_hi], \n",
    "            linestyle='none', marker='o', markersize=3, capsize=2, \n",
    "            color='black', label='FG20 PIE')\n",
    "\n",
    "axes[0].legend(fontsize=9, loc='upper right')\n",
    "\n",
    "axes[0].set_xlabel(r'$z_\\mathrm{CIV}$')\n",
    "axes[0].set_ylabel(r'$\\log(n_\\mathrm{H}/\\mathrm{cm}^{-3})$')\n",
    "\n",
    "# logU\n",
    "\n",
    "axes[1].errorbar(t1[cloud_types=='PIE'], q1[cloud_types=='PIE'], \n",
    "                 yerr = [dq1_lo[cloud_types=='PIE'], dq1_hi[cloud_types=='PIE']], \n",
    "            linestyle='none', marker='o', markersize=3, capsize=2, \n",
    "            color='lightsteelblue')\n",
    "\n",
    "axes[1].errorbar(t1[cloud_types=='TDP-low'], q1[cloud_types=='TDP-low'], \n",
    "                 yerr = [dq1_lo[cloud_types=='TDP-low'], dq1_hi[cloud_types=='TDP-low']], \n",
    "            linestyle='none', marker='o', markersize=3, capsize=2, \n",
    "            color='plum')\n",
    "\n",
    "axes[1].errorbar(t2, q2, yerr = [dq2_lo, dq2_hi], \n",
    "            linestyle='none', marker='o', markersize=3, capsize=2, \n",
    "            color='black')\n",
    "\n",
    "axes[1].set_xlabel(r'$z_\\mathrm{CIV}$')\n",
    "axes[1].set_ylabel(r'$\\log U$')\n",
    "\n",
    "axes[1].invert_yaxis()\n",
    "\n",
    "ax_label = fig.add_subplot(111, frameon=False)\n",
    "ax_label.set_xticks([])\n",
    "ax_label.set_yticks([])\n",
    "\n",
    "ax_label.set_title(r'Gas densities probed by CIV absorption at $z \\lesssim 1$', fontsize=17, y=1.05)\n",
    "plt.subplots_adjust(wspace=0, hspace=0)\n",
    "\n",
    "plt.subplots_adjust(wspace=0.25, hspace=0.2)\n",
    "\n",
    "plt.savefig('/Users/thepoetoftwilight/Documents/CUBS/Data/n_H_z_CIV.pdf', dpi=300)"
   ]
  },
  {
   "cell_type": "code",
   "execution_count": null,
   "id": "74bccf32",
   "metadata": {},
   "outputs": [],
   "source": []
  }
 ],
 "metadata": {
  "kernelspec": {
   "display_name": "Python 3 (ipykernel)",
   "language": "python",
   "name": "python3"
  },
  "language_info": {
   "codemirror_mode": {
    "name": "ipython",
    "version": 3
   },
   "file_extension": ".py",
   "mimetype": "text/x-python",
   "name": "python",
   "nbconvert_exporter": "python",
   "pygments_lexer": "ipython3",
   "version": "3.9.13"
  }
 },
 "nbformat": 4,
 "nbformat_minor": 5
}
