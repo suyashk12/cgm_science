{
 "cells": [
  {
   "cell_type": "code",
   "execution_count": 1,
   "id": "fa1eb5a8",
   "metadata": {},
   "outputs": [],
   "source": [
    "import numpy as np\n",
    "import matplotlib.pyplot as plt\n",
    "from astropy.table import Table\n",
    "from astropy import constants, units\n",
    "import os\n",
    "import os.path\n",
    "import pandas as pd"
   ]
  },
  {
   "cell_type": "code",
   "execution_count": 2,
   "id": "40208ac8",
   "metadata": {},
   "outputs": [],
   "source": [
    "rootdir = '/Users/thepoetoftwilight/Documents/CUBS/Data/PG1522+101/cloudy_grids/non_eqm_models/cooling_eff/'"
   ]
  },
  {
   "cell_type": "markdown",
   "id": "190d4949",
   "metadata": {},
   "source": [
    "# Grid parameters for cooling efficiencies"
   ]
  },
  {
   "cell_type": "code",
   "execution_count": 3,
   "id": "a71877ce",
   "metadata": {},
   "outputs": [],
   "source": [
    "C_list = ['CI', 'CII', 'CIII', 'CIV', 'CV', 'CVI', 'CVII']\n",
    "N_list = ['NI', 'NII', 'NIII', 'NIV', 'NV', 'NVI', 'NVII', 'NVIII']\n",
    "O_list = ['OI', 'OII', 'OIII', 'OIV', 'OV', 'OVI', 'OVII', 'OVIII', 'OIX']"
   ]
  },
  {
   "cell_type": "code",
   "execution_count": 4,
   "id": "640d9d71",
   "metadata": {},
   "outputs": [],
   "source": [
    "C_species = [r'$\\mathrm{C}^0$', r'$\\mathrm{C}^+$', r'$\\mathrm{C}^{2+}$', r'$\\mathrm{C}^{3+}$',\n",
    "            r'$\\mathrm{C}^{4+}$', r'$\\mathrm{C}^{5+}$', r'$\\mathrm{C}^{6+}$']\n",
    "\n",
    "N_species = [r'$\\mathrm{N}^0$', r'$\\mathrm{N}^+$', r'$\\mathrm{N}^{2+}$', r'$\\mathrm{N}^{3+}$',\n",
    "            r'$\\mathrm{N}^{4+}$', r'$\\mathrm{N}^{5+}$', r'$\\mathrm{N}^{6+}$', r'$\\mathrm{N}^{7+}$',\n",
    "            r'$\\mathrm{N}^{7+}$']\n",
    "\n",
    "O_species = [r'$\\mathrm{O}^0$', r'$\\mathrm{O}^+$', r'$\\mathrm{O}^{2+}$', r'$\\mathrm{O}^{3+}$',\n",
    "            r'$\\mathrm{O}^{4+}$', r'$\\mathrm{O}^{5+}$', r'$\\mathrm{O}^{6+}$',\n",
    "            r'$\\mathrm{O}^{7+}$', r'$\\mathrm{O}^{8+}$']"
   ]
  },
  {
   "cell_type": "code",
   "execution_count": 5,
   "id": "97195c2e",
   "metadata": {},
   "outputs": [],
   "source": [
    "key_C_list = []\n",
    "\n",
    "for i in range(len(C_list)):\n",
    "    s = '0 '*i\n",
    "    s = s + '1 '\n",
    "    s = s + '0 '*(len(C_list)-i-1)\n",
    "    s = s[:-1]\n",
    "    key_C_list.append(s)"
   ]
  },
  {
   "cell_type": "code",
   "execution_count": 6,
   "id": "82f283d7",
   "metadata": {},
   "outputs": [],
   "source": [
    "#key_C_list"
   ]
  },
  {
   "cell_type": "code",
   "execution_count": 7,
   "id": "50097d2b",
   "metadata": {},
   "outputs": [],
   "source": [
    "key_N_list = []\n",
    "\n",
    "for i in range(len(N_list)):\n",
    "    s = '0 '*i\n",
    "    s = s + '1 '\n",
    "    s = s + '0 '*(len(N_list)-i-1)\n",
    "    s = s[:-1]\n",
    "    key_N_list.append(s)"
   ]
  },
  {
   "cell_type": "code",
   "execution_count": 8,
   "id": "720ac8f3",
   "metadata": {},
   "outputs": [],
   "source": [
    "#key_N_list"
   ]
  },
  {
   "cell_type": "code",
   "execution_count": 9,
   "id": "f95761e7",
   "metadata": {},
   "outputs": [],
   "source": [
    "key_O_list = []\n",
    "\n",
    "for i in range(len(O_list)):\n",
    "    s = '0 '*i\n",
    "    s = s + '1 '\n",
    "    s = s + '0 '*(len(O_list)-i-1)\n",
    "    s = s[:-1]\n",
    "    key_O_list.append(s)"
   ]
  },
  {
   "cell_type": "code",
   "execution_count": 10,
   "id": "fe8358c2",
   "metadata": {},
   "outputs": [],
   "source": [
    "#key_O_list"
   ]
  },
  {
   "cell_type": "markdown",
   "id": "c775b01e",
   "metadata": {},
   "source": [
    "# Write log(hdens) = -10 files"
   ]
  },
  {
   "cell_type": "code",
   "execution_count": 11,
   "id": "563ce056",
   "metadata": {},
   "outputs": [
    {
     "name": "stdout",
     "output_type": "stream",
     "text": [
      "cd C/CI; ./run.sh cool; cd ../..\n",
      "cd C/CII; ./run.sh cool; cd ../..\n",
      "cd C/CIII; ./run.sh cool; cd ../..\n",
      "cd C/CIV; ./run.sh cool; cd ../..\n",
      "cd C/CV; ./run.sh cool; cd ../..\n",
      "cd C/CVI; ./run.sh cool; cd ../..\n",
      "cd C/CVII; ./run.sh cool; cd ../..\n",
      "\n"
     ]
    }
   ],
   "source": [
    "for i in range(len(C_list)):\n",
    "    \n",
    "    s = '''title coronal equilibrium at 1e6 K\n",
    "coronal 6 vary\n",
    "grid 4 8 0.2\n",
    "set dr 0\n",
    "hden -10 log\n",
    "set eden 0\n",
    "no molecules\n",
    "no photoionization\n",
    "cosmic ray background\n",
    "element abundance carbon 10\n",
    "stop zone 1\n",
    "iterate to convergence\n",
    "init \"honly.ini\"\n",
    "element carbon on\n",
    "element carbon ionization {}\n",
    "save overview \"coll t6.ovr\" separate\n",
    "save cooling each \"coll t6.cool\" last no hash\n",
    "save recombination coefficients \"recomb t6.cool\" last no hash\n",
    "'''.format(key_C_list[i])\n",
    "    \n",
    "    with open(rootdir+'C/{}/cool.in'.format(C_list[i]), 'w') as f:\n",
    "        f.write(s)\n",
    "    \n",
    "    print('cd C/{}; ./run.sh cool; cd ../..'.format(C_list[i]))\n",
    "\n",
    "print('')"
   ]
  },
  {
   "cell_type": "code",
   "execution_count": 12,
   "id": "e2e209e3",
   "metadata": {},
   "outputs": [
    {
     "name": "stdout",
     "output_type": "stream",
     "text": [
      "cd N/NI; ./run.sh cool; cd ../..\n",
      "cd N/NII; ./run.sh cool; cd ../..\n",
      "cd N/NIII; ./run.sh cool; cd ../..\n",
      "cd N/NIV; ./run.sh cool; cd ../..\n",
      "cd N/NV; ./run.sh cool; cd ../..\n",
      "cd N/NVI; ./run.sh cool; cd ../..\n",
      "cd N/NVII; ./run.sh cool; cd ../..\n",
      "cd N/NVIII; ./run.sh cool; cd ../..\n",
      "\n"
     ]
    }
   ],
   "source": [
    "for i in range(len(N_list)):\n",
    "    \n",
    "    s = '''title coronal equilibrium at 1e6 K\n",
    "coronal 6 vary\n",
    "grid 4 8 0.2\n",
    "set dr 0\n",
    "hden -10 log\n",
    "set eden 0\n",
    "no molecules\n",
    "no photoionization\n",
    "cosmic ray background\n",
    "element abundance nitrogen 10\n",
    "stop zone 1\n",
    "iterate to convergence\n",
    "init \"honly.ini\"\n",
    "element nitrogen on\n",
    "element nitrogen ionization {}\n",
    "save overview \"coll t6.ovr\" separate\n",
    "save cooling each \"coll t6.cool\" last no hash\n",
    "save recombination coefficients \"recomb t6.cool\" last no hash\n",
    "'''.format(key_N_list[i])\n",
    "    \n",
    "    with open(rootdir+'N/{}/cool.in'.format(N_list[i]), 'w') as f:\n",
    "        f.write(s)\n",
    "    \n",
    "    print('cd N/{}; ./run.sh cool; cd ../..'.format(N_list[i]))\n",
    "\n",
    "print('')"
   ]
  },
  {
   "cell_type": "code",
   "execution_count": 13,
   "id": "d63d804e",
   "metadata": {},
   "outputs": [
    {
     "name": "stdout",
     "output_type": "stream",
     "text": [
      "cd O/OI; ./run.sh cool; cd ../..\n",
      "cd O/OII; ./run.sh cool; cd ../..\n",
      "cd O/OIII; ./run.sh cool; cd ../..\n",
      "cd O/OIV; ./run.sh cool; cd ../..\n",
      "cd O/OV; ./run.sh cool; cd ../..\n",
      "cd O/OVI; ./run.sh cool; cd ../..\n",
      "cd O/OVII; ./run.sh cool; cd ../..\n",
      "cd O/OVIII; ./run.sh cool; cd ../..\n",
      "cd O/OIX; ./run.sh cool; cd ../..\n",
      "\n"
     ]
    }
   ],
   "source": [
    "for i in range(len(O_list)):\n",
    "    \n",
    "    s = '''title coronal equilibrium at 1e6 K\n",
    "coronal 6 vary\n",
    "grid 4 8 0.2\n",
    "set dr 0\n",
    "hden -10 log\n",
    "set eden 0\n",
    "no molecules\n",
    "no photoionization\n",
    "cosmic ray background\n",
    "element abundance oxygen 10\n",
    "stop zone 1\n",
    "init \"honly.ini\"\n",
    "element oxygen on\n",
    "element oxygen ionization {}\n",
    "save overview \"coll t6.ovr\" separate\n",
    "save cooling each \"coll t6.cool\" last no hash\n",
    "save recombination coefficients \"recomb t6.cool\" last no hash\n",
    "'''.format(key_O_list[i])\n",
    "    \n",
    "    with open(rootdir+'O/{}/cool.in'.format(O_list[i]), 'w') as f:\n",
    "        f.write(s)\n",
    "    \n",
    "    print('cd O/{}; ./run.sh cool; cd ../..'.format(O_list[i]))\n",
    "\n",
    "print('')"
   ]
  },
  {
   "cell_type": "markdown",
   "id": "2131b088",
   "metadata": {},
   "source": [
    "$$C (T) = n_e n_\\mathrm{H} \\Lambda_\\mathrm{net} (T) \\ (\\mathrm{erg} \\ \\mathrm{cm}^{-3} \\mathrm{s}^{-1})$$"
   ]
  },
  {
   "cell_type": "markdown",
   "id": "b702ad4b",
   "metadata": {},
   "source": [
    "$$\\Lambda_\\mathrm{net} (T) \\ (\\mathrm{erg} \\ \\mathrm{cm}^3 \\mathrm{s}^{-1}) = \\sum_{X} \\frac{n_X}{n_\\mathrm{H}} \\left( \\sum_{i} \\frac{n_{X_i}}{n_X} (T) \\cdot \\Lambda_{X_i} (T) \\right) , \\ X = \\mathrm{C, N, O, Si, ...}$$"
   ]
  },
  {
   "cell_type": "markdown",
   "id": "9157b99e",
   "metadata": {},
   "source": [
    "$$\\Lambda_{E_i}(T) = C(T) \\times (1 \\ \\mathrm{cm}^{-3})^2$$"
   ]
  },
  {
   "cell_type": "markdown",
   "id": "819c377e",
   "metadata": {},
   "source": [
    "$$10^{10} n_\\mathrm{H} =n_\\mathrm{O} = n_e = 1 \\ \\mathrm{cm}^{-3}$$"
   ]
  },
  {
   "cell_type": "markdown",
   "id": "3d7a7fd6",
   "metadata": {},
   "source": [
    "$$n_{\\mathrm{O}, \\odot}/n_{\\mathrm{H}, \\odot} = 4.57 \\ \\times 10^{-4}$$"
   ]
  },
  {
   "cell_type": "markdown",
   "id": "9a4ca9f8",
   "metadata": {},
   "source": [
    "$$t_\\mathrm{c} \\sim t_\\mathrm{r, i}$$"
   ]
  },
  {
   "cell_type": "markdown",
   "id": "124f4b0e",
   "metadata": {},
   "source": [
    "$$t_\\mathrm{c} \\ll t_{\\mathrm{r},i}$$"
   ]
  },
  {
   "cell_type": "code",
   "execution_count": null,
   "id": "bcf5ed90",
   "metadata": {},
   "outputs": [],
   "source": []
  }
 ],
 "metadata": {
  "kernelspec": {
   "display_name": "Python 3 (ipykernel)",
   "language": "python",
   "name": "python3"
  },
  "language_info": {
   "codemirror_mode": {
    "name": "ipython",
    "version": 3
   },
   "file_extension": ".py",
   "mimetype": "text/x-python",
   "name": "python",
   "nbconvert_exporter": "python",
   "pygments_lexer": "ipython3",
   "version": "3.9.13"
  }
 },
 "nbformat": 4,
 "nbformat_minor": 5
}
