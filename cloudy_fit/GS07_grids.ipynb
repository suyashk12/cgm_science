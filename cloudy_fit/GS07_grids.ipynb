{
 "cells": [
  {
   "cell_type": "code",
   "execution_count": 1,
   "id": "2a7317c5",
   "metadata": {},
   "outputs": [],
   "source": [
    "import numpy as np\n",
    "from astropy.table import Table\n",
    "import matplotlib.pyplot as plt\n",
    "import pandas as pd\n",
    "from cloudy_fit_lib import *\n",
    "from scipy.interpolate import RegularGridInterpolator\n",
    "import pickle"
   ]
  },
  {
   "cell_type": "code",
   "execution_count": 2,
   "id": "04ca7126",
   "metadata": {},
   "outputs": [],
   "source": [
    "plt.style.use('/Users/thepoetoftwilight/Documents/CUBS/Code/science.mplstyle')"
   ]
  },
  {
   "cell_type": "code",
   "execution_count": 4,
   "id": "def6ee5a",
   "metadata": {},
   "outputs": [],
   "source": [
    "rootdir = '/Users/thepoetoftwilight/Documents/CUBS/Data/PG1522+101/gs07_grids/'"
   ]
  },
  {
   "cell_type": "markdown",
   "id": "4238d35e",
   "metadata": {},
   "source": [
    "Specify grid parameters"
   ]
  },
  {
   "cell_type": "code",
   "execution_count": 8,
   "id": "e7c7d003",
   "metadata": {},
   "outputs": [],
   "source": [
    "ref_table = np.loadtxt(rootdir+'table2d.dat')"
   ]
  },
  {
   "cell_type": "code",
   "execution_count": 14,
   "id": "aef1a424",
   "metadata": {},
   "outputs": [],
   "source": [
    "logT_legend = np.log10(ref_table[:,0])"
   ]
  },
  {
   "cell_type": "code",
   "execution_count": 25,
   "id": "5ebb576e",
   "metadata": {},
   "outputs": [],
   "source": [
    "log_metals_isochoric_legend = {-3: np.loadtxt(rootdir+'table2d.dat'), \n",
    "                               -2: np.loadtxt(rootdir+'table2f.dat'),\n",
    "                               -1: np.loadtxt(rootdir+'table2h.dat'),\n",
    "                               0: np.loadtxt(rootdir+'table2b.dat'),\n",
    "                               0.3: np.loadtxt(rootdir+'table2j.dat')}\n",
    "\n",
    "log_metals_isobaric_legend = {-3: np.loadtxt(rootdir+'table2e.dat'), \n",
    "                               -2: np.loadtxt(rootdir+'table2g.dat'),\n",
    "                               -1: np.loadtxt(rootdir+'table2i.dat'),\n",
    "                               0: np.loadtxt(rootdir+'table2c.dat'),\n",
    "                               0.3: np.loadtxt(rootdir+'table2k.dat')}"
   ]
  },
  {
   "cell_type": "code",
   "execution_count": 18,
   "id": "82075369",
   "metadata": {},
   "outputs": [],
   "source": [
    "ion_fractions_legend = [\n",
    "    'H0','H+',\n",
    "    'He0','He+','He2+',\n",
    "    'C0','C+','C2+','C3+','C4+','C5+','C6+',\n",
    "    'N0','N+','N2+','N3+','N4+','N5+','N6+','N7+',\n",
    "    'O0','O+','O2+','O3+','O4+','O5+','O6+','O7+','O8+',\n",
    "    'Ne0','Ne+','Ne2+','Ne3+','Ne4+','Ne5+','Ne6+','Ne7+','Ne8+','Ne9+','Ne10+',\n",
    "    'Mg0','Mg+','Mg2+','Mg3+','Mg4+','Mg5+','Mg6+','Mg7+','Mg8+','Mg9+','Mg10+','Mg11+','Mg12+',\n",
    "    'Si0','Si+','Si2+','Si3+','Si4+','Si5+','Si6+','Si7+','Si8+','Si9+','Si10+','Si11+','Si12+','Si13+','Si14+',\n",
    "    'S0','S+','S2+','S3+','S4+','S5+','S6+','S7+','S8+','S9+','S10+','S11+','S12+','S13+','S14+','S15+','S16+',\n",
    "    'Fe0','Fe+','Fe2+','Fe3+','Fe4+','Fe5+','Fe6+',\n",
    "    'Fe7+','Fe8+','Fe9+','Fe10+','Fe11+','Fe12+','Fe13+','Fe14+','Fe15+','Fe16+',\n",
    "    'Fe17+','Fe18+','Fe19+','Fe20+','Fe21+','Fe22+','Fe23+','Fe24+','Fe25+','Fe26+'\n",
    "]"
   ]
  },
  {
   "cell_type": "markdown",
   "id": "19ffaa21",
   "metadata": {},
   "source": [
    "For each species, create grids of ion fraction as a function of temperature and metallicity. Each species should have a separate grid for isochoric and isobaric cooling."
   ]
  },
  {
   "cell_type": "code",
   "execution_count": 24,
   "id": "98c6e5bd",
   "metadata": {},
   "outputs": [
    {
     "data": {
      "text/plain": [
       "625"
      ]
     },
     "execution_count": 24,
     "metadata": {},
     "output_type": "execute_result"
    }
   ],
   "source": [
    "len(logT_legend)*len(log_metals_isochoric_legend)"
   ]
  },
  {
   "cell_type": "code",
   "execution_count": null,
   "id": "95e16b14",
   "metadata": {},
   "outputs": [],
   "source": []
  }
 ],
 "metadata": {
  "kernelspec": {
   "display_name": "Python 3 (ipykernel)",
   "language": "python",
   "name": "python3"
  },
  "language_info": {
   "codemirror_mode": {
    "name": "ipython",
    "version": 3
   },
   "file_extension": ".py",
   "mimetype": "text/x-python",
   "name": "python",
   "nbconvert_exporter": "python",
   "pygments_lexer": "ipython3",
   "version": "3.9.13"
  }
 },
 "nbformat": 4,
 "nbformat_minor": 5
}
