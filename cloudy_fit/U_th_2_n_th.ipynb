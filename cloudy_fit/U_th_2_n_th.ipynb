{
 "cells": [
  {
   "cell_type": "code",
   "execution_count": 1,
   "id": "2a7317c5",
   "metadata": {},
   "outputs": [],
   "source": [
    "import numpy as np\n",
    "from astropy.table import Table\n",
    "import matplotlib.pyplot as plt\n",
    "import pandas as pd\n",
    "from cloudy_fit_lib import *\n",
    "from scipy.interpolate import RegularGridInterpolator\n",
    "import pickle\n",
    "from astropy import constants, units"
   ]
  },
  {
   "cell_type": "code",
   "execution_count": 2,
   "id": "04ca7126",
   "metadata": {},
   "outputs": [],
   "source": [
    "plt.style.use('/Users/thepoetoftwilight/Documents/CUBS/Code/science.mplstyle')"
   ]
  },
  {
   "cell_type": "code",
   "execution_count": 3,
   "id": "def6ee5a",
   "metadata": {},
   "outputs": [],
   "source": [
    "rootdir = ''"
   ]
  },
  {
   "cell_type": "markdown",
   "id": "a1c0fa68",
   "metadata": {},
   "source": [
    "Obtain the UVB grids for HM05, HM12, and FG20"
   ]
  },
  {
   "cell_type": "code",
   "execution_count": 4,
   "id": "e82a835a",
   "metadata": {},
   "outputs": [],
   "source": [
    "# Isolate data form HM05, HM12, FG20\n",
    "hm05_z_grid, hm05_wav_grid, hm05_J_nu_grid = read_uvb(rootdir, 'hm05_galaxy.ascii')\n",
    "hm12_z_grid, hm12_wav_grid, hm12_J_nu_grid = read_uvb(rootdir, 'hm12_galaxy.ascii')\n",
    "ks19_z_grid, ks19_wav_grid, ks19_J_nu_grid = read_uvb(rootdir, 'ks19_q18.ascii')\n",
    "fg20_z_grid, fg20_wav_grid, fg20_J_nu_grid = read_uvb(rootdir, 'fg20_galaxy.ascii')"
   ]
  },
  {
   "cell_type": "markdown",
   "id": "894b5bdc",
   "metadata": {},
   "source": [
    "Compare calibration to Fakhri's 2018 paper"
   ]
  },
  {
   "cell_type": "code",
   "execution_count": 5,
   "id": "a22521d8",
   "metadata": {},
   "outputs": [],
   "source": [
    "z_test = 0.4\n",
    "\n",
    "# Fetch SEDs\n",
    "hm05_J_nu_test = fetch_sed(z_test, hm05_z_grid, hm05_J_nu_grid)"
   ]
  },
  {
   "cell_type": "code",
   "execution_count": 6,
   "id": "161f554d",
   "metadata": {},
   "outputs": [
    {
     "data": {
      "text/plain": [
       "-5.4542699846341245"
      ]
     },
     "execution_count": 6,
     "metadata": {},
     "output_type": "execute_result"
    }
   ],
   "source": [
    "np.log10(calc_U(hm05_wav_grid, hm05_J_nu_test, 1))"
   ]
  },
  {
   "cell_type": "code",
   "execution_count": 7,
   "id": "da5d7727",
   "metadata": {},
   "outputs": [
    {
     "data": {
      "text/plain": [
       "-3.454269984634125"
      ]
     },
     "execution_count": 7,
     "metadata": {},
     "output_type": "execute_result"
    }
   ],
   "source": [
    "np.log10(calc_U(hm05_wav_grid, hm05_J_nu_test, 0.01))"
   ]
  },
  {
   "cell_type": "code",
   "execution_count": 8,
   "id": "06104509",
   "metadata": {},
   "outputs": [],
   "source": [
    "#constants.c.value*constants.Ryd.value"
   ]
  },
  {
   "cell_type": "code",
   "execution_count": 9,
   "id": "792a70f2",
   "metadata": {},
   "outputs": [],
   "source": [
    "z_test = 0.4\n",
    "\n",
    "# Fetch SEDs\n",
    "hm12_J_nu_test = fetch_sed(z_test, hm12_z_grid, hm12_J_nu_grid)\n",
    "\n",
    "# Invert the density for the threshold ionization parameter\n",
    "#hm12_n_th_grid = calc_n_H(hm12_wav_grid, hm12_J_nu_test, U_th)"
   ]
  },
  {
   "cell_type": "code",
   "execution_count": 10,
   "id": "a652a5a2",
   "metadata": {},
   "outputs": [
    {
     "data": {
      "text/plain": [
       "-5.8637348270216565"
      ]
     },
     "execution_count": 10,
     "metadata": {},
     "output_type": "execute_result"
    }
   ],
   "source": [
    "np.log10(calc_U(hm12_wav_grid, hm12_J_nu_test, 1))"
   ]
  },
  {
   "cell_type": "code",
   "execution_count": 11,
   "id": "0ee923cd",
   "metadata": {},
   "outputs": [
    {
     "data": {
      "text/plain": [
       "-3.863734827021657"
      ]
     },
     "execution_count": 11,
     "metadata": {},
     "output_type": "execute_result"
    }
   ],
   "source": [
    "np.log10(calc_U(hm12_wav_grid, hm12_J_nu_test, 0.01))"
   ]
  },
  {
   "cell_type": "markdown",
   "id": "bb36bf90",
   "metadata": {},
   "source": [
    "Conversions for CUBS-VI"
   ]
  },
  {
   "cell_type": "code",
   "execution_count": 12,
   "id": "b09379c2",
   "metadata": {},
   "outputs": [],
   "source": [
    "z_test = 1.0\n",
    "\n",
    "# Fetch SEDs\n",
    "hm05_J_nu_test = fetch_sed(z_test, hm05_z_grid, hm05_J_nu_grid)\n",
    "fg20_J_nu_test = fetch_sed(z_test, fg20_z_grid, fg20_J_nu_grid)"
   ]
  },
  {
   "cell_type": "code",
   "execution_count": 29,
   "id": "1d0d90c9",
   "metadata": {},
   "outputs": [
    {
     "data": {
      "text/plain": [
       "-3.2043637369486313"
      ]
     },
     "execution_count": 29,
     "metadata": {},
     "output_type": "execute_result"
    }
   ],
   "source": [
    "np.log10(calc_n_H(fg20_wav_grid, fg20_J_nu_test, calc_U(hm05_wav_grid, hm05_J_nu_test, 10**(-3.12))))"
   ]
  },
  {
   "cell_type": "code",
   "execution_count": 7,
   "id": "ceff88aa",
   "metadata": {},
   "outputs": [
    {
     "data": {
      "text/plain": [
       "-3.454269984634125"
      ]
     },
     "execution_count": 7,
     "metadata": {},
     "output_type": "execute_result"
    }
   ],
   "source": [
    "np.log10(calc_U(hm05_wav_grid, hm05_J_nu_test, 0.01))"
   ]
  },
  {
   "cell_type": "code",
   "execution_count": 8,
   "id": "8b536d25",
   "metadata": {},
   "outputs": [],
   "source": [
    "#constants.c.value*constants.Ryd.value"
   ]
  },
  {
   "cell_type": "code",
   "execution_count": 9,
   "id": "b9524d7f",
   "metadata": {},
   "outputs": [],
   "source": [
    "z_test = 0.4\n",
    "\n",
    "# Fetch SEDs\n",
    "hm12_J_nu_test = fetch_sed(z_test, hm12_z_grid, hm12_J_nu_grid)\n",
    "\n",
    "# Invert the density for the threshold ionization parameter\n",
    "#hm12_n_th_grid = calc_n_H(hm12_wav_grid, hm12_J_nu_test, U_th)"
   ]
  },
  {
   "cell_type": "code",
   "execution_count": 10,
   "id": "9bf33782",
   "metadata": {},
   "outputs": [
    {
     "data": {
      "text/plain": [
       "-5.8637348270216565"
      ]
     },
     "execution_count": 10,
     "metadata": {},
     "output_type": "execute_result"
    }
   ],
   "source": [
    "np.log10(calc_U(hm12_wav_grid, hm12_J_nu_test, 1))"
   ]
  },
  {
   "cell_type": "code",
   "execution_count": 11,
   "id": "85d64300",
   "metadata": {},
   "outputs": [
    {
     "data": {
      "text/plain": [
       "-3.863734827021657"
      ]
     },
     "execution_count": 11,
     "metadata": {},
     "output_type": "execute_result"
    }
   ],
   "source": [
    "np.log10(calc_U(hm12_wav_grid, hm12_J_nu_test, 0.01))"
   ]
  },
  {
   "cell_type": "code",
   "execution_count": null,
   "id": "cadef400",
   "metadata": {},
   "outputs": [],
   "source": []
  },
  {
   "cell_type": "markdown",
   "id": "fb05cb81",
   "metadata": {},
   "source": [
    "Compare HM12 ionizing photon densities"
   ]
  },
  {
   "cell_type": "code",
   "execution_count": 12,
   "id": "c73207a6",
   "metadata": {},
   "outputs": [],
   "source": [
    "z_test_grid = np.array([0, 0.5, 1, 2, 3])"
   ]
  },
  {
   "cell_type": "code",
   "execution_count": 13,
   "id": "e322367a",
   "metadata": {},
   "outputs": [],
   "source": [
    "n_gamma_grid = np.zeros(len(z_test_grid))"
   ]
  },
  {
   "cell_type": "code",
   "execution_count": 14,
   "id": "72a92e5b",
   "metadata": {},
   "outputs": [],
   "source": [
    "for i in range(len(z_test_grid)):\n",
    "    \n",
    "    z_test = z_test_grid[i]\n",
    "    \n",
    "    hm12_J_nu_test = fetch_sed(z_test, hm12_z_grid, hm12_J_nu_grid)\n",
    "\n",
    "    n_gamma_grid[i] = calc_n_H(hm12_wav_grid, hm12_J_nu_test, 1)"
   ]
  },
  {
   "cell_type": "code",
   "execution_count": 15,
   "id": "dce155ee",
   "metadata": {},
   "outputs": [
    {
     "data": {
      "text/plain": [
       "array([3.11222727e-07, 1.67080799e-06, 4.96195152e-06, 1.20953907e-05,\n",
       "       1.00636226e-05])"
      ]
     },
     "execution_count": 15,
     "metadata": {},
     "output_type": "execute_result"
    }
   ],
   "source": [
    "n_gamma_grid"
   ]
  },
  {
   "cell_type": "code",
   "execution_count": 16,
   "id": "f67dee03",
   "metadata": {},
   "outputs": [],
   "source": [
    "n_gamma_grid_G17 = np.array([4.2e-6, 2.2e-5, 7.8e-5, 1.6e-4, 1.4e-4])"
   ]
  },
  {
   "cell_type": "code",
   "execution_count": 17,
   "id": "158ae45d",
   "metadata": {},
   "outputs": [
    {
     "data": {
      "text/plain": [
       "array([13.49515838, 13.16728201, 15.71962155, 13.22817956, 13.91149153])"
      ]
     },
     "execution_count": 17,
     "metadata": {},
     "output_type": "execute_result"
    }
   ],
   "source": [
    "n_gamma_grid_G17/n_gamma_grid"
   ]
  },
  {
   "cell_type": "markdown",
   "id": "64a65ec2",
   "metadata": {},
   "source": [
    "Calculate ionization parameter for $n_\\mathrm{H} = 10^{-5}$"
   ]
  },
  {
   "cell_type": "code",
   "execution_count": 18,
   "id": "f25fb202",
   "metadata": {},
   "outputs": [],
   "source": [
    "z_test = 0\n",
    "\n",
    "# Fetch SEDs\n",
    "hm05_J_nu_test = fetch_sed(z_test, hm05_z_grid, hm05_J_nu_grid)\n",
    "hm12_J_nu_test = fetch_sed(z_test, hm12_z_grid, hm12_J_nu_grid)\n",
    "ks19_J_nu_test = fetch_sed(z_test, ks19_z_grid, ks19_J_nu_grid)\n",
    "fg20_J_nu_test = fetch_sed(z_test, fg20_z_grid, fg20_J_nu_grid)\n",
    "\n",
    "# Get threshold ionization parameters\n",
    "hm05_U_th = calc_U(hm05_wav_grid, hm05_J_nu_test, 1e-5)\n",
    "hm12_U_th = calc_U(hm12_wav_grid, hm12_J_nu_test, 1e-5)\n",
    "ks19_U_th = calc_U(ks19_wav_grid, ks19_J_nu_test, 1e-5)\n",
    "fg20_U_th = calc_U(fg20_wav_grid, fg20_J_nu_test, 1e-5)"
   ]
  },
  {
   "cell_type": "code",
   "execution_count": 19,
   "id": "ebd45328",
   "metadata": {},
   "outputs": [
    {
     "data": {
      "text/plain": [
       "(0.09731892306976635,\n",
       " 0.03112227274925912,\n",
       " 0.05354208648589811,\n",
       " 0.04202585639547854)"
      ]
     },
     "execution_count": 19,
     "metadata": {},
     "output_type": "execute_result"
    }
   ],
   "source": [
    "hm05_U_th, hm12_U_th, ks19_U_th, fg20_U_th"
   ]
  },
  {
   "cell_type": "markdown",
   "id": "c26a0f3c",
   "metadata": {},
   "source": [
    "Calculate density scaling for all radiation fields"
   ]
  },
  {
   "cell_type": "code",
   "execution_count": 20,
   "id": "74f8faf9",
   "metadata": {},
   "outputs": [],
   "source": [
    "hm05_n_th_grid = np.zeros(len(hm05_z_grid))\n",
    "hm12_n_th_grid = np.zeros(len(hm12_z_grid))\n",
    "ks19_n_th_grid = np.zeros(len(ks19_z_grid))\n",
    "fg20_n_th_grid = np.zeros(len(fg20_z_grid))"
   ]
  },
  {
   "cell_type": "code",
   "execution_count": 21,
   "id": "5185e9f9",
   "metadata": {},
   "outputs": [],
   "source": [
    "for i in range(len(hm05_n_th_grid)):\n",
    "    \n",
    "    z_test = hm05_z_grid[i]\n",
    "    \n",
    "    hm05_J_nu_test = fetch_sed(z_test, hm05_z_grid, hm05_J_nu_grid)\n",
    "\n",
    "    hm05_n_th_grid[i] = calc_n_H(hm05_wav_grid, hm05_J_nu_test, hm12_U_th)"
   ]
  },
  {
   "cell_type": "code",
   "execution_count": 22,
   "id": "ae12f90e",
   "metadata": {},
   "outputs": [],
   "source": [
    "for i in range(len(hm12_n_th_grid)):\n",
    "    \n",
    "    z_test = hm12_z_grid[i]\n",
    "    \n",
    "    hm12_J_nu_test = fetch_sed(z_test, hm12_z_grid, hm12_J_nu_grid)\n",
    "\n",
    "    hm12_n_th_grid[i] = calc_n_H(hm12_wav_grid, hm12_J_nu_test, hm12_U_th)"
   ]
  },
  {
   "cell_type": "code",
   "execution_count": 23,
   "id": "4a97f991",
   "metadata": {},
   "outputs": [],
   "source": [
    "for i in range(len(ks19_n_th_grid)):\n",
    "    \n",
    "    z_test = ks19_z_grid[i]\n",
    "    \n",
    "    ks19_J_nu_test = fetch_sed(z_test, ks19_z_grid, ks19_J_nu_grid)\n",
    "\n",
    "    ks19_n_th_grid[i] = calc_n_H(ks19_wav_grid, ks19_J_nu_test, ks19_U_th)"
   ]
  },
  {
   "cell_type": "code",
   "execution_count": 24,
   "id": "29b1e078",
   "metadata": {},
   "outputs": [],
   "source": [
    "for i in range(len(fg20_n_th_grid)):\n",
    "    \n",
    "    z_test = fg20_z_grid[i]\n",
    "    \n",
    "    fg20_J_nu_test = fetch_sed(z_test, fg20_z_grid, fg20_J_nu_grid)\n",
    "\n",
    "    fg20_n_th_grid[i] = calc_n_H(fg20_wav_grid, fg20_J_nu_test, hm12_U_th)"
   ]
  },
  {
   "cell_type": "markdown",
   "id": "0bd2a1ae",
   "metadata": {},
   "source": [
    "Make the plot"
   ]
  },
  {
   "cell_type": "code",
   "execution_count": 25,
   "id": "67656ac2",
   "metadata": {},
   "outputs": [
    {
     "data": {
      "text/plain": [
       "Text(0, 0.5, '$n_\\\\mathrm{H, th} (U_{\\\\mathrm{th, HM12}, Z \\\\gtrsim Z_\\\\odot})$')"
      ]
     },
     "execution_count": 25,
     "metadata": {},
     "output_type": "execute_result"
    },
    {
     "data": {
      "image/png": "[encoded data removed]",
      "text/plain": [
       "<Figure size 500x400 with 1 Axes>"
      ]
     },
     "metadata": {},
     "output_type": "display_data"
    }
   ],
   "source": [
    "fig, ax = plt.subplots(1, figsize=(5,4))\n",
    "\n",
    "ax.plot(hm05_z_grid, hm05_n_th_grid, label='HM05')\n",
    "ax.plot(hm12_z_grid, hm12_n_th_grid, label='HM12')\n",
    "ax.plot(ks19_z_grid, ks19_n_th_grid, label='KS19')\n",
    "ax.plot(fg20_z_grid, fg20_n_th_grid, label='FG20')\n",
    "\n",
    "ax.axvline(1, linestyle=':', color='gray')\n",
    "\n",
    "ax.set_xlim(0, 1.5)\n",
    "ax.set_ylim(10**-5.5, 10**-3)\n",
    "#ax.set_ylim(10**-5, 10**-3)\n",
    "\n",
    "ax.legend()\n",
    "\n",
    "ax.set_yscale('log')\n",
    "\n",
    "ax.set_xlabel(r'$z$')\n",
    "ax.set_ylabel(r'$n_\\mathrm{H, th} (U_{\\mathrm{th, HM12}, Z \\gtrsim Z_\\odot})$')"
   ]
  },
  {
   "cell_type": "markdown",
   "id": "1374e594",
   "metadata": {},
   "source": [
    "Calculate ionization parameter for $n_\\mathrm{H} = 10^{-3}$"
   ]
  },
  {
   "cell_type": "code",
   "execution_count": 26,
   "id": "2f4625d3",
   "metadata": {},
   "outputs": [],
   "source": [
    "z_test = 0\n",
    "\n",
    "# Fetch SEDs\n",
    "hm05_J_nu_test = fetch_sed(z_test, hm05_z_grid, hm05_J_nu_grid)\n",
    "hm12_J_nu_test = fetch_sed(z_test, hm12_z_grid, hm12_J_nu_grid)\n",
    "ks19_J_nu_test = fetch_sed(z_test, ks19_z_grid, ks19_J_nu_grid)\n",
    "fg20_J_nu_test = fetch_sed(z_test, fg20_z_grid, fg20_J_nu_grid)\n",
    "\n",
    "# Get threshold ionization parameters\n",
    "hm05_U_th = calc_U(hm05_wav_grid, hm05_J_nu_test, 1e-3)\n",
    "hm12_U_th = calc_U(hm12_wav_grid, hm12_J_nu_test, 1e-3)\n",
    "ks19_U_th = calc_U(ks19_wav_grid, ks19_J_nu_test, 1e-3)\n",
    "fg20_U_th = calc_U(fg20_wav_grid, fg20_J_nu_test, 1e-3)"
   ]
  },
  {
   "cell_type": "code",
   "execution_count": 27,
   "id": "094aaa17",
   "metadata": {},
   "outputs": [
    {
     "data": {
      "text/plain": [
       "(0.0009731892306976635,\n",
       " 0.00031122272749259123,\n",
       " 0.0005354208648589812,\n",
       " 0.00042025856395478545)"
      ]
     },
     "execution_count": 27,
     "metadata": {},
     "output_type": "execute_result"
    }
   ],
   "source": [
    "hm05_U_th, hm12_U_th, ks19_U_th, fg20_U_th"
   ]
  },
  {
   "cell_type": "markdown",
   "id": "91fc277e",
   "metadata": {},
   "source": [
    "Calculate density scaling for all radiation fields"
   ]
  },
  {
   "cell_type": "code",
   "execution_count": 28,
   "id": "679aa135",
   "metadata": {},
   "outputs": [],
   "source": [
    "hm05_n_th_grid = np.zeros(len(hm05_z_grid))\n",
    "hm12_n_th_grid = np.zeros(len(hm12_z_grid))\n",
    "ks19_n_th_grid = np.zeros(len(ks19_z_grid))\n",
    "fg20_n_th_grid = np.zeros(len(fg20_z_grid))"
   ]
  },
  {
   "cell_type": "code",
   "execution_count": 29,
   "id": "f747545c",
   "metadata": {},
   "outputs": [],
   "source": [
    "for i in range(len(hm05_n_th_grid)):\n",
    "    \n",
    "    z_test = hm05_z_grid[i]\n",
    "    \n",
    "    hm05_J_nu_test = fetch_sed(z_test, hm05_z_grid, hm05_J_nu_grid)\n",
    "\n",
    "    hm05_n_th_grid[i] = calc_n_H(hm05_wav_grid, hm05_J_nu_test, hm12_U_th)"
   ]
  },
  {
   "cell_type": "code",
   "execution_count": 30,
   "id": "00fb2536",
   "metadata": {},
   "outputs": [],
   "source": [
    "for i in range(len(hm12_n_th_grid)):\n",
    "    \n",
    "    z_test = hm12_z_grid[i]\n",
    "    \n",
    "    hm12_J_nu_test = fetch_sed(z_test, hm12_z_grid, hm12_J_nu_grid)\n",
    "\n",
    "    hm12_n_th_grid[i] = calc_n_H(hm12_wav_grid, hm12_J_nu_test, hm12_U_th)"
   ]
  },
  {
   "cell_type": "code",
   "execution_count": 31,
   "id": "e3d54299",
   "metadata": {},
   "outputs": [],
   "source": [
    "for i in range(len(ks19_n_th_grid)):\n",
    "    \n",
    "    z_test = ks19_z_grid[i]\n",
    "    \n",
    "    ks19_J_nu_test = fetch_sed(z_test, ks19_z_grid, ks19_J_nu_grid)\n",
    "\n",
    "    ks19_n_th_grid[i] = calc_n_H(ks19_wav_grid, ks19_J_nu_test, ks19_U_th)"
   ]
  },
  {
   "cell_type": "code",
   "execution_count": 32,
   "id": "1c012eba",
   "metadata": {},
   "outputs": [],
   "source": [
    "for i in range(len(fg20_n_th_grid)):\n",
    "    \n",
    "    z_test = fg20_z_grid[i]\n",
    "    \n",
    "    fg20_J_nu_test = fetch_sed(z_test, fg20_z_grid, fg20_J_nu_grid)\n",
    "\n",
    "    fg20_n_th_grid[i] = calc_n_H(fg20_wav_grid, fg20_J_nu_test, hm12_U_th)"
   ]
  },
  {
   "cell_type": "markdown",
   "id": "aa2f9ff1",
   "metadata": {},
   "source": [
    "Make the plot"
   ]
  },
  {
   "cell_type": "code",
   "execution_count": 33,
   "id": "2a6756d9",
   "metadata": {},
   "outputs": [
    {
     "data": {
      "text/plain": [
       "Text(0, 0.5, '$n_\\\\mathrm{H, th} (U_{\\\\mathrm{th}, Z \\\\lesssim 0.1 Z_\\\\odot})$')"
      ]
     },
     "execution_count": 33,
     "metadata": {},
     "output_type": "execute_result"
    },
    {
     "data": {
      "image/png": "[encoded data removed]",
      "text/plain": [
       "<Figure size 500x400 with 1 Axes>"
      ]
     },
     "metadata": {},
     "output_type": "display_data"
    }
   ],
   "source": [
    "fig, ax = plt.subplots(1, figsize=(5,4))\n",
    "\n",
    "ax.plot(hm05_z_grid, hm05_n_th_grid, label='HM05')\n",
    "ax.plot(hm12_z_grid, hm12_n_th_grid, label='HM12')\n",
    "ax.plot(fg20_z_grid, fg20_n_th_grid, label='FG20')\n",
    "\n",
    "ax.axvline(1, linestyle=':', color='gray')\n",
    "\n",
    "ax.set_xlim(0, 1.5)\n",
    "ax.set_ylim(10**-3.5, 10**-0.5)\n",
    "#ax.set_ylim(10**-5, 10**-3)\n",
    "\n",
    "ax.legend()\n",
    "\n",
    "ax.set_yscale('log')\n",
    "\n",
    "ax.set_xlabel(r'$z$')\n",
    "ax.set_ylabel(r'$n_\\mathrm{H, th} (U_{\\mathrm{th}, Z \\lesssim 0.1 Z_\\odot})$')"
   ]
  },
  {
   "cell_type": "markdown",
   "id": "7e91c80c",
   "metadata": {},
   "source": [
    "Convert density to $U$ for various UVBs"
   ]
  },
  {
   "cell_type": "code",
   "execution_count": 34,
   "id": "7ad60a25",
   "metadata": {},
   "outputs": [],
   "source": [
    "z_test = 1\n",
    "\n",
    "# Fetch SEDs\n",
    "hm05_J_nu_test = fetch_sed(z_test, hm05_z_grid, hm05_J_nu_grid)\n",
    "hm12_J_nu_test = fetch_sed(z_test, hm12_z_grid, hm12_J_nu_grid)\n",
    "ks19_J_nu_test = fetch_sed(z_test, ks19_z_grid, ks19_J_nu_grid)\n",
    "fg20_J_nu_test = fetch_sed(z_test, fg20_z_grid, fg20_J_nu_grid)"
   ]
  },
  {
   "cell_type": "code",
   "execution_count": 35,
   "id": "06133dae",
   "metadata": {},
   "outputs": [],
   "source": [
    "# Get ionization parameter for FG20, various densities\n",
    "fg20_U_hdens_2 = calc_U(fg20_wav_grid, fg20_J_nu_test, 1e-2)\n",
    "fg20_U_hdens_3 = calc_U(fg20_wav_grid, fg20_J_nu_test, 1e-3)\n",
    "fg20_U_hdens_4 = calc_U(fg20_wav_grid, fg20_J_nu_test, 1e-4)"
   ]
  },
  {
   "cell_type": "code",
   "execution_count": 36,
   "id": "5a21cc0d",
   "metadata": {},
   "outputs": [
    {
     "data": {
      "text/plain": [
       "(-3.065954808954892, -2.065954808954892, -1.0659548089548923)"
      ]
     },
     "execution_count": 36,
     "metadata": {},
     "output_type": "execute_result"
    }
   ],
   "source": [
    "np.log10(fg20_U_hdens_2), np.log10(fg20_U_hdens_3), np.log10(fg20_U_hdens_4)"
   ]
  },
  {
   "cell_type": "markdown",
   "id": "927845b2",
   "metadata": {},
   "source": [
    "Convert these $U$ values to densities for other radiation fields"
   ]
  },
  {
   "cell_type": "markdown",
   "id": "f8b1c294",
   "metadata": {},
   "source": [
    "KS19"
   ]
  },
  {
   "cell_type": "code",
   "execution_count": 37,
   "id": "e94e3ecc",
   "metadata": {},
   "outputs": [],
   "source": [
    "ks19_hdens_2 = calc_n_H(ks19_wav_grid, ks19_J_nu_test, fg20_U_hdens_2)\n",
    "ks19_hdens_3 = calc_n_H(ks19_wav_grid, ks19_J_nu_test, fg20_U_hdens_3)\n",
    "ks19_hdens_4 = calc_n_H(ks19_wav_grid, ks19_J_nu_test, fg20_U_hdens_4)"
   ]
  },
  {
   "cell_type": "code",
   "execution_count": 38,
   "id": "6af76ac3",
   "metadata": {},
   "outputs": [
    {
     "data": {
      "text/plain": [
       "(-1.957350820216396, -2.957350820216396, -3.957350820216396)"
      ]
     },
     "execution_count": 38,
     "metadata": {},
     "output_type": "execute_result"
    }
   ],
   "source": [
    "np.log10(ks19_hdens_2), np.log10(ks19_hdens_3), np.log10(ks19_hdens_4)"
   ]
  },
  {
   "cell_type": "markdown",
   "id": "46fecc2a",
   "metadata": {},
   "source": [
    "HM12"
   ]
  },
  {
   "cell_type": "code",
   "execution_count": 39,
   "id": "29f6df8b",
   "metadata": {},
   "outputs": [],
   "source": [
    "hm12_hdens_2 = calc_n_H(hm12_wav_grid, hm12_J_nu_test, fg20_U_hdens_2)\n",
    "hm12_hdens_3 = calc_n_H(hm12_wav_grid, hm12_J_nu_test, fg20_U_hdens_3)\n",
    "hm12_hdens_4 = calc_n_H(hm12_wav_grid, hm12_J_nu_test, fg20_U_hdens_4)"
   ]
  },
  {
   "cell_type": "code",
   "execution_count": 40,
   "id": "455e32bc",
   "metadata": {},
   "outputs": [
    {
     "data": {
      "text/plain": [
       "(-2.2383926746459624, -3.2383926746459624, -4.238392674645962)"
      ]
     },
     "execution_count": 40,
     "metadata": {},
     "output_type": "execute_result"
    }
   ],
   "source": [
    "np.log10(hm12_hdens_2), np.log10(hm12_hdens_3), np.log10(hm12_hdens_4)"
   ]
  },
  {
   "cell_type": "markdown",
   "id": "c3f97295",
   "metadata": {},
   "source": [
    "Visualize"
   ]
  },
  {
   "cell_type": "code",
   "execution_count": 45,
   "id": "11d6f6a8",
   "metadata": {},
   "outputs": [
    {
     "data": {
      "text/plain": [
       "Text(0, 0.5, '$\\\\log (n_\\\\mathrm{H}/\\\\mathrm{cm}^{-3})$')"
      ]
     },
     "execution_count": 45,
     "metadata": {},
     "output_type": "execute_result"
    },
    {
     "data": {
      "image/png": "[encoded data removed]",
      "text/plain": [
       "<Figure size 300x300 with 1 Axes>"
      ]
     },
     "metadata": {},
     "output_type": "display_data"
    }
   ],
   "source": [
    "fig, ax = plt.subplots(1, figsize=(3,3))\n",
    "\n",
    "ax.axhline(-2, linestyle=':')\n",
    "ax.axhline(-3, linestyle=':')\n",
    "ax.axhline(-4, linestyle=':')\n",
    "\n",
    "ax.axvline(-3.07, linestyle=':')\n",
    "ax.axvline(-2.07, linestyle=':')\n",
    "ax.axvline(-1.07, linestyle=':')\n",
    "\n",
    "\n",
    "ax.scatter([np.log10(fg20_U_hdens_2), np.log10(fg20_U_hdens_3), np.log10(fg20_U_hdens_4)],\n",
    "           [np.log10(ks19_hdens_2), np.log10(ks19_hdens_3), np.log10(ks19_hdens_4)], label='KS19',\n",
    "          color='forestgreen', marker='*')\n",
    "\n",
    "\n",
    "ax.scatter([np.log10(fg20_U_hdens_2), np.log10(fg20_U_hdens_3), np.log10(fg20_U_hdens_4)],\n",
    "           [-2, -3, -4], label='FG20', color='dodgerblue')\n",
    "\n",
    "ax.scatter([np.log10(fg20_U_hdens_2), np.log10(fg20_U_hdens_3), np.log10(fg20_U_hdens_4)],\n",
    "           [np.log10(hm12_hdens_2), np.log10(hm12_hdens_3), np.log10(hm12_hdens_4)], label='HM12', \n",
    "           color='orangered', marker='s')\n",
    "\n",
    "\n",
    "ax.legend()\n",
    "#ax.set_title(r'$z=1$')\n",
    "ax.set_xlabel(r'$\\log U$')\n",
    "ax.set_ylabel(r'$\\log (n_\\mathrm{H}/\\mathrm{cm}^{-3})$')"
   ]
  },
  {
   "cell_type": "code",
   "execution_count": null,
   "id": "d282a6ac",
   "metadata": {},
   "outputs": [],
   "source": []
  }
 ],
 "metadata": {
  "kernelspec": {
   "display_name": "Python 3 (ipykernel)",
   "language": "python",
   "name": "python3"
  },
  "language_info": {
   "codemirror_mode": {
    "name": "ipython",
    "version": 3
   },
   "file_extension": ".py",
   "mimetype": "text/x-python",
   "name": "python",
   "nbconvert_exporter": "python",
   "pygments_lexer": "ipython3",
   "version": "3.9.13"
  }
 },
 "nbformat": 4,
 "nbformat_minor": 5
}
