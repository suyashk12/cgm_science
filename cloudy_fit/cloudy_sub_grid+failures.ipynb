{
 "cells": [
  {
   "cell_type": "code",
   "execution_count": 1,
   "id": "d5e6ba59",
   "metadata": {},
   "outputs": [],
   "source": [
    "import numpy as np\n",
    "from astropy.table import Table\n",
    "import matplotlib.pyplot as plt\n",
    "import pandas as pd\n",
    "from cloudy_fit_lib import *\n",
    "from scipy.interpolate import RegularGridInterpolator\n",
    "import pickle"
   ]
  },
  {
   "cell_type": "code",
   "execution_count": 2,
   "id": "04ca7126",
   "metadata": {},
   "outputs": [],
   "source": [
    "plt.style.use('/Users/thepoetoftwilight/Documents/CUBS/Code/science.mplstyle')"
   ]
  },
  {
   "cell_type": "code",
   "execution_count": 3,
   "id": "def6ee5a",
   "metadata": {},
   "outputs": [],
   "source": [
    "rootdir = '/Users/thepoetoftwilight/Documents/CUBS/Data/PG1522+101/cloudy_grids/sub_grid/'"
   ]
  },
  {
   "cell_type": "markdown",
   "id": "c4d3e21c",
   "metadata": {},
   "source": [
    "Obtain the UVB grid from FG20"
   ]
  },
  {
   "cell_type": "code",
   "execution_count": 4,
   "id": "4bbe345f",
   "metadata": {},
   "outputs": [],
   "source": [
    "fg20_z_grid, fg20_wav_grid, fg20_J_nu_grid = read_uvb('', 'fg20_galaxy.ascii')"
   ]
  },
  {
   "cell_type": "markdown",
   "id": "7e4ee0d9",
   "metadata": {},
   "source": [
    "Fetch the SED at $z=1$"
   ]
  },
  {
   "cell_type": "code",
   "execution_count": 5,
   "id": "67656ac2",
   "metadata": {},
   "outputs": [],
   "source": [
    "z_test = 1"
   ]
  },
  {
   "cell_type": "code",
   "execution_count": 6,
   "id": "fc401ceb",
   "metadata": {},
   "outputs": [],
   "source": [
    "fg20_J_nu_test = fetch_sed(z_test, fg20_z_grid, fg20_J_nu_grid)"
   ]
  },
  {
   "cell_type": "markdown",
   "id": "59a33069",
   "metadata": {},
   "source": [
    "Specify $N_{\\mathrm{HI}}$ grid points and get corresponding filenames"
   ]
  },
  {
   "cell_type": "code",
   "execution_count": 7,
   "id": "be3c525d",
   "metadata": {},
   "outputs": [],
   "source": [
    "logN_HI_min = 12\n",
    "logN_HI_max = 17\n",
    "logN_HI_step = 0.25\n",
    "\n",
    "logN_HI_arr = np.arange(logN_HI_min, logN_HI_max+logN_HI_step, logN_HI_step)"
   ]
  },
  {
   "cell_type": "code",
   "execution_count": 8,
   "id": "d80fbd1c",
   "metadata": {},
   "outputs": [],
   "source": [
    "file_list = create_grid_file_list(logN_HI_arr)"
   ]
  },
  {
   "cell_type": "markdown",
   "id": "07c06c16",
   "metadata": {},
   "source": [
    "Specify grid points for densities and metallicities"
   ]
  },
  {
   "cell_type": "code",
   "execution_count": 9,
   "id": "ce0735b3",
   "metadata": {},
   "outputs": [],
   "source": [
    "log_hdens_min = -4.25\n",
    "log_hdens_max = 1\n",
    "log_hdens_step = 0.25\n",
    "\n",
    "log_hdens_arr = np.arange(log_hdens_min, log_hdens_max+log_hdens_step, log_hdens_step)"
   ]
  },
  {
   "cell_type": "code",
   "execution_count": 10,
   "id": "4541a0ff",
   "metadata": {},
   "outputs": [],
   "source": [
    "log_metals_min = -0.25\n",
    "log_metals_max = 1\n",
    "log_metals_step = 0.25\n",
    "\n",
    "log_metals_arr = np.arange(log_metals_min, log_metals_max+log_metals_step, log_metals_step)"
   ]
  },
  {
   "cell_type": "code",
   "execution_count": 11,
   "id": "dcb8f840",
   "metadata": {},
   "outputs": [
    {
     "data": {
      "text/plain": [
       "2772"
      ]
     },
     "execution_count": 11,
     "metadata": {},
     "output_type": "execute_result"
    }
   ],
   "source": [
    "# Total number of grid points\n",
    "len(logN_HI_arr)*len(log_hdens_arr)*len(log_metals_arr)"
   ]
  },
  {
   "cell_type": "markdown",
   "id": "d5ed97cc",
   "metadata": {},
   "source": [
    "Process the grid to identify \"failures\""
   ]
  },
  {
   "cell_type": "code",
   "execution_count": 12,
   "id": "659b445d",
   "metadata": {},
   "outputs": [],
   "source": [
    "log_T_pie_thresh = 4"
   ]
  },
  {
   "cell_type": "code",
   "execution_count": 13,
   "id": "ec61cbd7",
   "metadata": {},
   "outputs": [],
   "source": [
    "# Bifurcate failures based on stopping temperature\n",
    "low_temp_failures = []\n",
    "high_temp_failures = []"
   ]
  },
  {
   "cell_type": "code",
   "execution_count": 14,
   "id": "aff23e1f",
   "metadata": {
    "scrolled": false
   },
   "outputs": [
    {
     "name": "stderr",
     "output_type": "stream",
     "text": [
      "/Users/thepoetoftwilight/Documents/CUBS/Code/cloudy_fitting/cloudy_fit_lib.py:206: RuntimeWarning: divide by zero encountered in log10\n",
      "  log_col_dens = np.log10(np.array(col_lines_split[1::2], dtype=float))\n",
      "/Users/thepoetoftwilight/Documents/CUBS/Code/cloudy_fitting/cloudy_fit_lib.py:206: RuntimeWarning: divide by zero encountered in log10\n",
      "  log_col_dens = np.log10(np.array(col_lines_split[1::2], dtype=float))\n",
      "/Users/thepoetoftwilight/Documents/CUBS/Code/cloudy_fitting/cloudy_fit_lib.py:206: RuntimeWarning: divide by zero encountered in log10\n",
      "  log_col_dens = np.log10(np.array(col_lines_split[1::2], dtype=float))\n",
      "/Users/thepoetoftwilight/Documents/CUBS/Code/cloudy_fitting/cloudy_fit_lib.py:206: RuntimeWarning: divide by zero encountered in log10\n",
      "  log_col_dens = np.log10(np.array(col_lines_split[1::2], dtype=float))\n",
      "/Users/thepoetoftwilight/Documents/CUBS/Code/cloudy_fitting/cloudy_fit_lib.py:206: RuntimeWarning: divide by zero encountered in log10\n",
      "  log_col_dens = np.log10(np.array(col_lines_split[1::2], dtype=float))\n",
      "/Users/thepoetoftwilight/Documents/CUBS/Code/cloudy_fitting/cloudy_fit_lib.py:206: RuntimeWarning: divide by zero encountered in log10\n",
      "  log_col_dens = np.log10(np.array(col_lines_split[1::2], dtype=float))\n",
      "/Users/thepoetoftwilight/Documents/CUBS/Code/cloudy_fitting/cloudy_fit_lib.py:206: RuntimeWarning: divide by zero encountered in log10\n",
      "  log_col_dens = np.log10(np.array(col_lines_split[1::2], dtype=float))\n",
      "/Users/thepoetoftwilight/Documents/CUBS/Code/cloudy_fitting/cloudy_fit_lib.py:206: RuntimeWarning: divide by zero encountered in log10\n",
      "  log_col_dens = np.log10(np.array(col_lines_split[1::2], dtype=float))\n",
      "/Users/thepoetoftwilight/Documents/CUBS/Code/cloudy_fitting/cloudy_fit_lib.py:206: RuntimeWarning: divide by zero encountered in log10\n",
      "  log_col_dens = np.log10(np.array(col_lines_split[1::2], dtype=float))\n",
      "/Users/thepoetoftwilight/Documents/CUBS/Code/cloudy_fitting/cloudy_fit_lib.py:206: RuntimeWarning: divide by zero encountered in log10\n",
      "  log_col_dens = np.log10(np.array(col_lines_split[1::2], dtype=float))\n",
      "/Users/thepoetoftwilight/Documents/CUBS/Code/cloudy_fitting/cloudy_fit_lib.py:206: RuntimeWarning: divide by zero encountered in log10\n",
      "  log_col_dens = np.log10(np.array(col_lines_split[1::2], dtype=float))\n",
      "/Users/thepoetoftwilight/Documents/CUBS/Code/cloudy_fitting/cloudy_fit_lib.py:206: RuntimeWarning: divide by zero encountered in log10\n",
      "  log_col_dens = np.log10(np.array(col_lines_split[1::2], dtype=float))\n",
      "/Users/thepoetoftwilight/Documents/CUBS/Code/cloudy_fitting/cloudy_fit_lib.py:206: RuntimeWarning: divide by zero encountered in log10\n",
      "  log_col_dens = np.log10(np.array(col_lines_split[1::2], dtype=float))\n",
      "/Users/thepoetoftwilight/Documents/CUBS/Code/cloudy_fitting/cloudy_fit_lib.py:206: RuntimeWarning: divide by zero encountered in log10\n",
      "  log_col_dens = np.log10(np.array(col_lines_split[1::2], dtype=float))\n",
      "/Users/thepoetoftwilight/Documents/CUBS/Code/cloudy_fitting/cloudy_fit_lib.py:206: RuntimeWarning: divide by zero encountered in log10\n",
      "  log_col_dens = np.log10(np.array(col_lines_split[1::2], dtype=float))\n",
      "/Users/thepoetoftwilight/Documents/CUBS/Code/cloudy_fitting/cloudy_fit_lib.py:206: RuntimeWarning: divide by zero encountered in log10\n",
      "  log_col_dens = np.log10(np.array(col_lines_split[1::2], dtype=float))\n",
      "/Users/thepoetoftwilight/Documents/CUBS/Code/cloudy_fitting/cloudy_fit_lib.py:206: RuntimeWarning: divide by zero encountered in log10\n",
      "  log_col_dens = np.log10(np.array(col_lines_split[1::2], dtype=float))\n",
      "/Users/thepoetoftwilight/Documents/CUBS/Code/cloudy_fitting/cloudy_fit_lib.py:206: RuntimeWarning: divide by zero encountered in log10\n",
      "  log_col_dens = np.log10(np.array(col_lines_split[1::2], dtype=float))\n",
      "/Users/thepoetoftwilight/Documents/CUBS/Code/cloudy_fitting/cloudy_fit_lib.py:206: RuntimeWarning: divide by zero encountered in log10\n",
      "  log_col_dens = np.log10(np.array(col_lines_split[1::2], dtype=float))\n",
      "/Users/thepoetoftwilight/Documents/CUBS/Code/cloudy_fitting/cloudy_fit_lib.py:206: RuntimeWarning: divide by zero encountered in log10\n",
      "  log_col_dens = np.log10(np.array(col_lines_split[1::2], dtype=float))\n",
      "/Users/thepoetoftwilight/Documents/CUBS/Code/cloudy_fitting/cloudy_fit_lib.py:206: RuntimeWarning: divide by zero encountered in log10\n",
      "  log_col_dens = np.log10(np.array(col_lines_split[1::2], dtype=float))\n"
     ]
    }
   ],
   "source": [
    "for i in range(len(logN_HI_arr)):\n",
    "    \n",
    "    logN_HI = logN_HI_arr[i]\n",
    "    \n",
    "    # The filename corresponding to the current stopping HI column density\n",
    "    filename = file_list[i]\n",
    "    \n",
    "    # Get list of densities and metallicities for this stopping HI column density \n",
    "    log_hdens_grid, log_metals_grid = read_grd_file(rootdir, filename)\n",
    "    \n",
    "    # Get average (log) HI temperatures for all grid points\n",
    "    log_temps_grid = read_avr_file(rootdir, filename)\n",
    "    \n",
    "    # Get column densities for all species\n",
    "    species_names, log_col_dens_grid = read_col_file(rootdir, filename)\n",
    "    \n",
    "    for j in range(len(log_hdens_arr)):\n",
    "        \n",
    "        log_hdens = log_hdens_arr[j]\n",
    "        \n",
    "        for k in range(len(log_metals_arr)):\n",
    "            \n",
    "            log_metals = log_metals_arr[k]\n",
    "            \n",
    "            # Get grid index number for the current n_H and metallicity\n",
    "            idx = np.intersect1d(np.where(log_hdens_grid==log_hdens)[0], np.where(log_metals_grid==log_metals)[0])[0]\n",
    "            \n",
    "            # Isolate the average temperature and column density for all species\n",
    "            log_temp = log_temps_grid[idx]\n",
    "            log_col_dens = log_col_dens_grid[idx]\n",
    "            \n",
    "            # Check if this grid point is a failure\n",
    "            if np.round(log_col_dens[0],2) != logN_HI:\n",
    "                # Categorize based on temperature\n",
    "                if log_temp<log_T_pie_thresh:\n",
    "                    low_temp_failures.append([logN_HI, log_hdens, log_metals, log_temp, log_col_dens[0]])\n",
    "                else:\n",
    "                    high_temp_failures.append([logN_HI, log_hdens, log_metals, log_temp, log_col_dens[0]])"
   ]
  },
  {
   "cell_type": "code",
   "execution_count": 15,
   "id": "728e11b8",
   "metadata": {},
   "outputs": [],
   "source": [
    "low_temp_failures = np.array(low_temp_failures)\n",
    "high_temp_failures = np.array(high_temp_failures)"
   ]
  },
  {
   "cell_type": "code",
   "execution_count": 16,
   "id": "51070c80",
   "metadata": {},
   "outputs": [
    {
     "data": {
      "text/plain": [
       "0"
      ]
     },
     "execution_count": 16,
     "metadata": {},
     "output_type": "execute_result"
    }
   ],
   "source": [
    "len(low_temp_failures)"
   ]
  },
  {
   "cell_type": "code",
   "execution_count": 17,
   "id": "4545f403",
   "metadata": {},
   "outputs": [
    {
     "data": {
      "text/plain": [
       "0"
      ]
     },
     "execution_count": 17,
     "metadata": {},
     "output_type": "execute_result"
    }
   ],
   "source": [
    "len(high_temp_failures)"
   ]
  },
  {
   "cell_type": "markdown",
   "id": "d9aa73b4",
   "metadata": {},
   "source": [
    "Save the sub grid"
   ]
  },
  {
   "cell_type": "code",
   "execution_count": 18,
   "id": "46638371",
   "metadata": {},
   "outputs": [],
   "source": [
    "species_logN_samples = {}"
   ]
  },
  {
   "cell_type": "code",
   "execution_count": 23,
   "id": "b7f55196",
   "metadata": {},
   "outputs": [
    {
     "name": "stderr",
     "output_type": "stream",
     "text": [
      "/Users/thepoetoftwilight/Documents/CUBS/Code/cloudy_fitting/cloudy_fit_lib.py:206: RuntimeWarning: divide by zero encountered in log10\n",
      "  log_col_dens = np.log10(np.array(col_lines_split[1::2], dtype=float))\n",
      "/Users/thepoetoftwilight/Documents/CUBS/Code/cloudy_fitting/cloudy_fit_lib.py:206: RuntimeWarning: divide by zero encountered in log10\n",
      "  log_col_dens = np.log10(np.array(col_lines_split[1::2], dtype=float))\n",
      "/Users/thepoetoftwilight/Documents/CUBS/Code/cloudy_fitting/cloudy_fit_lib.py:206: RuntimeWarning: divide by zero encountered in log10\n",
      "  log_col_dens = np.log10(np.array(col_lines_split[1::2], dtype=float))\n",
      "/Users/thepoetoftwilight/Documents/CUBS/Code/cloudy_fitting/cloudy_fit_lib.py:206: RuntimeWarning: divide by zero encountered in log10\n",
      "  log_col_dens = np.log10(np.array(col_lines_split[1::2], dtype=float))\n",
      "/Users/thepoetoftwilight/Documents/CUBS/Code/cloudy_fitting/cloudy_fit_lib.py:206: RuntimeWarning: divide by zero encountered in log10\n",
      "  log_col_dens = np.log10(np.array(col_lines_split[1::2], dtype=float))\n",
      "/Users/thepoetoftwilight/Documents/CUBS/Code/cloudy_fitting/cloudy_fit_lib.py:206: RuntimeWarning: divide by zero encountered in log10\n",
      "  log_col_dens = np.log10(np.array(col_lines_split[1::2], dtype=float))\n",
      "/Users/thepoetoftwilight/Documents/CUBS/Code/cloudy_fitting/cloudy_fit_lib.py:206: RuntimeWarning: divide by zero encountered in log10\n",
      "  log_col_dens = np.log10(np.array(col_lines_split[1::2], dtype=float))\n",
      "/Users/thepoetoftwilight/Documents/CUBS/Code/cloudy_fitting/cloudy_fit_lib.py:206: RuntimeWarning: divide by zero encountered in log10\n",
      "  log_col_dens = np.log10(np.array(col_lines_split[1::2], dtype=float))\n",
      "/Users/thepoetoftwilight/Documents/CUBS/Code/cloudy_fitting/cloudy_fit_lib.py:206: RuntimeWarning: divide by zero encountered in log10\n",
      "  log_col_dens = np.log10(np.array(col_lines_split[1::2], dtype=float))\n",
      "/Users/thepoetoftwilight/Documents/CUBS/Code/cloudy_fitting/cloudy_fit_lib.py:206: RuntimeWarning: divide by zero encountered in log10\n",
      "  log_col_dens = np.log10(np.array(col_lines_split[1::2], dtype=float))\n",
      "/Users/thepoetoftwilight/Documents/CUBS/Code/cloudy_fitting/cloudy_fit_lib.py:206: RuntimeWarning: divide by zero encountered in log10\n",
      "  log_col_dens = np.log10(np.array(col_lines_split[1::2], dtype=float))\n",
      "/Users/thepoetoftwilight/Documents/CUBS/Code/cloudy_fitting/cloudy_fit_lib.py:206: RuntimeWarning: divide by zero encountered in log10\n",
      "  log_col_dens = np.log10(np.array(col_lines_split[1::2], dtype=float))\n",
      "/Users/thepoetoftwilight/Documents/CUBS/Code/cloudy_fitting/cloudy_fit_lib.py:206: RuntimeWarning: divide by zero encountered in log10\n",
      "  log_col_dens = np.log10(np.array(col_lines_split[1::2], dtype=float))\n",
      "/Users/thepoetoftwilight/Documents/CUBS/Code/cloudy_fitting/cloudy_fit_lib.py:206: RuntimeWarning: divide by zero encountered in log10\n",
      "  log_col_dens = np.log10(np.array(col_lines_split[1::2], dtype=float))\n",
      "/Users/thepoetoftwilight/Documents/CUBS/Code/cloudy_fitting/cloudy_fit_lib.py:206: RuntimeWarning: divide by zero encountered in log10\n",
      "  log_col_dens = np.log10(np.array(col_lines_split[1::2], dtype=float))\n",
      "/Users/thepoetoftwilight/Documents/CUBS/Code/cloudy_fitting/cloudy_fit_lib.py:206: RuntimeWarning: divide by zero encountered in log10\n",
      "  log_col_dens = np.log10(np.array(col_lines_split[1::2], dtype=float))\n",
      "/Users/thepoetoftwilight/Documents/CUBS/Code/cloudy_fitting/cloudy_fit_lib.py:206: RuntimeWarning: divide by zero encountered in log10\n",
      "  log_col_dens = np.log10(np.array(col_lines_split[1::2], dtype=float))\n",
      "/Users/thepoetoftwilight/Documents/CUBS/Code/cloudy_fitting/cloudy_fit_lib.py:206: RuntimeWarning: divide by zero encountered in log10\n",
      "  log_col_dens = np.log10(np.array(col_lines_split[1::2], dtype=float))\n",
      "/Users/thepoetoftwilight/Documents/CUBS/Code/cloudy_fitting/cloudy_fit_lib.py:206: RuntimeWarning: divide by zero encountered in log10\n",
      "  log_col_dens = np.log10(np.array(col_lines_split[1::2], dtype=float))\n",
      "/Users/thepoetoftwilight/Documents/CUBS/Code/cloudy_fitting/cloudy_fit_lib.py:206: RuntimeWarning: divide by zero encountered in log10\n",
      "  log_col_dens = np.log10(np.array(col_lines_split[1::2], dtype=float))\n",
      "/Users/thepoetoftwilight/Documents/CUBS/Code/cloudy_fitting/cloudy_fit_lib.py:206: RuntimeWarning: divide by zero encountered in log10\n",
      "  log_col_dens = np.log10(np.array(col_lines_split[1::2], dtype=float))\n"
     ]
    }
   ],
   "source": [
    "for i in range(len(logN_HI_arr)):\n",
    "    \n",
    "    logN_HI = logN_HI_arr[i]\n",
    "    \n",
    "    # The filename corresponding to the current stopping HI column density\n",
    "    filename = file_list[i]\n",
    "    \n",
    "    # Get list of densities and metallicities for this stopping HI column density \n",
    "    log_hdens_grid, log_metals_grid = read_grd_file(rootdir, filename)\n",
    "    \n",
    "    # Get average (log) HI temperatures for all grid points\n",
    "    log_temps_grid = read_avr_file(rootdir, filename)\n",
    "    \n",
    "    # Get column densities for all species\n",
    "    species_names, log_col_dens_grid = read_col_file(rootdir, filename)\n",
    "    \n",
    "    for j in range(len(log_hdens_arr)):\n",
    "        \n",
    "        log_hdens = log_hdens_arr[j]\n",
    "        \n",
    "        for k in range(len(log_metals_arr)):\n",
    "            \n",
    "            log_metals = log_metals_arr[k]\n",
    "            \n",
    "            # Get grid index number for the current n_H and metallicity\n",
    "            idx = np.intersect1d(np.where(log_hdens_grid==log_hdens)[0], np.where(log_metals_grid==log_metals)[0])[0]\n",
    "            \n",
    "            # Isolate the average temperature and column density for all species\n",
    "            log_temp = log_temps_grid[idx]\n",
    "            log_col_dens = log_col_dens_grid[idx]\n",
    "            \n",
    "            # For each species\n",
    "            for l in range(len(species_names)):\n",
    "                \n",
    "                s = species_names[l]\n",
    "                \n",
    "                if s not in species_logN_samples.keys():\n",
    "                    \n",
    "                    species_logN_samples[s] = -99.*np.ones((len(logN_HI_arr), \n",
    "                                                            len(log_hdens_arr),\n",
    "                                                            len(log_metals_arr)))\n",
    "                \n",
    "                # Check for photoionized gas and converged logN(HI)\n",
    "                if np.round(log_col_dens[0],2) == logN_HI:\n",
    "                    species_logN_samples[s][i,j,k] = log_col_dens[l]"
   ]
  },
  {
   "cell_type": "code",
   "execution_count": 26,
   "id": "efe7bce2",
   "metadata": {},
   "outputs": [
    {
     "data": {
      "text/plain": [
       "(array([12]),)"
      ]
     },
     "execution_count": 26,
     "metadata": {},
     "output_type": "execute_result"
    }
   ],
   "source": [
    "np.where(logN_HI_arr==15)"
   ]
  },
  {
   "cell_type": "code",
   "execution_count": 27,
   "id": "46b2552f",
   "metadata": {},
   "outputs": [
    {
     "data": {
      "text/plain": [
       "(array([5]),)"
      ]
     },
     "execution_count": 27,
     "metadata": {},
     "output_type": "execute_result"
    }
   ],
   "source": [
    "np.where(log_metals_arr==1)"
   ]
  },
  {
   "cell_type": "code",
   "execution_count": 32,
   "id": "c2c3b1eb",
   "metadata": {},
   "outputs": [
    {
     "data": {
      "text/plain": [
       "array([-4.25, -4.  , -3.75, -3.5 , -3.25, -3.  , -2.75, -2.5 , -2.25,\n",
       "       -2.  , -1.75, -1.5 , -1.25, -1.  , -0.75, -0.5 , -0.25,  0.  ,\n",
       "        0.25,  0.5 ,  0.75,  1.  ])"
      ]
     },
     "execution_count": 32,
     "metadata": {},
     "output_type": "execute_result"
    }
   ],
   "source": [
    "log_hdens_arr"
   ]
  },
  {
   "cell_type": "code",
   "execution_count": 31,
   "id": "c5423e5d",
   "metadata": {},
   "outputs": [
    {
     "data": {
      "text/plain": [
       "array([16.0102024 , 15.95285054, 15.82239563, 15.60548498, 15.30007132,\n",
       "       14.91829723, 14.47606899, 13.98245306, 13.43898986, 12.84109969,\n",
       "       12.17954892, 11.44776097, 10.65739244,  9.83690743,  9.01828431,\n",
       "        8.23155878,  7.50073033,  6.83970174,  6.25104416,        -inf,\n",
       "        3.56053548,  3.13534259])"
      ]
     },
     "execution_count": 31,
     "metadata": {},
     "output_type": "execute_result"
    }
   ],
   "source": [
    "species_logN_samples['C+3'][12,:,5]"
   ]
  },
  {
   "cell_type": "code",
   "execution_count": 21,
   "id": "0743317c",
   "metadata": {},
   "outputs": [],
   "source": [
    "# Save the main grid\n",
    "output = open(rootdir+'sub_grid.pkl', 'wb')\n",
    "pickle.dump(species_logN_samples, output)\n",
    "output.close()"
   ]
  },
  {
   "cell_type": "code",
   "execution_count": null,
   "id": "c1fd37c2",
   "metadata": {},
   "outputs": [],
   "source": []
  }
 ],
 "metadata": {
  "kernelspec": {
   "display_name": "Python 3 (ipykernel)",
   "language": "python",
   "name": "python3"
  },
  "language_info": {
   "codemirror_mode": {
    "name": "ipython",
    "version": 3
   },
   "file_extension": ".py",
   "mimetype": "text/x-python",
   "name": "python",
   "nbconvert_exporter": "python",
   "pygments_lexer": "ipython3",
   "version": "3.9.13"
  }
 },
 "nbformat": 4,
 "nbformat_minor": 5
}
