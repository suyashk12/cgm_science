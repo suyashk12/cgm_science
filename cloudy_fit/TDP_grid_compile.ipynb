{
 "cells": [
  {
   "cell_type": "code",
   "execution_count": 1,
   "id": "eddbf4bb",
   "metadata": {},
   "outputs": [],
   "source": [
    "import numpy as np\n",
    "from astropy.table import Table\n",
    "import matplotlib.pyplot as plt\n",
    "import pandas as pd\n",
    "from cloudy_fit_lib import *\n",
    "from scipy.interpolate import RegularGridInterpolator\n",
    "import pickle\n",
    "import corner\n",
    "from scipy import integrate, interpolate\n",
    "import emcee"
   ]
  },
  {
   "cell_type": "code",
   "execution_count": 2,
   "id": "6bee562b",
   "metadata": {},
   "outputs": [],
   "source": [
    "plt.style.use('/Users/thepoetoftwilight/Documents/CUBS/Code/science.mplstyle')"
   ]
  },
  {
   "cell_type": "code",
   "execution_count": 3,
   "id": "6163f826",
   "metadata": {},
   "outputs": [],
   "source": [
    "rootdir = '/Users/thepoetoftwilight/Documents/CUBS/Data/PG1522+101/cloudy_grids/'"
   ]
  },
  {
   "cell_type": "markdown",
   "id": "54150dc1",
   "metadata": {},
   "source": [
    "Species names"
   ]
  },
  {
   "cell_type": "code",
   "execution_count": 4,
   "id": "73ad4c5e",
   "metadata": {},
   "outputs": [],
   "source": [
    "ext_dict = {'H': 'hyd', 'He': 'hel', 'C': 'carb', 'N': 'nit', \n",
    "            'O': 'oxy', 'Si': 'sil', 'Mg': 'mag', 'Ne': 'neo', 'S': 'sul'}"
   ]
  },
  {
   "cell_type": "code",
   "execution_count": 5,
   "id": "7c3d4979",
   "metadata": {},
   "outputs": [],
   "source": [
    "ion_list = ['HI', 'HeI', 'CII', 'CIII', 'CIV', 'NII', 'NIII', 'NIV', 'NV',\n",
    "            'OII', 'OIII', 'OIV', 'OV', 'OVI', 'SiII', 'SiIII', 'SiIV',\n",
    "            'MgII', 'MgX', 'NeV', 'NeVI', 'NeVIII', 'SIV', 'SV', 'SVI']"
   ]
  },
  {
   "cell_type": "markdown",
   "id": "4ae5880a",
   "metadata": {},
   "source": [
    "Set up interpolation"
   ]
  },
  {
   "cell_type": "code",
   "execution_count": 6,
   "id": "3af3ae9e",
   "metadata": {},
   "outputs": [],
   "source": [
    "def get_TDP_frac(k, ion_list):\n",
    "    \n",
    "    proc, uvb, z, log_metals, log_hdens, T0 = k\n",
    "    \n",
    "    T0_str = ('%.0e'%T0).replace('+','').replace('0','')\n",
    "        \n",
    "    # Load directory\n",
    "    loaddir = rootdir+'non_eqm_models/PI/TDP_{}/{}/z={}/log_metals={}/log_hdens={}/T0={}K/'.format(str(proc),\n",
    "                                                                                                   str(uvb), \n",
    "                                                                                                   str(z),\n",
    "                                                                                                   str(log_metals), \n",
    "                                                                                                   str(log_hdens), \n",
    "                                                                                                   T0_str)\n",
    "    # Temperature\n",
    "    f = open(loaddir+'cd-cool-1keV.tim', 'r')\n",
    "    L = f.readlines()\n",
    "    f.close()\n",
    "\n",
    "    T_grid_TDP = np.array([L[i].split('\\t')[4] for i in range(1, len(L))], dtype=float)\n",
    "\n",
    "    X_dict_TDP = {}\n",
    "\n",
    "    for ion in ion_list:\n",
    "        \n",
    "        X_dict_TDP[ion] = np.zeros(len(T_grid_TDP))\n",
    "        \n",
    "        # Neutral species\n",
    "        if ion == 'HI' or ion == 'HeI':\n",
    "            elem = ion[:-1]\n",
    "            f = open(loaddir+'cd-cool-1keV.{}'.format(ext_dict[elem]), 'r')\n",
    "            L = f.readlines()\n",
    "            f.close()  \n",
    "            \n",
    "            for i in range(len(T_grid_TDP)):\n",
    "                X_dict_TDP[ion][i] = float(L[i+1].split('\\t')[1])\n",
    "\n",
    "        \n",
    "        # Ionized metals\n",
    "        else:\n",
    "            elem = ion_species_dict[ion].split('+')[0]\n",
    "            f = open(loaddir+'cd-cool-1keV.{}'.format(ext_dict[elem]), 'r')\n",
    "            L = f.readlines()\n",
    "            f.close()  \n",
    " \n",
    "            # Column number (minus one) in CLOUDY output\n",
    "            idx_str = ion_species_dict[ion].split('+')[1]\n",
    "        \n",
    "            if idx_str == '': # Singly ionized\n",
    "                idx = 1\n",
    "            else:\n",
    "                idx = int(idx_str)\n",
    "                    \n",
    "            for i in range(len(T_grid_TDP)): \n",
    "                X_dict_TDP[ion][i] = float(L[i+1].split('\\t')[idx+1])\n",
    "    \n",
    "    # Cooling, in erg/cm^3/s\n",
    "    f = open(loaddir+'cd-cool-1keV.cool', 'r')\n",
    "    L = f.readlines()\n",
    "    f.close()\n",
    "\n",
    "    cool_grid_TDP = np.array([L[i].split('\\t')[3] for i in range(1, len(L))], dtype=float)\n",
    "\n",
    "    return T_grid_TDP, X_dict_TDP, cool_grid_TDP"
   ]
  },
  {
   "cell_type": "markdown",
   "id": "6a9fc692",
   "metadata": {},
   "source": [
    "Specify density/metallicity grid"
   ]
  },
  {
   "cell_type": "code",
   "execution_count": 7,
   "id": "64051e44",
   "metadata": {},
   "outputs": [],
   "source": [
    "log_metals_arr = [-2.6,-2.4,-2.2,-2.0,-1.8,-1.6,-1.4,-1.2,-1.0 ,-0.8,-0.6,-0.4,-0.2,0.0,0.2,0.4,0.6,0.8,1.0]\n",
    "log_hdens_arr = [-5.0,-4.8,-4.6,-4.4,-4.0,-3.8,-3.6,-3.4,-3.2,-3.0,-2.8,-2.6,-2.4,-2.2,-2.0,-1.8,-1.6]\n",
    "logT_arr = np.arange(4.00, 6.01, 0.01)"
   ]
  },
  {
   "cell_type": "markdown",
   "id": "779c5ec4",
   "metadata": {},
   "source": [
    "Load in each grid"
   ]
  },
  {
   "cell_type": "code",
   "execution_count": 8,
   "id": "50f65e61",
   "metadata": {},
   "outputs": [],
   "source": [
    "# Ion fractions\n",
    "logX_dict_TDP_samples = {}\n",
    "\n",
    "for ion in ion_list:\n",
    "    # Set up grid for interpolation\n",
    "    logX_dict_TDP_samples[ion] = np.zeros((len(log_metals_arr), len(log_hdens_arr), len(logT_arr)))\n",
    "    \n",
    "# Cooling losses\n",
    "log_cool_TDP_samples = np.zeros((len(log_metals_arr), len(log_hdens_arr), len(logT_arr)))"
   ]
  },
  {
   "cell_type": "code",
   "execution_count": 9,
   "id": "88538294",
   "metadata": {},
   "outputs": [],
   "source": [
    "for i in range(len(log_metals_arr)):\n",
    "    for j in range(len(log_hdens_arr)):\n",
    "        # Key for model access\n",
    "        log_metals = log_metals_arr[i]\n",
    "        log_hdens = log_hdens_arr[j]\n",
    "        k = ('isochoric','fg20',1,log_metals,log_hdens,3e6)\n",
    "        T_grid_TDP, X_dict_TDP, cool_grid_TDP = get_TDP_frac(k, ion_list)\n",
    "        for ion in ion_list:\n",
    "            # Interpolate\n",
    "            logX_dict_TDP_samples[ion][i,j,:] = interpolate.interp1d(np.log10(T_grid_TDP),\n",
    "                                                                      np.log10(X_dict_TDP[ion]),\n",
    "                                                                      bounds_error=False,\n",
    "                                                                      fill_value=-99)(logT_arr)\n",
    "            \n",
    "        log_cool_TDP_samples[i,j,:] =  interpolate.interp1d(np.log10(T_grid_TDP),\n",
    "                                                                      np.log10(cool_grid_TDP),\n",
    "                                                                      bounds_error=False,\n",
    "                                                                      fill_value=-99)(logT_arr)"
   ]
  },
  {
   "cell_type": "markdown",
   "id": "543484c8",
   "metadata": {},
   "source": [
    "Save the samples"
   ]
  },
  {
   "cell_type": "code",
   "execution_count": 10,
   "id": "87baf403",
   "metadata": {},
   "outputs": [],
   "source": [
    "output = open(rootdir+'TDP_grid.pkl', 'wb')\n",
    "pickle.dump(logX_dict_TDP_samples, output)\n",
    "output.close()"
   ]
  },
  {
   "cell_type": "code",
   "execution_count": 11,
   "id": "9816efa6",
   "metadata": {},
   "outputs": [],
   "source": [
    "output = open(rootdir+'TDP_cool.pkl', 'wb')\n",
    "pickle.dump(log_cool_TDP_samples, output)\n",
    "output.close()"
   ]
  },
  {
   "cell_type": "code",
   "execution_count": null,
   "id": "77f6aa4c",
   "metadata": {},
   "outputs": [],
   "source": []
  }
 ],
 "metadata": {
  "kernelspec": {
   "display_name": "Python 3 (ipykernel)",
   "language": "python",
   "name": "python3"
  },
  "language_info": {
   "codemirror_mode": {
    "name": "ipython",
    "version": 3
   },
   "file_extension": ".py",
   "mimetype": "text/x-python",
   "name": "python",
   "nbconvert_exporter": "python",
   "pygments_lexer": "ipython3",
   "version": "3.9.13"
  }
 },
 "nbformat": 4,
 "nbformat_minor": 5
}
