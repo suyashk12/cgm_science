{
 "cells": [
  {
   "cell_type": "code",
   "execution_count": 1,
   "id": "8f88b59a",
   "metadata": {},
   "outputs": [],
   "source": [
    "import numpy as np\n",
    "from astropy.table import Table\n",
    "import matplotlib.pyplot as plt\n",
    "import pandas as pd\n",
    "from cloudy_fit_lib import *\n",
    "from scipy.interpolate import RegularGridInterpolator\n",
    "import pickle\n",
    "import corner\n",
    "from scipy import integrate, interpolate\n",
    "import emcee\n",
    "from astropy import units,constants"
   ]
  },
  {
   "cell_type": "code",
   "execution_count": 2,
   "id": "04ca7126",
   "metadata": {},
   "outputs": [],
   "source": [
    "plt.style.use('/Users/thepoetoftwilight/Documents/CUBS/Code/science.mplstyle')"
   ]
  },
  {
   "cell_type": "code",
   "execution_count": 3,
   "id": "def6ee5a",
   "metadata": {},
   "outputs": [],
   "source": [
    "rootdir = '/Users/thepoetoftwilight/Documents/CUBS/Data/PG1522+101/cloudy_grids/'"
   ]
  },
  {
   "cell_type": "code",
   "execution_count": 4,
   "id": "3b6b6993",
   "metadata": {},
   "outputs": [],
   "source": [
    "savedir = '/Users/thepoetoftwilight/Documents/CUBS/Data/PG1522+101/Ions/z=0.67545705/cloudy_fits/'"
   ]
  },
  {
   "cell_type": "markdown",
   "id": "484a2847",
   "metadata": {},
   "source": [
    "Obtain the UVB grid from FG20"
   ]
  },
  {
   "cell_type": "code",
   "execution_count": 5,
   "id": "6c609d17",
   "metadata": {},
   "outputs": [],
   "source": [
    "fg20_z_grid, fg20_wav_grid, fg20_J_nu_grid = read_uvb('', 'fg20_galaxy.ascii')"
   ]
  },
  {
   "cell_type": "markdown",
   "id": "f689959f",
   "metadata": {},
   "source": [
    "Fetch the SED at $z=1$"
   ]
  },
  {
   "cell_type": "code",
   "execution_count": 6,
   "id": "67656ac2",
   "metadata": {},
   "outputs": [],
   "source": [
    "z_test = 1"
   ]
  },
  {
   "cell_type": "code",
   "execution_count": 7,
   "id": "fc401ceb",
   "metadata": {},
   "outputs": [],
   "source": [
    "fg20_J_nu_test = fetch_sed(z_test, fg20_z_grid, fg20_J_nu_grid)"
   ]
  },
  {
   "cell_type": "markdown",
   "id": "c3a3f997",
   "metadata": {},
   "source": [
    "Specify $N_{\\mathrm{HI}}$ grid points and get corresponding filenames"
   ]
  },
  {
   "cell_type": "code",
   "execution_count": 8,
   "id": "b53beb83",
   "metadata": {},
   "outputs": [],
   "source": [
    "logN_HI_min = 12\n",
    "logN_HI_max = 17\n",
    "logN_HI_step = 0.25\n",
    "\n",
    "logN_HI_arr = np.arange(logN_HI_min, logN_HI_max+logN_HI_step, logN_HI_step)"
   ]
  },
  {
   "cell_type": "code",
   "execution_count": 9,
   "id": "ecd70d08",
   "metadata": {},
   "outputs": [],
   "source": [
    "file_list = create_grid_file_list(logN_HI_arr)"
   ]
  },
  {
   "cell_type": "markdown",
   "id": "e36872ed",
   "metadata": {},
   "source": [
    "Specify grid points for densities and metallicities"
   ]
  },
  {
   "cell_type": "code",
   "execution_count": 10,
   "id": "3f0ae6c9",
   "metadata": {},
   "outputs": [],
   "source": [
    "log_hdens_min = -5\n",
    "log_hdens_max = 1\n",
    "log_hdens_step = 0.25\n",
    "\n",
    "log_hdens_arr = np.arange(log_hdens_min, log_hdens_max+log_hdens_step, log_hdens_step)\n",
    "logU_arr = np.log10(calc_U(fg20_wav_grid, fg20_J_nu_test, 10**log_hdens_arr))"
   ]
  },
  {
   "cell_type": "code",
   "execution_count": 11,
   "id": "52b5b0bc",
   "metadata": {},
   "outputs": [],
   "source": [
    "log_metals_min = -3\n",
    "log_metals_max = 1\n",
    "log_metals_step = 0.25\n",
    "\n",
    "log_metals_arr = np.arange(log_metals_min, log_metals_max+log_metals_step, log_metals_step)"
   ]
  },
  {
   "cell_type": "markdown",
   "id": "d9f07fa2",
   "metadata": {},
   "source": [
    "Load the final grid"
   ]
  },
  {
   "cell_type": "code",
   "execution_count": 12,
   "id": "4821bb0f",
   "metadata": {},
   "outputs": [],
   "source": [
    "pkl_file = open(rootdir+'final_grid.pkl', 'rb')\n",
    "species_logN_samples = pickle.load(pkl_file)\n",
    "pkl_file.close()"
   ]
  },
  {
   "cell_type": "markdown",
   "id": "bf96db22",
   "metadata": {},
   "source": [
    "Interpolate this grid"
   ]
  },
  {
   "cell_type": "code",
   "execution_count": 13,
   "id": "d7cf787e",
   "metadata": {},
   "outputs": [],
   "source": [
    "species_logN_interp = {}\n",
    "\n",
    "for s in list(species_logN_samples.keys()):\n",
    "    \n",
    "    species_logN_samples[s][species_logN_samples[s]==-np.inf] = -99\n",
    "    \n",
    "    species_logN_interp[s] = RegularGridInterpolator((logN_HI_arr, log_hdens_arr, log_metals_arr), \n",
    "                                                     species_logN_samples[s])"
   ]
  },
  {
   "cell_type": "markdown",
   "id": "811c0dc3-27e9-480f-979a-24a8b3f77405",
   "metadata": {},
   "source": [
    "# Calculations"
   ]
  },
  {
   "cell_type": "markdown",
   "id": "6982717b-01f6-42a3-a2b5-399938f82345",
   "metadata": {},
   "source": [
    "## Jeans length ($n_\\mathrm{H} = 10^{-3} \\ \\mathrm{cm}^{-3}$)"
   ]
  },
  {
   "cell_type": "markdown",
   "id": "41ba6b92",
   "metadata": {},
   "source": [
    "Jeans length as a function of density"
   ]
  },
  {
   "cell_type": "code",
   "execution_count": 14,
   "id": "18bee959",
   "metadata": {},
   "outputs": [],
   "source": [
    "k_B = 1.38 * 1e-16 # erg/K\n",
    "G = 6.67 * 1e-8 # erg cm g^-2\n",
    "gamma = 5/3 # Monatomic gas\n",
    "mu = 0.607 # Mean molecular weight for ionized plasma? Taken from Draine\n",
    "T_fid = 1e4 # K\n",
    "n_H_fid = 10**-3 # cm^-3\n",
    "m_H = 1.67 * 1e-24 # in g"
   ]
  },
  {
   "cell_type": "markdown",
   "id": "2a69fafc",
   "metadata": {},
   "source": [
    "Sound speed calculation"
   ]
  },
  {
   "cell_type": "code",
   "execution_count": 15,
   "id": "9e8b626a",
   "metadata": {},
   "outputs": [],
   "source": [
    "c_s = np.sqrt(gamma*constants.k_B*T_fid*units.K/(mu*constants.m_p)).to(units.km/units.s)"
   ]
  },
  {
   "cell_type": "code",
   "execution_count": 16,
   "id": "ff006fd9",
   "metadata": {},
   "outputs": [
    {
     "data": {
      "text/latex": [
       "$21.290594 \\; \\mathrm{\\frac{km}{s}}$"
      ],
      "text/plain": [
       "<Quantity 21.29059389 km / s>"
      ]
     },
     "execution_count": 16,
     "metadata": {},
     "output_type": "execute_result"
    }
   ],
   "source": [
    "c_s*np.sqrt(2)"
   ]
  },
  {
   "cell_type": "code",
   "execution_count": 17,
   "id": "1b866307",
   "metadata": {},
   "outputs": [
    {
     "data": {
      "text/plain": [
       "21.302292062382623"
      ]
     },
     "execution_count": 17,
     "metadata": {},
     "output_type": "execute_result"
    }
   ],
   "source": [
    "np.sqrt(gamma*k_B*2*T_fid/(0.607*m_H))/1e5 # Sound speed"
   ]
  },
  {
   "cell_type": "markdown",
   "id": "d924af27-f1ee-44aa-ab63-c1491e0d0f09",
   "metadata": {},
   "source": [
    "Dynamical time calculation"
   ]
  },
  {
   "cell_type": "code",
   "execution_count": 18,
   "id": "0d7695f7-e052-407a-96eb-d194200ea4f7",
   "metadata": {},
   "outputs": [
    {
     "data": {
      "text/latex": [
       "$2.9929416 \\times 10^{15} \\; \\mathrm{s}$"
      ],
      "text/plain": [
       "<Quantity 2.99294162e+15 s>"
      ]
     },
     "execution_count": 18,
     "metadata": {},
     "output_type": "execute_result"
    }
   ],
   "source": [
    "(1/np.sqrt(constants.G*constants.m_p*1*units.cm**-3)).to(units.s)"
   ]
  },
  {
   "cell_type": "markdown",
   "id": "fe38d9df",
   "metadata": {},
   "source": [
    "Cloud size calculation"
   ]
  },
  {
   "cell_type": "code",
   "execution_count": 19,
   "id": "5758e991",
   "metadata": {},
   "outputs": [],
   "source": [
    "l = (c_s*np.sqrt(np.pi/(constants.G*mu*constants.m_p*n_H_fid*units.cm**-3))).to(units.kpc)"
   ]
  },
  {
   "cell_type": "code",
   "execution_count": 20,
   "id": "111c330c",
   "metadata": {},
   "outputs": [
    {
     "data": {
      "text/latex": [
       "$105.05121 \\; \\mathrm{kpc}$"
      ],
      "text/plain": [
       "<Quantity 105.05121251 kpc>"
      ]
     },
     "execution_count": 20,
     "metadata": {},
     "output_type": "execute_result"
    }
   ],
   "source": [
    "l"
   ]
  },
  {
   "cell_type": "code",
   "execution_count": 25,
   "id": "8461b175",
   "metadata": {},
   "outputs": [],
   "source": [
    "l_jeans = np.sqrt((np.pi*gamma*k_B*T_fid)/(G*(mu*m_H)**2))*(n_H_fid**-0.5)*3.24078e-22"
   ]
  },
  {
   "cell_type": "code",
   "execution_count": 26,
   "id": "2ae3de97-553b-4af5-a791-c38c90cb0563",
   "metadata": {},
   "outputs": [
    {
     "data": {
      "text/plain": [
       "105.22533696555298"
      ]
     },
     "execution_count": 26,
     "metadata": {},
     "output_type": "execute_result"
    }
   ],
   "source": [
    "l_jeans"
   ]
  },
  {
   "cell_type": "code",
   "execution_count": 27,
   "id": "ca17fd66",
   "metadata": {},
   "outputs": [
    {
     "data": {
      "text/plain": [
       "42.0901347862212"
      ]
     },
     "execution_count": 27,
     "metadata": {},
     "output_type": "execute_result"
    }
   ],
   "source": [
    "# Correct for dark matter\n",
    "l_jeans*np.sqrt(0.16)"
   ]
  },
  {
   "cell_type": "markdown",
   "id": "19f5efc2-5bd5-4626-a6e4-746c8b3a3e2e",
   "metadata": {},
   "source": [
    "## Sonic length ($n_\\mathrm{H} = 10^{-3} \\ \\mathrm{cm}^{-3}$)"
   ]
  },
  {
   "cell_type": "code",
   "execution_count": 28,
   "id": "4853eb11-ba9d-4b53-8b51-7c5744c70351",
   "metadata": {},
   "outputs": [],
   "source": [
    "N_H_sonic = 1e17"
   ]
  },
  {
   "cell_type": "code",
   "execution_count": 30,
   "id": "793e5387-ca3d-4dac-9943-1c25e5e6dcc6",
   "metadata": {},
   "outputs": [],
   "source": [
    "l_sonic = (N_H_sonic/n_H_fid)*3.24078e-22"
   ]
  },
  {
   "cell_type": "code",
   "execution_count": 31,
   "id": "16b2441a-a5fa-4051-8abe-778f3bd128d0",
   "metadata": {},
   "outputs": [
    {
     "data": {
      "text/plain": [
       "0.0324078"
      ]
     },
     "execution_count": 31,
     "metadata": {},
     "output_type": "execute_result"
    }
   ],
   "source": [
    "l_sonic"
   ]
  },
  {
   "cell_type": "markdown",
   "id": "24c9f71c-0a0b-4f7f-b16a-f209bfd4071c",
   "metadata": {},
   "source": [
    "# Plots for different densities"
   ]
  },
  {
   "cell_type": "code",
   "execution_count": 32,
   "id": "a8cf56af-553c-40f0-ae2a-e04dabd3e405",
   "metadata": {},
   "outputs": [],
   "source": [
    "log_hdens_arr = np.arange(-5, -1, 0.1)\n",
    "\n",
    "log_lJ_arr = np.log10(40*(10**log_hdens_arr/1e-3)**-0.5)\n",
    "log_lS_arr = np.log10(0.03*(10**log_hdens_arr/1e-3)**-1)"
   ]
  },
  {
   "cell_type": "code",
   "execution_count": 38,
   "id": "4b224607-103a-4c2c-8a39-8f146e6c1ff5",
   "metadata": {},
   "outputs": [
    {
     "data": {
      "text/plain": [
       "<matplotlib.legend.Legend at 0x7f9e54ad18b0>"
      ]
     },
     "execution_count": 38,
     "metadata": {},
     "output_type": "execute_result"
    },
    {
     "data": {
      "image/png": "[encoded data removed]",
      "text/plain": [
       "<Figure size 300x300 with 1 Axes>"
      ]
     },
     "metadata": {},
     "output_type": "display_data"
    }
   ],
   "source": [
    "fig, ax = plt.subplots(1, figsize=(3,3))\n",
    "\n",
    "ax.plot(log_hdens_arr, log_lJ_arr, color='black', label='Jeans')\n",
    "ax.plot(log_hdens_arr, log_lS_arr, color='black', linestyle='--', label='Sonic')\n",
    "\n",
    "ax.set_xlabel(r'$\\log(n_\\mathrm{H}/\\mathrm{cm}^{-3})$')\n",
    "ax.set_ylabel(r'$\\log(l/\\mathrm{kpc})$')\n",
    "\n",
    "ax.legend()"
   ]
  },
  {
   "cell_type": "code",
   "execution_count": null,
   "id": "858c0e1f-c2e0-43fb-ba98-e591875ce391",
   "metadata": {},
   "outputs": [],
   "source": []
  }
 ],
 "metadata": {
  "kernelspec": {
   "display_name": "Python 3 (ipykernel)",
   "language": "python",
   "name": "python3"
  },
  "language_info": {
   "codemirror_mode": {
    "name": "ipython",
    "version": 3
   },
   "file_extension": ".py",
   "mimetype": "text/x-python",
   "name": "python",
   "nbconvert_exporter": "python",
   "pygments_lexer": "ipython3",
   "version": "3.9.13"
  }
 },
 "nbformat": 4,
 "nbformat_minor": 5
}
