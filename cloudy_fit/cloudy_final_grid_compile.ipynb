{
 "cells": [
  {
   "cell_type": "code",
   "execution_count": 1,
   "id": "d5e6ba59",
   "metadata": {},
   "outputs": [],
   "source": [
    "import numpy as np\n",
    "from astropy.table import Table\n",
    "import matplotlib.pyplot as plt\n",
    "import pandas as pd\n",
    "from cloudy_fit_lib import *\n",
    "from scipy.interpolate import RegularGridInterpolator\n",
    "import pickle"
   ]
  },
  {
   "cell_type": "code",
   "execution_count": 2,
   "id": "04ca7126",
   "metadata": {},
   "outputs": [],
   "source": [
    "plt.style.use('/Users/thepoetoftwilight/Documents/CUBS/Code/science.mplstyle')"
   ]
  },
  {
   "cell_type": "code",
   "execution_count": 3,
   "id": "def6ee5a",
   "metadata": {},
   "outputs": [],
   "source": [
    "rootdir = '/Users/thepoetoftwilight/Documents/CUBS/Data/PG1522+101/cloudy_grids/'"
   ]
  },
  {
   "cell_type": "markdown",
   "id": "c4d3e21c",
   "metadata": {},
   "source": [
    "Obtain the UVB grid from FG20"
   ]
  },
  {
   "cell_type": "code",
   "execution_count": 4,
   "id": "4bbe345f",
   "metadata": {},
   "outputs": [],
   "source": [
    "fg20_z_grid, fg20_wav_grid, fg20_J_nu_grid = read_uvb('', 'fg20_galaxy.ascii')"
   ]
  },
  {
   "cell_type": "markdown",
   "id": "7e4ee0d9",
   "metadata": {},
   "source": [
    "Fetch the SED at $z=1$"
   ]
  },
  {
   "cell_type": "code",
   "execution_count": 5,
   "id": "67656ac2",
   "metadata": {},
   "outputs": [],
   "source": [
    "z_test = 1"
   ]
  },
  {
   "cell_type": "code",
   "execution_count": 6,
   "id": "fc401ceb",
   "metadata": {},
   "outputs": [],
   "source": [
    "fg20_J_nu_test = fetch_sed(z_test, fg20_z_grid, fg20_J_nu_grid)"
   ]
  },
  {
   "cell_type": "markdown",
   "id": "59a33069",
   "metadata": {},
   "source": [
    "Specify $N_{\\mathrm{HI}}$ grid points and get corresponding filenames"
   ]
  },
  {
   "cell_type": "code",
   "execution_count": 7,
   "id": "be3c525d",
   "metadata": {},
   "outputs": [],
   "source": [
    "logN_HI_min_main = 12\n",
    "logN_HI_max_main = 17\n",
    "logN_HI_step_main = 0.25\n",
    "\n",
    "logN_HI_arr_main = np.arange(logN_HI_min_main, logN_HI_max_main+logN_HI_step_main, logN_HI_step_main)"
   ]
  },
  {
   "cell_type": "code",
   "execution_count": 8,
   "id": "d80fbd1c",
   "metadata": {},
   "outputs": [],
   "source": [
    "file_list_main = create_grid_file_list(logN_HI_arr_main)"
   ]
  },
  {
   "cell_type": "markdown",
   "id": "07c06c16",
   "metadata": {},
   "source": [
    "Specify grid points for densities and metallicities"
   ]
  },
  {
   "cell_type": "code",
   "execution_count": 9,
   "id": "ce0735b3",
   "metadata": {},
   "outputs": [],
   "source": [
    "log_hdens_min_main = -5\n",
    "log_hdens_max_main = 1\n",
    "log_hdens_step_main = 0.25\n",
    "\n",
    "log_hdens_arr_main = np.arange(log_hdens_min_main, log_hdens_max_main+log_hdens_step_main, log_hdens_step_main)"
   ]
  },
  {
   "cell_type": "code",
   "execution_count": 10,
   "id": "4541a0ff",
   "metadata": {},
   "outputs": [],
   "source": [
    "log_metals_min_main = -3\n",
    "log_metals_max_main = 1\n",
    "log_metals_step_main = 0.25\n",
    "\n",
    "log_metals_arr_main = np.arange(log_metals_min_main, log_metals_max_main+log_metals_step_main, log_metals_step_main)"
   ]
  },
  {
   "cell_type": "code",
   "execution_count": 11,
   "id": "97ef3470",
   "metadata": {},
   "outputs": [
    {
     "data": {
      "text/plain": [
       "8925"
      ]
     },
     "execution_count": 11,
     "metadata": {},
     "output_type": "execute_result"
    }
   ],
   "source": [
    "# Total number of grid points\n",
    "len(logN_HI_arr_main)*len(log_hdens_arr_main)*len(log_metals_arr_main)"
   ]
  },
  {
   "cell_type": "markdown",
   "id": "d5ed97cc",
   "metadata": {},
   "source": [
    "Process the grid to identify \"failures\""
   ]
  },
  {
   "cell_type": "code",
   "execution_count": 12,
   "id": "659b445d",
   "metadata": {},
   "outputs": [],
   "source": [
    "log_T_pie_thresh = 4"
   ]
  },
  {
   "cell_type": "code",
   "execution_count": 13,
   "id": "53323dea",
   "metadata": {},
   "outputs": [],
   "source": [
    "# Bifurcate failures based on stopping temperature\n",
    "low_temp_failures = []\n",
    "high_temp_failures = []"
   ]
  },
  {
   "cell_type": "code",
   "execution_count": 14,
   "id": "aff23e1f",
   "metadata": {
    "scrolled": false
   },
   "outputs": [
    {
     "name": "stderr",
     "output_type": "stream",
     "text": [
      "/Users/thepoetoftwilight/Documents/CUBS/Code/cloudy_fitting/cloudy_fit_lib.py:429: RuntimeWarning: divide by zero encountered in log10\n",
      "  log_col_dens = np.log10(np.array(col_lines_split[1::2], dtype=float))\n",
      "/Users/thepoetoftwilight/Documents/CUBS/Code/cloudy_fitting/cloudy_fit_lib.py:429: RuntimeWarning: divide by zero encountered in log10\n",
      "  log_col_dens = np.log10(np.array(col_lines_split[1::2], dtype=float))\n",
      "/Users/thepoetoftwilight/Documents/CUBS/Code/cloudy_fitting/cloudy_fit_lib.py:429: RuntimeWarning: divide by zero encountered in log10\n",
      "  log_col_dens = np.log10(np.array(col_lines_split[1::2], dtype=float))\n",
      "/Users/thepoetoftwilight/Documents/CUBS/Code/cloudy_fitting/cloudy_fit_lib.py:429: RuntimeWarning: divide by zero encountered in log10\n",
      "  log_col_dens = np.log10(np.array(col_lines_split[1::2], dtype=float))\n",
      "/Users/thepoetoftwilight/Documents/CUBS/Code/cloudy_fitting/cloudy_fit_lib.py:429: RuntimeWarning: divide by zero encountered in log10\n",
      "  log_col_dens = np.log10(np.array(col_lines_split[1::2], dtype=float))\n",
      "/Users/thepoetoftwilight/Documents/CUBS/Code/cloudy_fitting/cloudy_fit_lib.py:429: RuntimeWarning: divide by zero encountered in log10\n",
      "  log_col_dens = np.log10(np.array(col_lines_split[1::2], dtype=float))\n",
      "/Users/thepoetoftwilight/Documents/CUBS/Code/cloudy_fitting/cloudy_fit_lib.py:429: RuntimeWarning: divide by zero encountered in log10\n",
      "  log_col_dens = np.log10(np.array(col_lines_split[1::2], dtype=float))\n",
      "/Users/thepoetoftwilight/Documents/CUBS/Code/cloudy_fitting/cloudy_fit_lib.py:429: RuntimeWarning: divide by zero encountered in log10\n",
      "  log_col_dens = np.log10(np.array(col_lines_split[1::2], dtype=float))\n",
      "/Users/thepoetoftwilight/Documents/CUBS/Code/cloudy_fitting/cloudy_fit_lib.py:429: RuntimeWarning: divide by zero encountered in log10\n",
      "  log_col_dens = np.log10(np.array(col_lines_split[1::2], dtype=float))\n",
      "/Users/thepoetoftwilight/Documents/CUBS/Code/cloudy_fitting/cloudy_fit_lib.py:429: RuntimeWarning: divide by zero encountered in log10\n",
      "  log_col_dens = np.log10(np.array(col_lines_split[1::2], dtype=float))\n",
      "/Users/thepoetoftwilight/Documents/CUBS/Code/cloudy_fitting/cloudy_fit_lib.py:429: RuntimeWarning: divide by zero encountered in log10\n",
      "  log_col_dens = np.log10(np.array(col_lines_split[1::2], dtype=float))\n",
      "/Users/thepoetoftwilight/Documents/CUBS/Code/cloudy_fitting/cloudy_fit_lib.py:429: RuntimeWarning: divide by zero encountered in log10\n",
      "  log_col_dens = np.log10(np.array(col_lines_split[1::2], dtype=float))\n",
      "/Users/thepoetoftwilight/Documents/CUBS/Code/cloudy_fitting/cloudy_fit_lib.py:429: RuntimeWarning: divide by zero encountered in log10\n",
      "  log_col_dens = np.log10(np.array(col_lines_split[1::2], dtype=float))\n",
      "/Users/thepoetoftwilight/Documents/CUBS/Code/cloudy_fitting/cloudy_fit_lib.py:429: RuntimeWarning: divide by zero encountered in log10\n",
      "  log_col_dens = np.log10(np.array(col_lines_split[1::2], dtype=float))\n",
      "/Users/thepoetoftwilight/Documents/CUBS/Code/cloudy_fitting/cloudy_fit_lib.py:429: RuntimeWarning: divide by zero encountered in log10\n",
      "  log_col_dens = np.log10(np.array(col_lines_split[1::2], dtype=float))\n",
      "/Users/thepoetoftwilight/Documents/CUBS/Code/cloudy_fitting/cloudy_fit_lib.py:429: RuntimeWarning: divide by zero encountered in log10\n",
      "  log_col_dens = np.log10(np.array(col_lines_split[1::2], dtype=float))\n",
      "/Users/thepoetoftwilight/Documents/CUBS/Code/cloudy_fitting/cloudy_fit_lib.py:429: RuntimeWarning: divide by zero encountered in log10\n",
      "  log_col_dens = np.log10(np.array(col_lines_split[1::2], dtype=float))\n",
      "/Users/thepoetoftwilight/Documents/CUBS/Code/cloudy_fitting/cloudy_fit_lib.py:429: RuntimeWarning: divide by zero encountered in log10\n",
      "  log_col_dens = np.log10(np.array(col_lines_split[1::2], dtype=float))\n",
      "/Users/thepoetoftwilight/Documents/CUBS/Code/cloudy_fitting/cloudy_fit_lib.py:429: RuntimeWarning: divide by zero encountered in log10\n",
      "  log_col_dens = np.log10(np.array(col_lines_split[1::2], dtype=float))\n",
      "/Users/thepoetoftwilight/Documents/CUBS/Code/cloudy_fitting/cloudy_fit_lib.py:429: RuntimeWarning: divide by zero encountered in log10\n",
      "  log_col_dens = np.log10(np.array(col_lines_split[1::2], dtype=float))\n",
      "/Users/thepoetoftwilight/Documents/CUBS/Code/cloudy_fitting/cloudy_fit_lib.py:429: RuntimeWarning: divide by zero encountered in log10\n",
      "  log_col_dens = np.log10(np.array(col_lines_split[1::2], dtype=float))\n"
     ]
    }
   ],
   "source": [
    "for i in range(len(logN_HI_arr_main)):\n",
    "    \n",
    "    logN_HI = logN_HI_arr_main[i]\n",
    "    \n",
    "    # The filename corresponding to the current stopping HI column density\n",
    "    filename = file_list_main[i]\n",
    "    \n",
    "    # Get list of densities and metallicities for this stopping HI column density \n",
    "    log_hdens_grid, log_metals_grid = read_grd_file(rootdir+'main_grid/', filename)\n",
    "    \n",
    "    # Get average (log) HI temperatures for all grid points\n",
    "    log_temps_grid = read_avr_file(rootdir+'main_grid/', filename)\n",
    "    \n",
    "    # Get column densities for all species\n",
    "    species_names, log_col_dens_grid = read_col_file(rootdir+'main_grid/', filename)\n",
    "    \n",
    "    for j in range(len(log_hdens_arr_main)):\n",
    "        \n",
    "        log_hdens = log_hdens_arr_main[j]\n",
    "        \n",
    "        for k in range(len(log_metals_arr_main)):\n",
    "            \n",
    "            log_metals = log_metals_arr_main[k]\n",
    "            \n",
    "            # Get grid index number for the current n_H and metallicity\n",
    "            idx = np.intersect1d(np.where(log_hdens_grid==log_hdens)[0], np.where(log_metals_grid==log_metals)[0])[0]\n",
    "            \n",
    "            # Isolate the average temperature and column density for all species\n",
    "            log_temp = log_temps_grid[idx]\n",
    "            log_col_dens = log_col_dens_grid[idx]\n",
    "            \n",
    "            # Check if this grid point is a failure\n",
    "            if np.round(log_col_dens[0],2) != logN_HI:\n",
    "                # Categorize based on temperature\n",
    "                if log_temp<log_T_pie_thresh:\n",
    "                    low_temp_failures.append([logN_HI, log_hdens, log_metals, log_temp, log_col_dens[0]])\n",
    "                else:\n",
    "                    high_temp_failures.append([logN_HI, log_hdens, log_metals, log_temp, log_col_dens[0]])"
   ]
  },
  {
   "cell_type": "code",
   "execution_count": 15,
   "id": "728e11b8",
   "metadata": {},
   "outputs": [],
   "source": [
    "low_temp_failures = np.array(low_temp_failures)\n",
    "high_temp_failures = np.array(high_temp_failures)"
   ]
  },
  {
   "cell_type": "code",
   "execution_count": 16,
   "id": "51070c80",
   "metadata": {},
   "outputs": [
    {
     "data": {
      "text/plain": [
       "1547"
      ]
     },
     "execution_count": 16,
     "metadata": {},
     "output_type": "execute_result"
    }
   ],
   "source": [
    "len(low_temp_failures)"
   ]
  },
  {
   "cell_type": "code",
   "execution_count": 17,
   "id": "4545f403",
   "metadata": {},
   "outputs": [
    {
     "data": {
      "text/plain": [
       "25"
      ]
     },
     "execution_count": 17,
     "metadata": {},
     "output_type": "execute_result"
    }
   ],
   "source": [
    "len(high_temp_failures)"
   ]
  },
  {
   "cell_type": "code",
   "execution_count": 18,
   "id": "2d45176c",
   "metadata": {},
   "outputs": [
    {
     "data": {
      "image/png": "[encoded data removed]",
      "text/plain": [
       "<Figure size 2700x900 with 22 Axes>"
      ]
     },
     "metadata": {},
     "output_type": "display_data"
    }
   ],
   "source": [
    "fig, axes = plt.subplots(3, 7, figsize=(27, 9), sharex=True, sharey=True)\n",
    "\n",
    "for i in range(len(np.unique(low_temp_failures[:,0]))):\n",
    "    \n",
    "    row = i//7\n",
    "    col = i%7\n",
    "    \n",
    "    ax = axes[row, col]\n",
    "    \n",
    "    logN_HI_stop = np.unique(low_temp_failures[:,0])[i]\n",
    "    \n",
    "    idx = (low_temp_failures[:,0] == logN_HI_stop)\n",
    "    ax.scatter(low_temp_failures[idx][:,1], low_temp_failures[idx][:,2], color='deepskyblue')\n",
    "    \n",
    "    idx_hi = (high_temp_failures[:,0] == logN_HI_stop)\n",
    "    \n",
    "    if np.sum(idx_hi)!=0:\n",
    "        ax.scatter(high_temp_failures[idx_hi][:,1], high_temp_failures[idx_hi][:,2], color='orchid')\n",
    "    \n",
    "    ax.text(x=-4, y=-.1, s=r'$\\log N (HI) = $ {}'.format(logN_HI_stop))\n",
    "    \n",
    "ax_label = fig.add_subplot(111, frameon=False)\n",
    "plt.tick_params(labelcolor='none', top='off', bottom='off', left='off', right='off')\n",
    "\n",
    "ax_label.set_xlabel(r'$\\log n_H$')\n",
    "ax_label.set_ylabel(r'$\\log [M/H]$')\n",
    "\n",
    "plt.subplots_adjust(wspace=0, hspace=0) "
   ]
  },
  {
   "cell_type": "markdown",
   "id": "0e449f76",
   "metadata": {},
   "source": [
    "Create the FINAL grid, populate it with \"successful\" candidates from the main grid, DON'T save it yet"
   ]
  },
  {
   "cell_type": "code",
   "execution_count": 19,
   "id": "5d084a06",
   "metadata": {},
   "outputs": [],
   "source": [
    "species_logN_samples_final = {}\n",
    "logT_grid_final = np.zeros((len(logN_HI_arr_main), len(log_hdens_arr_main), len(log_metals_arr_main)))"
   ]
  },
  {
   "cell_type": "code",
   "execution_count": 20,
   "id": "f139423f",
   "metadata": {},
   "outputs": [
    {
     "name": "stderr",
     "output_type": "stream",
     "text": [
      "/Users/thepoetoftwilight/Documents/CUBS/Code/cloudy_fitting/cloudy_fit_lib.py:429: RuntimeWarning: divide by zero encountered in log10\n",
      "  log_col_dens = np.log10(np.array(col_lines_split[1::2], dtype=float))\n",
      "/Users/thepoetoftwilight/Documents/CUBS/Code/cloudy_fitting/cloudy_fit_lib.py:429: RuntimeWarning: divide by zero encountered in log10\n",
      "  log_col_dens = np.log10(np.array(col_lines_split[1::2], dtype=float))\n",
      "/Users/thepoetoftwilight/Documents/CUBS/Code/cloudy_fitting/cloudy_fit_lib.py:429: RuntimeWarning: divide by zero encountered in log10\n",
      "  log_col_dens = np.log10(np.array(col_lines_split[1::2], dtype=float))\n",
      "/Users/thepoetoftwilight/Documents/CUBS/Code/cloudy_fitting/cloudy_fit_lib.py:429: RuntimeWarning: divide by zero encountered in log10\n",
      "  log_col_dens = np.log10(np.array(col_lines_split[1::2], dtype=float))\n",
      "/Users/thepoetoftwilight/Documents/CUBS/Code/cloudy_fitting/cloudy_fit_lib.py:429: RuntimeWarning: divide by zero encountered in log10\n",
      "  log_col_dens = np.log10(np.array(col_lines_split[1::2], dtype=float))\n",
      "/Users/thepoetoftwilight/Documents/CUBS/Code/cloudy_fitting/cloudy_fit_lib.py:429: RuntimeWarning: divide by zero encountered in log10\n",
      "  log_col_dens = np.log10(np.array(col_lines_split[1::2], dtype=float))\n",
      "/Users/thepoetoftwilight/Documents/CUBS/Code/cloudy_fitting/cloudy_fit_lib.py:429: RuntimeWarning: divide by zero encountered in log10\n",
      "  log_col_dens = np.log10(np.array(col_lines_split[1::2], dtype=float))\n",
      "/Users/thepoetoftwilight/Documents/CUBS/Code/cloudy_fitting/cloudy_fit_lib.py:429: RuntimeWarning: divide by zero encountered in log10\n",
      "  log_col_dens = np.log10(np.array(col_lines_split[1::2], dtype=float))\n",
      "/Users/thepoetoftwilight/Documents/CUBS/Code/cloudy_fitting/cloudy_fit_lib.py:429: RuntimeWarning: divide by zero encountered in log10\n",
      "  log_col_dens = np.log10(np.array(col_lines_split[1::2], dtype=float))\n",
      "/Users/thepoetoftwilight/Documents/CUBS/Code/cloudy_fitting/cloudy_fit_lib.py:429: RuntimeWarning: divide by zero encountered in log10\n",
      "  log_col_dens = np.log10(np.array(col_lines_split[1::2], dtype=float))\n",
      "/Users/thepoetoftwilight/Documents/CUBS/Code/cloudy_fitting/cloudy_fit_lib.py:429: RuntimeWarning: divide by zero encountered in log10\n",
      "  log_col_dens = np.log10(np.array(col_lines_split[1::2], dtype=float))\n",
      "/Users/thepoetoftwilight/Documents/CUBS/Code/cloudy_fitting/cloudy_fit_lib.py:429: RuntimeWarning: divide by zero encountered in log10\n",
      "  log_col_dens = np.log10(np.array(col_lines_split[1::2], dtype=float))\n",
      "/Users/thepoetoftwilight/Documents/CUBS/Code/cloudy_fitting/cloudy_fit_lib.py:429: RuntimeWarning: divide by zero encountered in log10\n",
      "  log_col_dens = np.log10(np.array(col_lines_split[1::2], dtype=float))\n",
      "/Users/thepoetoftwilight/Documents/CUBS/Code/cloudy_fitting/cloudy_fit_lib.py:429: RuntimeWarning: divide by zero encountered in log10\n",
      "  log_col_dens = np.log10(np.array(col_lines_split[1::2], dtype=float))\n",
      "/Users/thepoetoftwilight/Documents/CUBS/Code/cloudy_fitting/cloudy_fit_lib.py:429: RuntimeWarning: divide by zero encountered in log10\n",
      "  log_col_dens = np.log10(np.array(col_lines_split[1::2], dtype=float))\n",
      "/Users/thepoetoftwilight/Documents/CUBS/Code/cloudy_fitting/cloudy_fit_lib.py:429: RuntimeWarning: divide by zero encountered in log10\n",
      "  log_col_dens = np.log10(np.array(col_lines_split[1::2], dtype=float))\n",
      "/Users/thepoetoftwilight/Documents/CUBS/Code/cloudy_fitting/cloudy_fit_lib.py:429: RuntimeWarning: divide by zero encountered in log10\n",
      "  log_col_dens = np.log10(np.array(col_lines_split[1::2], dtype=float))\n",
      "/Users/thepoetoftwilight/Documents/CUBS/Code/cloudy_fitting/cloudy_fit_lib.py:429: RuntimeWarning: divide by zero encountered in log10\n",
      "  log_col_dens = np.log10(np.array(col_lines_split[1::2], dtype=float))\n",
      "/Users/thepoetoftwilight/Documents/CUBS/Code/cloudy_fitting/cloudy_fit_lib.py:429: RuntimeWarning: divide by zero encountered in log10\n",
      "  log_col_dens = np.log10(np.array(col_lines_split[1::2], dtype=float))\n",
      "/Users/thepoetoftwilight/Documents/CUBS/Code/cloudy_fitting/cloudy_fit_lib.py:429: RuntimeWarning: divide by zero encountered in log10\n",
      "  log_col_dens = np.log10(np.array(col_lines_split[1::2], dtype=float))\n",
      "/Users/thepoetoftwilight/Documents/CUBS/Code/cloudy_fitting/cloudy_fit_lib.py:429: RuntimeWarning: divide by zero encountered in log10\n",
      "  log_col_dens = np.log10(np.array(col_lines_split[1::2], dtype=float))\n"
     ]
    }
   ],
   "source": [
    "for i in range(len(logN_HI_arr_main)):\n",
    "    \n",
    "    logN_HI = logN_HI_arr_main[i]\n",
    "    \n",
    "    # The filename corresponding to the current stopping HI column density\n",
    "    filename = file_list_main[i]\n",
    "    \n",
    "    # Get list of densities and metallicities for this stopping HI column density \n",
    "    log_hdens_grid, log_metals_grid = read_grd_file(rootdir+'main_grid/', filename)\n",
    "        \n",
    "    # Get average (log) HI temperatures for all grid points\n",
    "    log_temps_grid = read_avr_file(rootdir+'main_grid/', filename)\n",
    "    \n",
    "    # Get column densities for all species\n",
    "    species_names, log_col_dens_grid = read_col_file(rootdir+'main_grid/', filename)\n",
    "    \n",
    "    for j in range(len(log_hdens_arr_main)):\n",
    "        \n",
    "        log_hdens = log_hdens_arr_main[j]\n",
    "        \n",
    "        for k in range(len(log_metals_arr_main)):\n",
    "            \n",
    "            log_metals = log_metals_arr_main[k]\n",
    "            \n",
    "            # Get grid index number for the current n_H and metallicity\n",
    "            idx = np.intersect1d(np.where(log_hdens_grid==log_hdens)[0], np.where(log_metals_grid==log_metals)[0])[0]\n",
    "            # Isolate the average temperature and column density for all species\n",
    "            log_temp = log_temps_grid[idx]\n",
    "            logT_grid_final[i,j,k] = log_temp\n",
    "            log_col_dens = log_col_dens_grid[idx]\n",
    "            \n",
    "            # For each species\n",
    "            for l in range(len(species_names)):\n",
    "                \n",
    "                s = species_names[l]\n",
    "                \n",
    "                if s not in species_logN_samples_final.keys():\n",
    "                    \n",
    "                    species_logN_samples_final[s] = -99.*np.ones((len(logN_HI_arr_main), \n",
    "                                                            len(log_hdens_arr_main),\n",
    "                                                            len(log_metals_arr_main)))\n",
    "                \n",
    "                # Check for converged logN(HI)\n",
    "                if np.round(log_col_dens[0],2) == logN_HI:\n",
    "                    species_logN_samples_final[s][i,j,k] = log_col_dens[l]"
   ]
  },
  {
   "cell_type": "code",
   "execution_count": 21,
   "id": "bb8a0473",
   "metadata": {},
   "outputs": [],
   "source": [
    "unique, counts = np.unique(species_logN_samples_final['#column density H'].flatten(), return_counts=True)"
   ]
  },
  {
   "cell_type": "code",
   "execution_count": 22,
   "id": "e8a86789",
   "metadata": {},
   "outputs": [
    {
     "data": {
      "text/plain": [
       "array([1572,  353,  353,  353,  346,    7,    1,    1,  351,    1,  352,\n",
       "          2,  351,    1,    1,  343,    8,    1,    4,  348,    1,  352,\n",
       "          1,    1,    6,  345,    2,    6,  324,   20,    1,    2,    2,\n",
       "          2,    4,  125,  216,    8,  342,    2,    1,   10,  178,  160,\n",
       "          1,    1,    1,    1,    2,    4,   30,  152,  149,    6,    2,\n",
       "          1,    2,    1,    3,    6,    9,    6,   13,   18,   21,   44,\n",
       "         58,   93,   72,    4,    1,    1,   10,  109,  218,    3,    2,\n",
       "          1,    1,    1,   22,  147,   86,   13,   12,    7,    9,   10,\n",
       "          7,    2,    2,    4,    1,    3,    2,    2,    2,    1,    3,\n",
       "          2,    1,    2,    1,    1,    1,    1,    1,    1,   41,  131,\n",
       "         41,   18,   15,   15,   10,    6,   11,    3,    6,    4,    5,\n",
       "          6,    5,    6,    2,    3,    2,    1,    1,    1,    1,    1,\n",
       "          1,    9,  224,   59,   26,   15,    2,    1])"
      ]
     },
     "execution_count": 22,
     "metadata": {},
     "output_type": "execute_result"
    }
   ],
   "source": [
    "counts"
   ]
  },
  {
   "cell_type": "markdown",
   "id": "3299ce0e",
   "metadata": {},
   "source": [
    "Load in the subgrid, fix the low temperature failures"
   ]
  },
  {
   "cell_type": "code",
   "execution_count": 23,
   "id": "60fcc449",
   "metadata": {},
   "outputs": [],
   "source": [
    "logN_HI_min_sub = 12\n",
    "logN_HI_max_sub = 17\n",
    "logN_HI_step_sub = 0.25\n",
    "\n",
    "logN_HI_arr_sub = np.arange(logN_HI_min_sub, logN_HI_max_sub+logN_HI_step_sub, logN_HI_step_sub)"
   ]
  },
  {
   "cell_type": "code",
   "execution_count": 24,
   "id": "6e370e27",
   "metadata": {},
   "outputs": [],
   "source": [
    "file_list_sub = create_grid_file_list(logN_HI_arr_sub)"
   ]
  },
  {
   "cell_type": "code",
   "execution_count": 25,
   "id": "c2929922",
   "metadata": {},
   "outputs": [],
   "source": [
    "log_hdens_min_sub = -4.25\n",
    "log_hdens_max_sub = 1\n",
    "log_hdens_step_sub = 0.25\n",
    "\n",
    "log_hdens_arr_sub = np.arange(log_hdens_min_sub, log_hdens_max_sub+log_hdens_step_sub, log_hdens_step_sub)"
   ]
  },
  {
   "cell_type": "code",
   "execution_count": 26,
   "id": "b5d9c868",
   "metadata": {},
   "outputs": [],
   "source": [
    "log_metals_min_sub = -0.25\n",
    "log_metals_max_sub = 1\n",
    "log_metals_step_sub = 0.25\n",
    "\n",
    "log_metals_arr_sub = np.arange(log_metals_min_sub, log_metals_max_sub+log_metals_step_sub, log_metals_step_sub)"
   ]
  },
  {
   "cell_type": "code",
   "execution_count": 27,
   "id": "531a4df8",
   "metadata": {},
   "outputs": [
    {
     "data": {
      "text/plain": [
       "2772"
      ]
     },
     "execution_count": 27,
     "metadata": {},
     "output_type": "execute_result"
    }
   ],
   "source": [
    "# Total number of grid points\n",
    "len(logN_HI_arr_sub)*len(log_hdens_arr_sub)*len(log_metals_arr_sub)"
   ]
  },
  {
   "cell_type": "code",
   "execution_count": 28,
   "id": "46638371",
   "metadata": {},
   "outputs": [],
   "source": [
    "species_logN_samples_sub = {}\n",
    "logT_grid_sub = np.zeros((len(logN_HI_arr_sub), len(log_hdens_arr_sub), len(log_metals_arr_sub)))"
   ]
  },
  {
   "cell_type": "code",
   "execution_count": 29,
   "id": "b7f55196",
   "metadata": {},
   "outputs": [
    {
     "name": "stderr",
     "output_type": "stream",
     "text": [
      "/Users/thepoetoftwilight/Documents/CUBS/Code/cloudy_fitting/cloudy_fit_lib.py:429: RuntimeWarning: divide by zero encountered in log10\n",
      "  log_col_dens = np.log10(np.array(col_lines_split[1::2], dtype=float))\n",
      "/Users/thepoetoftwilight/Documents/CUBS/Code/cloudy_fitting/cloudy_fit_lib.py:429: RuntimeWarning: divide by zero encountered in log10\n",
      "  log_col_dens = np.log10(np.array(col_lines_split[1::2], dtype=float))\n",
      "/Users/thepoetoftwilight/Documents/CUBS/Code/cloudy_fitting/cloudy_fit_lib.py:429: RuntimeWarning: divide by zero encountered in log10\n",
      "  log_col_dens = np.log10(np.array(col_lines_split[1::2], dtype=float))\n",
      "/Users/thepoetoftwilight/Documents/CUBS/Code/cloudy_fitting/cloudy_fit_lib.py:429: RuntimeWarning: divide by zero encountered in log10\n",
      "  log_col_dens = np.log10(np.array(col_lines_split[1::2], dtype=float))\n",
      "/Users/thepoetoftwilight/Documents/CUBS/Code/cloudy_fitting/cloudy_fit_lib.py:429: RuntimeWarning: divide by zero encountered in log10\n",
      "  log_col_dens = np.log10(np.array(col_lines_split[1::2], dtype=float))\n",
      "/Users/thepoetoftwilight/Documents/CUBS/Code/cloudy_fitting/cloudy_fit_lib.py:429: RuntimeWarning: divide by zero encountered in log10\n",
      "  log_col_dens = np.log10(np.array(col_lines_split[1::2], dtype=float))\n",
      "/Users/thepoetoftwilight/Documents/CUBS/Code/cloudy_fitting/cloudy_fit_lib.py:429: RuntimeWarning: divide by zero encountered in log10\n",
      "  log_col_dens = np.log10(np.array(col_lines_split[1::2], dtype=float))\n",
      "/Users/thepoetoftwilight/Documents/CUBS/Code/cloudy_fitting/cloudy_fit_lib.py:429: RuntimeWarning: divide by zero encountered in log10\n",
      "  log_col_dens = np.log10(np.array(col_lines_split[1::2], dtype=float))\n",
      "/Users/thepoetoftwilight/Documents/CUBS/Code/cloudy_fitting/cloudy_fit_lib.py:429: RuntimeWarning: divide by zero encountered in log10\n",
      "  log_col_dens = np.log10(np.array(col_lines_split[1::2], dtype=float))\n",
      "/Users/thepoetoftwilight/Documents/CUBS/Code/cloudy_fitting/cloudy_fit_lib.py:429: RuntimeWarning: divide by zero encountered in log10\n",
      "  log_col_dens = np.log10(np.array(col_lines_split[1::2], dtype=float))\n",
      "/Users/thepoetoftwilight/Documents/CUBS/Code/cloudy_fitting/cloudy_fit_lib.py:429: RuntimeWarning: divide by zero encountered in log10\n",
      "  log_col_dens = np.log10(np.array(col_lines_split[1::2], dtype=float))\n",
      "/Users/thepoetoftwilight/Documents/CUBS/Code/cloudy_fitting/cloudy_fit_lib.py:429: RuntimeWarning: divide by zero encountered in log10\n",
      "  log_col_dens = np.log10(np.array(col_lines_split[1::2], dtype=float))\n",
      "/Users/thepoetoftwilight/Documents/CUBS/Code/cloudy_fitting/cloudy_fit_lib.py:429: RuntimeWarning: divide by zero encountered in log10\n",
      "  log_col_dens = np.log10(np.array(col_lines_split[1::2], dtype=float))\n",
      "/Users/thepoetoftwilight/Documents/CUBS/Code/cloudy_fitting/cloudy_fit_lib.py:429: RuntimeWarning: divide by zero encountered in log10\n",
      "  log_col_dens = np.log10(np.array(col_lines_split[1::2], dtype=float))\n",
      "/Users/thepoetoftwilight/Documents/CUBS/Code/cloudy_fitting/cloudy_fit_lib.py:429: RuntimeWarning: divide by zero encountered in log10\n",
      "  log_col_dens = np.log10(np.array(col_lines_split[1::2], dtype=float))\n",
      "/Users/thepoetoftwilight/Documents/CUBS/Code/cloudy_fitting/cloudy_fit_lib.py:429: RuntimeWarning: divide by zero encountered in log10\n",
      "  log_col_dens = np.log10(np.array(col_lines_split[1::2], dtype=float))\n",
      "/Users/thepoetoftwilight/Documents/CUBS/Code/cloudy_fitting/cloudy_fit_lib.py:429: RuntimeWarning: divide by zero encountered in log10\n",
      "  log_col_dens = np.log10(np.array(col_lines_split[1::2], dtype=float))\n",
      "/Users/thepoetoftwilight/Documents/CUBS/Code/cloudy_fitting/cloudy_fit_lib.py:429: RuntimeWarning: divide by zero encountered in log10\n",
      "  log_col_dens = np.log10(np.array(col_lines_split[1::2], dtype=float))\n",
      "/Users/thepoetoftwilight/Documents/CUBS/Code/cloudy_fitting/cloudy_fit_lib.py:429: RuntimeWarning: divide by zero encountered in log10\n",
      "  log_col_dens = np.log10(np.array(col_lines_split[1::2], dtype=float))\n",
      "/Users/thepoetoftwilight/Documents/CUBS/Code/cloudy_fitting/cloudy_fit_lib.py:429: RuntimeWarning: divide by zero encountered in log10\n",
      "  log_col_dens = np.log10(np.array(col_lines_split[1::2], dtype=float))\n",
      "/Users/thepoetoftwilight/Documents/CUBS/Code/cloudy_fitting/cloudy_fit_lib.py:429: RuntimeWarning: divide by zero encountered in log10\n",
      "  log_col_dens = np.log10(np.array(col_lines_split[1::2], dtype=float))\n"
     ]
    }
   ],
   "source": [
    "for i in range(len(logN_HI_arr_sub)):\n",
    "    \n",
    "    logN_HI = logN_HI_arr_sub[i]\n",
    "    \n",
    "    # The filename corresponding to the current stopping HI column density\n",
    "    filename = file_list_sub[i]\n",
    "    \n",
    "    # Get list of densities and metallicities for this stopping HI column density \n",
    "    log_hdens_grid, log_metals_grid = read_grd_file(rootdir+'sub_grid/', filename)\n",
    "    \n",
    "    # Get average (log) HI temperatures for all grid points\n",
    "    log_temps_grid = read_avr_file(rootdir+'sub_grid/', filename)\n",
    "    \n",
    "    # Get column densities for all species\n",
    "    species_names, log_col_dens_grid = read_col_file(rootdir+'sub_grid/', filename)\n",
    "    \n",
    "    for j in range(len(log_hdens_arr_sub)):\n",
    "        \n",
    "        log_hdens = log_hdens_arr_sub[j]\n",
    "        \n",
    "        for k in range(len(log_metals_arr_sub)):\n",
    "            \n",
    "            log_metals = log_metals_arr_sub[k]\n",
    "            \n",
    "            # Get grid index number for the current n_H and metallicity\n",
    "            idx = np.intersect1d(np.where(log_hdens_grid==log_hdens)[0], np.where(log_metals_grid==log_metals)[0])[0]\n",
    "            \n",
    "            # Isolate the average temperature and column density for all species\n",
    "            log_temp = log_temps_grid[idx]\n",
    "            logT_grid_sub[i,j,k] = log_temp\n",
    "            \n",
    "            log_col_dens = log_col_dens_grid[idx]\n",
    "            \n",
    "            # For each species\n",
    "            for l in range(len(species_names)):\n",
    "                \n",
    "                s = species_names[l]\n",
    "                \n",
    "                if s not in species_logN_samples_sub.keys():\n",
    "                    \n",
    "                    species_logN_samples_sub[s] = -99.*np.ones((len(logN_HI_arr_sub), \n",
    "                                                            len(log_hdens_arr_sub),\n",
    "                                                            len(log_metals_arr_sub)))\n",
    "                \n",
    "                # Check for converged logN(HI)\n",
    "                if np.round(log_col_dens[0],2) == logN_HI:\n",
    "                    species_logN_samples_sub[s][i,j,k] = log_col_dens[l]"
   ]
  },
  {
   "cell_type": "markdown",
   "id": "f36ae209",
   "metadata": {},
   "source": [
    "Index the low temperature failures in the final grid, and fix them using the indices from the subgrid"
   ]
  },
  {
   "cell_type": "code",
   "execution_count": 30,
   "id": "690a2958",
   "metadata": {},
   "outputs": [],
   "source": [
    "# Consider a low temperature failure\n",
    "for f in range(len(low_temp_failures)):\n",
    "\n",
    "    # Register the \"coordinates\" of the failed grid point\n",
    "    logN_HI = low_temp_failures[f][0]\n",
    "    log_hdens = low_temp_failures[f][1]\n",
    "    log_metals = low_temp_failures[f][2]\n",
    "\n",
    "    # Get indices for the grid point in the main grid\n",
    "    idx_logN_HI_main = np.where(logN_HI_arr_main==logN_HI)[0][0]\n",
    "    idx_log_hdens_main = np.where(log_hdens_arr_main==log_hdens)[0][0]\n",
    "    idx_log_metals_main = np.where(log_metals_arr_main==log_metals)[0][0]\n",
    "\n",
    "    # Get indices for the grid point in the subgrid\n",
    "    idx_logN_HI_sub = np.where(logN_HI_arr_sub==logN_HI)[0][0]\n",
    "    idx_log_hdens_sub = np.where(log_hdens_arr_sub==log_hdens)[0][0]\n",
    "    idx_log_metals_sub = np.where(log_metals_arr_sub==log_metals)[0][0]\n",
    "    \n",
    "    # For each species\n",
    "    for l in range(len(species_logN_samples_final)):\n",
    "\n",
    "        s = list(species_logN_samples_final.keys())[l]\n",
    "        # Set the temperature column density for the species in the final grid to that taken from the subgrid\n",
    "        logT_grid_final[idx_logN_HI_main,idx_log_hdens_main,idx_log_metals_main] = logT_grid_sub[idx_logN_HI_sub,idx_log_hdens_sub,idx_log_metals_sub]\n",
    "        species_logN_samples_final[s][idx_logN_HI_main, idx_log_hdens_main, idx_log_metals_main] = species_logN_samples_sub[s][idx_logN_HI_sub, idx_log_hdens_sub, idx_log_metals_sub]"
   ]
  },
  {
   "cell_type": "code",
   "execution_count": 31,
   "id": "d2c4ba1b",
   "metadata": {},
   "outputs": [],
   "source": [
    "unique, counts = np.unique(species_logN_samples_final['#column density H'].flatten(), return_counts=True)"
   ]
  },
  {
   "cell_type": "code",
   "execution_count": 32,
   "id": "80e5264d",
   "metadata": {},
   "outputs": [
    {
     "data": {
      "text/plain": [
       "array([ 25, 425, 425, 425, 418,   7,   1,   1, 423,   1, 424,   2, 423,\n",
       "         1,   1, 415,   8,   1,   4, 420,   1, 424,   1,   1,   6, 417,\n",
       "         2,   6, 397,  20,   1,   2,   2,   2,   4, 159, 255,   8, 415,\n",
       "         2,   1,  10, 223, 188,   1,   1,   1,   1,   2,   4,  30, 193,\n",
       "       183,   6,   2,   1,   2,   1,   3,   6,   9,   8,  14,  21,  27,\n",
       "        59,  79, 117,  75,   4,   1,   1,  10, 130, 273,   3,   2,   1,\n",
       "         1,   1,  22, 216,  94,  13,  12,   7,   9,  10,   7,   2,   2,\n",
       "         4,   1,   3,   2,   2,   2,   1,   3,   2,   1,   2,   1,   1,\n",
       "         1,   1,   1,   1,  52, 181,  57,  20,  15,  15,  10,   6,  11,\n",
       "         3,   6,   4,   5,   6,   5,   6,   2,   3,   2,   1,   1,   1,\n",
       "         1,   1,   1,  12, 293,  66,  28,  15,   2,   1])"
      ]
     },
     "execution_count": 32,
     "metadata": {},
     "output_type": "execute_result"
    }
   ],
   "source": [
    "counts"
   ]
  },
  {
   "cell_type": "markdown",
   "id": "0c5703f7",
   "metadata": {},
   "source": [
    "Load in the extraneous grid, fix the high temperature failures"
   ]
  },
  {
   "cell_type": "code",
   "execution_count": 33,
   "id": "84dbcc8b",
   "metadata": {},
   "outputs": [],
   "source": [
    "grid_points_ext = np.array([[16.  , -4.25,  1.  ],\n",
    "       [16.25, -5.  ,  1.  ],\n",
    "       [16.25, -4.75,  1.  ],\n",
    "       [16.25, -4.5 ,  1.  ],\n",
    "       [16.25, -4.25,  1.  ],\n",
    "       [16.5 , -5.  ,  0.75],\n",
    "       [16.5 , -5.  ,  1.  ],\n",
    "       [16.5 , -4.75,  0.75],\n",
    "       [16.5 , -4.75,  1.  ],\n",
    "       [16.5 , -4.5 ,  1.  ],\n",
    "       [16.5 , -4.25,  1.  ],\n",
    "       [16.75, -5.  ,  0.75],\n",
    "       [16.75, -5.  ,  1.  ],\n",
    "       [16.75, -4.75,  0.75],\n",
    "       [16.75, -4.75,  1.  ],\n",
    "       [16.75, -4.5 ,  0.75],\n",
    "       [16.75, -4.5 ,  1.  ],\n",
    "       [16.75, -4.25,  1.  ],\n",
    "       [17.  , -5.  ,  0.75],\n",
    "       [17.  , -5.  ,  1.  ],\n",
    "       [17.  , -4.75,  0.75],\n",
    "       [17.  , -4.75,  1.  ],\n",
    "       [17.  , -4.5 ,  0.75],\n",
    "       [17.  , -4.5 ,  1.  ],\n",
    "       [17.  , -4.25,  1.  ]])"
   ]
  },
  {
   "cell_type": "code",
   "execution_count": 34,
   "id": "3bd4fe14",
   "metadata": {},
   "outputs": [
    {
     "data": {
      "text/plain": [
       "25"
      ]
     },
     "execution_count": 34,
     "metadata": {},
     "output_type": "execute_result"
    }
   ],
   "source": [
    "len(grid_points_ext)"
   ]
  },
  {
   "cell_type": "code",
   "execution_count": 35,
   "id": "73da6104",
   "metadata": {},
   "outputs": [],
   "source": [
    "species_logN_samples_ext = {}\n",
    "logT_ext_grid = np.zeros(len(grid_points_ext))"
   ]
  },
  {
   "cell_type": "code",
   "execution_count": 36,
   "id": "9ce45f39",
   "metadata": {},
   "outputs": [],
   "source": [
    "for i in range(len(grid_points_ext)):\n",
    "    \n",
    "    logN_HI, log_hdens, log_metals = grid_points_ext[i]\n",
    "    \n",
    "    # The filename corresponding to this grid point\n",
    "    \n",
    "    logN_HI_str = '{:.2f}'.format(logN_HI).replace('.','')\n",
    "    log_hdens_str = '{:.2f}'.format(log_hdens).replace('.','')\n",
    "    log_metals_str = '{:.2f}'.format(log_metals).replace('.','')\n",
    "    \n",
    "    filename = 'igm_lalpha_hm12_grid_{}_{}_{}'.format(logN_HI_str, log_hdens_str, log_metals_str)\n",
    "    \n",
    "    # Get average (log) HI temperatures for all grid points\n",
    "    log_temp = read_avr_file(rootdir+'ext_grid/', filename)[0]\n",
    "    logT_ext_grid[i] = log_temp\n",
    "    \n",
    "    # Get column densities for all species\n",
    "    species_names, log_col_dens_grid = read_col_file(rootdir+'ext_grid/', filename)\n",
    "    log_col_dens = log_col_dens_grid[0]\n",
    "\n",
    "    # For each species\n",
    "    for l in range(len(species_names)):\n",
    "\n",
    "        s = species_names[l]\n",
    "\n",
    "        if s not in species_logN_samples_ext.keys():\n",
    "            species_logN_samples_ext[s] = -99.*np.ones(len(grid_points_ext))\n",
    "            \n",
    "        # Check for converged logN(HI)\n",
    "        if np.round(log_col_dens[0],2) == logN_HI:\n",
    "            species_logN_samples_ext[s][i] = log_col_dens[l]"
   ]
  },
  {
   "cell_type": "markdown",
   "id": "fef22e83",
   "metadata": {},
   "source": [
    "Index the high temperature failures in the final grid, and fix them using the indices from the extraneous grid"
   ]
  },
  {
   "cell_type": "code",
   "execution_count": 37,
   "id": "a7bd73fa",
   "metadata": {},
   "outputs": [],
   "source": [
    "# For each species\n",
    "for l in range(len(species_logN_samples_final)):\n",
    "    \n",
    "    s = list(species_logN_samples_final.keys())[l]\n",
    "    \n",
    "    # Consider a high temperature failure\n",
    "    # These exactly grid_points_ext (excepting any extra column)\n",
    "    for f in range(len(high_temp_failures)):\n",
    "        \n",
    "        # Register the \"coordinates\" of the failed grid point\n",
    "        logN_HI = high_temp_failures[f][0]\n",
    "        log_hdens = high_temp_failures[f][1]\n",
    "        log_metals = high_temp_failures[f][2]\n",
    "        \n",
    "        # Get indices for the grid point in the main grid\n",
    "        idx_logN_HI_main = np.where(logN_HI_arr_main==logN_HI)[0]\n",
    "        idx_log_hdens_main = np.where(log_hdens_arr_main==log_hdens)[0]\n",
    "        idx_log_metals_main = np.where(log_metals_arr_main==log_metals)[0]\n",
    "        \n",
    "        # Set the temperature column density for the species in the final grid to that taken from the subgrid\n",
    "        logT_grid_final[idx_logN_HI_main, idx_log_hdens_main, idx_log_metals_main] = logT_ext_grid[f]\n",
    "        species_logN_samples_final[s][idx_logN_HI_main, idx_log_hdens_main, idx_log_metals_main] = species_logN_samples_ext[s][f]"
   ]
  },
  {
   "cell_type": "markdown",
   "id": "81effeaa",
   "metadata": {},
   "source": [
    "At this point, all final grid points should be fixed, a.k.a. have no \"99s\""
   ]
  },
  {
   "cell_type": "code",
   "execution_count": 38,
   "id": "2d857e1f",
   "metadata": {},
   "outputs": [
    {
     "data": {
      "text/plain": [
       "array([12.        , 12.25000014, 12.50000032, 12.74999975, 12.75000052,\n",
       "       12.99999913, 12.99999957, 13.        , 13.2499977 , 13.25000014,\n",
       "       13.49999895, 13.50000032, 13.74999666, 13.74999898, 13.74999975,\n",
       "       13.75000052, 13.99999913, 13.99999957, 14.        , 14.2499977 ,\n",
       "       14.25000014, 14.4999962 , 14.49999757, 14.49999895, 14.50000032,\n",
       "       14.7499982 , 14.74999898, 14.74999975, 14.75000052, 14.99999566,\n",
       "       14.99999783, 14.99999826, 14.9999987 , 14.99999913, 14.99999957,\n",
       "       15.        , 15.2499977 , 15.25000014, 15.25000259, 15.4999962 ,\n",
       "       15.49999757, 15.49999895, 15.50000032, 15.50000444, 15.50000581,\n",
       "       15.50000719, 15.74999589, 15.74999666, 15.74999743, 15.7499982 ,\n",
       "       15.74999898, 15.74999975, 15.75000052, 15.75000129, 15.75000207,\n",
       "       15.75000824, 15.75001288, 15.99999566, 15.99999609, 15.99999653,\n",
       "       15.99999696, 15.99999739, 15.99999783, 15.99999826, 15.9999987 ,\n",
       "       15.99999913, 15.99999957, 16.        , 16.00000434, 16.00000869,\n",
       "       16.0000608 , 16.24999526, 16.2499977 , 16.25000014, 16.25000747,\n",
       "       16.25000991, 16.2500148 , 16.25001968, 16.25005631, 16.49999757,\n",
       "       16.49999895, 16.50000032, 16.50000169, 16.50000307, 16.50000444,\n",
       "       16.50000581, 16.50000719, 16.50000856, 16.50000993, 16.50001131,\n",
       "       16.50001268, 16.50001405, 16.50001543, 16.5000168 , 16.50001817,\n",
       "       16.50001955, 16.50002092, 16.50002229, 16.50002367, 16.50002641,\n",
       "       16.50002916, 16.50003191, 16.50005113, 16.74999589, 16.74999666,\n",
       "       16.74999743, 16.7499982 , 16.74999898, 16.74999975, 16.75000052,\n",
       "       16.75000129, 16.75000207, 16.75000284, 16.75000361, 16.75000438,\n",
       "       16.75000515, 16.75000593, 16.7500067 , 16.75000747, 16.75000824,\n",
       "       16.75000902, 16.75000979, 16.75001056, 16.75001133, 16.75001288,\n",
       "       16.75001442, 16.75001519, 16.75001597, 16.75001674, 16.75001983,\n",
       "       16.7500206 , 16.99628921, 16.99999957, 17.        , 17.00000434,\n",
       "       17.00000869, 17.00001303, 17.00001737, 17.00002606])"
      ]
     },
     "execution_count": 38,
     "metadata": {},
     "output_type": "execute_result"
    }
   ],
   "source": [
    "np.unique(species_logN_samples_final['#column density H'])"
   ]
  },
  {
   "cell_type": "code",
   "execution_count": 39,
   "id": "be5eaf79",
   "metadata": {},
   "outputs": [
    {
     "data": {
      "text/plain": [
       "array([ True,  True,  True,  True,  True,  True,  True,  True,  True,\n",
       "        True,  True,  True,  True,  True,  True,  True,  True,  True,\n",
       "        True,  True,  True])"
      ]
     },
     "execution_count": 39,
     "metadata": {},
     "output_type": "execute_result"
    }
   ],
   "source": [
    "np.unique(np.round(species_logN_samples_final['#column density H'], 2)) == logN_HI_arr_main"
   ]
  },
  {
   "cell_type": "markdown",
   "id": "e11a800d",
   "metadata": {},
   "source": [
    "Save the final column density grid"
   ]
  },
  {
   "cell_type": "code",
   "execution_count": 40,
   "id": "52717a74",
   "metadata": {},
   "outputs": [],
   "source": [
    "output = open(rootdir+'final_grid.pkl', 'wb')\n",
    "pickle.dump(species_logN_samples_final, output)\n",
    "output.close()"
   ]
  },
  {
   "cell_type": "markdown",
   "id": "358e9eaa",
   "metadata": {},
   "source": [
    "Save the flattened temperature grid - will have to be reshaped upon loading"
   ]
  },
  {
   "cell_type": "code",
   "execution_count": 41,
   "id": "60886832",
   "metadata": {},
   "outputs": [],
   "source": [
    "np.savetxt(rootdir+'final_flat_logT.dat', logT_grid_final.flatten())"
   ]
  },
  {
   "cell_type": "markdown",
   "id": "8f1c1084",
   "metadata": {},
   "source": [
    "Save ion fractions"
   ]
  },
  {
   "cell_type": "code",
   "execution_count": 42,
   "id": "104ab094",
   "metadata": {},
   "outputs": [],
   "source": [
    "species_fracs_samples_final = {s:np.zeros((len(logN_HI_arr_main),len(log_hdens_arr_main),len(log_metals_arr_main))) for s in species_names_ions}"
   ]
  },
  {
   "cell_type": "code",
   "execution_count": 43,
   "id": "339a764d",
   "metadata": {},
   "outputs": [],
   "source": [
    "# H fractions\n",
    "N_H_grid_final = 10**species_logN_samples_final['#column density H']+10**species_logN_samples_final['H+']\n",
    "species_fracs_samples_final['#column density H'] = 10**species_logN_samples_final['#column density H']/N_H_grid_final\n",
    "species_fracs_samples_final['H+'] = 10**species_logN_samples_final['H+']/N_H_grid_final"
   ]
  },
  {
   "cell_type": "code",
   "execution_count": 44,
   "id": "d3b5f8e3",
   "metadata": {},
   "outputs": [],
   "source": [
    "N_He_grid_final = 10**species_logN_samples_final['He']+10**species_logN_samples_final['He+']+10**species_logN_samples_final['He+2']\n",
    "species_fracs_samples_final['He'] = 10**species_logN_samples_final['He']/N_He_grid_final\n",
    "species_fracs_samples_final['He+'] = 10**species_logN_samples_final['He+']/N_He_grid_final\n",
    "species_fracs_samples_final['He+2'] = 10**species_logN_samples_final['He+2']/N_He_grid_final"
   ]
  },
  {
   "cell_type": "code",
   "execution_count": 45,
   "id": "2e36d5b5",
   "metadata": {},
   "outputs": [],
   "source": [
    "# Grid of metallicities\n",
    "\n",
    "log_metals_grid_final = np.zeros((len(logN_HI_arr_main),len(log_hdens_arr_main),len(log_metals_arr_main)))\n",
    "\n",
    "for i in range(len(logN_HI_arr_main)):\n",
    "    for j in range(len(log_hdens_arr_main)):\n",
    "        log_metals_grid_final[i,j,:] = log_metals_arr_main\n",
    "        \n",
    "for i in range(5,len(species_names_ions)):\n",
    "    s = species_names_ions[i]\n",
    "    species_fracs_samples_final[s] = 10**species_logN_samples_final[s]/(N_H_grid_final*10**log_metals_grid_final)"
   ]
  },
  {
   "cell_type": "code",
   "execution_count": 46,
   "id": "de449a77",
   "metadata": {},
   "outputs": [
    {
     "name": "stderr",
     "output_type": "stream",
     "text": [
      "/var/folders/tj/vc_wjrpj36sf3zws4s7s770c0000gn/T/ipykernel_14413/2521897642.py:1: RuntimeWarning: divide by zero encountered in log10\n",
      "  species_logf_samples_final = {s:np.log10(species_fracs_samples_final[s]) for s in list(species_fracs_samples_final.keys())}\n"
     ]
    }
   ],
   "source": [
    "species_logf_samples_final = {s:np.log10(species_fracs_samples_final[s]) for s in list(species_fracs_samples_final.keys())}"
   ]
  },
  {
   "cell_type": "code",
   "execution_count": 47,
   "id": "7153dd9e",
   "metadata": {},
   "outputs": [],
   "source": [
    "output = open(rootdir+'final_grid_logf.pkl', 'wb')\n",
    "pickle.dump(species_logf_samples_final, output)\n",
    "output.close()"
   ]
  },
  {
   "cell_type": "code",
   "execution_count": 50,
   "id": "96304c51",
   "metadata": {},
   "outputs": [],
   "source": [
    "#species_logf_samples_final['C+3']"
   ]
  },
  {
   "cell_type": "code",
   "execution_count": null,
   "id": "f4369863",
   "metadata": {},
   "outputs": [],
   "source": []
  }
 ],
 "metadata": {
  "kernelspec": {
   "display_name": "Python 3 (ipykernel)",
   "language": "python",
   "name": "python3"
  },
  "language_info": {
   "codemirror_mode": {
    "name": "ipython",
    "version": 3
   },
   "file_extension": ".py",
   "mimetype": "text/x-python",
   "name": "python",
   "nbconvert_exporter": "python",
   "pygments_lexer": "ipython3",
   "version": "3.9.13"
  }
 },
 "nbformat": 4,
 "nbformat_minor": 5
}
