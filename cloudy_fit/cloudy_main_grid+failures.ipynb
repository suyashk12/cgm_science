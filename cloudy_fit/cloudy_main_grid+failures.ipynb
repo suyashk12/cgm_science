{
 "cells": [
  {
   "cell_type": "code",
   "execution_count": 1,
   "id": "d5e6ba59",
   "metadata": {},
   "outputs": [],
   "source": [
    "import numpy as np\n",
    "from astropy.table import Table\n",
    "import matplotlib.pyplot as plt\n",
    "import pandas as pd\n",
    "from cloudy_fit_lib import *\n",
    "from scipy.interpolate import RegularGridInterpolator\n",
    "import pickle"
   ]
  },
  {
   "cell_type": "code",
   "execution_count": 2,
   "id": "04ca7126",
   "metadata": {},
   "outputs": [],
   "source": [
    "plt.style.use('/Users/thepoetoftwilight/Documents/Astro/Code/science.mplstyle')"
   ]
  },
  {
   "cell_type": "code",
   "execution_count": 3,
   "id": "def6ee5a",
   "metadata": {},
   "outputs": [],
   "source": [
    "rootdir = '/Users/thepoetoftwilight/Documents/Astro/Data/PG1522+101/cloudy_grids/main_grid/'"
   ]
  },
  {
   "cell_type": "markdown",
   "id": "c4d3e21c",
   "metadata": {},
   "source": [
    "Obtain the UVB grid from FG20"
   ]
  },
  {
   "cell_type": "code",
   "execution_count": 4,
   "id": "4bbe345f",
   "metadata": {},
   "outputs": [],
   "source": [
    "fg20_z_grid, fg20_wav_grid, fg20_J_nu_grid = read_uvb('', 'fg20_galaxy.ascii')"
   ]
  },
  {
   "cell_type": "markdown",
   "id": "7e4ee0d9",
   "metadata": {},
   "source": [
    "Fetch the SED at $z=1$"
   ]
  },
  {
   "cell_type": "code",
   "execution_count": 5,
   "id": "67656ac2",
   "metadata": {},
   "outputs": [],
   "source": [
    "z_test = 1"
   ]
  },
  {
   "cell_type": "code",
   "execution_count": 6,
   "id": "fc401ceb",
   "metadata": {},
   "outputs": [],
   "source": [
    "fg20_J_nu_test = fetch_sed(z_test, fg20_z_grid, fg20_J_nu_grid)"
   ]
  },
  {
   "cell_type": "markdown",
   "id": "59a33069",
   "metadata": {},
   "source": [
    "Specify $N_{\\mathrm{HI}}$ grid points and get corresponding filenames"
   ]
  },
  {
   "cell_type": "code",
   "execution_count": 7,
   "id": "be3c525d",
   "metadata": {},
   "outputs": [],
   "source": [
    "logN_HI_min = 12\n",
    "logN_HI_max = 17\n",
    "logN_HI_step = 0.25\n",
    "\n",
    "logN_HI_arr = np.arange(logN_HI_min, logN_HI_max+logN_HI_step, logN_HI_step)"
   ]
  },
  {
   "cell_type": "code",
   "execution_count": 8,
   "id": "d80fbd1c",
   "metadata": {},
   "outputs": [],
   "source": [
    "file_list = create_grid_file_list(logN_HI_arr)"
   ]
  },
  {
   "cell_type": "markdown",
   "id": "07c06c16",
   "metadata": {},
   "source": [
    "Specify grid points for densities and metallicities"
   ]
  },
  {
   "cell_type": "code",
   "execution_count": 9,
   "id": "ce0735b3",
   "metadata": {},
   "outputs": [],
   "source": [
    "log_hdens_min = -5\n",
    "log_hdens_max = 1\n",
    "log_hdens_step = 0.25\n",
    "\n",
    "log_hdens_arr = np.arange(log_hdens_min, log_hdens_max+log_hdens_step, log_hdens_step)"
   ]
  },
  {
   "cell_type": "code",
   "execution_count": 10,
   "id": "4541a0ff",
   "metadata": {},
   "outputs": [],
   "source": [
    "log_metals_min = -3\n",
    "log_metals_max = 1\n",
    "log_metals_step = 0.25\n",
    "\n",
    "log_metals_arr = np.arange(log_metals_min, log_metals_max+log_metals_step, log_metals_step)"
   ]
  },
  {
   "cell_type": "code",
   "execution_count": 11,
   "id": "97ef3470",
   "metadata": {},
   "outputs": [
    {
     "data": {
      "text/plain": [
       "8925"
      ]
     },
     "execution_count": 11,
     "metadata": {},
     "output_type": "execute_result"
    }
   ],
   "source": [
    "# Total number of grid points\n",
    "len(logN_HI_arr)*len(log_hdens_arr)*len(log_metals_arr)"
   ]
  },
  {
   "cell_type": "markdown",
   "id": "d5ed97cc",
   "metadata": {},
   "source": [
    "Process the grid to identify \"failures\""
   ]
  },
  {
   "cell_type": "code",
   "execution_count": 12,
   "id": "659b445d",
   "metadata": {},
   "outputs": [],
   "source": [
    "log_T_pie_thresh = 4"
   ]
  },
  {
   "cell_type": "code",
   "execution_count": 13,
   "id": "53323dea",
   "metadata": {},
   "outputs": [],
   "source": [
    "# Bifurcate failures based on stopping temperature\n",
    "low_temp_failures = []\n",
    "high_temp_failures = []"
   ]
  },
  {
   "cell_type": "code",
   "execution_count": 14,
   "id": "aff23e1f",
   "metadata": {
    "scrolled": false
   },
   "outputs": [
    {
     "name": "stderr",
     "output_type": "stream",
     "text": [
      "/Users/thepoetoftwilight/Documents/Astro/Code/PG1522+101/cloudy_fit/cloudy_fit_lib.py:434: RuntimeWarning: divide by zero encountered in log10\n",
      "  log_col_dens = np.log10(np.array(col_lines_split[1::2], dtype=float))\n",
      "/Users/thepoetoftwilight/Documents/Astro/Code/PG1522+101/cloudy_fit/cloudy_fit_lib.py:434: RuntimeWarning: divide by zero encountered in log10\n",
      "  log_col_dens = np.log10(np.array(col_lines_split[1::2], dtype=float))\n",
      "/Users/thepoetoftwilight/Documents/Astro/Code/PG1522+101/cloudy_fit/cloudy_fit_lib.py:434: RuntimeWarning: divide by zero encountered in log10\n",
      "  log_col_dens = np.log10(np.array(col_lines_split[1::2], dtype=float))\n",
      "/Users/thepoetoftwilight/Documents/Astro/Code/PG1522+101/cloudy_fit/cloudy_fit_lib.py:434: RuntimeWarning: divide by zero encountered in log10\n",
      "  log_col_dens = np.log10(np.array(col_lines_split[1::2], dtype=float))\n",
      "/Users/thepoetoftwilight/Documents/Astro/Code/PG1522+101/cloudy_fit/cloudy_fit_lib.py:434: RuntimeWarning: divide by zero encountered in log10\n",
      "  log_col_dens = np.log10(np.array(col_lines_split[1::2], dtype=float))\n",
      "/Users/thepoetoftwilight/Documents/Astro/Code/PG1522+101/cloudy_fit/cloudy_fit_lib.py:434: RuntimeWarning: divide by zero encountered in log10\n",
      "  log_col_dens = np.log10(np.array(col_lines_split[1::2], dtype=float))\n",
      "/Users/thepoetoftwilight/Documents/Astro/Code/PG1522+101/cloudy_fit/cloudy_fit_lib.py:434: RuntimeWarning: divide by zero encountered in log10\n",
      "  log_col_dens = np.log10(np.array(col_lines_split[1::2], dtype=float))\n",
      "/Users/thepoetoftwilight/Documents/Astro/Code/PG1522+101/cloudy_fit/cloudy_fit_lib.py:434: RuntimeWarning: divide by zero encountered in log10\n",
      "  log_col_dens = np.log10(np.array(col_lines_split[1::2], dtype=float))\n",
      "/Users/thepoetoftwilight/Documents/Astro/Code/PG1522+101/cloudy_fit/cloudy_fit_lib.py:434: RuntimeWarning: divide by zero encountered in log10\n",
      "  log_col_dens = np.log10(np.array(col_lines_split[1::2], dtype=float))\n",
      "/Users/thepoetoftwilight/Documents/Astro/Code/PG1522+101/cloudy_fit/cloudy_fit_lib.py:434: RuntimeWarning: divide by zero encountered in log10\n",
      "  log_col_dens = np.log10(np.array(col_lines_split[1::2], dtype=float))\n",
      "/Users/thepoetoftwilight/Documents/Astro/Code/PG1522+101/cloudy_fit/cloudy_fit_lib.py:434: RuntimeWarning: divide by zero encountered in log10\n",
      "  log_col_dens = np.log10(np.array(col_lines_split[1::2], dtype=float))\n",
      "/Users/thepoetoftwilight/Documents/Astro/Code/PG1522+101/cloudy_fit/cloudy_fit_lib.py:434: RuntimeWarning: divide by zero encountered in log10\n",
      "  log_col_dens = np.log10(np.array(col_lines_split[1::2], dtype=float))\n",
      "/Users/thepoetoftwilight/Documents/Astro/Code/PG1522+101/cloudy_fit/cloudy_fit_lib.py:434: RuntimeWarning: divide by zero encountered in log10\n",
      "  log_col_dens = np.log10(np.array(col_lines_split[1::2], dtype=float))\n",
      "/Users/thepoetoftwilight/Documents/Astro/Code/PG1522+101/cloudy_fit/cloudy_fit_lib.py:434: RuntimeWarning: divide by zero encountered in log10\n",
      "  log_col_dens = np.log10(np.array(col_lines_split[1::2], dtype=float))\n",
      "/Users/thepoetoftwilight/Documents/Astro/Code/PG1522+101/cloudy_fit/cloudy_fit_lib.py:434: RuntimeWarning: divide by zero encountered in log10\n",
      "  log_col_dens = np.log10(np.array(col_lines_split[1::2], dtype=float))\n",
      "/Users/thepoetoftwilight/Documents/Astro/Code/PG1522+101/cloudy_fit/cloudy_fit_lib.py:434: RuntimeWarning: divide by zero encountered in log10\n",
      "  log_col_dens = np.log10(np.array(col_lines_split[1::2], dtype=float))\n",
      "/Users/thepoetoftwilight/Documents/Astro/Code/PG1522+101/cloudy_fit/cloudy_fit_lib.py:434: RuntimeWarning: divide by zero encountered in log10\n",
      "  log_col_dens = np.log10(np.array(col_lines_split[1::2], dtype=float))\n",
      "/Users/thepoetoftwilight/Documents/Astro/Code/PG1522+101/cloudy_fit/cloudy_fit_lib.py:434: RuntimeWarning: divide by zero encountered in log10\n",
      "  log_col_dens = np.log10(np.array(col_lines_split[1::2], dtype=float))\n",
      "/Users/thepoetoftwilight/Documents/Astro/Code/PG1522+101/cloudy_fit/cloudy_fit_lib.py:434: RuntimeWarning: divide by zero encountered in log10\n",
      "  log_col_dens = np.log10(np.array(col_lines_split[1::2], dtype=float))\n",
      "/Users/thepoetoftwilight/Documents/Astro/Code/PG1522+101/cloudy_fit/cloudy_fit_lib.py:434: RuntimeWarning: divide by zero encountered in log10\n",
      "  log_col_dens = np.log10(np.array(col_lines_split[1::2], dtype=float))\n",
      "/Users/thepoetoftwilight/Documents/Astro/Code/PG1522+101/cloudy_fit/cloudy_fit_lib.py:434: RuntimeWarning: divide by zero encountered in log10\n",
      "  log_col_dens = np.log10(np.array(col_lines_split[1::2], dtype=float))\n"
     ]
    }
   ],
   "source": [
    "for i in range(len(logN_HI_arr)):\n",
    "    \n",
    "    logN_HI = logN_HI_arr[i]\n",
    "    \n",
    "    # The filename corresponding to the current stopping HI column density\n",
    "    filename = file_list[i]\n",
    "    \n",
    "    # Get list of densities and metallicities for this stopping HI column density \n",
    "    log_hdens_grid, log_metals_grid = read_grd_file(rootdir, filename)\n",
    "    \n",
    "    # Get average (log) HI temperatures for all grid points\n",
    "    log_temps_grid = read_avr_file(rootdir, filename)\n",
    "    \n",
    "    # Get column densities for all species\n",
    "    species_names, log_col_dens_grid = read_col_file(rootdir, filename)\n",
    "    \n",
    "    for j in range(len(log_hdens_arr)):\n",
    "        \n",
    "        log_hdens = log_hdens_arr[j]\n",
    "        \n",
    "        for k in range(len(log_metals_arr)):\n",
    "            \n",
    "            log_metals = log_metals_arr[k]\n",
    "            \n",
    "            # Get grid index number for the current n_H and metallicity\n",
    "            idx = np.intersect1d(np.where(log_hdens_grid==log_hdens)[0], np.where(log_metals_grid==log_metals)[0])[0]\n",
    "            \n",
    "            # Isolate the average temperature and column density for all species\n",
    "            log_temp = log_temps_grid[idx]\n",
    "            log_col_dens = log_col_dens_grid[idx]\n",
    "            \n",
    "            # Check if this grid point is a failure\n",
    "            if np.round(log_col_dens[0],2) != logN_HI:\n",
    "                # Categorize based on temperature\n",
    "                if log_temp<log_T_pie_thresh:\n",
    "                    low_temp_failures.append([logN_HI, log_hdens, log_metals, log_temp, log_col_dens[0]])\n",
    "                else:\n",
    "                    high_temp_failures.append([logN_HI, log_hdens, log_metals, log_temp, log_col_dens[0]])"
   ]
  },
  {
   "cell_type": "code",
   "execution_count": 15,
   "id": "728e11b8",
   "metadata": {},
   "outputs": [],
   "source": [
    "low_temp_failures = np.array(low_temp_failures)\n",
    "high_temp_failures = np.array(high_temp_failures)"
   ]
  },
  {
   "cell_type": "code",
   "execution_count": 16,
   "id": "51070c80",
   "metadata": {},
   "outputs": [
    {
     "data": {
      "text/plain": [
       "1547"
      ]
     },
     "execution_count": 16,
     "metadata": {},
     "output_type": "execute_result"
    }
   ],
   "source": [
    "len(low_temp_failures)"
   ]
  },
  {
   "cell_type": "code",
   "execution_count": 17,
   "id": "4545f403",
   "metadata": {},
   "outputs": [
    {
     "data": {
      "text/plain": [
       "25"
      ]
     },
     "execution_count": 17,
     "metadata": {},
     "output_type": "execute_result"
    }
   ],
   "source": [
    "len(high_temp_failures)"
   ]
  },
  {
   "cell_type": "code",
   "execution_count": 18,
   "id": "2d45176c",
   "metadata": {},
   "outputs": [
    {
     "data": {
      "image/png": "[encoded data removed]",
      "text/plain": [
       "<Figure size 2700x900 with 22 Axes>"
      ]
     },
     "metadata": {},
     "output_type": "display_data"
    }
   ],
   "source": [
    "fig, axes = plt.subplots(3, 7, figsize=(27, 9), sharex=True, sharey=True)\n",
    "\n",
    "for i in range(len(np.unique(low_temp_failures[:,0]))):\n",
    "    \n",
    "    row = i//7\n",
    "    col = i%7\n",
    "    \n",
    "    ax = axes[row, col]\n",
    "    \n",
    "    logN_HI_stop = np.unique(low_temp_failures[:,0])[i]\n",
    "    \n",
    "    idx = (low_temp_failures[:,0] == logN_HI_stop)\n",
    "    ax.scatter(low_temp_failures[idx][:,1], low_temp_failures[idx][:,2], color='deepskyblue')\n",
    "    \n",
    "    idx_hi = (high_temp_failures[:,0] == logN_HI_stop)\n",
    "    \n",
    "    if np.sum(idx_hi)!=0:\n",
    "        ax.scatter(high_temp_failures[idx_hi][:,1], high_temp_failures[idx_hi][:,2], color='orchid')\n",
    "    \n",
    "    ax.text(x=-4, y=-.1, s=r'$\\log (N_{\\mathrm{HI}}/\\mathrm{cm}^{-2}) = $'+'{}'.format(logN_HI_stop))\n",
    "    \n",
    "ax_label = fig.add_subplot(111, frameon=False)\n",
    "plt.tick_params(labelcolor='none', top='off', bottom='off', left='off', right='off')\n",
    "\n",
    "ax_label.set_xlabel(r'$\\log (n_H/\\mathrm{cm}^{-3})$')\n",
    "ax_label.set_ylabel(r'$\\mathrm{[M/H]}$')\n",
    "\n",
    "plt.subplots_adjust(wspace=0, hspace=0) "
   ]
  },
  {
   "cell_type": "code",
   "execution_count": 19,
   "id": "4e2b9a1d",
   "metadata": {},
   "outputs": [
    {
     "data": {
      "text/plain": [
       "(array([12.  , 12.25, 12.5 , 12.75, 13.  , 13.25, 13.5 , 13.75, 14.  ,\n",
       "        14.25, 14.5 , 14.75, 15.  , 15.25, 15.5 , 15.75, 16.  , 16.25,\n",
       "        16.5 , 16.75, 17.  ]),\n",
       " array([-4.25, -4.  , -3.75, -3.5 , -3.25, -3.  , -2.75, -2.5 , -2.25,\n",
       "        -2.  , -1.75, -1.5 , -1.25, -1.  , -0.75, -0.5 , -0.25,  0.  ,\n",
       "         0.25,  0.5 ,  0.75,  1.  ]),\n",
       " array([-0.25,  0.  ,  0.25,  0.5 ,  0.75,  1.  ]))"
      ]
     },
     "execution_count": 19,
     "metadata": {},
     "output_type": "execute_result"
    }
   ],
   "source": [
    "np.unique(low_temp_failures[:,0]), np.unique(low_temp_failures[:,1]), np.unique(low_temp_failures[:,2])"
   ]
  },
  {
   "cell_type": "code",
   "execution_count": 20,
   "id": "92829db0",
   "metadata": {},
   "outputs": [
    {
     "data": {
      "text/plain": [
       "array([[16.  , -4.25,  1.  ],\n",
       "       [16.25, -5.  ,  1.  ],\n",
       "       [16.25, -4.75,  1.  ],\n",
       "       [16.25, -4.5 ,  1.  ],\n",
       "       [16.25, -4.25,  1.  ],\n",
       "       [16.5 , -5.  ,  0.75],\n",
       "       [16.5 , -5.  ,  1.  ],\n",
       "       [16.5 , -4.75,  0.75],\n",
       "       [16.5 , -4.75,  1.  ],\n",
       "       [16.5 , -4.5 ,  1.  ],\n",
       "       [16.5 , -4.25,  1.  ],\n",
       "       [16.75, -5.  ,  0.75],\n",
       "       [16.75, -5.  ,  1.  ],\n",
       "       [16.75, -4.75,  0.75],\n",
       "       [16.75, -4.75,  1.  ],\n",
       "       [16.75, -4.5 ,  0.75],\n",
       "       [16.75, -4.5 ,  1.  ],\n",
       "       [16.75, -4.25,  1.  ],\n",
       "       [17.  , -5.  ,  0.75],\n",
       "       [17.  , -5.  ,  1.  ],\n",
       "       [17.  , -4.75,  0.75],\n",
       "       [17.  , -4.75,  1.  ],\n",
       "       [17.  , -4.5 ,  0.75],\n",
       "       [17.  , -4.5 ,  1.  ],\n",
       "       [17.  , -4.25,  1.  ]])"
      ]
     },
     "execution_count": 20,
     "metadata": {},
     "output_type": "execute_result"
    }
   ],
   "source": [
    "high_temp_failures[:,[0,1,2]]"
   ]
  },
  {
   "cell_type": "code",
   "execution_count": 21,
   "id": "c768bca5",
   "metadata": {},
   "outputs": [],
   "source": [
    "# Stopping messages for high-temperature failures taken from the CLOUDY output files\n",
    "\n",
    "high_temp_stop_messages = ['1.18e+04. Calculation stopped because lowest Te reached. Iteration 3 of 3. The ratio of radiation to gas pressure reached 2.67e-01 at zone 54.  Caused by Lyman alpha. Cloud thicker than smallest Jeans length=3.92e+23cm; stability problems? (smallest Jeans mass=2.37e+09Mo)',\n",
    "'2.62e+04. Calculation stopped because lowest Te reached. Iteration 3 of 3. The ratio of radiation to gas pressure reached 6.28e-01 at zone 94.  Caused by Lyman alpha. An ionization jump occurred elem He 2, by 199% from 4.12e-03 (zone 92) to 4.32e-03 (zone 93) to 8.58e-03 (zone 94). Cloud thicker than smallest Jeans length=6.22e+23cm; stability problems? (smallest Jeans mass=2.98e+09Mo)',\n",
    "'2.15e+04. Calculation stopped because lowest Te reached. Iteration 3 of 3. The ratio of radiation to gas pressure reached 5.93e-01 at zone 73.  Caused by Lyman alpha. An ionization jump occurred elem He 2, by 152% from 8.90e-03 (zone 71) to 9.26e-03 (zone 72) to 1.41e-02 (zone 73). Cloud thicker than smallest Jeans length=6.22e+23cm; stability problems? (smallest Jeans mass=2.98e+09Mo)',\n",
    "'1.73e+04. Calculation stopped because lowest Te reached. Iteration 3 of 3. The ratio of radiation to gas pressure reached 3.53e-01 at zone 63.  Caused by Lyman alpha. Cloud thicker than smallest Jeans length=5.23e+23cm; stability problems? (smallest Jeans mass=3.15e+09Mo)',\n",
    "'1.18e+04. Calculation stopped because lowest Te reached. Iteration 3 of 3. The ratio of radiation to gas pressure reached 2.67e-01 at zone 54.  Caused by Lyman alpha. Cloud thicker than smallest Jeans length=3.92e+23cm; stability problems? (smallest Jeans mass=2.37e+09Mo)',\n",
    "'2.65e+04. Calculation stopped because lowest Te reached. Iteration 3 of 3. The ratio of radiation to gas pressure reached 6.78e-01 at zone 90.  Caused by Lyman alpha. Cloud thicker than smallest Jeans length=9.71e+23cm; stability problems? (smallest Jeans mass=6.06e+09Mo)',\n",
    "'2.62e+04. Calculation stopped because lowest Te reached. Iteration 3 of 3. The ratio of radiation to gas pressure reached 6.28e-01 at zone 94.  Caused by Lyman alpha. An ionization jump occurred elem He 2, by 198% from 4.12e-03 (zone 92) to 4.32e-03 (zone 93) to 8.57e-03 (zone 94). Cloud thicker than smallest Jeans length=7.40e+23cm; stability problems? (smallest Jeans mass=2.82e+09Mo)',\n",
    "'2.13e+04. Calculation stopped because lowest Te reached. Iteration 3 of 3. The ratio of radiation to gas pressure reached 4.88e-01 at zone 85.  Caused by Lyman alpha. Cloud thicker than smallest Jeans length=7.33e+23cm; stability problems? (smallest Jeans mass=4.64e+09Mo)',\n",
    "'2.15e+04. Calculation stopped because lowest Te reached. Iteration 3 of 3. The ratio of radiation to gas pressure reached 5.93e-01 at zone 73.  Caused by Lyman alpha. An ionization jump occurred elem He 2, by 152% from 8.90e-03 (zone 71) to 9.26e-03 (zone 72) to 1.41e-02 (zone 73). Cloud thicker than smallest Jeans length=6.22e+23cm; stability problems? (smallest Jeans mass=2.98e+09Mo)',\n",
    "'1.73e+04. Calculation stopped because lowest Te reached. Iteration 3 of 3. The ratio of radiation to gas pressure reached 3.53e-01 at zone 63.  Caused by Lyman alpha. Cloud thicker than smallest Jeans length=5.23e+23cm; stability problems? (smallest Jeans mass=3.15e+09Mo)',\n",
    "'1.17e+04. Calculation stopped because lowest Te reached. Iteration 3 of 3. The ratio of radiation to gas pressure reached 2.75e-01 at zone 54.  Caused by Lyman alpha. Cloud thicker than smallest Jeans length=3.90e+23cm; stability problems? (smallest Jeans mass=2.32e+09Mo)',\n",
    "'2.65e+04. Calculation stopped because lowest Te reached. Iteration 3 of 3. The ratio of radiation to gas pressure reached 6.78e-01 at zone 90.  Caused by Lyman alpha. Cloud thicker than smallest Jeans length=9.71e+23cm; stability problems? (smallest Jeans mass=6.06e+09Mo)',                          \n",
    "'2.62e+04. Calculation stopped because lowest Te reached. Iteration 3 of 3. The excitation temp of Lya exceeded the electron temp, largest value was 2.78e+03K (gas temp there was 2.51e+03K, zone 94). The ratio of radiation to gas pressure reached 6.28e-01 at zone 94.  Caused by Lyman alpha. An ionization jump occurred elem He 2, by 198% from 4.12e-03 (zone 92) to 4.32e-03 (zone 93) to 8.57e-03 (zone 94). Cloud thicker than smallest Jeans length=7.40e+23cm; stability problems? (smallest Jeans mass=2.82e+09Mo)',\n",
    "'2.13e+04. Calculation stopped because lowest Te reached. Iteration 3 of 3. The ratio of radiation to gas pressure reached 4.88e-01 at zone 85.  Caused by Lyman alpha. Cloud thicker than smallest Jeans length=7.33e+23cm; stability problems? (smallest Jeans mass=4.64e+09Mo).',                           \n",
    "'2.15e+04. Calculation stopped because lowest Te reached. Iteration 3 of 3. The ratio of radiation to gas pressure reached 5.93e-01 at zone 73.  Caused by Lyman alpha. An ionization jump occurred elem He 2, by 152% from 8.90e-03 (zone 71) to 9.26e-03 (zone 72) to 1.40e-02 (zone 73). Cloud thicker than smallest Jeans length=6.22e+23cm; stability problems? (smallest Jeans mass=2.98e+09Mo)',\n",
    "'1.31e+04. Calculation stopped because lowest Te reached. Iteration 3 of 3. The ratio of radiation to gas pressure reached 4.44e-01 at zone 103.  Caused by Lyman alpha. Cloud thicker than smallest Jeans length=5.32e+23cm; stability problems? (smallest Jeans mass=3.16e+09Mo)',                           \n",
    "'1.73e+04. Calculation stopped because lowest Te reached. Iteration 3 of 3. The ratio of radiation to gas pressure reached 3.53e-01 at zone 63.  Caused by Lyman alpha. Cloud thicker than smallest Jeans length=5.23e+23cm; stability problems? (smallest Jeans mass=3.15e+09Mo)', \n",
    "'1.18e+04. Calculation stopped because lowest Te reached. Iteration 3 of 3. The ratio of radiation to gas pressure reached 2.67e-01 at zone 54.  Caused by Lyman alpha. Cloud thicker than smallest Jeans length=3.92e+23cm; stability problems? (smallest Jeans mass=2.37e+09Mo)',                                                   \n",
    "'2.65e+04. Calculation stopped because lowest Te reached. Iteration 3 of 3. The ratio of radiation to gas pressure reached 6.78e-01 at zone 90.  Caused by Lyman alpha. Cloud thicker than smallest Jeans length=9.71e+23cm; stability problems? (smallest Jeans mass=6.06e+09Mo)',\n",
    "'2.62e+04. Calculation stopped because lowest Te reached. Iteration 3 of 3. The excitation temp of Lya exceeded the electron temp, largest value was 2.78e+03K (gas temp there was 2.51e+03K, zone 94). The ratio of radiation to gas pressure reached 6.28e-01 at zone 94.  Caused by Lyman alpha. An ionization jump occurred elem He 2, by 198% from 4.12e-03 (zone 92) to 4.32e-03 (zone 93) to 8.57e-03 (zone 94). Cloud thicker than smallest Jeans length=7.40e+23cm; stability problems? (smallest Jeans mass=2.82e+09Mo).',\n",
    "'2.13e+04. Calculation stopped because lowest Te reached. Iteration 3 of 3. The radiation pressure jumped by 262% from 9.46e-19 (zone 4) to 2.23e-18 (zone 5) to 1.07e-17 (zone 6). Cloud thicker than smallest Jeans length=7.33e+23cm; stability problems? (smallest Jeans mass=4.64e+09Mo).',\n",
    "'2.15e+04. Calculation stopped because lowest Te reached. Iteration 3 of 3. The ratio of radiation to gas pressure reached 5.93e-01 at zone 73.  Caused by Lyman alpha. An ionization jump occurred elem He 2, by 152% from 8.90e-03 (zone 71) to 9.26e-03 (zone 72) to 1.40e-02 (zone 73). Cloud thicker than smallest Jeans length=6.22e+23cm; stability problems? (smallest Jeans mass=2.98e+09Mo)',\n",
    "'1.31e+04. Calculation stopped because lowest Te reached. Iteration 3 of 3. The ratio of radiation to gas pressure reached 4.43e-01 at zone 103.  Caused by Lyman alpha. Cloud thicker than smallest Jeans length=5.33e+23cm; stability problems? (smallest Jeans mass=3.16e+09Mo)',\n",
    "'1.73e+04. Calculation stopped because lowest Te reached. Iteration 3 of 3. The ratio of radiation to gas pressure reached 3.53e-01 at zone 63.  Caused by Lyman alpha. Cloud thicker than smallest Jeans length=5.23e+23cm; stability problems? (smallest Jeans mass=3.15e+09Mo)',\n",
    "'1.18e+04. Calculation stopped because lowest Te reached. Iteration 3 of 3. The ratio of radiation to gas pressure reached 2.67e-01 at zone 54.  Caused by Lyman alpha. Cloud thicker than smallest Jeans length=3.92e+23cm; stability problems? (smallest Jeans mass=2.37e+09Mo)']"
   ]
  },
  {
   "cell_type": "code",
   "execution_count": 22,
   "id": "61f05019",
   "metadata": {},
   "outputs": [
    {
     "data": {
      "text/plain": [
       "25"
      ]
     },
     "execution_count": 22,
     "metadata": {},
     "output_type": "execute_result"
    }
   ],
   "source": [
    "len(high_temp_stop_messages)"
   ]
  },
  {
   "cell_type": "code",
   "execution_count": 23,
   "id": "c2ae6d96",
   "metadata": {},
   "outputs": [
    {
     "data": {
      "text/plain": [
       "25"
      ]
     },
     "execution_count": 23,
     "metadata": {},
     "output_type": "execute_result"
    }
   ],
   "source": [
    "len(high_temp_failures)"
   ]
  },
  {
   "cell_type": "markdown",
   "id": "0e449f76",
   "metadata": {},
   "source": [
    "Despite failures, create the main grid and save it"
   ]
  },
  {
   "cell_type": "code",
   "execution_count": 24,
   "id": "5d084a06",
   "metadata": {},
   "outputs": [],
   "source": [
    "species_logN_samples = {}"
   ]
  },
  {
   "cell_type": "code",
   "execution_count": 25,
   "id": "f139423f",
   "metadata": {},
   "outputs": [
    {
     "name": "stderr",
     "output_type": "stream",
     "text": [
      "/Users/thepoetoftwilight/Documents/CUBS/Code/cloudy_fitting/cloudy_fit_lib.py:397: RuntimeWarning: divide by zero encountered in log10\n",
      "  log_col_dens = np.log10(np.array(col_lines_split[1::2], dtype=float))\n",
      "/Users/thepoetoftwilight/Documents/CUBS/Code/cloudy_fitting/cloudy_fit_lib.py:397: RuntimeWarning: divide by zero encountered in log10\n",
      "  log_col_dens = np.log10(np.array(col_lines_split[1::2], dtype=float))\n",
      "/Users/thepoetoftwilight/Documents/CUBS/Code/cloudy_fitting/cloudy_fit_lib.py:397: RuntimeWarning: divide by zero encountered in log10\n",
      "  log_col_dens = np.log10(np.array(col_lines_split[1::2], dtype=float))\n",
      "/Users/thepoetoftwilight/Documents/CUBS/Code/cloudy_fitting/cloudy_fit_lib.py:397: RuntimeWarning: divide by zero encountered in log10\n",
      "  log_col_dens = np.log10(np.array(col_lines_split[1::2], dtype=float))\n",
      "/Users/thepoetoftwilight/Documents/CUBS/Code/cloudy_fitting/cloudy_fit_lib.py:397: RuntimeWarning: divide by zero encountered in log10\n",
      "  log_col_dens = np.log10(np.array(col_lines_split[1::2], dtype=float))\n",
      "/Users/thepoetoftwilight/Documents/CUBS/Code/cloudy_fitting/cloudy_fit_lib.py:397: RuntimeWarning: divide by zero encountered in log10\n",
      "  log_col_dens = np.log10(np.array(col_lines_split[1::2], dtype=float))\n",
      "/Users/thepoetoftwilight/Documents/CUBS/Code/cloudy_fitting/cloudy_fit_lib.py:397: RuntimeWarning: divide by zero encountered in log10\n",
      "  log_col_dens = np.log10(np.array(col_lines_split[1::2], dtype=float))\n",
      "/Users/thepoetoftwilight/Documents/CUBS/Code/cloudy_fitting/cloudy_fit_lib.py:397: RuntimeWarning: divide by zero encountered in log10\n",
      "  log_col_dens = np.log10(np.array(col_lines_split[1::2], dtype=float))\n",
      "/Users/thepoetoftwilight/Documents/CUBS/Code/cloudy_fitting/cloudy_fit_lib.py:397: RuntimeWarning: divide by zero encountered in log10\n",
      "  log_col_dens = np.log10(np.array(col_lines_split[1::2], dtype=float))\n",
      "/Users/thepoetoftwilight/Documents/CUBS/Code/cloudy_fitting/cloudy_fit_lib.py:397: RuntimeWarning: divide by zero encountered in log10\n",
      "  log_col_dens = np.log10(np.array(col_lines_split[1::2], dtype=float))\n",
      "/Users/thepoetoftwilight/Documents/CUBS/Code/cloudy_fitting/cloudy_fit_lib.py:397: RuntimeWarning: divide by zero encountered in log10\n",
      "  log_col_dens = np.log10(np.array(col_lines_split[1::2], dtype=float))\n",
      "/Users/thepoetoftwilight/Documents/CUBS/Code/cloudy_fitting/cloudy_fit_lib.py:397: RuntimeWarning: divide by zero encountered in log10\n",
      "  log_col_dens = np.log10(np.array(col_lines_split[1::2], dtype=float))\n",
      "/Users/thepoetoftwilight/Documents/CUBS/Code/cloudy_fitting/cloudy_fit_lib.py:397: RuntimeWarning: divide by zero encountered in log10\n",
      "  log_col_dens = np.log10(np.array(col_lines_split[1::2], dtype=float))\n",
      "/Users/thepoetoftwilight/Documents/CUBS/Code/cloudy_fitting/cloudy_fit_lib.py:397: RuntimeWarning: divide by zero encountered in log10\n",
      "  log_col_dens = np.log10(np.array(col_lines_split[1::2], dtype=float))\n",
      "/Users/thepoetoftwilight/Documents/CUBS/Code/cloudy_fitting/cloudy_fit_lib.py:397: RuntimeWarning: divide by zero encountered in log10\n",
      "  log_col_dens = np.log10(np.array(col_lines_split[1::2], dtype=float))\n",
      "/Users/thepoetoftwilight/Documents/CUBS/Code/cloudy_fitting/cloudy_fit_lib.py:397: RuntimeWarning: divide by zero encountered in log10\n",
      "  log_col_dens = np.log10(np.array(col_lines_split[1::2], dtype=float))\n",
      "/Users/thepoetoftwilight/Documents/CUBS/Code/cloudy_fitting/cloudy_fit_lib.py:397: RuntimeWarning: divide by zero encountered in log10\n",
      "  log_col_dens = np.log10(np.array(col_lines_split[1::2], dtype=float))\n",
      "/Users/thepoetoftwilight/Documents/CUBS/Code/cloudy_fitting/cloudy_fit_lib.py:397: RuntimeWarning: divide by zero encountered in log10\n",
      "  log_col_dens = np.log10(np.array(col_lines_split[1::2], dtype=float))\n",
      "/Users/thepoetoftwilight/Documents/CUBS/Code/cloudy_fitting/cloudy_fit_lib.py:397: RuntimeWarning: divide by zero encountered in log10\n",
      "  log_col_dens = np.log10(np.array(col_lines_split[1::2], dtype=float))\n",
      "/Users/thepoetoftwilight/Documents/CUBS/Code/cloudy_fitting/cloudy_fit_lib.py:397: RuntimeWarning: divide by zero encountered in log10\n",
      "  log_col_dens = np.log10(np.array(col_lines_split[1::2], dtype=float))\n",
      "/Users/thepoetoftwilight/Documents/CUBS/Code/cloudy_fitting/cloudy_fit_lib.py:397: RuntimeWarning: divide by zero encountered in log10\n",
      "  log_col_dens = np.log10(np.array(col_lines_split[1::2], dtype=float))\n"
     ]
    }
   ],
   "source": [
    "for i in range(len(logN_HI_arr)):\n",
    "    \n",
    "    logN_HI = logN_HI_arr[i]\n",
    "    \n",
    "    # The filename corresponding to the current stopping HI column density\n",
    "    filename = file_list[i]\n",
    "    \n",
    "    # Get list of densities and metallicities for this stopping HI column density \n",
    "    log_hdens_grid, log_metals_grid = read_grd_file(rootdir, filename)\n",
    "    \n",
    "    # Get average (log) HI temperatures for all grid points\n",
    "    log_temps_grid = read_avr_file(rootdir, filename)\n",
    "    \n",
    "    # Get column densities for all species\n",
    "    species_names, log_col_dens_grid = read_col_file(rootdir, filename)\n",
    "    \n",
    "    for j in range(len(log_hdens_arr)):\n",
    "        \n",
    "        log_hdens = log_hdens_arr[j]\n",
    "        \n",
    "        for k in range(len(log_metals_arr)):\n",
    "            \n",
    "            log_metals = log_metals_arr[k]\n",
    "            \n",
    "            # Get grid index number for the current n_H and metallicity\n",
    "            idx = np.intersect1d(np.where(log_hdens_grid==log_hdens)[0], np.where(log_metals_grid==log_metals)[0])[0]\n",
    "            \n",
    "            # Isolate the average temperature and column density for all species\n",
    "            log_temp = log_temps_grid[idx]\n",
    "            log_col_dens = log_col_dens_grid[idx]\n",
    "            \n",
    "            # For each species\n",
    "            for l in range(len(species_names)):\n",
    "                \n",
    "                s = species_names[l]\n",
    "                \n",
    "                if s not in species_logN_samples.keys():\n",
    "                    \n",
    "                    species_logN_samples[s] = -99.*np.ones((len(logN_HI_arr), \n",
    "                                                            len(log_hdens_arr),\n",
    "                                                            len(log_metals_arr)))\n",
    "                \n",
    "                # Check for photoionized gas and converged logN(HI)\n",
    "                if log_temp>log_T_pie_thresh and np.round(log_col_dens[0],2) == logN_HI:\n",
    "                    species_logN_samples[s][i,j,k] = log_col_dens[l]"
   ]
  },
  {
   "cell_type": "code",
   "execution_count": 26,
   "id": "1215feba",
   "metadata": {},
   "outputs": [],
   "source": [
    "# Save the main grid\n",
    "output = open('/Users/thepoetoftwilight/Documents/CUBS/Data/PG1522+101/cloudy_grids/main_grid/main_grid.pkl', 'wb')\n",
    "pickle.dump(species_logN_samples, output)\n",
    "output.close()"
   ]
  },
  {
   "cell_type": "code",
   "execution_count": null,
   "id": "fcfc7ee0",
   "metadata": {},
   "outputs": [],
   "source": []
  }
 ],
 "metadata": {
  "kernelspec": {
   "display_name": "Python 3 (ipykernel)",
   "language": "python",
   "name": "python3"
  },
  "language_info": {
   "codemirror_mode": {
    "name": "ipython",
    "version": 3
   },
   "file_extension": ".py",
   "mimetype": "text/x-python",
   "name": "python",
   "nbconvert_exporter": "python",
   "pygments_lexer": "ipython3",
   "version": "3.9.13"
  }
 },
 "nbformat": 4,
 "nbformat_minor": 5
}
