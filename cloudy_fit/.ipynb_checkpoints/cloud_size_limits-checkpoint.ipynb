{
 "cells": [
  {
   "cell_type": "code",
   "execution_count": 1,
   "id": "8f88b59a",
   "metadata": {},
   "outputs": [],
   "source": [
    "import numpy as np\n",
    "from astropy.table import Table\n",
    "import matplotlib.pyplot as plt\n",
    "import pandas as pd\n",
    "from cloudy_fit_lib import *\n",
    "from scipy.interpolate import RegularGridInterpolator\n",
    "import pickle\n",
    "import corner\n",
    "from scipy import integrate, interpolate\n",
    "import emcee\n",
    "from astropy import units,constants"
   ]
  },
  {
   "cell_type": "code",
   "execution_count": 2,
   "id": "04ca7126",
   "metadata": {},
   "outputs": [],
   "source": [
    "plt.style.use('/Users/thepoetoftwilight/Documents/CUBS/Code/science.mplstyle')"
   ]
  },
  {
   "cell_type": "code",
   "execution_count": 3,
   "id": "def6ee5a",
   "metadata": {},
   "outputs": [],
   "source": [
    "rootdir = '/Users/thepoetoftwilight/Documents/CUBS/Data/PG1522+101/cloudy_grids/'"
   ]
  },
  {
   "cell_type": "code",
   "execution_count": 4,
   "id": "3b6b6993",
   "metadata": {},
   "outputs": [],
   "source": [
    "savedir = '/Users/thepoetoftwilight/Documents/CUBS/Data/PG1522+101/Ions/z=0.67545705/cloudy_fits/'"
   ]
  },
  {
   "cell_type": "markdown",
   "id": "484a2847",
   "metadata": {},
   "source": [
    "Obtain the UVB grid from FG20"
   ]
  },
  {
   "cell_type": "code",
   "execution_count": 5,
   "id": "6c609d17",
   "metadata": {},
   "outputs": [],
   "source": [
    "fg20_z_grid, fg20_wav_grid, fg20_J_nu_grid = read_uvb('', 'fg20_galaxy.ascii')"
   ]
  },
  {
   "cell_type": "markdown",
   "id": "f689959f",
   "metadata": {},
   "source": [
    "Fetch the SED at $z=1$"
   ]
  },
  {
   "cell_type": "code",
   "execution_count": 6,
   "id": "67656ac2",
   "metadata": {},
   "outputs": [],
   "source": [
    "z_test = 1"
   ]
  },
  {
   "cell_type": "code",
   "execution_count": 7,
   "id": "fc401ceb",
   "metadata": {},
   "outputs": [],
   "source": [
    "fg20_J_nu_test = fetch_sed(z_test, fg20_z_grid, fg20_J_nu_grid)"
   ]
  },
  {
   "cell_type": "markdown",
   "id": "c3a3f997",
   "metadata": {},
   "source": [
    "Specify $N_{\\mathrm{HI}}$ grid points and get corresponding filenames"
   ]
  },
  {
   "cell_type": "code",
   "execution_count": 8,
   "id": "b53beb83",
   "metadata": {},
   "outputs": [],
   "source": [
    "logN_HI_min = 12\n",
    "logN_HI_max = 17\n",
    "logN_HI_step = 0.25\n",
    "\n",
    "logN_HI_arr = np.arange(logN_HI_min, logN_HI_max+logN_HI_step, logN_HI_step)"
   ]
  },
  {
   "cell_type": "code",
   "execution_count": 9,
   "id": "ecd70d08",
   "metadata": {},
   "outputs": [],
   "source": [
    "file_list = create_grid_file_list(logN_HI_arr)"
   ]
  },
  {
   "cell_type": "markdown",
   "id": "e36872ed",
   "metadata": {},
   "source": [
    "Specify grid points for densities and metallicities"
   ]
  },
  {
   "cell_type": "code",
   "execution_count": 10,
   "id": "3f0ae6c9",
   "metadata": {},
   "outputs": [],
   "source": [
    "log_hdens_min = -5\n",
    "log_hdens_max = 1\n",
    "log_hdens_step = 0.25\n",
    "\n",
    "log_hdens_arr = np.arange(log_hdens_min, log_hdens_max+log_hdens_step, log_hdens_step)\n",
    "logU_arr = np.log10(calc_U(fg20_wav_grid, fg20_J_nu_test, 10**log_hdens_arr))"
   ]
  },
  {
   "cell_type": "code",
   "execution_count": 11,
   "id": "52b5b0bc",
   "metadata": {},
   "outputs": [],
   "source": [
    "log_metals_min = -3\n",
    "log_metals_max = 1\n",
    "log_metals_step = 0.25\n",
    "\n",
    "log_metals_arr = np.arange(log_metals_min, log_metals_max+log_metals_step, log_metals_step)"
   ]
  },
  {
   "cell_type": "markdown",
   "id": "d9f07fa2",
   "metadata": {},
   "source": [
    "Load the final grid"
   ]
  },
  {
   "cell_type": "code",
   "execution_count": 12,
   "id": "4821bb0f",
   "metadata": {},
   "outputs": [],
   "source": [
    "pkl_file = open(rootdir+'final_grid.pkl', 'rb')\n",
    "species_logN_samples = pickle.load(pkl_file)\n",
    "pkl_file.close()"
   ]
  },
  {
   "cell_type": "markdown",
   "id": "bf96db22",
   "metadata": {},
   "source": [
    "Interpolate this grid"
   ]
  },
  {
   "cell_type": "code",
   "execution_count": 13,
   "id": "d7cf787e",
   "metadata": {},
   "outputs": [],
   "source": [
    "species_logN_interp = {}\n",
    "\n",
    "for s in list(species_logN_samples.keys()):\n",
    "    \n",
    "    species_logN_samples[s][species_logN_samples[s]==-np.inf] = -99\n",
    "    \n",
    "    species_logN_interp[s] = RegularGridInterpolator((logN_HI_arr, log_hdens_arr, log_metals_arr), \n",
    "                                                     species_logN_samples[s])"
   ]
  },
  {
   "cell_type": "code",
   "execution_count": null,
   "id": "3b32a7c0",
   "metadata": {},
   "outputs": [],
   "source": []
  },
  {
   "cell_type": "markdown",
   "id": "41ba6b92",
   "metadata": {},
   "source": [
    "Jeans length as a function of density"
   ]
  },
  {
   "cell_type": "code",
   "execution_count": 14,
   "id": "18bee959",
   "metadata": {},
   "outputs": [],
   "source": [
    "k_B = 1.38 * 1e-16 # erg/K\n",
    "G = 6.67 * 1e-8 # erg cm g^-2\n",
    "gamma = 5/3 # Monatomic gas\n",
    "mu = 0.607 # Mean molecular weight for ionized plasma? Taken from Draine\n",
    "T_fid = 1e4 # K\n",
    "n_H_fid = 10**-3 # cm^-3\n",
    "m_H = 1.67 * 1e-24 # in g"
   ]
  },
  {
   "cell_type": "markdown",
   "id": "2a69fafc",
   "metadata": {},
   "source": [
    "Sound speed calculation"
   ]
  },
  {
   "cell_type": "code",
   "execution_count": 22,
   "id": "9e8b626a",
   "metadata": {},
   "outputs": [],
   "source": [
    "c_s = np.sqrt(gamma*constants.k_B*T_fid*units.K/(mu*constants.m_p)).to(units.km/units.s)"
   ]
  },
  {
   "cell_type": "code",
   "execution_count": 23,
   "id": "ff006fd9",
   "metadata": {},
   "outputs": [
    {
     "data": {
      "text/latex": [
       "$21.290594 \\; \\mathrm{\\frac{km}{s}}$"
      ],
      "text/plain": [
       "<Quantity 21.29059389 km / s>"
      ]
     },
     "execution_count": 23,
     "metadata": {},
     "output_type": "execute_result"
    }
   ],
   "source": [
    "c_s*np.sqrt(2)"
   ]
  },
  {
   "cell_type": "code",
   "execution_count": 24,
   "id": "1b866307",
   "metadata": {},
   "outputs": [
    {
     "data": {
      "text/plain": [
       "21.302292062382623"
      ]
     },
     "execution_count": 24,
     "metadata": {},
     "output_type": "execute_result"
    }
   ],
   "source": [
    "np.sqrt(gamma*k_B*2*T_fid/(0.607*m_H))/1e5 # Sound speed"
   ]
  },
  {
   "cell_type": "markdown",
   "id": "fe38d9df",
   "metadata": {},
   "source": [
    "Astropy calculation"
   ]
  },
  {
   "cell_type": "code",
   "execution_count": 25,
   "id": "5758e991",
   "metadata": {},
   "outputs": [],
   "source": [
    "l = (c_s*np.sqrt(np.pi/(constants.G*mu*constants.m_p*n_H_fid*units.cm**-3))).to(units.kpc)"
   ]
  },
  {
   "cell_type": "code",
   "execution_count": 42,
   "id": "b8fb7764",
   "metadata": {},
   "outputs": [
    {
     "data": {
      "text/latex": [
       "$2.9929416 \\times 10^{15} \\; \\mathrm{s}$"
      ],
      "text/plain": [
       "<Quantity 2.99294162e+15 s>"
      ]
     },
     "execution_count": 42,
     "metadata": {},
     "output_type": "execute_result"
    }
   ],
   "source": [
    "(1/np.sqrt(constants.G*constants.m_p*1*units.cm**-3)).to(units.s)"
   ]
  },
  {
   "cell_type": "code",
   "execution_count": 26,
   "id": "111c330c",
   "metadata": {},
   "outputs": [
    {
     "data": {
      "text/latex": [
       "$105.05121 \\; \\mathrm{kpc}$"
      ],
      "text/plain": [
       "<Quantity 105.05121251 kpc>"
      ]
     },
     "execution_count": 26,
     "metadata": {},
     "output_type": "execute_result"
    }
   ],
   "source": [
    "l"
   ]
  },
  {
   "cell_type": "markdown",
   "id": "aba1fdab",
   "metadata": {},
   "source": [
    "Manual calculation"
   ]
  },
  {
   "cell_type": "code",
   "execution_count": 39,
   "id": "8461b175",
   "metadata": {},
   "outputs": [],
   "source": [
    "l_fid = np.sqrt((np.pi*gamma*k_B*T_fid)/(G*(mu*m_H)**2))*(n_H_fid**-0.5)*3.24078e-22"
   ]
  },
  {
   "cell_type": "code",
   "execution_count": 40,
   "id": "ca17fd66",
   "metadata": {},
   "outputs": [
    {
     "data": {
      "text/plain": [
       "42.0901347862212"
      ]
     },
     "execution_count": 40,
     "metadata": {},
     "output_type": "execute_result"
    }
   ],
   "source": [
    "l_fid*np.sqrt(0.16)"
   ]
  },
  {
   "cell_type": "markdown",
   "id": "5578ef04",
   "metadata": {},
   "source": [
    "Discrepancy"
   ]
  },
  {
   "cell_type": "code",
   "execution_count": 29,
   "id": "f40735b9",
   "metadata": {},
   "outputs": [
    {
     "data": {
      "text/plain": [
       "0.38095238095238093"
      ]
     },
     "execution_count": 29,
     "metadata": {},
     "output_type": "execute_result"
    }
   ],
   "source": [
    "40/105"
   ]
  },
  {
   "cell_type": "code",
   "execution_count": null,
   "id": "455c82eb",
   "metadata": {},
   "outputs": [],
   "source": []
  }
 ],
 "metadata": {
  "kernelspec": {
   "display_name": "Python 3 (ipykernel)",
   "language": "python",
   "name": "python3"
  },
  "language_info": {
   "codemirror_mode": {
    "name": "ipython",
    "version": 3
   },
   "file_extension": ".py",
   "mimetype": "text/x-python",
   "name": "python",
   "nbconvert_exporter": "python",
   "pygments_lexer": "ipython3",
   "version": "3.9.13"
  }
 },
 "nbformat": 4,
 "nbformat_minor": 5
}
