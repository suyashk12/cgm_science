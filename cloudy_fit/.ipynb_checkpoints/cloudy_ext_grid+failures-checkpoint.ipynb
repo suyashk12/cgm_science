{
 "cells": [
  {
   "cell_type": "code",
   "execution_count": 1,
   "id": "d5e6ba59",
   "metadata": {},
   "outputs": [],
   "source": [
    "import numpy as np\n",
    "from astropy.table import Table\n",
    "import matplotlib.pyplot as plt\n",
    "import pandas as pd\n",
    "from cloudy_fit_lib import *\n",
    "from scipy.interpolate import RegularGridInterpolator\n",
    "import pickle"
   ]
  },
  {
   "cell_type": "code",
   "execution_count": 2,
   "id": "04ca7126",
   "metadata": {},
   "outputs": [],
   "source": [
    "plt.style.use('/Users/thepoetoftwilight/Documents/CUBS/Code/science.mplstyle')"
   ]
  },
  {
   "cell_type": "code",
   "execution_count": 12,
   "id": "def6ee5a",
   "metadata": {},
   "outputs": [],
   "source": [
    "rootdir = '/Users/thepoetoftwilight/Documents/CUBS/Data/PG1522+101/cloudy_grids/ext_grid/'"
   ]
  },
  {
   "cell_type": "markdown",
   "id": "c4d3e21c",
   "metadata": {},
   "source": [
    "Obtain the UVB grid from FG20"
   ]
  },
  {
   "cell_type": "code",
   "execution_count": 13,
   "id": "4bbe345f",
   "metadata": {},
   "outputs": [],
   "source": [
    "fg20_z_grid, fg20_wav_grid, fg20_J_nu_grid = read_uvb('', 'fg20_galaxy.ascii')"
   ]
  },
  {
   "cell_type": "markdown",
   "id": "7e4ee0d9",
   "metadata": {},
   "source": [
    "Fetch the SED at $z=1$"
   ]
  },
  {
   "cell_type": "code",
   "execution_count": 14,
   "id": "67656ac2",
   "metadata": {},
   "outputs": [],
   "source": [
    "z_test = 1"
   ]
  },
  {
   "cell_type": "code",
   "execution_count": 15,
   "id": "fc401ceb",
   "metadata": {},
   "outputs": [],
   "source": [
    "fg20_J_nu_test = fetch_sed(z_test, fg20_z_grid, fg20_J_nu_grid)"
   ]
  },
  {
   "cell_type": "markdown",
   "id": "8aa76b78",
   "metadata": {},
   "source": [
    "Specify grid points"
   ]
  },
  {
   "cell_type": "code",
   "execution_count": 16,
   "id": "b8ac9b63",
   "metadata": {},
   "outputs": [],
   "source": [
    "# Discrete grid points\n",
    "grid_points = np.array([[16.  , -4.25,  1.  ],\n",
    "       [16.25, -5.  ,  1.  ],\n",
    "       [16.25, -4.75,  1.  ],\n",
    "       [16.25, -4.5 ,  1.  ],\n",
    "       [16.25, -4.25,  1.  ],\n",
    "       [16.5 , -5.  ,  0.75],\n",
    "       [16.5 , -5.  ,  1.  ],\n",
    "       [16.5 , -4.75,  0.75],\n",
    "       [16.5 , -4.75,  1.  ],\n",
    "       [16.5 , -4.5 ,  1.  ],\n",
    "       [16.5 , -4.25,  1.  ],\n",
    "       [16.75, -5.  ,  0.75],\n",
    "       [16.75, -5.  ,  1.  ],\n",
    "       [16.75, -4.75,  0.75],\n",
    "       [16.75, -4.75,  1.  ],\n",
    "       [16.75, -4.5 ,  0.75],\n",
    "       [16.75, -4.5 ,  1.  ],\n",
    "       [16.75, -4.25,  1.  ],\n",
    "       [17.  , -5.  ,  0.75],\n",
    "       [17.  , -5.  ,  1.  ],\n",
    "       [17.  , -4.75,  0.75],\n",
    "       [17.  , -4.75,  1.  ],\n",
    "       [17.  , -4.5 ,  0.75],\n",
    "       [17.  , -4.5 ,  1.  ],\n",
    "       [17.  , -4.25,  1.  ]])"
   ]
  },
  {
   "cell_type": "markdown",
   "id": "d5ed97cc",
   "metadata": {},
   "source": [
    "Process the grid to identify \"failures\""
   ]
  },
  {
   "cell_type": "code",
   "execution_count": 17,
   "id": "659b445d",
   "metadata": {},
   "outputs": [],
   "source": [
    "log_T_pie_thresh = 4"
   ]
  },
  {
   "cell_type": "code",
   "execution_count": 18,
   "id": "53323dea",
   "metadata": {},
   "outputs": [],
   "source": [
    "# Bifurcate failures based on stopping temperature\n",
    "low_temp_failures = []\n",
    "high_temp_failures = []"
   ]
  },
  {
   "cell_type": "code",
   "execution_count": 22,
   "id": "9d9bb061",
   "metadata": {},
   "outputs": [
    {
     "name": "stdout",
     "output_type": "stream",
     "text": [
      "[ 15.99999826  20.66142363   3.9265009   -2.58317816  -6.42850196\n",
      "   2.46028579  -8.22428618  13.56151281  17.88516099  19.65410239\n",
      "   5.591959    -0.27843009   9.6924565   11.40869946  11.82888279\n",
      " -12.65975225 -18.99250827  -9.26421353  -1.98813787   5.8154582\n",
      "   9.24334815   9.85678083   9.49393321  -1.98904316   7.37861953\n",
      "   9.08265614  11.15997603  11.08302937  10.20730846   2.41153385\n",
      "  12.4776768   15.32555055  16.09389075  16.88310018  16.30839365\n",
      "  15.03384578 -13.75402121  -2.65992291 -31.58669856 -21.31039638\n",
      "         -inf         -inf         -inf         -inf         -inf\n",
      " -24.87698183 -15.65529538 -42.80814674 -39.5877949          -inf\n",
      "         -inf         -inf         -inf         -inf         -inf\n",
      "         -inf   6.71084143  11.48530396  14.71625383  15.87581223\n",
      "  16.02788348  16.26134615  15.30648936  13.70961421 -13.013312\n",
      " -11.78725324 -33.37173678 -32.14725049         -inf         -inf\n",
      "         -inf -23.41374473 -18.73902993 -43.85346888 -37.36903341\n",
      "         -inf         -inf         -inf -19.53413553 -11.30791928\n",
      "         -inf   6.98994524  11.98215088  15.26541692  16.66366795\n",
      "  16.90389702  16.75385565  16.57780649  15.30845129  13.43859614\n",
      " -10.20846794 -10.33269744 -31.03360434 -30.16025367         -inf\n",
      " -18.38899297 -11.01915659 -34.56490611         -inf         -inf\n",
      " -19.86611316 -28.99296098 -24.18003579         -inf         -inf\n",
      "         -inf         -inf         -inf -17.21109593 -16.2462722\n",
      "         -inf         -inf   2.46680091   7.58788263  10.74669257\n",
      "  12.29921084  12.87705444  12.52699281  11.73974239  11.53598363\n",
      "   9.99245808   7.88052378 -24.15269454 -17.54882938 -42.30324096\n",
      " -32.72446061   5.97516196  11.05420691  10.00421816  14.19095048\n",
      "  15.66495208  16.35617506  16.19299652  15.32848358  14.71160226\n",
      "  14.11623903  12.33346944 -10.14675518  -0.43330095   8.94812187\n",
      "   9.17739508         -inf  12.07810866  13.93166988  14.70606286\n",
      "  14.47402531  13.91308978  12.7840657   11.75117976  11.17749898\n",
      "   2.63239756   9.27096982  11.86204964   9.66078582         -inf\n",
      "  12.69279494  14.72169275  15.71063009  15.86217672  15.41142777\n",
      "  14.51869683  13.70552589  12.63303293   1.41841897   9.29797706\n",
      "  10.34125246   9.61284847         -inf         -inf  10.60502692\n",
      "  13.05265163  14.31358463  14.88598846  14.47167888  13.78392786\n",
      "  12.95209566  11.70898062   0.8038448   10.223579    10.89902667\n",
      "  10.15798836         -inf         -inf         -inf  12.37732993\n",
      "  13.40588228  15.01741735  15.72725977  15.86484676  15.32670854\n",
      "  13.75315698  12.58566598 -25.79914677 -23.39729664         -inf\n",
      " -40.59732946 -24.90548345 -22.85381303 -12.89934347 -38.19350121\n",
      "  -1.68139414   8.5545037    9.66864679   8.31659721         -inf\n",
      "         -inf         -inf         -inf  10.6880343   11.85441536\n",
      "  12.50915008  13.621904    13.82846655  13.47149707  12.56016497\n",
      "  11.42629487  -1.05386768   9.81558638  12.084905    10.8620031\n",
      "   9.14610632         -inf         -inf         -inf         -inf\n",
      "  12.81723275  14.07642561  14.33817152  14.81327868  15.55308285\n",
      "  15.53827329  14.59566263  13.33359437 -25.34602669 -13.31269939\n",
      " -30.52413132 -21.09516603 -42.58865139 -36.23533005 -25.517035\n",
      " -37.01531745 -22.72020078         -inf         -inf         -inf\n",
      "         -inf         -inf  -2.95110006   8.25947442  10.85938751\n",
      "   9.25440305   7.85528226         -inf         -inf         -inf\n",
      "         -inf         -inf  11.25748658  12.59835161  12.96761817\n",
      "  12.90688161  13.06421082  13.56382862  13.19114629  12.35559709\n",
      " -27.85779518 -16.62132598 -40.93465187         -inf -38.5945785\n",
      "         -inf         -inf         -inf   3.60454679   8.72170842\n",
      "  12.50390775  11.20823975   9.61145564         -inf         -inf\n",
      "         -inf         -inf         -inf         -inf  12.49716886\n",
      "  14.05485426  14.51424617  14.45381352  13.80805425  14.07901836\n",
      "  14.28804791  13.61997772 -15.08518208  -1.24501369   8.56409531\n",
      "  11.35468839   9.99312837   8.47899625         -inf         -inf\n",
      "         -inf         -inf         -inf         -inf         -inf\n",
      "  11.32131461  12.63611061  13.42676818  13.28485918  12.7318272\n",
      "  12.23555117  12.05124516  12.18736277  -4.91817041   3.32324178\n",
      "  12.58990717  11.56528334   9.87451893   8.36557221         -inf\n",
      "         -inf         -inf         -inf         -inf         -inf\n",
      "  12.13708814         -inf  13.66461471  14.36266716  14.79285935\n",
      "  13.9978353   13.58066158  12.59600627  12.75354629  -9.83320295\n",
      "  -1.03537507   8.33227279   8.40338136   7.1972585    5.72496528\n",
      "         -inf         -inf         -inf         -inf         -inf\n",
      "         -inf   7.00982044         -inf         -inf  10.37738093\n",
      "  11.07079122  11.45538853  11.30231361  10.65038913   9.72147838\n",
      "   8.88133786  -3.98054306   5.87308042   9.8320111    9.76515127\n",
      "   9.39206175   7.89885293         -inf         -inf         -inf\n",
      "         -inf         -inf         -inf   9.45117062         -inf\n",
      "         -inf         -inf  12.13477298  12.92418311  13.2534737\n",
      "  13.09291354  12.87616066  11.64181705  11.01917031         -inf\n",
      "         -inf         -inf         -inf         -inf         -inf\n",
      "         -inf         -inf         -inf         -inf         -inf\n",
      "         -inf         -inf         -inf         -inf         -inf\n",
      "         -inf         -inf         -inf         -inf         -inf\n",
      "         -inf         -inf         -inf         -inf  -6.38162552\n",
      "   3.49366434   8.83399701   8.21385497   8.07392354   7.4974107\n",
      "   5.31309492         -inf         -inf         -inf         -inf\n",
      "         -inf   7.44901995         -inf         -inf         -inf\n",
      "         -inf  10.00117101  11.42593996  12.32858549  12.10435393\n",
      "  11.87188045  11.19209611   9.74131394  -5.22506573   4.97983644\n",
      "  10.68677654  10.18959417   9.66660876   8.91150917   8.45318681\n",
      "         -inf         -inf         -inf         -inf         -inf\n",
      "   8.93509696         -inf         -inf         -inf         -inf\n",
      "         -inf  11.54765289  12.93180659  13.71443706  13.98922416\n",
      "  13.63841038  12.9925111   12.47287926  -2.70675018   5.15866097\n",
      "  10.92388618   9.57464464   8.33312874   7.5551634          -inf\n",
      "         -inf         -inf         -inf         -inf         -inf\n",
      "   8.84873641         -inf         -inf         -inf         -inf\n",
      "         -inf         -inf  11.4450497   12.89890446  13.68871696\n",
      "  13.7820295   13.00113203  12.55259279  11.91330352  -2.43056171\n",
      "   6.40075551  12.10544546  11.06261582   9.69280551         -inf\n",
      "         -inf         -inf         -inf         -inf         -inf\n",
      "         -inf  10.18568661         -inf         -inf         -inf\n",
      "         -inf         -inf         -inf         -inf  12.99710404\n",
      "  14.44530367  15.36506284  15.82821506  15.52726633  14.27741666\n",
      "  13.54318367  -4.11898245   3.42260789  10.79911507  10.16850338\n",
      "   9.18671625   7.50343521         -inf         -inf         -inf\n",
      "         -inf         -inf         -inf   7.50017058         -inf\n",
      "         -inf         -inf         -inf         -inf         -inf\n",
      "         -inf         -inf  10.22328822  11.88717659  12.86207172\n",
      "  13.13411971  13.10365323  12.46848764  11.87762183  -3.06297234\n",
      "   4.76619341  12.06784795  11.56637031  10.5134014    9.53925555\n",
      "         -inf         -inf         -inf         -inf         -inf\n",
      "         -inf   8.71625216         -inf         -inf         -inf\n",
      "         -inf         -inf         -inf         -inf         -inf\n",
      "         -inf  11.39557798  12.98937194  14.10847031  14.42017862\n",
      "  14.48132365  13.94077091  13.36266905  -7.36890137   2.53552956\n",
      "  10.43613719   9.11269547   8.58126567   7.42035518   6.47680555\n",
      "         -inf         -inf         -inf         -inf         -inf\n",
      "   6.48682704         -inf         -inf         -inf         -inf\n",
      "         -inf         -inf         -inf         -inf         -inf\n",
      "         -inf   9.13175656  10.72915669  11.8733549   12.33207067\n",
      "  12.48462579  12.02265927  11.53689287  -4.90738461   3.32308289\n",
      "  11.0074277   10.26588572   9.20936486   8.15986484   7.08306165\n",
      "         -inf         -inf         -inf         -inf         -inf\n",
      "   6.87325723         -inf         -inf         -inf         -inf\n",
      "         -inf         -inf         -inf         -inf         -inf\n",
      "         -inf   9.42404326         -inf  11.01684121  12.17631414\n",
      "  12.64487759  12.9039019   12.47592965  12.04206729         -inf\n",
      "         -inf         -inf         -inf         -inf]\n"
     ]
    },
    {
     "ename": "NameError",
     "evalue": "name 'log_hdens_arr' is not defined",
     "output_type": "error",
     "traceback": [
      "\u001b[0;31m---------------------------------------------------------------------------\u001b[0m",
      "\u001b[0;31mNameError\u001b[0m                                 Traceback (most recent call last)",
      "\u001b[0;32m/var/folders/tj/vc_wjrpj36sf3zws4s7s770c0000gn/T/ipykernel_38693/347316239.py\u001b[0m in \u001b[0;36m<module>\u001b[0;34m\u001b[0m\n\u001b[1;32m     20\u001b[0m     \u001b[0mprint\u001b[0m\u001b[0;34m(\u001b[0m\u001b[0mlog_col_dens_grid\u001b[0m\u001b[0;34m)\u001b[0m\u001b[0;34m\u001b[0m\u001b[0;34m\u001b[0m\u001b[0m\n\u001b[1;32m     21\u001b[0m \u001b[0;34m\u001b[0m\u001b[0m\n\u001b[0;32m---> 22\u001b[0;31m     \u001b[0;32mfor\u001b[0m \u001b[0mj\u001b[0m \u001b[0;32min\u001b[0m \u001b[0mrange\u001b[0m\u001b[0;34m(\u001b[0m\u001b[0mlen\u001b[0m\u001b[0;34m(\u001b[0m\u001b[0mlog_hdens_arr\u001b[0m\u001b[0;34m)\u001b[0m\u001b[0;34m)\u001b[0m\u001b[0;34m:\u001b[0m\u001b[0;34m\u001b[0m\u001b[0;34m\u001b[0m\u001b[0m\n\u001b[0m\u001b[1;32m     23\u001b[0m \u001b[0;34m\u001b[0m\u001b[0m\n\u001b[1;32m     24\u001b[0m         \u001b[0mlog_hdens\u001b[0m \u001b[0;34m=\u001b[0m \u001b[0mlog_hdens_arr\u001b[0m\u001b[0;34m[\u001b[0m\u001b[0mj\u001b[0m\u001b[0;34m]\u001b[0m\u001b[0;34m\u001b[0m\u001b[0;34m\u001b[0m\u001b[0m\n",
      "\u001b[0;31mNameError\u001b[0m: name 'log_hdens_arr' is not defined"
     ]
    }
   ],
   "source": [
    "for i in range(len(grid_points)):\n",
    "    \n",
    "    logN_HI, log_hdens, log_metals = grid_points[i]\n",
    "    \n",
    "    # The filename corresponding to this grid point\n",
    "    \n",
    "    logN_HI_str = '{:.2f}'.format(logN_HI).replace('.','')\n",
    "    log_hdens_str = '{:.2f}'.format(log_hdens).replace('.','')\n",
    "    log_metals_str = '{:.2f}'.format(log_metals).replace('.','')\n",
    "    \n",
    "    filename = 'igm_lalpha_hm12_grid_{}_{}_{}'.format(logN_HI_str, log_hdens_str, log_metals_str)\n",
    "    \n",
    "    # Get average (log) HI temperatures for all grid points\n",
    "    log_temp = read_avr_file(rootdir, filename)[0]\n",
    "    \n",
    "    # Get column densities for all species\n",
    "    species_names, log_col_dens_grid = read_col_file(rootdir, filename)\n",
    "    log_col_dens = log_col_dens_grid[0]\n",
    "\n",
    "    # Check if this grid point is a failure\n",
    "    if np.round(log_col_dens[0],2) != logN_HI:\n",
    "        # Categorize based on temperature\n",
    "        if log_temp<log_T_pie_thresh:\n",
    "            low_temp_failures.append([logN_HI, log_hdens, log_metals, log_temp, log_col_dens[0]])\n",
    "        else:\n",
    "            high_temp_failures.append([logN_HI, log_hdens, log_metals, log_temp, log_col_dens[0]])"
   ]
  },
  {
   "cell_type": "code",
   "execution_count": null,
   "id": "8357b86c",
   "metadata": {},
   "outputs": [],
   "source": []
  }
 ],
 "metadata": {
  "kernelspec": {
   "display_name": "Python 3 (ipykernel)",
   "language": "python",
   "name": "python3"
  },
  "language_info": {
   "codemirror_mode": {
    "name": "ipython",
    "version": 3
   },
   "file_extension": ".py",
   "mimetype": "text/x-python",
   "name": "python",
   "nbconvert_exporter": "python",
   "pygments_lexer": "ipython3",
   "version": "3.9.13"
  }
 },
 "nbformat": 4,
 "nbformat_minor": 5
}
