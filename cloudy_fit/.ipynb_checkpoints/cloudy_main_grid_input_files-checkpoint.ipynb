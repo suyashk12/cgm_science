{
 "cells": [
  {
   "cell_type": "code",
   "execution_count": 1,
   "id": "441450c5",
   "metadata": {},
   "outputs": [],
   "source": [
    "import numpy as np\n",
    "from astropy.table import Table\n",
    "import matplotlib.pyplot as plt\n",
    "import pandas as pd"
   ]
  },
  {
   "cell_type": "markdown",
   "id": "96efb79c",
   "metadata": {},
   "source": [
    "Enter the directory within which to write the CLOUDY input files"
   ]
  },
  {
   "cell_type": "code",
   "execution_count": 2,
   "id": "0659f943",
   "metadata": {},
   "outputs": [],
   "source": [
    "writedir = '/Users/thepoetoftwilight/Documents/CUBS/Data/PG1522+101/cloudy_grids/main_grid/'"
   ]
  },
  {
   "cell_type": "code",
   "execution_count": 3,
   "id": "04f06aa4",
   "metadata": {},
   "outputs": [],
   "source": [
    "# Specify parameters for input files\n",
    "z = 1\n",
    "\n",
    "N_HI_min = 12\n",
    "N_HI_max = 17\n",
    "N_HI_step = 0.25\n",
    "\n",
    "hdens_min = -5\n",
    "hdens_max = 1\n",
    "hdens_step = 0.25\n",
    "\n",
    "metals_min = -3\n",
    "metals_max = 1\n",
    "metals_step = 0.25"
   ]
  },
  {
   "cell_type": "code",
   "execution_count": 4,
   "id": "9a7e71bd",
   "metadata": {},
   "outputs": [],
   "source": [
    "# Generate grid points\n",
    "N_HI_arr = np.arange(N_HI_min, N_HI_max+N_HI_step, N_HI_step)"
   ]
  },
  {
   "cell_type": "code",
   "execution_count": 5,
   "id": "3c332fb5",
   "metadata": {},
   "outputs": [],
   "source": [
    "for N_HI in N_HI_arr:\n",
    "    \n",
    "    N_HI_str = '{:.2f}'.format(N_HI).replace('.','')\n",
    "\n",
    "    with open(writedir+'igm_lalpha_hm12_grid_' + N_HI_str + '.in', 'w') as f:\n",
    "        f.write('title Ly alpha forest cloud\\n')\n",
    "        f.write('cmb z={}\\n'.format(z))\n",
    "        f.write('table hm12 z={}\\n'.format(z))\n",
    "        f.write('hden -2 vary\\n')\n",
    "        f.write('grid range from {} to {} with {} dex steps\\n'.format(hdens_min, hdens_max, hdens_step))\n",
    "        f.write('metals -1.5 vary\\n')\n",
    "        f.write('grid range from {} to {} with {} dex steps\\n'.format(metals_min, metals_max, metals_step))\n",
    "        f.write('stop neutral column density {}\\n'.format(N_HI))\n",
    "        f.write('double  ## mimic two-sided photoionization\\n')\n",
    "        f.write('iterate to convergence ## must iterate since optically thin\\n')\n",
    "        f.write('# commands controlling output    =========\\n')\n",
    "        f.write('print line faint -1\\n')\n",
    "        f.write('set save prefix \"igm_lalpha_hm12_grid_' + N_HI_str + '\"\\n')\n",
    "        f.write('save grid last \".grd\"\\n')\n",
    "        f.write('save species column density last \".col\" all\\n')\n",
    "        f.write('save averages \".avr\" last no clobber\\n')\n",
    "        f.write('temperature, hydrogen 1 over radius\\n')\n",
    "        f.write('end of averages')"
   ]
  },
  {
   "cell_type": "code",
   "execution_count": 6,
   "id": "f535ed27",
   "metadata": {},
   "outputs": [
    {
     "name": "stdout",
     "output_type": "stream",
     "text": [
      "./run.sh igm_lalpha_hm12_grid_1200\n",
      "./run.sh igm_lalpha_hm12_grid_1225\n",
      "./run.sh igm_lalpha_hm12_grid_1250\n",
      "./run.sh igm_lalpha_hm12_grid_1275\n",
      "./run.sh igm_lalpha_hm12_grid_1300\n",
      "./run.sh igm_lalpha_hm12_grid_1325\n",
      "./run.sh igm_lalpha_hm12_grid_1350\n",
      "./run.sh igm_lalpha_hm12_grid_1375\n",
      "./run.sh igm_lalpha_hm12_grid_1400\n",
      "./run.sh igm_lalpha_hm12_grid_1425\n",
      "./run.sh igm_lalpha_hm12_grid_1450\n",
      "./run.sh igm_lalpha_hm12_grid_1475\n",
      "./run.sh igm_lalpha_hm12_grid_1500\n",
      "./run.sh igm_lalpha_hm12_grid_1525\n",
      "./run.sh igm_lalpha_hm12_grid_1550\n",
      "./run.sh igm_lalpha_hm12_grid_1575\n",
      "./run.sh igm_lalpha_hm12_grid_1600\n",
      "./run.sh igm_lalpha_hm12_grid_1625\n",
      "./run.sh igm_lalpha_hm12_grid_1650\n",
      "./run.sh igm_lalpha_hm12_grid_1675\n",
      "./run.sh igm_lalpha_hm12_grid_1700\n"
     ]
    }
   ],
   "source": [
    "for N_HI in N_HI_arr:\n",
    "    N_HI_str = '{:.2f}'.format(N_HI).replace('.','')\n",
    "    print('./run.sh igm_lalpha_hm12_grid_' + N_HI_str)"
   ]
  },
  {
   "cell_type": "code",
   "execution_count": null,
   "id": "ca839023",
   "metadata": {},
   "outputs": [],
   "source": []
  }
 ],
 "metadata": {
  "kernelspec": {
   "display_name": "Python 3 (ipykernel)",
   "language": "python",
   "name": "python3"
  },
  "language_info": {
   "codemirror_mode": {
    "name": "ipython",
    "version": 3
   },
   "file_extension": ".py",
   "mimetype": "text/x-python",
   "name": "python",
   "nbconvert_exporter": "python",
   "pygments_lexer": "ipython3",
   "version": "3.9.13"
  }
 },
 "nbformat": 4,
 "nbformat_minor": 5
}
