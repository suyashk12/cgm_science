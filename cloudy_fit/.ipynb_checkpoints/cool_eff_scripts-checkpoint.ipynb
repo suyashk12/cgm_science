{
 "cells": [
  {
   "cell_type": "code",
   "execution_count": 1,
   "id": "185a8d8d",
   "metadata": {},
   "outputs": [],
   "source": [
    "import numpy as np\n",
    "import matplotlib.pyplot as plt\n",
    "from astropy.table import Table\n",
    "from astropy import constants, units\n",
    "import os\n",
    "import os.path\n",
    "import pandas as pd"
   ]
  },
  {
   "cell_type": "code",
   "execution_count": 2,
   "id": "5d51493d",
   "metadata": {},
   "outputs": [],
   "source": [
    "rootdir = '/Users/thepoetoftwilight/Documents/CUBS/Data/PG1522+101/Non-equilibrium/'"
   ]
  },
  {
   "cell_type": "markdown",
   "id": "190d4949",
   "metadata": {},
   "source": [
    "# Grid parameters for cooling efficiencies"
   ]
  },
  {
   "cell_type": "code",
   "execution_count": 3,
   "id": "a71877ce",
   "metadata": {},
   "outputs": [],
   "source": [
    "C_list = ['CI', 'CII', 'CIII', 'CIV', 'CV', 'CVI', 'CVII']\n",
    "O_list = ['OI', 'OII', 'OIII', 'OIV', 'OV', 'OVI', 'OVII', 'OVIII', 'OIX']"
   ]
  },
  {
   "cell_type": "code",
   "execution_count": 4,
   "id": "640d9d71",
   "metadata": {},
   "outputs": [],
   "source": [
    "C_species = [r'$\\mathrm{C}^0$', r'$\\mathrm{C}^+$', r'$\\mathrm{C}^{2+}$', r'$\\mathrm{C}^{3+}$',\n",
    "            r'$\\mathrm{C}^{4+}$', r'$\\mathrm{C}^{5+}$', r'$\\mathrm{C}^{6+}$', r'$\\mathrm{C}^{6+}$']\n",
    "\n",
    "O_species = [r'$\\mathrm{O}^0$', r'$\\mathrm{O}^+$', r'$\\mathrm{O}^{2+}$', r'$\\mathrm{O}^{3+}$',\n",
    "            r'$\\mathrm{O}^{4+}$', r'$\\mathrm{O}^{5+}$', r'$\\mathrm{O}^{6+}$', r'$\\mathrm{O}^{6+}$',\n",
    "            r'$\\mathrm{O}^{7+}$', r'$\\mathrm{O}^{8+}$']"
   ]
  },
  {
   "cell_type": "code",
   "execution_count": 5,
   "id": "97195c2e",
   "metadata": {},
   "outputs": [],
   "source": [
    "key_C_list = []\n",
    "\n",
    "for i in range(len(C_list)):\n",
    "    s = '0 '*i\n",
    "    s = s + '1 '\n",
    "    s = s + '0 '*(len(C_list)-i-1)\n",
    "    s = s[:-1]\n",
    "    key_C_list.append(s)"
   ]
  },
  {
   "cell_type": "code",
   "execution_count": 18,
   "id": "82f283d7",
   "metadata": {},
   "outputs": [],
   "source": [
    "#key_C_list"
   ]
  },
  {
   "cell_type": "code",
   "execution_count": 7,
   "id": "f95761e7",
   "metadata": {},
   "outputs": [],
   "source": [
    "key_O_list = []\n",
    "\n",
    "for i in range(len(O_list)):\n",
    "    s = '0 '*i\n",
    "    s = s + '1 '\n",
    "    s = s + '0 '*(len(O_list)-i-1)\n",
    "    s = s[:-1]\n",
    "    key_O_list.append(s)"
   ]
  },
  {
   "cell_type": "code",
   "execution_count": 8,
   "id": "fe8358c2",
   "metadata": {},
   "outputs": [],
   "source": [
    "#key_O_list"
   ]
  },
  {
   "cell_type": "markdown",
   "id": "c775b01e",
   "metadata": {},
   "source": [
    "# Write log(hdens) = 0 files"
   ]
  },
  {
   "cell_type": "code",
   "execution_count": 9,
   "id": "449e47b6",
   "metadata": {},
   "outputs": [
    {
     "name": "stdout",
     "output_type": "stream",
     "text": [
      "cd cooling/OI; ./run.sh cool; cd ../..\n",
      "cd cooling/OII; ./run.sh cool; cd ../..\n",
      "cd cooling/OIII; ./run.sh cool; cd ../..\n",
      "cd cooling/OIV; ./run.sh cool; cd ../..\n",
      "cd cooling/OV; ./run.sh cool; cd ../..\n",
      "cd cooling/OVI; ./run.sh cool; cd ../..\n",
      "cd cooling/OVII; ./run.sh cool; cd ../..\n",
      "cd cooling/OVIII; ./run.sh cool; cd ../..\n",
      "cd cooling/OIX; ./run.sh cool; cd ../..\n",
      "\n"
     ]
    }
   ],
   "source": [
    "for i in range(len(O_list)):\n",
    "    \n",
    "    s = '''title coronal equilibrium at 1e6 K\n",
    "coronal 6 vary\n",
    "grid 4 8 0.2\n",
    "set dr 0\n",
    "hden 0 log\n",
    "eden 0 log\n",
    "no molecules\n",
    "element abundance oxygen 0\n",
    "stop zone 1\n",
    "init \"honly.ini\"\n",
    "element oxygen on\n",
    "element oxygen ionization {}\n",
    "save overview \"coll t6.ovr\" separate\n",
    "save cooling each \"coll t6.cool\" last no hash\n",
    "'''.format(key_O_list[i])\n",
    "    \n",
    "    with open(rootdir+'cooling/{}/cool.in'.format(O_list[i]), 'w') as f:\n",
    "        f.write(s)\n",
    "    \n",
    "    print('cd cooling/{}; ./run.sh cool; cd ../..'.format(O_list[i]))\n",
    "\n",
    "print('')"
   ]
  },
  {
   "cell_type": "code",
   "execution_count": 10,
   "id": "0703635a",
   "metadata": {},
   "outputs": [
    {
     "name": "stdout",
     "output_type": "stream",
     "text": [
      "cd cooling/CI; ./run.sh cool; cd ../..\n",
      "cd cooling/CII; ./run.sh cool; cd ../..\n",
      "cd cooling/CIII; ./run.sh cool; cd ../..\n",
      "cd cooling/CIV; ./run.sh cool; cd ../..\n",
      "cd cooling/CV; ./run.sh cool; cd ../..\n",
      "cd cooling/CVI; ./run.sh cool; cd ../..\n",
      "cd cooling/CVII; ./run.sh cool; cd ../..\n",
      "\n"
     ]
    }
   ],
   "source": [
    "for i in range(len(C_list)):\n",
    "    \n",
    "    s = '''title coronal equilibrium at 1e6 K\n",
    "coronal 6 vary\n",
    "grid 4 8 0.2\n",
    "set dr 0\n",
    "hden 0 log\n",
    "eden 0 log\n",
    "no molecules\n",
    "element abundance carbon 0\n",
    "stop zone 1\n",
    "init \"honly.ini\"\n",
    "element carbon on\n",
    "element carbon ionization {}\n",
    "save overview \"coll t6.ovr\" separate\n",
    "save cooling each \"coll t6.cool\" last no hash\n",
    "'''.format(key_C_list[i])\n",
    "    \n",
    "    with open(rootdir+'cooling/{}/cool.in'.format(C_list[i]), 'w') as f:\n",
    "        f.write(s)\n",
    "    \n",
    "    print('cd cooling/{}; ./run.sh cool; cd ../..'.format(C_list[i]))\n",
    "\n",
    "print('')"
   ]
  },
  {
   "cell_type": "markdown",
   "id": "8d1c429c",
   "metadata": {},
   "source": [
    "# Write log(hdens) = -10 files"
   ]
  },
  {
   "cell_type": "code",
   "execution_count": 15,
   "id": "3e6f4a90",
   "metadata": {},
   "outputs": [
    {
     "name": "stdout",
     "output_type": "stream",
     "text": [
      "cd cooling_re/OI; ./run.sh cool; cd ../..\n",
      "cd cooling_re/OII; ./run.sh cool; cd ../..\n",
      "cd cooling_re/OIII; ./run.sh cool; cd ../..\n",
      "cd cooling_re/OIV; ./run.sh cool; cd ../..\n",
      "cd cooling_re/OV; ./run.sh cool; cd ../..\n",
      "cd cooling_re/OVI; ./run.sh cool; cd ../..\n",
      "cd cooling_re/OVII; ./run.sh cool; cd ../..\n",
      "cd cooling_re/OVIII; ./run.sh cool; cd ../..\n",
      "cd cooling_re/OIX; ./run.sh cool; cd ../..\n",
      "\n"
     ]
    }
   ],
   "source": [
    "for i in range(len(O_list)):\n",
    "    \n",
    "    s = '''title coronal equilibrium at 1e6 K\n",
    "coronal 6 vary\n",
    "grid 4 8 0.2\n",
    "set dr 0\n",
    "hden -10 log\n",
    "set eden 0\n",
    "no molecules\n",
    "element abundance oxygen 10\n",
    "stop zone 1\n",
    "init \"honly.ini\"\n",
    "element oxygen on\n",
    "element oxygen ionization {}\n",
    "save overview \"coll t6.ovr\" separate\n",
    "save cooling each \"coll t6.cool\" last no hash\n",
    "'''.format(key_O_list[i])\n",
    "    \n",
    "    with open(rootdir+'cooling_re/{}/cool.in'.format(O_list[i]), 'w') as f:\n",
    "        f.write(s)\n",
    "    \n",
    "    print('cd cooling_re/{}; ./run.sh cool; cd ../..'.format(O_list[i]))\n",
    "\n",
    "print('')"
   ]
  },
  {
   "cell_type": "code",
   "execution_count": 22,
   "id": "07804864",
   "metadata": {},
   "outputs": [
    {
     "name": "stdout",
     "output_type": "stream",
     "text": [
      "cd cooling_re/CI; ./run.sh cool; cd ../..\n",
      "cd cooling_re/CII; ./run.sh cool; cd ../..\n",
      "cd cooling_re/CIII; ./run.sh cool; cd ../..\n",
      "cd cooling_re/CIV; ./run.sh cool; cd ../..\n",
      "cd cooling_re/CV; ./run.sh cool; cd ../..\n",
      "cd cooling_re/CVI; ./run.sh cool; cd ../..\n",
      "cd cooling_re/CVII; ./run.sh cool; cd ../..\n",
      "\n"
     ]
    }
   ],
   "source": [
    "for i in range(len(C_list)):\n",
    "    \n",
    "    s = '''title coronal equilibrium at 1e6 K\n",
    "coronal 6 vary\n",
    "grid 4 8 0.2\n",
    "set dr 0\n",
    "hden -10 log\n",
    "set eden 0\n",
    "no molecules\n",
    "no photoionization\n",
    "element abundance carbon 10\n",
    "stop zone 1\n",
    "iterate 1\n",
    "init \"honly.ini\"\n",
    "element carbon on\n",
    "element carbon ionization {}\n",
    "save overview \"coll t6.ovr\" separate\n",
    "save cooling each \"coll t6.cool\" last no hash\n",
    "'''.format(key_C_list[i])\n",
    "    \n",
    "    with open(rootdir+'cooling_re/{}/cool.in'.format(C_list[i]), 'w') as f:\n",
    "        f.write(s)\n",
    "    \n",
    "    print('cd cooling_re/{}; ./run.sh cool; cd ../..'.format(C_list[i]))\n",
    "\n",
    "print('')"
   ]
  },
  {
   "cell_type": "code",
   "execution_count": null,
   "id": "d8442283",
   "metadata": {},
   "outputs": [],
   "source": []
  }
 ],
 "metadata": {
  "kernelspec": {
   "display_name": "Python 3 (ipykernel)",
   "language": "python",
   "name": "python3"
  },
  "language_info": {
   "codemirror_mode": {
    "name": "ipython",
    "version": 3
   },
   "file_extension": ".py",
   "mimetype": "text/x-python",
   "name": "python",
   "nbconvert_exporter": "python",
   "pygments_lexer": "ipython3",
   "version": "3.9.13"
  }
 },
 "nbformat": 4,
 "nbformat_minor": 5
}
