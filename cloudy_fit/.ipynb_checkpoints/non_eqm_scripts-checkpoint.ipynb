{
 "cells": [
  {
   "cell_type": "code",
   "execution_count": 1,
   "id": "6a269684",
   "metadata": {},
   "outputs": [],
   "source": [
    "import numpy as np\n",
    "from pathlib import Path"
   ]
  },
  {
   "cell_type": "code",
   "execution_count": 4,
   "id": "a6d94d6c",
   "metadata": {},
   "outputs": [],
   "source": [
    "uvb_dict = {\n",
    "    #'hm12':'hm12', \n",
    "    #'ks19':'ks19', \n",
    "    'fg20':'hm12'\n",
    "} # Make sure the HM12 file is renamed when using FG20\n",
    "\n",
    "log_metals_list = ['-2.6','-2.4','-2.2','-2.0','-1.8','-1.6','-1.4',\n",
    "                  '-1.2','-1.0','-0.8','-0.6','-0.4','-0.2','0.0',\n",
    "                  '0.2','0.4','0.6','0.8','1.0']\n",
    "\n",
    "\n",
    "log_hdens_list = ['-5.0']\n",
    "\n",
    "T0_list = ['3e6']"
   ]
  },
  {
   "cell_type": "code",
   "execution_count": 5,
   "id": "489aa69f",
   "metadata": {},
   "outputs": [
    {
     "data": {
      "text/plain": [
       "19"
      ]
     },
     "execution_count": 5,
     "metadata": {},
     "output_type": "execute_result"
    }
   ],
   "source": [
    "len(log_hdens_list)*len(log_metals_list)"
   ]
  },
  {
   "cell_type": "code",
   "execution_count": 6,
   "id": "58ec14d0",
   "metadata": {},
   "outputs": [],
   "source": [
    "# Your root directory here\n",
    "rootdir = '/Users/thepoetoftwilight/Documents/CUBS/Data/PG1522+101/cloudy_grids/non_eqm_models/'"
   ]
  },
  {
   "cell_type": "markdown",
   "id": "ac38a6a4",
   "metadata": {},
   "source": [
    "# TDC"
   ]
  },
  {
   "cell_type": "markdown",
   "id": "6384de0e",
   "metadata": {},
   "source": [
    "## Isochoric"
   ]
  },
  {
   "cell_type": "code",
   "execution_count": 7,
   "id": "55a01dfa",
   "metadata": {
    "scrolled": true
   },
   "outputs": [
    {
     "name": "stdout",
     "output_type": "stream",
     "text": [
      "cd TDC_isochoric/log_metals=0/T0=1e8K; ./run.sh TDC_isochoric_frac; cd ../../..\n",
      "\n",
      "\n"
     ]
    }
   ],
   "source": [
    "for log_metals in log_metals_list:\n",
    "    for T0 in T0_list:\n",
    "        s='''coronal {} K init time\n",
    "hden 0.1 linear\n",
    "metal {}\n",
    "set dr 0\n",
    "set nend 1\n",
    "stop zone 1\n",
    "iterate 300\n",
    "stop time when temperature falls below 1e4 K\n",
    "#\n",
    "# commands controlling output =========\n",
    "set cumulative mass\n",
    "set trimming off\n",
    "set save prefix \"TDC_isochoric_frac\"\n",
    "save time dependent \".tim\" no hash\n",
    "save element hydrogen \".hyd\" no hash\n",
    "save element oxygen \".oxy\" no hash\n",
    "save element carbon \".carb\" no hash\n",
    "save element nitrogen \".nit\" no hash\n",
    "save cooling each \".cool\" no hash\n",
    "save gammas \".heat\" no hash\n",
    "        '''.format(T0, log_metals)\n",
    "        \n",
    "        Path(rootdir+'CI/TDC_isochoric/log_metals={}/T0={}K'.format(log_metals, T0)).mkdir(parents=True, exist_ok=True)\n",
    "\n",
    "        with open(rootdir+'CI/TDC_isochoric/log_metals={}/T0={}K/TDC_isochoric_frac.in'.format(log_metals, T0), 'w') as f:\n",
    "            f.write(s)\n",
    "\n",
    "        print('cd TDC_isochoric/log_metals={}/T0={}K; ./run.sh TDC_isochoric_frac; cd ../../..'.format(log_metals,T0))\n",
    "        print('')\n",
    "    print('')   "
   ]
  },
  {
   "cell_type": "markdown",
   "id": "292e6cd6",
   "metadata": {},
   "source": [
    "## Isobaric"
   ]
  },
  {
   "cell_type": "code",
   "execution_count": 4,
   "id": "2a23172f",
   "metadata": {},
   "outputs": [
    {
     "name": "stdout",
     "output_type": "stream",
     "text": [
      "cd TDC_isobaric/log_metals=-1/T0=1e8K; ./run.sh TDC_isobaric_frac; cd ../../..\n",
      "\n",
      "cd TDC_isobaric/log_metals=-1/T0=3e6K; ./run.sh TDC_isobaric_frac; cd ../../..\n",
      "\n",
      "cd TDC_isobaric/log_metals=-1/T0=1e6K; ./run.sh TDC_isobaric_frac; cd ../../..\n",
      "\n",
      "cd TDC_isobaric/log_metals=-1/T0=2e5K; ./run.sh TDC_isobaric_frac; cd ../../..\n",
      "\n",
      "\n"
     ]
    }
   ],
   "source": [
    "for log_metals in log_metals_list:\n",
    "    for T0 in T0_list:\n",
    "        s='''coronal {} K init time\n",
    "hden 0.1 linear\n",
    "constant gas pressure reset\n",
    "metal {}\n",
    "set dr 0\n",
    "set nend 1\n",
    "stop zone 1\n",
    "iterate 300\n",
    "stop time when temperature falls below 1e4 K\n",
    "#\n",
    "# commands controlling output =========\n",
    "set cumulative mass\n",
    "set trimming off\n",
    "set save prefix \"TDC_isobaric_frac\"\n",
    "save time dependent \".tim\" no hash\n",
    "save element hydrogen \".hyd\" no hash\n",
    "save element oxygen \".oxy\" no hash\n",
    "save element carbon \".carb\" no hash\n",
    "save element nitrogen \".nit\" no hash\n",
    "save cooling \".cool\" no hash\n",
    "save gammas \".heat\" no hash\n",
    "        '''.format(T0, log_metals)\n",
    "        \n",
    "        with open(rootdir+'CI/TDC_isobaric/log_metals={}/T0={}K/TDC_isobaric_frac.in'.format(log_metals, T0), 'w') as f:\n",
    "            f.write(s)\n",
    "\n",
    "        print('cd TDC_isobaric/log_metals={}/T0={}K; ./run.sh TDC_isobaric_frac; cd ../../..'.format(log_metals,T0))\n",
    "        print('')\n",
    "    print('')   "
   ]
  },
  {
   "cell_type": "markdown",
   "id": "a8d92654",
   "metadata": {},
   "source": [
    "# PIE (at fixed densities)"
   ]
  },
  {
   "cell_type": "code",
   "execution_count": 17,
   "id": "c973b7fd",
   "metadata": {},
   "outputs": [
    {
     "name": "stdout",
     "output_type": "stream",
     "text": [
      "cd hm12/z=1/log_hdens=-2; ./run.sh PIE_frac; cd ../../..\n",
      "cd hm12/z=1/log_hdens=-3; ./run.sh PIE_frac; cd ../../..\n",
      "cd hm12/z=1/log_hdens=-4; ./run.sh PIE_frac; cd ../../..\n",
      "\n",
      "\n"
     ]
    }
   ],
   "source": [
    "for uvb in list(uvb_dict.keys()):\n",
    "    for log_hdens in log_hdens_list:\n",
    "\n",
    "            s = '''cmb z=1\n",
    "table {} z=1\n",
    "coronal 6 vary\n",
    "grid 4 8 0.02\n",
    "metal -1\n",
    "stop column density 15\n",
    "set dr 0\n",
    "stop zone 1\n",
    "hden {}\n",
    "iterate 2\n",
    "double  ## mimic two-sided photoionization\n",
    "set save prefix \"PIE_frac\"\n",
    "save grid \".grd\"\n",
    "save element hydrogen \".hyd\" last no hash\n",
    "save element carbon \".carb\" last no hash\n",
    "save element nitrogen \".nit\" last no hash\n",
    "save element oxygen \".oxy\" last no hash\n",
    "                '''.format(uvb_dict[uvb], log_hdens)\n",
    "\n",
    "            with open(rootdir+'PI/PIE/{}/z=1/log_hdens={}/PIE_frac.in'.format(uvb, log_hdens), 'w') as f:\n",
    "                f.write(s)\n",
    "\n",
    "            print('cd {}/z=1/log_hdens={}; ./run.sh PIE_frac; cd ../../..'.format(uvb,\n",
    "                                                                                  log_hdens))\n",
    "    print('')\n",
    "    print('')"
   ]
  },
  {
   "cell_type": "markdown",
   "id": "4a510a14",
   "metadata": {},
   "source": [
    "# PIE (at fixed ionization parameters)"
   ]
  },
  {
   "cell_type": "code",
   "execution_count": 34,
   "id": "caf458d4",
   "metadata": {},
   "outputs": [],
   "source": [
    "logU_list = ['-3.07', '-2.07', '-1.07']\n",
    "\n",
    "# For a given logU, assuming a UVB, density can be calculated\n",
    "log_hdens_dict = {'-3.07':{'fg20':'-2','hm12':'-2.24','ks19':'-1.96'},\n",
    "                  '-2.07':{'fg20':'-3','hm12':'-3.24','ks19':'-2.96'},\n",
    "                  '-1.07':{'fg20':'-4','hm12':'-4.24','ks19':'-3.96'}}"
   ]
  },
  {
   "cell_type": "code",
   "execution_count": 35,
   "id": "84f4a659",
   "metadata": {},
   "outputs": [
    {
     "name": "stdout",
     "output_type": "stream",
     "text": [
      "cd hm12/z=1/logU=-3.07; ./run.sh PIE_frac; cd ../../..\n",
      "cd hm12/z=1/logU=-2.07; ./run.sh PIE_frac; cd ../../..\n",
      "cd hm12/z=1/logU=-1.07; ./run.sh PIE_frac; cd ../../..\n",
      "\n",
      "\n"
     ]
    }
   ],
   "source": [
    "for uvb in list(uvb_dict.keys()):\n",
    "    for logU in logU_list:\n",
    "\n",
    "            s = '''cmb z=1\n",
    "table {} z=1\n",
    "coronal 6 vary\n",
    "grid 4 8 0.02\n",
    "metal -1\n",
    "stop column density 15\n",
    "set dr 0\n",
    "stop zone 1\n",
    "hden {}\n",
    "iterate 2\n",
    "double  ## mimic two-sided photoionization\n",
    "set save prefix \"PIE_frac\"\n",
    "save grid \".grd\"\n",
    "save element hydrogen \".hyd\" last no hash\n",
    "save element carbon \".carb\" last no hash\n",
    "save element nitrogen \".nit\" last no hash\n",
    "save element oxygen \".oxy\" last no hash\n",
    "                '''.format(uvb_dict[uvb], log_hdens_dict[logU][uvb])\n",
    "\n",
    "            with open(rootdir+'PI/PIE/{}/z=1/logU={}/PIE_frac.in'.format(uvb, \n",
    "                                                                                   logU), 'w') as f:\n",
    "                f.write(s)\n",
    "\n",
    "            print('cd {}/z=1/logU={}; ./run.sh PIE_frac; cd ../../..'.format(uvb,\n",
    "                                                                                      logU))\n",
    "    print('')\n",
    "    print('')"
   ]
  },
  {
   "cell_type": "markdown",
   "id": "924815ab",
   "metadata": {},
   "source": [
    "# TDP (with fixed densities)"
   ]
  },
  {
   "cell_type": "code",
   "execution_count": 7,
   "id": "0ff86ebc",
   "metadata": {
    "scrolled": false
   },
   "outputs": [
    {
     "name": "stdout",
     "output_type": "stream",
     "text": [
      "cd fg20/z=1/log_metals=-2.6/log_hdens=-5.0/T0=3e6K; chmod u+x run.sh; ./run.sh isochoric_cool; cd ../../../../..\n",
      "cd fg20/z=1/log_metals=-2.4/log_hdens=-5.0/T0=3e6K; chmod u+x run.sh; ./run.sh isochoric_cool; cd ../../../../..\n",
      "cd fg20/z=1/log_metals=-2.2/log_hdens=-5.0/T0=3e6K; chmod u+x run.sh; ./run.sh isochoric_cool; cd ../../../../..\n",
      "cd fg20/z=1/log_metals=-2.0/log_hdens=-5.0/T0=3e6K; chmod u+x run.sh; ./run.sh isochoric_cool; cd ../../../../..\n",
      "cd fg20/z=1/log_metals=-1.8/log_hdens=-5.0/T0=3e6K; chmod u+x run.sh; ./run.sh isochoric_cool; cd ../../../../..\n",
      "cd fg20/z=1/log_metals=-1.6/log_hdens=-5.0/T0=3e6K; chmod u+x run.sh; ./run.sh isochoric_cool; cd ../../../../..\n",
      "cd fg20/z=1/log_metals=-1.4/log_hdens=-5.0/T0=3e6K; chmod u+x run.sh; ./run.sh isochoric_cool; cd ../../../../..\n",
      "cd fg20/z=1/log_metals=-1.2/log_hdens=-5.0/T0=3e6K; chmod u+x run.sh; ./run.sh isochoric_cool; cd ../../../../..\n",
      "cd fg20/z=1/log_metals=-1.0/log_hdens=-5.0/T0=3e6K; chmod u+x run.sh; ./run.sh isochoric_cool; cd ../../../../..\n",
      "cd fg20/z=1/log_metals=-0.8/log_hdens=-5.0/T0=3e6K; chmod u+x run.sh; ./run.sh isochoric_cool; cd ../../../../..\n",
      "cd fg20/z=1/log_metals=-0.6/log_hdens=-5.0/T0=3e6K; chmod u+x run.sh; ./run.sh isochoric_cool; cd ../../../../..\n",
      "cd fg20/z=1/log_metals=-0.4/log_hdens=-5.0/T0=3e6K; chmod u+x run.sh; ./run.sh isochoric_cool; cd ../../../../..\n",
      "cd fg20/z=1/log_metals=-0.2/log_hdens=-5.0/T0=3e6K; chmod u+x run.sh; ./run.sh isochoric_cool; cd ../../../../..\n",
      "cd fg20/z=1/log_metals=0.0/log_hdens=-5.0/T0=3e6K; chmod u+x run.sh; ./run.sh isochoric_cool; cd ../../../../..\n",
      "cd fg20/z=1/log_metals=0.2/log_hdens=-5.0/T0=3e6K; chmod u+x run.sh; ./run.sh isochoric_cool; cd ../../../../..\n",
      "cd fg20/z=1/log_metals=0.4/log_hdens=-5.0/T0=3e6K; chmod u+x run.sh; ./run.sh isochoric_cool; cd ../../../../..\n",
      "cd fg20/z=1/log_metals=0.6/log_hdens=-5.0/T0=3e6K; chmod u+x run.sh; ./run.sh isochoric_cool; cd ../../../../..\n",
      "cd fg20/z=1/log_metals=0.8/log_hdens=-5.0/T0=3e6K; chmod u+x run.sh; ./run.sh isochoric_cool; cd ../../../../..\n",
      "cd fg20/z=1/log_metals=1.0/log_hdens=-5.0/T0=3e6K; chmod u+x run.sh; ./run.sh isochoric_cool; cd ../../../../..\n"
     ]
    }
   ],
   "source": [
    "for uvb in list(uvb_dict.keys()):\n",
    "    for log_metals in log_metals_list:\n",
    "        for log_hdens in log_hdens_list:\n",
    "            for T0 in T0_list:\n",
    "\n",
    "                s = '''cmb z=1\n",
    "table {} z=1\n",
    "coronal {} K init time\n",
    "hden {} log\n",
    "metal {} log\n",
    "set dr 0\n",
    "set nend 1\n",
    "stop zone 1\n",
    "iterate 400\n",
    "stop time when temperature falls below 1e4 K\n",
    "double  ## mimic two-sided photoionization\n",
    "#\n",
    "# commands controlling output =========\n",
    "set cumulative mass\n",
    "set trimming off\n",
    "set save prefix \"cd-cool-1keV\"\n",
    "save time dependent \".tim\" no hash\n",
    "save element hydrogen \".hyd\" no hash\n",
    "save element helium \".hel\" no hash\n",
    "save element carbon \".carb\" no hash\n",
    "save element nitrogen \".nit\" no hash\n",
    "save element oxygen \".oxy\" no hash\n",
    "save element silicon \".sil\" no hash\n",
    "save element magnesium \".mag\" no hash\n",
    "save element neon \".neo\" no hash\n",
    "save element sulphur \".sul\" no hash\n",
    "save cooling \".cool\" no hash\n",
    "save gammas \".gam\" no hash\n",
    "                    '''.format(uvb_dict[uvb], T0, log_hdens, log_metals)\n",
    "    \n",
    "                Path(rootdir+'PI/TDP_isochoric/{}/z=1/log_metals={}/log_hdens={}/T0={}K'.format(uvb, log_metals, log_hdens, T0)).mkdir(parents=True, exist_ok=True)\n",
    "\n",
    "                with open(rootdir+'PI/TDP_isochoric/{}/z=1/log_metals={}/log_hdens={}/T0={}K/isochoric_cool.in'.format(uvb, log_metals, log_hdens, T0), 'w') as f:\n",
    "                    f.write(s)\n",
    "                    \n",
    "                with open(rootdir+'PI/TDP_isochoric/{}/z=1/log_metals={}/log_hdens={}/T0={}K/run.sh'.format(uvb, log_metals, log_hdens, T0), 'w') as f:\n",
    "                    f.write('/Users/thepoetoftwilight/Documents/CUBS/c22.01/source/cloudy.exe -r $1')                \n",
    "\n",
    "                print('cd {}/z=1/log_metals={}/log_hdens={}/T0={}K; chmod u+x run.sh; ./run.sh isochoric_cool; cd ../../../../..'.format(uvb,\n",
    "                                                                                                       log_metals,\n",
    "                                                                                                       log_hdens,\n",
    "                                                                                                       T0))\n",
    "        #print('')\n",
    "        #print('')"
   ]
  },
  {
   "cell_type": "markdown",
   "id": "0ea4be8e",
   "metadata": {},
   "source": [
    "# TDP (with fixed ionization parameters)"
   ]
  },
  {
   "cell_type": "code",
   "execution_count": 13,
   "id": "3aa571ab",
   "metadata": {},
   "outputs": [
    {
     "name": "stdout",
     "output_type": "stream",
     "text": [
      "cd hm12/log_metals=0/logU=-3.07/T0=1e8K; ./run.sh isochoric_cool; cd ../../../..\n",
      "cd hm12/log_metals=0/logU=-3.07/T0=3e6K; ./run.sh isochoric_cool; cd ../../../..\n",
      "cd hm12/log_metals=0/logU=-3.07/T0=1e6K; ./run.sh isochoric_cool; cd ../../../..\n",
      "cd hm12/log_metals=0/logU=-3.07/T0=2e5K; ./run.sh isochoric_cool; cd ../../../..\n",
      "cd hm12/log_metals=0/logU=-2.07/T0=1e8K; ./run.sh isochoric_cool; cd ../../../..\n",
      "cd hm12/log_metals=0/logU=-2.07/T0=3e6K; ./run.sh isochoric_cool; cd ../../../..\n",
      "cd hm12/log_metals=0/logU=-2.07/T0=1e6K; ./run.sh isochoric_cool; cd ../../../..\n",
      "cd hm12/log_metals=0/logU=-2.07/T0=2e5K; ./run.sh isochoric_cool; cd ../../../..\n",
      "cd hm12/log_metals=0/logU=-1.07/T0=1e8K; ./run.sh isochoric_cool; cd ../../../..\n",
      "cd hm12/log_metals=0/logU=-1.07/T0=3e6K; ./run.sh isochoric_cool; cd ../../../..\n",
      "cd hm12/log_metals=0/logU=-1.07/T0=1e6K; ./run.sh isochoric_cool; cd ../../../..\n",
      "cd hm12/log_metals=0/logU=-1.07/T0=2e5K; ./run.sh isochoric_cool; cd ../../../..\n",
      "\n",
      "\n",
      "cd ks19/log_metals=0/logU=-3.07/T0=1e8K; ./run.sh isochoric_cool; cd ../../../..\n",
      "cd ks19/log_metals=0/logU=-3.07/T0=3e6K; ./run.sh isochoric_cool; cd ../../../..\n",
      "cd ks19/log_metals=0/logU=-3.07/T0=1e6K; ./run.sh isochoric_cool; cd ../../../..\n",
      "cd ks19/log_metals=0/logU=-3.07/T0=2e5K; ./run.sh isochoric_cool; cd ../../../..\n",
      "cd ks19/log_metals=0/logU=-2.07/T0=1e8K; ./run.sh isochoric_cool; cd ../../../..\n",
      "cd ks19/log_metals=0/logU=-2.07/T0=3e6K; ./run.sh isochoric_cool; cd ../../../..\n",
      "cd ks19/log_metals=0/logU=-2.07/T0=1e6K; ./run.sh isochoric_cool; cd ../../../..\n",
      "cd ks19/log_metals=0/logU=-2.07/T0=2e5K; ./run.sh isochoric_cool; cd ../../../..\n",
      "cd ks19/log_metals=0/logU=-1.07/T0=1e8K; ./run.sh isochoric_cool; cd ../../../..\n",
      "cd ks19/log_metals=0/logU=-1.07/T0=3e6K; ./run.sh isochoric_cool; cd ../../../..\n",
      "cd ks19/log_metals=0/logU=-1.07/T0=1e6K; ./run.sh isochoric_cool; cd ../../../..\n",
      "cd ks19/log_metals=0/logU=-1.07/T0=2e5K; ./run.sh isochoric_cool; cd ../../../..\n",
      "\n",
      "\n",
      "cd fg20/log_metals=0/logU=-3.07/T0=1e8K; ./run.sh isochoric_cool; cd ../../../..\n",
      "cd fg20/log_metals=0/logU=-3.07/T0=3e6K; ./run.sh isochoric_cool; cd ../../../..\n",
      "cd fg20/log_metals=0/logU=-3.07/T0=1e6K; ./run.sh isochoric_cool; cd ../../../..\n",
      "cd fg20/log_metals=0/logU=-3.07/T0=2e5K; ./run.sh isochoric_cool; cd ../../../..\n",
      "cd fg20/log_metals=0/logU=-2.07/T0=1e8K; ./run.sh isochoric_cool; cd ../../../..\n",
      "cd fg20/log_metals=0/logU=-2.07/T0=3e6K; ./run.sh isochoric_cool; cd ../../../..\n",
      "cd fg20/log_metals=0/logU=-2.07/T0=1e6K; ./run.sh isochoric_cool; cd ../../../..\n",
      "cd fg20/log_metals=0/logU=-2.07/T0=2e5K; ./run.sh isochoric_cool; cd ../../../..\n",
      "cd fg20/log_metals=0/logU=-1.07/T0=1e8K; ./run.sh isochoric_cool; cd ../../../..\n",
      "cd fg20/log_metals=0/logU=-1.07/T0=3e6K; ./run.sh isochoric_cool; cd ../../../..\n",
      "cd fg20/log_metals=0/logU=-1.07/T0=1e6K; ./run.sh isochoric_cool; cd ../../../..\n",
      "cd fg20/log_metals=0/logU=-1.07/T0=2e5K; ./run.sh isochoric_cool; cd ../../../..\n",
      "\n",
      "\n"
     ]
    }
   ],
   "source": [
    "for uvb in list(uvb_dict.keys()):\n",
    "    for log_metals in log_metals_list:\n",
    "        for logU in logU_list:\n",
    "            for T0 in T0_list:\n",
    "\n",
    "                s = '''cmb z=1\n",
    "table {} z=1\n",
    "coronal {} K init time\n",
    "hden {} log\n",
    "metal {}\n",
    "set dr 0\n",
    "set nend 1\n",
    "stop zone 1\n",
    "iterate 400\n",
    "stop time when temperature falls below 1e4 K\n",
    "double  ## mimic two-sided photoionization\n",
    "#\n",
    "# commands controlling output =========\n",
    "set cumulative mass\n",
    "set trimming off\n",
    "set save prefix \"cd-cool-1keV\"\n",
    "save time dependent \".tim\" no hash\n",
    "save element hydrogen \".hyd\" no hash\n",
    "save element oxygen \".oxy\" no hash\n",
    "save element carbon \".carb\" no hash\n",
    "save element nitrogen \".nit\" no hash\n",
    "save cooling \".cool\" no hash\n",
    "save gammas \".gam\" no hash\n",
    "                    '''.format(uvb_dict[uvb], T0, log_hdens_dict[logU][uvb], log_metals)\n",
    "    \n",
    "                with open(rootdir+'PI/TDP/{}/log_metals={}/logU={}/T0={}K/isochoric_cool.in'.format(uvb, \n",
    "                                                                                                         log_metals, \n",
    "                                                                                                         logU, \n",
    "                                                                                                         T0), 'w') as f:\n",
    "                    f.write(s)\n",
    "\n",
    "                print('cd {}/log_metals={}/logU={}/T0={}K; ./run.sh isochoric_cool; cd ../../../..'.format(uvb,\n",
    "                                                                                                       log_metals,\n",
    "                                                                                                       logU,\n",
    "                                                                                                       T0))\n",
    "        print('')\n",
    "    print('')"
   ]
  },
  {
   "cell_type": "code",
   "execution_count": null,
   "id": "a6fd5c02",
   "metadata": {},
   "outputs": [],
   "source": []
  }
 ],
 "metadata": {
  "kernelspec": {
   "display_name": "Python 3 (ipykernel)",
   "language": "python",
   "name": "python3"
  },
  "language_info": {
   "codemirror_mode": {
    "name": "ipython",
    "version": 3
   },
   "file_extension": ".py",
   "mimetype": "text/x-python",
   "name": "python",
   "nbconvert_exporter": "python",
   "pygments_lexer": "ipython3",
   "version": "3.9.13"
  }
 },
 "nbformat": 4,
 "nbformat_minor": 5
}
