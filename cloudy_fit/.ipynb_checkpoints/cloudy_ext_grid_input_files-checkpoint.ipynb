{
 "cells": [
  {
   "cell_type": "code",
   "execution_count": 1,
   "id": "441450c5",
   "metadata": {},
   "outputs": [],
   "source": [
    "import numpy as np\n",
    "from astropy.table import Table\n",
    "import matplotlib.pyplot as plt\n",
    "import pandas as pd"
   ]
  },
  {
   "cell_type": "markdown",
   "id": "96efb79c",
   "metadata": {},
   "source": [
    "Enter the directory within which to write the CLOUDY input files"
   ]
  },
  {
   "cell_type": "code",
   "execution_count": 2,
   "id": "0659f943",
   "metadata": {},
   "outputs": [],
   "source": [
    "writedir = '/Users/thepoetoftwilight/Documents/CUBS/Data/PG1522+101/cloudy_grids/ext_grid/'"
   ]
  },
  {
   "cell_type": "code",
   "execution_count": 3,
   "id": "04f06aa4",
   "metadata": {},
   "outputs": [],
   "source": [
    "# Specify parameters for input files\n",
    "z = 1\n",
    "\n",
    "# Discrete grid points\n",
    "grid_points = np.array([[16.  , -4.25,  1.  ],\n",
    "       [16.25, -5.  ,  1.  ],\n",
    "       [16.25, -4.75,  1.  ],\n",
    "       [16.25, -4.5 ,  1.  ],\n",
    "       [16.25, -4.25,  1.  ],\n",
    "       [16.5 , -5.  ,  0.75],\n",
    "       [16.5 , -5.  ,  1.  ],\n",
    "       [16.5 , -4.75,  0.75],\n",
    "       [16.5 , -4.75,  1.  ],\n",
    "       [16.5 , -4.5 ,  1.  ],\n",
    "       [16.5 , -4.25,  1.  ],\n",
    "       [16.75, -5.  ,  0.75],\n",
    "       [16.75, -5.  ,  1.  ],\n",
    "       [16.75, -4.75,  0.75],\n",
    "       [16.75, -4.75,  1.  ],\n",
    "       [16.75, -4.5 ,  0.75],\n",
    "       [16.75, -4.5 ,  1.  ],\n",
    "       [16.75, -4.25,  1.  ],\n",
    "       [17.  , -5.  ,  0.75],\n",
    "       [17.  , -5.  ,  1.  ],\n",
    "       [17.  , -4.75,  0.75],\n",
    "       [17.  , -4.75,  1.  ],\n",
    "       [17.  , -4.5 ,  0.75],\n",
    "       [17.  , -4.5 ,  1.  ],\n",
    "       [17.  , -4.25,  1.  ]])"
   ]
  },
  {
   "cell_type": "code",
   "execution_count": 4,
   "id": "3c332fb5",
   "metadata": {},
   "outputs": [],
   "source": [
    "for gp in grid_points:\n",
    "    \n",
    "    N_HI, hdens, metals = gp\n",
    "    \n",
    "    N_HI_str = '{:.2f}'.format(N_HI).replace('.','')\n",
    "    hdens_str = '{:.2f}'.format(hdens).replace('.','')\n",
    "    metals_str = '{:.2f}'.format(metals).replace('.','')\n",
    "\n",
    "    with open(writedir+'igm_lalpha_hm12_grid_{}_{}_{}.in'.format(N_HI_str, hdens_str, metals_str), 'w') as f:\n",
    "        f.write('title Ly alpha forest cloud\\n')\n",
    "        f.write('cmb z={}\\n'.format(z))\n",
    "        f.write('table hm12 z={}\\n'.format(z))\n",
    "        f.write('hden {} LOG\\n'.format(hdens))\n",
    "        f.write('metals {} vary\\n'.format(metals))\n",
    "        f.write('stop neutral column density {}\\n'.format(N_HI))\n",
    "        f.write('stop temperature 10000\\n')\n",
    "        f.write('double  ## mimic two-sided photoionization\\n')\n",
    "        f.write('iterate to convergence ## must iterate since optically thin\\n')\n",
    "        f.write('# commands controlling output    =========\\n')\n",
    "        f.write('print line faint -1\\n')\n",
    "        f.write('set save prefix \"igm_lalpha_hm12_grid_{}_{}_{}\"\\n'.format(N_HI_str, hdens_str, metals_str))\n",
    "        f.write('save species column density last \".col\" all\\n')\n",
    "        f.write('save averages \".avr\" last no clobber\\n')\n",
    "        f.write('temperature, hydrogen 1 over radius\\n')\n",
    "        f.write('end of averages')"
   ]
  },
  {
   "cell_type": "code",
   "execution_count": 5,
   "id": "f535ed27",
   "metadata": {},
   "outputs": [
    {
     "name": "stdout",
     "output_type": "stream",
     "text": [
      "./run.sh igm_lalpha_hm12_grid_1600_-425_100\n",
      "./run.sh igm_lalpha_hm12_grid_1625_-500_100\n",
      "./run.sh igm_lalpha_hm12_grid_1625_-475_100\n",
      "./run.sh igm_lalpha_hm12_grid_1625_-450_100\n",
      "./run.sh igm_lalpha_hm12_grid_1625_-425_100\n",
      "./run.sh igm_lalpha_hm12_grid_1650_-500_075\n",
      "./run.sh igm_lalpha_hm12_grid_1650_-500_100\n",
      "./run.sh igm_lalpha_hm12_grid_1650_-475_075\n",
      "./run.sh igm_lalpha_hm12_grid_1650_-475_100\n",
      "./run.sh igm_lalpha_hm12_grid_1650_-450_100\n",
      "./run.sh igm_lalpha_hm12_grid_1650_-425_100\n",
      "./run.sh igm_lalpha_hm12_grid_1675_-500_075\n",
      "./run.sh igm_lalpha_hm12_grid_1675_-500_100\n",
      "./run.sh igm_lalpha_hm12_grid_1675_-475_075\n",
      "./run.sh igm_lalpha_hm12_grid_1675_-475_100\n",
      "./run.sh igm_lalpha_hm12_grid_1675_-450_075\n",
      "./run.sh igm_lalpha_hm12_grid_1675_-450_100\n",
      "./run.sh igm_lalpha_hm12_grid_1675_-425_100\n",
      "./run.sh igm_lalpha_hm12_grid_1700_-500_075\n",
      "./run.sh igm_lalpha_hm12_grid_1700_-500_100\n",
      "./run.sh igm_lalpha_hm12_grid_1700_-475_075\n",
      "./run.sh igm_lalpha_hm12_grid_1700_-475_100\n",
      "./run.sh igm_lalpha_hm12_grid_1700_-450_075\n",
      "./run.sh igm_lalpha_hm12_grid_1700_-450_100\n",
      "./run.sh igm_lalpha_hm12_grid_1700_-425_100\n"
     ]
    }
   ],
   "source": [
    "for gp in grid_points:\n",
    "    \n",
    "    N_HI, hdens, metals = gp\n",
    "    \n",
    "    N_HI_str = '{:.2f}'.format(N_HI).replace('.','')\n",
    "    hdens_str = '{:.2f}'.format(hdens).replace('.','')\n",
    "    metals_str = '{:.2f}'.format(metals).replace('.','')\n",
    "    \n",
    "    print('./run.sh igm_lalpha_hm12_grid_{}_{}_{}'.format(N_HI_str, hdens_str, metals_str))"
   ]
  },
  {
   "cell_type": "code",
   "execution_count": null,
   "id": "8a0aa250",
   "metadata": {},
   "outputs": [],
   "source": []
  }
 ],
 "metadata": {
  "kernelspec": {
   "display_name": "Python 3 (ipykernel)",
   "language": "python",
   "name": "python3"
  },
  "language_info": {
   "codemirror_mode": {
    "name": "ipython",
    "version": 3
   },
   "file_extension": ".py",
   "mimetype": "text/x-python",
   "name": "python",
   "nbconvert_exporter": "python",
   "pygments_lexer": "ipython3",
   "version": "3.9.13"
  }
 },
 "nbformat": 4,
 "nbformat_minor": 5
}
