{
 "cells": [
  {
   "cell_type": "code",
   "execution_count": 1,
   "id": "2a7317c5",
   "metadata": {},
   "outputs": [],
   "source": [
    "import numpy as np\n",
    "from astropy.table import Table\n",
    "import matplotlib.pyplot as plt\n",
    "import pandas as pd\n",
    "from cloudy_fit_lib import *\n",
    "from scipy.interpolate import RegularGridInterpolator\n",
    "import pickle"
   ]
  },
  {
   "cell_type": "code",
   "execution_count": 2,
   "id": "04ca7126",
   "metadata": {},
   "outputs": [],
   "source": [
    "plt.style.use('/Users/thepoetoftwilight/Documents/CUBS/Code/science.mplstyle')"
   ]
  },
  {
   "cell_type": "code",
   "execution_count": 3,
   "id": "def6ee5a",
   "metadata": {},
   "outputs": [],
   "source": [
    "rootdir = ''"
   ]
  },
  {
   "cell_type": "markdown",
   "id": "a1c0fa68",
   "metadata": {},
   "source": [
    "Obtain the UVB grids for HM05, HM12, and FG20"
   ]
  },
  {
   "cell_type": "code",
   "execution_count": 4,
   "id": "e82a835a",
   "metadata": {},
   "outputs": [],
   "source": [
    "# Isolate data form HM05, HM12, FG20\n",
    "hm05_z_grid, hm05_wav_grid, hm05_J_nu_grid = read_uvb(rootdir, 'hm05_galaxy.ascii')\n",
    "hm12_z_grid, hm12_wav_grid, hm12_J_nu_grid = read_uvb(rootdir, 'hm12_galaxy.ascii')\n",
    "fg20_z_grid, fg20_wav_grid, fg20_J_nu_grid = read_uvb(rootdir, 'fg20_galaxy.ascii')"
   ]
  },
  {
   "cell_type": "markdown",
   "id": "7e1eef48",
   "metadata": {},
   "source": [
    "Compare calibration to Fakhri's 2018 paper"
   ]
  },
  {
   "cell_type": "code",
   "execution_count": 5,
   "id": "f1925b45",
   "metadata": {},
   "outputs": [],
   "source": [
    "z_test = 0.4\n",
    "\n",
    "# Fetch SEDs\n",
    "hm05_J_nu_test = fetch_sed(z_test, hm05_z_grid, hm05_J_nu_grid)"
   ]
  },
  {
   "cell_type": "code",
   "execution_count": 6,
   "id": "768bc6ec",
   "metadata": {},
   "outputs": [
    {
     "data": {
      "text/plain": [
       "-5.4542699846341245"
      ]
     },
     "execution_count": 6,
     "metadata": {},
     "output_type": "execute_result"
    }
   ],
   "source": [
    "np.log10(calc_U(hm05_wav_grid, hm05_J_nu_test, 1))"
   ]
  },
  {
   "cell_type": "code",
   "execution_count": 7,
   "id": "b41e5685",
   "metadata": {},
   "outputs": [
    {
     "data": {
      "text/plain": [
       "-3.454269984634125"
      ]
     },
     "execution_count": 7,
     "metadata": {},
     "output_type": "execute_result"
    }
   ],
   "source": [
    "np.log10(calc_U(hm05_wav_grid, hm05_J_nu_test, 0.01))"
   ]
  },
  {
   "cell_type": "code",
   "execution_count": 8,
   "id": "d5e0e67d",
   "metadata": {},
   "outputs": [],
   "source": [
    "#constants.c.value*constants.Ryd.value"
   ]
  },
  {
   "cell_type": "code",
   "execution_count": 9,
   "id": "d8d39f26",
   "metadata": {},
   "outputs": [],
   "source": [
    "z_test = 0.4\n",
    "\n",
    "# Fetch SEDs\n",
    "hm12_J_nu_test = fetch_sed(z_test, hm12_z_grid, hm12_J_nu_grid)\n",
    "\n",
    "# Invert the density for the threshold ionization parameter\n",
    "#hm12_n_th_grid = calc_n_H(hm12_wav_grid, hm12_J_nu_test, U_th)"
   ]
  },
  {
   "cell_type": "code",
   "execution_count": 10,
   "id": "4a3ec660",
   "metadata": {},
   "outputs": [
    {
     "data": {
      "text/plain": [
       "-5.8637348270216565"
      ]
     },
     "execution_count": 10,
     "metadata": {},
     "output_type": "execute_result"
    }
   ],
   "source": [
    "np.log10(calc_U(hm12_wav_grid, hm12_J_nu_test, 1))"
   ]
  },
  {
   "cell_type": "code",
   "execution_count": 11,
   "id": "e665ff7d",
   "metadata": {},
   "outputs": [
    {
     "data": {
      "text/plain": [
       "-3.863734827021657"
      ]
     },
     "execution_count": 11,
     "metadata": {},
     "output_type": "execute_result"
    }
   ],
   "source": [
    "np.log10(calc_U(hm12_wav_grid, hm12_J_nu_test, 0.01))"
   ]
  },
  {
   "cell_type": "markdown",
   "id": "61605fc0",
   "metadata": {},
   "source": [
    "Compare HM12 ionizing photon densities"
   ]
  },
  {
   "cell_type": "code",
   "execution_count": 22,
   "id": "1341ead2",
   "metadata": {},
   "outputs": [],
   "source": [
    "z_test_grid = np.array([0, 0.5, 1, 2, 3])"
   ]
  },
  {
   "cell_type": "code",
   "execution_count": 23,
   "id": "c8402256",
   "metadata": {},
   "outputs": [],
   "source": [
    "n_gamma_grid = np.zeros(len(z_test_grid))"
   ]
  },
  {
   "cell_type": "code",
   "execution_count": 24,
   "id": "b34856e0",
   "metadata": {},
   "outputs": [],
   "source": [
    "for i in range(len(z_test_grid)):\n",
    "    \n",
    "    z_test = z_test_grid[i]\n",
    "    \n",
    "    hm12_J_nu_test = fetch_sed(z_test, hm12_z_grid, hm12_J_nu_grid)\n",
    "\n",
    "    n_gamma_grid[i] = calc_n_H(hm12_wav_grid, hm12_J_nu_test, 1)"
   ]
  },
  {
   "cell_type": "code",
   "execution_count": 25,
   "id": "953ecc1d",
   "metadata": {},
   "outputs": [
    {
     "data": {
      "text/plain": [
       "array([3.11222727e-07, 1.67080799e-06, 4.96195152e-06, 1.20953907e-05,\n",
       "       1.00636226e-05])"
      ]
     },
     "execution_count": 25,
     "metadata": {},
     "output_type": "execute_result"
    }
   ],
   "source": [
    "n_gamma_grid"
   ]
  },
  {
   "cell_type": "code",
   "execution_count": 32,
   "id": "25967ae7",
   "metadata": {},
   "outputs": [],
   "source": [
    "n_gamma_grid_G17 = np.array([4.2e-6, 2.2e-5, 7.8e-5, 1.6e-4, 1.4e-4])"
   ]
  },
  {
   "cell_type": "code",
   "execution_count": 33,
   "id": "237e27d9",
   "metadata": {},
   "outputs": [
    {
     "data": {
      "text/plain": [
       "array([13.49515838, 13.16728201, 15.71962155, 13.22817956, 13.91149153])"
      ]
     },
     "execution_count": 33,
     "metadata": {},
     "output_type": "execute_result"
    }
   ],
   "source": [
    "n_gamma_grid_G17/n_gamma_grid"
   ]
  },
  {
   "cell_type": "markdown",
   "id": "19d66de4",
   "metadata": {},
   "source": [
    "Calculate ionization parameter for $n_\\mathrm{H} = 10^{-5}$"
   ]
  },
  {
   "cell_type": "code",
   "execution_count": 34,
   "id": "4b2c292a",
   "metadata": {},
   "outputs": [],
   "source": [
    "z_test = 0\n",
    "\n",
    "# Fetch SEDs\n",
    "hm05_J_nu_test = fetch_sed(z_test, hm05_z_grid, hm05_J_nu_grid)\n",
    "hm12_J_nu_test = fetch_sed(z_test, hm12_z_grid, hm12_J_nu_grid)\n",
    "fg20_J_nu_test = fetch_sed(z_test, fg20_z_grid, fg20_J_nu_grid)\n",
    "\n",
    "# Get threshold ionization parameters\n",
    "hm05_U_th = calc_U(hm05_wav_grid, hm05_J_nu_test, 1e-5)\n",
    "hm12_U_th = calc_U(hm12_wav_grid, hm12_J_nu_test, 1e-5)\n",
    "fg20_U_th = calc_U(fg20_wav_grid, fg20_J_nu_test, 1e-5)"
   ]
  },
  {
   "cell_type": "code",
   "execution_count": 35,
   "id": "596e0632",
   "metadata": {},
   "outputs": [
    {
     "data": {
      "text/plain": [
       "(0.09731892306976635, 0.03112227274925912, 0.04202585639547854)"
      ]
     },
     "execution_count": 35,
     "metadata": {},
     "output_type": "execute_result"
    }
   ],
   "source": [
    "hm05_U_th, hm12_U_th, fg20_U_th"
   ]
  },
  {
   "cell_type": "markdown",
   "id": "c7bdc7db",
   "metadata": {},
   "source": [
    "Calculate density scaling for all radiation fields"
   ]
  },
  {
   "cell_type": "code",
   "execution_count": 36,
   "id": "41879e8a",
   "metadata": {},
   "outputs": [],
   "source": [
    "hm05_n_th_grid = np.zeros(len(hm05_z_grid))\n",
    "hm12_n_th_grid = np.zeros(len(hm12_z_grid))\n",
    "fg20_n_th_grid = np.zeros(len(fg20_z_grid))"
   ]
  },
  {
   "cell_type": "code",
   "execution_count": 37,
   "id": "c4af3012",
   "metadata": {},
   "outputs": [],
   "source": [
    "for i in range(len(hm05_n_th_grid)):\n",
    "    \n",
    "    z_test = hm05_z_grid[i]\n",
    "    \n",
    "    hm05_J_nu_test = fetch_sed(z_test, hm05_z_grid, hm05_J_nu_grid)\n",
    "\n",
    "    hm05_n_th_grid[i] = calc_n_H(hm05_wav_grid, hm05_J_nu_test, hm05_U_th)"
   ]
  },
  {
   "cell_type": "code",
   "execution_count": 38,
   "id": "c55370fa",
   "metadata": {},
   "outputs": [],
   "source": [
    "for i in range(len(hm12_n_th_grid)):\n",
    "    \n",
    "    z_test = hm12_z_grid[i]\n",
    "    \n",
    "    hm12_J_nu_test = fetch_sed(z_test, hm12_z_grid, hm12_J_nu_grid)\n",
    "\n",
    "    hm12_n_th_grid[i] = calc_n_H(hm12_wav_grid, hm12_J_nu_test, hm12_U_th)"
   ]
  },
  {
   "cell_type": "code",
   "execution_count": 39,
   "id": "e21f14e3",
   "metadata": {},
   "outputs": [],
   "source": [
    "for i in range(len(fg20_n_th_grid)):\n",
    "    \n",
    "    z_test = fg20_z_grid[i]\n",
    "    \n",
    "    fg20_J_nu_test = fetch_sed(z_test, fg20_z_grid, fg20_J_nu_grid)\n",
    "\n",
    "    fg20_n_th_grid[i] = calc_n_H(fg20_wav_grid, fg20_J_nu_test, fg20_U_th)"
   ]
  },
  {
   "cell_type": "markdown",
   "id": "0bd2a1ae",
   "metadata": {},
   "source": [
    "Make the plot"
   ]
  },
  {
   "cell_type": "code",
   "execution_count": 40,
   "id": "67656ac2",
   "metadata": {},
   "outputs": [
    {
     "data": {
      "text/plain": [
       "Text(0, 0.5, '$n_\\\\mathrm{H, th} (U_\\\\mathrm{th})$')"
      ]
     },
     "execution_count": 40,
     "metadata": {},
     "output_type": "execute_result"
    },
    {
     "data": {
      "image/png": "[encoded data removed]",
      "text/plain": [
       "<Figure size 500x400 with 1 Axes>"
      ]
     },
     "metadata": {},
     "output_type": "display_data"
    }
   ],
   "source": [
    "fig, ax = plt.subplots(1, figsize=(5,4))\n",
    "\n",
    "ax.plot(hm05_z_grid, hm05_n_th_grid, label='HM05')\n",
    "ax.plot(hm12_z_grid, hm12_n_th_grid, label='HM12')\n",
    "ax.plot(fg20_z_grid, fg20_n_th_grid, label='FG20')\n",
    "\n",
    "ax.axvline(1, linestyle=':', color='gray')\n",
    "\n",
    "ax.set_xlim(0, 1.5)\n",
    "ax.set_ylim(10**-5.5, 10**-3)\n",
    "#ax.set_ylim(10**-5, 10**-3)\n",
    "\n",
    "ax.legend()\n",
    "\n",
    "ax.set_yscale('log')\n",
    "\n",
    "ax.set_xlabel(r'$z$')\n",
    "ax.set_ylabel(r'$n_\\mathrm{H, th} (U_{\\mathrm{th}, Z \\gtrsim Z_\\odot})$')"
   ]
  },
  {
   "cell_type": "code",
   "execution_count": null,
   "id": "4dfcf4b2",
   "metadata": {},
   "outputs": [],
   "source": []
  },
  {
   "cell_type": "code",
   "execution_count": null,
   "id": "a8f44f09",
   "metadata": {},
   "outputs": [],
   "source": []
  }
 ],
 "metadata": {
  "kernelspec": {
   "display_name": "Python 3 (ipykernel)",
   "language": "python",
   "name": "python3"
  },
  "language_info": {
   "codemirror_mode": {
    "name": "ipython",
    "version": 3
   },
   "file_extension": ".py",
   "mimetype": "text/x-python",
   "name": "python",
   "nbconvert_exporter": "python",
   "pygments_lexer": "ipython3",
   "version": "3.9.13"
  }
 },
 "nbformat": 4,
 "nbformat_minor": 5
}
